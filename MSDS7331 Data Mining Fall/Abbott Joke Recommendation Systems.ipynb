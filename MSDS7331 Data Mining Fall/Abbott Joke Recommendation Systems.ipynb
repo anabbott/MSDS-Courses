{
 "cells": [
  {
   "cell_type": "markdown",
   "metadata": {},
   "source": [
    "# Project 3: Recommender System"
   ]
  },
  {
   "cell_type": "markdown",
   "metadata": {},
   "source": [
    "Andrew Abbott  \n",
    "MSDS 7331  \n",
    "April 30, 2017  "
   ]
  },
  {
   "cell_type": "markdown",
   "metadata": {},
   "source": [
    "## Business Understanding:  \n",
    "  \n",
    "The goal of this recommender system is to give quality recommendations for jokes to a user using collaborative filtering in the GraphLab API."
   ]
  },
  {
   "cell_type": "markdown",
   "metadata": {},
   "source": [
    "The data comes from the Jester dataset and can be found at the following url:  \n",
    "http://eigentaste.berkeley.edu/dataset/\n",
    "\n",
    "Eigentaste: A Constant Time Collaborative Filtering Algorithm. Ken Goldberg, Theresa Roeder, Dhruv Gupta, and Chris Perkins. Information Retrieval, 4(2), 133-151. July 2001."
   ]
  },
  {
   "cell_type": "markdown",
   "metadata": {},
   "source": [
    "## Data Understanding:"
   ]
  },
  {
   "cell_type": "markdown",
   "metadata": {},
   "source": [
    "The dataset used contains over 1.7 million continuous ratings (-10.00 to +10.00) of 150 jokes from 59,132 users: collected between November 2006 - May 2009.\n",
    "\n",
    "The names have all been removed to protect the users' privacy."
   ]
  },
  {
   "cell_type": "markdown",
   "metadata": {},
   "source": [
    "The first step is to import the data set into Python. There are two files. Jester_ratings.dat contains user ID, an ID for the joke, and the user's rating of that joke. Jester_items.dat contains all of the jokes with their assigned item IDs."
   ]
  },
  {
   "cell_type": "code",
   "execution_count": 137,
   "metadata": {
    "collapsed": false
   },
   "outputs": [
    {
     "data": {
      "text/html": [
       "<div>\n",
       "<table border=\"1\" class=\"dataframe\">\n",
       "  <thead>\n",
       "    <tr style=\"text-align: right;\">\n",
       "      <th></th>\n",
       "      <th>User-ID</th>\n",
       "      <th>Item-ID</th>\n",
       "      <th>rating</th>\n",
       "    </tr>\n",
       "  </thead>\n",
       "  <tbody>\n",
       "    <tr>\n",
       "      <th>0</th>\n",
       "      <td>1</td>\n",
       "      <td>5</td>\n",
       "      <td>0.219</td>\n",
       "    </tr>\n",
       "    <tr>\n",
       "      <th>1</th>\n",
       "      <td>1</td>\n",
       "      <td>7</td>\n",
       "      <td>-9.281</td>\n",
       "    </tr>\n",
       "    <tr>\n",
       "      <th>2</th>\n",
       "      <td>1</td>\n",
       "      <td>8</td>\n",
       "      <td>-9.281</td>\n",
       "    </tr>\n",
       "    <tr>\n",
       "      <th>3</th>\n",
       "      <td>1</td>\n",
       "      <td>13</td>\n",
       "      <td>-6.781</td>\n",
       "    </tr>\n",
       "    <tr>\n",
       "      <th>4</th>\n",
       "      <td>1</td>\n",
       "      <td>15</td>\n",
       "      <td>0.875</td>\n",
       "    </tr>\n",
       "  </tbody>\n",
       "</table>\n",
       "</div>"
      ],
      "text/plain": [
       "   User-ID  Item-ID  rating\n",
       "0        1        5   0.219\n",
       "1        1        7  -9.281\n",
       "2        1        8  -9.281\n",
       "3        1       13  -6.781\n",
       "4        1       15   0.875"
      ]
     },
     "execution_count": 137,
     "metadata": {},
     "output_type": "execute_result"
    }
   ],
   "source": [
    "# Read ratings data from jester_ratings.dat\n",
    "import pandas as pd\n",
    "columns = ['User-ID', 'Item-ID', 'rating']\n",
    "df = pd.read_table('data/jester_ratings.dat', sep = '\\s+', names = columns)\n",
    "df.head()"
   ]
  },
  {
   "cell_type": "code",
   "execution_count": 138,
   "metadata": {
    "collapsed": false
   },
   "outputs": [
    {
     "data": {
      "text/html": [
       "<div>\n",
       "<table border=\"1\" class=\"dataframe\">\n",
       "  <thead>\n",
       "    <tr style=\"text-align: right;\">\n",
       "      <th></th>\n",
       "      <th>Item-ID</th>\n",
       "      <th>Joke</th>\n",
       "    </tr>\n",
       "  </thead>\n",
       "  <tbody>\n",
       "    <tr>\n",
       "      <th>0</th>\n",
       "      <td>1</td>\n",
       "      <td>A man visits the doctor. The doctor says, &amp;quo...</td>\n",
       "    </tr>\n",
       "    <tr>\n",
       "      <th>1</th>\n",
       "      <td>2</td>\n",
       "      <td>This couple had an excellent relationship goin...</td>\n",
       "    </tr>\n",
       "    <tr>\n",
       "      <th>2</th>\n",
       "      <td>3</td>\n",
       "      <td>Q. What&amp;#039;s 200 feet long and has 4 teeth?&lt;...</td>\n",
       "    </tr>\n",
       "    <tr>\n",
       "      <th>3</th>\n",
       "      <td>4</td>\n",
       "      <td>Q. What&amp;#039;s the difference between a man an...</td>\n",
       "    </tr>\n",
       "    <tr>\n",
       "      <th>4</th>\n",
       "      <td>5</td>\n",
       "      <td>Q. What&amp;#039;s O. J. Simpson&amp;#039;s web addres...</td>\n",
       "    </tr>\n",
       "  </tbody>\n",
       "</table>\n",
       "</div>"
      ],
      "text/plain": [
       "   Item-ID                                               Joke\n",
       "0        1  A man visits the doctor. The doctor says, &quo...\n",
       "1        2  This couple had an excellent relationship goin...\n",
       "2        3  Q. What&#039;s 200 feet long and has 4 teeth?<...\n",
       "3        4  Q. What&#039;s the difference between a man an...\n",
       "4        5  Q. What&#039;s O. J. Simpson&#039;s web addres..."
      ]
     },
     "execution_count": 138,
     "metadata": {},
     "output_type": "execute_result"
    }
   ],
   "source": [
    "# Read joke data from jester_items.dat\n",
    "import re\n",
    "with open('data/jester_items.dat','rU') as joke_data:\n",
    "    joke_set = dict()\n",
    "    joke_list = joke_data.read().split('\\n\\n')\n",
    "    for joke in joke_list[0:150]:\n",
    "        joke = joke.replace('\\n','')\n",
    "        joke = joke.replace('<p>','')\n",
    "        result = re.search(r'(\\d*?):(.*)', joke)\n",
    "        joke_set[int(result.group(1))] = result.group(2)\n",
    "        \n",
    "df2 = pd.DataFrame([[key,value] for key,value in joke_set.iteritems()],columns=['Item-ID','Joke'])\n",
    "df2.head()"
   ]
  },
  {
   "cell_type": "code",
   "execution_count": 60,
   "metadata": {
    "collapsed": false
   },
   "outputs": [
    {
     "data": {
      "text/html": [
       "<div>\n",
       "<table border=\"1\" class=\"dataframe\">\n",
       "  <thead>\n",
       "    <tr style=\"text-align: right;\">\n",
       "      <th></th>\n",
       "      <th>User-ID</th>\n",
       "      <th>Item-ID</th>\n",
       "      <th>rating</th>\n",
       "      <th>Joke</th>\n",
       "    </tr>\n",
       "  </thead>\n",
       "  <tbody>\n",
       "    <tr>\n",
       "      <th>0</th>\n",
       "      <td>1</td>\n",
       "      <td>5</td>\n",
       "      <td>0.219</td>\n",
       "      <td>Q. What&amp;#039;s O. J. Simpson&amp;#039;s web addres...</td>\n",
       "    </tr>\n",
       "    <tr>\n",
       "      <th>1</th>\n",
       "      <td>1</td>\n",
       "      <td>7</td>\n",
       "      <td>-9.281</td>\n",
       "      <td>How many feminists does it take to screw in a ...</td>\n",
       "    </tr>\n",
       "    <tr>\n",
       "      <th>2</th>\n",
       "      <td>1</td>\n",
       "      <td>8</td>\n",
       "      <td>-9.281</td>\n",
       "      <td>Q. Did you hear about the dyslexic devil worsh...</td>\n",
       "    </tr>\n",
       "    <tr>\n",
       "      <th>3</th>\n",
       "      <td>1</td>\n",
       "      <td>13</td>\n",
       "      <td>-6.781</td>\n",
       "      <td>They asked the Japanese visitor if they have e...</td>\n",
       "    </tr>\n",
       "    <tr>\n",
       "      <th>4</th>\n",
       "      <td>1</td>\n",
       "      <td>15</td>\n",
       "      <td>0.875</td>\n",
       "      <td>Q: What did the blind person say when given so...</td>\n",
       "    </tr>\n",
       "  </tbody>\n",
       "</table>\n",
       "</div>"
      ],
      "text/plain": [
       "   User-ID  Item-ID  rating                                               Joke\n",
       "0        1        5   0.219  Q. What&#039;s O. J. Simpson&#039;s web addres...\n",
       "1        1        7  -9.281  How many feminists does it take to screw in a ...\n",
       "2        1        8  -9.281  Q. Did you hear about the dyslexic devil worsh...\n",
       "3        1       13  -6.781  They asked the Japanese visitor if they have e...\n",
       "4        1       15   0.875  Q: What did the blind person say when given so..."
      ]
     },
     "execution_count": 60,
     "metadata": {},
     "output_type": "execute_result"
    }
   ],
   "source": [
    "dataframe = pd.merge(df, df2, how = 'left', on = 'Item-ID')\n",
    "dataframe.head()"
   ]
  },
  {
   "cell_type": "markdown",
   "metadata": {},
   "source": [
    "# Collaborative Filtering in Turi (formerly Dato, Formerly GraphLab)\n",
    "\n",
    "The following processes are manipulated versions of basic tutorials that were previously posted on the Dato website. They have here been based on the notebook provided by Dr. Eric Larsen of SMU.\n",
    "\n",
    "### The five line recommendation system (user-item)\n"
   ]
  },
  {
   "cell_type": "markdown",
   "metadata": {},
   "source": [
    "These 5 lines of code build a recommender system using GraphLab.\n",
    "The first line imports the GraphLab package. Next the data is loaded into an SFrame and renamed 'data'. The third lines builds a model using the User-ID field naturally as the user_id parameter and the Item-ID field as the item_id parameter, the rating is used as the target parameter. The fourth line saves the top 5 recommendation results for all users and the fifth line saves the model in a directory 'my_model'."
   ]
  },
  {
   "cell_type": "code",
   "execution_count": 32,
   "metadata": {
    "collapsed": false,
    "scrolled": false
   },
   "outputs": [
    {
     "name": "stderr",
     "output_type": "stream",
     "text": [
      "[INFO] graphlab.cython.cy_server: GraphLab Create v2.1 started. Logging: C:\\Users\\Abbott\\AppData\\Local\\Temp\\graphlab_server_1493571912.log.0\n"
     ]
    },
    {
     "name": "stdout",
     "output_type": "stream",
     "text": [
      "This non-commercial license of GraphLab Create for academic use is assigned to anabbott@smu.edu and will expire on April 23, 2018.\n"
     ]
    },
    {
     "data": {
      "text/html": [
       "<pre>Recsys training: model = ranking_factorization_recommender</pre>"
      ],
      "text/plain": [
       "Recsys training: model = ranking_factorization_recommender"
      ]
     },
     "metadata": {},
     "output_type": "display_data"
    },
    {
     "data": {
      "text/html": [
       "<pre>Preparing data set.</pre>"
      ],
      "text/plain": [
       "Preparing data set."
      ]
     },
     "metadata": {},
     "output_type": "display_data"
    },
    {
     "data": {
      "text/html": [
       "<pre>    Data has 1761439 observations with 59132 users and 140 items.</pre>"
      ],
      "text/plain": [
       "    Data has 1761439 observations with 59132 users and 140 items."
      ]
     },
     "metadata": {},
     "output_type": "display_data"
    },
    {
     "data": {
      "text/html": [
       "<pre>    Data prepared in: 1.99435s</pre>"
      ],
      "text/plain": [
       "    Data prepared in: 1.99435s"
      ]
     },
     "metadata": {},
     "output_type": "display_data"
    },
    {
     "data": {
      "text/html": [
       "<pre>Training ranking_factorization_recommender for recommendations.</pre>"
      ],
      "text/plain": [
       "Training ranking_factorization_recommender for recommendations."
      ]
     },
     "metadata": {},
     "output_type": "display_data"
    },
    {
     "data": {
      "text/html": [
       "<pre>+--------------------------------+--------------------------------------------------+----------+</pre>"
      ],
      "text/plain": [
       "+--------------------------------+--------------------------------------------------+----------+"
      ]
     },
     "metadata": {},
     "output_type": "display_data"
    },
    {
     "data": {
      "text/html": [
       "<pre>| Parameter                      | Description                                      | Value    |</pre>"
      ],
      "text/plain": [
       "| Parameter                      | Description                                      | Value    |"
      ]
     },
     "metadata": {},
     "output_type": "display_data"
    },
    {
     "data": {
      "text/html": [
       "<pre>+--------------------------------+--------------------------------------------------+----------+</pre>"
      ],
      "text/plain": [
       "+--------------------------------+--------------------------------------------------+----------+"
      ]
     },
     "metadata": {},
     "output_type": "display_data"
    },
    {
     "data": {
      "text/html": [
       "<pre>| num_factors                    | Factor Dimension                                 | 32       |</pre>"
      ],
      "text/plain": [
       "| num_factors                    | Factor Dimension                                 | 32       |"
      ]
     },
     "metadata": {},
     "output_type": "display_data"
    },
    {
     "data": {
      "text/html": [
       "<pre>| regularization                 | L2 Regularization on Factors                     | 1e-009   |</pre>"
      ],
      "text/plain": [
       "| regularization                 | L2 Regularization on Factors                     | 1e-009   |"
      ]
     },
     "metadata": {},
     "output_type": "display_data"
    },
    {
     "data": {
      "text/html": [
       "<pre>| solver                         | Solver used for training                         | adagrad  |</pre>"
      ],
      "text/plain": [
       "| solver                         | Solver used for training                         | adagrad  |"
      ]
     },
     "metadata": {},
     "output_type": "display_data"
    },
    {
     "data": {
      "text/html": [
       "<pre>| linear_regularization          | L2 Regularization on Linear Coefficients         | 1e-009   |</pre>"
      ],
      "text/plain": [
       "| linear_regularization          | L2 Regularization on Linear Coefficients         | 1e-009   |"
      ]
     },
     "metadata": {},
     "output_type": "display_data"
    },
    {
     "data": {
      "text/html": [
       "<pre>| ranking_regularization         | Rank-based Regularization Weight                 | 0.25     |</pre>"
      ],
      "text/plain": [
       "| ranking_regularization         | Rank-based Regularization Weight                 | 0.25     |"
      ]
     },
     "metadata": {},
     "output_type": "display_data"
    },
    {
     "data": {
      "text/html": [
       "<pre>| max_iterations                 | Maximum Number of Iterations                     | 25       |</pre>"
      ],
      "text/plain": [
       "| max_iterations                 | Maximum Number of Iterations                     | 25       |"
      ]
     },
     "metadata": {},
     "output_type": "display_data"
    },
    {
     "data": {
      "text/html": [
       "<pre>+--------------------------------+--------------------------------------------------+----------+</pre>"
      ],
      "text/plain": [
       "+--------------------------------+--------------------------------------------------+----------+"
      ]
     },
     "metadata": {},
     "output_type": "display_data"
    },
    {
     "data": {
      "text/html": [
       "<pre>  Optimizing model using SGD; tuning step size.</pre>"
      ],
      "text/plain": [
       "  Optimizing model using SGD; tuning step size."
      ]
     },
     "metadata": {},
     "output_type": "display_data"
    },
    {
     "data": {
      "text/html": [
       "<pre>  Using 220179 / 1761439 points for tuning the step size.</pre>"
      ],
      "text/plain": [
       "  Using 220179 / 1761439 points for tuning the step size."
      ]
     },
     "metadata": {},
     "output_type": "display_data"
    },
    {
     "data": {
      "text/html": [
       "<pre>+---------+-------------------+------------------------------------------+</pre>"
      ],
      "text/plain": [
       "+---------+-------------------+------------------------------------------+"
      ]
     },
     "metadata": {},
     "output_type": "display_data"
    },
    {
     "data": {
      "text/html": [
       "<pre>| Attempt | Initial Step Size | Estimated Objective Value                |</pre>"
      ],
      "text/plain": [
       "| Attempt | Initial Step Size | Estimated Objective Value                |"
      ]
     },
     "metadata": {},
     "output_type": "display_data"
    },
    {
     "data": {
      "text/html": [
       "<pre>+---------+-------------------+------------------------------------------+</pre>"
      ],
      "text/plain": [
       "+---------+-------------------+------------------------------------------+"
      ]
     },
     "metadata": {},
     "output_type": "display_data"
    },
    {
     "data": {
      "text/html": [
       "<pre>| 0       | 16.6667           | Not Viable                               |</pre>"
      ],
      "text/plain": [
       "| 0       | 16.6667           | Not Viable                               |"
      ]
     },
     "metadata": {},
     "output_type": "display_data"
    },
    {
     "data": {
      "text/html": [
       "<pre>| 1       | 4.16667           | 45.5154                                  |</pre>"
      ],
      "text/plain": [
       "| 1       | 4.16667           | 45.5154                                  |"
      ]
     },
     "metadata": {},
     "output_type": "display_data"
    },
    {
     "data": {
      "text/html": [
       "<pre>| 2       | 2.08333           | 34.6831                                  |</pre>"
      ],
      "text/plain": [
       "| 2       | 2.08333           | 34.6831                                  |"
      ]
     },
     "metadata": {},
     "output_type": "display_data"
    },
    {
     "data": {
      "text/html": [
       "<pre>| 3       | 1.04167           | 19.2191                                  |</pre>"
      ],
      "text/plain": [
       "| 3       | 1.04167           | 19.2191                                  |"
      ]
     },
     "metadata": {},
     "output_type": "display_data"
    },
    {
     "data": {
      "text/html": [
       "<pre>| 4       | 0.520833          | 1.46324                                  |</pre>"
      ],
      "text/plain": [
       "| 4       | 0.520833          | 1.46324                                  |"
      ]
     },
     "metadata": {},
     "output_type": "display_data"
    },
    {
     "data": {
      "text/html": [
       "<pre>| 5       | 0.260417          | 0.392743                                 |</pre>"
      ],
      "text/plain": [
       "| 5       | 0.260417          | 0.392743                                 |"
      ]
     },
     "metadata": {},
     "output_type": "display_data"
    },
    {
     "data": {
      "text/html": [
       "<pre>| 6       | 0.130208          | 0.890784                                 |</pre>"
      ],
      "text/plain": [
       "| 6       | 0.130208          | 0.890784                                 |"
      ]
     },
     "metadata": {},
     "output_type": "display_data"
    },
    {
     "data": {
      "text/html": [
       "<pre>+---------+-------------------+------------------------------------------+</pre>"
      ],
      "text/plain": [
       "+---------+-------------------+------------------------------------------+"
      ]
     },
     "metadata": {},
     "output_type": "display_data"
    },
    {
     "data": {
      "text/html": [
       "<pre>| Final   | 0.260417          | 0.392743                                 |</pre>"
      ],
      "text/plain": [
       "| Final   | 0.260417          | 0.392743                                 |"
      ]
     },
     "metadata": {},
     "output_type": "display_data"
    },
    {
     "data": {
      "text/html": [
       "<pre>+---------+-------------------+------------------------------------------+</pre>"
      ],
      "text/plain": [
       "+---------+-------------------+------------------------------------------+"
      ]
     },
     "metadata": {},
     "output_type": "display_data"
    },
    {
     "data": {
      "text/html": [
       "<pre>Starting Optimization.</pre>"
      ],
      "text/plain": [
       "Starting Optimization."
      ]
     },
     "metadata": {},
     "output_type": "display_data"
    },
    {
     "data": {
      "text/html": [
       "<pre>+---------+--------------+-------------------+-----------------------+-------------+</pre>"
      ],
      "text/plain": [
       "+---------+--------------+-------------------+-----------------------+-------------+"
      ]
     },
     "metadata": {},
     "output_type": "display_data"
    },
    {
     "data": {
      "text/html": [
       "<pre>| Iter.   | Elapsed Time | Approx. Objective | Approx. Training RMSE | Step Size   |</pre>"
      ],
      "text/plain": [
       "| Iter.   | Elapsed Time | Approx. Objective | Approx. Training RMSE | Step Size   |"
      ]
     },
     "metadata": {},
     "output_type": "display_data"
    },
    {
     "data": {
      "text/html": [
       "<pre>+---------+--------------+-------------------+-----------------------+-------------+</pre>"
      ],
      "text/plain": [
       "+---------+--------------+-------------------+-----------------------+-------------+"
      ]
     },
     "metadata": {},
     "output_type": "display_data"
    },
    {
     "data": {
      "text/html": [
       "<pre>| Initial | 0us          | 55.1131           | 5.30262               |             |</pre>"
      ],
      "text/plain": [
       "| Initial | 0us          | 55.1131           | 5.30262               |             |"
      ]
     },
     "metadata": {},
     "output_type": "display_data"
    },
    {
     "data": {
      "text/html": [
       "<pre>+---------+--------------+-------------------+-----------------------+-------------+</pre>"
      ],
      "text/plain": [
       "+---------+--------------+-------------------+-----------------------+-------------+"
      ]
     },
     "metadata": {},
     "output_type": "display_data"
    },
    {
     "data": {
      "text/html": [
       "<pre>| 1       | 2.07s        | 22.8057           | 4.59536               | 0.260417    |</pre>"
      ],
      "text/plain": [
       "| 1       | 2.07s        | 22.8057           | 4.59536               | 0.260417    |"
      ]
     },
     "metadata": {},
     "output_type": "display_data"
    },
    {
     "data": {
      "text/html": [
       "<pre>| 2       | 3.85s        | 12.6744           | 3.49267               | 0.260417    |</pre>"
      ],
      "text/plain": [
       "| 2       | 3.85s        | 12.6744           | 3.49267               | 0.260417    |"
      ]
     },
     "metadata": {},
     "output_type": "display_data"
    },
    {
     "data": {
      "text/html": [
       "<pre>| 3       | 5.56s        | 9.46283           | 3.04313               | 0.260417    |</pre>"
      ],
      "text/plain": [
       "| 3       | 5.56s        | 9.46283           | 3.04313               | 0.260417    |"
      ]
     },
     "metadata": {},
     "output_type": "display_data"
    },
    {
     "data": {
      "text/html": [
       "<pre>| 4       | 7.20s        | 7.9129            | 2.78992               | 0.260417    |</pre>"
      ],
      "text/plain": [
       "| 4       | 7.20s        | 7.9129            | 2.78992               | 0.260417    |"
      ]
     },
     "metadata": {},
     "output_type": "display_data"
    },
    {
     "data": {
      "text/html": [
       "<pre>| 5       | 8.83s        | 7.08276           | 2.64236               | 0.260417    |</pre>"
      ],
      "text/plain": [
       "| 5       | 8.83s        | 7.08276           | 2.64236               | 0.260417    |"
      ]
     },
     "metadata": {},
     "output_type": "display_data"
    },
    {
     "data": {
      "text/html": [
       "<pre>| 6       | 10.44s       | 6.61361           | 2.55499               | 0.260417    |</pre>"
      ],
      "text/plain": [
       "| 6       | 10.44s       | 6.61361           | 2.55499               | 0.260417    |"
      ]
     },
     "metadata": {},
     "output_type": "display_data"
    },
    {
     "data": {
      "text/html": [
       "<pre>| 7       | 12.06s       | 6.31988           | 2.499                 | 0.260417    |</pre>"
      ],
      "text/plain": [
       "| 7       | 12.06s       | 6.31988           | 2.499                 | 0.260417    |"
      ]
     },
     "metadata": {},
     "output_type": "display_data"
    },
    {
     "data": {
      "text/html": [
       "<pre>| 8       | 13.68s       | 6.1176            | 2.45941               | 0.260417    |</pre>"
      ],
      "text/plain": [
       "| 8       | 13.68s       | 6.1176            | 2.45941               | 0.260417    |"
      ]
     },
     "metadata": {},
     "output_type": "display_data"
    },
    {
     "data": {
      "text/html": [
       "<pre>| 9       | 15.32s       | 5.96695           | 2.4297                | 0.260417    |</pre>"
      ],
      "text/plain": [
       "| 9       | 15.32s       | 5.96695           | 2.4297                | 0.260417    |"
      ]
     },
     "metadata": {},
     "output_type": "display_data"
    },
    {
     "data": {
      "text/html": [
       "<pre>| 10      | 16.91s       | 5.85153           | 2.40672               | 0.260417    |</pre>"
      ],
      "text/plain": [
       "| 10      | 16.91s       | 5.85153           | 2.40672               | 0.260417    |"
      ]
     },
     "metadata": {},
     "output_type": "display_data"
    },
    {
     "data": {
      "text/html": [
       "<pre>| 11      | 18.52s       | 5.75931           | 2.38818               | 0.260417    |</pre>"
      ],
      "text/plain": [
       "| 11      | 18.52s       | 5.75931           | 2.38818               | 0.260417    |"
      ]
     },
     "metadata": {},
     "output_type": "display_data"
    },
    {
     "data": {
      "text/html": [
       "<pre>| 12      | 20.13s       | 5.68208           | 2.37238               | 0.260417    |</pre>"
      ],
      "text/plain": [
       "| 12      | 20.13s       | 5.68208           | 2.37238               | 0.260417    |"
      ]
     },
     "metadata": {},
     "output_type": "display_data"
    },
    {
     "data": {
      "text/html": [
       "<pre>| 13      | 21.71s       | 5.6173            | 2.35923               | 0.260417    |</pre>"
      ],
      "text/plain": [
       "| 13      | 21.71s       | 5.6173            | 2.35923               | 0.260417    |"
      ]
     },
     "metadata": {},
     "output_type": "display_data"
    },
    {
     "data": {
      "text/html": [
       "<pre>| 14      | 23.30s       | 5.56002           | 2.34763               | 0.260417    |</pre>"
      ],
      "text/plain": [
       "| 14      | 23.30s       | 5.56002           | 2.34763               | 0.260417    |"
      ]
     },
     "metadata": {},
     "output_type": "display_data"
    },
    {
     "data": {
      "text/html": [
       "<pre>| 15      | 24.90s       | 5.51329           | 2.33797               | 0.260417    |</pre>"
      ],
      "text/plain": [
       "| 15      | 24.90s       | 5.51329           | 2.33797               | 0.260417    |"
      ]
     },
     "metadata": {},
     "output_type": "display_data"
    },
    {
     "data": {
      "text/html": [
       "<pre>| 16      | 26.47s       | 5.47158           | 2.32928               | 0.260417    |</pre>"
      ],
      "text/plain": [
       "| 16      | 26.47s       | 5.47158           | 2.32928               | 0.260417    |"
      ]
     },
     "metadata": {},
     "output_type": "display_data"
    },
    {
     "data": {
      "text/html": [
       "<pre>| 17      | 28.08s       | 5.43411           | 2.32157               | 0.260417    |</pre>"
      ],
      "text/plain": [
       "| 17      | 28.08s       | 5.43411           | 2.32157               | 0.260417    |"
      ]
     },
     "metadata": {},
     "output_type": "display_data"
    },
    {
     "data": {
      "text/html": [
       "<pre>| 18      | 29.66s       | 5.40002           | 2.31448               | 0.260417    |</pre>"
      ],
      "text/plain": [
       "| 18      | 29.66s       | 5.40002           | 2.31448               | 0.260417    |"
      ]
     },
     "metadata": {},
     "output_type": "display_data"
    },
    {
     "data": {
      "text/html": [
       "<pre>| 19      | 31.24s       | 5.36977           | 2.3081                | 0.260417    |</pre>"
      ],
      "text/plain": [
       "| 19      | 31.24s       | 5.36977           | 2.3081                | 0.260417    |"
      ]
     },
     "metadata": {},
     "output_type": "display_data"
    },
    {
     "data": {
      "text/html": [
       "<pre>| 20      | 32.84s       | 5.34142           | 2.30237               | 0.260417    |</pre>"
      ],
      "text/plain": [
       "| 20      | 32.84s       | 5.34142           | 2.30237               | 0.260417    |"
      ]
     },
     "metadata": {},
     "output_type": "display_data"
    },
    {
     "data": {
      "text/html": [
       "<pre>| 21      | 34.43s       | 5.31503           | 2.29676               | 0.260417    |</pre>"
      ],
      "text/plain": [
       "| 21      | 34.43s       | 5.31503           | 2.29676               | 0.260417    |"
      ]
     },
     "metadata": {},
     "output_type": "display_data"
    },
    {
     "data": {
      "text/html": [
       "<pre>| 22      | 36.02s       | 5.29378           | 2.29222               | 0.260417    |</pre>"
      ],
      "text/plain": [
       "| 22      | 36.02s       | 5.29378           | 2.29222               | 0.260417    |"
      ]
     },
     "metadata": {},
     "output_type": "display_data"
    },
    {
     "data": {
      "text/html": [
       "<pre>| 23      | 37.62s       | 5.27015           | 2.28744               | 0.260417    |</pre>"
      ],
      "text/plain": [
       "| 23      | 37.62s       | 5.27015           | 2.28744               | 0.260417    |"
      ]
     },
     "metadata": {},
     "output_type": "display_data"
    },
    {
     "data": {
      "text/html": [
       "<pre>| 24      | 39.26s       | 5.25081           | 2.2833                | 0.260417    |</pre>"
      ],
      "text/plain": [
       "| 24      | 39.26s       | 5.25081           | 2.2833                | 0.260417    |"
      ]
     },
     "metadata": {},
     "output_type": "display_data"
    },
    {
     "data": {
      "text/html": [
       "<pre>| 25      | 40.94s       | 5.23144           | 2.27908               | 0.260417    |</pre>"
      ],
      "text/plain": [
       "| 25      | 40.94s       | 5.23144           | 2.27908               | 0.260417    |"
      ]
     },
     "metadata": {},
     "output_type": "display_data"
    },
    {
     "data": {
      "text/html": [
       "<pre>+---------+--------------+-------------------+-----------------------+-------------+</pre>"
      ],
      "text/plain": [
       "+---------+--------------+-------------------+-----------------------+-------------+"
      ]
     },
     "metadata": {},
     "output_type": "display_data"
    },
    {
     "data": {
      "text/html": [
       "<pre>Optimization Complete: Maximum number of passes through the data reached.</pre>"
      ],
      "text/plain": [
       "Optimization Complete: Maximum number of passes through the data reached."
      ]
     },
     "metadata": {},
     "output_type": "display_data"
    },
    {
     "data": {
      "text/html": [
       "<pre>Computing final objective value and training RMSE.</pre>"
      ],
      "text/plain": [
       "Computing final objective value and training RMSE."
      ]
     },
     "metadata": {},
     "output_type": "display_data"
    },
    {
     "data": {
      "text/html": [
       "<pre>       Final objective value: 4.66901</pre>"
      ],
      "text/plain": [
       "       Final objective value: 4.66901"
      ]
     },
     "metadata": {},
     "output_type": "display_data"
    },
    {
     "data": {
      "text/html": [
       "<pre>       Final training RMSE: 2.1507</pre>"
      ],
      "text/plain": [
       "       Final training RMSE: 2.1507"
      ]
     },
     "metadata": {},
     "output_type": "display_data"
    },
    {
     "data": {
      "text/html": [
       "<pre>recommendations finished on 1000/59132 queries. users per second: 153799</pre>"
      ],
      "text/plain": [
       "recommendations finished on 1000/59132 queries. users per second: 153799"
      ]
     },
     "metadata": {},
     "output_type": "display_data"
    },
    {
     "data": {
      "text/html": [
       "<pre>recommendations finished on 2000/59132 queries. users per second: 166625</pre>"
      ],
      "text/plain": [
       "recommendations finished on 2000/59132 queries. users per second: 166625"
      ]
     },
     "metadata": {},
     "output_type": "display_data"
    },
    {
     "data": {
      "text/html": [
       "<pre>recommendations finished on 3000/59132 queries. users per second: 166620</pre>"
      ],
      "text/plain": [
       "recommendations finished on 3000/59132 queries. users per second: 166620"
      ]
     },
     "metadata": {},
     "output_type": "display_data"
    },
    {
     "data": {
      "text/html": [
       "<pre>recommendations finished on 4000/59132 queries. users per second: 166625</pre>"
      ],
      "text/plain": [
       "recommendations finished on 4000/59132 queries. users per second: 166625"
      ]
     },
     "metadata": {},
     "output_type": "display_data"
    },
    {
     "data": {
      "text/html": [
       "<pre>recommendations finished on 5000/59132 queries. users per second: 163891</pre>"
      ],
      "text/plain": [
       "recommendations finished on 5000/59132 queries. users per second: 163891"
      ]
     },
     "metadata": {},
     "output_type": "display_data"
    },
    {
     "data": {
      "text/html": [
       "<pre>recommendations finished on 6000/59132 queries. users per second: 159957</pre>"
      ],
      "text/plain": [
       "recommendations finished on 6000/59132 queries. users per second: 159957"
      ]
     },
     "metadata": {},
     "output_type": "display_data"
    },
    {
     "data": {
      "text/html": [
       "<pre>recommendations finished on 7000/59132 queries. users per second: 148895</pre>"
      ],
      "text/plain": [
       "recommendations finished on 7000/59132 queries. users per second: 148895"
      ]
     },
     "metadata": {},
     "output_type": "display_data"
    },
    {
     "data": {
      "text/html": [
       "<pre>recommendations finished on 8000/59132 queries. users per second: 141555</pre>"
      ],
      "text/plain": [
       "recommendations finished on 8000/59132 queries. users per second: 141555"
      ]
     },
     "metadata": {},
     "output_type": "display_data"
    },
    {
     "data": {
      "text/html": [
       "<pre>recommendations finished on 9000/59132 queries. users per second: 143963</pre>"
      ],
      "text/plain": [
       "recommendations finished on 9000/59132 queries. users per second: 143963"
      ]
     },
     "metadata": {},
     "output_type": "display_data"
    },
    {
     "data": {
      "text/html": [
       "<pre>recommendations finished on 10000/59132 queries. users per second: 147022</pre>"
      ],
      "text/plain": [
       "recommendations finished on 10000/59132 queries. users per second: 147022"
      ]
     },
     "metadata": {},
     "output_type": "display_data"
    },
    {
     "data": {
      "text/html": [
       "<pre>recommendations finished on 11000/59132 queries. users per second: 146630</pre>"
      ],
      "text/plain": [
       "recommendations finished on 11000/59132 queries. users per second: 146630"
      ]
     },
     "metadata": {},
     "output_type": "display_data"
    },
    {
     "data": {
      "text/html": [
       "<pre>recommendations finished on 12000/59132 queries. users per second: 147203</pre>"
      ],
      "text/plain": [
       "recommendations finished on 12000/59132 queries. users per second: 147203"
      ]
     },
     "metadata": {},
     "output_type": "display_data"
    },
    {
     "data": {
      "text/html": [
       "<pre>recommendations finished on 13000/59132 queries. users per second: 136809</pre>"
      ],
      "text/plain": [
       "recommendations finished on 13000/59132 queries. users per second: 136809"
      ]
     },
     "metadata": {},
     "output_type": "display_data"
    },
    {
     "data": {
      "text/html": [
       "<pre>recommendations finished on 14000/59132 queries. users per second: 137897</pre>"
      ],
      "text/plain": [
       "recommendations finished on 14000/59132 queries. users per second: 137897"
      ]
     },
     "metadata": {},
     "output_type": "display_data"
    },
    {
     "data": {
      "text/html": [
       "<pre>recommendations finished on 15000/59132 queries. users per second: 138214</pre>"
      ],
      "text/plain": [
       "recommendations finished on 15000/59132 queries. users per second: 138214"
      ]
     },
     "metadata": {},
     "output_type": "display_data"
    },
    {
     "data": {
      "text/html": [
       "<pre>recommendations finished on 16000/59132 queries. users per second: 139704</pre>"
      ],
      "text/plain": [
       "recommendations finished on 16000/59132 queries. users per second: 139704"
      ]
     },
     "metadata": {},
     "output_type": "display_data"
    },
    {
     "data": {
      "text/html": [
       "<pre>recommendations finished on 17000/59132 queries. users per second: 140461</pre>"
      ],
      "text/plain": [
       "recommendations finished on 17000/59132 queries. users per second: 140461"
      ]
     },
     "metadata": {},
     "output_type": "display_data"
    },
    {
     "data": {
      "text/html": [
       "<pre>recommendations finished on 18000/59132 queries. users per second: 140591</pre>"
      ],
      "text/plain": [
       "recommendations finished on 18000/59132 queries. users per second: 140591"
      ]
     },
     "metadata": {},
     "output_type": "display_data"
    },
    {
     "data": {
      "text/html": [
       "<pre>recommendations finished on 19000/59132 queries. users per second: 137150</pre>"
      ],
      "text/plain": [
       "recommendations finished on 19000/59132 queries. users per second: 137150"
      ]
     },
     "metadata": {},
     "output_type": "display_data"
    },
    {
     "data": {
      "text/html": [
       "<pre>recommendations finished on 20000/59132 queries. users per second: 135560</pre>"
      ],
      "text/plain": [
       "recommendations finished on 20000/59132 queries. users per second: 135560"
      ]
     },
     "metadata": {},
     "output_type": "display_data"
    },
    {
     "data": {
      "text/html": [
       "<pre>recommendations finished on 21000/59132 queries. users per second: 136330</pre>"
      ],
      "text/plain": [
       "recommendations finished on 21000/59132 queries. users per second: 136330"
      ]
     },
     "metadata": {},
     "output_type": "display_data"
    },
    {
     "data": {
      "text/html": [
       "<pre>recommendations finished on 22000/59132 queries. users per second: 137897</pre>"
      ],
      "text/plain": [
       "recommendations finished on 22000/59132 queries. users per second: 137897"
      ]
     },
     "metadata": {},
     "output_type": "display_data"
    },
    {
     "data": {
      "text/html": [
       "<pre>recommendations finished on 23000/59132 queries. users per second: 138938</pre>"
      ],
      "text/plain": [
       "recommendations finished on 23000/59132 queries. users per second: 138938"
      ]
     },
     "metadata": {},
     "output_type": "display_data"
    },
    {
     "data": {
      "text/html": [
       "<pre>recommendations finished on 24000/59132 queries. users per second: 140316</pre>"
      ],
      "text/plain": [
       "recommendations finished on 24000/59132 queries. users per second: 140316"
      ]
     },
     "metadata": {},
     "output_type": "display_data"
    },
    {
     "data": {
      "text/html": [
       "<pre>recommendations finished on 25000/59132 queries. users per second: 141209</pre>"
      ],
      "text/plain": [
       "recommendations finished on 25000/59132 queries. users per second: 141209"
      ]
     },
     "metadata": {},
     "output_type": "display_data"
    },
    {
     "data": {
      "text/html": [
       "<pre>recommendations finished on 26000/59132 queries. users per second: 140128</pre>"
      ],
      "text/plain": [
       "recommendations finished on 26000/59132 queries. users per second: 140128"
      ]
     },
     "metadata": {},
     "output_type": "display_data"
    },
    {
     "data": {
      "text/html": [
       "<pre>recommendations finished on 27000/59132 queries. users per second: 136330</pre>"
      ],
      "text/plain": [
       "recommendations finished on 27000/59132 queries. users per second: 136330"
      ]
     },
     "metadata": {},
     "output_type": "display_data"
    },
    {
     "data": {
      "text/html": [
       "<pre>recommendations finished on 28000/59132 queries. users per second: 136552</pre>"
      ],
      "text/plain": [
       "recommendations finished on 28000/59132 queries. users per second: 136552"
      ]
     },
     "metadata": {},
     "output_type": "display_data"
    },
    {
     "data": {
      "text/html": [
       "<pre>recommendations finished on 29000/59132 queries. users per second: 138390</pre>"
      ],
      "text/plain": [
       "recommendations finished on 29000/59132 queries. users per second: 138390"
      ]
     },
     "metadata": {},
     "output_type": "display_data"
    },
    {
     "data": {
      "text/html": [
       "<pre>recommendations finished on 30000/59132 queries. users per second: 139500</pre>"
      ],
      "text/plain": [
       "recommendations finished on 30000/59132 queries. users per second: 139500"
      ]
     },
     "metadata": {},
     "output_type": "display_data"
    },
    {
     "data": {
      "text/html": [
       "<pre>recommendations finished on 31000/59132 queries. users per second: 140237</pre>"
      ],
      "text/plain": [
       "recommendations finished on 31000/59132 queries. users per second: 140237"
      ]
     },
     "metadata": {},
     "output_type": "display_data"
    },
    {
     "data": {
      "text/html": [
       "<pre>recommendations finished on 32000/59132 queries. users per second: 141245</pre>"
      ],
      "text/plain": [
       "recommendations finished on 32000/59132 queries. users per second: 141245"
      ]
     },
     "metadata": {},
     "output_type": "display_data"
    },
    {
     "data": {
      "text/html": [
       "<pre>recommendations finished on 33000/59132 queries. users per second: 142206</pre>"
      ],
      "text/plain": [
       "recommendations finished on 33000/59132 queries. users per second: 142206"
      ]
     },
     "metadata": {},
     "output_type": "display_data"
    },
    {
     "data": {
      "text/html": [
       "<pre>recommendations finished on 34000/59132 queries. users per second: 141927</pre>"
      ],
      "text/plain": [
       "recommendations finished on 34000/59132 queries. users per second: 141927"
      ]
     },
     "metadata": {},
     "output_type": "display_data"
    },
    {
     "data": {
      "text/html": [
       "<pre>recommendations finished on 35000/59132 queries. users per second: 142531</pre>"
      ],
      "text/plain": [
       "recommendations finished on 35000/59132 queries. users per second: 142531"
      ]
     },
     "metadata": {},
     "output_type": "display_data"
    },
    {
     "data": {
      "text/html": [
       "<pre>recommendations finished on 36000/59132 queries. users per second: 140590</pre>"
      ],
      "text/plain": [
       "recommendations finished on 36000/59132 queries. users per second: 140590"
      ]
     },
     "metadata": {},
     "output_type": "display_data"
    },
    {
     "data": {
      "text/html": [
       "<pre>recommendations finished on 37000/59132 queries. users per second: 140117</pre>"
      ],
      "text/plain": [
       "recommendations finished on 37000/59132 queries. users per second: 140117"
      ]
     },
     "metadata": {},
     "output_type": "display_data"
    },
    {
     "data": {
      "text/html": [
       "<pre>recommendations finished on 38000/59132 queries. users per second: 140967</pre>"
      ],
      "text/plain": [
       "recommendations finished on 38000/59132 queries. users per second: 140967"
      ]
     },
     "metadata": {},
     "output_type": "display_data"
    },
    {
     "data": {
      "text/html": [
       "<pre>recommendations finished on 39000/59132 queries. users per second: 142301</pre>"
      ],
      "text/plain": [
       "recommendations finished on 39000/59132 queries. users per second: 142301"
      ]
     },
     "metadata": {},
     "output_type": "display_data"
    },
    {
     "data": {
      "text/html": [
       "<pre>recommendations finished on 40000/59132 queries. users per second: 143078</pre>"
      ],
      "text/plain": [
       "recommendations finished on 40000/59132 queries. users per second: 143078"
      ]
     },
     "metadata": {},
     "output_type": "display_data"
    },
    {
     "data": {
      "text/html": [
       "<pre>recommendations finished on 41000/59132 queries. users per second: 143824</pre>"
      ],
      "text/plain": [
       "recommendations finished on 41000/59132 queries. users per second: 143824"
      ]
     },
     "metadata": {},
     "output_type": "display_data"
    },
    {
     "data": {
      "text/html": [
       "<pre>recommendations finished on 42000/59132 queries. users per second: 144294</pre>"
      ],
      "text/plain": [
       "recommendations finished on 42000/59132 queries. users per second: 144294"
      ]
     },
     "metadata": {},
     "output_type": "display_data"
    },
    {
     "data": {
      "text/html": [
       "<pre>recommendations finished on 43000/59132 queries. users per second: 144990</pre>"
      ],
      "text/plain": [
       "recommendations finished on 43000/59132 queries. users per second: 144990"
      ]
     },
     "metadata": {},
     "output_type": "display_data"
    },
    {
     "data": {
      "text/html": [
       "<pre>recommendations finished on 44000/59132 queries. users per second: 145179</pre>"
      ],
      "text/plain": [
       "recommendations finished on 44000/59132 queries. users per second: 145179"
      ]
     },
     "metadata": {},
     "output_type": "display_data"
    },
    {
     "data": {
      "text/html": [
       "<pre>recommendations finished on 45000/59132 queries. users per second: 145595</pre>"
      ],
      "text/plain": [
       "recommendations finished on 45000/59132 queries. users per second: 145595"
      ]
     },
     "metadata": {},
     "output_type": "display_data"
    },
    {
     "data": {
      "text/html": [
       "<pre>recommendations finished on 46000/59132 queries. users per second: 145996</pre>"
      ],
      "text/plain": [
       "recommendations finished on 46000/59132 queries. users per second: 145996"
      ]
     },
     "metadata": {},
     "output_type": "display_data"
    },
    {
     "data": {
      "text/html": [
       "<pre>recommendations finished on 47000/59132 queries. users per second: 145026</pre>"
      ],
      "text/plain": [
       "recommendations finished on 47000/59132 queries. users per second: 145026"
      ]
     },
     "metadata": {},
     "output_type": "display_data"
    },
    {
     "data": {
      "text/html": [
       "<pre>recommendations finished on 48000/59132 queries. users per second: 144980</pre>"
      ],
      "text/plain": [
       "recommendations finished on 48000/59132 queries. users per second: 144980"
      ]
     },
     "metadata": {},
     "output_type": "display_data"
    },
    {
     "data": {
      "text/html": [
       "<pre>recommendations finished on 49000/59132 queries. users per second: 143871</pre>"
      ],
      "text/plain": [
       "recommendations finished on 49000/59132 queries. users per second: 143871"
      ]
     },
     "metadata": {},
     "output_type": "display_data"
    },
    {
     "data": {
      "text/html": [
       "<pre>recommendations finished on 50000/59132 queries. users per second: 144265</pre>"
      ],
      "text/plain": [
       "recommendations finished on 50000/59132 queries. users per second: 144265"
      ]
     },
     "metadata": {},
     "output_type": "display_data"
    },
    {
     "data": {
      "text/html": [
       "<pre>recommendations finished on 51000/59132 queries. users per second: 144646</pre>"
      ],
      "text/plain": [
       "recommendations finished on 51000/59132 queries. users per second: 144646"
      ]
     },
     "metadata": {},
     "output_type": "display_data"
    },
    {
     "data": {
      "text/html": [
       "<pre>recommendations finished on 52000/59132 queries. users per second: 145013</pre>"
      ],
      "text/plain": [
       "recommendations finished on 52000/59132 queries. users per second: 145013"
      ]
     },
     "metadata": {},
     "output_type": "display_data"
    },
    {
     "data": {
      "text/html": [
       "<pre>recommendations finished on 53000/59132 queries. users per second: 145569</pre>"
      ],
      "text/plain": [
       "recommendations finished on 53000/59132 queries. users per second: 145569"
      ]
     },
     "metadata": {},
     "output_type": "display_data"
    },
    {
     "data": {
      "text/html": [
       "<pre>recommendations finished on 54000/59132 queries. users per second: 145517</pre>"
      ],
      "text/plain": [
       "recommendations finished on 54000/59132 queries. users per second: 145517"
      ]
     },
     "metadata": {},
     "output_type": "display_data"
    },
    {
     "data": {
      "text/html": [
       "<pre>recommendations finished on 55000/59132 queries. users per second: 145853</pre>"
      ],
      "text/plain": [
       "recommendations finished on 55000/59132 queries. users per second: 145853"
      ]
     },
     "metadata": {},
     "output_type": "display_data"
    },
    {
     "data": {
      "text/html": [
       "<pre>recommendations finished on 56000/59132 queries. users per second: 144109</pre>"
      ],
      "text/plain": [
       "recommendations finished on 56000/59132 queries. users per second: 144109"
      ]
     },
     "metadata": {},
     "output_type": "display_data"
    },
    {
     "data": {
      "text/html": [
       "<pre>recommendations finished on 57000/59132 queries. users per second: 142287</pre>"
      ],
      "text/plain": [
       "recommendations finished on 57000/59132 queries. users per second: 142287"
      ]
     },
     "metadata": {},
     "output_type": "display_data"
    },
    {
     "data": {
      "text/html": [
       "<pre>recommendations finished on 58000/59132 queries. users per second: 141948</pre>"
      ],
      "text/plain": [
       "recommendations finished on 58000/59132 queries. users per second: 141948"
      ]
     },
     "metadata": {},
     "output_type": "display_data"
    },
    {
     "data": {
      "text/html": [
       "<pre>recommendations finished on 59000/59132 queries. users per second: 141622</pre>"
      ],
      "text/plain": [
       "recommendations finished on 59000/59132 queries. users per second: 141622"
      ]
     },
     "metadata": {},
     "output_type": "display_data"
    },
    {
     "data": {
      "text/html": [
       "<div style=\"max-height:1000px;max-width:1500px;overflow:auto;\"><table frame=\"box\" rules=\"cols\">\n",
       "    <tr>\n",
       "        <th style=\"padding-left: 1em; padding-right: 1em; text-align: center\">User-ID</th>\n",
       "        <th style=\"padding-left: 1em; padding-right: 1em; text-align: center\">Item-ID</th>\n",
       "        <th style=\"padding-left: 1em; padding-right: 1em; text-align: center\">score</th>\n",
       "        <th style=\"padding-left: 1em; padding-right: 1em; text-align: center\">rank</th>\n",
       "    </tr>\n",
       "    <tr>\n",
       "        <td style=\"padding-left: 1em; padding-right: 1em; text-align: center; vertical-align: top\">1</td>\n",
       "        <td style=\"padding-left: 1em; padding-right: 1em; text-align: center; vertical-align: top\">129</td>\n",
       "        <td style=\"padding-left: 1em; padding-right: 1em; text-align: center; vertical-align: top\">12.2423698522</td>\n",
       "        <td style=\"padding-left: 1em; padding-right: 1em; text-align: center; vertical-align: top\">1</td>\n",
       "    </tr>\n",
       "    <tr>\n",
       "        <td style=\"padding-left: 1em; padding-right: 1em; text-align: center; vertical-align: top\">1</td>\n",
       "        <td style=\"padding-left: 1em; padding-right: 1em; text-align: center; vertical-align: top\">56</td>\n",
       "        <td style=\"padding-left: 1em; padding-right: 1em; text-align: center; vertical-align: top\">12.0650347091</td>\n",
       "        <td style=\"padding-left: 1em; padding-right: 1em; text-align: center; vertical-align: top\">2</td>\n",
       "    </tr>\n",
       "    <tr>\n",
       "        <td style=\"padding-left: 1em; padding-right: 1em; text-align: center; vertical-align: top\">1</td>\n",
       "        <td style=\"padding-left: 1em; padding-right: 1em; text-align: center; vertical-align: top\">140</td>\n",
       "        <td style=\"padding-left: 1em; padding-right: 1em; text-align: center; vertical-align: top\">11.8414740183</td>\n",
       "        <td style=\"padding-left: 1em; padding-right: 1em; text-align: center; vertical-align: top\">3</td>\n",
       "    </tr>\n",
       "    <tr>\n",
       "        <td style=\"padding-left: 1em; padding-right: 1em; text-align: center; vertical-align: top\">1</td>\n",
       "        <td style=\"padding-left: 1em; padding-right: 1em; text-align: center; vertical-align: top\">142</td>\n",
       "        <td style=\"padding-left: 1em; padding-right: 1em; text-align: center; vertical-align: top\">11.0323905565</td>\n",
       "        <td style=\"padding-left: 1em; padding-right: 1em; text-align: center; vertical-align: top\">4</td>\n",
       "    </tr>\n",
       "    <tr>\n",
       "        <td style=\"padding-left: 1em; padding-right: 1em; text-align: center; vertical-align: top\">1</td>\n",
       "        <td style=\"padding-left: 1em; padding-right: 1em; text-align: center; vertical-align: top\">145</td>\n",
       "        <td style=\"padding-left: 1em; padding-right: 1em; text-align: center; vertical-align: top\">10.9853043176</td>\n",
       "        <td style=\"padding-left: 1em; padding-right: 1em; text-align: center; vertical-align: top\">5</td>\n",
       "    </tr>\n",
       "    <tr>\n",
       "        <td style=\"padding-left: 1em; padding-right: 1em; text-align: center; vertical-align: top\">2</td>\n",
       "        <td style=\"padding-left: 1em; padding-right: 1em; text-align: center; vertical-align: top\">22</td>\n",
       "        <td style=\"padding-left: 1em; padding-right: 1em; text-align: center; vertical-align: top\">1.42551468986</td>\n",
       "        <td style=\"padding-left: 1em; padding-right: 1em; text-align: center; vertical-align: top\">1</td>\n",
       "    </tr>\n",
       "    <tr>\n",
       "        <td style=\"padding-left: 1em; padding-right: 1em; text-align: center; vertical-align: top\">2</td>\n",
       "        <td style=\"padding-left: 1em; padding-right: 1em; text-align: center; vertical-align: top\">52</td>\n",
       "        <td style=\"padding-left: 1em; padding-right: 1em; text-align: center; vertical-align: top\">0.684201709204</td>\n",
       "        <td style=\"padding-left: 1em; padding-right: 1em; text-align: center; vertical-align: top\">2</td>\n",
       "    </tr>\n",
       "    <tr>\n",
       "        <td style=\"padding-left: 1em; padding-right: 1em; text-align: center; vertical-align: top\">2</td>\n",
       "        <td style=\"padding-left: 1em; padding-right: 1em; text-align: center; vertical-align: top\">60</td>\n",
       "        <td style=\"padding-left: 1em; padding-right: 1em; text-align: center; vertical-align: top\">0.342230788641</td>\n",
       "        <td style=\"padding-left: 1em; padding-right: 1em; text-align: center; vertical-align: top\">3</td>\n",
       "    </tr>\n",
       "    <tr>\n",
       "        <td style=\"padding-left: 1em; padding-right: 1em; text-align: center; vertical-align: top\">2</td>\n",
       "        <td style=\"padding-left: 1em; padding-right: 1em; text-align: center; vertical-align: top\">127</td>\n",
       "        <td style=\"padding-left: 1em; padding-right: 1em; text-align: center; vertical-align: top\">-0.283315309114</td>\n",
       "        <td style=\"padding-left: 1em; padding-right: 1em; text-align: center; vertical-align: top\">4</td>\n",
       "    </tr>\n",
       "    <tr>\n",
       "        <td style=\"padding-left: 1em; padding-right: 1em; text-align: center; vertical-align: top\">2</td>\n",
       "        <td style=\"padding-left: 1em; padding-right: 1em; text-align: center; vertical-align: top\">82</td>\n",
       "        <td style=\"padding-left: 1em; padding-right: 1em; text-align: center; vertical-align: top\">-0.600371249742</td>\n",
       "        <td style=\"padding-left: 1em; padding-right: 1em; text-align: center; vertical-align: top\">5</td>\n",
       "    </tr>\n",
       "</table>\n",
       "[10 rows x 4 columns]<br/>\n",
       "</div>"
      ],
      "text/plain": [
       "Columns:\n",
       "\tUser-ID\tint\n",
       "\tItem-ID\tint\n",
       "\tscore\tfloat\n",
       "\trank\tint\n",
       "\n",
       "Rows: 10\n",
       "\n",
       "Data:\n",
       "+---------+---------+-----------------+------+\n",
       "| User-ID | Item-ID |      score      | rank |\n",
       "+---------+---------+-----------------+------+\n",
       "|    1    |   129   |  12.2423698522  |  1   |\n",
       "|    1    |    56   |  12.0650347091  |  2   |\n",
       "|    1    |   140   |  11.8414740183  |  3   |\n",
       "|    1    |   142   |  11.0323905565  |  4   |\n",
       "|    1    |   145   |  10.9853043176  |  5   |\n",
       "|    2    |    22   |  1.42551468986  |  1   |\n",
       "|    2    |    52   |  0.684201709204 |  2   |\n",
       "|    2    |    60   |  0.342230788641 |  3   |\n",
       "|    2    |   127   | -0.283315309114 |  4   |\n",
       "|    2    |    82   | -0.600371249742 |  5   |\n",
       "+---------+---------+-----------------+------+\n",
       "[10 rows x 4 columns]"
      ]
     },
     "execution_count": 32,
     "metadata": {},
     "output_type": "execute_result"
    }
   ],
   "source": [
    "# This is a well known graphlab example that builds a recommendation system in 5 lines of code\n",
    "\n",
    "import graphlab as gl\n",
    "\n",
    "data = gl.SFrame(data = dataframe)\n",
    "model = gl.recommender.create(data, user_id=\"User-ID\", item_id=\"Item-ID\", target=\"rating\")\n",
    "results = model.recommend(users=None, k=5)\n",
    "model.save(\"my_model\")\n",
    "\n",
    "results.head() # the recommendation output\n"
   ]
  },
  {
   "cell_type": "markdown",
   "metadata": {},
   "source": [
    "In the above model creation, we have found the top five highest ranking jokes for each user. Two users are shown with their corresponding highest ranking recommended joke IDs.\n",
    "___"
   ]
  },
  {
   "cell_type": "markdown",
   "metadata": {},
   "source": [
    "How can we measure the quality of this model? We really do not know how good these results are.\n",
    "\n",
    "## The item-item recommendation system\n",
    "No let's look at creating the item-item similarity matrix. That is, for each item, what are the top closest items based upon user ratings. The following code uses the 3 most similar items to each item and here I use Pearson similarity based on trial and the fact that the data is relatively dense. Cosine and Jaccard similarity yielded slightly higher RMSE."
   ]
  },
  {
   "cell_type": "code",
   "execution_count": 105,
   "metadata": {
    "collapsed": false
   },
   "outputs": [
    {
     "data": {
      "text/html": [
       "<pre>Recsys training: model = item_similarity</pre>"
      ],
      "text/plain": [
       "Recsys training: model = item_similarity"
      ]
     },
     "metadata": {},
     "output_type": "display_data"
    },
    {
     "data": {
      "text/html": [
       "<pre>Warning: Ignoring columns Joke;</pre>"
      ],
      "text/plain": [
       "Warning: Ignoring columns Joke;"
      ]
     },
     "metadata": {},
     "output_type": "display_data"
    },
    {
     "data": {
      "text/html": [
       "<pre>    To use these columns in scoring predictions, use a model that allows the use of additional features.</pre>"
      ],
      "text/plain": [
       "    To use these columns in scoring predictions, use a model that allows the use of additional features."
      ]
     },
     "metadata": {},
     "output_type": "display_data"
    },
    {
     "data": {
      "text/html": [
       "<pre>Preparing data set.</pre>"
      ],
      "text/plain": [
       "Preparing data set."
      ]
     },
     "metadata": {},
     "output_type": "display_data"
    },
    {
     "data": {
      "text/html": [
       "<pre>    Data has 1761439 observations with 59132 users and 140 items.</pre>"
      ],
      "text/plain": [
       "    Data has 1761439 observations with 59132 users and 140 items."
      ]
     },
     "metadata": {},
     "output_type": "display_data"
    },
    {
     "data": {
      "text/html": [
       "<pre>    Data prepared in: 1.03777s</pre>"
      ],
      "text/plain": [
       "    Data prepared in: 1.03777s"
      ]
     },
     "metadata": {},
     "output_type": "display_data"
    },
    {
     "data": {
      "text/html": [
       "<pre>Training model from provided data.</pre>"
      ],
      "text/plain": [
       "Training model from provided data."
      ]
     },
     "metadata": {},
     "output_type": "display_data"
    },
    {
     "data": {
      "text/html": [
       "<pre>Gathering per-item and per-user statistics.</pre>"
      ],
      "text/plain": [
       "Gathering per-item and per-user statistics."
      ]
     },
     "metadata": {},
     "output_type": "display_data"
    },
    {
     "data": {
      "text/html": [
       "<pre>+--------------------------------+------------+</pre>"
      ],
      "text/plain": [
       "+--------------------------------+------------+"
      ]
     },
     "metadata": {},
     "output_type": "display_data"
    },
    {
     "data": {
      "text/html": [
       "<pre>| Elapsed Time (Item Statistics) | % Complete |</pre>"
      ],
      "text/plain": [
       "| Elapsed Time (Item Statistics) | % Complete |"
      ]
     },
     "metadata": {},
     "output_type": "display_data"
    },
    {
     "data": {
      "text/html": [
       "<pre>+--------------------------------+------------+</pre>"
      ],
      "text/plain": [
       "+--------------------------------+------------+"
      ]
     },
     "metadata": {},
     "output_type": "display_data"
    },
    {
     "data": {
      "text/html": [
       "<pre>| 1.504ms                        | 1.5        |</pre>"
      ],
      "text/plain": [
       "| 1.504ms                        | 1.5        |"
      ]
     },
     "metadata": {},
     "output_type": "display_data"
    },
    {
     "data": {
      "text/html": [
       "<pre>| 59.019ms                       | 100        |</pre>"
      ],
      "text/plain": [
       "| 59.019ms                       | 100        |"
      ]
     },
     "metadata": {},
     "output_type": "display_data"
    },
    {
     "data": {
      "text/html": [
       "<pre>+--------------------------------+------------+</pre>"
      ],
      "text/plain": [
       "+--------------------------------+------------+"
      ]
     },
     "metadata": {},
     "output_type": "display_data"
    },
    {
     "data": {
      "text/html": [
       "<pre>Setting up lookup tables.</pre>"
      ],
      "text/plain": [
       "Setting up lookup tables."
      ]
     },
     "metadata": {},
     "output_type": "display_data"
    },
    {
     "data": {
      "text/html": [
       "<pre>Processing data in one pass using dense lookup tables.</pre>"
      ],
      "text/plain": [
       "Processing data in one pass using dense lookup tables."
      ]
     },
     "metadata": {},
     "output_type": "display_data"
    },
    {
     "data": {
      "text/html": [
       "<pre>+-------------------------------------+------------------+-----------------+</pre>"
      ],
      "text/plain": [
       "+-------------------------------------+------------------+-----------------+"
      ]
     },
     "metadata": {},
     "output_type": "display_data"
    },
    {
     "data": {
      "text/html": [
       "<pre>| Elapsed Time (Constructing Lookups) | Total % Complete | Items Processed |</pre>"
      ],
      "text/plain": [
       "| Elapsed Time (Constructing Lookups) | Total % Complete | Items Processed |"
      ]
     },
     "metadata": {},
     "output_type": "display_data"
    },
    {
     "data": {
      "text/html": [
       "<pre>+-------------------------------------+------------------+-----------------+</pre>"
      ],
      "text/plain": [
       "+-------------------------------------+------------------+-----------------+"
      ]
     },
     "metadata": {},
     "output_type": "display_data"
    },
    {
     "data": {
      "text/html": [
       "<pre>| 60.02ms                             | 0                | 0               |</pre>"
      ],
      "text/plain": [
       "| 60.02ms                             | 0                | 0               |"
      ]
     },
     "metadata": {},
     "output_type": "display_data"
    },
    {
     "data": {
      "text/html": [
       "<pre>| 1.06s                               | 38               | 53              |</pre>"
      ],
      "text/plain": [
       "| 1.06s                               | 38               | 53              |"
      ]
     },
     "metadata": {},
     "output_type": "display_data"
    },
    {
     "data": {
      "text/html": [
       "<pre>| 1.39s                               | 100              | 140             |</pre>"
      ],
      "text/plain": [
       "| 1.39s                               | 100              | 140             |"
      ]
     },
     "metadata": {},
     "output_type": "display_data"
    },
    {
     "data": {
      "text/html": [
       "<pre>+-------------------------------------+------------------+-----------------+</pre>"
      ],
      "text/plain": [
       "+-------------------------------------+------------------+-----------------+"
      ]
     },
     "metadata": {},
     "output_type": "display_data"
    },
    {
     "data": {
      "text/html": [
       "<pre>Finalizing lookup tables.</pre>"
      ],
      "text/plain": [
       "Finalizing lookup tables."
      ]
     },
     "metadata": {},
     "output_type": "display_data"
    },
    {
     "data": {
      "text/html": [
       "<pre>Generating candidate set for working with new users.</pre>"
      ],
      "text/plain": [
       "Generating candidate set for working with new users."
      ]
     },
     "metadata": {},
     "output_type": "display_data"
    },
    {
     "data": {
      "text/html": [
       "<pre>Finished training in 1.48237s</pre>"
      ],
      "text/plain": [
       "Finished training in 1.48237s"
      ]
     },
     "metadata": {},
     "output_type": "display_data"
    },
    {
     "data": {
      "text/html": [
       "<div style=\"max-height:1000px;max-width:1500px;overflow:auto;\"><table frame=\"box\" rules=\"cols\">\n",
       "    <tr>\n",
       "        <th style=\"padding-left: 1em; padding-right: 1em; text-align: center\">Item-ID</th>\n",
       "        <th style=\"padding-left: 1em; padding-right: 1em; text-align: center\">similar</th>\n",
       "        <th style=\"padding-left: 1em; padding-right: 1em; text-align: center\">score</th>\n",
       "        <th style=\"padding-left: 1em; padding-right: 1em; text-align: center\">rank</th>\n",
       "    </tr>\n",
       "    <tr>\n",
       "        <td style=\"padding-left: 1em; padding-right: 1em; text-align: center; vertical-align: top\">5</td>\n",
       "        <td style=\"padding-left: 1em; padding-right: 1em; text-align: center; vertical-align: top\">20</td>\n",
       "        <td style=\"padding-left: 1em; padding-right: 1em; text-align: center; vertical-align: top\">0.192786335945</td>\n",
       "        <td style=\"padding-left: 1em; padding-right: 1em; text-align: center; vertical-align: top\">1</td>\n",
       "    </tr>\n",
       "    <tr>\n",
       "        <td style=\"padding-left: 1em; padding-right: 1em; text-align: center; vertical-align: top\">5</td>\n",
       "        <td style=\"padding-left: 1em; padding-right: 1em; text-align: center; vertical-align: top\">43</td>\n",
       "        <td style=\"padding-left: 1em; padding-right: 1em; text-align: center; vertical-align: top\">0.160199642181</td>\n",
       "        <td style=\"padding-left: 1em; padding-right: 1em; text-align: center; vertical-align: top\">2</td>\n",
       "    </tr>\n",
       "    <tr>\n",
       "        <td style=\"padding-left: 1em; padding-right: 1em; text-align: center; vertical-align: top\">5</td>\n",
       "        <td style=\"padding-left: 1em; padding-right: 1em; text-align: center; vertical-align: top\">51</td>\n",
       "        <td style=\"padding-left: 1em; padding-right: 1em; text-align: center; vertical-align: top\">0.130829274654</td>\n",
       "        <td style=\"padding-left: 1em; padding-right: 1em; text-align: center; vertical-align: top\">3</td>\n",
       "    </tr>\n",
       "    <tr>\n",
       "        <td style=\"padding-left: 1em; padding-right: 1em; text-align: center; vertical-align: top\">7</td>\n",
       "        <td style=\"padding-left: 1em; padding-right: 1em; text-align: center; vertical-align: top\">8</td>\n",
       "        <td style=\"padding-left: 1em; padding-right: 1em; text-align: center; vertical-align: top\">0.355112314224</td>\n",
       "        <td style=\"padding-left: 1em; padding-right: 1em; text-align: center; vertical-align: top\">1</td>\n",
       "    </tr>\n",
       "    <tr>\n",
       "        <td style=\"padding-left: 1em; padding-right: 1em; text-align: center; vertical-align: top\">7</td>\n",
       "        <td style=\"padding-left: 1em; padding-right: 1em; text-align: center; vertical-align: top\">15</td>\n",
       "        <td style=\"padding-left: 1em; padding-right: 1em; text-align: center; vertical-align: top\">0.30671608448</td>\n",
       "        <td style=\"padding-left: 1em; padding-right: 1em; text-align: center; vertical-align: top\">2</td>\n",
       "    </tr>\n",
       "    <tr>\n",
       "        <td style=\"padding-left: 1em; padding-right: 1em; text-align: center; vertical-align: top\">7</td>\n",
       "        <td style=\"padding-left: 1em; padding-right: 1em; text-align: center; vertical-align: top\">16</td>\n",
       "        <td style=\"padding-left: 1em; padding-right: 1em; text-align: center; vertical-align: top\">0.219020068645</td>\n",
       "        <td style=\"padding-left: 1em; padding-right: 1em; text-align: center; vertical-align: top\">3</td>\n",
       "    </tr>\n",
       "    <tr>\n",
       "        <td style=\"padding-left: 1em; padding-right: 1em; text-align: center; vertical-align: top\">8</td>\n",
       "        <td style=\"padding-left: 1em; padding-right: 1em; text-align: center; vertical-align: top\">13</td>\n",
       "        <td style=\"padding-left: 1em; padding-right: 1em; text-align: center; vertical-align: top\">0.359930694103</td>\n",
       "        <td style=\"padding-left: 1em; padding-right: 1em; text-align: center; vertical-align: top\">1</td>\n",
       "    </tr>\n",
       "    <tr>\n",
       "        <td style=\"padding-left: 1em; padding-right: 1em; text-align: center; vertical-align: top\">8</td>\n",
       "        <td style=\"padding-left: 1em; padding-right: 1em; text-align: center; vertical-align: top\">7</td>\n",
       "        <td style=\"padding-left: 1em; padding-right: 1em; text-align: center; vertical-align: top\">0.355112314224</td>\n",
       "        <td style=\"padding-left: 1em; padding-right: 1em; text-align: center; vertical-align: top\">2</td>\n",
       "    </tr>\n",
       "    <tr>\n",
       "        <td style=\"padding-left: 1em; padding-right: 1em; text-align: center; vertical-align: top\">8</td>\n",
       "        <td style=\"padding-left: 1em; padding-right: 1em; text-align: center; vertical-align: top\">5</td>\n",
       "        <td style=\"padding-left: 1em; padding-right: 1em; text-align: center; vertical-align: top\">0.0332475304604</td>\n",
       "        <td style=\"padding-left: 1em; padding-right: 1em; text-align: center; vertical-align: top\">3</td>\n",
       "    </tr>\n",
       "    <tr>\n",
       "        <td style=\"padding-left: 1em; padding-right: 1em; text-align: center; vertical-align: top\">13</td>\n",
       "        <td style=\"padding-left: 1em; padding-right: 1em; text-align: center; vertical-align: top\">8</td>\n",
       "        <td style=\"padding-left: 1em; padding-right: 1em; text-align: center; vertical-align: top\">0.359930694103</td>\n",
       "        <td style=\"padding-left: 1em; padding-right: 1em; text-align: center; vertical-align: top\">1</td>\n",
       "    </tr>\n",
       "</table>\n",
       "[10 rows x 4 columns]<br/>\n",
       "</div>"
      ],
      "text/plain": [
       "Columns:\n",
       "\tItem-ID\tint\n",
       "\tsimilar\tint\n",
       "\tscore\tfloat\n",
       "\trank\tint\n",
       "\n",
       "Rows: 10\n",
       "\n",
       "Data:\n",
       "+---------+---------+-----------------+------+\n",
       "| Item-ID | similar |      score      | rank |\n",
       "+---------+---------+-----------------+------+\n",
       "|    5    |    20   |  0.192786335945 |  1   |\n",
       "|    5    |    43   |  0.160199642181 |  2   |\n",
       "|    5    |    51   |  0.130829274654 |  3   |\n",
       "|    7    |    8    |  0.355112314224 |  1   |\n",
       "|    7    |    15   |  0.30671608448  |  2   |\n",
       "|    7    |    16   |  0.219020068645 |  3   |\n",
       "|    8    |    13   |  0.359930694103 |  1   |\n",
       "|    8    |    7    |  0.355112314224 |  2   |\n",
       "|    8    |    5    | 0.0332475304604 |  3   |\n",
       "|    13   |    8    |  0.359930694103 |  1   |\n",
       "+---------+---------+-----------------+------+\n",
       "[10 rows x 4 columns]"
      ]
     },
     "execution_count": 105,
     "metadata": {},
     "output_type": "execute_result"
    }
   ],
   "source": [
    "# from graphlab.recommender import item_similarity_recommender\n",
    "\n",
    "item_item = gl.recommender.item_similarity_recommender.create(data, \n",
    "                                  user_id=\"User-ID\", \n",
    "                                  item_id=\"Item-ID\", \n",
    "                                  target=\"rating\",\n",
    "                                  only_top_k=3,\n",
    "                                  similarity_type=\"pearson\")\n",
    "\n",
    "results = item_item.get_similar_items(k=3)\n",
    "results.head()"
   ]
  },
  {
   "cell_type": "markdown",
   "metadata": {},
   "source": [
    "The item-item matrix is typically a good baseline. Our goal is to recommend jokes to specific users based on their demonstrated preferences which the item-item matrix does not capture.  \n",
    "\n",
    "In order to test the recommendation quality of our models we also need to perform cross-validation and choose some criteria for comparison. One such measure is Root Mean Squared Error (RMSE). RMSE takes into account the difference between the predicted rating and the actual rating of jokes. RMSE can be calculated in the following ways:\n",
    "\n",
    "$$RMSE=\\sqrt{\\frac{1}{N}\\sum_{i=1}^N (\\hat{y}_i-y_i)^2}$$\n",
    "\n",
    "Or we can calculate the RMSE for each user, U, in our data:\n",
    "\n",
    "$$\\underbrace{RMSE(U)}_{\\text{user=U}}=\\sqrt{\\frac{1}{|U|}\\sum_{u\\in U} (\\hat{y}_u-y_u)^2}$$\n",
    "\n",
    "Or we can calculate the RMSE for each item, J, in our data:\n",
    "\n",
    "$$\\underbrace{RMSE(J)}_{\\text{item=J}}=\\sqrt{\\frac{1}{|J|}\\sum_{j\\in J} (\\hat{y}_j-y_j)^2}$$\n",
    "\n",
    "It's importatn to understand that RMSE(U) and RMSE(J) are arrays of averages, the size of the unique number of users or unique number of items, respectively. \n",
    "\n",
    "So let's now create a holdout set and see if we can judge the RMSE on a per-user and per-item basis:"
   ]
  },
  {
   "cell_type": "markdown",
   "metadata": {},
   "source": [
    "## Triaining and Testing Split:"
   ]
  },
  {
   "cell_type": "code",
   "execution_count": 106,
   "metadata": {
    "collapsed": true
   },
   "outputs": [],
   "source": [
    "train, test = gl.recommender.util.random_split_by_user(data,\n",
    "                                                    user_id=\"User-ID\", item_id=\"Item-ID\",\n",
    "                                                    max_num_users=100, item_test_proportion=0.2)"
   ]
  },
  {
   "cell_type": "markdown",
   "metadata": {},
   "source": [
    "Now we can use the training and test sets to evaluate our models. The first results are for the item-item similarity model and include RMSE, Precision, and Recall. We will discuss RMSE first."
   ]
  },
  {
   "cell_type": "code",
   "execution_count": 107,
   "metadata": {
    "collapsed": false,
    "scrolled": false
   },
   "outputs": [
    {
     "data": {
      "text/html": [
       "<pre>Recsys training: model = item_similarity</pre>"
      ],
      "text/plain": [
       "Recsys training: model = item_similarity"
      ]
     },
     "metadata": {},
     "output_type": "display_data"
    },
    {
     "data": {
      "text/html": [
       "<pre>Warning: Ignoring columns Joke;</pre>"
      ],
      "text/plain": [
       "Warning: Ignoring columns Joke;"
      ]
     },
     "metadata": {},
     "output_type": "display_data"
    },
    {
     "data": {
      "text/html": [
       "<pre>    To use these columns in scoring predictions, use a model that allows the use of additional features.</pre>"
      ],
      "text/plain": [
       "    To use these columns in scoring predictions, use a model that allows the use of additional features."
      ]
     },
     "metadata": {},
     "output_type": "display_data"
    },
    {
     "data": {
      "text/html": [
       "<pre>Preparing data set.</pre>"
      ],
      "text/plain": [
       "Preparing data set."
      ]
     },
     "metadata": {},
     "output_type": "display_data"
    },
    {
     "data": {
      "text/html": [
       "<pre>    Data has 1760844 observations with 59132 users and 140 items.</pre>"
      ],
      "text/plain": [
       "    Data has 1760844 observations with 59132 users and 140 items."
      ]
     },
     "metadata": {},
     "output_type": "display_data"
    },
    {
     "data": {
      "text/html": [
       "<pre>    Data prepared in: 1.03807s</pre>"
      ],
      "text/plain": [
       "    Data prepared in: 1.03807s"
      ]
     },
     "metadata": {},
     "output_type": "display_data"
    },
    {
     "data": {
      "text/html": [
       "<pre>Training model from provided data.</pre>"
      ],
      "text/plain": [
       "Training model from provided data."
      ]
     },
     "metadata": {},
     "output_type": "display_data"
    },
    {
     "data": {
      "text/html": [
       "<pre>Gathering per-item and per-user statistics.</pre>"
      ],
      "text/plain": [
       "Gathering per-item and per-user statistics."
      ]
     },
     "metadata": {},
     "output_type": "display_data"
    },
    {
     "data": {
      "text/html": [
       "<pre>+--------------------------------+------------+</pre>"
      ],
      "text/plain": [
       "+--------------------------------+------------+"
      ]
     },
     "metadata": {},
     "output_type": "display_data"
    },
    {
     "data": {
      "text/html": [
       "<pre>| Elapsed Time (Item Statistics) | % Complete |</pre>"
      ],
      "text/plain": [
       "| Elapsed Time (Item Statistics) | % Complete |"
      ]
     },
     "metadata": {},
     "output_type": "display_data"
    },
    {
     "data": {
      "text/html": [
       "<pre>+--------------------------------+------------+</pre>"
      ],
      "text/plain": [
       "+--------------------------------+------------+"
      ]
     },
     "metadata": {},
     "output_type": "display_data"
    },
    {
     "data": {
      "text/html": [
       "<pre>| 2.504ms                        | 3.25       |</pre>"
      ],
      "text/plain": [
       "| 2.504ms                        | 3.25       |"
      ]
     },
     "metadata": {},
     "output_type": "display_data"
    },
    {
     "data": {
      "text/html": [
       "<pre>| 68.022ms                       | 100        |</pre>"
      ],
      "text/plain": [
       "| 68.022ms                       | 100        |"
      ]
     },
     "metadata": {},
     "output_type": "display_data"
    },
    {
     "data": {
      "text/html": [
       "<pre>+--------------------------------+------------+</pre>"
      ],
      "text/plain": [
       "+--------------------------------+------------+"
      ]
     },
     "metadata": {},
     "output_type": "display_data"
    },
    {
     "data": {
      "text/html": [
       "<pre>Setting up lookup tables.</pre>"
      ],
      "text/plain": [
       "Setting up lookup tables."
      ]
     },
     "metadata": {},
     "output_type": "display_data"
    },
    {
     "data": {
      "text/html": [
       "<pre>Processing data in one pass using dense lookup tables.</pre>"
      ],
      "text/plain": [
       "Processing data in one pass using dense lookup tables."
      ]
     },
     "metadata": {},
     "output_type": "display_data"
    },
    {
     "data": {
      "text/html": [
       "<pre>+-------------------------------------+------------------+-----------------+</pre>"
      ],
      "text/plain": [
       "+-------------------------------------+------------------+-----------------+"
      ]
     },
     "metadata": {},
     "output_type": "display_data"
    },
    {
     "data": {
      "text/html": [
       "<pre>| Elapsed Time (Constructing Lookups) | Total % Complete | Items Processed |</pre>"
      ],
      "text/plain": [
       "| Elapsed Time (Constructing Lookups) | Total % Complete | Items Processed |"
      ]
     },
     "metadata": {},
     "output_type": "display_data"
    },
    {
     "data": {
      "text/html": [
       "<pre>+-------------------------------------+------------------+-----------------+</pre>"
      ],
      "text/plain": [
       "+-------------------------------------+------------------+-----------------+"
      ]
     },
     "metadata": {},
     "output_type": "display_data"
    },
    {
     "data": {
      "text/html": [
       "<pre>| 69.022ms                            | 0                | 0               |</pre>"
      ],
      "text/plain": [
       "| 69.022ms                            | 0                | 0               |"
      ]
     },
     "metadata": {},
     "output_type": "display_data"
    },
    {
     "data": {
      "text/html": [
       "<pre>| 1.06s                               | 37.25            | 52              |</pre>"
      ],
      "text/plain": [
       "| 1.06s                               | 37.25            | 52              |"
      ]
     },
     "metadata": {},
     "output_type": "display_data"
    },
    {
     "data": {
      "text/html": [
       "<pre>| 1.41s                               | 100              | 140             |</pre>"
      ],
      "text/plain": [
       "| 1.41s                               | 100              | 140             |"
      ]
     },
     "metadata": {},
     "output_type": "display_data"
    },
    {
     "data": {
      "text/html": [
       "<pre>+-------------------------------------+------------------+-----------------+</pre>"
      ],
      "text/plain": [
       "+-------------------------------------+------------------+-----------------+"
      ]
     },
     "metadata": {},
     "output_type": "display_data"
    },
    {
     "data": {
      "text/html": [
       "<pre>Finalizing lookup tables.</pre>"
      ],
      "text/plain": [
       "Finalizing lookup tables."
      ]
     },
     "metadata": {},
     "output_type": "display_data"
    },
    {
     "data": {
      "text/html": [
       "<pre>Generating candidate set for working with new users.</pre>"
      ],
      "text/plain": [
       "Generating candidate set for working with new users."
      ]
     },
     "metadata": {},
     "output_type": "display_data"
    },
    {
     "data": {
      "text/html": [
       "<pre>Finished training in 1.51338s</pre>"
      ],
      "text/plain": [
       "Finished training in 1.51338s"
      ]
     },
     "metadata": {},
     "output_type": "display_data"
    },
    {
     "name": "stdout",
     "output_type": "stream",
     "text": [
      "\n",
      "Precision and recall summary statistics by cutoff\n",
      "+--------+----------------+-----------------+\n",
      "| cutoff | mean_precision |   mean_recall   |\n",
      "+--------+----------------+-----------------+\n",
      "|   1    | 0.344827586207 | 0.0571420771096 |\n",
      "|   2    | 0.293103448276 | 0.0820033682053 |\n",
      "|   3    | 0.275862068966 |   0.1124618607  |\n",
      "|   4    | 0.264367816092 |  0.137966877552 |\n",
      "|   5    | 0.252873563218 |  0.160185244078 |\n",
      "|   6    | 0.227969348659 |  0.169192407163 |\n",
      "|   7    | 0.215106732348 |  0.184559736726 |\n",
      "|   8    | 0.206896551724 |  0.201528646451 |\n",
      "|   9    | 0.208173690932 |  0.219821973333 |\n",
      "|   10   |      0.2       |  0.23138368406  |\n",
      "+--------+----------------+-----------------+\n",
      "[10 rows x 3 columns]\n",
      "\n",
      "('\\nOverall RMSE: ', 5.05509465404442)\n",
      "\n",
      "Per User RMSE (best)\n",
      "+---------+-------+----------------+\n",
      "| User-ID | count |      rmse      |\n",
      "+---------+-------+----------------+\n",
      "|  23821  |   2   | 0.716907286459 |\n",
      "+---------+-------+----------------+\n",
      "[1 rows x 3 columns]\n",
      "\n",
      "\n",
      "Per User RMSE (worst)\n",
      "+---------+-------+---------------+\n",
      "| User-ID | count |      rmse     |\n",
      "+---------+-------+---------------+\n",
      "|  11117  |   1   | 12.1893866453 |\n",
      "+---------+-------+---------------+\n",
      "[1 rows x 3 columns]\n",
      "\n",
      "\n",
      "Per Item RMSE (best)\n",
      "+---------+-------+----------------+\n",
      "| Item-ID | count |      rmse      |\n",
      "+---------+-------+----------------+\n",
      "|    90   |   1   | 0.698357425455 |\n",
      "+---------+-------+----------------+\n",
      "[1 rows x 3 columns]\n",
      "\n",
      "\n",
      "Per Item RMSE (worst)\n",
      "+---------+-------+---------------+\n",
      "| Item-ID | count |      rmse     |\n",
      "+---------+-------+---------------+\n",
      "|    59   |   2   | 10.4115810153 |\n",
      "+---------+-------+---------------+\n",
      "[1 rows x 3 columns]\n",
      "\n"
     ]
    }
   ],
   "source": [
    "from IPython.display import display\n",
    "from IPython.display import Image\n",
    "\n",
    "gl.canvas.set_target('ipynb')\n",
    "\n",
    "\n",
    "item_item = gl.recommender.item_similarity_recommender.create(train, \n",
    "                                  user_id=\"User-ID\", \n",
    "                                  item_id=\"Item-ID\", \n",
    "                                  target=\"rating\",\n",
    "                                  only_top_k=5,\n",
    "                                  similarity_type=\"pearson\")\n",
    "\n",
    "rmse_results = item_item.evaluate(test)\n"
   ]
  },
  {
   "cell_type": "markdown",
   "metadata": {},
   "source": [
    "These results display quite a bit of information including the overall RMSE. For this model it is 5.055."
   ]
  },
  {
   "cell_type": "code",
   "execution_count": 108,
   "metadata": {
    "collapsed": false
   },
   "outputs": [
    {
     "name": "stdout",
     "output_type": "stream",
     "text": [
      "dict_keys(['rmse_by_user', 'precision_recall_overall', 'rmse_by_item', 'precision_recall_by_user', 'rmse_overall'])\n",
      "5.05509465404\n"
     ]
    }
   ],
   "source": [
    "print rmse_results.viewkeys()\n",
    "print rmse_results['rmse_overall']"
   ]
  },
  {
   "cell_type": "markdown",
   "metadata": {},
   "source": [
    "What about The by user RMSE? Ten are shown below, followed by a histogram showing the distribution of the RMSE for users with more than 5 jokes rated. Nothing systematic is apparent."
   ]
  },
  {
   "cell_type": "code",
   "execution_count": 109,
   "metadata": {
    "collapsed": false
   },
   "outputs": [
    {
     "name": "stdout",
     "output_type": "stream",
     "text": [
      "+---------+-------+----------------+\n",
      "| User-ID | count |      rmse      |\n",
      "+---------+-------+----------------+\n",
      "|  61709  |   3   | 6.10651826809  |\n",
      "|  58409  |   1   |  9.8566073689  |\n",
      "|  49076  |   30  | 7.59199859168  |\n",
      "|  57975  |   5   | 2.37633189984  |\n",
      "|  29556  |   2   | 0.983445879546 |\n",
      "|   7492  |   2   |  6.6237846066  |\n",
      "|  55558  |   1   | 7.62924083871  |\n",
      "|  10802  |   4   | 4.29582786682  |\n",
      "|  11654  |   3   | 7.36439496636  |\n",
      "|  30320  |   8   |  4.3287101213  |\n",
      "+---------+-------+----------------+\n",
      "[87 rows x 3 columns]\n",
      "Note: Only the head of the SFrame is printed.\n",
      "You can use print_rows(num_rows=m, num_columns=n) to print more rows and columns.\n"
     ]
    }
   ],
   "source": [
    "print rmse_results['rmse_by_user']"
   ]
  },
  {
   "cell_type": "code",
   "execution_count": 110,
   "metadata": {
    "collapsed": false
   },
   "outputs": [
    {
     "data": {
      "image/png": "[encoded data removed]",
      "text/plain": [
       "<matplotlib.figure.Figure at 0x9f8c32b0>"
      ]
     },
     "metadata": {},
     "output_type": "display_data"
    }
   ],
   "source": [
    "from matplotlib import pyplot as plt\n",
    "%matplotlib inline\n",
    "plt.style.use('ggplot')\n",
    "\n",
    "rmsevals = rmse_results['rmse_by_user']['rmse']\n",
    "rmsevals = rmsevals[rmse_results['rmse_by_user']['count']>5]\n",
    "\n",
    "plt.hist(rmsevals, bins = 20)\n",
    "plt.title('RMSE by User')\n",
    "plt.show()"
   ]
  },
  {
   "cell_type": "markdown",
   "metadata": {},
   "source": [
    "Now looking at the item RMSE. These are consistently lower than the by user RMSE with perhaps a better behaved distribution."
   ]
  },
  {
   "cell_type": "code",
   "execution_count": 111,
   "metadata": {
    "collapsed": false
   },
   "outputs": [
    {
     "name": "stdout",
     "output_type": "stream",
     "text": [
      "+---------+-------+---------------+\n",
      "| Item-ID | count |      rmse     |\n",
      "+---------+-------+---------------+\n",
      "|   118   |   4   | 4.24583362938 |\n",
      "|    49   |   4   | 3.91077191967 |\n",
      "|    13   |   22  | 5.11941309731 |\n",
      "|    60   |   3   | 7.79080453524 |\n",
      "|   132   |   7   | 4.34584621474 |\n",
      "|    36   |   5   | 5.21218847767 |\n",
      "|   136   |   2   |  7.3111045982 |\n",
      "|   105   |   7   | 5.70034034587 |\n",
      "|    24   |   5   | 5.46251132813 |\n",
      "|    71   |   1   | 6.80014140747 |\n",
      "+---------+-------+---------------+\n",
      "[123 rows x 3 columns]\n",
      "Note: Only the head of the SFrame is printed.\n",
      "You can use print_rows(num_rows=m, num_columns=n) to print more rows and columns.\n"
     ]
    }
   ],
   "source": [
    "print rmse_results['rmse_by_item']"
   ]
  },
  {
   "cell_type": "code",
   "execution_count": 112,
   "metadata": {
    "collapsed": false
   },
   "outputs": [
    {
     "data": {
      "image/png": "[encoded data removed]",
      "text/plain": [
       "<matplotlib.figure.Figure at 0x86e0abe0>"
      ]
     },
     "metadata": {},
     "output_type": "display_data"
    }
   ],
   "source": [
    "from matplotlib import pyplot as plt\n",
    "%matplotlib inline\n",
    "plt.style.use('ggplot')\n",
    "\n",
    "rmsevals = rmse_results['rmse_by_item']['rmse']\n",
    "rmsevals = rmsevals[rmse_results['rmse_by_item']['count']>5]\n",
    "\n",
    "plt.hist(rmsevals, bins = 20)\n",
    "plt.title('RMSE by Item')\n",
    "plt.show()"
   ]
  },
  {
   "cell_type": "markdown",
   "metadata": {},
   "source": [
    "___\n",
    "Per-user recall and precision are two additional evaluation criteria. Recall and precision are measurements of how well our model predicts what occurs in the test set.\n",
    "\n",
    "We define the per user measures as follows: Let $p_k$ be a vector of the $k$ highest ranked recommendations for a particular user and let $a$ be the set of all positively ranked items for that user in the test set. \n",
    "\n",
    "The per-user-recall for k-items is given by:\n",
    "\n",
    "$$R(k)=\\frac{|a \\cap p_k|}{|a|} $$\n",
    "\n",
    "Which means, intuitively, \"of all the items rated positively by the user, how many did your recommender find?\"\n",
    "\n",
    "The per-user-precision for k-items is given by:\n",
    "\n",
    "$$P(k)=\\frac{|a \\cap p_k|}{k} $$\n",
    "\n",
    "Which means, intuitively, \"of the k items found by your recommender, how many were rated positively by the user?\"\n",
    "\n",
    "These, like per user RMSE, are arrays the same size as the unique number of users in the dataset."
   ]
  },
  {
   "cell_type": "code",
   "execution_count": 113,
   "metadata": {
    "collapsed": false
   },
   "outputs": [
    {
     "data": {
      "text/html": [
       "<div style=\"max-height:1000px;max-width:1500px;overflow:auto;\"><table frame=\"box\" rules=\"cols\">\n",
       "    <tr>\n",
       "        <th style=\"padding-left: 1em; padding-right: 1em; text-align: center\">User-ID</th>\n",
       "        <th style=\"padding-left: 1em; padding-right: 1em; text-align: center\">cutoff</th>\n",
       "        <th style=\"padding-left: 1em; padding-right: 1em; text-align: center\">precision</th>\n",
       "        <th style=\"padding-left: 1em; padding-right: 1em; text-align: center\">recall</th>\n",
       "        <th style=\"padding-left: 1em; padding-right: 1em; text-align: center\">count</th>\n",
       "    </tr>\n",
       "    <tr>\n",
       "        <td style=\"padding-left: 1em; padding-right: 1em; text-align: center; vertical-align: top\">2067</td>\n",
       "        <td style=\"padding-left: 1em; padding-right: 1em; text-align: center; vertical-align: top\">1</td>\n",
       "        <td style=\"padding-left: 1em; padding-right: 1em; text-align: center; vertical-align: top\">0.0</td>\n",
       "        <td style=\"padding-left: 1em; padding-right: 1em; text-align: center; vertical-align: top\">0.0</td>\n",
       "        <td style=\"padding-left: 1em; padding-right: 1em; text-align: center; vertical-align: top\">11</td>\n",
       "    </tr>\n",
       "    <tr>\n",
       "        <td style=\"padding-left: 1em; padding-right: 1em; text-align: center; vertical-align: top\">2067</td>\n",
       "        <td style=\"padding-left: 1em; padding-right: 1em; text-align: center; vertical-align: top\">2</td>\n",
       "        <td style=\"padding-left: 1em; padding-right: 1em; text-align: center; vertical-align: top\">0.0</td>\n",
       "        <td style=\"padding-left: 1em; padding-right: 1em; text-align: center; vertical-align: top\">0.0</td>\n",
       "        <td style=\"padding-left: 1em; padding-right: 1em; text-align: center; vertical-align: top\">11</td>\n",
       "    </tr>\n",
       "    <tr>\n",
       "        <td style=\"padding-left: 1em; padding-right: 1em; text-align: center; vertical-align: top\">2067</td>\n",
       "        <td style=\"padding-left: 1em; padding-right: 1em; text-align: center; vertical-align: top\">3</td>\n",
       "        <td style=\"padding-left: 1em; padding-right: 1em; text-align: center; vertical-align: top\">0.333333333333</td>\n",
       "        <td style=\"padding-left: 1em; padding-right: 1em; text-align: center; vertical-align: top\">0.0909090909091</td>\n",
       "        <td style=\"padding-left: 1em; padding-right: 1em; text-align: center; vertical-align: top\">11</td>\n",
       "    </tr>\n",
       "    <tr>\n",
       "        <td style=\"padding-left: 1em; padding-right: 1em; text-align: center; vertical-align: top\">2067</td>\n",
       "        <td style=\"padding-left: 1em; padding-right: 1em; text-align: center; vertical-align: top\">4</td>\n",
       "        <td style=\"padding-left: 1em; padding-right: 1em; text-align: center; vertical-align: top\">0.25</td>\n",
       "        <td style=\"padding-left: 1em; padding-right: 1em; text-align: center; vertical-align: top\">0.0909090909091</td>\n",
       "        <td style=\"padding-left: 1em; padding-right: 1em; text-align: center; vertical-align: top\">11</td>\n",
       "    </tr>\n",
       "    <tr>\n",
       "        <td style=\"padding-left: 1em; padding-right: 1em; text-align: center; vertical-align: top\">2067</td>\n",
       "        <td style=\"padding-left: 1em; padding-right: 1em; text-align: center; vertical-align: top\">5</td>\n",
       "        <td style=\"padding-left: 1em; padding-right: 1em; text-align: center; vertical-align: top\">0.2</td>\n",
       "        <td style=\"padding-left: 1em; padding-right: 1em; text-align: center; vertical-align: top\">0.0909090909091</td>\n",
       "        <td style=\"padding-left: 1em; padding-right: 1em; text-align: center; vertical-align: top\">11</td>\n",
       "    </tr>\n",
       "    <tr>\n",
       "        <td style=\"padding-left: 1em; padding-right: 1em; text-align: center; vertical-align: top\">2067</td>\n",
       "        <td style=\"padding-left: 1em; padding-right: 1em; text-align: center; vertical-align: top\">6</td>\n",
       "        <td style=\"padding-left: 1em; padding-right: 1em; text-align: center; vertical-align: top\">0.166666666667</td>\n",
       "        <td style=\"padding-left: 1em; padding-right: 1em; text-align: center; vertical-align: top\">0.0909090909091</td>\n",
       "        <td style=\"padding-left: 1em; padding-right: 1em; text-align: center; vertical-align: top\">11</td>\n",
       "    </tr>\n",
       "    <tr>\n",
       "        <td style=\"padding-left: 1em; padding-right: 1em; text-align: center; vertical-align: top\">2067</td>\n",
       "        <td style=\"padding-left: 1em; padding-right: 1em; text-align: center; vertical-align: top\">7</td>\n",
       "        <td style=\"padding-left: 1em; padding-right: 1em; text-align: center; vertical-align: top\">0.142857142857</td>\n",
       "        <td style=\"padding-left: 1em; padding-right: 1em; text-align: center; vertical-align: top\">0.0909090909091</td>\n",
       "        <td style=\"padding-left: 1em; padding-right: 1em; text-align: center; vertical-align: top\">11</td>\n",
       "    </tr>\n",
       "    <tr>\n",
       "        <td style=\"padding-left: 1em; padding-right: 1em; text-align: center; vertical-align: top\">2067</td>\n",
       "        <td style=\"padding-left: 1em; padding-right: 1em; text-align: center; vertical-align: top\">8</td>\n",
       "        <td style=\"padding-left: 1em; padding-right: 1em; text-align: center; vertical-align: top\">0.125</td>\n",
       "        <td style=\"padding-left: 1em; padding-right: 1em; text-align: center; vertical-align: top\">0.0909090909091</td>\n",
       "        <td style=\"padding-left: 1em; padding-right: 1em; text-align: center; vertical-align: top\">11</td>\n",
       "    </tr>\n",
       "    <tr>\n",
       "        <td style=\"padding-left: 1em; padding-right: 1em; text-align: center; vertical-align: top\">2067</td>\n",
       "        <td style=\"padding-left: 1em; padding-right: 1em; text-align: center; vertical-align: top\">9</td>\n",
       "        <td style=\"padding-left: 1em; padding-right: 1em; text-align: center; vertical-align: top\">0.111111111111</td>\n",
       "        <td style=\"padding-left: 1em; padding-right: 1em; text-align: center; vertical-align: top\">0.0909090909091</td>\n",
       "        <td style=\"padding-left: 1em; padding-right: 1em; text-align: center; vertical-align: top\">11</td>\n",
       "    </tr>\n",
       "    <tr>\n",
       "        <td style=\"padding-left: 1em; padding-right: 1em; text-align: center; vertical-align: top\">2067</td>\n",
       "        <td style=\"padding-left: 1em; padding-right: 1em; text-align: center; vertical-align: top\">10</td>\n",
       "        <td style=\"padding-left: 1em; padding-right: 1em; text-align: center; vertical-align: top\">0.1</td>\n",
       "        <td style=\"padding-left: 1em; padding-right: 1em; text-align: center; vertical-align: top\">0.0909090909091</td>\n",
       "        <td style=\"padding-left: 1em; padding-right: 1em; text-align: center; vertical-align: top\">11</td>\n",
       "    </tr>\n",
       "</table>\n",
       "[1566 rows x 5 columns]<br/>Note: Only the head of the SFrame is printed.<br/>You can use print_rows(num_rows=m, num_columns=n) to print more rows and columns.\n",
       "</div>"
      ],
      "text/plain": [
       "Columns:\n",
       "\tUser-ID\tint\n",
       "\tcutoff\tint\n",
       "\tprecision\tfloat\n",
       "\trecall\tfloat\n",
       "\tcount\tint\n",
       "\n",
       "Rows: 1566\n",
       "\n",
       "Data:\n",
       "+---------+--------+----------------+-----------------+-------+\n",
       "| User-ID | cutoff |   precision    |      recall     | count |\n",
       "+---------+--------+----------------+-----------------+-------+\n",
       "|   2067  |   1    |      0.0       |       0.0       |   11  |\n",
       "|   2067  |   2    |      0.0       |       0.0       |   11  |\n",
       "|   2067  |   3    | 0.333333333333 | 0.0909090909091 |   11  |\n",
       "|   2067  |   4    |      0.25      | 0.0909090909091 |   11  |\n",
       "|   2067  |   5    |      0.2       | 0.0909090909091 |   11  |\n",
       "|   2067  |   6    | 0.166666666667 | 0.0909090909091 |   11  |\n",
       "|   2067  |   7    | 0.142857142857 | 0.0909090909091 |   11  |\n",
       "|   2067  |   8    |     0.125      | 0.0909090909091 |   11  |\n",
       "|   2067  |   9    | 0.111111111111 | 0.0909090909091 |   11  |\n",
       "|   2067  |   10   |      0.1       | 0.0909090909091 |   11  |\n",
       "+---------+--------+----------------+-----------------+-------+\n",
       "[1566 rows x 5 columns]\n",
       "Note: Only the head of the SFrame is printed.\n",
       "You can use print_rows(num_rows=m, num_columns=n) to print more rows and columns."
      ]
     },
     "execution_count": 113,
     "metadata": {},
     "output_type": "execute_result"
    }
   ],
   "source": [
    "rmse_results['precision_recall_by_user']"
   ]
  },
  {
   "cell_type": "markdown",
   "metadata": {},
   "source": [
    "For the user shown above, 2067, the highest precision is found with cutoff of 3 while the highest recall is 3 or greater. We want to evaluate the entire model, not just one user at a time. Let's aggregate these scores."
   ]
  },
  {
   "cell_type": "code",
   "execution_count": 116,
   "metadata": {
    "collapsed": false
   },
   "outputs": [
    {
     "data": {
      "text/html": [
       "<div style=\"max-height:1000px;max-width:1500px;overflow:auto;\"><table frame=\"box\" rules=\"cols\">\n",
       "    <tr>\n",
       "        <th style=\"padding-left: 1em; padding-right: 1em; text-align: center\">cutoff</th>\n",
       "        <th style=\"padding-left: 1em; padding-right: 1em; text-align: center\">Avg of precision</th>\n",
       "        <th style=\"padding-left: 1em; padding-right: 1em; text-align: center\">Stdv of precision</th>\n",
       "        <th style=\"padding-left: 1em; padding-right: 1em; text-align: center\">Avg of recall</th>\n",
       "        <th style=\"padding-left: 1em; padding-right: 1em; text-align: center\">Stdv of recall</th>\n",
       "    </tr>\n",
       "    <tr>\n",
       "        <td style=\"padding-left: 1em; padding-right: 1em; text-align: center; vertical-align: top\">36</td>\n",
       "        <td style=\"padding-left: 1em; padding-right: 1em; text-align: center; vertical-align: top\">0.129062380787</td>\n",
       "        <td style=\"padding-left: 1em; padding-right: 1em; text-align: center; vertical-align: top\">0.188257389783</td>\n",
       "        <td style=\"padding-left: 1em; padding-right: 1em; text-align: center; vertical-align: top\">0.474941876104</td>\n",
       "        <td style=\"padding-left: 1em; padding-right: 1em; text-align: center; vertical-align: top\">0.386790913773</td>\n",
       "    </tr>\n",
       "    <tr>\n",
       "        <td style=\"padding-left: 1em; padding-right: 1em; text-align: center; vertical-align: top\">2</td>\n",
       "        <td style=\"padding-left: 1em; padding-right: 1em; text-align: center; vertical-align: top\">0.293103448276</td>\n",
       "        <td style=\"padding-left: 1em; padding-right: 1em; text-align: center; vertical-align: top\">0.405080693947</td>\n",
       "        <td style=\"padding-left: 1em; padding-right: 1em; text-align: center; vertical-align: top\">0.0820033682053</td>\n",
       "        <td style=\"padding-left: 1em; padding-right: 1em; text-align: center; vertical-align: top\">0.170684219807</td>\n",
       "    </tr>\n",
       "    <tr>\n",
       "        <td style=\"padding-left: 1em; padding-right: 1em; text-align: center; vertical-align: top\">46</td>\n",
       "        <td style=\"padding-left: 1em; padding-right: 1em; text-align: center; vertical-align: top\">0.117486485403</td>\n",
       "        <td style=\"padding-left: 1em; padding-right: 1em; text-align: center; vertical-align: top\">0.182533084985</td>\n",
       "        <td style=\"padding-left: 1em; padding-right: 1em; text-align: center; vertical-align: top\">0.509065979276</td>\n",
       "        <td style=\"padding-left: 1em; padding-right: 1em; text-align: center; vertical-align: top\">0.392103742281</td>\n",
       "    </tr>\n",
       "    <tr>\n",
       "        <td style=\"padding-left: 1em; padding-right: 1em; text-align: center; vertical-align: top\">31</td>\n",
       "        <td style=\"padding-left: 1em; padding-right: 1em; text-align: center; vertical-align: top\">0.13644790508</td>\n",
       "        <td style=\"padding-left: 1em; padding-right: 1em; text-align: center; vertical-align: top\">0.191229537095</td>\n",
       "        <td style=\"padding-left: 1em; padding-right: 1em; text-align: center; vertical-align: top\">0.447569829804</td>\n",
       "        <td style=\"padding-left: 1em; padding-right: 1em; text-align: center; vertical-align: top\">0.369337487828</td>\n",
       "    </tr>\n",
       "    <tr>\n",
       "        <td style=\"padding-left: 1em; padding-right: 1em; text-align: center; vertical-align: top\">26</td>\n",
       "        <td style=\"padding-left: 1em; padding-right: 1em; text-align: center; vertical-align: top\">0.147214854111</td>\n",
       "        <td style=\"padding-left: 1em; padding-right: 1em; text-align: center; vertical-align: top\">0.198974355831</td>\n",
       "        <td style=\"padding-left: 1em; padding-right: 1em; text-align: center; vertical-align: top\">0.4000910163</td>\n",
       "        <td style=\"padding-left: 1em; padding-right: 1em; text-align: center; vertical-align: top\">0.347935322117</td>\n",
       "    </tr>\n",
       "    <tr>\n",
       "        <td style=\"padding-left: 1em; padding-right: 1em; text-align: center; vertical-align: top\">8</td>\n",
       "        <td style=\"padding-left: 1em; padding-right: 1em; text-align: center; vertical-align: top\">0.206896551724</td>\n",
       "        <td style=\"padding-left: 1em; padding-right: 1em; text-align: center; vertical-align: top\">0.261809838618</td>\n",
       "        <td style=\"padding-left: 1em; padding-right: 1em; text-align: center; vertical-align: top\">0.201528646451</td>\n",
       "        <td style=\"padding-left: 1em; padding-right: 1em; text-align: center; vertical-align: top\">0.241118317807</td>\n",
       "    </tr>\n",
       "    <tr>\n",
       "        <td style=\"padding-left: 1em; padding-right: 1em; text-align: center; vertical-align: top\">5</td>\n",
       "        <td style=\"padding-left: 1em; padding-right: 1em; text-align: center; vertical-align: top\">0.252873563218</td>\n",
       "        <td style=\"padding-left: 1em; padding-right: 1em; text-align: center; vertical-align: top\">0.309927347979</td>\n",
       "        <td style=\"padding-left: 1em; padding-right: 1em; text-align: center; vertical-align: top\">0.160185244078</td>\n",
       "        <td style=\"padding-left: 1em; padding-right: 1em; text-align: center; vertical-align: top\">0.208834291472</td>\n",
       "    </tr>\n",
       "    <tr>\n",
       "        <td style=\"padding-left: 1em; padding-right: 1em; text-align: center; vertical-align: top\">16</td>\n",
       "        <td style=\"padding-left: 1em; padding-right: 1em; text-align: center; vertical-align: top\">0.171695402299</td>\n",
       "        <td style=\"padding-left: 1em; padding-right: 1em; text-align: center; vertical-align: top\">0.221066021713</td>\n",
       "        <td style=\"padding-left: 1em; padding-right: 1em; text-align: center; vertical-align: top\">0.311124797149</td>\n",
       "        <td style=\"padding-left: 1em; padding-right: 1em; text-align: center; vertical-align: top\">0.296709180885</td>\n",
       "    </tr>\n",
       "    <tr>\n",
       "        <td style=\"padding-left: 1em; padding-right: 1em; text-align: center; vertical-align: top\">41</td>\n",
       "        <td style=\"padding-left: 1em; padding-right: 1em; text-align: center; vertical-align: top\">0.122342942192</td>\n",
       "        <td style=\"padding-left: 1em; padding-right: 1em; text-align: center; vertical-align: top\">0.183021425664</td>\n",
       "        <td style=\"padding-left: 1em; padding-right: 1em; text-align: center; vertical-align: top\">0.499811183874</td>\n",
       "        <td style=\"padding-left: 1em; padding-right: 1em; text-align: center; vertical-align: top\">0.38798501868</td>\n",
       "    </tr>\n",
       "    <tr>\n",
       "        <td style=\"padding-left: 1em; padding-right: 1em; text-align: center; vertical-align: top\">4</td>\n",
       "        <td style=\"padding-left: 1em; padding-right: 1em; text-align: center; vertical-align: top\">0.264367816092</td>\n",
       "        <td style=\"padding-left: 1em; padding-right: 1em; text-align: center; vertical-align: top\">0.331221012263</td>\n",
       "        <td style=\"padding-left: 1em; padding-right: 1em; text-align: center; vertical-align: top\">0.137966877552</td>\n",
       "        <td style=\"padding-left: 1em; padding-right: 1em; text-align: center; vertical-align: top\">0.200411781187</td>\n",
       "    </tr>\n",
       "</table>\n",
       "[18 rows x 5 columns]<br/>Note: Only the head of the SFrame is printed.<br/>You can use print_rows(num_rows=m, num_columns=n) to print more rows and columns.\n",
       "</div>"
      ],
      "text/plain": [
       "Columns:\n",
       "\tcutoff\tint\n",
       "\tAvg of precision\tfloat\n",
       "\tStdv of precision\tfloat\n",
       "\tAvg of recall\tfloat\n",
       "\tStdv of recall\tfloat\n",
       "\n",
       "Rows: 18\n",
       "\n",
       "Data:\n",
       "+--------+------------------+-------------------+-----------------+\n",
       "| cutoff | Avg of precision | Stdv of precision |  Avg of recall  |\n",
       "+--------+------------------+-------------------+-----------------+\n",
       "|   36   |  0.129062380787  |   0.188257389783  |  0.474941876104 |\n",
       "|   2    |  0.293103448276  |   0.405080693947  | 0.0820033682053 |\n",
       "|   46   |  0.117486485403  |   0.182533084985  |  0.509065979276 |\n",
       "|   31   |  0.13644790508   |   0.191229537095  |  0.447569829804 |\n",
       "|   26   |  0.147214854111  |   0.198974355831  |   0.4000910163  |\n",
       "|   8    |  0.206896551724  |   0.261809838618  |  0.201528646451 |\n",
       "|   5    |  0.252873563218  |   0.309927347979  |  0.160185244078 |\n",
       "|   16   |  0.171695402299  |   0.221066021713  |  0.311124797149 |\n",
       "|   41   |  0.122342942192  |   0.183021425664  |  0.499811183874 |\n",
       "|   4    |  0.264367816092  |   0.331221012263  |  0.137966877552 |\n",
       "+--------+------------------+-------------------+-----------------+\n",
       "+----------------+\n",
       "| Stdv of recall |\n",
       "+----------------+\n",
       "| 0.386790913773 |\n",
       "| 0.170684219807 |\n",
       "| 0.392103742281 |\n",
       "| 0.369337487828 |\n",
       "| 0.347935322117 |\n",
       "| 0.241118317807 |\n",
       "| 0.208834291472 |\n",
       "| 0.296709180885 |\n",
       "| 0.38798501868  |\n",
       "| 0.200411781187 |\n",
       "+----------------+\n",
       "[18 rows x 5 columns]\n",
       "Note: Only the head of the SFrame is printed.\n",
       "You can use print_rows(num_rows=m, num_columns=n) to print more rows and columns."
      ]
     },
     "execution_count": 116,
     "metadata": {},
     "output_type": "execute_result"
    }
   ],
   "source": [
    "import graphlab.aggregate as agg\n",
    "\n",
    "# we will be using these aggregations\n",
    "agg_list = [agg.AVG('precision'),agg.STD('precision'),agg.AVG('recall'),agg.STD('recall')]\n",
    "\n",
    "# apply these functions to each group (we will group the results by 'k' which is the cutoff)\n",
    "# the cutoff is the number of top items to look for see the following URL for the actual equation\n",
    "# https://dato.com/products/create/docs/generated/graphlab.recommender.util.precision_recall_by_user.html#graphlab.recommender.util.precision_recall_by_user\n",
    "rmse_results['precision_recall_by_user'].groupby('cutoff',agg_list)\n",
    "\n",
    "# the groups are not sorted"
   ]
  },
  {
   "cell_type": "markdown",
   "metadata": {},
   "source": [
    "The ghighest precision score shown, 0.29, is with a cut off of only 2, but the standard deviation with a cut off of 2 is a whopping 0.405. Recall appears to increase as the cut off increases. This makes some sense with dense data.  \n",
    "  \n",
    "  \n",
    "Let's try something a little different and look to see if the results get better. Let's start with collaborative filtering to create the user-item matrix. \n",
    "\n",
    "___\n",
    "## Cross Validated Collaborative Filtering"
   ]
  },
  {
   "cell_type": "code",
   "execution_count": 117,
   "metadata": {
    "collapsed": false,
    "scrolled": false
   },
   "outputs": [
    {
     "data": {
      "text/html": [
       "<pre>Recsys training: model = ranking_factorization_recommender</pre>"
      ],
      "text/plain": [
       "Recsys training: model = ranking_factorization_recommender"
      ]
     },
     "metadata": {},
     "output_type": "display_data"
    },
    {
     "data": {
      "text/html": [
       "<pre>Preparing data set.</pre>"
      ],
      "text/plain": [
       "Preparing data set."
      ]
     },
     "metadata": {},
     "output_type": "display_data"
    },
    {
     "data": {
      "text/html": [
       "<pre>    Data has 1760844 observations with 59132 users and 140 items.</pre>"
      ],
      "text/plain": [
       "    Data has 1760844 observations with 59132 users and 140 items."
      ]
     },
     "metadata": {},
     "output_type": "display_data"
    },
    {
     "data": {
      "text/html": [
       "<pre>    Data prepared in: 2.15453s</pre>"
      ],
      "text/plain": [
       "    Data prepared in: 2.15453s"
      ]
     },
     "metadata": {},
     "output_type": "display_data"
    },
    {
     "data": {
      "text/html": [
       "<pre>Training ranking_factorization_recommender for recommendations.</pre>"
      ],
      "text/plain": [
       "Training ranking_factorization_recommender for recommendations."
      ]
     },
     "metadata": {},
     "output_type": "display_data"
    },
    {
     "data": {
      "text/html": [
       "<pre>+--------------------------------+--------------------------------------------------+----------+</pre>"
      ],
      "text/plain": [
       "+--------------------------------+--------------------------------------------------+----------+"
      ]
     },
     "metadata": {},
     "output_type": "display_data"
    },
    {
     "data": {
      "text/html": [
       "<pre>| Parameter                      | Description                                      | Value    |</pre>"
      ],
      "text/plain": [
       "| Parameter                      | Description                                      | Value    |"
      ]
     },
     "metadata": {},
     "output_type": "display_data"
    },
    {
     "data": {
      "text/html": [
       "<pre>+--------------------------------+--------------------------------------------------+----------+</pre>"
      ],
      "text/plain": [
       "+--------------------------------+--------------------------------------------------+----------+"
      ]
     },
     "metadata": {},
     "output_type": "display_data"
    },
    {
     "data": {
      "text/html": [
       "<pre>| num_factors                    | Factor Dimension                                 | 32       |</pre>"
      ],
      "text/plain": [
       "| num_factors                    | Factor Dimension                                 | 32       |"
      ]
     },
     "metadata": {},
     "output_type": "display_data"
    },
    {
     "data": {
      "text/html": [
       "<pre>| regularization                 | L2 Regularization on Factors                     | 1e-009   |</pre>"
      ],
      "text/plain": [
       "| regularization                 | L2 Regularization on Factors                     | 1e-009   |"
      ]
     },
     "metadata": {},
     "output_type": "display_data"
    },
    {
     "data": {
      "text/html": [
       "<pre>| solver                         | Solver used for training                         | adagrad  |</pre>"
      ],
      "text/plain": [
       "| solver                         | Solver used for training                         | adagrad  |"
      ]
     },
     "metadata": {},
     "output_type": "display_data"
    },
    {
     "data": {
      "text/html": [
       "<pre>| linear_regularization          | L2 Regularization on Linear Coefficients         | 1e-009   |</pre>"
      ],
      "text/plain": [
       "| linear_regularization          | L2 Regularization on Linear Coefficients         | 1e-009   |"
      ]
     },
     "metadata": {},
     "output_type": "display_data"
    },
    {
     "data": {
      "text/html": [
       "<pre>| ranking_regularization         | Rank-based Regularization Weight                 | 0.25     |</pre>"
      ],
      "text/plain": [
       "| ranking_regularization         | Rank-based Regularization Weight                 | 0.25     |"
      ]
     },
     "metadata": {},
     "output_type": "display_data"
    },
    {
     "data": {
      "text/html": [
       "<pre>| max_iterations                 | Maximum Number of Iterations                     | 25       |</pre>"
      ],
      "text/plain": [
       "| max_iterations                 | Maximum Number of Iterations                     | 25       |"
      ]
     },
     "metadata": {},
     "output_type": "display_data"
    },
    {
     "data": {
      "text/html": [
       "<pre>+--------------------------------+--------------------------------------------------+----------+</pre>"
      ],
      "text/plain": [
       "+--------------------------------+--------------------------------------------------+----------+"
      ]
     },
     "metadata": {},
     "output_type": "display_data"
    },
    {
     "data": {
      "text/html": [
       "<pre>  Optimizing model using SGD; tuning step size.</pre>"
      ],
      "text/plain": [
       "  Optimizing model using SGD; tuning step size."
      ]
     },
     "metadata": {},
     "output_type": "display_data"
    },
    {
     "data": {
      "text/html": [
       "<pre>  Using 220105 / 1760844 points for tuning the step size.</pre>"
      ],
      "text/plain": [
       "  Using 220105 / 1760844 points for tuning the step size."
      ]
     },
     "metadata": {},
     "output_type": "display_data"
    },
    {
     "data": {
      "text/html": [
       "<pre>+---------+-------------------+------------------------------------------+</pre>"
      ],
      "text/plain": [
       "+---------+-------------------+------------------------------------------+"
      ]
     },
     "metadata": {},
     "output_type": "display_data"
    },
    {
     "data": {
      "text/html": [
       "<pre>| Attempt | Initial Step Size | Estimated Objective Value                |</pre>"
      ],
      "text/plain": [
       "| Attempt | Initial Step Size | Estimated Objective Value                |"
      ]
     },
     "metadata": {},
     "output_type": "display_data"
    },
    {
     "data": {
      "text/html": [
       "<pre>+---------+-------------------+------------------------------------------+</pre>"
      ],
      "text/plain": [
       "+---------+-------------------+------------------------------------------+"
      ]
     },
     "metadata": {},
     "output_type": "display_data"
    },
    {
     "data": {
      "text/html": [
       "<pre>| 0       | 16.6667           | Not Viable                               |</pre>"
      ],
      "text/plain": [
       "| 0       | 16.6667           | Not Viable                               |"
      ]
     },
     "metadata": {},
     "output_type": "display_data"
    },
    {
     "data": {
      "text/html": [
       "<pre>| 1       | 4.16667           | 46.3202                                  |</pre>"
      ],
      "text/plain": [
       "| 1       | 4.16667           | 46.3202                                  |"
      ]
     },
     "metadata": {},
     "output_type": "display_data"
    },
    {
     "data": {
      "text/html": [
       "<pre>| 2       | 2.08333           | 34.0202                                  |</pre>"
      ],
      "text/plain": [
       "| 2       | 2.08333           | 34.0202                                  |"
      ]
     },
     "metadata": {},
     "output_type": "display_data"
    },
    {
     "data": {
      "text/html": [
       "<pre>| 3       | 1.04167           | 19.394                                   |</pre>"
      ],
      "text/plain": [
       "| 3       | 1.04167           | 19.394                                   |"
      ]
     },
     "metadata": {},
     "output_type": "display_data"
    },
    {
     "data": {
      "text/html": [
       "<pre>| 4       | 0.520833          | 1.46589                                  |</pre>"
      ],
      "text/plain": [
       "| 4       | 0.520833          | 1.46589                                  |"
      ]
     },
     "metadata": {},
     "output_type": "display_data"
    },
    {
     "data": {
      "text/html": [
       "<pre>| 5       | 0.260417          | 0.391053                                 |</pre>"
      ],
      "text/plain": [
       "| 5       | 0.260417          | 0.391053                                 |"
      ]
     },
     "metadata": {},
     "output_type": "display_data"
    },
    {
     "data": {
      "text/html": [
       "<pre>| 6       | 0.130208          | 0.871224                                 |</pre>"
      ],
      "text/plain": [
       "| 6       | 0.130208          | 0.871224                                 |"
      ]
     },
     "metadata": {},
     "output_type": "display_data"
    },
    {
     "data": {
      "text/html": [
       "<pre>+---------+-------------------+------------------------------------------+</pre>"
      ],
      "text/plain": [
       "+---------+-------------------+------------------------------------------+"
      ]
     },
     "metadata": {},
     "output_type": "display_data"
    },
    {
     "data": {
      "text/html": [
       "<pre>| Final   | 0.260417          | 0.391053                                 |</pre>"
      ],
      "text/plain": [
       "| Final   | 0.260417          | 0.391053                                 |"
      ]
     },
     "metadata": {},
     "output_type": "display_data"
    },
    {
     "data": {
      "text/html": [
       "<pre>+---------+-------------------+------------------------------------------+</pre>"
      ],
      "text/plain": [
       "+---------+-------------------+------------------------------------------+"
      ]
     },
     "metadata": {},
     "output_type": "display_data"
    },
    {
     "data": {
      "text/html": [
       "<pre>Starting Optimization.</pre>"
      ],
      "text/plain": [
       "Starting Optimization."
      ]
     },
     "metadata": {},
     "output_type": "display_data"
    },
    {
     "data": {
      "text/html": [
       "<pre>+---------+--------------+-------------------+-----------------------+-------------+</pre>"
      ],
      "text/plain": [
       "+---------+--------------+-------------------+-----------------------+-------------+"
      ]
     },
     "metadata": {},
     "output_type": "display_data"
    },
    {
     "data": {
      "text/html": [
       "<pre>| Iter.   | Elapsed Time | Approx. Objective | Approx. Training RMSE | Step Size   |</pre>"
      ],
      "text/plain": [
       "| Iter.   | Elapsed Time | Approx. Objective | Approx. Training RMSE | Step Size   |"
      ]
     },
     "metadata": {},
     "output_type": "display_data"
    },
    {
     "data": {
      "text/html": [
       "<pre>+---------+--------------+-------------------+-----------------------+-------------+</pre>"
      ],
      "text/plain": [
       "+---------+--------------+-------------------+-----------------------+-------------+"
      ]
     },
     "metadata": {},
     "output_type": "display_data"
    },
    {
     "data": {
      "text/html": [
       "<pre>| Initial | 0us          | 55.1112           | 5.30253               |             |</pre>"
      ],
      "text/plain": [
       "| Initial | 0us          | 55.1112           | 5.30253               |             |"
      ]
     },
     "metadata": {},
     "output_type": "display_data"
    },
    {
     "data": {
      "text/html": [
       "<pre>+---------+--------------+-------------------+-----------------------+-------------+</pre>"
      ],
      "text/plain": [
       "+---------+--------------+-------------------+-----------------------+-------------+"
      ]
     },
     "metadata": {},
     "output_type": "display_data"
    },
    {
     "data": {
      "text/html": [
       "<pre>| 1       | 2.09s        | 22.8411           | 4.59672               | 0.260417    |</pre>"
      ],
      "text/plain": [
       "| 1       | 2.09s        | 22.8411           | 4.59672               | 0.260417    |"
      ]
     },
     "metadata": {},
     "output_type": "display_data"
    },
    {
     "data": {
      "text/html": [
       "<pre>| 2       | 3.85s        | 12.7254           | 3.49698               | 0.260417    |</pre>"
      ],
      "text/plain": [
       "| 2       | 3.85s        | 12.7254           | 3.49698               | 0.260417    |"
      ]
     },
     "metadata": {},
     "output_type": "display_data"
    },
    {
     "data": {
      "text/html": [
       "<pre>| 3       | 5.53s        | 9.5367            | 3.05355               | 0.260417    |</pre>"
      ],
      "text/plain": [
       "| 3       | 5.53s        | 9.5367            | 3.05355               | 0.260417    |"
      ]
     },
     "metadata": {},
     "output_type": "display_data"
    },
    {
     "data": {
      "text/html": [
       "<pre>| 4       | 7.18s        | 7.96183           | 2.79698               | 0.260417    |</pre>"
      ],
      "text/plain": [
       "| 4       | 7.18s        | 7.96183           | 2.79698               | 0.260417    |"
      ]
     },
     "metadata": {},
     "output_type": "display_data"
    },
    {
     "data": {
      "text/html": [
       "<pre>| 5       | 8.93s        | 7.12321           | 2.64892               | 0.260417    |</pre>"
      ],
      "text/plain": [
       "| 5       | 8.93s        | 7.12321           | 2.64892               | 0.260417    |"
      ]
     },
     "metadata": {},
     "output_type": "display_data"
    },
    {
     "data": {
      "text/html": [
       "<pre>| 6       | 10.75s       | 6.64067           | 2.55952               | 0.260417    |</pre>"
      ],
      "text/plain": [
       "| 6       | 10.75s       | 6.64067           | 2.55952               | 0.260417    |"
      ]
     },
     "metadata": {},
     "output_type": "display_data"
    },
    {
     "data": {
      "text/html": [
       "<pre>| 7       | 12.49s       | 6.33308           | 2.50083               | 0.260417    |</pre>"
      ],
      "text/plain": [
       "| 7       | 12.49s       | 6.33308           | 2.50083               | 0.260417    |"
      ]
     },
     "metadata": {},
     "output_type": "display_data"
    },
    {
     "data": {
      "text/html": [
       "<pre>| 8       | 14.17s       | 6.12101           | 2.45964               | 0.260417    |</pre>"
      ],
      "text/plain": [
       "| 8       | 14.17s       | 6.12101           | 2.45964               | 0.260417    |"
      ]
     },
     "metadata": {},
     "output_type": "display_data"
    },
    {
     "data": {
      "text/html": [
       "<pre>| 9       | 15.97s       | 5.96692           | 2.42942               | 0.260417    |</pre>"
      ],
      "text/plain": [
       "| 9       | 15.97s       | 5.96692           | 2.42942               | 0.260417    |"
      ]
     },
     "metadata": {},
     "output_type": "display_data"
    },
    {
     "data": {
      "text/html": [
       "<pre>| 10      | 17.66s       | 5.84766           | 2.40546               | 0.260417    |</pre>"
      ],
      "text/plain": [
       "| 10      | 17.66s       | 5.84766           | 2.40546               | 0.260417    |"
      ]
     },
     "metadata": {},
     "output_type": "display_data"
    },
    {
     "data": {
      "text/html": [
       "<pre>| 11      | 19.29s       | 5.75109           | 2.38615               | 0.260417    |</pre>"
      ],
      "text/plain": [
       "| 11      | 19.29s       | 5.75109           | 2.38615               | 0.260417    |"
      ]
     },
     "metadata": {},
     "output_type": "display_data"
    },
    {
     "data": {
      "text/html": [
       "<pre>| 12      | 21.09s       | 5.67111           | 2.36986               | 0.260417    |</pre>"
      ],
      "text/plain": [
       "| 12      | 21.09s       | 5.67111           | 2.36986               | 0.260417    |"
      ]
     },
     "metadata": {},
     "output_type": "display_data"
    },
    {
     "data": {
      "text/html": [
       "<pre>| 13      | 22.75s       | 5.60727           | 2.35688               | 0.260417    |</pre>"
      ],
      "text/plain": [
       "| 13      | 22.75s       | 5.60727           | 2.35688               | 0.260417    |"
      ]
     },
     "metadata": {},
     "output_type": "display_data"
    },
    {
     "data": {
      "text/html": [
       "<pre>| 14      | 24.47s       | 5.54803           | 2.345                 | 0.260417    |</pre>"
      ],
      "text/plain": [
       "| 14      | 24.47s       | 5.54803           | 2.345                 | 0.260417    |"
      ]
     },
     "metadata": {},
     "output_type": "display_data"
    },
    {
     "data": {
      "text/html": [
       "<pre>| 15      | 26.20s       | 5.50068           | 2.3351                | 0.260417    |</pre>"
      ],
      "text/plain": [
       "| 15      | 26.20s       | 5.50068           | 2.3351                | 0.260417    |"
      ]
     },
     "metadata": {},
     "output_type": "display_data"
    },
    {
     "data": {
      "text/html": [
       "<pre>| 16      | 27.95s       | 5.45662           | 2.326                 | 0.260417    |</pre>"
      ],
      "text/plain": [
       "| 16      | 27.95s       | 5.45662           | 2.326                 | 0.260417    |"
      ]
     },
     "metadata": {},
     "output_type": "display_data"
    },
    {
     "data": {
      "text/html": [
       "<pre>| 17      | 29.65s       | 5.41689           | 2.3179                | 0.260417    |</pre>"
      ],
      "text/plain": [
       "| 17      | 29.65s       | 5.41689           | 2.3179                | 0.260417    |"
      ]
     },
     "metadata": {},
     "output_type": "display_data"
    },
    {
     "data": {
      "text/html": [
       "<pre>| 18      | 31.49s       | 5.38363           | 2.31096               | 0.260417    |</pre>"
      ],
      "text/plain": [
       "| 18      | 31.49s       | 5.38363           | 2.31096               | 0.260417    |"
      ]
     },
     "metadata": {},
     "output_type": "display_data"
    },
    {
     "data": {
      "text/html": [
       "<pre>| 19      | 33.20s       | 5.35353           | 2.30464               | 0.260417    |</pre>"
      ],
      "text/plain": [
       "| 19      | 33.20s       | 5.35353           | 2.30464               | 0.260417    |"
      ]
     },
     "metadata": {},
     "output_type": "display_data"
    },
    {
     "data": {
      "text/html": [
       "<pre>| 20      | 34.87s       | 5.32482           | 2.29862               | 0.260417    |</pre>"
      ],
      "text/plain": [
       "| 20      | 34.87s       | 5.32482           | 2.29862               | 0.260417    |"
      ]
     },
     "metadata": {},
     "output_type": "display_data"
    },
    {
     "data": {
      "text/html": [
       "<pre>| 21      | 36.54s       | 5.29997           | 2.29343               | 0.260417    |</pre>"
      ],
      "text/plain": [
       "| 21      | 36.54s       | 5.29997           | 2.29343               | 0.260417    |"
      ]
     },
     "metadata": {},
     "output_type": "display_data"
    },
    {
     "data": {
      "text/html": [
       "<pre>| 22      | 38.20s       | 5.27674           | 2.28853               | 0.260417    |</pre>"
      ],
      "text/plain": [
       "| 22      | 38.20s       | 5.27674           | 2.28853               | 0.260417    |"
      ]
     },
     "metadata": {},
     "output_type": "display_data"
    },
    {
     "data": {
      "text/html": [
       "<pre>| 23      | 39.83s       | 5.25473           | 2.28383               | 0.260417    |</pre>"
      ],
      "text/plain": [
       "| 23      | 39.83s       | 5.25473           | 2.28383               | 0.260417    |"
      ]
     },
     "metadata": {},
     "output_type": "display_data"
    },
    {
     "data": {
      "text/html": [
       "<pre>| 24      | 41.43s       | 5.23495           | 2.27974               | 0.260417    |</pre>"
      ],
      "text/plain": [
       "| 24      | 41.43s       | 5.23495           | 2.27974               | 0.260417    |"
      ]
     },
     "metadata": {},
     "output_type": "display_data"
    },
    {
     "data": {
      "text/html": [
       "<pre>| 25      | 43.13s       | 5.2156            | 2.2757                | 0.260417    |</pre>"
      ],
      "text/plain": [
       "| 25      | 43.13s       | 5.2156            | 2.2757                | 0.260417    |"
      ]
     },
     "metadata": {},
     "output_type": "display_data"
    },
    {
     "data": {
      "text/html": [
       "<pre>+---------+--------------+-------------------+-----------------------+-------------+</pre>"
      ],
      "text/plain": [
       "+---------+--------------+-------------------+-----------------------+-------------+"
      ]
     },
     "metadata": {},
     "output_type": "display_data"
    },
    {
     "data": {
      "text/html": [
       "<pre>Optimization Complete: Maximum number of passes through the data reached.</pre>"
      ],
      "text/plain": [
       "Optimization Complete: Maximum number of passes through the data reached."
      ]
     },
     "metadata": {},
     "output_type": "display_data"
    },
    {
     "data": {
      "text/html": [
       "<pre>Computing final objective value and training RMSE.</pre>"
      ],
      "text/plain": [
       "Computing final objective value and training RMSE."
      ]
     },
     "metadata": {},
     "output_type": "display_data"
    },
    {
     "data": {
      "text/html": [
       "<pre>       Final objective value: 4.67166</pre>"
      ],
      "text/plain": [
       "       Final objective value: 4.67166"
      ]
     },
     "metadata": {},
     "output_type": "display_data"
    },
    {
     "data": {
      "text/html": [
       "<pre>       Final training RMSE: 2.15132</pre>"
      ],
      "text/plain": [
       "       Final training RMSE: 2.15132"
      ]
     },
     "metadata": {},
     "output_type": "display_data"
    },
    {
     "name": "stdout",
     "output_type": "stream",
     "text": [
      "\n",
      "Precision and recall summary statistics by cutoff\n",
      "+--------+----------------+-----------------+\n",
      "| cutoff | mean_precision |   mean_recall   |\n",
      "+--------+----------------+-----------------+\n",
      "|   1    | 0.310344827586 | 0.0648359285965 |\n",
      "|   2    | 0.287356321839 |  0.113342720174 |\n",
      "|   3    | 0.264367816092 |  0.162150551708 |\n",
      "|   4    | 0.244252873563 |  0.192812363659 |\n",
      "|   5    | 0.232183908046 |  0.217658485572 |\n",
      "|   6    | 0.227969348659 |  0.245347908057 |\n",
      "|   7    | 0.218390804598 |  0.257904557822 |\n",
      "|   8    | 0.212643678161 |  0.274349757541 |\n",
      "|   9    | 0.201787994891 |  0.280242062711 |\n",
      "|   10   |      0.2       |  0.297205498982 |\n",
      "+--------+----------------+-----------------+\n",
      "[10 rows x 3 columns]\n",
      "\n",
      "('\\nOverall RMSE: ', 5.042141942719785)\n",
      "\n",
      "Per User RMSE (best)\n",
      "+---------+-------+----------------+\n",
      "| User-ID | count |      rmse      |\n",
      "+---------+-------+----------------+\n",
      "|  13963  |   1   | 0.178281588351 |\n",
      "+---------+-------+----------------+\n",
      "[1 rows x 3 columns]\n",
      "\n",
      "\n",
      "Per User RMSE (worst)\n",
      "+---------+-------+---------------+\n",
      "| User-ID | count |      rmse     |\n",
      "+---------+-------+---------------+\n",
      "|  11117  |   1   | 15.1013342382 |\n",
      "+---------+-------+---------------+\n",
      "[1 rows x 3 columns]\n",
      "\n",
      "\n",
      "Per Item RMSE (best)\n",
      "+---------+-------+------------------+\n",
      "| Item-ID | count |       rmse       |\n",
      "+---------+-------+------------------+\n",
      "|    90   |   1   | 0.00558571394723 |\n",
      "+---------+-------+------------------+\n",
      "[1 rows x 3 columns]\n",
      "\n",
      "\n",
      "Per Item RMSE (worst)\n",
      "+---------+-------+---------------+\n",
      "| Item-ID | count |      rmse     |\n",
      "+---------+-------+---------------+\n",
      "|    48   |   2   | 14.1079164478 |\n",
      "+---------+-------+---------------+\n",
      "[1 rows x 3 columns]\n",
      "\n"
     ]
    }
   ],
   "source": [
    "rec1 = gl.recommender.ranking_factorization_recommender.create(train, \n",
    "                                  user_id=\"User-ID\", \n",
    "                                  item_id=\"Item-ID\", \n",
    "                                  target=\"rating\")\n",
    "\n",
    "rmse_results = rec1.evaluate(test)"
   ]
  },
  {
   "cell_type": "code",
   "execution_count": 118,
   "metadata": {
    "collapsed": false
   },
   "outputs": [
    {
     "data": {
      "text/html": [
       "<div style=\"max-height:1000px;max-width:1500px;overflow:auto;\"><table frame=\"box\" rules=\"cols\">\n",
       "    <tr>\n",
       "        <th style=\"padding-left: 1em; padding-right: 1em; text-align: center\">cutoff</th>\n",
       "        <th style=\"padding-left: 1em; padding-right: 1em; text-align: center\">Avg of precision</th>\n",
       "        <th style=\"padding-left: 1em; padding-right: 1em; text-align: center\">Stdv of precision</th>\n",
       "        <th style=\"padding-left: 1em; padding-right: 1em; text-align: center\">Avg of recall</th>\n",
       "        <th style=\"padding-left: 1em; padding-right: 1em; text-align: center\">Stdv of recall</th>\n",
       "    </tr>\n",
       "    <tr>\n",
       "        <td style=\"padding-left: 1em; padding-right: 1em; text-align: center; vertical-align: top\">36</td>\n",
       "        <td style=\"padding-left: 1em; padding-right: 1em; text-align: center; vertical-align: top\">0.129700950391</td>\n",
       "        <td style=\"padding-left: 1em; padding-right: 1em; text-align: center; vertical-align: top\">0.186538680189</td>\n",
       "        <td style=\"padding-left: 1em; padding-right: 1em; text-align: center; vertical-align: top\">0.545421137435</td>\n",
       "        <td style=\"padding-left: 1em; padding-right: 1em; text-align: center; vertical-align: top\">0.370284287545</td>\n",
       "    </tr>\n",
       "    <tr>\n",
       "        <td style=\"padding-left: 1em; padding-right: 1em; text-align: center; vertical-align: top\">2</td>\n",
       "        <td style=\"padding-left: 1em; padding-right: 1em; text-align: center; vertical-align: top\">0.287356321839</td>\n",
       "        <td style=\"padding-left: 1em; padding-right: 1em; text-align: center; vertical-align: top\">0.391226952302</td>\n",
       "        <td style=\"padding-left: 1em; padding-right: 1em; text-align: center; vertical-align: top\">0.113342720174</td>\n",
       "        <td style=\"padding-left: 1em; padding-right: 1em; text-align: center; vertical-align: top\">0.235898712745</td>\n",
       "    </tr>\n",
       "    <tr>\n",
       "        <td style=\"padding-left: 1em; padding-right: 1em; text-align: center; vertical-align: top\">46</td>\n",
       "        <td style=\"padding-left: 1em; padding-right: 1em; text-align: center; vertical-align: top\">0.120984736277</td>\n",
       "        <td style=\"padding-left: 1em; padding-right: 1em; text-align: center; vertical-align: top\">0.183666736963</td>\n",
       "        <td style=\"padding-left: 1em; padding-right: 1em; text-align: center; vertical-align: top\">0.594116112939</td>\n",
       "        <td style=\"padding-left: 1em; padding-right: 1em; text-align: center; vertical-align: top\">0.373442649195</td>\n",
       "    </tr>\n",
       "    <tr>\n",
       "        <td style=\"padding-left: 1em; padding-right: 1em; text-align: center; vertical-align: top\">31</td>\n",
       "        <td style=\"padding-left: 1em; padding-right: 1em; text-align: center; vertical-align: top\">0.13681868743</td>\n",
       "        <td style=\"padding-left: 1em; padding-right: 1em; text-align: center; vertical-align: top\">0.189613033374</td>\n",
       "        <td style=\"padding-left: 1em; padding-right: 1em; text-align: center; vertical-align: top\">0.514779566686</td>\n",
       "        <td style=\"padding-left: 1em; padding-right: 1em; text-align: center; vertical-align: top\">0.35838740929</td>\n",
       "    </tr>\n",
       "    <tr>\n",
       "        <td style=\"padding-left: 1em; padding-right: 1em; text-align: center; vertical-align: top\">26</td>\n",
       "        <td style=\"padding-left: 1em; padding-right: 1em; text-align: center; vertical-align: top\">0.146330680813</td>\n",
       "        <td style=\"padding-left: 1em; padding-right: 1em; text-align: center; vertical-align: top\">0.202752524074</td>\n",
       "        <td style=\"padding-left: 1em; padding-right: 1em; text-align: center; vertical-align: top\">0.474357881184</td>\n",
       "        <td style=\"padding-left: 1em; padding-right: 1em; text-align: center; vertical-align: top\">0.337401150634</td>\n",
       "    </tr>\n",
       "    <tr>\n",
       "        <td style=\"padding-left: 1em; padding-right: 1em; text-align: center; vertical-align: top\">8</td>\n",
       "        <td style=\"padding-left: 1em; padding-right: 1em; text-align: center; vertical-align: top\">0.212643678161</td>\n",
       "        <td style=\"padding-left: 1em; padding-right: 1em; text-align: center; vertical-align: top\">0.265412105373</td>\n",
       "        <td style=\"padding-left: 1em; padding-right: 1em; text-align: center; vertical-align: top\">0.274349757541</td>\n",
       "        <td style=\"padding-left: 1em; padding-right: 1em; text-align: center; vertical-align: top\">0.312921339156</td>\n",
       "    </tr>\n",
       "    <tr>\n",
       "        <td style=\"padding-left: 1em; padding-right: 1em; text-align: center; vertical-align: top\">5</td>\n",
       "        <td style=\"padding-left: 1em; padding-right: 1em; text-align: center; vertical-align: top\">0.232183908046</td>\n",
       "        <td style=\"padding-left: 1em; padding-right: 1em; text-align: center; vertical-align: top\">0.293803536231</td>\n",
       "        <td style=\"padding-left: 1em; padding-right: 1em; text-align: center; vertical-align: top\">0.217658485572</td>\n",
       "        <td style=\"padding-left: 1em; padding-right: 1em; text-align: center; vertical-align: top\">0.314955997283</td>\n",
       "    </tr>\n",
       "    <tr>\n",
       "        <td style=\"padding-left: 1em; padding-right: 1em; text-align: center; vertical-align: top\">16</td>\n",
       "        <td style=\"padding-left: 1em; padding-right: 1em; text-align: center; vertical-align: top\">0.169540229885</td>\n",
       "        <td style=\"padding-left: 1em; padding-right: 1em; text-align: center; vertical-align: top\">0.228985308197</td>\n",
       "        <td style=\"padding-left: 1em; padding-right: 1em; text-align: center; vertical-align: top\">0.371794108958</td>\n",
       "        <td style=\"padding-left: 1em; padding-right: 1em; text-align: center; vertical-align: top\">0.326824853418</td>\n",
       "    </tr>\n",
       "    <tr>\n",
       "        <td style=\"padding-left: 1em; padding-right: 1em; text-align: center; vertical-align: top\">41</td>\n",
       "        <td style=\"padding-left: 1em; padding-right: 1em; text-align: center; vertical-align: top\">0.12458572324</td>\n",
       "        <td style=\"padding-left: 1em; padding-right: 1em; text-align: center; vertical-align: top\">0.184787658707</td>\n",
       "        <td style=\"padding-left: 1em; padding-right: 1em; text-align: center; vertical-align: top\">0.570030421297</td>\n",
       "        <td style=\"padding-left: 1em; padding-right: 1em; text-align: center; vertical-align: top\">0.367958902495</td>\n",
       "    </tr>\n",
       "    <tr>\n",
       "        <td style=\"padding-left: 1em; padding-right: 1em; text-align: center; vertical-align: top\">4</td>\n",
       "        <td style=\"padding-left: 1em; padding-right: 1em; text-align: center; vertical-align: top\">0.244252873563</td>\n",
       "        <td style=\"padding-left: 1em; padding-right: 1em; text-align: center; vertical-align: top\">0.319340671996</td>\n",
       "        <td style=\"padding-left: 1em; padding-right: 1em; text-align: center; vertical-align: top\">0.192812363659</td>\n",
       "        <td style=\"padding-left: 1em; padding-right: 1em; text-align: center; vertical-align: top\">0.314216777853</td>\n",
       "    </tr>\n",
       "</table>\n",
       "[18 rows x 5 columns]<br/>Note: Only the head of the SFrame is printed.<br/>You can use print_rows(num_rows=m, num_columns=n) to print more rows and columns.\n",
       "</div>"
      ],
      "text/plain": [
       "Columns:\n",
       "\tcutoff\tint\n",
       "\tAvg of precision\tfloat\n",
       "\tStdv of precision\tfloat\n",
       "\tAvg of recall\tfloat\n",
       "\tStdv of recall\tfloat\n",
       "\n",
       "Rows: 18\n",
       "\n",
       "Data:\n",
       "+--------+------------------+-------------------+----------------+\n",
       "| cutoff | Avg of precision | Stdv of precision | Avg of recall  |\n",
       "+--------+------------------+-------------------+----------------+\n",
       "|   36   |  0.129700950391  |   0.186538680189  | 0.545421137435 |\n",
       "|   2    |  0.287356321839  |   0.391226952302  | 0.113342720174 |\n",
       "|   46   |  0.120984736277  |   0.183666736963  | 0.594116112939 |\n",
       "|   31   |  0.13681868743   |   0.189613033374  | 0.514779566686 |\n",
       "|   26   |  0.146330680813  |   0.202752524074  | 0.474357881184 |\n",
       "|   8    |  0.212643678161  |   0.265412105373  | 0.274349757541 |\n",
       "|   5    |  0.232183908046  |   0.293803536231  | 0.217658485572 |\n",
       "|   16   |  0.169540229885  |   0.228985308197  | 0.371794108958 |\n",
       "|   41   |  0.12458572324   |   0.184787658707  | 0.570030421297 |\n",
       "|   4    |  0.244252873563  |   0.319340671996  | 0.192812363659 |\n",
       "+--------+------------------+-------------------+----------------+\n",
       "+----------------+\n",
       "| Stdv of recall |\n",
       "+----------------+\n",
       "| 0.370284287545 |\n",
       "| 0.235898712745 |\n",
       "| 0.373442649195 |\n",
       "| 0.35838740929  |\n",
       "| 0.337401150634 |\n",
       "| 0.312921339156 |\n",
       "| 0.314955997283 |\n",
       "| 0.326824853418 |\n",
       "| 0.367958902495 |\n",
       "| 0.314216777853 |\n",
       "+----------------+\n",
       "[18 rows x 5 columns]\n",
       "Note: Only the head of the SFrame is printed.\n",
       "You can use print_rows(num_rows=m, num_columns=n) to print more rows and columns."
      ]
     },
     "execution_count": 118,
     "metadata": {},
     "output_type": "execute_result"
    }
   ],
   "source": [
    "rmse_results['precision_recall_by_user'].groupby('cutoff',[agg.AVG('precision'),agg.STD('precision'),agg.AVG('recall'),agg.STD('recall')])"
   ]
  },
  {
   "cell_type": "markdown",
   "metadata": {},
   "source": [
    "That is very similar results to the item-item model. The recall looks to be consistently higher.\n",
    "___\n",
    "We can possibly improve the performance of the ranking factor recommender model by tweaking the parameters."
   ]
  },
  {
   "cell_type": "code",
   "execution_count": 119,
   "metadata": {
    "collapsed": false,
    "scrolled": false
   },
   "outputs": [
    {
     "data": {
      "text/html": [
       "<pre>Recsys training: model = ranking_factorization_recommender</pre>"
      ],
      "text/plain": [
       "Recsys training: model = ranking_factorization_recommender"
      ]
     },
     "metadata": {},
     "output_type": "display_data"
    },
    {
     "data": {
      "text/html": [
       "<pre>Preparing data set.</pre>"
      ],
      "text/plain": [
       "Preparing data set."
      ]
     },
     "metadata": {},
     "output_type": "display_data"
    },
    {
     "data": {
      "text/html": [
       "<pre>    Data has 1760844 observations with 59132 users and 140 items.</pre>"
      ],
      "text/plain": [
       "    Data has 1760844 observations with 59132 users and 140 items."
      ]
     },
     "metadata": {},
     "output_type": "display_data"
    },
    {
     "data": {
      "text/html": [
       "<pre>    Data prepared in: 2.045s</pre>"
      ],
      "text/plain": [
       "    Data prepared in: 2.045s"
      ]
     },
     "metadata": {},
     "output_type": "display_data"
    },
    {
     "data": {
      "text/html": [
       "<pre>Training ranking_factorization_recommender for recommendations.</pre>"
      ],
      "text/plain": [
       "Training ranking_factorization_recommender for recommendations."
      ]
     },
     "metadata": {},
     "output_type": "display_data"
    },
    {
     "data": {
      "text/html": [
       "<pre>+--------------------------------+--------------------------------------------------+----------+</pre>"
      ],
      "text/plain": [
       "+--------------------------------+--------------------------------------------------+----------+"
      ]
     },
     "metadata": {},
     "output_type": "display_data"
    },
    {
     "data": {
      "text/html": [
       "<pre>| Parameter                      | Description                                      | Value    |</pre>"
      ],
      "text/plain": [
       "| Parameter                      | Description                                      | Value    |"
      ]
     },
     "metadata": {},
     "output_type": "display_data"
    },
    {
     "data": {
      "text/html": [
       "<pre>+--------------------------------+--------------------------------------------------+----------+</pre>"
      ],
      "text/plain": [
       "+--------------------------------+--------------------------------------------------+----------+"
      ]
     },
     "metadata": {},
     "output_type": "display_data"
    },
    {
     "data": {
      "text/html": [
       "<pre>| num_factors                    | Factor Dimension                                 | 16       |</pre>"
      ],
      "text/plain": [
       "| num_factors                    | Factor Dimension                                 | 16       |"
      ]
     },
     "metadata": {},
     "output_type": "display_data"
    },
    {
     "data": {
      "text/html": [
       "<pre>| regularization                 | L2 Regularization on Factors                     | 0.01     |</pre>"
      ],
      "text/plain": [
       "| regularization                 | L2 Regularization on Factors                     | 0.01     |"
      ]
     },
     "metadata": {},
     "output_type": "display_data"
    },
    {
     "data": {
      "text/html": [
       "<pre>| solver                         | Solver used for training                         | adagrad  |</pre>"
      ],
      "text/plain": [
       "| solver                         | Solver used for training                         | adagrad  |"
      ]
     },
     "metadata": {},
     "output_type": "display_data"
    },
    {
     "data": {
      "text/html": [
       "<pre>| linear_regularization          | L2 Regularization on Linear Coefficients         | 0.001    |</pre>"
      ],
      "text/plain": [
       "| linear_regularization          | L2 Regularization on Linear Coefficients         | 0.001    |"
      ]
     },
     "metadata": {},
     "output_type": "display_data"
    },
    {
     "data": {
      "text/html": [
       "<pre>| ranking_regularization         | Rank-based Regularization Weight                 | 0.25     |</pre>"
      ],
      "text/plain": [
       "| ranking_regularization         | Rank-based Regularization Weight                 | 0.25     |"
      ]
     },
     "metadata": {},
     "output_type": "display_data"
    },
    {
     "data": {
      "text/html": [
       "<pre>| max_iterations                 | Maximum Number of Iterations                     | 25       |</pre>"
      ],
      "text/plain": [
       "| max_iterations                 | Maximum Number of Iterations                     | 25       |"
      ]
     },
     "metadata": {},
     "output_type": "display_data"
    },
    {
     "data": {
      "text/html": [
       "<pre>+--------------------------------+--------------------------------------------------+----------+</pre>"
      ],
      "text/plain": [
       "+--------------------------------+--------------------------------------------------+----------+"
      ]
     },
     "metadata": {},
     "output_type": "display_data"
    },
    {
     "data": {
      "text/html": [
       "<pre>  Optimizing model using SGD; tuning step size.</pre>"
      ],
      "text/plain": [
       "  Optimizing model using SGD; tuning step size."
      ]
     },
     "metadata": {},
     "output_type": "display_data"
    },
    {
     "data": {
      "text/html": [
       "<pre>  Using 220105 / 1760844 points for tuning the step size.</pre>"
      ],
      "text/plain": [
       "  Using 220105 / 1760844 points for tuning the step size."
      ]
     },
     "metadata": {},
     "output_type": "display_data"
    },
    {
     "data": {
      "text/html": [
       "<pre>+---------+-------------------+------------------------------------------+</pre>"
      ],
      "text/plain": [
       "+---------+-------------------+------------------------------------------+"
      ]
     },
     "metadata": {},
     "output_type": "display_data"
    },
    {
     "data": {
      "text/html": [
       "<pre>| Attempt | Initial Step Size | Estimated Objective Value                |</pre>"
      ],
      "text/plain": [
       "| Attempt | Initial Step Size | Estimated Objective Value                |"
      ]
     },
     "metadata": {},
     "output_type": "display_data"
    },
    {
     "data": {
      "text/html": [
       "<pre>+---------+-------------------+------------------------------------------+</pre>"
      ],
      "text/plain": [
       "+---------+-------------------+------------------------------------------+"
      ]
     },
     "metadata": {},
     "output_type": "display_data"
    },
    {
     "data": {
      "text/html": [
       "<pre>| 0       | 0.00418442        | 51.7322                                  |</pre>"
      ],
      "text/plain": [
       "| 0       | 0.00418442        | 51.7322                                  |"
      ]
     },
     "metadata": {},
     "output_type": "display_data"
    },
    {
     "data": {
      "text/html": [
       "<pre>| 1       | 0.00209221        | 52.9509                                  |</pre>"
      ],
      "text/plain": [
       "| 1       | 0.00209221        | 52.9509                                  |"
      ]
     },
     "metadata": {},
     "output_type": "display_data"
    },
    {
     "data": {
      "text/html": [
       "<pre>| 2       | 0.00104611        | 53.8623                                  |</pre>"
      ],
      "text/plain": [
       "| 2       | 0.00104611        | 53.8623                                  |"
      ]
     },
     "metadata": {},
     "output_type": "display_data"
    },
    {
     "data": {
      "text/html": [
       "<pre>| 3       | 0.000523053       | 54.4395                                  |</pre>"
      ],
      "text/plain": [
       "| 3       | 0.000523053       | 54.4395                                  |"
      ]
     },
     "metadata": {},
     "output_type": "display_data"
    },
    {
     "data": {
      "text/html": [
       "<pre>+---------+-------------------+------------------------------------------+</pre>"
      ],
      "text/plain": [
       "+---------+-------------------+------------------------------------------+"
      ]
     },
     "metadata": {},
     "output_type": "display_data"
    },
    {
     "data": {
      "text/html": [
       "<pre>| Final   | 0.00418442        | 51.7322                                  |</pre>"
      ],
      "text/plain": [
       "| Final   | 0.00418442        | 51.7322                                  |"
      ]
     },
     "metadata": {},
     "output_type": "display_data"
    },
    {
     "data": {
      "text/html": [
       "<pre>+---------+-------------------+------------------------------------------+</pre>"
      ],
      "text/plain": [
       "+---------+-------------------+------------------------------------------+"
      ]
     },
     "metadata": {},
     "output_type": "display_data"
    },
    {
     "data": {
      "text/html": [
       "<pre>Starting Optimization.</pre>"
      ],
      "text/plain": [
       "Starting Optimization."
      ]
     },
     "metadata": {},
     "output_type": "display_data"
    },
    {
     "data": {
      "text/html": [
       "<pre>+---------+--------------+-------------------+-----------------------+-------------+</pre>"
      ],
      "text/plain": [
       "+---------+--------------+-------------------+-----------------------+-------------+"
      ]
     },
     "metadata": {},
     "output_type": "display_data"
    },
    {
     "data": {
      "text/html": [
       "<pre>| Iter.   | Elapsed Time | Approx. Objective | Approx. Training RMSE | Step Size   |</pre>"
      ],
      "text/plain": [
       "| Iter.   | Elapsed Time | Approx. Objective | Approx. Training RMSE | Step Size   |"
      ]
     },
     "metadata": {},
     "output_type": "display_data"
    },
    {
     "data": {
      "text/html": [
       "<pre>+---------+--------------+-------------------+-----------------------+-------------+</pre>"
      ],
      "text/plain": [
       "+---------+--------------+-------------------+-----------------------+-------------+"
      ]
     },
     "metadata": {},
     "output_type": "display_data"
    },
    {
     "data": {
      "text/html": [
       "<pre>| Initial | 0us          | 55.1113           | 5.30253               |             |</pre>"
      ],
      "text/plain": [
       "| Initial | 0us          | 55.1113           | 5.30253               |             |"
      ]
     },
     "metadata": {},
     "output_type": "display_data"
    },
    {
     "data": {
      "text/html": [
       "<pre>+---------+--------------+-------------------+-----------------------+-------------+</pre>"
      ],
      "text/plain": [
       "+---------+--------------+-------------------+-----------------------+-------------+"
      ]
     },
     "metadata": {},
     "output_type": "display_data"
    },
    {
     "data": {
      "text/html": [
       "<pre>| 1       | 1.56s        | 46.2945           | 5.26613               | 0.00418442  |</pre>"
      ],
      "text/plain": [
       "| 1       | 1.56s        | 46.2945           | 5.26613               | 0.00418442  |"
      ]
     },
     "metadata": {},
     "output_type": "display_data"
    },
    {
     "data": {
      "text/html": [
       "<pre>| 2       | 3.07s        | 45.6061           | 5.24127               | 0.00418442  |</pre>"
      ],
      "text/plain": [
       "| 2       | 3.07s        | 45.6061           | 5.24127               | 0.00418442  |"
      ]
     },
     "metadata": {},
     "output_type": "display_data"
    },
    {
     "data": {
      "text/html": [
       "<pre>| 3       | 6.31s        | 44.287            | 5.19664               | 0.00418442  |</pre>"
      ],
      "text/plain": [
       "| 3       | 6.31s        | 44.287            | 5.19664               | 0.00418442  |"
      ]
     },
     "metadata": {},
     "output_type": "display_data"
    },
    {
     "data": {
      "text/html": [
       "<pre>| 4       | 7.70s        | 43.5241           | 5.17626               | 0.00418442  |</pre>"
      ],
      "text/plain": [
       "| 4       | 7.70s        | 43.5241           | 5.17626               | 0.00418442  |"
      ]
     },
     "metadata": {},
     "output_type": "display_data"
    },
    {
     "data": {
      "text/html": [
       "<pre>| 5       | 9.10s        | 43.0104           | 5.16584               | 0.00418442  |</pre>"
      ],
      "text/plain": [
       "| 5       | 9.10s        | 43.0104           | 5.16584               | 0.00418442  |"
      ]
     },
     "metadata": {},
     "output_type": "display_data"
    },
    {
     "data": {
      "text/html": [
       "<pre>| 6       | 10.59s       | 42.6349           | 5.15991               | 0.00418442  |</pre>"
      ],
      "text/plain": [
       "| 6       | 10.59s       | 42.6349           | 5.15991               | 0.00418442  |"
      ]
     },
     "metadata": {},
     "output_type": "display_data"
    },
    {
     "data": {
      "text/html": [
       "<pre>| 7       | 12.07s       | 42.342            | 5.15676               | 0.00418442  |</pre>"
      ],
      "text/plain": [
       "| 7       | 12.07s       | 42.342            | 5.15676               | 0.00418442  |"
      ]
     },
     "metadata": {},
     "output_type": "display_data"
    },
    {
     "data": {
      "text/html": [
       "<pre>| 8       | 13.47s       | 42.1055           | 5.15465               | 0.00418442  |</pre>"
      ],
      "text/plain": [
       "| 8       | 13.47s       | 42.1055           | 5.15465               | 0.00418442  |"
      ]
     },
     "metadata": {},
     "output_type": "display_data"
    },
    {
     "data": {
      "text/html": [
       "<pre>| 9       | 15.28s       | 41.9058           | 5.15362               | 0.00418442  |</pre>"
      ],
      "text/plain": [
       "| 9       | 15.28s       | 41.9058           | 5.15362               | 0.00418442  |"
      ]
     },
     "metadata": {},
     "output_type": "display_data"
    },
    {
     "data": {
      "text/html": [
       "<pre>| 10      | 16.76s       | 41.7359           | 5.15286               | 0.00418442  |</pre>"
      ],
      "text/plain": [
       "| 10      | 16.76s       | 41.7359           | 5.15286               | 0.00418442  |"
      ]
     },
     "metadata": {},
     "output_type": "display_data"
    },
    {
     "data": {
      "text/html": [
       "<pre>| 11      | 18.24s       | 41.587            | 5.15224               | 0.00418442  |</pre>"
      ],
      "text/plain": [
       "| 11      | 18.24s       | 41.587            | 5.15224               | 0.00418442  |"
      ]
     },
     "metadata": {},
     "output_type": "display_data"
    },
    {
     "data": {
      "text/html": [
       "<pre>| 12      | 19.64s       | 41.4552           | 5.15181               | 0.00418442  |</pre>"
      ],
      "text/plain": [
       "| 12      | 19.64s       | 41.4552           | 5.15181               | 0.00418442  |"
      ]
     },
     "metadata": {},
     "output_type": "display_data"
    },
    {
     "data": {
      "text/html": [
       "<pre>| 13      | 21.06s       | 41.3362           | 5.15137               | 0.00418442  |</pre>"
      ],
      "text/plain": [
       "| 13      | 21.06s       | 41.3362           | 5.15137               | 0.00418442  |"
      ]
     },
     "metadata": {},
     "output_type": "display_data"
    },
    {
     "data": {
      "text/html": [
       "<pre>| 14      | 22.46s       | 41.2279           | 5.15146               | 0.00418442  |</pre>"
      ],
      "text/plain": [
       "| 14      | 22.46s       | 41.2279           | 5.15146               | 0.00418442  |"
      ]
     },
     "metadata": {},
     "output_type": "display_data"
    },
    {
     "data": {
      "text/html": [
       "<pre>| 15      | 23.86s       | 41.1272           | 5.15078               | 0.00418442  |</pre>"
      ],
      "text/plain": [
       "| 15      | 23.86s       | 41.1272           | 5.15078               | 0.00418442  |"
      ]
     },
     "metadata": {},
     "output_type": "display_data"
    },
    {
     "data": {
      "text/html": [
       "<pre>| 16      | 25.27s       | 41.0364           | 5.15046               | 0.00418442  |</pre>"
      ],
      "text/plain": [
       "| 16      | 25.27s       | 41.0364           | 5.15046               | 0.00418442  |"
      ]
     },
     "metadata": {},
     "output_type": "display_data"
    },
    {
     "data": {
      "text/html": [
       "<pre>| 17      | 26.70s       | 40.9497           | 5.15023               | 0.00418442  |</pre>"
      ],
      "text/plain": [
       "| 17      | 26.70s       | 40.9497           | 5.15023               | 0.00418442  |"
      ]
     },
     "metadata": {},
     "output_type": "display_data"
    },
    {
     "data": {
      "text/html": [
       "<pre>| 18      | 28.11s       | 40.8705           | 5.14961               | 0.00418442  |</pre>"
      ],
      "text/plain": [
       "| 18      | 28.11s       | 40.8705           | 5.14961               | 0.00418442  |"
      ]
     },
     "metadata": {},
     "output_type": "display_data"
    },
    {
     "data": {
      "text/html": [
       "<pre>| 19      | 29.52s       | 40.7967           | 5.14948               | 0.00418442  |</pre>"
      ],
      "text/plain": [
       "| 19      | 29.52s       | 40.7967           | 5.14948               | 0.00418442  |"
      ]
     },
     "metadata": {},
     "output_type": "display_data"
    },
    {
     "data": {
      "text/html": [
       "<pre>| 20      | 30.95s       | 40.7247           | 5.14924               | 0.00418442  |</pre>"
      ],
      "text/plain": [
       "| 20      | 30.95s       | 40.7247           | 5.14924               | 0.00418442  |"
      ]
     },
     "metadata": {},
     "output_type": "display_data"
    },
    {
     "data": {
      "text/html": [
       "<pre>| 21      | 32.36s       | 40.6559           | 5.14864               | 0.00418442  |</pre>"
      ],
      "text/plain": [
       "| 21      | 32.36s       | 40.6559           | 5.14864               | 0.00418442  |"
      ]
     },
     "metadata": {},
     "output_type": "display_data"
    },
    {
     "data": {
      "text/html": [
       "<pre>| 22      | 33.78s       | 40.5914           | 5.14837               | 0.00418442  |</pre>"
      ],
      "text/plain": [
       "| 22      | 33.78s       | 40.5914           | 5.14837               | 0.00418442  |"
      ]
     },
     "metadata": {},
     "output_type": "display_data"
    },
    {
     "data": {
      "text/html": [
       "<pre>| 23      | 35.19s       | 40.5297           | 5.14795               | 0.00418442  |</pre>"
      ],
      "text/plain": [
       "| 23      | 35.19s       | 40.5297           | 5.14795               | 0.00418442  |"
      ]
     },
     "metadata": {},
     "output_type": "display_data"
    },
    {
     "data": {
      "text/html": [
       "<pre>| 24      | 36.61s       | 40.4715           | 5.14754               | 0.00418442  |</pre>"
      ],
      "text/plain": [
       "| 24      | 36.61s       | 40.4715           | 5.14754               | 0.00418442  |"
      ]
     },
     "metadata": {},
     "output_type": "display_data"
    },
    {
     "data": {
      "text/html": [
       "<pre>| 25      | 38.02s       | 40.4143           | 5.14707               | 0.00418442  |</pre>"
      ],
      "text/plain": [
       "| 25      | 38.02s       | 40.4143           | 5.14707               | 0.00418442  |"
      ]
     },
     "metadata": {},
     "output_type": "display_data"
    },
    {
     "data": {
      "text/html": [
       "<pre>+---------+--------------+-------------------+-----------------------+-------------+</pre>"
      ],
      "text/plain": [
       "+---------+--------------+-------------------+-----------------------+-------------+"
      ]
     },
     "metadata": {},
     "output_type": "display_data"
    },
    {
     "data": {
      "text/html": [
       "<pre>Optimization Complete: Maximum number of passes through the data reached.</pre>"
      ],
      "text/plain": [
       "Optimization Complete: Maximum number of passes through the data reached."
      ]
     },
     "metadata": {},
     "output_type": "display_data"
    },
    {
     "data": {
      "text/html": [
       "<pre>Computing final objective value and training RMSE.</pre>"
      ],
      "text/plain": [
       "Computing final objective value and training RMSE."
      ]
     },
     "metadata": {},
     "output_type": "display_data"
    },
    {
     "data": {
      "text/html": [
       "<pre>       Final objective value: 46.4115</pre>"
      ],
      "text/plain": [
       "       Final objective value: 46.4115"
      ]
     },
     "metadata": {},
     "output_type": "display_data"
    },
    {
     "data": {
      "text/html": [
       "<pre>       Final training RMSE: 5.14561</pre>"
      ],
      "text/plain": [
       "       Final training RMSE: 5.14561"
      ]
     },
     "metadata": {},
     "output_type": "display_data"
    },
    {
     "name": "stdout",
     "output_type": "stream",
     "text": [
      "\n",
      "Precision and recall summary statistics by cutoff\n",
      "+--------+----------------+-----------------+\n",
      "| cutoff | mean_precision |   mean_recall   |\n",
      "+--------+----------------+-----------------+\n",
      "|   1    | 0.298850574713 | 0.0390696450716 |\n",
      "|   2    | 0.316091954023 | 0.0768028551862 |\n",
      "|   3    | 0.35632183908  |  0.165038627872 |\n",
      "|   4    | 0.330459770115 |  0.205835720908 |\n",
      "|   5    | 0.314942528736 |  0.234360259745 |\n",
      "|   6    | 0.298850574713 |  0.260405482684 |\n",
      "|   7    | 0.293924466338 |  0.294459778288 |\n",
      "|   8    | 0.281609195402 |  0.316522648969 |\n",
      "|   9    | 0.278416347382 |  0.353569099289 |\n",
      "|   10   | 0.275862068966 |  0.396587502305 |\n",
      "+--------+----------------+-----------------+\n",
      "[10 rows x 3 columns]\n",
      "\n",
      "('\\nOverall RMSE: ', 5.228888965867868)\n",
      "\n",
      "Per User RMSE (best)\n",
      "+---------+-------+----------------+\n",
      "| User-ID | count |      rmse      |\n",
      "+---------+-------+----------------+\n",
      "|  13963  |   1   | 0.316616630053 |\n",
      "+---------+-------+----------------+\n",
      "[1 rows x 3 columns]\n",
      "\n",
      "\n",
      "Per User RMSE (worst)\n",
      "+---------+-------+---------------+\n",
      "| User-ID | count |      rmse     |\n",
      "+---------+-------+---------------+\n",
      "|  11117  |   1   | 12.0101970246 |\n",
      "+---------+-------+---------------+\n",
      "[1 rows x 3 columns]\n",
      "\n",
      "\n",
      "Per Item RMSE (best)\n",
      "+---------+-------+----------------+\n",
      "| Item-ID | count |      rmse      |\n",
      "+---------+-------+----------------+\n",
      "|   141   |   1   | 0.171128376091 |\n",
      "+---------+-------+----------------+\n",
      "[1 rows x 3 columns]\n",
      "\n",
      "\n",
      "Per Item RMSE (worst)\n",
      "+---------+-------+---------------+\n",
      "| Item-ID | count |      rmse     |\n",
      "+---------+-------+---------------+\n",
      "|    59   |   2   | 9.86864510088 |\n",
      "+---------+-------+---------------+\n",
      "[1 rows x 3 columns]\n",
      "\n"
     ]
    }
   ],
   "source": [
    "rec1 = gl.recommender.ranking_factorization_recommender.create(train, \n",
    "                                  user_id=\"User-ID\", \n",
    "                                  item_id=\"Item-ID\", \n",
    "                                  target=\"rating\",\n",
    "                                  num_factors=16,                 # override the default value\n",
    "                                  regularization=1e-02,           # override the default value\n",
    "                                  linear_regularization = 1e-3)   # override the default value\n",
    "\n",
    "rmse_results = rec1.evaluate(test)"
   ]
  },
  {
   "cell_type": "markdown",
   "metadata": {},
   "source": [
    "# Is this better than the item item matrix?  \n",
    "\n",
    "How did it do?"
   ]
  },
  {
   "cell_type": "code",
   "execution_count": 120,
   "metadata": {
    "collapsed": false,
    "scrolled": false
   },
   "outputs": [
    {
     "name": "stdout",
     "output_type": "stream",
     "text": [
      "PROGRESS: Evaluate model M0\n",
      "\n",
      "Precision and recall summary statistics by cutoff\n",
      "+--------+----------------+-----------------+\n",
      "| cutoff | mean_precision |   mean_recall   |\n",
      "+--------+----------------+-----------------+\n",
      "|   1    | 0.344827586207 | 0.0571420771096 |\n",
      "|   2    | 0.293103448276 | 0.0820033682053 |\n",
      "|   3    | 0.275862068966 |   0.1124618607  |\n",
      "|   4    | 0.264367816092 |  0.137966877552 |\n",
      "|   5    | 0.252873563218 |  0.160185244078 |\n",
      "|   6    | 0.227969348659 |  0.169192407163 |\n",
      "|   7    | 0.215106732348 |  0.184559736726 |\n",
      "|   8    | 0.206896551724 |  0.201528646451 |\n",
      "|   9    | 0.208173690932 |  0.219821973333 |\n",
      "|   10   |      0.2       |  0.23138368406  |\n",
      "+--------+----------------+-----------------+\n",
      "[10 rows x 3 columns]\n",
      "\n",
      "('\\nOverall RMSE: ', 5.05509465404442)\n",
      "\n",
      "Per User RMSE (best)\n",
      "+---------+-------+----------------+\n",
      "| User-ID | count |      rmse      |\n",
      "+---------+-------+----------------+\n",
      "|  23821  |   2   | 0.716907286459 |\n",
      "+---------+-------+----------------+\n",
      "[1 rows x 3 columns]\n",
      "\n",
      "\n",
      "Per User RMSE (worst)\n",
      "+---------+-------+---------------+\n",
      "| User-ID | count |      rmse     |\n",
      "+---------+-------+---------------+\n",
      "|  11117  |   1   | 12.1893866453 |\n",
      "+---------+-------+---------------+\n",
      "[1 rows x 3 columns]\n",
      "\n",
      "\n",
      "Per Item RMSE (best)\n",
      "+---------+-------+----------------+\n",
      "| Item-ID | count |      rmse      |\n",
      "+---------+-------+----------------+\n",
      "|    90   |   1   | 0.698357425455 |\n",
      "+---------+-------+----------------+\n",
      "[1 rows x 3 columns]\n",
      "\n",
      "\n",
      "Per Item RMSE (worst)\n",
      "+---------+-------+---------------+\n",
      "| Item-ID | count |      rmse     |\n",
      "+---------+-------+---------------+\n",
      "|    59   |   2   | 10.4115810153 |\n",
      "+---------+-------+---------------+\n",
      "[1 rows x 3 columns]\n",
      "\n",
      "PROGRESS: Evaluate model M1\n",
      "\n",
      "Precision and recall summary statistics by cutoff\n",
      "+--------+----------------+-----------------+\n",
      "| cutoff | mean_precision |   mean_recall   |\n",
      "+--------+----------------+-----------------+\n",
      "|   1    | 0.298850574713 | 0.0390696450716 |\n",
      "|   2    | 0.316091954023 | 0.0768028551862 |\n",
      "|   3    | 0.35632183908  |  0.165038627872 |\n",
      "|   4    | 0.330459770115 |  0.205835720908 |\n",
      "|   5    | 0.314942528736 |  0.234360259745 |\n",
      "|   6    | 0.298850574713 |  0.260405482684 |\n",
      "|   7    | 0.293924466338 |  0.294459778288 |\n",
      "|   8    | 0.281609195402 |  0.316522648969 |\n",
      "|   9    | 0.278416347382 |  0.353569099289 |\n",
      "|   10   | 0.275862068966 |  0.396587502305 |\n",
      "+--------+----------------+-----------------+\n",
      "[10 rows x 3 columns]\n",
      "\n",
      "('\\nOverall RMSE: ', 5.228888965867868)\n",
      "\n",
      "Per User RMSE (best)\n",
      "+---------+-------+----------------+\n",
      "| User-ID | count |      rmse      |\n",
      "+---------+-------+----------------+\n",
      "|  13963  |   1   | 0.316616630053 |\n",
      "+---------+-------+----------------+\n",
      "[1 rows x 3 columns]\n",
      "\n",
      "\n",
      "Per User RMSE (worst)\n",
      "+---------+-------+---------------+\n",
      "| User-ID | count |      rmse     |\n",
      "+---------+-------+---------------+\n",
      "|  11117  |   1   | 12.0101970246 |\n",
      "+---------+-------+---------------+\n",
      "[1 rows x 3 columns]\n",
      "\n",
      "\n",
      "Per Item RMSE (best)\n",
      "+---------+-------+----------------+\n",
      "| Item-ID | count |      rmse      |\n",
      "+---------+-------+----------------+\n",
      "|   141   |   1   | 0.171128376091 |\n",
      "+---------+-------+----------------+\n",
      "[1 rows x 3 columns]\n",
      "\n",
      "\n",
      "Per Item RMSE (worst)\n",
      "+---------+-------+---------------+\n",
      "| Item-ID | count |      rmse     |\n",
      "+---------+-------+---------------+\n",
      "|    59   |   2   | 9.86864510088 |\n",
      "+---------+-------+---------------+\n",
      "[1 rows x 3 columns]\n",
      "\n"
     ]
    }
   ],
   "source": [
    "comparison = gl.recommender.util.compare_models(test, [item_item, rec1])"
   ]
  },
  {
   "cell_type": "markdown",
   "metadata": {},
   "source": [
    "The item-item model still shows a bit lower RMSE, 5.055 compared to 5.23"
   ]
  },
  {
   "cell_type": "code",
   "execution_count": 121,
   "metadata": {
    "collapsed": false,
    "scrolled": true
   },
   "outputs": [
    {
     "name": "stdout",
     "output_type": "stream",
     "text": [
      "PROGRESS: Evaluate model M0\n",
      "\n",
      "Precision and recall summary statistics by cutoff\n",
      "+--------+----------------+-----------------+\n",
      "| cutoff | mean_precision |   mean_recall   |\n",
      "+--------+----------------+-----------------+\n",
      "|   1    | 0.344827586207 | 0.0571420771096 |\n",
      "|   2    | 0.293103448276 | 0.0820033682053 |\n",
      "|   3    | 0.275862068966 |   0.1124618607  |\n",
      "|   4    | 0.264367816092 |  0.137966877552 |\n",
      "|   5    | 0.252873563218 |  0.160185244078 |\n",
      "|   6    | 0.227969348659 |  0.169192407163 |\n",
      "|   7    | 0.215106732348 |  0.184559736726 |\n",
      "|   8    | 0.206896551724 |  0.201528646451 |\n",
      "|   9    | 0.208173690932 |  0.219821973333 |\n",
      "|   10   |      0.2       |  0.23138368406  |\n",
      "+--------+----------------+-----------------+\n",
      "[10 rows x 3 columns]\n",
      "\n",
      "PROGRESS: Evaluate model M1\n",
      "\n",
      "Precision and recall summary statistics by cutoff\n",
      "+--------+----------------+-----------------+\n",
      "| cutoff | mean_precision |   mean_recall   |\n",
      "+--------+----------------+-----------------+\n",
      "|   1    | 0.298850574713 | 0.0390696450716 |\n",
      "|   2    | 0.316091954023 | 0.0768028551862 |\n",
      "|   3    | 0.35632183908  |  0.165038627872 |\n",
      "|   4    | 0.330459770115 |  0.205835720908 |\n",
      "|   5    | 0.314942528736 |  0.234360259745 |\n",
      "|   6    | 0.298850574713 |  0.260405482684 |\n",
      "|   7    | 0.293924466338 |  0.294459778288 |\n",
      "|   8    | 0.281609195402 |  0.316522648969 |\n",
      "|   9    | 0.278416347382 |  0.353569099289 |\n",
      "|   10   | 0.275862068966 |  0.396587502305 |\n",
      "+--------+----------------+-----------------+\n",
      "[10 rows x 3 columns]\n",
      "\n",
      "Model compare metric: precision_recall\n"
     ]
    }
   ],
   "source": [
    " comparisonstruct = gl.compare(test,[item_item, rec1])"
   ]
  },
  {
   "cell_type": "markdown",
   "metadata": {},
   "source": [
    "This would be easier to see graphed visually."
   ]
  },
  {
   "cell_type": "code",
   "execution_count": 122,
   "metadata": {
    "collapsed": false
   },
   "outputs": [
    {
     "data": {
      "application/javascript": [
       "$(\"head\").append($(\"<link/>\").attr({\n",
       "  rel:  \"stylesheet\",\n",
       "  type: \"text/css\",\n",
       "  href: \"//cdnjs.cloudflare.com/ajax/libs/font-awesome/4.1.0/css/font-awesome.min.css\"\n",
       "}));\n",
       "$(\"head\").append($(\"<link/>\").attr({\n",
       "  rel:  \"stylesheet\",\n",
       "  type: \"text/css\",\n",
       "  href: \"https://static.turi.com/products/graphlab-create/2.1/canvas/css/canvas.css\"\n",
       "}));\n",
       "\n",
       "            (function(){\n",
       "\n",
       "                var e = null;\n",
       "                if (typeof element == 'undefined') {\n",
       "                    var scripts = document.getElementsByTagName('script');\n",
       "                    var thisScriptTag = scripts[scripts.length-1];\n",
       "                    var parentDiv = thisScriptTag.parentNode;\n",
       "                    e = document.createElement('div');\n",
       "                    parentDiv.appendChild(e);\n",
       "                } else {\n",
       "                    e = element[0];\n",
       "                }\n",
       "\n",
       "                if (typeof requirejs !== 'undefined') {\n",
       "                    // disable load timeout; ipython_app.js is large and can take a while to load.\n",
       "                    requirejs.config({waitSeconds: 0});\n",
       "                }\n",
       "\n",
       "                require(['https://static.turi.com/products/graphlab-create/2.1/canvas/js/ipython_app.js'], function(IPythonApp){\n",
       "                    var app = new IPythonApp();\n",
       "                    app.attachView('model','Comparison', {\"comparison\": {\"dataset_label\": \"test\", \"evaluations\": {\"rec1\": {\"precision_recall\": [{\"cutoff\": 1, \"precision\": 0.29885057471264376, \"recall\": 0.03906964507164408}, {\"cutoff\": 2, \"precision\": 0.3160919540229885, \"recall\": 0.07680285518616348}, {\"cutoff\": 3, \"precision\": 0.3563218390804597, \"recall\": 0.16503862787221113}, {\"cutoff\": 4, \"precision\": 0.33045977011494243, \"recall\": 0.2058357209081847}, {\"cutoff\": 5, \"precision\": 0.31494252873563194, \"recall\": 0.23436025974506736}, {\"cutoff\": 6, \"precision\": 0.2988505747126436, \"recall\": 0.2604054826843433}, {\"cutoff\": 7, \"precision\": 0.2939244663382592, \"recall\": 0.29445977828786424}, {\"cutoff\": 8, \"precision\": 0.2816091954022988, \"recall\": 0.3165226489689258}, {\"cutoff\": 9, \"precision\": 0.27841634738186466, \"recall\": 0.3535690992887395}, {\"cutoff\": 10, \"precision\": 0.27586206896551724, \"recall\": 0.39658750230464357}, {\"cutoff\": 11, \"precision\": 0.2706374085684429, \"recall\": 0.423494794209437}, {\"cutoff\": 16, \"precision\": 0.25143678160919536, \"recall\": 0.5828402020730858}, {\"cutoff\": 21, \"precision\": 0.22933771209633272, \"recall\": 0.6480463520043729}, {\"cutoff\": 26, \"precision\": 0.2073386383731212, \"recall\": 0.7076012006022001}, {\"cutoff\": 31, \"precision\": 0.1861327400815721, \"recall\": 0.765166536500869}, {\"cutoff\": 36, \"precision\": 0.16833441143785977, \"recall\": 0.8302811004310251}, {\"cutoff\": 41, \"precision\": 0.1604702200160568, \"recall\": 0.9310744339230099}, {\"cutoff\": 46, \"precision\": 0.15196924402321704, \"recall\": 0.9600736211980591}]}, \"item_item\": {\"precision_recall\": [{\"cutoff\": 1, \"precision\": 0.3448275862068966, \"recall\": 0.05714207710959334}, {\"cutoff\": 2, \"precision\": 0.2931034482758621, \"recall\": 0.08200336820526724}, {\"cutoff\": 3, \"precision\": 0.27586206896551724, \"recall\": 0.1124618607002415}, {\"cutoff\": 4, \"precision\": 0.2643678160919538, \"recall\": 0.13796687755208492}, {\"cutoff\": 5, \"precision\": 0.25287356321839083, \"recall\": 0.1601852440782975}, {\"cutoff\": 6, \"precision\": 0.2279693486590038, \"recall\": 0.16919240716342165}, {\"cutoff\": 7, \"precision\": 0.21510673234811165, \"recall\": 0.1845597367261535}, {\"cutoff\": 8, \"precision\": 0.20689655172413796, \"recall\": 0.20152864645118512}, {\"cutoff\": 9, \"precision\": 0.20817369093231156, \"recall\": 0.21982197333271802}, {\"cutoff\": 10, \"precision\": 0.20000000000000004, \"recall\": 0.2313836840598459}, {\"cutoff\": 11, \"precision\": 0.19749216300940442, \"recall\": 0.24622873507930976}, {\"cutoff\": 16, \"precision\": 0.17169540229885058, \"recall\": 0.31112479714928487}, {\"cutoff\": 21, \"precision\": 0.1559934318555009, \"recall\": 0.3575527832524334}, {\"cutoff\": 26, \"precision\": 0.14721485411140578, \"recall\": 0.40009101630041166}, {\"cutoff\": 31, \"precision\": 0.13644790507971827, \"recall\": 0.4475698298037129}, {\"cutoff\": 36, \"precision\": 0.12906238078651874, \"recall\": 0.474941876103795}, {\"cutoff\": 41, \"precision\": 0.12234294219155448, \"recall\": 0.49981118387415235}, {\"cutoff\": 46, \"precision\": 0.11748648540252744, \"recall\": 0.5090659792758744}]}}}, \"selected_variable\": {\"comparison\": {\"dataset_label\": \"test\", \"evaluations\": {\"rec1\": {\"precision_recall\": [{\"cutoff\": 1, \"precision\": 0.29885057471264376, \"recall\": 0.03906964507164408}, {\"cutoff\": 2, \"precision\": 0.3160919540229885, \"recall\": 0.07680285518616348}, {\"cutoff\": 3, \"precision\": 0.3563218390804597, \"recall\": 0.16503862787221113}, {\"cutoff\": 4, \"precision\": 0.33045977011494243, \"recall\": 0.2058357209081847}, {\"cutoff\": 5, \"precision\": 0.31494252873563194, \"recall\": 0.23436025974506736}, {\"cutoff\": 6, \"precision\": 0.2988505747126436, \"recall\": 0.2604054826843433}, {\"cutoff\": 7, \"precision\": 0.2939244663382592, \"recall\": 0.29445977828786424}, {\"cutoff\": 8, \"precision\": 0.2816091954022988, \"recall\": 0.3165226489689258}, {\"cutoff\": 9, \"precision\": 0.27841634738186466, \"recall\": 0.3535690992887395}, {\"cutoff\": 10, \"precision\": 0.27586206896551724, \"recall\": 0.39658750230464357}, {\"cutoff\": 11, \"precision\": 0.2706374085684429, \"recall\": 0.423494794209437}, {\"cutoff\": 16, \"precision\": 0.25143678160919536, \"recall\": 0.5828402020730858}, {\"cutoff\": 21, \"precision\": 0.22933771209633272, \"recall\": 0.6480463520043729}, {\"cutoff\": 26, \"precision\": 0.2073386383731212, \"recall\": 0.7076012006022001}, {\"cutoff\": 31, \"precision\": 0.1861327400815721, \"recall\": 0.765166536500869}, {\"cutoff\": 36, \"precision\": 0.16833441143785977, \"recall\": 0.8302811004310251}, {\"cutoff\": 41, \"precision\": 0.1604702200160568, \"recall\": 0.9310744339230099}, {\"cutoff\": 46, \"precision\": 0.15196924402321704, \"recall\": 0.9600736211980591}]}, \"item_item\": {\"precision_recall\": [{\"cutoff\": 1, \"precision\": 0.3448275862068966, \"recall\": 0.05714207710959334}, {\"cutoff\": 2, \"precision\": 0.2931034482758621, \"recall\": 0.08200336820526724}, {\"cutoff\": 3, \"precision\": 0.27586206896551724, \"recall\": 0.1124618607002415}, {\"cutoff\": 4, \"precision\": 0.2643678160919538, \"recall\": 0.13796687755208492}, {\"cutoff\": 5, \"precision\": 0.25287356321839083, \"recall\": 0.1601852440782975}, {\"cutoff\": 6, \"precision\": 0.2279693486590038, \"recall\": 0.16919240716342165}, {\"cutoff\": 7, \"precision\": 0.21510673234811165, \"recall\": 0.1845597367261535}, {\"cutoff\": 8, \"precision\": 0.20689655172413796, \"recall\": 0.20152864645118512}, {\"cutoff\": 9, \"precision\": 0.20817369093231156, \"recall\": 0.21982197333271802}, {\"cutoff\": 10, \"precision\": 0.20000000000000004, \"recall\": 0.2313836840598459}, {\"cutoff\": 11, \"precision\": 0.19749216300940442, \"recall\": 0.24622873507930976}, {\"cutoff\": 16, \"precision\": 0.17169540229885058, \"recall\": 0.31112479714928487}, {\"cutoff\": 21, \"precision\": 0.1559934318555009, \"recall\": 0.3575527832524334}, {\"cutoff\": 26, \"precision\": 0.14721485411140578, \"recall\": 0.40009101630041166}, {\"cutoff\": 31, \"precision\": 0.13644790507971827, \"recall\": 0.4475698298037129}, {\"cutoff\": 36, \"precision\": 0.12906238078651874, \"recall\": 0.474941876103795}, {\"cutoff\": 41, \"precision\": 0.12234294219155448, \"recall\": 0.49981118387415235}, {\"cutoff\": 46, \"precision\": 0.11748648540252744, \"recall\": 0.5090659792758744}]}}}, \"name\": [\"item_item\"], \"view_file\": \"model\", \"view_component\": \"Comparison\", \"view_params\": {\"model_type\": \"recommender\", \"view\": \"Comparison\"}, \"view_components\": [\"Summary\", \"Evaluation\", \"Comparison\"], \"model_type\": \"recommender\", \"attributes\": {\"section_titles\": [\"Schema\", \"Statistics\", \"Training summary\", \"Model Parameters\", \"Other Settings\"], \"sections\": [[[\"User ID\", \"User-ID\"], [\"Item ID\", \"Item-ID\"], [\"Target\", \"rating\"], [\"Additional observation features\", 0], [\"User side features\", []], [\"Item side features\", []]], [[\"Number of observations\", 1760844], [\"Number of users\", 59132], [\"Number of items\", 140]], [[\"Training time\", 1.5134]], [[\"Model class\", \"ItemSimilarityRecommender\"], [\"threshold\", 0.001], [\"similarity_type\", \"pearson\"], [\"training_method\", \"auto\"]], [[\"degree_approximation_threshold\", 4096], [\"sparse_density_estimation_sample_size\", 4096], [\"max_data_passes\", 4096], [\"target_memory_usage\", 8589934592], [\"seed_item_set_size\", 50], [\"nearest_neighbors_interaction_proportion_threshold\", 0.05], [\"max_item_neighborhood_size\", 5]]]}, \"evaluations\": [[\"dataset\", {\"precision_recall_overall\": [{\"cutoff\": 1, \"precision\": 0.3448275862068966, \"recall\": 0.05714207710959334}, {\"cutoff\": 2, \"precision\": 0.2931034482758621, \"recall\": 0.08200336820526724}, {\"cutoff\": 3, \"precision\": 0.27586206896551724, \"recall\": 0.1124618607002415}, {\"cutoff\": 4, \"precision\": 0.2643678160919538, \"recall\": 0.13796687755208492}, {\"cutoff\": 5, \"precision\": 0.25287356321839083, \"recall\": 0.1601852440782975}, {\"cutoff\": 6, \"precision\": 0.2279693486590038, \"recall\": 0.16919240716342165}, {\"cutoff\": 7, \"precision\": 0.21510673234811165, \"recall\": 0.1845597367261535}, {\"cutoff\": 8, \"precision\": 0.20689655172413796, \"recall\": 0.20152864645118512}, {\"cutoff\": 9, \"precision\": 0.20817369093231156, \"recall\": 0.21982197333271802}, {\"cutoff\": 10, \"precision\": 0.20000000000000004, \"recall\": 0.2313836840598459}, {\"cutoff\": 11, \"precision\": 0.19749216300940442, \"recall\": 0.24622873507930976}, {\"cutoff\": 16, \"precision\": 0.17169540229885058, \"recall\": 0.31112479714928487}, {\"cutoff\": 21, \"precision\": 0.1559934318555009, \"recall\": 0.3575527832524334}, {\"cutoff\": 26, \"precision\": 0.14721485411140578, \"recall\": 0.40009101630041166}, {\"cutoff\": 31, \"precision\": 0.13644790507971827, \"recall\": 0.4475698298037129}, {\"cutoff\": 36, \"precision\": 0.12906238078651874, \"recall\": 0.474941876103795}, {\"cutoff\": 41, \"precision\": 0.12234294219155448, \"recall\": 0.49981118387415235}, {\"cutoff\": 46, \"precision\": 0.11748648540252744, \"recall\": 0.5090659792758744}], \"precision_recall_by_user\": [{\"count\": 11, \"cutoff\": 1, \"User-ID\": 2067, \"precision\": 0.0, \"recall\": 0.0}, {\"count\": 11, \"cutoff\": 2, \"User-ID\": 2067, \"precision\": 0.0, \"recall\": 0.0}, {\"count\": 11, \"cutoff\": 3, \"User-ID\": 2067, \"precision\": 0.3333333333333333, \"recall\": 0.09090909090909091}, {\"count\": 11, \"cutoff\": 4, \"User-ID\": 2067, \"precision\": 0.25, \"recall\": 0.09090909090909091}, {\"count\": 11, \"cutoff\": 5, \"User-ID\": 2067, \"precision\": 0.2, \"recall\": 0.09090909090909091}, {\"count\": 11, \"cutoff\": 6, \"User-ID\": 2067, \"precision\": 0.16666666666666666, \"recall\": 0.09090909090909091}, {\"count\": 11, \"cutoff\": 7, \"User-ID\": 2067, \"precision\": 0.14285714285714285, \"recall\": 0.09090909090909091}, {\"count\": 11, \"cutoff\": 8, \"User-ID\": 2067, \"precision\": 0.125, \"recall\": 0.09090909090909091}, {\"count\": 11, \"cutoff\": 9, \"User-ID\": 2067, \"precision\": 0.1111111111111111, \"recall\": 0.09090909090909091}, {\"count\": 11, \"cutoff\": 10, \"User-ID\": 2067, \"precision\": 0.1, \"recall\": 0.09090909090909091}, {\"count\": 11, \"cutoff\": 11, \"User-ID\": 2067, \"precision\": 0.09090909090909091, \"recall\": 0.09090909090909091}, {\"count\": 11, \"cutoff\": 16, \"User-ID\": 2067, \"precision\": 0.0625, \"recall\": 0.09090909090909091}, {\"count\": 11, \"cutoff\": 21, \"User-ID\": 2067, \"precision\": 0.14285714285714285, \"recall\": 0.2727272727272727}, {\"count\": 11, \"cutoff\": 26, \"User-ID\": 2067, \"precision\": 0.15384615384615385, \"recall\": 0.36363636363636365}, {\"count\": 11, \"cutoff\": 31, \"User-ID\": 2067, \"precision\": 0.12903225806451613, \"recall\": 0.36363636363636365}, {\"count\": 11, \"cutoff\": 36, \"User-ID\": 2067, \"precision\": 0.1388888888888889, \"recall\": 0.45454545454545453}, {\"count\": 11, \"cutoff\": 41, \"User-ID\": 2067, \"precision\": 0.14634146341463414, \"recall\": 0.5454545454545454}, {\"count\": 11, \"cutoff\": 46, \"User-ID\": 2067, \"precision\": 0.13043478260869565, \"recall\": 0.5454545454545454}, {\"count\": 25, \"cutoff\": 1, \"User-ID\": 3291, \"precision\": 1.0, \"recall\": 0.04}, {\"count\": 25, \"cutoff\": 2, \"User-ID\": 3291, \"precision\": 1.0, \"recall\": 0.08}, {\"count\": 25, \"cutoff\": 3, \"User-ID\": 3291, \"precision\": 1.0, \"recall\": 0.12}, {\"count\": 25, \"cutoff\": 4, \"User-ID\": 3291, \"precision\": 1.0, \"recall\": 0.16}, {\"count\": 25, \"cutoff\": 5, \"User-ID\": 3291, \"precision\": 1.0, \"recall\": 0.2}, {\"count\": 25, \"cutoff\": 6, \"User-ID\": 3291, \"precision\": 1.0, \"recall\": 0.24}, {\"count\": 25, \"cutoff\": 7, \"User-ID\": 3291, \"precision\": 0.8571428571428571, \"recall\": 0.24}, {\"count\": 25, \"cutoff\": 8, \"User-ID\": 3291, \"precision\": 0.875, \"recall\": 0.28}, {\"count\": 25, \"cutoff\": 9, \"User-ID\": 3291, \"precision\": 0.8888888888888888, \"recall\": 0.32}, {\"count\": 25, \"cutoff\": 10, \"User-ID\": 3291, \"precision\": 0.9, \"recall\": 0.36}, {\"count\": 25, \"cutoff\": 11, \"User-ID\": 3291, \"precision\": 0.9090909090909091, \"recall\": 0.4}, {\"count\": 25, \"cutoff\": 16, \"User-ID\": 3291, \"precision\": 0.8125, \"recall\": 0.52}, {\"count\": 25, \"cutoff\": 21, \"User-ID\": 3291, \"precision\": 0.7142857142857143, \"recall\": 0.6}, {\"count\": 25, \"cutoff\": 26, \"User-ID\": 3291, \"precision\": 0.7307692307692307, \"recall\": 0.76}, {\"count\": 25, \"cutoff\": 31, \"User-ID\": 3291, \"precision\": 0.6774193548387096, \"recall\": 0.84}, {\"count\": 25, \"cutoff\": 36, \"User-ID\": 3291, \"precision\": 0.6944444444444444, \"recall\": 1.0}, {\"count\": 25, \"cutoff\": 41, \"User-ID\": 3291, \"precision\": 0.6756756756756757, \"recall\": 1.0}, {\"count\": 25, \"cutoff\": 46, \"User-ID\": 3291, \"precision\": 0.6756756756756757, \"recall\": 1.0}, {\"count\": 6, \"cutoff\": 1, \"User-ID\": 3317, \"precision\": 0.0, \"recall\": 0.0}, {\"count\": 6, \"cutoff\": 2, \"User-ID\": 3317, \"precision\": 0.0, \"recall\": 0.0}, {\"count\": 6, \"cutoff\": 3, \"User-ID\": 3317, \"precision\": 0.0, \"recall\": 0.0}, {\"count\": 6, \"cutoff\": 4, \"User-ID\": 3317, \"precision\": 0.0, \"recall\": 0.0}, {\"count\": 6, \"cutoff\": 5, \"User-ID\": 3317, \"precision\": 0.0, \"recall\": 0.0}, {\"count\": 6, \"cutoff\": 6, \"User-ID\": 3317, \"precision\": 0.0, \"recall\": 0.0}, {\"count\": 6, \"cutoff\": 7, \"User-ID\": 3317, \"precision\": 0.0, \"recall\": 0.0}, {\"count\": 6, \"cutoff\": 8, \"User-ID\": 3317, \"precision\": 0.0, \"recall\": 0.0}, {\"count\": 6, \"cutoff\": 9, \"User-ID\": 3317, \"precision\": 0.0, \"recall\": 0.0}, {\"count\": 6, \"cutoff\": 10, \"User-ID\": 3317, \"precision\": 0.0, \"recall\": 0.0}, {\"count\": 6, \"cutoff\": 11, \"User-ID\": 3317, \"precision\": 0.0, \"recall\": 0.0}, {\"count\": 6, \"cutoff\": 16, \"User-ID\": 3317, \"precision\": 0.0, \"recall\": 0.0}, {\"count\": 6, \"cutoff\": 21, \"User-ID\": 3317, \"precision\": 0.0, \"recall\": 0.0}, {\"count\": 6, \"cutoff\": 26, \"User-ID\": 3317, \"precision\": 0.0, \"recall\": 0.0}, {\"count\": 6, \"cutoff\": 31, \"User-ID\": 3317, \"precision\": 0.0, \"recall\": 0.0}, {\"count\": 6, \"cutoff\": 36, \"User-ID\": 3317, \"precision\": 0.0, \"recall\": 0.0}, {\"count\": 6, \"cutoff\": 41, \"User-ID\": 3317, \"precision\": 0.0, \"recall\": 0.0}, {\"count\": 6, \"cutoff\": 46, \"User-ID\": 3317, \"precision\": 0.0, \"recall\": 0.0}, {\"count\": 1, \"cutoff\": 1, \"User-ID\": 4135, \"precision\": 0.0, \"recall\": 0.0}, {\"count\": 1, \"cutoff\": 2, \"User-ID\": 4135, \"precision\": 0.0, \"recall\": 0.0}, {\"count\": 1, \"cutoff\": 3, \"User-ID\": 4135, \"precision\": 0.0, \"recall\": 0.0}, {\"count\": 1, \"cutoff\": 4, \"User-ID\": 4135, \"precision\": 0.0, \"recall\": 0.0}, {\"count\": 1, \"cutoff\": 5, \"User-ID\": 4135, \"precision\": 0.0, \"recall\": 0.0}, {\"count\": 1, \"cutoff\": 6, \"User-ID\": 4135, \"precision\": 0.0, \"recall\": 0.0}, {\"count\": 1, \"cutoff\": 7, \"User-ID\": 4135, \"precision\": 0.0, \"recall\": 0.0}, {\"count\": 1, \"cutoff\": 8, \"User-ID\": 4135, \"precision\": 0.0, \"recall\": 0.0}, {\"count\": 1, \"cutoff\": 9, \"User-ID\": 4135, \"precision\": 0.0, \"recall\": 0.0}, {\"count\": 1, \"cutoff\": 10, \"User-ID\": 4135, \"precision\": 0.0, \"recall\": 0.0}, {\"count\": 1, \"cutoff\": 11, \"User-ID\": 4135, \"precision\": 0.0, \"recall\": 0.0}, {\"count\": 1, \"cutoff\": 16, \"User-ID\": 4135, \"precision\": 0.0625, \"recall\": 1.0}, {\"count\": 1, \"cutoff\": 21, \"User-ID\": 4135, \"precision\": 0.047619047619047616, \"recall\": 1.0}, {\"count\": 1, \"cutoff\": 26, \"User-ID\": 4135, \"precision\": 0.038461538461538464, \"recall\": 1.0}, {\"count\": 1, \"cutoff\": 31, \"User-ID\": 4135, \"precision\": 0.03225806451612903, \"recall\": 1.0}, {\"count\": 1, \"cutoff\": 36, \"User-ID\": 4135, \"precision\": 0.027777777777777776, \"recall\": 1.0}, {\"count\": 1, \"cutoff\": 41, \"User-ID\": 4135, \"precision\": 0.024390243902439025, \"recall\": 1.0}, {\"count\": 1, \"cutoff\": 46, \"User-ID\": 4135, \"precision\": 0.021739130434782608, \"recall\": 1.0}, {\"count\": 2, \"cutoff\": 1, \"User-ID\": 6004, \"precision\": 0.0, \"recall\": 0.0}, {\"count\": 2, \"cutoff\": 2, \"User-ID\": 6004, \"precision\": 0.0, \"recall\": 0.0}, {\"count\": 2, \"cutoff\": 3, \"User-ID\": 6004, \"precision\": 0.0, \"recall\": 0.0}, {\"count\": 2, \"cutoff\": 4, \"User-ID\": 6004, \"precision\": 0.0, \"recall\": 0.0}, {\"count\": 2, \"cutoff\": 5, \"User-ID\": 6004, \"precision\": 0.0, \"recall\": 0.0}, {\"count\": 2, \"cutoff\": 6, \"User-ID\": 6004, \"precision\": 0.0, \"recall\": 0.0}, {\"count\": 2, \"cutoff\": 7, \"User-ID\": 6004, \"precision\": 0.0, \"recall\": 0.0}, {\"count\": 2, \"cutoff\": 8, \"User-ID\": 6004, \"precision\": 0.0, \"recall\": 0.0}, {\"count\": 2, \"cutoff\": 9, \"User-ID\": 6004, \"precision\": 0.0, \"recall\": 0.0}, {\"count\": 2, \"cutoff\": 10, \"User-ID\": 6004, \"precision\": 0.0, \"recall\": 0.0}, {\"count\": 2, \"cutoff\": 11, \"User-ID\": 6004, \"precision\": 0.0, \"recall\": 0.0}, {\"count\": 2, \"cutoff\": 16, \"User-ID\": 6004, \"precision\": 0.0, \"recall\": 0.0}, {\"count\": 2, \"cutoff\": 21, \"User-ID\": 6004, \"precision\": 0.0, \"recall\": 0.0}, {\"count\": 2, \"cutoff\": 26, \"User-ID\": 6004, \"precision\": 0.0, \"recall\": 0.0}, {\"count\": 2, \"cutoff\": 31, \"User-ID\": 6004, \"precision\": 0.0, \"recall\": 0.0}, {\"count\": 2, \"cutoff\": 36, \"User-ID\": 6004, \"precision\": 0.0, \"recall\": 0.0}, {\"count\": 2, \"cutoff\": 41, \"User-ID\": 6004, \"precision\": 0.0, \"recall\": 0.0}, {\"count\": 2, \"cutoff\": 46, \"User-ID\": 6004, \"precision\": 0.0, \"recall\": 0.0}, {\"count\": 7, \"cutoff\": 1, \"User-ID\": 6651, \"precision\": 0.0, \"recall\": 0.0}, {\"count\": 7, \"cutoff\": 2, \"User-ID\": 6651, \"precision\": 0.0, \"recall\": 0.0}, {\"count\": 7, \"cutoff\": 3, \"User-ID\": 6651, \"precision\": 0.0, \"recall\": 0.0}, {\"count\": 7, \"cutoff\": 4, \"User-ID\": 6651, \"precision\": 0.25, \"recall\": 0.14285714285714285}, {\"count\": 7, \"cutoff\": 5, \"User-ID\": 6651, \"precision\": 0.2, \"recall\": 0.14285714285714285}, {\"count\": 7, \"cutoff\": 6, \"User-ID\": 6651, \"precision\": 0.16666666666666666, \"recall\": 0.14285714285714285}, {\"count\": 7, \"cutoff\": 7, \"User-ID\": 6651, \"precision\": 0.14285714285714285, \"recall\": 0.14285714285714285}, {\"count\": 7, \"cutoff\": 8, \"User-ID\": 6651, \"precision\": 0.125, \"recall\": 0.14285714285714285}, {\"count\": 7, \"cutoff\": 9, \"User-ID\": 6651, \"precision\": 0.1111111111111111, \"recall\": 0.14285714285714285}, {\"count\": 7, \"cutoff\": 10, \"User-ID\": 6651, \"precision\": 0.1, \"recall\": 0.14285714285714285}, {\"count\": 7, \"cutoff\": 11, \"User-ID\": 6651, \"precision\": 0.09090909090909091, \"recall\": 0.14285714285714285}, {\"count\": 7, \"cutoff\": 16, \"User-ID\": 6651, \"precision\": 0.0625, \"recall\": 0.14285714285714285}, {\"count\": 7, \"cutoff\": 21, \"User-ID\": 6651, \"precision\": 0.14285714285714285, \"recall\": 0.42857142857142855}, {\"count\": 7, \"cutoff\": 26, \"User-ID\": 6651, \"precision\": 0.15384615384615385, \"recall\": 0.5714285714285714}, {\"count\": 7, \"cutoff\": 31, \"User-ID\": 6651, \"precision\": 0.12903225806451613, \"recall\": 0.5714285714285714}, {\"count\": 7, \"cutoff\": 36, \"User-ID\": 6651, \"precision\": 0.1388888888888889, \"recall\": 0.7142857142857143}, {\"count\": 7, \"cutoff\": 41, \"User-ID\": 6651, \"precision\": 0.12195121951219512, \"recall\": 0.7142857142857143}, {\"count\": 7, \"cutoff\": 46, \"User-ID\": 6651, \"precision\": 0.10869565217391304, \"recall\": 0.7142857142857143}, {\"count\": 2, \"cutoff\": 1, \"User-ID\": 7492, \"precision\": 0.0, \"recall\": 0.0}, {\"count\": 2, \"cutoff\": 2, \"User-ID\": 7492, \"precision\": 0.0, \"recall\": 0.0}, {\"count\": 2, \"cutoff\": 3, \"User-ID\": 7492, \"precision\": 0.0, \"recall\": 0.0}, {\"count\": 2, \"cutoff\": 4, \"User-ID\": 7492, \"precision\": 0.0, \"recall\": 0.0}, {\"count\": 2, \"cutoff\": 5, \"User-ID\": 7492, \"precision\": 0.0, \"recall\": 0.0}, {\"count\": 2, \"cutoff\": 6, \"User-ID\": 7492, \"precision\": 0.0, \"recall\": 0.0}, {\"count\": 2, \"cutoff\": 7, \"User-ID\": 7492, \"precision\": 0.0, \"recall\": 0.0}, {\"count\": 2, \"cutoff\": 8, \"User-ID\": 7492, \"precision\": 0.0, \"recall\": 0.0}, {\"count\": 2, \"cutoff\": 9, \"User-ID\": 7492, \"precision\": 0.0, \"recall\": 0.0}, {\"count\": 2, \"cutoff\": 10, \"User-ID\": 7492, \"precision\": 0.0, \"recall\": 0.0}, {\"count\": 2, \"cutoff\": 11, \"User-ID\": 7492, \"precision\": 0.0, \"recall\": 0.0}, {\"count\": 2, \"cutoff\": 16, \"User-ID\": 7492, \"precision\": 0.0, \"recall\": 0.0}, {\"count\": 2, \"cutoff\": 21, \"User-ID\": 7492, \"precision\": 0.0, \"recall\": 0.0}, {\"count\": 2, \"cutoff\": 26, \"User-ID\": 7492, \"precision\": 0.0, \"recall\": 0.0}, {\"count\": 2, \"cutoff\": 31, \"User-ID\": 7492, \"precision\": 0.0, \"recall\": 0.0}, {\"count\": 2, \"cutoff\": 36, \"User-ID\": 7492, \"precision\": 0.0, \"recall\": 0.0}, {\"count\": 2, \"cutoff\": 41, \"User-ID\": 7492, \"precision\": 0.0, \"recall\": 0.0}, {\"count\": 2, \"cutoff\": 46, \"User-ID\": 7492, \"precision\": 0.0, \"recall\": 0.0}, {\"count\": 5, \"cutoff\": 1, \"User-ID\": 7747, \"precision\": 1.0, \"recall\": 0.2}, {\"count\": 5, \"cutoff\": 2, \"User-ID\": 7747, \"precision\": 1.0, \"recall\": 0.4}, {\"count\": 5, \"cutoff\": 3, \"User-ID\": 7747, \"precision\": 0.6666666666666666, \"recall\": 0.4}, {\"count\": 5, \"cutoff\": 4, \"User-ID\": 7747, \"precision\": 0.5, \"recall\": 0.4}, {\"count\": 5, \"cutoff\": 5, \"User-ID\": 7747, \"precision\": 0.4, \"recall\": 0.4}, {\"count\": 5, \"cutoff\": 6, \"User-ID\": 7747, \"precision\": 0.3333333333333333, \"recall\": 0.4}, {\"count\": 5, \"cutoff\": 7, \"User-ID\": 7747, \"precision\": 0.2857142857142857, \"recall\": 0.4}, {\"count\": 5, \"cutoff\": 8, \"User-ID\": 7747, \"precision\": 0.25, \"recall\": 0.4}, {\"count\": 5, \"cutoff\": 9, \"User-ID\": 7747, \"precision\": 0.3333333333333333, \"recall\": 0.6}, {\"count\": 5, \"cutoff\": 10, \"User-ID\": 7747, \"precision\": 0.3, \"recall\": 0.6}, {\"count\": 5, \"cutoff\": 11, \"User-ID\": 7747, \"precision\": 0.2727272727272727, \"recall\": 0.6}, {\"count\": 5, \"cutoff\": 16, \"User-ID\": 7747, \"precision\": 0.1875, \"recall\": 0.6}, {\"count\": 5, \"cutoff\": 21, \"User-ID\": 7747, \"precision\": 0.19047619047619047, \"recall\": 0.8}, {\"count\": 5, \"cutoff\": 26, \"User-ID\": 7747, \"precision\": 0.15384615384615385, \"recall\": 0.8}, {\"count\": 5, \"cutoff\": 31, \"User-ID\": 7747, \"precision\": 0.16129032258064516, \"recall\": 1.0}, {\"count\": 5, \"cutoff\": 36, \"User-ID\": 7747, \"precision\": 0.1388888888888889, \"recall\": 1.0}, {\"count\": 5, \"cutoff\": 41, \"User-ID\": 7747, \"precision\": 0.12195121951219512, \"recall\": 1.0}, {\"count\": 5, \"cutoff\": 46, \"User-ID\": 7747, \"precision\": 0.10869565217391304, \"recall\": 1.0}, {\"count\": 3, \"cutoff\": 1, \"User-ID\": 8429, \"precision\": 0.0, \"recall\": 0.0}, {\"count\": 3, \"cutoff\": 2, \"User-ID\": 8429, \"precision\": 0.0, \"recall\": 0.0}, {\"count\": 3, \"cutoff\": 3, \"User-ID\": 8429, \"precision\": 0.0, \"recall\": 0.0}, {\"count\": 3, \"cutoff\": 4, \"User-ID\": 8429, \"precision\": 0.0, \"recall\": 0.0}, {\"count\": 3, \"cutoff\": 5, \"User-ID\": 8429, \"precision\": 0.0, \"recall\": 0.0}, {\"count\": 3, \"cutoff\": 6, \"User-ID\": 8429, \"precision\": 0.0, \"recall\": 0.0}, {\"count\": 3, \"cutoff\": 7, \"User-ID\": 8429, \"precision\": 0.0, \"recall\": 0.0}, {\"count\": 3, \"cutoff\": 8, \"User-ID\": 8429, \"precision\": 0.0, \"recall\": 0.0}, {\"count\": 3, \"cutoff\": 9, \"User-ID\": 8429, \"precision\": 0.0, \"recall\": 0.0}, {\"count\": 3, \"cutoff\": 10, \"User-ID\": 8429, \"precision\": 0.0, \"recall\": 0.0}, {\"count\": 3, \"cutoff\": 11, \"User-ID\": 8429, \"precision\": 0.0, \"recall\": 0.0}, {\"count\": 3, \"cutoff\": 16, \"User-ID\": 8429, \"precision\": 0.0625, \"recall\": 0.3333333333333333}, {\"count\": 3, \"cutoff\": 21, \"User-ID\": 8429, \"precision\": 0.047619047619047616, \"recall\": 0.3333333333333333}, {\"count\": 3, \"cutoff\": 26, \"User-ID\": 8429, \"precision\": 0.038461538461538464, \"recall\": 0.3333333333333333}, {\"count\": 3, \"cutoff\": 31, \"User-ID\": 8429, \"precision\": 0.03225806451612903, \"recall\": 0.3333333333333333}, {\"count\": 3, \"cutoff\": 36, \"User-ID\": 8429, \"precision\": 0.027777777777777776, \"recall\": 0.3333333333333333}, {\"count\": 3, \"cutoff\": 41, \"User-ID\": 8429, \"precision\": 0.024390243902439025, \"recall\": 0.3333333333333333}, {\"count\": 3, \"cutoff\": 46, \"User-ID\": 8429, \"precision\": 0.021739130434782608, \"recall\": 0.3333333333333333}, {\"count\": 1, \"cutoff\": 1, \"User-ID\": 9601, \"precision\": 0.0, \"recall\": 0.0}, {\"count\": 1, \"cutoff\": 2, \"User-ID\": 9601, \"precision\": 0.0, \"recall\": 0.0}, {\"count\": 1, \"cutoff\": 3, \"User-ID\": 9601, \"precision\": 0.0, \"recall\": 0.0}, {\"count\": 1, \"cutoff\": 4, \"User-ID\": 9601, \"precision\": 0.0, \"recall\": 0.0}, {\"count\": 1, \"cutoff\": 5, \"User-ID\": 9601, \"precision\": 0.0, \"recall\": 0.0}, {\"count\": 1, \"cutoff\": 6, \"User-ID\": 9601, \"precision\": 0.0, \"recall\": 0.0}, {\"count\": 1, \"cutoff\": 7, \"User-ID\": 9601, \"precision\": 0.0, \"recall\": 0.0}, {\"count\": 1, \"cutoff\": 8, \"User-ID\": 9601, \"precision\": 0.0, \"recall\": 0.0}, {\"count\": 1, \"cutoff\": 9, \"User-ID\": 9601, \"precision\": 0.0, \"recall\": 0.0}, {\"count\": 1, \"cutoff\": 10, \"User-ID\": 9601, \"precision\": 0.0, \"recall\": 0.0}, {\"count\": 1, \"cutoff\": 11, \"User-ID\": 9601, \"precision\": 0.0, \"recall\": 0.0}, {\"count\": 1, \"cutoff\": 16, \"User-ID\": 9601, \"precision\": 0.0, \"recall\": 0.0}, {\"count\": 1, \"cutoff\": 21, \"User-ID\": 9601, \"precision\": 0.0, \"recall\": 0.0}, {\"count\": 1, \"cutoff\": 26, \"User-ID\": 9601, \"precision\": 0.0, \"recall\": 0.0}, {\"count\": 1, \"cutoff\": 31, \"User-ID\": 9601, \"precision\": 0.0, \"recall\": 0.0}, {\"count\": 1, \"cutoff\": 36, \"User-ID\": 9601, \"precision\": 0.0, \"recall\": 0.0}, {\"count\": 1, \"cutoff\": 41, \"User-ID\": 9601, \"precision\": 0.0, \"recall\": 0.0}, {\"count\": 1, \"cutoff\": 46, \"User-ID\": 9601, \"precision\": 0.0, \"recall\": 0.0}, {\"count\": 2, \"cutoff\": 1, \"User-ID\": 9629, \"precision\": 0.0, \"recall\": 0.0}, {\"count\": 2, \"cutoff\": 2, \"User-ID\": 9629, \"precision\": 0.0, \"recall\": 0.0}, {\"count\": 2, \"cutoff\": 3, \"User-ID\": 9629, \"precision\": 0.3333333333333333, \"recall\": 0.5}, {\"count\": 2, \"cutoff\": 4, \"User-ID\": 9629, \"precision\": 0.25, \"recall\": 0.5}, {\"count\": 2, \"cutoff\": 5, \"User-ID\": 9629, \"precision\": 0.2, \"recall\": 0.5}, {\"count\": 2, \"cutoff\": 6, \"User-ID\": 9629, \"precision\": 0.16666666666666666, \"recall\": 0.5}, {\"count\": 2, \"cutoff\": 7, \"User-ID\": 9629, \"precision\": 0.14285714285714285, \"recall\": 0.5}, {\"count\": 2, \"cutoff\": 8, \"User-ID\": 9629, \"precision\": 0.125, \"recall\": 0.5}, {\"count\": 2, \"cutoff\": 9, \"User-ID\": 9629, \"precision\": 0.1111111111111111, \"recall\": 0.5}, {\"count\": 2, \"cutoff\": 10, \"User-ID\": 9629, \"precision\": 0.1, \"recall\": 0.5}, {\"count\": 2, \"cutoff\": 11, \"User-ID\": 9629, \"precision\": 0.09090909090909091, \"recall\": 0.5}, {\"count\": 2, \"cutoff\": 16, \"User-ID\": 9629, \"precision\": 0.0625, \"recall\": 0.5}, {\"count\": 2, \"cutoff\": 21, \"User-ID\": 9629, \"precision\": 0.047619047619047616, \"recall\": 0.5}, {\"count\": 2, \"cutoff\": 26, \"User-ID\": 9629, \"precision\": 0.038461538461538464, \"recall\": 0.5}, {\"count\": 2, \"cutoff\": 31, \"User-ID\": 9629, \"precision\": 0.06451612903225806, \"recall\": 1.0}, {\"count\": 2, \"cutoff\": 36, \"User-ID\": 9629, \"precision\": 0.05555555555555555, \"recall\": 1.0}, {\"count\": 2, \"cutoff\": 41, \"User-ID\": 9629, \"precision\": 0.04878048780487805, \"recall\": 1.0}, {\"count\": 2, \"cutoff\": 46, \"User-ID\": 9629, \"precision\": 0.043478260869565216, \"recall\": 1.0}, {\"count\": 1, \"cutoff\": 1, \"User-ID\": 9721, \"precision\": 0.0, \"recall\": 0.0}, {\"count\": 1, \"cutoff\": 2, \"User-ID\": 9721, \"precision\": 0.0, \"recall\": 0.0}, {\"count\": 1, \"cutoff\": 3, \"User-ID\": 9721, \"precision\": 0.0, \"recall\": 0.0}, {\"count\": 1, \"cutoff\": 4, \"User-ID\": 9721, \"precision\": 0.0, \"recall\": 0.0}, {\"count\": 1, \"cutoff\": 5, \"User-ID\": 9721, \"precision\": 0.0, \"recall\": 0.0}, {\"count\": 1, \"cutoff\": 6, \"User-ID\": 9721, \"precision\": 0.0, \"recall\": 0.0}, {\"count\": 1, \"cutoff\": 7, \"User-ID\": 9721, \"precision\": 0.0, \"recall\": 0.0}, {\"count\": 1, \"cutoff\": 8, \"User-ID\": 9721, \"precision\": 0.0, \"recall\": 0.0}, {\"count\": 1, \"cutoff\": 9, \"User-ID\": 9721, \"precision\": 0.0, \"recall\": 0.0}, {\"count\": 1, \"cutoff\": 10, \"User-ID\": 9721, \"precision\": 0.0, \"recall\": 0.0}, {\"count\": 1, \"cutoff\": 11, \"User-ID\": 9721, \"precision\": 0.0, \"recall\": 0.0}, {\"count\": 1, \"cutoff\": 16, \"User-ID\": 9721, \"precision\": 0.0, \"recall\": 0.0}, {\"count\": 1, \"cutoff\": 21, \"User-ID\": 9721, \"precision\": 0.0, \"recall\": 0.0}, {\"count\": 1, \"cutoff\": 26, \"User-ID\": 9721, \"precision\": 0.0, \"recall\": 0.0}, {\"count\": 1, \"cutoff\": 31, \"User-ID\": 9721, \"precision\": 0.0, \"recall\": 0.0}, {\"count\": 1, \"cutoff\": 36, \"User-ID\": 9721, \"precision\": 0.0, \"recall\": 0.0}, {\"count\": 1, \"cutoff\": 41, \"User-ID\": 9721, \"precision\": 0.0, \"recall\": 0.0}, {\"count\": 1, \"cutoff\": 46, \"User-ID\": 9721, \"precision\": 0.0, \"recall\": 0.0}, {\"count\": 1, \"cutoff\": 1, \"User-ID\": 10467, \"precision\": 0.0, \"recall\": 0.0}, {\"count\": 1, \"cutoff\": 2, \"User-ID\": 10467, \"precision\": 0.0, \"recall\": 0.0}, {\"count\": 1, \"cutoff\": 3, \"User-ID\": 10467, \"precision\": 0.0, \"recall\": 0.0}, {\"count\": 1, \"cutoff\": 4, \"User-ID\": 10467, \"precision\": 0.0, \"recall\": 0.0}, {\"count\": 1, \"cutoff\": 5, \"User-ID\": 10467, \"precision\": 0.0, \"recall\": 0.0}, {\"count\": 1, \"cutoff\": 6, \"User-ID\": 10467, \"precision\": 0.0, \"recall\": 0.0}, {\"count\": 1, \"cutoff\": 7, \"User-ID\": 10467, \"precision\": 0.0, \"recall\": 0.0}, {\"count\": 1, \"cutoff\": 8, \"User-ID\": 10467, \"precision\": 0.0, \"recall\": 0.0}, {\"count\": 1, \"cutoff\": 9, \"User-ID\": 10467, \"precision\": 0.0, \"recall\": 0.0}, {\"count\": 1, \"cutoff\": 10, \"User-ID\": 10467, \"precision\": 0.0, \"recall\": 0.0}, {\"count\": 1, \"cutoff\": 11, \"User-ID\": 10467, \"precision\": 0.0, \"recall\": 0.0}, {\"count\": 1, \"cutoff\": 16, \"User-ID\": 10467, \"precision\": 0.0, \"recall\": 0.0}, {\"count\": 1, \"cutoff\": 21, \"User-ID\": 10467, \"precision\": 0.0, \"recall\": 0.0}, {\"count\": 1, \"cutoff\": 26, \"User-ID\": 10467, \"precision\": 0.0, \"recall\": 0.0}, {\"count\": 1, \"cutoff\": 31, \"User-ID\": 10467, \"precision\": 0.0, \"recall\": 0.0}, {\"count\": 1, \"cutoff\": 36, \"User-ID\": 10467, \"precision\": 0.0, \"recall\": 0.0}, {\"count\": 1, \"cutoff\": 41, \"User-ID\": 10467, \"precision\": 0.024390243902439025, \"recall\": 1.0}, {\"count\": 1, \"cutoff\": 46, \"User-ID\": 10467, \"precision\": 0.021739130434782608, \"recall\": 1.0}, {\"count\": 4, \"cutoff\": 1, \"User-ID\": 10802, \"precision\": 0.0, \"recall\": 0.0}, {\"count\": 4, \"cutoff\": 2, \"User-ID\": 10802, \"precision\": 0.0, \"recall\": 0.0}, {\"count\": 4, \"cutoff\": 3, \"User-ID\": 10802, \"precision\": 0.0, \"recall\": 0.0}, {\"count\": 4, \"cutoff\": 4, \"User-ID\": 10802, \"precision\": 0.0, \"recall\": 0.0}, {\"count\": 4, \"cutoff\": 5, \"User-ID\": 10802, \"precision\": 0.0, \"recall\": 0.0}, {\"count\": 4, \"cutoff\": 6, \"User-ID\": 10802, \"precision\": 0.0, \"recall\": 0.0}, {\"count\": 4, \"cutoff\": 7, \"User-ID\": 10802, \"precision\": 0.0, \"recall\": 0.0}, {\"count\": 4, \"cutoff\": 8, \"User-ID\": 10802, \"precision\": 0.0, \"recall\": 0.0}, {\"count\": 4, \"cutoff\": 9, \"User-ID\": 10802, \"precision\": 0.0, \"recall\": 0.0}, {\"count\": 4, \"cutoff\": 10, \"User-ID\": 10802, \"precision\": 0.0, \"recall\": 0.0}, {\"count\": 4, \"cutoff\": 11, \"User-ID\": 10802, \"precision\": 0.0, \"recall\": 0.0}, {\"count\": 4, \"cutoff\": 16, \"User-ID\": 10802, \"precision\": 0.0, \"recall\": 0.0}, {\"count\": 4, \"cutoff\": 21, \"User-ID\": 10802, \"precision\": 0.0, \"recall\": 0.0}, {\"count\": 4, \"cutoff\": 26, \"User-ID\": 10802, \"precision\": 0.0, \"recall\": 0.0}, {\"count\": 4, \"cutoff\": 31, \"User-ID\": 10802, \"precision\": 0.0, \"recall\": 0.0}, {\"count\": 4, \"cutoff\": 36, \"User-ID\": 10802, \"precision\": 0.0, \"recall\": 0.0}, {\"count\": 4, \"cutoff\": 41, \"User-ID\": 10802, \"precision\": 0.0, \"recall\": 0.0}, {\"count\": 4, \"cutoff\": 46, \"User-ID\": 10802, \"precision\": 0.0, \"recall\": 0.0}, {\"count\": 4, \"cutoff\": 1, \"User-ID\": 10815, \"precision\": 0.0, \"recall\": 0.0}, {\"count\": 4, \"cutoff\": 2, \"User-ID\": 10815, \"precision\": 0.0, \"recall\": 0.0}, {\"count\": 4, \"cutoff\": 3, \"User-ID\": 10815, \"precision\": 0.0, \"recall\": 0.0}, {\"count\": 4, \"cutoff\": 4, \"User-ID\": 10815, \"precision\": 0.0, \"recall\": 0.0}, {\"count\": 4, \"cutoff\": 5, \"User-ID\": 10815, \"precision\": 0.0, \"recall\": 0.0}, {\"count\": 4, \"cutoff\": 6, \"User-ID\": 10815, \"precision\": 0.0, \"recall\": 0.0}, {\"count\": 4, \"cutoff\": 7, \"User-ID\": 10815, \"precision\": 0.14285714285714285, \"recall\": 0.25}, {\"count\": 4, \"cutoff\": 8, \"User-ID\": 10815, \"precision\": 0.125, \"recall\": 0.25}, {\"count\": 4, \"cutoff\": 9, \"User-ID\": 10815, \"precision\": 0.1111111111111111, \"recall\": 0.25}, {\"count\": 4, \"cutoff\": 10, \"User-ID\": 10815, \"precision\": 0.1, \"recall\": 0.25}, {\"count\": 4, \"cutoff\": 11, \"User-ID\": 10815, \"precision\": 0.09090909090909091, \"recall\": 0.25}, {\"count\": 4, \"cutoff\": 16, \"User-ID\": 10815, \"precision\": 0.0625, \"recall\": 0.25}, {\"count\": 4, \"cutoff\": 21, \"User-ID\": 10815, \"precision\": 0.047619047619047616, \"recall\": 0.25}, {\"count\": 4, \"cutoff\": 26, \"User-ID\": 10815, \"precision\": 0.038461538461538464, \"recall\": 0.25}, {\"count\": 4, \"cutoff\": 31, \"User-ID\": 10815, \"precision\": 0.03225806451612903, \"recall\": 0.25}, {\"count\": 4, \"cutoff\": 36, \"User-ID\": 10815, \"precision\": 0.027777777777777776, \"recall\": 0.25}, {\"count\": 4, \"cutoff\": 41, \"User-ID\": 10815, \"precision\": 0.04878048780487805, \"recall\": 0.5}, {\"count\": 4, \"cutoff\": 46, \"User-ID\": 10815, \"precision\": 0.043478260869565216, \"recall\": 0.5}, {\"count\": 1, \"cutoff\": 1, \"User-ID\": 11117, \"precision\": 0.0, \"recall\": 0.0}, {\"count\": 1, \"cutoff\": 2, \"User-ID\": 11117, \"precision\": 0.0, \"recall\": 0.0}, {\"count\": 1, \"cutoff\": 3, \"User-ID\": 11117, \"precision\": 0.0, \"recall\": 0.0}, {\"count\": 1, \"cutoff\": 4, \"User-ID\": 11117, \"precision\": 0.0, \"recall\": 0.0}, {\"count\": 1, \"cutoff\": 5, \"User-ID\": 11117, \"precision\": 0.0, \"recall\": 0.0}, {\"count\": 1, \"cutoff\": 6, \"User-ID\": 11117, \"precision\": 0.0, \"recall\": 0.0}, {\"count\": 1, \"cutoff\": 7, \"User-ID\": 11117, \"precision\": 0.0, \"recall\": 0.0}, {\"count\": 1, \"cutoff\": 8, \"User-ID\": 11117, \"precision\": 0.0, \"recall\": 0.0}, {\"count\": 1, \"cutoff\": 9, \"User-ID\": 11117, \"precision\": 0.0, \"recall\": 0.0}, {\"count\": 1, \"cutoff\": 10, \"User-ID\": 11117, \"precision\": 0.0, \"recall\": 0.0}, {\"count\": 1, \"cutoff\": 11, \"User-ID\": 11117, \"precision\": 0.0, \"recall\": 0.0}, {\"count\": 1, \"cutoff\": 16, \"User-ID\": 11117, \"precision\": 0.0, \"recall\": 0.0}, {\"count\": 1, \"cutoff\": 21, \"User-ID\": 11117, \"precision\": 0.0, \"recall\": 0.0}, {\"count\": 1, \"cutoff\": 26, \"User-ID\": 11117, \"precision\": 0.0, \"recall\": 0.0}, {\"count\": 1, \"cutoff\": 31, \"User-ID\": 11117, \"precision\": 0.0, \"recall\": 0.0}, {\"count\": 1, \"cutoff\": 36, \"User-ID\": 11117, \"precision\": 0.0, \"recall\": 0.0}, {\"count\": 1, \"cutoff\": 41, \"User-ID\": 11117, \"precision\": 0.0, \"recall\": 0.0}, {\"count\": 1, \"cutoff\": 46, \"User-ID\": 11117, \"precision\": 0.0, \"recall\": 0.0}, {\"count\": 3, \"cutoff\": 1, \"User-ID\": 11654, \"precision\": 0.0, \"recall\": 0.0}, {\"count\": 3, \"cutoff\": 2, \"User-ID\": 11654, \"precision\": 0.0, \"recall\": 0.0}, {\"count\": 3, \"cutoff\": 3, \"User-ID\": 11654, \"precision\": 0.0, \"recall\": 0.0}, {\"count\": 3, \"cutoff\": 4, \"User-ID\": 11654, \"precision\": 0.0, \"recall\": 0.0}, {\"count\": 3, \"cutoff\": 5, \"User-ID\": 11654, \"precision\": 0.0, \"recall\": 0.0}, {\"count\": 3, \"cutoff\": 6, \"User-ID\": 11654, \"precision\": 0.0, \"recall\": 0.0}, {\"count\": 3, \"cutoff\": 7, \"User-ID\": 11654, \"precision\": 0.0, \"recall\": 0.0}, {\"count\": 3, \"cutoff\": 8, \"User-ID\": 11654, \"precision\": 0.0, \"recall\": 0.0}, {\"count\": 3, \"cutoff\": 9, \"User-ID\": 11654, \"precision\": 0.0, \"recall\": 0.0}, {\"count\": 3, \"cutoff\": 10, \"User-ID\": 11654, \"precision\": 0.0, \"recall\": 0.0}, {\"count\": 3, \"cutoff\": 11, \"User-ID\": 11654, \"precision\": 0.0, \"recall\": 0.0}, {\"count\": 3, \"cutoff\": 16, \"User-ID\": 11654, \"precision\": 0.0, \"recall\": 0.0}, {\"count\": 3, \"cutoff\": 21, \"User-ID\": 11654, \"precision\": 0.0, \"recall\": 0.0}, {\"count\": 3, \"cutoff\": 26, \"User-ID\": 11654, \"precision\": 0.0, \"recall\": 0.0}, {\"count\": 3, \"cutoff\": 31, \"User-ID\": 11654, \"precision\": 0.0, \"recall\": 0.0}, {\"count\": 3, \"cutoff\": 36, \"User-ID\": 11654, \"precision\": 0.027777777777777776, \"recall\": 0.3333333333333333}, {\"count\": 3, \"cutoff\": 41, \"User-ID\": 11654, \"precision\": 0.024390243902439025, \"recall\": 0.3333333333333333}, {\"count\": 3, \"cutoff\": 46, \"User-ID\": 11654, \"precision\": 0.021739130434782608, \"recall\": 0.3333333333333333}, {\"count\": 24, \"cutoff\": 1, \"User-ID\": 12227, \"precision\": 1.0, \"recall\": 0.041666666666666664}, {\"count\": 24, \"cutoff\": 2, \"User-ID\": 12227, \"precision\": 1.0, \"recall\": 0.08333333333333333}, {\"count\": 24, \"cutoff\": 3, \"User-ID\": 12227, \"precision\": 1.0, \"recall\": 0.125}, {\"count\": 24, \"cutoff\": 4, \"User-ID\": 12227, \"precision\": 1.0, \"recall\": 0.16666666666666666}, {\"count\": 24, \"cutoff\": 5, \"User-ID\": 12227, \"precision\": 0.8, \"recall\": 0.16666666666666666}, {\"count\": 24, \"cutoff\": 6, \"User-ID\": 12227, \"precision\": 0.8333333333333334, \"recall\": 0.20833333333333334}, {\"count\": 24, \"cutoff\": 7, \"User-ID\": 12227, \"precision\": 0.8571428571428571, \"recall\": 0.25}, {\"count\": 24, \"cutoff\": 8, \"User-ID\": 12227, \"precision\": 0.875, \"recall\": 0.2916666666666667}, {\"count\": 24, \"cutoff\": 9, \"User-ID\": 12227, \"precision\": 0.8888888888888888, \"recall\": 0.3333333333333333}, {\"count\": 24, \"cutoff\": 10, \"User-ID\": 12227, \"precision\": 0.8, \"recall\": 0.3333333333333333}, {\"count\": 24, \"cutoff\": 11, \"User-ID\": 12227, \"precision\": 0.8181818181818182, \"recall\": 0.375}, {\"count\": 24, \"cutoff\": 16, \"User-ID\": 12227, \"precision\": 0.625, \"recall\": 0.4166666666666667}, {\"count\": 24, \"cutoff\": 21, \"User-ID\": 12227, \"precision\": 0.7142857142857143, \"recall\": 0.625}, {\"count\": 24, \"cutoff\": 26, \"User-ID\": 12227, \"precision\": 0.7307692307692307, \"recall\": 0.7916666666666666}, {\"count\": 24, \"cutoff\": 31, \"User-ID\": 12227, \"precision\": 0.7096774193548387, \"recall\": 0.9166666666666666}, {\"count\": 24, \"cutoff\": 36, \"User-ID\": 12227, \"precision\": 0.6666666666666666, \"recall\": 1.0}, {\"count\": 24, \"cutoff\": 41, \"User-ID\": 12227, \"precision\": 0.6666666666666666, \"recall\": 1.0}, {\"count\": 24, \"cutoff\": 46, \"User-ID\": 12227, \"precision\": 0.6666666666666666, \"recall\": 1.0}, {\"count\": 2, \"cutoff\": 1, \"User-ID\": 13610, \"precision\": 0.0, \"recall\": 0.0}, {\"count\": 2, \"cutoff\": 2, \"User-ID\": 13610, \"precision\": 0.0, \"recall\": 0.0}, {\"count\": 2, \"cutoff\": 3, \"User-ID\": 13610, \"precision\": 0.0, \"recall\": 0.0}, {\"count\": 2, \"cutoff\": 4, \"User-ID\": 13610, \"precision\": 0.0, \"recall\": 0.0}, {\"count\": 2, \"cutoff\": 5, \"User-ID\": 13610, \"precision\": 0.0, \"recall\": 0.0}, {\"count\": 2, \"cutoff\": 6, \"User-ID\": 13610, \"precision\": 0.0, \"recall\": 0.0}, {\"count\": 2, \"cutoff\": 7, \"User-ID\": 13610, \"precision\": 0.0, \"recall\": 0.0}, {\"count\": 2, \"cutoff\": 8, \"User-ID\": 13610, \"precision\": 0.0, \"recall\": 0.0}, {\"count\": 2, \"cutoff\": 9, \"User-ID\": 13610, \"precision\": 0.0, \"recall\": 0.0}, {\"count\": 2, \"cutoff\": 10, \"User-ID\": 13610, \"precision\": 0.0, \"recall\": 0.0}, {\"count\": 2, \"cutoff\": 11, \"User-ID\": 13610, \"precision\": 0.0, \"recall\": 0.0}, {\"count\": 2, \"cutoff\": 16, \"User-ID\": 13610, \"precision\": 0.0, \"recall\": 0.0}, {\"count\": 2, \"cutoff\": 21, \"User-ID\": 13610, \"precision\": 0.0, \"recall\": 0.0}, {\"count\": 2, \"cutoff\": 26, \"User-ID\": 13610, \"precision\": 0.0, \"recall\": 0.0}, {\"count\": 2, \"cutoff\": 31, \"User-ID\": 13610, \"precision\": 0.0, \"recall\": 0.0}, {\"count\": 2, \"cutoff\": 36, \"User-ID\": 13610, \"precision\": 0.0, \"recall\": 0.0}, {\"count\": 2, \"cutoff\": 41, \"User-ID\": 13610, \"precision\": 0.0, \"recall\": 0.0}, {\"count\": 2, \"cutoff\": 46, \"User-ID\": 13610, \"precision\": 0.0, \"recall\": 0.0}, {\"count\": 1, \"cutoff\": 1, \"User-ID\": 13826, \"precision\": 0.0, \"recall\": 0.0}, {\"count\": 1, \"cutoff\": 2, \"User-ID\": 13826, \"precision\": 0.0, \"recall\": 0.0}, {\"count\": 1, \"cutoff\": 3, \"User-ID\": 13826, \"precision\": 0.0, \"recall\": 0.0}, {\"count\": 1, \"cutoff\": 4, \"User-ID\": 13826, \"precision\": 0.0, \"recall\": 0.0}, {\"count\": 1, \"cutoff\": 5, \"User-ID\": 13826, \"precision\": 0.0, \"recall\": 0.0}, {\"count\": 1, \"cutoff\": 6, \"User-ID\": 13826, \"precision\": 0.0, \"recall\": 0.0}, {\"count\": 1, \"cutoff\": 7, \"User-ID\": 13826, \"precision\": 0.0, \"recall\": 0.0}, {\"count\": 1, \"cutoff\": 8, \"User-ID\": 13826, \"precision\": 0.0, \"recall\": 0.0}, {\"count\": 1, \"cutoff\": 9, \"User-ID\": 13826, \"precision\": 0.0, \"recall\": 0.0}, {\"count\": 1, \"cutoff\": 10, \"User-ID\": 13826, \"precision\": 0.0, \"recall\": 0.0}, {\"count\": 1, \"cutoff\": 11, \"User-ID\": 13826, \"precision\": 0.0, \"recall\": 0.0}, {\"count\": 1, \"cutoff\": 16, \"User-ID\": 13826, \"precision\": 0.0, \"recall\": 0.0}, {\"count\": 1, \"cutoff\": 21, \"User-ID\": 13826, \"precision\": 0.0, \"recall\": 0.0}, {\"count\": 1, \"cutoff\": 26, \"User-ID\": 13826, \"precision\": 0.0, \"recall\": 0.0}, {\"count\": 1, \"cutoff\": 31, \"User-ID\": 13826, \"precision\": 0.0, \"recall\": 0.0}, {\"count\": 1, \"cutoff\": 36, \"User-ID\": 13826, \"precision\": 0.0, \"recall\": 0.0}, {\"count\": 1, \"cutoff\": 41, \"User-ID\": 13826, \"precision\": 0.0, \"recall\": 0.0}, {\"count\": 1, \"cutoff\": 46, \"User-ID\": 13826, \"precision\": 0.0, \"recall\": 0.0}, {\"count\": 1, \"cutoff\": 1, \"User-ID\": 13963, \"precision\": 0.0, \"recall\": 0.0}, {\"count\": 1, \"cutoff\": 2, \"User-ID\": 13963, \"precision\": 0.0, \"recall\": 0.0}, {\"count\": 1, \"cutoff\": 3, \"User-ID\": 13963, \"precision\": 0.0, \"recall\": 0.0}, {\"count\": 1, \"cutoff\": 4, \"User-ID\": 13963, \"precision\": 0.0, \"recall\": 0.0}, {\"count\": 1, \"cutoff\": 5, \"User-ID\": 13963, \"precision\": 0.0, \"recall\": 0.0}, {\"count\": 1, \"cutoff\": 6, \"User-ID\": 13963, \"precision\": 0.0, \"recall\": 0.0}, {\"count\": 1, \"cutoff\": 7, \"User-ID\": 13963, \"precision\": 0.0, \"recall\": 0.0}, {\"count\": 1, \"cutoff\": 8, \"User-ID\": 13963, \"precision\": 0.0, \"recall\": 0.0}, {\"count\": 1, \"cutoff\": 9, \"User-ID\": 13963, \"precision\": 0.0, \"recall\": 0.0}, {\"count\": 1, \"cutoff\": 10, \"User-ID\": 13963, \"precision\": 0.0, \"recall\": 0.0}, {\"count\": 1, \"cutoff\": 11, \"User-ID\": 13963, \"precision\": 0.0, \"recall\": 0.0}, {\"count\": 1, \"cutoff\": 16, \"User-ID\": 13963, \"precision\": 0.0, \"recall\": 0.0}, {\"count\": 1, \"cutoff\": 21, \"User-ID\": 13963, \"precision\": 0.0, \"recall\": 0.0}, {\"count\": 1, \"cutoff\": 26, \"User-ID\": 13963, \"precision\": 0.0, \"recall\": 0.0}, {\"count\": 1, \"cutoff\": 31, \"User-ID\": 13963, \"precision\": 0.03225806451612903, \"recall\": 1.0}, {\"count\": 1, \"cutoff\": 36, \"User-ID\": 13963, \"precision\": 0.027777777777777776, \"recall\": 1.0}, {\"count\": 1, \"cutoff\": 41, \"User-ID\": 13963, \"precision\": 0.024390243902439025, \"recall\": 1.0}, {\"count\": 1, \"cutoff\": 46, \"User-ID\": 13963, \"precision\": 0.021739130434782608, \"recall\": 1.0}, {\"count\": 4, \"cutoff\": 1, \"User-ID\": 14835, \"precision\": 0.0, \"recall\": 0.0}, {\"count\": 4, \"cutoff\": 2, \"User-ID\": 14835, \"precision\": 0.0, \"recall\": 0.0}, {\"count\": 4, \"cutoff\": 3, \"User-ID\": 14835, \"precision\": 0.0, \"recall\": 0.0}, {\"count\": 4, \"cutoff\": 4, \"User-ID\": 14835, \"precision\": 0.0, \"recall\": 0.0}, {\"count\": 4, \"cutoff\": 5, \"User-ID\": 14835, \"precision\": 0.0, \"recall\": 0.0}, {\"count\": 4, \"cutoff\": 6, \"User-ID\": 14835, \"precision\": 0.0, \"recall\": 0.0}, {\"count\": 4, \"cutoff\": 7, \"User-ID\": 14835, \"precision\": 0.0, \"recall\": 0.0}, {\"count\": 4, \"cutoff\": 8, \"User-ID\": 14835, \"precision\": 0.125, \"recall\": 0.25}, {\"count\": 4, \"cutoff\": 9, \"User-ID\": 14835, \"precision\": 0.1111111111111111, \"recall\": 0.25}, {\"count\": 4, \"cutoff\": 10, \"User-ID\": 14835, \"precision\": 0.1, \"recall\": 0.25}, {\"count\": 4, \"cutoff\": 11, \"User-ID\": 14835, \"precision\": 0.18181818181818182, \"recall\": 0.5}, {\"count\": 4, \"cutoff\": 16, \"User-ID\": 14835, \"precision\": 0.125, \"recall\": 0.5}, {\"count\": 4, \"cutoff\": 21, \"User-ID\": 14835, \"precision\": 0.09523809523809523, \"recall\": 0.5}, {\"count\": 4, \"cutoff\": 26, \"User-ID\": 14835, \"precision\": 0.07692307692307693, \"recall\": 0.5}, {\"count\": 4, \"cutoff\": 31, \"User-ID\": 14835, \"precision\": 0.06451612903225806, \"recall\": 0.5}, {\"count\": 4, \"cutoff\": 36, \"User-ID\": 14835, \"precision\": 0.05555555555555555, \"recall\": 0.5}, {\"count\": 4, \"cutoff\": 41, \"User-ID\": 14835, \"precision\": 0.04878048780487805, \"recall\": 0.5}, {\"count\": 4, \"cutoff\": 46, \"User-ID\": 14835, \"precision\": 0.043478260869565216, \"recall\": 0.5}, {\"count\": 12, \"cutoff\": 1, \"User-ID\": 15324, \"precision\": 0.0, \"recall\": 0.0}, {\"count\": 12, \"cutoff\": 2, \"User-ID\": 15324, \"precision\": 0.0, \"recall\": 0.0}, {\"count\": 12, \"cutoff\": 3, \"User-ID\": 15324, \"precision\": 0.3333333333333333, \"recall\": 0.08333333333333333}, {\"count\": 12, \"cutoff\": 4, \"User-ID\": 15324, \"precision\": 0.25, \"recall\": 0.08333333333333333}, {\"count\": 12, \"cutoff\": 5, \"User-ID\": 15324, \"precision\": 0.4, \"recall\": 0.16666666666666666}, {\"count\": 12, \"cutoff\": 6, \"User-ID\": 15324, \"precision\": 0.3333333333333333, \"recall\": 0.16666666666666666}, {\"count\": 12, \"cutoff\": 7, \"User-ID\": 15324, \"precision\": 0.42857142857142855, \"recall\": 0.25}, {\"count\": 12, \"cutoff\": 8, \"User-ID\": 15324, \"precision\": 0.375, \"recall\": 0.25}, {\"count\": 12, \"cutoff\": 9, \"User-ID\": 15324, \"precision\": 0.3333333333333333, \"recall\": 0.25}, {\"count\": 12, \"cutoff\": 10, \"User-ID\": 15324, \"precision\": 0.4, \"recall\": 0.3333333333333333}, {\"count\": 12, \"cutoff\": 11, \"User-ID\": 15324, \"precision\": 0.36363636363636365, \"recall\": 0.3333333333333333}, {\"count\": 12, \"cutoff\": 16, \"User-ID\": 15324, \"precision\": 0.375, \"recall\": 0.5}, {\"count\": 12, \"cutoff\": 21, \"User-ID\": 15324, \"precision\": 0.2857142857142857, \"recall\": 0.5}, {\"count\": 12, \"cutoff\": 26, \"User-ID\": 15324, \"precision\": 0.3076923076923077, \"recall\": 0.6666666666666666}, {\"count\": 12, \"cutoff\": 31, \"User-ID\": 15324, \"precision\": 0.25806451612903225, \"recall\": 0.6666666666666666}, {\"count\": 12, \"cutoff\": 36, \"User-ID\": 15324, \"precision\": 0.2222222222222222, \"recall\": 0.6666666666666666}, {\"count\": 12, \"cutoff\": 41, \"User-ID\": 15324, \"precision\": 0.1951219512195122, \"recall\": 0.6666666666666666}, {\"count\": 12, \"cutoff\": 46, \"User-ID\": 15324, \"precision\": 0.1956521739130435, \"recall\": 0.75}, {\"count\": 23, \"cutoff\": 1, \"User-ID\": 16432, \"precision\": 1.0, \"recall\": 0.043478260869565216}, {\"count\": 23, \"cutoff\": 2, \"User-ID\": 16432, \"precision\": 0.5, \"recall\": 0.043478260869565216}, {\"count\": 23, \"cutoff\": 3, \"User-ID\": 16432, \"precision\": 0.6666666666666666, \"recall\": 0.08695652173913043}, {\"count\": 23, \"cutoff\": 4, \"User-ID\": 16432, \"precision\": 0.75, \"recall\": 0.13043478260869565}, {\"count\": 23, \"cutoff\": 5, \"User-ID\": 16432, \"precision\": 0.8, \"recall\": 0.17391304347826086}, {\"count\": 23, \"cutoff\": 6, \"User-ID\": 16432, \"precision\": 0.8333333333333334, \"recall\": 0.21739130434782608}, {\"count\": 23, \"cutoff\": 7, \"User-ID\": 16432, \"precision\": 0.7142857142857143, \"recall\": 0.21739130434782608}, {\"count\": 23, \"cutoff\": 8, \"User-ID\": 16432, \"precision\": 0.75, \"recall\": 0.2608695652173913}, {\"count\": 23, \"cutoff\": 9, \"User-ID\": 16432, \"precision\": 0.7777777777777778, \"recall\": 0.30434782608695654}, {\"count\": 23, \"cutoff\": 10, \"User-ID\": 16432, \"precision\": 0.7, \"recall\": 0.30434782608695654}, {\"count\": 23, \"cutoff\": 11, \"User-ID\": 16432, \"precision\": 0.7272727272727273, \"recall\": 0.34782608695652173}, {\"count\": 23, \"cutoff\": 16, \"User-ID\": 16432, \"precision\": 0.6875, \"recall\": 0.4782608695652174}, {\"count\": 23, \"cutoff\": 21, \"User-ID\": 16432, \"precision\": 0.7142857142857143, \"recall\": 0.6521739130434783}, {\"count\": 23, \"cutoff\": 26, \"User-ID\": 16432, \"precision\": 0.6538461538461539, \"recall\": 0.7391304347826086}, {\"count\": 23, \"cutoff\": 31, \"User-ID\": 16432, \"precision\": 0.6451612903225806, \"recall\": 0.8695652173913043}, {\"count\": 23, \"cutoff\": 36, \"User-ID\": 16432, \"precision\": 0.6571428571428571, \"recall\": 1.0}, {\"count\": 23, \"cutoff\": 41, \"User-ID\": 16432, \"precision\": 0.6571428571428571, \"recall\": 1.0}, {\"count\": 23, \"cutoff\": 46, \"User-ID\": 16432, \"precision\": 0.6571428571428571, \"recall\": 1.0}, {\"count\": 1, \"cutoff\": 1, \"User-ID\": 16609, \"precision\": 0.0, \"recall\": 0.0}, {\"count\": 1, \"cutoff\": 2, \"User-ID\": 16609, \"precision\": 0.0, \"recall\": 0.0}, {\"count\": 1, \"cutoff\": 3, \"User-ID\": 16609, \"precision\": 0.0, \"recall\": 0.0}, {\"count\": 1, \"cutoff\": 4, \"User-ID\": 16609, \"precision\": 0.0, \"recall\": 0.0}, {\"count\": 1, \"cutoff\": 5, \"User-ID\": 16609, \"precision\": 0.0, \"recall\": 0.0}, {\"count\": 1, \"cutoff\": 6, \"User-ID\": 16609, \"precision\": 0.0, \"recall\": 0.0}, {\"count\": 1, \"cutoff\": 7, \"User-ID\": 16609, \"precision\": 0.0, \"recall\": 0.0}, {\"count\": 1, \"cutoff\": 8, \"User-ID\": 16609, \"precision\": 0.0, \"recall\": 0.0}, {\"count\": 1, \"cutoff\": 9, \"User-ID\": 16609, \"precision\": 0.0, \"recall\": 0.0}, {\"count\": 1, \"cutoff\": 10, \"User-ID\": 16609, \"precision\": 0.0, \"recall\": 0.0}, {\"count\": 1, \"cutoff\": 11, \"User-ID\": 16609, \"precision\": 0.0, \"recall\": 0.0}, {\"count\": 1, \"cutoff\": 16, \"User-ID\": 16609, \"precision\": 0.0, \"recall\": 0.0}, {\"count\": 1, \"cutoff\": 21, \"User-ID\": 16609, \"precision\": 0.0, \"recall\": 0.0}, {\"count\": 1, \"cutoff\": 26, \"User-ID\": 16609, \"precision\": 0.0, \"recall\": 0.0}, {\"count\": 1, \"cutoff\": 31, \"User-ID\": 16609, \"precision\": 0.0, \"recall\": 0.0}, {\"count\": 1, \"cutoff\": 36, \"User-ID\": 16609, \"precision\": 0.0, \"recall\": 0.0}, {\"count\": 1, \"cutoff\": 41, \"User-ID\": 16609, \"precision\": 0.0, \"recall\": 0.0}, {\"count\": 1, \"cutoff\": 46, \"User-ID\": 16609, \"precision\": 0.0, \"recall\": 0.0}, {\"count\": 10, \"cutoff\": 1, \"User-ID\": 17818, \"precision\": 1.0, \"recall\": 0.1}, {\"count\": 10, \"cutoff\": 2, \"User-ID\": 17818, \"precision\": 1.0, \"recall\": 0.2}, {\"count\": 10, \"cutoff\": 3, \"User-ID\": 17818, \"precision\": 0.6666666666666666, \"recall\": 0.2}, {\"count\": 10, \"cutoff\": 4, \"User-ID\": 17818, \"precision\": 0.75, \"recall\": 0.3}, {\"count\": 10, \"cutoff\": 5, \"User-ID\": 17818, \"precision\": 0.6, \"recall\": 0.3}, {\"count\": 10, \"cutoff\": 6, \"User-ID\": 17818, \"precision\": 0.5, \"recall\": 0.3}, {\"count\": 10, \"cutoff\": 7, \"User-ID\": 17818, \"precision\": 0.5714285714285714, \"recall\": 0.4}, {\"count\": 10, \"cutoff\": 8, \"User-ID\": 17818, \"precision\": 0.5, \"recall\": 0.4}, {\"count\": 10, \"cutoff\": 9, \"User-ID\": 17818, \"precision\": 0.5555555555555556, \"recall\": 0.5}, {\"count\": 10, \"cutoff\": 10, \"User-ID\": 17818, \"precision\": 0.5, \"recall\": 0.5}, {\"count\": 10, \"cutoff\": 11, \"User-ID\": 17818, \"precision\": 0.45454545454545453, \"recall\": 0.5}, {\"count\": 10, \"cutoff\": 16, \"User-ID\": 17818, \"precision\": 0.375, \"recall\": 0.6}, {\"count\": 10, \"cutoff\": 21, \"User-ID\": 17818, \"precision\": 0.3333333333333333, \"recall\": 0.7}, {\"count\": 10, \"cutoff\": 26, \"User-ID\": 17818, \"precision\": 0.3076923076923077, \"recall\": 0.8}, {\"count\": 10, \"cutoff\": 31, \"User-ID\": 17818, \"precision\": 0.2903225806451613, \"recall\": 0.9}, {\"count\": 10, \"cutoff\": 36, \"User-ID\": 17818, \"precision\": 0.25, \"recall\": 0.9}, {\"count\": 10, \"cutoff\": 41, \"User-ID\": 17818, \"precision\": 0.21951219512195122, \"recall\": 0.9}, {\"count\": 10, \"cutoff\": 46, \"User-ID\": 17818, \"precision\": 0.1956521739130435, \"recall\": 0.9}, {\"count\": 9, \"cutoff\": 1, \"User-ID\": 18091, \"precision\": 1.0, \"recall\": 0.1111111111111111}, {\"count\": 9, \"cutoff\": 2, \"User-ID\": 18091, \"precision\": 0.5, \"recall\": 0.1111111111111111}, {\"count\": 9, \"cutoff\": 3, \"User-ID\": 18091, \"precision\": 0.3333333333333333, \"recall\": 0.1111111111111111}, {\"count\": 9, \"cutoff\": 4, \"User-ID\": 18091, \"precision\": 0.25, \"recall\": 0.1111111111111111}, {\"count\": 9, \"cutoff\": 5, \"User-ID\": 18091, \"precision\": 0.2, \"recall\": 0.1111111111111111}, {\"count\": 9, \"cutoff\": 6, \"User-ID\": 18091, \"precision\": 0.16666666666666666, \"recall\": 0.1111111111111111}, {\"count\": 9, \"cutoff\": 7, \"User-ID\": 18091, \"precision\": 0.14285714285714285, \"recall\": 0.1111111111111111}, {\"count\": 9, \"cutoff\": 8, \"User-ID\": 18091, \"precision\": 0.125, \"recall\": 0.1111111111111111}, {\"count\": 9, \"cutoff\": 9, \"User-ID\": 18091, \"precision\": 0.1111111111111111, \"recall\": 0.1111111111111111}, {\"count\": 9, \"cutoff\": 10, \"User-ID\": 18091, \"precision\": 0.1, \"recall\": 0.1111111111111111}, {\"count\": 9, \"cutoff\": 11, \"User-ID\": 18091, \"precision\": 0.09090909090909091, \"recall\": 0.1111111111111111}, {\"count\": 9, \"cutoff\": 16, \"User-ID\": 18091, \"precision\": 0.125, \"recall\": 0.2222222222222222}, {\"count\": 9, \"cutoff\": 21, \"User-ID\": 18091, \"precision\": 0.14285714285714285, \"recall\": 0.3333333333333333}, {\"count\": 9, \"cutoff\": 26, \"User-ID\": 18091, \"precision\": 0.19230769230769232, \"recall\": 0.5555555555555556}, {\"count\": 9, \"cutoff\": 31, \"User-ID\": 18091, \"precision\": 0.16129032258064516, \"recall\": 0.5555555555555556}, {\"count\": 9, \"cutoff\": 36, \"User-ID\": 18091, \"precision\": 0.1388888888888889, \"recall\": 0.5555555555555556}, {\"count\": 9, \"cutoff\": 41, \"User-ID\": 18091, \"precision\": 0.12195121951219512, \"recall\": 0.5555555555555556}, {\"count\": 9, \"cutoff\": 46, \"User-ID\": 18091, \"precision\": 0.10869565217391304, \"recall\": 0.5555555555555556}, {\"count\": 5, \"cutoff\": 1, \"User-ID\": 18662, \"precision\": 0.0, \"recall\": 0.0}, {\"count\": 5, \"cutoff\": 2, \"User-ID\": 18662, \"precision\": 0.0, \"recall\": 0.0}, {\"count\": 5, \"cutoff\": 3, \"User-ID\": 18662, \"precision\": 0.0, \"recall\": 0.0}, {\"count\": 5, \"cutoff\": 4, \"User-ID\": 18662, \"precision\": 0.0, \"recall\": 0.0}, {\"count\": 5, \"cutoff\": 5, \"User-ID\": 18662, \"precision\": 0.0, \"recall\": 0.0}, {\"count\": 5, \"cutoff\": 6, \"User-ID\": 18662, \"precision\": 0.0, \"recall\": 0.0}, {\"count\": 5, \"cutoff\": 7, \"User-ID\": 18662, \"precision\": 0.14285714285714285, \"recall\": 0.2}, {\"count\": 5, \"cutoff\": 8, \"User-ID\": 18662, \"precision\": 0.125, \"recall\": 0.2}, {\"count\": 5, \"cutoff\": 9, \"User-ID\": 18662, \"precision\": 0.1111111111111111, \"recall\": 0.2}, {\"count\": 5, \"cutoff\": 10, \"User-ID\": 18662, \"precision\": 0.1, \"recall\": 0.2}, {\"count\": 5, \"cutoff\": 11, \"User-ID\": 18662, \"precision\": 0.09090909090909091, \"recall\": 0.2}, {\"count\": 5, \"cutoff\": 16, \"User-ID\": 18662, \"precision\": 0.125, \"recall\": 0.4}, {\"count\": 5, \"cutoff\": 21, \"User-ID\": 18662, \"precision\": 0.09523809523809523, \"recall\": 0.4}, {\"count\": 5, \"cutoff\": 26, \"User-ID\": 18662, \"precision\": 0.07692307692307693, \"recall\": 0.4}, {\"count\": 5, \"cutoff\": 31, \"User-ID\": 18662, \"precision\": 0.06451612903225806, \"recall\": 0.4}, {\"count\": 5, \"cutoff\": 36, \"User-ID\": 18662, \"precision\": 0.05555555555555555, \"recall\": 0.4}, {\"count\": 5, \"cutoff\": 41, \"User-ID\": 18662, \"precision\": 0.04878048780487805, \"recall\": 0.4}, {\"count\": 5, \"cutoff\": 46, \"User-ID\": 18662, \"precision\": 0.043478260869565216, \"recall\": 0.4}, {\"count\": 3, \"cutoff\": 1, \"User-ID\": 22099, \"precision\": 0.0, \"recall\": 0.0}, {\"count\": 3, \"cutoff\": 2, \"User-ID\": 22099, \"precision\": 0.0, \"recall\": 0.0}, {\"count\": 3, \"cutoff\": 3, \"User-ID\": 22099, \"precision\": 0.0, \"recall\": 0.0}, {\"count\": 3, \"cutoff\": 4, \"User-ID\": 22099, \"precision\": 0.0, \"recall\": 0.0}, {\"count\": 3, \"cutoff\": 5, \"User-ID\": 22099, \"precision\": 0.0, \"recall\": 0.0}, {\"count\": 3, \"cutoff\": 6, \"User-ID\": 22099, \"precision\": 0.0, \"recall\": 0.0}, {\"count\": 3, \"cutoff\": 7, \"User-ID\": 22099, \"precision\": 0.0, \"recall\": 0.0}, {\"count\": 3, \"cutoff\": 8, \"User-ID\": 22099, \"precision\": 0.0, \"recall\": 0.0}, {\"count\": 3, \"cutoff\": 9, \"User-ID\": 22099, \"precision\": 0.0, \"recall\": 0.0}, {\"count\": 3, \"cutoff\": 10, \"User-ID\": 22099, \"precision\": 0.0, \"recall\": 0.0}, {\"count\": 3, \"cutoff\": 11, \"User-ID\": 22099, \"precision\": 0.0, \"recall\": 0.0}, {\"count\": 3, \"cutoff\": 16, \"User-ID\": 22099, \"precision\": 0.0, \"recall\": 0.0}, {\"count\": 3, \"cutoff\": 21, \"User-ID\": 22099, \"precision\": 0.0, \"recall\": 0.0}, {\"count\": 3, \"cutoff\": 26, \"User-ID\": 22099, \"precision\": 0.0, \"recall\": 0.0}, {\"count\": 3, \"cutoff\": 31, \"User-ID\": 22099, \"precision\": 0.0, \"recall\": 0.0}, {\"count\": 3, \"cutoff\": 36, \"User-ID\": 22099, \"precision\": 0.0, \"recall\": 0.0}, {\"count\": 3, \"cutoff\": 41, \"User-ID\": 22099, \"precision\": 0.0, \"recall\": 0.0}, {\"count\": 3, \"cutoff\": 46, \"User-ID\": 22099, \"precision\": 0.0, \"recall\": 0.0}, {\"count\": 6, \"cutoff\": 1, \"User-ID\": 22169, \"precision\": 0.0, \"recall\": 0.0}, {\"count\": 6, \"cutoff\": 2, \"User-ID\": 22169, \"precision\": 0.0, \"recall\": 0.0}, {\"count\": 6, \"cutoff\": 3, \"User-ID\": 22169, \"precision\": 0.0, \"recall\": 0.0}, {\"count\": 6, \"cutoff\": 4, \"User-ID\": 22169, \"precision\": 0.0, \"recall\": 0.0}, {\"count\": 6, \"cutoff\": 5, \"User-ID\": 22169, \"precision\": 0.0, \"recall\": 0.0}, {\"count\": 6, \"cutoff\": 6, \"User-ID\": 22169, \"precision\": 0.0, \"recall\": 0.0}, {\"count\": 6, \"cutoff\": 7, \"User-ID\": 22169, \"precision\": 0.0, \"recall\": 0.0}, {\"count\": 6, \"cutoff\": 8, \"User-ID\": 22169, \"precision\": 0.0, \"recall\": 0.0}, {\"count\": 6, \"cutoff\": 9, \"User-ID\": 22169, \"precision\": 0.0, \"recall\": 0.0}, {\"count\": 6, \"cutoff\": 10, \"User-ID\": 22169, \"precision\": 0.0, \"recall\": 0.0}, {\"count\": 6, \"cutoff\": 11, \"User-ID\": 22169, \"precision\": 0.0, \"recall\": 0.0}, {\"count\": 6, \"cutoff\": 16, \"User-ID\": 22169, \"precision\": 0.0625, \"recall\": 0.16666666666666666}, {\"count\": 6, \"cutoff\": 21, \"User-ID\": 22169, \"precision\": 0.047619047619047616, \"recall\": 0.16666666666666666}, {\"count\": 6, \"cutoff\": 26, \"User-ID\": 22169, \"precision\": 0.038461538461538464, \"recall\": 0.16666666666666666}, {\"count\": 6, \"cutoff\": 31, \"User-ID\": 22169, \"precision\": 0.03225806451612903, \"recall\": 0.16666666666666666}, {\"count\": 6, \"cutoff\": 36, \"User-ID\": 22169, \"precision\": 0.027777777777777776, \"recall\": 0.16666666666666666}, {\"count\": 6, \"cutoff\": 41, \"User-ID\": 22169, \"precision\": 0.04878048780487805, \"recall\": 0.3333333333333333}, {\"count\": 6, \"cutoff\": 46, \"User-ID\": 22169, \"precision\": 0.043478260869565216, \"recall\": 0.3333333333333333}, {\"count\": 11, \"cutoff\": 1, \"User-ID\": 23116, \"precision\": 0.0, \"recall\": 0.0}, {\"count\": 11, \"cutoff\": 2, \"User-ID\": 23116, \"precision\": 0.5, \"recall\": 0.09090909090909091}, {\"count\": 11, \"cutoff\": 3, \"User-ID\": 23116, \"precision\": 0.3333333333333333, \"recall\": 0.09090909090909091}, {\"count\": 11, \"cutoff\": 4, \"User-ID\": 23116, \"precision\": 0.5, \"recall\": 0.18181818181818182}, {\"count\": 11, \"cutoff\": 5, \"User-ID\": 23116, \"precision\": 0.6, \"recall\": 0.2727272727272727}, {\"count\": 11, \"cutoff\": 6, \"User-ID\": 23116, \"precision\": 0.5, \"recall\": 0.2727272727272727}, {\"count\": 11, \"cutoff\": 7, \"User-ID\": 23116, \"precision\": 0.42857142857142855, \"recall\": 0.2727272727272727}, {\"count\": 11, \"cutoff\": 8, \"User-ID\": 23116, \"precision\": 0.375, \"recall\": 0.2727272727272727}, {\"count\": 11, \"cutoff\": 9, \"User-ID\": 23116, \"precision\": 0.3333333333333333, \"recall\": 0.2727272727272727}, {\"count\": 11, \"cutoff\": 10, \"User-ID\": 23116, \"precision\": 0.4, \"recall\": 0.36363636363636365}, {\"count\": 11, \"cutoff\": 11, \"User-ID\": 23116, \"precision\": 0.36363636363636365, \"recall\": 0.36363636363636365}, {\"count\": 11, \"cutoff\": 16, \"User-ID\": 23116, \"precision\": 0.3125, \"recall\": 0.45454545454545453}, {\"count\": 11, \"cutoff\": 21, \"User-ID\": 23116, \"precision\": 0.23809523809523808, \"recall\": 0.45454545454545453}, {\"count\": 11, \"cutoff\": 26, \"User-ID\": 23116, \"precision\": 0.19230769230769232, \"recall\": 0.45454545454545453}, {\"count\": 11, \"cutoff\": 31, \"User-ID\": 23116, \"precision\": 0.16129032258064516, \"recall\": 0.45454545454545453}, {\"count\": 11, \"cutoff\": 36, \"User-ID\": 23116, \"precision\": 0.1388888888888889, \"recall\": 0.45454545454545453}, {\"count\": 11, \"cutoff\": 41, \"User-ID\": 23116, \"precision\": 0.14634146341463414, \"recall\": 0.5454545454545454}, {\"count\": 11, \"cutoff\": 46, \"User-ID\": 23116, \"precision\": 0.15217391304347827, \"recall\": 0.6363636363636364}, {\"count\": 2, \"cutoff\": 1, \"User-ID\": 23821, \"precision\": 0.0, \"recall\": 0.0}, {\"count\": 2, \"cutoff\": 2, \"User-ID\": 23821, \"precision\": 0.0, \"recall\": 0.0}, {\"count\": 2, \"cutoff\": 3, \"User-ID\": 23821, \"precision\": 0.3333333333333333, \"recall\": 0.5}, {\"count\": 2, \"cutoff\": 4, \"User-ID\": 23821, \"precision\": 0.25, \"recall\": 0.5}, {\"count\": 2, \"cutoff\": 5, \"User-ID\": 23821, \"precision\": 0.2, \"recall\": 0.5}, {\"count\": 2, \"cutoff\": 6, \"User-ID\": 23821, \"precision\": 0.16666666666666666, \"recall\": 0.5}, {\"count\": 2, \"cutoff\": 7, \"User-ID\": 23821, \"precision\": 0.14285714285714285, \"recall\": 0.5}, {\"count\": 2, \"cutoff\": 8, \"User-ID\": 23821, \"precision\": 0.125, \"recall\": 0.5}, {\"count\": 2, \"cutoff\": 9, \"User-ID\": 23821, \"precision\": 0.1111111111111111, \"recall\": 0.5}, {\"count\": 2, \"cutoff\": 10, \"User-ID\": 23821, \"precision\": 0.1, \"recall\": 0.5}, {\"count\": 2, \"cutoff\": 11, \"User-ID\": 23821, \"precision\": 0.09090909090909091, \"recall\": 0.5}, {\"count\": 2, \"cutoff\": 16, \"User-ID\": 23821, \"precision\": 0.0625, \"recall\": 0.5}, {\"count\": 2, \"cutoff\": 21, \"User-ID\": 23821, \"precision\": 0.09523809523809523, \"recall\": 1.0}, {\"count\": 2, \"cutoff\": 26, \"User-ID\": 23821, \"precision\": 0.07692307692307693, \"recall\": 1.0}, {\"count\": 2, \"cutoff\": 31, \"User-ID\": 23821, \"precision\": 0.06451612903225806, \"recall\": 1.0}, {\"count\": 2, \"cutoff\": 36, \"User-ID\": 23821, \"precision\": 0.05555555555555555, \"recall\": 1.0}, {\"count\": 2, \"cutoff\": 41, \"User-ID\": 23821, \"precision\": 0.04878048780487805, \"recall\": 1.0}, {\"count\": 2, \"cutoff\": 46, \"User-ID\": 23821, \"precision\": 0.043478260869565216, \"recall\": 1.0}, {\"count\": 12, \"cutoff\": 1, \"User-ID\": 24857, \"precision\": 1.0, \"recall\": 0.08333333333333333}, {\"count\": 12, \"cutoff\": 2, \"User-ID\": 24857, \"precision\": 1.0, \"recall\": 0.16666666666666666}, {\"count\": 12, \"cutoff\": 3, \"User-ID\": 24857, \"precision\": 0.6666666666666666, \"recall\": 0.16666666666666666}, {\"count\": 12, \"cutoff\": 4, \"User-ID\": 24857, \"precision\": 0.5, \"recall\": 0.16666666666666666}, {\"count\": 12, \"cutoff\": 5, \"User-ID\": 24857, \"precision\": 0.4, \"recall\": 0.16666666666666666}, {\"count\": 12, \"cutoff\": 6, \"User-ID\": 24857, \"precision\": 0.3333333333333333, \"recall\": 0.16666666666666666}, {\"count\": 12, \"cutoff\": 7, \"User-ID\": 24857, \"precision\": 0.2857142857142857, \"recall\": 0.16666666666666666}, {\"count\": 12, \"cutoff\": 8, \"User-ID\": 24857, \"precision\": 0.25, \"recall\": 0.16666666666666666}, {\"count\": 12, \"cutoff\": 9, \"User-ID\": 24857, \"precision\": 0.3333333333333333, \"recall\": 0.25}, {\"count\": 12, \"cutoff\": 10, \"User-ID\": 24857, \"precision\": 0.3, \"recall\": 0.25}, {\"count\": 12, \"cutoff\": 11, \"User-ID\": 24857, \"precision\": 0.36363636363636365, \"recall\": 0.3333333333333333}, {\"count\": 12, \"cutoff\": 16, \"User-ID\": 24857, \"precision\": 0.3125, \"recall\": 0.4166666666666667}, {\"count\": 12, \"cutoff\": 21, \"User-ID\": 24857, \"precision\": 0.23809523809523808, \"recall\": 0.4166666666666667}, {\"count\": 12, \"cutoff\": 26, \"User-ID\": 24857, \"precision\": 0.23076923076923078, \"recall\": 0.5}, {\"count\": 12, \"cutoff\": 31, \"User-ID\": 24857, \"precision\": 0.1935483870967742, \"recall\": 0.5}, {\"count\": 12, \"cutoff\": 36, \"User-ID\": 24857, \"precision\": 0.16666666666666666, \"recall\": 0.5}, {\"count\": 12, \"cutoff\": 41, \"User-ID\": 24857, \"precision\": 0.17073170731707318, \"recall\": 0.5833333333333334}, {\"count\": 12, \"cutoff\": 46, \"User-ID\": 24857, \"precision\": 0.17391304347826086, \"recall\": 0.6666666666666666}, {\"count\": 2, \"cutoff\": 1, \"User-ID\": 25898, \"precision\": 0.0, \"recall\": 0.0}, {\"count\": 2, \"cutoff\": 2, \"User-ID\": 25898, \"precision\": 0.0, \"recall\": 0.0}, {\"count\": 2, \"cutoff\": 3, \"User-ID\": 25898, \"precision\": 0.0, \"recall\": 0.0}, {\"count\": 2, \"cutoff\": 4, \"User-ID\": 25898, \"precision\": 0.0, \"recall\": 0.0}, {\"count\": 2, \"cutoff\": 5, \"User-ID\": 25898, \"precision\": 0.0, \"recall\": 0.0}, {\"count\": 2, \"cutoff\": 6, \"User-ID\": 25898, \"precision\": 0.0, \"recall\": 0.0}, {\"count\": 2, \"cutoff\": 7, \"User-ID\": 25898, \"precision\": 0.0, \"recall\": 0.0}, {\"count\": 2, \"cutoff\": 8, \"User-ID\": 25898, \"precision\": 0.0, \"recall\": 0.0}, {\"count\": 2, \"cutoff\": 9, \"User-ID\": 25898, \"precision\": 0.0, \"recall\": 0.0}, {\"count\": 2, \"cutoff\": 10, \"User-ID\": 25898, \"precision\": 0.0, \"recall\": 0.0}, {\"count\": 2, \"cutoff\": 11, \"User-ID\": 25898, \"precision\": 0.0, \"recall\": 0.0}, {\"count\": 2, \"cutoff\": 16, \"User-ID\": 25898, \"precision\": 0.0, \"recall\": 0.0}, {\"count\": 2, \"cutoff\": 21, \"User-ID\": 25898, \"precision\": 0.0, \"recall\": 0.0}, {\"count\": 2, \"cutoff\": 26, \"User-ID\": 25898, \"precision\": 0.0, \"recall\": 0.0}, {\"count\": 2, \"cutoff\": 31, \"User-ID\": 25898, \"precision\": 0.0, \"recall\": 0.0}, {\"count\": 2, \"cutoff\": 36, \"User-ID\": 25898, \"precision\": 0.0, \"recall\": 0.0}, {\"count\": 2, \"cutoff\": 41, \"User-ID\": 25898, \"precision\": 0.0, \"recall\": 0.0}, {\"count\": 2, \"cutoff\": 46, \"User-ID\": 25898, \"precision\": 0.0, \"recall\": 0.0}, {\"count\": 4, \"cutoff\": 1, \"User-ID\": 26095, \"precision\": 0.0, \"recall\": 0.0}, {\"count\": 4, \"cutoff\": 2, \"User-ID\": 26095, \"precision\": 0.0, \"recall\": 0.0}, {\"count\": 4, \"cutoff\": 3, \"User-ID\": 26095, \"precision\": 0.0, \"recall\": 0.0}, {\"count\": 4, \"cutoff\": 4, \"User-ID\": 26095, \"precision\": 0.0, \"recall\": 0.0}, {\"count\": 4, \"cutoff\": 5, \"User-ID\": 26095, \"precision\": 0.0, \"recall\": 0.0}, {\"count\": 4, \"cutoff\": 6, \"User-ID\": 26095, \"precision\": 0.0, \"recall\": 0.0}, {\"count\": 4, \"cutoff\": 7, \"User-ID\": 26095, \"precision\": 0.0, \"recall\": 0.0}, {\"count\": 4, \"cutoff\": 8, \"User-ID\": 26095, \"precision\": 0.0, \"recall\": 0.0}, {\"count\": 4, \"cutoff\": 9, \"User-ID\": 26095, \"precision\": 0.0, \"recall\": 0.0}, {\"count\": 4, \"cutoff\": 10, \"User-ID\": 26095, \"precision\": 0.0, \"recall\": 0.0}, {\"count\": 4, \"cutoff\": 11, \"User-ID\": 26095, \"precision\": 0.0, \"recall\": 0.0}, {\"count\": 4, \"cutoff\": 16, \"User-ID\": 26095, \"precision\": 0.0, \"recall\": 0.0}, {\"count\": 4, \"cutoff\": 21, \"User-ID\": 26095, \"precision\": 0.0, \"recall\": 0.0}, {\"count\": 4, \"cutoff\": 26, \"User-ID\": 26095, \"precision\": 0.038461538461538464, \"recall\": 0.25}, {\"count\": 4, \"cutoff\": 31, \"User-ID\": 26095, \"precision\": 0.03225806451612903, \"recall\": 0.25}, {\"count\": 4, \"cutoff\": 36, \"User-ID\": 26095, \"precision\": 0.027777777777777776, \"recall\": 0.25}, {\"count\": 4, \"cutoff\": 41, \"User-ID\": 26095, \"precision\": 0.024390243902439025, \"recall\": 0.25}, {\"count\": 4, \"cutoff\": 46, \"User-ID\": 26095, \"precision\": 0.021739130434782608, \"recall\": 0.25}, {\"count\": 2, \"cutoff\": 1, \"User-ID\": 26798, \"precision\": 0.0, \"recall\": 0.0}, {\"count\": 2, \"cutoff\": 2, \"User-ID\": 26798, \"precision\": 0.0, \"recall\": 0.0}, {\"count\": 2, \"cutoff\": 3, \"User-ID\": 26798, \"precision\": 0.0, \"recall\": 0.0}, {\"count\": 2, \"cutoff\": 4, \"User-ID\": 26798, \"precision\": 0.0, \"recall\": 0.0}, {\"count\": 2, \"cutoff\": 5, \"User-ID\": 26798, \"precision\": 0.0, \"recall\": 0.0}, {\"count\": 2, \"cutoff\": 6, \"User-ID\": 26798, \"precision\": 0.0, \"recall\": 0.0}, {\"count\": 2, \"cutoff\": 7, \"User-ID\": 26798, \"precision\": 0.0, \"recall\": 0.0}, {\"count\": 2, \"cutoff\": 8, \"User-ID\": 26798, \"precision\": 0.0, \"recall\": 0.0}, {\"count\": 2, \"cutoff\": 9, \"User-ID\": 26798, \"precision\": 0.0, \"recall\": 0.0}, {\"count\": 2, \"cutoff\": 10, \"User-ID\": 26798, \"precision\": 0.0, \"recall\": 0.0}, {\"count\": 2, \"cutoff\": 11, \"User-ID\": 26798, \"precision\": 0.0, \"recall\": 0.0}, {\"count\": 2, \"cutoff\": 16, \"User-ID\": 26798, \"precision\": 0.0, \"recall\": 0.0}, {\"count\": 2, \"cutoff\": 21, \"User-ID\": 26798, \"precision\": 0.0, \"recall\": 0.0}, {\"count\": 2, \"cutoff\": 26, \"User-ID\": 26798, \"precision\": 0.0, \"recall\": 0.0}, {\"count\": 2, \"cutoff\": 31, \"User-ID\": 26798, \"precision\": 0.0, \"recall\": 0.0}, {\"count\": 2, \"cutoff\": 36, \"User-ID\": 26798, \"precision\": 0.0, \"recall\": 0.0}, {\"count\": 2, \"cutoff\": 41, \"User-ID\": 26798, \"precision\": 0.0, \"recall\": 0.0}, {\"count\": 2, \"cutoff\": 46, \"User-ID\": 26798, \"precision\": 0.0, \"recall\": 0.0}, {\"count\": 7, \"cutoff\": 1, \"User-ID\": 27825, \"precision\": 1.0, \"recall\": 0.14285714285714285}, {\"count\": 7, \"cutoff\": 2, \"User-ID\": 27825, \"precision\": 0.5, \"recall\": 0.14285714285714285}, {\"count\": 7, \"cutoff\": 3, \"User-ID\": 27825, \"precision\": 0.3333333333333333, \"recall\": 0.14285714285714285}, {\"count\": 7, \"cutoff\": 4, \"User-ID\": 27825, \"precision\": 0.25, \"recall\": 0.14285714285714285}, {\"count\": 7, \"cutoff\": 5, \"User-ID\": 27825, \"precision\": 0.4, \"recall\": 0.2857142857142857}, {\"count\": 7, \"cutoff\": 6, \"User-ID\": 27825, \"precision\": 0.3333333333333333, \"recall\": 0.2857142857142857}, {\"count\": 7, \"cutoff\": 7, \"User-ID\": 27825, \"precision\": 0.42857142857142855, \"recall\": 0.42857142857142855}, {\"count\": 7, \"cutoff\": 8, \"User-ID\": 27825, \"precision\": 0.375, \"recall\": 0.42857142857142855}, {\"count\": 7, \"cutoff\": 9, \"User-ID\": 27825, \"precision\": 0.3333333333333333, \"recall\": 0.42857142857142855}, {\"count\": 7, \"cutoff\": 10, \"User-ID\": 27825, \"precision\": 0.3, \"recall\": 0.42857142857142855}, {\"count\": 7, \"cutoff\": 11, \"User-ID\": 27825, \"precision\": 0.2727272727272727, \"recall\": 0.42857142857142855}, {\"count\": 7, \"cutoff\": 16, \"User-ID\": 27825, \"precision\": 0.3125, \"recall\": 0.7142857142857143}, {\"count\": 7, \"cutoff\": 21, \"User-ID\": 27825, \"precision\": 0.2857142857142857, \"recall\": 0.8571428571428571}, {\"count\": 7, \"cutoff\": 26, \"User-ID\": 27825, \"precision\": 0.23076923076923078, \"recall\": 0.8571428571428571}, {\"count\": 7, \"cutoff\": 31, \"User-ID\": 27825, \"precision\": 0.1935483870967742, \"recall\": 0.8571428571428571}, {\"count\": 7, \"cutoff\": 36, \"User-ID\": 27825, \"precision\": 0.16666666666666666, \"recall\": 0.8571428571428571}, {\"count\": 7, \"cutoff\": 41, \"User-ID\": 27825, \"precision\": 0.14634146341463414, \"recall\": 0.8571428571428571}, {\"count\": 7, \"cutoff\": 46, \"User-ID\": 27825, \"precision\": 0.13043478260869565, \"recall\": 0.8571428571428571}, {\"count\": 9, \"cutoff\": 1, \"User-ID\": 27875, \"precision\": 1.0, \"recall\": 0.1111111111111111}, {\"count\": 9, \"cutoff\": 2, \"User-ID\": 27875, \"precision\": 0.5, \"recall\": 0.1111111111111111}, {\"count\": 9, \"cutoff\": 3, \"User-ID\": 27875, \"precision\": 0.3333333333333333, \"recall\": 0.1111111111111111}, {\"count\": 9, \"cutoff\": 4, \"User-ID\": 27875, \"precision\": 0.25, \"recall\": 0.1111111111111111}, {\"count\": 9, \"cutoff\": 5, \"User-ID\": 27875, \"precision\": 0.2, \"recall\": 0.1111111111111111}, {\"count\": 9, \"cutoff\": 6, \"User-ID\": 27875, \"precision\": 0.16666666666666666, \"recall\": 0.1111111111111111}, {\"count\": 9, \"cutoff\": 7, \"User-ID\": 27875, \"precision\": 0.2857142857142857, \"recall\": 0.2222222222222222}, {\"count\": 9, \"cutoff\": 8, \"User-ID\": 27875, \"precision\": 0.25, \"recall\": 0.2222222222222222}, {\"count\": 9, \"cutoff\": 9, \"User-ID\": 27875, \"precision\": 0.2222222222222222, \"recall\": 0.2222222222222222}, {\"count\": 9, \"cutoff\": 10, \"User-ID\": 27875, \"precision\": 0.3, \"recall\": 0.3333333333333333}, {\"count\": 9, \"cutoff\": 11, \"User-ID\": 27875, \"precision\": 0.2727272727272727, \"recall\": 0.3333333333333333}, {\"count\": 9, \"cutoff\": 16, \"User-ID\": 27875, \"precision\": 0.3125, \"recall\": 0.5555555555555556}, {\"count\": 9, \"cutoff\": 21, \"User-ID\": 27875, \"precision\": 0.23809523809523808, \"recall\": 0.5555555555555556}, {\"count\": 9, \"cutoff\": 26, \"User-ID\": 27875, \"precision\": 0.23076923076923078, \"recall\": 0.6666666666666666}, {\"count\": 9, \"cutoff\": 31, \"User-ID\": 27875, \"precision\": 0.1935483870967742, \"recall\": 0.6666666666666666}, {\"count\": 9, \"cutoff\": 36, \"User-ID\": 27875, \"precision\": 0.16666666666666666, \"recall\": 0.6666666666666666}, {\"count\": 9, \"cutoff\": 41, \"User-ID\": 27875, \"precision\": 0.14634146341463414, \"recall\": 0.6666666666666666}, {\"count\": 9, \"cutoff\": 46, \"User-ID\": 27875, \"precision\": 0.15217391304347827, \"recall\": 0.7777777777777778}, {\"count\": 2, \"cutoff\": 1, \"User-ID\": 27997, \"precision\": 0.0, \"recall\": 0.0}, {\"count\": 2, \"cutoff\": 2, \"User-ID\": 27997, \"precision\": 0.0, \"recall\": 0.0}, {\"count\": 2, \"cutoff\": 3, \"User-ID\": 27997, \"precision\": 0.0, \"recall\": 0.0}, {\"count\": 2, \"cutoff\": 4, \"User-ID\": 27997, \"precision\": 0.0, \"recall\": 0.0}, {\"count\": 2, \"cutoff\": 5, \"User-ID\": 27997, \"precision\": 0.0, \"recall\": 0.0}, {\"count\": 2, \"cutoff\": 6, \"User-ID\": 27997, \"precision\": 0.0, \"recall\": 0.0}, {\"count\": 2, \"cutoff\": 7, \"User-ID\": 27997, \"precision\": 0.0, \"recall\": 0.0}, {\"count\": 2, \"cutoff\": 8, \"User-ID\": 27997, \"precision\": 0.0, \"recall\": 0.0}, {\"count\": 2, \"cutoff\": 9, \"User-ID\": 27997, \"precision\": 0.0, \"recall\": 0.0}, {\"count\": 2, \"cutoff\": 10, \"User-ID\": 27997, \"precision\": 0.0, \"recall\": 0.0}, {\"count\": 2, \"cutoff\": 11, \"User-ID\": 27997, \"precision\": 0.0, \"recall\": 0.0}, {\"count\": 2, \"cutoff\": 16, \"User-ID\": 27997, \"precision\": 0.0, \"recall\": 0.0}, {\"count\": 2, \"cutoff\": 21, \"User-ID\": 27997, \"precision\": 0.0, \"recall\": 0.0}, {\"count\": 2, \"cutoff\": 26, \"User-ID\": 27997, \"precision\": 0.0, \"recall\": 0.0}, {\"count\": 2, \"cutoff\": 31, \"User-ID\": 27997, \"precision\": 0.0, \"recall\": 0.0}, {\"count\": 2, \"cutoff\": 36, \"User-ID\": 27997, \"precision\": 0.0, \"recall\": 0.0}, {\"count\": 2, \"cutoff\": 41, \"User-ID\": 27997, \"precision\": 0.0, \"recall\": 0.0}, {\"count\": 2, \"cutoff\": 46, \"User-ID\": 27997, \"precision\": 0.0, \"recall\": 0.0}, {\"count\": 4, \"cutoff\": 1, \"User-ID\": 29170, \"precision\": 0.0, \"recall\": 0.0}, {\"count\": 4, \"cutoff\": 2, \"User-ID\": 29170, \"precision\": 0.0, \"recall\": 0.0}, {\"count\": 4, \"cutoff\": 3, \"User-ID\": 29170, \"precision\": 0.0, \"recall\": 0.0}, {\"count\": 4, \"cutoff\": 4, \"User-ID\": 29170, \"precision\": 0.0, \"recall\": 0.0}, {\"count\": 4, \"cutoff\": 5, \"User-ID\": 29170, \"precision\": 0.0, \"recall\": 0.0}, {\"count\": 4, \"cutoff\": 6, \"User-ID\": 29170, \"precision\": 0.0, \"recall\": 0.0}, {\"count\": 4, \"cutoff\": 7, \"User-ID\": 29170, \"precision\": 0.0, \"recall\": 0.0}, {\"count\": 4, \"cutoff\": 8, \"User-ID\": 29170, \"precision\": 0.0, \"recall\": 0.0}, {\"count\": 4, \"cutoff\": 9, \"User-ID\": 29170, \"precision\": 0.0, \"recall\": 0.0}, {\"count\": 4, \"cutoff\": 10, \"User-ID\": 29170, \"precision\": 0.0, \"recall\": 0.0}, {\"count\": 4, \"cutoff\": 11, \"User-ID\": 29170, \"precision\": 0.0, \"recall\": 0.0}, {\"count\": 4, \"cutoff\": 16, \"User-ID\": 29170, \"precision\": 0.0, \"recall\": 0.0}, {\"count\": 4, \"cutoff\": 21, \"User-ID\": 29170, \"precision\": 0.0, \"recall\": 0.0}, {\"count\": 4, \"cutoff\": 26, \"User-ID\": 29170, \"precision\": 0.0, \"recall\": 0.0}, {\"count\": 4, \"cutoff\": 31, \"User-ID\": 29170, \"precision\": 0.0, \"recall\": 0.0}, {\"count\": 4, \"cutoff\": 36, \"User-ID\": 29170, \"precision\": 0.0, \"recall\": 0.0}, {\"count\": 4, \"cutoff\": 41, \"User-ID\": 29170, \"precision\": 0.0, \"recall\": 0.0}, {\"count\": 4, \"cutoff\": 46, \"User-ID\": 29170, \"precision\": 0.0, \"recall\": 0.0}, {\"count\": 14, \"cutoff\": 1, \"User-ID\": 29303, \"precision\": 0.0, \"recall\": 0.0}, {\"count\": 14, \"cutoff\": 2, \"User-ID\": 29303, \"precision\": 0.0, \"recall\": 0.0}, {\"count\": 14, \"cutoff\": 3, \"User-ID\": 29303, \"precision\": 0.0, \"recall\": 0.0}, {\"count\": 14, \"cutoff\": 4, \"User-ID\": 29303, \"precision\": 0.0, \"recall\": 0.0}, {\"count\": 14, \"cutoff\": 5, \"User-ID\": 29303, \"precision\": 0.2, \"recall\": 0.07142857142857142}, {\"count\": 14, \"cutoff\": 6, \"User-ID\": 29303, \"precision\": 0.16666666666666666, \"recall\": 0.07142857142857142}, {\"count\": 14, \"cutoff\": 7, \"User-ID\": 29303, \"precision\": 0.14285714285714285, \"recall\": 0.07142857142857142}, {\"count\": 14, \"cutoff\": 8, \"User-ID\": 29303, \"precision\": 0.125, \"recall\": 0.07142857142857142}, {\"count\": 14, \"cutoff\": 9, \"User-ID\": 29303, \"precision\": 0.2222222222222222, \"recall\": 0.14285714285714285}, {\"count\": 14, \"cutoff\": 10, \"User-ID\": 29303, \"precision\": 0.2, \"recall\": 0.14285714285714285}, {\"count\": 14, \"cutoff\": 11, \"User-ID\": 29303, \"precision\": 0.2727272727272727, \"recall\": 0.21428571428571427}, {\"count\": 14, \"cutoff\": 16, \"User-ID\": 29303, \"precision\": 0.3125, \"recall\": 0.35714285714285715}, {\"count\": 14, \"cutoff\": 21, \"User-ID\": 29303, \"precision\": 0.2857142857142857, \"recall\": 0.42857142857142855}, {\"count\": 14, \"cutoff\": 26, \"User-ID\": 29303, \"precision\": 0.34615384615384615, \"recall\": 0.6428571428571429}, {\"count\": 14, \"cutoff\": 31, \"User-ID\": 29303, \"precision\": 0.3225806451612903, \"recall\": 0.7142857142857143}, {\"count\": 14, \"cutoff\": 36, \"User-ID\": 29303, \"precision\": 0.3333333333333333, \"recall\": 0.8571428571428571}, {\"count\": 14, \"cutoff\": 41, \"User-ID\": 29303, \"precision\": 0.2926829268292683, \"recall\": 0.8571428571428571}, {\"count\": 14, \"cutoff\": 46, \"User-ID\": 29303, \"precision\": 0.2608695652173913, \"recall\": 0.8571428571428571}, {\"count\": 4, \"cutoff\": 1, \"User-ID\": 29489, \"precision\": 0.0, \"recall\": 0.0}, {\"count\": 4, \"cutoff\": 2, \"User-ID\": 29489, \"precision\": 0.0, \"recall\": 0.0}, {\"count\": 4, \"cutoff\": 3, \"User-ID\": 29489, \"precision\": 0.0, \"recall\": 0.0}, {\"count\": 4, \"cutoff\": 4, \"User-ID\": 29489, \"precision\": 0.0, \"recall\": 0.0}, {\"count\": 4, \"cutoff\": 5, \"User-ID\": 29489, \"precision\": 0.0, \"recall\": 0.0}, {\"count\": 4, \"cutoff\": 6, \"User-ID\": 29489, \"precision\": 0.0, \"recall\": 0.0}, {\"count\": 4, \"cutoff\": 7, \"User-ID\": 29489, \"precision\": 0.0, \"recall\": 0.0}, {\"count\": 4, \"cutoff\": 8, \"User-ID\": 29489, \"precision\": 0.0, \"recall\": 0.0}, {\"count\": 4, \"cutoff\": 9, \"User-ID\": 29489, \"precision\": 0.0, \"recall\": 0.0}, {\"count\": 4, \"cutoff\": 10, \"User-ID\": 29489, \"precision\": 0.1, \"recall\": 0.25}, {\"count\": 4, \"cutoff\": 11, \"User-ID\": 29489, \"precision\": 0.09090909090909091, \"recall\": 0.25}, {\"count\": 4, \"cutoff\": 16, \"User-ID\": 29489, \"precision\": 0.125, \"recall\": 0.5}, {\"count\": 4, \"cutoff\": 21, \"User-ID\": 29489, \"precision\": 0.14285714285714285, \"recall\": 0.75}, {\"count\": 4, \"cutoff\": 26, \"User-ID\": 29489, \"precision\": 0.11538461538461539, \"recall\": 0.75}, {\"count\": 4, \"cutoff\": 31, \"User-ID\": 29489, \"precision\": 0.0967741935483871, \"recall\": 0.75}, {\"count\": 4, \"cutoff\": 36, \"User-ID\": 29489, \"precision\": 0.1111111111111111, \"recall\": 1.0}, {\"count\": 4, \"cutoff\": 41, \"User-ID\": 29489, \"precision\": 0.0975609756097561, \"recall\": 1.0}, {\"count\": 4, \"cutoff\": 46, \"User-ID\": 29489, \"precision\": 0.08695652173913043, \"recall\": 1.0}, {\"count\": 2, \"cutoff\": 1, \"User-ID\": 29556, \"precision\": 0.0, \"recall\": 0.0}, {\"count\": 2, \"cutoff\": 2, \"User-ID\": 29556, \"precision\": 0.0, \"recall\": 0.0}, {\"count\": 2, \"cutoff\": 3, \"User-ID\": 29556, \"precision\": 0.0, \"recall\": 0.0}, {\"count\": 2, \"cutoff\": 4, \"User-ID\": 29556, \"precision\": 0.0, \"recall\": 0.0}, {\"count\": 2, \"cutoff\": 5, \"User-ID\": 29556, \"precision\": 0.2, \"recall\": 0.5}, {\"count\": 2, \"cutoff\": 6, \"User-ID\": 29556, \"precision\": 0.16666666666666666, \"recall\": 0.5}, {\"count\": 2, \"cutoff\": 7, \"User-ID\": 29556, \"precision\": 0.14285714285714285, \"recall\": 0.5}, {\"count\": 2, \"cutoff\": 8, \"User-ID\": 29556, \"precision\": 0.25, \"recall\": 1.0}, {\"count\": 2, \"cutoff\": 9, \"User-ID\": 29556, \"precision\": 0.2222222222222222, \"recall\": 1.0}, {\"count\": 2, \"cutoff\": 10, \"User-ID\": 29556, \"precision\": 0.2, \"recall\": 1.0}, {\"count\": 2, \"cutoff\": 11, \"User-ID\": 29556, \"precision\": 0.18181818181818182, \"recall\": 1.0}, {\"count\": 2, \"cutoff\": 16, \"User-ID\": 29556, \"precision\": 0.125, \"recall\": 1.0}, {\"count\": 2, \"cutoff\": 21, \"User-ID\": 29556, \"precision\": 0.09523809523809523, \"recall\": 1.0}, {\"count\": 2, \"cutoff\": 26, \"User-ID\": 29556, \"precision\": 0.07692307692307693, \"recall\": 1.0}, {\"count\": 2, \"cutoff\": 31, \"User-ID\": 29556, \"precision\": 0.06451612903225806, \"recall\": 1.0}, {\"count\": 2, \"cutoff\": 36, \"User-ID\": 29556, \"precision\": 0.05555555555555555, \"recall\": 1.0}, {\"count\": 2, \"cutoff\": 41, \"User-ID\": 29556, \"precision\": 0.04878048780487805, \"recall\": 1.0}, {\"count\": 2, \"cutoff\": 46, \"User-ID\": 29556, \"precision\": 0.043478260869565216, \"recall\": 1.0}, {\"count\": 8, \"cutoff\": 1, \"User-ID\": 30320, \"precision\": 1.0, \"recall\": 0.125}, {\"count\": 8, \"cutoff\": 2, \"User-ID\": 30320, \"precision\": 1.0, \"recall\": 0.25}, {\"count\": 8, \"cutoff\": 3, \"User-ID\": 30320, \"precision\": 0.6666666666666666, \"recall\": 0.25}, {\"count\": 8, \"cutoff\": 4, \"User-ID\": 30320, \"precision\": 0.5, \"recall\": 0.25}, {\"count\": 8, \"cutoff\": 5, \"User-ID\": 30320, \"precision\": 0.6, \"recall\": 0.375}, {\"count\": 8, \"cutoff\": 6, \"User-ID\": 30320, \"precision\": 0.6666666666666666, \"recall\": 0.5}, {\"count\": 8, \"cutoff\": 7, \"User-ID\": 30320, \"precision\": 0.5714285714285714, \"recall\": 0.5}, {\"count\": 8, \"cutoff\": 8, \"User-ID\": 30320, \"precision\": 0.5, \"recall\": 0.5}, {\"count\": 8, \"cutoff\": 9, \"User-ID\": 30320, \"precision\": 0.4444444444444444, \"recall\": 0.5}, {\"count\": 8, \"cutoff\": 10, \"User-ID\": 30320, \"precision\": 0.4, \"recall\": 0.5}, {\"count\": 8, \"cutoff\": 11, \"User-ID\": 30320, \"precision\": 0.36363636363636365, \"recall\": 0.5}, {\"count\": 8, \"cutoff\": 16, \"User-ID\": 30320, \"precision\": 0.3125, \"recall\": 0.625}, {\"count\": 8, \"cutoff\": 21, \"User-ID\": 30320, \"precision\": 0.23809523809523808, \"recall\": 0.625}, {\"count\": 8, \"cutoff\": 26, \"User-ID\": 30320, \"precision\": 0.19230769230769232, \"recall\": 0.625}, {\"count\": 8, \"cutoff\": 31, \"User-ID\": 30320, \"precision\": 0.16129032258064516, \"recall\": 0.625}, {\"count\": 8, \"cutoff\": 36, \"User-ID\": 30320, \"precision\": 0.1388888888888889, \"recall\": 0.625}, {\"count\": 8, \"cutoff\": 41, \"User-ID\": 30320, \"precision\": 0.12195121951219512, \"recall\": 0.625}, {\"count\": 8, \"cutoff\": 46, \"User-ID\": 30320, \"precision\": 0.10869565217391304, \"recall\": 0.625}, {\"count\": 23, \"cutoff\": 1, \"User-ID\": 32298, \"precision\": 1.0, \"recall\": 0.043478260869565216}, {\"count\": 23, \"cutoff\": 2, \"User-ID\": 32298, \"precision\": 1.0, \"recall\": 0.08695652173913043}, {\"count\": 23, \"cutoff\": 3, \"User-ID\": 32298, \"precision\": 1.0, \"recall\": 0.13043478260869565}, {\"count\": 23, \"cutoff\": 4, \"User-ID\": 32298, \"precision\": 1.0, \"recall\": 0.17391304347826086}, {\"count\": 23, \"cutoff\": 5, \"User-ID\": 32298, \"precision\": 1.0, \"recall\": 0.21739130434782608}, {\"count\": 23, \"cutoff\": 6, \"User-ID\": 32298, \"precision\": 1.0, \"recall\": 0.2608695652173913}, {\"count\": 23, \"cutoff\": 7, \"User-ID\": 32298, \"precision\": 0.8571428571428571, \"recall\": 0.2608695652173913}, {\"count\": 23, \"cutoff\": 8, \"User-ID\": 32298, \"precision\": 0.875, \"recall\": 0.30434782608695654}, {\"count\": 23, \"cutoff\": 9, \"User-ID\": 32298, \"precision\": 0.8888888888888888, \"recall\": 0.34782608695652173}, {\"count\": 23, \"cutoff\": 10, \"User-ID\": 32298, \"precision\": 0.9, \"recall\": 0.391304347826087}, {\"count\": 23, \"cutoff\": 11, \"User-ID\": 32298, \"precision\": 0.9090909090909091, \"recall\": 0.43478260869565216}, {\"count\": 23, \"cutoff\": 16, \"User-ID\": 32298, \"precision\": 0.8125, \"recall\": 0.5652173913043478}, {\"count\": 23, \"cutoff\": 21, \"User-ID\": 32298, \"precision\": 0.7142857142857143, \"recall\": 0.6521739130434783}, {\"count\": 23, \"cutoff\": 26, \"User-ID\": 32298, \"precision\": 0.6923076923076923, \"recall\": 0.782608695652174}, {\"count\": 23, \"cutoff\": 31, \"User-ID\": 32298, \"precision\": 0.6451612903225806, \"recall\": 0.8695652173913043}, {\"count\": 23, \"cutoff\": 36, \"User-ID\": 32298, \"precision\": 0.6571428571428571, \"recall\": 1.0}, {\"count\": 23, \"cutoff\": 41, \"User-ID\": 32298, \"precision\": 0.6571428571428571, \"recall\": 1.0}, {\"count\": 23, \"cutoff\": 46, \"User-ID\": 32298, \"precision\": 0.6571428571428571, \"recall\": 1.0}, {\"count\": 8, \"cutoff\": 1, \"User-ID\": 33217, \"precision\": 0.0, \"recall\": 0.0}, {\"count\": 8, \"cutoff\": 2, \"User-ID\": 33217, \"precision\": 0.0, \"recall\": 0.0}, {\"count\": 8, \"cutoff\": 3, \"User-ID\": 33217, \"precision\": 0.0, \"recall\": 0.0}, {\"count\": 8, \"cutoff\": 4, \"User-ID\": 33217, \"precision\": 0.0, \"recall\": 0.0}, {\"count\": 8, \"cutoff\": 5, \"User-ID\": 33217, \"precision\": 0.2, \"recall\": 0.125}, {\"count\": 8, \"cutoff\": 6, \"User-ID\": 33217, \"precision\": 0.16666666666666666, \"recall\": 0.125}, {\"count\": 8, \"cutoff\": 7, \"User-ID\": 33217, \"precision\": 0.14285714285714285, \"recall\": 0.125}, {\"count\": 8, \"cutoff\": 8, \"User-ID\": 33217, \"precision\": 0.125, \"recall\": 0.125}, {\"count\": 8, \"cutoff\": 9, \"User-ID\": 33217, \"precision\": 0.2222222222222222, \"recall\": 0.25}, {\"count\": 8, \"cutoff\": 10, \"User-ID\": 33217, \"precision\": 0.2, \"recall\": 0.25}, {\"count\": 8, \"cutoff\": 11, \"User-ID\": 33217, \"precision\": 0.18181818181818182, \"recall\": 0.25}, {\"count\": 8, \"cutoff\": 16, \"User-ID\": 33217, \"precision\": 0.1875, \"recall\": 0.375}, {\"count\": 8, \"cutoff\": 21, \"User-ID\": 33217, \"precision\": 0.23809523809523808, \"recall\": 0.625}, {\"count\": 8, \"cutoff\": 26, \"User-ID\": 33217, \"precision\": 0.19230769230769232, \"recall\": 0.625}, {\"count\": 8, \"cutoff\": 31, \"User-ID\": 33217, \"precision\": 0.16129032258064516, \"recall\": 0.625}, {\"count\": 8, \"cutoff\": 36, \"User-ID\": 33217, \"precision\": 0.16666666666666666, \"recall\": 0.75}, {\"count\": 8, \"cutoff\": 41, \"User-ID\": 33217, \"precision\": 0.14634146341463414, \"recall\": 0.75}, {\"count\": 8, \"cutoff\": 46, \"User-ID\": 33217, \"precision\": 0.13043478260869565, \"recall\": 0.75}, {\"count\": 4, \"cutoff\": 1, \"User-ID\": 33436, \"precision\": 0.0, \"recall\": 0.0}, {\"count\": 4, \"cutoff\": 2, \"User-ID\": 33436, \"precision\": 0.0, \"recall\": 0.0}, {\"count\": 4, \"cutoff\": 3, \"User-ID\": 33436, \"precision\": 0.0, \"recall\": 0.0}, {\"count\": 4, \"cutoff\": 4, \"User-ID\": 33436, \"precision\": 0.0, \"recall\": 0.0}, {\"count\": 4, \"cutoff\": 5, \"User-ID\": 33436, \"precision\": 0.0, \"recall\": 0.0}, {\"count\": 4, \"cutoff\": 6, \"User-ID\": 33436, \"precision\": 0.0, \"recall\": 0.0}, {\"count\": 4, \"cutoff\": 7, \"User-ID\": 33436, \"precision\": 0.0, \"recall\": 0.0}, {\"count\": 4, \"cutoff\": 8, \"User-ID\": 33436, \"precision\": 0.0, \"recall\": 0.0}, {\"count\": 4, \"cutoff\": 9, \"User-ID\": 33436, \"precision\": 0.0, \"recall\": 0.0}, {\"count\": 4, \"cutoff\": 10, \"User-ID\": 33436, \"precision\": 0.0, \"recall\": 0.0}, {\"count\": 4, \"cutoff\": 11, \"User-ID\": 33436, \"precision\": 0.0, \"recall\": 0.0}, {\"count\": 4, \"cutoff\": 16, \"User-ID\": 33436, \"precision\": 0.0625, \"recall\": 0.25}, {\"count\": 4, \"cutoff\": 21, \"User-ID\": 33436, \"precision\": 0.047619047619047616, \"recall\": 0.25}, {\"count\": 4, \"cutoff\": 26, \"User-ID\": 33436, \"precision\": 0.038461538461538464, \"recall\": 0.25}, {\"count\": 4, \"cutoff\": 31, \"User-ID\": 33436, \"precision\": 0.03225806451612903, \"recall\": 0.25}, {\"count\": 4, \"cutoff\": 36, \"User-ID\": 33436, \"precision\": 0.027777777777777776, \"recall\": 0.25}, {\"count\": 4, \"cutoff\": 41, \"User-ID\": 33436, \"precision\": 0.024390243902439025, \"recall\": 0.25}, {\"count\": 4, \"cutoff\": 46, \"User-ID\": 33436, \"precision\": 0.021739130434782608, \"recall\": 0.25}, {\"count\": 23, \"cutoff\": 1, \"User-ID\": 33551, \"precision\": 1.0, \"recall\": 0.043478260869565216}, {\"count\": 23, \"cutoff\": 2, \"User-ID\": 33551, \"precision\": 0.5, \"recall\": 0.043478260869565216}, {\"count\": 23, \"cutoff\": 3, \"User-ID\": 33551, \"precision\": 0.6666666666666666, \"recall\": 0.08695652173913043}, {\"count\": 23, \"cutoff\": 4, \"User-ID\": 33551, \"precision\": 0.75, \"recall\": 0.13043478260869565}, {\"count\": 23, \"cutoff\": 5, \"User-ID\": 33551, \"precision\": 0.6, \"recall\": 0.13043478260869565}, {\"count\": 23, \"cutoff\": 6, \"User-ID\": 33551, \"precision\": 0.5, \"recall\": 0.13043478260869565}, {\"count\": 23, \"cutoff\": 7, \"User-ID\": 33551, \"precision\": 0.42857142857142855, \"recall\": 0.13043478260869565}, {\"count\": 23, \"cutoff\": 8, \"User-ID\": 33551, \"precision\": 0.375, \"recall\": 0.13043478260869565}, {\"count\": 23, \"cutoff\": 9, \"User-ID\": 33551, \"precision\": 0.4444444444444444, \"recall\": 0.17391304347826086}, {\"count\": 23, \"cutoff\": 10, \"User-ID\": 33551, \"precision\": 0.4, \"recall\": 0.17391304347826086}, {\"count\": 23, \"cutoff\": 11, \"User-ID\": 33551, \"precision\": 0.45454545454545453, \"recall\": 0.21739130434782608}, {\"count\": 23, \"cutoff\": 16, \"User-ID\": 33551, \"precision\": 0.4375, \"recall\": 0.30434782608695654}, {\"count\": 23, \"cutoff\": 21, \"User-ID\": 33551, \"precision\": 0.38095238095238093, \"recall\": 0.34782608695652173}, {\"count\": 23, \"cutoff\": 26, \"User-ID\": 33551, \"precision\": 0.34615384615384615, \"recall\": 0.391304347826087}, {\"count\": 23, \"cutoff\": 31, \"User-ID\": 33551, \"precision\": 0.3870967741935484, \"recall\": 0.5217391304347826}, {\"count\": 23, \"cutoff\": 36, \"User-ID\": 33551, \"precision\": 0.3611111111111111, \"recall\": 0.5652173913043478}, {\"count\": 23, \"cutoff\": 41, \"User-ID\": 33551, \"precision\": 0.34146341463414637, \"recall\": 0.6086956521739131}, {\"count\": 23, \"cutoff\": 46, \"User-ID\": 33551, \"precision\": 0.34782608695652173, \"recall\": 0.6956521739130435}, {\"count\": 25, \"cutoff\": 1, \"User-ID\": 34966, \"precision\": 0.0, \"recall\": 0.0}, {\"count\": 25, \"cutoff\": 2, \"User-ID\": 34966, \"precision\": 0.5, \"recall\": 0.04}, {\"count\": 25, \"cutoff\": 3, \"User-ID\": 34966, \"precision\": 0.6666666666666666, \"recall\": 0.08}, {\"count\": 25, \"cutoff\": 4, \"User-ID\": 34966, \"precision\": 0.75, \"recall\": 0.12}, {\"count\": 25, \"cutoff\": 5, \"User-ID\": 34966, \"precision\": 0.8, \"recall\": 0.16}, {\"count\": 25, \"cutoff\": 6, \"User-ID\": 34966, \"precision\": 0.8333333333333334, \"recall\": 0.2}, {\"count\": 25, \"cutoff\": 7, \"User-ID\": 34966, \"precision\": 0.8571428571428571, \"recall\": 0.24}, {\"count\": 25, \"cutoff\": 8, \"User-ID\": 34966, \"precision\": 0.75, \"recall\": 0.24}, {\"count\": 25, \"cutoff\": 9, \"User-ID\": 34966, \"precision\": 0.7777777777777778, \"recall\": 0.28}, {\"count\": 25, \"cutoff\": 10, \"User-ID\": 34966, \"precision\": 0.7, \"recall\": 0.28}, {\"count\": 25, \"cutoff\": 11, \"User-ID\": 34966, \"precision\": 0.7272727272727273, \"recall\": 0.32}, {\"count\": 25, \"cutoff\": 16, \"User-ID\": 34966, \"precision\": 0.5625, \"recall\": 0.36}, {\"count\": 25, \"cutoff\": 21, \"User-ID\": 34966, \"precision\": 0.47619047619047616, \"recall\": 0.4}, {\"count\": 25, \"cutoff\": 26, \"User-ID\": 34966, \"precision\": 0.5, \"recall\": 0.52}, {\"count\": 25, \"cutoff\": 31, \"User-ID\": 34966, \"precision\": 0.45161290322580644, \"recall\": 0.56}, {\"count\": 25, \"cutoff\": 36, \"User-ID\": 34966, \"precision\": 0.4166666666666667, \"recall\": 0.6}, {\"count\": 25, \"cutoff\": 41, \"User-ID\": 34966, \"precision\": 0.4146341463414634, \"recall\": 0.68}, {\"count\": 25, \"cutoff\": 46, \"User-ID\": 34966, \"precision\": 0.391304347826087, \"recall\": 0.72}, {\"count\": 9, \"cutoff\": 1, \"User-ID\": 35321, \"precision\": 1.0, \"recall\": 0.1111111111111111}, {\"count\": 9, \"cutoff\": 2, \"User-ID\": 35321, \"precision\": 1.0, \"recall\": 0.2222222222222222}, {\"count\": 9, \"cutoff\": 3, \"User-ID\": 35321, \"precision\": 0.6666666666666666, \"recall\": 0.2222222222222222}, {\"count\": 9, \"cutoff\": 4, \"User-ID\": 35321, \"precision\": 0.75, \"recall\": 0.3333333333333333}, {\"count\": 9, \"cutoff\": 5, \"User-ID\": 35321, \"precision\": 0.6, \"recall\": 0.3333333333333333}, {\"count\": 9, \"cutoff\": 6, \"User-ID\": 35321, \"precision\": 0.5, \"recall\": 0.3333333333333333}, {\"count\": 9, \"cutoff\": 7, \"User-ID\": 35321, \"precision\": 0.42857142857142855, \"recall\": 0.3333333333333333}, {\"count\": 9, \"cutoff\": 8, \"User-ID\": 35321, \"precision\": 0.375, \"recall\": 0.3333333333333333}, {\"count\": 9, \"cutoff\": 9, \"User-ID\": 35321, \"precision\": 0.3333333333333333, \"recall\": 0.3333333333333333}, {\"count\": 9, \"cutoff\": 10, \"User-ID\": 35321, \"precision\": 0.3, \"recall\": 0.3333333333333333}, {\"count\": 9, \"cutoff\": 11, \"User-ID\": 35321, \"precision\": 0.2727272727272727, \"recall\": 0.3333333333333333}, {\"count\": 9, \"cutoff\": 16, \"User-ID\": 35321, \"precision\": 0.1875, \"recall\": 0.3333333333333333}, {\"count\": 9, \"cutoff\": 21, \"User-ID\": 35321, \"precision\": 0.19047619047619047, \"recall\": 0.4444444444444444}, {\"count\": 9, \"cutoff\": 26, \"User-ID\": 35321, \"precision\": 0.23076923076923078, \"recall\": 0.6666666666666666}, {\"count\": 9, \"cutoff\": 31, \"User-ID\": 35321, \"precision\": 0.1935483870967742, \"recall\": 0.6666666666666666}, {\"count\": 9, \"cutoff\": 36, \"User-ID\": 35321, \"precision\": 0.16666666666666666, \"recall\": 0.6666666666666666}, {\"count\": 9, \"cutoff\": 41, \"User-ID\": 35321, \"precision\": 0.14634146341463414, \"recall\": 0.6666666666666666}, {\"count\": 9, \"cutoff\": 46, \"User-ID\": 35321, \"precision\": 0.13043478260869565, \"recall\": 0.6666666666666666}, {\"count\": 15, \"cutoff\": 1, \"User-ID\": 35342, \"precision\": 0.0, \"recall\": 0.0}, {\"count\": 15, \"cutoff\": 2, \"User-ID\": 35342, \"precision\": 0.0, \"recall\": 0.0}, {\"count\": 15, \"cutoff\": 3, \"User-ID\": 35342, \"precision\": 0.3333333333333333, \"recall\": 0.06666666666666667}, {\"count\": 15, \"cutoff\": 4, \"User-ID\": 35342, \"precision\": 0.25, \"recall\": 0.06666666666666667}, {\"count\": 15, \"cutoff\": 5, \"User-ID\": 35342, \"precision\": 0.2, \"recall\": 0.06666666666666667}, {\"count\": 15, \"cutoff\": 6, \"User-ID\": 35342, \"precision\": 0.16666666666666666, \"recall\": 0.06666666666666667}, {\"count\": 15, \"cutoff\": 7, \"User-ID\": 35342, \"precision\": 0.14285714285714285, \"recall\": 0.06666666666666667}, {\"count\": 15, \"cutoff\": 8, \"User-ID\": 35342, \"precision\": 0.25, \"recall\": 0.13333333333333333}, {\"count\": 15, \"cutoff\": 9, \"User-ID\": 35342, \"precision\": 0.3333333333333333, \"recall\": 0.2}, {\"count\": 15, \"cutoff\": 10, \"User-ID\": 35342, \"precision\": 0.4, \"recall\": 0.26666666666666666}, {\"count\": 15, \"cutoff\": 11, \"User-ID\": 35342, \"precision\": 0.36363636363636365, \"recall\": 0.26666666666666666}, {\"count\": 15, \"cutoff\": 16, \"User-ID\": 35342, \"precision\": 0.3125, \"recall\": 0.3333333333333333}, {\"count\": 15, \"cutoff\": 21, \"User-ID\": 35342, \"precision\": 0.23809523809523808, \"recall\": 0.3333333333333333}, {\"count\": 15, \"cutoff\": 26, \"User-ID\": 35342, \"precision\": 0.19230769230769232, \"recall\": 0.3333333333333333}, {\"count\": 15, \"cutoff\": 31, \"User-ID\": 35342, \"precision\": 0.16129032258064516, \"recall\": 0.3333333333333333}, {\"count\": 15, \"cutoff\": 36, \"User-ID\": 35342, \"precision\": 0.1388888888888889, \"recall\": 0.3333333333333333}, {\"count\": 15, \"cutoff\": 41, \"User-ID\": 35342, \"precision\": 0.17073170731707318, \"recall\": 0.4666666666666667}, {\"count\": 15, \"cutoff\": 46, \"User-ID\": 35342, \"precision\": 0.1956521739130435, \"recall\": 0.6}, {\"count\": 9, \"cutoff\": 1, \"User-ID\": 35608, \"precision\": 1.0, \"recall\": 0.1111111111111111}, {\"count\": 9, \"cutoff\": 2, \"User-ID\": 35608, \"precision\": 1.0, \"recall\": 0.2222222222222222}, {\"count\": 9, \"cutoff\": 3, \"User-ID\": 35608, \"precision\": 1.0, \"recall\": 0.3333333333333333}, {\"count\": 9, \"cutoff\": 4, \"User-ID\": 35608, \"precision\": 1.0, \"recall\": 0.4444444444444444}, {\"count\": 9, \"cutoff\": 5, \"User-ID\": 35608, \"precision\": 0.8, \"recall\": 0.4444444444444444}, {\"count\": 9, \"cutoff\": 6, \"User-ID\": 35608, \"precision\": 0.6666666666666666, \"recall\": 0.4444444444444444}, {\"count\": 9, \"cutoff\": 7, \"User-ID\": 35608, \"precision\": 0.5714285714285714, \"recall\": 0.4444444444444444}, {\"count\": 9, \"cutoff\": 8, \"User-ID\": 35608, \"precision\": 0.5, \"recall\": 0.4444444444444444}, {\"count\": 9, \"cutoff\": 9, \"User-ID\": 35608, \"precision\": 0.4444444444444444, \"recall\": 0.4444444444444444}, {\"count\": 9, \"cutoff\": 10, \"User-ID\": 35608, \"precision\": 0.4, \"recall\": 0.4444444444444444}, {\"count\": 9, \"cutoff\": 11, \"User-ID\": 35608, \"precision\": 0.36363636363636365, \"recall\": 0.4444444444444444}, {\"count\": 9, \"cutoff\": 16, \"User-ID\": 35608, \"precision\": 0.3125, \"recall\": 0.5555555555555556}, {\"count\": 9, \"cutoff\": 21, \"User-ID\": 35608, \"precision\": 0.2857142857142857, \"recall\": 0.6666666666666666}, {\"count\": 9, \"cutoff\": 26, \"User-ID\": 35608, \"precision\": 0.23076923076923078, \"recall\": 0.6666666666666666}, {\"count\": 9, \"cutoff\": 31, \"User-ID\": 35608, \"precision\": 0.1935483870967742, \"recall\": 0.6666666666666666}, {\"count\": 9, \"cutoff\": 36, \"User-ID\": 35608, \"precision\": 0.16666666666666666, \"recall\": 0.6666666666666666}, {\"count\": 9, \"cutoff\": 41, \"User-ID\": 35608, \"precision\": 0.14634146341463414, \"recall\": 0.6666666666666666}, {\"count\": 9, \"cutoff\": 46, \"User-ID\": 35608, \"precision\": 0.13043478260869565, \"recall\": 0.6666666666666666}, {\"count\": 10, \"cutoff\": 1, \"User-ID\": 36832, \"precision\": 1.0, \"recall\": 0.1}, {\"count\": 10, \"cutoff\": 2, \"User-ID\": 36832, \"precision\": 1.0, \"recall\": 0.2}, {\"count\": 10, \"cutoff\": 3, \"User-ID\": 36832, \"precision\": 0.6666666666666666, \"recall\": 0.2}, {\"count\": 10, \"cutoff\": 4, \"User-ID\": 36832, \"precision\": 0.5, \"recall\": 0.2}, {\"count\": 10, \"cutoff\": 5, \"User-ID\": 36832, \"precision\": 0.4, \"recall\": 0.2}, {\"count\": 10, \"cutoff\": 6, \"User-ID\": 36832, \"precision\": 0.3333333333333333, \"recall\": 0.2}, {\"count\": 10, \"cutoff\": 7, \"User-ID\": 36832, \"precision\": 0.2857142857142857, \"recall\": 0.2}, {\"count\": 10, \"cutoff\": 8, \"User-ID\": 36832, \"precision\": 0.25, \"recall\": 0.2}, {\"count\": 10, \"cutoff\": 9, \"User-ID\": 36832, \"precision\": 0.2222222222222222, \"recall\": 0.2}, {\"count\": 10, \"cutoff\": 10, \"User-ID\": 36832, \"precision\": 0.2, \"recall\": 0.2}, {\"count\": 10, \"cutoff\": 11, \"User-ID\": 36832, \"precision\": 0.2727272727272727, \"recall\": 0.3}, {\"count\": 10, \"cutoff\": 16, \"User-ID\": 36832, \"precision\": 0.1875, \"recall\": 0.3}, {\"count\": 10, \"cutoff\": 21, \"User-ID\": 36832, \"precision\": 0.23809523809523808, \"recall\": 0.5}, {\"count\": 10, \"cutoff\": 26, \"User-ID\": 36832, \"precision\": 0.2692307692307692, \"recall\": 0.7}, {\"count\": 10, \"cutoff\": 31, \"User-ID\": 36832, \"precision\": 0.22580645161290322, \"recall\": 0.7}, {\"count\": 10, \"cutoff\": 36, \"User-ID\": 36832, \"precision\": 0.19444444444444445, \"recall\": 0.7}, {\"count\": 10, \"cutoff\": 41, \"User-ID\": 36832, \"precision\": 0.17073170731707318, \"recall\": 0.7}, {\"count\": 10, \"cutoff\": 46, \"User-ID\": 36832, \"precision\": 0.15217391304347827, \"recall\": 0.7}, {\"count\": 1, \"cutoff\": 1, \"User-ID\": 36849, \"precision\": 1.0, \"recall\": 1.0}, {\"count\": 1, \"cutoff\": 2, \"User-ID\": 36849, \"precision\": 0.5, \"recall\": 1.0}, {\"count\": 1, \"cutoff\": 3, \"User-ID\": 36849, \"precision\": 0.3333333333333333, \"recall\": 1.0}, {\"count\": 1, \"cutoff\": 4, \"User-ID\": 36849, \"precision\": 0.25, \"recall\": 1.0}, {\"count\": 1, \"cutoff\": 5, \"User-ID\": 36849, \"precision\": 0.2, \"recall\": 1.0}, {\"count\": 1, \"cutoff\": 6, \"User-ID\": 36849, \"precision\": 0.16666666666666666, \"recall\": 1.0}, {\"count\": 1, \"cutoff\": 7, \"User-ID\": 36849, \"precision\": 0.14285714285714285, \"recall\": 1.0}, {\"count\": 1, \"cutoff\": 8, \"User-ID\": 36849, \"precision\": 0.125, \"recall\": 1.0}, {\"count\": 1, \"cutoff\": 9, \"User-ID\": 36849, \"precision\": 0.1111111111111111, \"recall\": 1.0}, {\"count\": 1, \"cutoff\": 10, \"User-ID\": 36849, \"precision\": 0.1, \"recall\": 1.0}, {\"count\": 1, \"cutoff\": 11, \"User-ID\": 36849, \"precision\": 0.09090909090909091, \"recall\": 1.0}, {\"count\": 1, \"cutoff\": 16, \"User-ID\": 36849, \"precision\": 0.0625, \"recall\": 1.0}, {\"count\": 1, \"cutoff\": 21, \"User-ID\": 36849, \"precision\": 0.047619047619047616, \"recall\": 1.0}, {\"count\": 1, \"cutoff\": 26, \"User-ID\": 36849, \"precision\": 0.038461538461538464, \"recall\": 1.0}, {\"count\": 1, \"cutoff\": 31, \"User-ID\": 36849, \"precision\": 0.03225806451612903, \"recall\": 1.0}, {\"count\": 1, \"cutoff\": 36, \"User-ID\": 36849, \"precision\": 0.027777777777777776, \"recall\": 1.0}, {\"count\": 1, \"cutoff\": 41, \"User-ID\": 36849, \"precision\": 0.024390243902439025, \"recall\": 1.0}, {\"count\": 1, \"cutoff\": 46, \"User-ID\": 36849, \"precision\": 0.021739130434782608, \"recall\": 1.0}, {\"count\": 2, \"cutoff\": 1, \"User-ID\": 37639, \"precision\": 0.0, \"recall\": 0.0}, {\"count\": 2, \"cutoff\": 2, \"User-ID\": 37639, \"precision\": 0.0, \"recall\": 0.0}, {\"count\": 2, \"cutoff\": 3, \"User-ID\": 37639, \"precision\": 0.0, \"recall\": 0.0}, {\"count\": 2, \"cutoff\": 4, \"User-ID\": 37639, \"precision\": 0.0, \"recall\": 0.0}, {\"count\": 2, \"cutoff\": 5, \"User-ID\": 37639, \"precision\": 0.0, \"recall\": 0.0}, {\"count\": 2, \"cutoff\": 6, \"User-ID\": 37639, \"precision\": 0.0, \"recall\": 0.0}, {\"count\": 2, \"cutoff\": 7, \"User-ID\": 37639, \"precision\": 0.0, \"recall\": 0.0}, {\"count\": 2, \"cutoff\": 8, \"User-ID\": 37639, \"precision\": 0.0, \"recall\": 0.0}, {\"count\": 2, \"cutoff\": 9, \"User-ID\": 37639, \"precision\": 0.0, \"recall\": 0.0}, {\"count\": 2, \"cutoff\": 10, \"User-ID\": 37639, \"precision\": 0.0, \"recall\": 0.0}, {\"count\": 2, \"cutoff\": 11, \"User-ID\": 37639, \"precision\": 0.0, \"recall\": 0.0}, {\"count\": 2, \"cutoff\": 16, \"User-ID\": 37639, \"precision\": 0.0, \"recall\": 0.0}, {\"count\": 2, \"cutoff\": 21, \"User-ID\": 37639, \"precision\": 0.0, \"recall\": 0.0}, {\"count\": 2, \"cutoff\": 26, \"User-ID\": 37639, \"precision\": 0.0, \"recall\": 0.0}, {\"count\": 2, \"cutoff\": 31, \"User-ID\": 37639, \"precision\": 0.0, \"recall\": 0.0}, {\"count\": 2, \"cutoff\": 36, \"User-ID\": 37639, \"precision\": 0.0, \"recall\": 0.0}, {\"count\": 2, \"cutoff\": 41, \"User-ID\": 37639, \"precision\": 0.0, \"recall\": 0.0}, {\"count\": 2, \"cutoff\": 46, \"User-ID\": 37639, \"precision\": 0.0, \"recall\": 0.0}, {\"count\": 5, \"cutoff\": 1, \"User-ID\": 37853, \"precision\": 0.0, \"recall\": 0.0}, {\"count\": 5, \"cutoff\": 2, \"User-ID\": 37853, \"precision\": 0.0, \"recall\": 0.0}, {\"count\": 5, \"cutoff\": 3, \"User-ID\": 37853, \"precision\": 0.3333333333333333, \"recall\": 0.2}, {\"count\": 5, \"cutoff\": 4, \"User-ID\": 37853, \"precision\": 0.25, \"recall\": 0.2}, {\"count\": 5, \"cutoff\": 5, \"User-ID\": 37853, \"precision\": 0.4, \"recall\": 0.4}, {\"count\": 5, \"cutoff\": 6, \"User-ID\": 37853, \"precision\": 0.3333333333333333, \"recall\": 0.4}, {\"count\": 5, \"cutoff\": 7, \"User-ID\": 37853, \"precision\": 0.2857142857142857, \"recall\": 0.4}, {\"count\": 5, \"cutoff\": 8, \"User-ID\": 37853, \"precision\": 0.25, \"recall\": 0.4}, {\"count\": 5, \"cutoff\": 9, \"User-ID\": 37853, \"precision\": 0.2222222222222222, \"recall\": 0.4}, {\"count\": 5, \"cutoff\": 10, \"User-ID\": 37853, \"precision\": 0.2, \"recall\": 0.4}, {\"count\": 5, \"cutoff\": 11, \"User-ID\": 37853, \"precision\": 0.18181818181818182, \"recall\": 0.4}, {\"count\": 5, \"cutoff\": 16, \"User-ID\": 37853, \"precision\": 0.125, \"recall\": 0.4}, {\"count\": 5, \"cutoff\": 21, \"User-ID\": 37853, \"precision\": 0.09523809523809523, \"recall\": 0.4}, {\"count\": 5, \"cutoff\": 26, \"User-ID\": 37853, \"precision\": 0.11538461538461539, \"recall\": 0.6}, {\"count\": 5, \"cutoff\": 31, \"User-ID\": 37853, \"precision\": 0.0967741935483871, \"recall\": 0.6}, {\"count\": 5, \"cutoff\": 36, \"User-ID\": 37853, \"precision\": 0.08333333333333333, \"recall\": 0.6}, {\"count\": 5, \"cutoff\": 41, \"User-ID\": 37853, \"precision\": 0.07317073170731707, \"recall\": 0.6}, {\"count\": 5, \"cutoff\": 46, \"User-ID\": 37853, \"precision\": 0.06521739130434782, \"recall\": 0.6}, {\"count\": 6, \"cutoff\": 1, \"User-ID\": 41293, \"precision\": 1.0, \"recall\": 0.16666666666666666}, {\"count\": 6, \"cutoff\": 2, \"User-ID\": 41293, \"precision\": 0.5, \"recall\": 0.16666666666666666}, {\"count\": 6, \"cutoff\": 3, \"User-ID\": 41293, \"precision\": 0.6666666666666666, \"recall\": 0.3333333333333333}, {\"count\": 6, \"cutoff\": 4, \"User-ID\": 41293, \"precision\": 0.5, \"recall\": 0.3333333333333333}, {\"count\": 6, \"cutoff\": 5, \"User-ID\": 41293, \"precision\": 0.4, \"recall\": 0.3333333333333333}, {\"count\": 6, \"cutoff\": 6, \"User-ID\": 41293, \"precision\": 0.3333333333333333, \"recall\": 0.3333333333333333}, {\"count\": 6, \"cutoff\": 7, \"User-ID\": 41293, \"precision\": 0.2857142857142857, \"recall\": 0.3333333333333333}, {\"count\": 6, \"cutoff\": 8, \"User-ID\": 41293, \"precision\": 0.25, \"recall\": 0.3333333333333333}, {\"count\": 6, \"cutoff\": 9, \"User-ID\": 41293, \"precision\": 0.2222222222222222, \"recall\": 0.3333333333333333}, {\"count\": 6, \"cutoff\": 10, \"User-ID\": 41293, \"precision\": 0.2, \"recall\": 0.3333333333333333}, {\"count\": 6, \"cutoff\": 11, \"User-ID\": 41293, \"precision\": 0.18181818181818182, \"recall\": 0.3333333333333333}, {\"count\": 6, \"cutoff\": 16, \"User-ID\": 41293, \"precision\": 0.125, \"recall\": 0.3333333333333333}, {\"count\": 6, \"cutoff\": 21, \"User-ID\": 41293, \"precision\": 0.14285714285714285, \"recall\": 0.5}, {\"count\": 6, \"cutoff\": 26, \"User-ID\": 41293, \"precision\": 0.11538461538461539, \"recall\": 0.5}, {\"count\": 6, \"cutoff\": 31, \"User-ID\": 41293, \"precision\": 0.0967741935483871, \"recall\": 0.5}, {\"count\": 6, \"cutoff\": 36, \"User-ID\": 41293, \"precision\": 0.08333333333333333, \"recall\": 0.5}, {\"count\": 6, \"cutoff\": 41, \"User-ID\": 41293, \"precision\": 0.07317073170731707, \"recall\": 0.5}, {\"count\": 6, \"cutoff\": 46, \"User-ID\": 41293, \"precision\": 0.06521739130434782, \"recall\": 0.5}, {\"count\": 5, \"cutoff\": 1, \"User-ID\": 42011, \"precision\": 0.0, \"recall\": 0.0}, {\"count\": 5, \"cutoff\": 2, \"User-ID\": 42011, \"precision\": 0.0, \"recall\": 0.0}, {\"count\": 5, \"cutoff\": 3, \"User-ID\": 42011, \"precision\": 0.0, \"recall\": 0.0}, {\"count\": 5, \"cutoff\": 4, \"User-ID\": 42011, \"precision\": 0.0, \"recall\": 0.0}, {\"count\": 5, \"cutoff\": 5, \"User-ID\": 42011, \"precision\": 0.0, \"recall\": 0.0}, {\"count\": 5, \"cutoff\": 6, \"User-ID\": 42011, \"precision\": 0.0, \"recall\": 0.0}, {\"count\": 5, \"cutoff\": 7, \"User-ID\": 42011, \"precision\": 0.0, \"recall\": 0.0}, {\"count\": 5, \"cutoff\": 8, \"User-ID\": 42011, \"precision\": 0.0, \"recall\": 0.0}, {\"count\": 5, \"cutoff\": 9, \"User-ID\": 42011, \"precision\": 0.1111111111111111, \"recall\": 0.2}, {\"count\": 5, \"cutoff\": 10, \"User-ID\": 42011, \"precision\": 0.1, \"recall\": 0.2}, {\"count\": 5, \"cutoff\": 11, \"User-ID\": 42011, \"precision\": 0.09090909090909091, \"recall\": 0.2}, {\"count\": 5, \"cutoff\": 16, \"User-ID\": 42011, \"precision\": 0.125, \"recall\": 0.4}, {\"count\": 5, \"cutoff\": 21, \"User-ID\": 42011, \"precision\": 0.09523809523809523, \"recall\": 0.4}, {\"count\": 5, \"cutoff\": 26, \"User-ID\": 42011, \"precision\": 0.11538461538461539, \"recall\": 0.6}, {\"count\": 5, \"cutoff\": 31, \"User-ID\": 42011, \"precision\": 0.12903225806451613, \"recall\": 0.8}, {\"count\": 5, \"cutoff\": 36, \"User-ID\": 42011, \"precision\": 0.1111111111111111, \"recall\": 0.8}, {\"count\": 5, \"cutoff\": 41, \"User-ID\": 42011, \"precision\": 0.0975609756097561, \"recall\": 0.8}, {\"count\": 5, \"cutoff\": 46, \"User-ID\": 42011, \"precision\": 0.08695652173913043, \"recall\": 0.8}, {\"count\": 27, \"cutoff\": 1, \"User-ID\": 42305, \"precision\": 1.0, \"recall\": 0.037037037037037035}, {\"count\": 27, \"cutoff\": 2, \"User-ID\": 42305, \"precision\": 1.0, \"recall\": 0.07407407407407407}, {\"count\": 27, \"cutoff\": 3, \"User-ID\": 42305, \"precision\": 1.0, \"recall\": 0.1111111111111111}, {\"count\": 27, \"cutoff\": 4, \"User-ID\": 42305, \"precision\": 1.0, \"recall\": 0.14814814814814814}, {\"count\": 27, \"cutoff\": 5, \"User-ID\": 42305, \"precision\": 1.0, \"recall\": 0.18518518518518517}, {\"count\": 27, \"cutoff\": 6, \"User-ID\": 42305, \"precision\": 0.8333333333333334, \"recall\": 0.18518518518518517}, {\"count\": 27, \"cutoff\": 7, \"User-ID\": 42305, \"precision\": 0.8571428571428571, \"recall\": 0.2222222222222222}, {\"count\": 27, \"cutoff\": 8, \"User-ID\": 42305, \"precision\": 0.875, \"recall\": 0.25925925925925924}, {\"count\": 27, \"cutoff\": 9, \"User-ID\": 42305, \"precision\": 0.8888888888888888, \"recall\": 0.2962962962962963}, {\"count\": 27, \"cutoff\": 10, \"User-ID\": 42305, \"precision\": 0.9, \"recall\": 0.3333333333333333}, {\"count\": 27, \"cutoff\": 11, \"User-ID\": 42305, \"precision\": 0.9090909090909091, \"recall\": 0.37037037037037035}, {\"count\": 27, \"cutoff\": 16, \"User-ID\": 42305, \"precision\": 0.8125, \"recall\": 0.48148148148148145}, {\"count\": 27, \"cutoff\": 21, \"User-ID\": 42305, \"precision\": 0.8095238095238095, \"recall\": 0.6296296296296297}, {\"count\": 27, \"cutoff\": 26, \"User-ID\": 42305, \"precision\": 0.7692307692307693, \"recall\": 0.7407407407407407}, {\"count\": 27, \"cutoff\": 31, \"User-ID\": 42305, \"precision\": 0.7741935483870968, \"recall\": 0.8888888888888888}, {\"count\": 27, \"cutoff\": 36, \"User-ID\": 42305, \"precision\": 0.75, \"recall\": 1.0}, {\"count\": 27, \"cutoff\": 41, \"User-ID\": 42305, \"precision\": 0.6923076923076923, \"recall\": 1.0}, {\"count\": 27, \"cutoff\": 46, \"User-ID\": 42305, \"precision\": 0.6923076923076923, \"recall\": 1.0}, {\"count\": 1, \"cutoff\": 1, \"User-ID\": 42980, \"precision\": 0.0, \"recall\": 0.0}, {\"count\": 1, \"cutoff\": 2, \"User-ID\": 42980, \"precision\": 0.0, \"recall\": 0.0}, {\"count\": 1, \"cutoff\": 3, \"User-ID\": 42980, \"precision\": 0.0, \"recall\": 0.0}, {\"count\": 1, \"cutoff\": 4, \"User-ID\": 42980, \"precision\": 0.0, \"recall\": 0.0}, {\"count\": 1, \"cutoff\": 5, \"User-ID\": 42980, \"precision\": 0.0, \"recall\": 0.0}, {\"count\": 1, \"cutoff\": 6, \"User-ID\": 42980, \"precision\": 0.0, \"recall\": 0.0}, {\"count\": 1, \"cutoff\": 7, \"User-ID\": 42980, \"precision\": 0.0, \"recall\": 0.0}, {\"count\": 1, \"cutoff\": 8, \"User-ID\": 42980, \"precision\": 0.0, \"recall\": 0.0}, {\"count\": 1, \"cutoff\": 9, \"User-ID\": 42980, \"precision\": 0.0, \"recall\": 0.0}, {\"count\": 1, \"cutoff\": 10, \"User-ID\": 42980, \"precision\": 0.0, \"recall\": 0.0}, {\"count\": 1, \"cutoff\": 11, \"User-ID\": 42980, \"precision\": 0.0, \"recall\": 0.0}, {\"count\": 1, \"cutoff\": 16, \"User-ID\": 42980, \"precision\": 0.0, \"recall\": 0.0}, {\"count\": 1, \"cutoff\": 21, \"User-ID\": 42980, \"precision\": 0.0, \"recall\": 0.0}, {\"count\": 1, \"cutoff\": 26, \"User-ID\": 42980, \"precision\": 0.0, \"recall\": 0.0}, {\"count\": 1, \"cutoff\": 31, \"User-ID\": 42980, \"precision\": 0.0, \"recall\": 0.0}, {\"count\": 1, \"cutoff\": 36, \"User-ID\": 42980, \"precision\": 0.0, \"recall\": 0.0}, {\"count\": 1, \"cutoff\": 41, \"User-ID\": 42980, \"precision\": 0.0, \"recall\": 0.0}, {\"count\": 1, \"cutoff\": 46, \"User-ID\": 42980, \"precision\": 0.0, \"recall\": 0.0}, {\"count\": 1, \"cutoff\": 1, \"User-ID\": 43416, \"precision\": 0.0, \"recall\": 0.0}, {\"count\": 1, \"cutoff\": 2, \"User-ID\": 43416, \"precision\": 0.0, \"recall\": 0.0}, {\"count\": 1, \"cutoff\": 3, \"User-ID\": 43416, \"precision\": 0.0, \"recall\": 0.0}, {\"count\": 1, \"cutoff\": 4, \"User-ID\": 43416, \"precision\": 0.0, \"recall\": 0.0}, {\"count\": 1, \"cutoff\": 5, \"User-ID\": 43416, \"precision\": 0.0, \"recall\": 0.0}, {\"count\": 1, \"cutoff\": 6, \"User-ID\": 43416, \"precision\": 0.0, \"recall\": 0.0}, {\"count\": 1, \"cutoff\": 7, \"User-ID\": 43416, \"precision\": 0.0, \"recall\": 0.0}, {\"count\": 1, \"cutoff\": 8, \"User-ID\": 43416, \"precision\": 0.0, \"recall\": 0.0}, {\"count\": 1, \"cutoff\": 9, \"User-ID\": 43416, \"precision\": 0.0, \"recall\": 0.0}, {\"count\": 1, \"cutoff\": 10, \"User-ID\": 43416, \"precision\": 0.0, \"recall\": 0.0}, {\"count\": 1, \"cutoff\": 11, \"User-ID\": 43416, \"precision\": 0.0, \"recall\": 0.0}, {\"count\": 1, \"cutoff\": 16, \"User-ID\": 43416, \"precision\": 0.0, \"recall\": 0.0}, {\"count\": 1, \"cutoff\": 21, \"User-ID\": 43416, \"precision\": 0.0, \"recall\": 0.0}, {\"count\": 1, \"cutoff\": 26, \"User-ID\": 43416, \"precision\": 0.0, \"recall\": 0.0}, {\"count\": 1, \"cutoff\": 31, \"User-ID\": 43416, \"precision\": 0.0, \"recall\": 0.0}, {\"count\": 1, \"cutoff\": 36, \"User-ID\": 43416, \"precision\": 0.0, \"recall\": 0.0}, {\"count\": 1, \"cutoff\": 41, \"User-ID\": 43416, \"precision\": 0.0, \"recall\": 0.0}, {\"count\": 1, \"cutoff\": 46, \"User-ID\": 43416, \"precision\": 0.0, \"recall\": 0.0}, {\"count\": 3, \"cutoff\": 1, \"User-ID\": 45205, \"precision\": 0.0, \"recall\": 0.0}, {\"count\": 3, \"cutoff\": 2, \"User-ID\": 45205, \"precision\": 0.0, \"recall\": 0.0}, {\"count\": 3, \"cutoff\": 3, \"User-ID\": 45205, \"precision\": 0.0, \"recall\": 0.0}, {\"count\": 3, \"cutoff\": 4, \"User-ID\": 45205, \"precision\": 0.0, \"recall\": 0.0}, {\"count\": 3, \"cutoff\": 5, \"User-ID\": 45205, \"precision\": 0.0, \"recall\": 0.0}, {\"count\": 3, \"cutoff\": 6, \"User-ID\": 45205, \"precision\": 0.0, \"recall\": 0.0}, {\"count\": 3, \"cutoff\": 7, \"User-ID\": 45205, \"precision\": 0.0, \"recall\": 0.0}, {\"count\": 3, \"cutoff\": 8, \"User-ID\": 45205, \"precision\": 0.0, \"recall\": 0.0}, {\"count\": 3, \"cutoff\": 9, \"User-ID\": 45205, \"precision\": 0.0, \"recall\": 0.0}, {\"count\": 3, \"cutoff\": 10, \"User-ID\": 45205, \"precision\": 0.0, \"recall\": 0.0}, {\"count\": 3, \"cutoff\": 11, \"User-ID\": 45205, \"precision\": 0.0, \"recall\": 0.0}, {\"count\": 3, \"cutoff\": 16, \"User-ID\": 45205, \"precision\": 0.0, \"recall\": 0.0}, {\"count\": 3, \"cutoff\": 21, \"User-ID\": 45205, \"precision\": 0.0, \"recall\": 0.0}, {\"count\": 3, \"cutoff\": 26, \"User-ID\": 45205, \"precision\": 0.0, \"recall\": 0.0}, {\"count\": 3, \"cutoff\": 31, \"User-ID\": 45205, \"precision\": 0.0, \"recall\": 0.0}, {\"count\": 3, \"cutoff\": 36, \"User-ID\": 45205, \"precision\": 0.0, \"recall\": 0.0}, {\"count\": 3, \"cutoff\": 41, \"User-ID\": 45205, \"precision\": 0.0, \"recall\": 0.0}, {\"count\": 3, \"cutoff\": 46, \"User-ID\": 45205, \"precision\": 0.0, \"recall\": 0.0}, {\"count\": 4, \"cutoff\": 1, \"User-ID\": 45797, \"precision\": 0.0, \"recall\": 0.0}, {\"count\": 4, \"cutoff\": 2, \"User-ID\": 45797, \"precision\": 0.0, \"recall\": 0.0}, {\"count\": 4, \"cutoff\": 3, \"User-ID\": 45797, \"precision\": 0.0, \"recall\": 0.0}, {\"count\": 4, \"cutoff\": 4, \"User-ID\": 45797, \"precision\": 0.0, \"recall\": 0.0}, {\"count\": 4, \"cutoff\": 5, \"User-ID\": 45797, \"precision\": 0.0, \"recall\": 0.0}, {\"count\": 4, \"cutoff\": 6, \"User-ID\": 45797, \"precision\": 0.0, \"recall\": 0.0}, {\"count\": 4, \"cutoff\": 7, \"User-ID\": 45797, \"precision\": 0.0, \"recall\": 0.0}, {\"count\": 4, \"cutoff\": 8, \"User-ID\": 45797, \"precision\": 0.0, \"recall\": 0.0}, {\"count\": 4, \"cutoff\": 9, \"User-ID\": 45797, \"precision\": 0.0, \"recall\": 0.0}, {\"count\": 4, \"cutoff\": 10, \"User-ID\": 45797, \"precision\": 0.0, \"recall\": 0.0}, {\"count\": 4, \"cutoff\": 11, \"User-ID\": 45797, \"precision\": 0.0, \"recall\": 0.0}, {\"count\": 4, \"cutoff\": 16, \"User-ID\": 45797, \"precision\": 0.0, \"recall\": 0.0}, {\"count\": 4, \"cutoff\": 21, \"User-ID\": 45797, \"precision\": 0.0, \"recall\": 0.0}, {\"count\": 4, \"cutoff\": 26, \"User-ID\": 45797, \"precision\": 0.0, \"recall\": 0.0}, {\"count\": 4, \"cutoff\": 31, \"User-ID\": 45797, \"precision\": 0.0, \"recall\": 0.0}, {\"count\": 4, \"cutoff\": 36, \"User-ID\": 45797, \"precision\": 0.0, \"recall\": 0.0}, {\"count\": 4, \"cutoff\": 41, \"User-ID\": 45797, \"precision\": 0.0, \"recall\": 0.0}, {\"count\": 4, \"cutoff\": 46, \"User-ID\": 45797, \"precision\": 0.0, \"recall\": 0.0}, {\"count\": 2, \"cutoff\": 1, \"User-ID\": 47668, \"precision\": 0.0, \"recall\": 0.0}, {\"count\": 2, \"cutoff\": 2, \"User-ID\": 47668, \"precision\": 0.0, \"recall\": 0.0}, {\"count\": 2, \"cutoff\": 3, \"User-ID\": 47668, \"precision\": 0.0, \"recall\": 0.0}, {\"count\": 2, \"cutoff\": 4, \"User-ID\": 47668, \"precision\": 0.0, \"recall\": 0.0}, {\"count\": 2, \"cutoff\": 5, \"User-ID\": 47668, \"precision\": 0.0, \"recall\": 0.0}, {\"count\": 2, \"cutoff\": 6, \"User-ID\": 47668, \"precision\": 0.0, \"recall\": 0.0}, {\"count\": 2, \"cutoff\": 7, \"User-ID\": 47668, \"precision\": 0.0, \"recall\": 0.0}, {\"count\": 2, \"cutoff\": 8, \"User-ID\": 47668, \"precision\": 0.0, \"recall\": 0.0}, {\"count\": 2, \"cutoff\": 9, \"User-ID\": 47668, \"precision\": 0.0, \"recall\": 0.0}, {\"count\": 2, \"cutoff\": 10, \"User-ID\": 47668, \"precision\": 0.0, \"recall\": 0.0}, {\"count\": 2, \"cutoff\": 11, \"User-ID\": 47668, \"precision\": 0.0, \"recall\": 0.0}, {\"count\": 2, \"cutoff\": 16, \"User-ID\": 47668, \"precision\": 0.0, \"recall\": 0.0}, {\"count\": 2, \"cutoff\": 21, \"User-ID\": 47668, \"precision\": 0.0, \"recall\": 0.0}, {\"count\": 2, \"cutoff\": 26, \"User-ID\": 47668, \"precision\": 0.0, \"recall\": 0.0}, {\"count\": 2, \"cutoff\": 31, \"User-ID\": 47668, \"precision\": 0.03225806451612903, \"recall\": 0.5}, {\"count\": 2, \"cutoff\": 36, \"User-ID\": 47668, \"precision\": 0.027777777777777776, \"recall\": 0.5}, {\"count\": 2, \"cutoff\": 41, \"User-ID\": 47668, \"precision\": 0.024390243902439025, \"recall\": 0.5}, {\"count\": 2, \"cutoff\": 46, \"User-ID\": 47668, \"precision\": 0.021739130434782608, \"recall\": 0.5}, {\"count\": 30, \"cutoff\": 1, \"User-ID\": 49076, \"precision\": 1.0, \"recall\": 0.03333333333333333}, {\"count\": 30, \"cutoff\": 2, \"User-ID\": 49076, \"precision\": 1.0, \"recall\": 0.06666666666666667}, {\"count\": 30, \"cutoff\": 3, \"User-ID\": 49076, \"precision\": 1.0, \"recall\": 0.1}, {\"count\": 30, \"cutoff\": 4, \"User-ID\": 49076, \"precision\": 1.0, \"recall\": 0.13333333333333333}, {\"count\": 30, \"cutoff\": 5, \"User-ID\": 49076, \"precision\": 1.0, \"recall\": 0.16666666666666666}, {\"count\": 30, \"cutoff\": 6, \"User-ID\": 49076, \"precision\": 1.0, \"recall\": 0.2}, {\"count\": 30, \"cutoff\": 7, \"User-ID\": 49076, \"precision\": 0.8571428571428571, \"recall\": 0.2}, {\"count\": 30, \"cutoff\": 8, \"User-ID\": 49076, \"precision\": 0.875, \"recall\": 0.23333333333333334}, {\"count\": 30, \"cutoff\": 9, \"User-ID\": 49076, \"precision\": 0.8888888888888888, \"recall\": 0.26666666666666666}, {\"count\": 30, \"cutoff\": 10, \"User-ID\": 49076, \"precision\": 0.9, \"recall\": 0.3}, {\"count\": 30, \"cutoff\": 11, \"User-ID\": 49076, \"precision\": 0.9090909090909091, \"recall\": 0.3333333333333333}, {\"count\": 30, \"cutoff\": 16, \"User-ID\": 49076, \"precision\": 0.8125, \"recall\": 0.43333333333333335}, {\"count\": 30, \"cutoff\": 21, \"User-ID\": 49076, \"precision\": 0.7142857142857143, \"recall\": 0.5}, {\"count\": 30, \"cutoff\": 26, \"User-ID\": 49076, \"precision\": 0.7307692307692307, \"recall\": 0.6333333333333333}, {\"count\": 30, \"cutoff\": 31, \"User-ID\": 49076, \"precision\": 0.7096774193548387, \"recall\": 0.7333333333333333}, {\"count\": 30, \"cutoff\": 36, \"User-ID\": 49076, \"precision\": 0.7222222222222222, \"recall\": 0.8666666666666667}, {\"count\": 30, \"cutoff\": 41, \"User-ID\": 49076, \"precision\": 0.7073170731707317, \"recall\": 0.9666666666666667}, {\"count\": 30, \"cutoff\": 46, \"User-ID\": 49076, \"precision\": 0.7142857142857143, \"recall\": 1.0}, {\"count\": 3, \"cutoff\": 1, \"User-ID\": 49737, \"precision\": 0.0, \"recall\": 0.0}, {\"count\": 3, \"cutoff\": 2, \"User-ID\": 49737, \"precision\": 0.0, \"recall\": 0.0}, {\"count\": 3, \"cutoff\": 3, \"User-ID\": 49737, \"precision\": 0.0, \"recall\": 0.0}, {\"count\": 3, \"cutoff\": 4, \"User-ID\": 49737, \"precision\": 0.0, \"recall\": 0.0}, {\"count\": 3, \"cutoff\": 5, \"User-ID\": 49737, \"precision\": 0.0, \"recall\": 0.0}, {\"count\": 3, \"cutoff\": 6, \"User-ID\": 49737, \"precision\": 0.0, \"recall\": 0.0}, {\"count\": 3, \"cutoff\": 7, \"User-ID\": 49737, \"precision\": 0.0, \"recall\": 0.0}, {\"count\": 3, \"cutoff\": 8, \"User-ID\": 49737, \"precision\": 0.0, \"recall\": 0.0}, {\"count\": 3, \"cutoff\": 9, \"User-ID\": 49737, \"precision\": 0.0, \"recall\": 0.0}, {\"count\": 3, \"cutoff\": 10, \"User-ID\": 49737, \"precision\": 0.0, \"recall\": 0.0}, {\"count\": 3, \"cutoff\": 11, \"User-ID\": 49737, \"precision\": 0.0, \"recall\": 0.0}, {\"count\": 3, \"cutoff\": 16, \"User-ID\": 49737, \"precision\": 0.0, \"recall\": 0.0}, {\"count\": 3, \"cutoff\": 21, \"User-ID\": 49737, \"precision\": 0.0, \"recall\": 0.0}, {\"count\": 3, \"cutoff\": 26, \"User-ID\": 49737, \"precision\": 0.0, \"recall\": 0.0}, {\"count\": 3, \"cutoff\": 31, \"User-ID\": 49737, \"precision\": 0.03225806451612903, \"recall\": 0.3333333333333333}, {\"count\": 3, \"cutoff\": 36, \"User-ID\": 49737, \"precision\": 0.027777777777777776, \"recall\": 0.3333333333333333}, {\"count\": 3, \"cutoff\": 41, \"User-ID\": 49737, \"precision\": 0.024390243902439025, \"recall\": 0.3333333333333333}, {\"count\": 3, \"cutoff\": 46, \"User-ID\": 49737, \"precision\": 0.021739130434782608, \"recall\": 0.3333333333333333}, {\"count\": 6, \"cutoff\": 1, \"User-ID\": 49960, \"precision\": 1.0, \"recall\": 0.16666666666666666}, {\"count\": 6, \"cutoff\": 2, \"User-ID\": 49960, \"precision\": 1.0, \"recall\": 0.3333333333333333}, {\"count\": 6, \"cutoff\": 3, \"User-ID\": 49960, \"precision\": 0.6666666666666666, \"recall\": 0.3333333333333333}, {\"count\": 6, \"cutoff\": 4, \"User-ID\": 49960, \"precision\": 0.5, \"recall\": 0.3333333333333333}, {\"count\": 6, \"cutoff\": 5, \"User-ID\": 49960, \"precision\": 0.4, \"recall\": 0.3333333333333333}, {\"count\": 6, \"cutoff\": 6, \"User-ID\": 49960, \"precision\": 0.3333333333333333, \"recall\": 0.3333333333333333}, {\"count\": 6, \"cutoff\": 7, \"User-ID\": 49960, \"precision\": 0.2857142857142857, \"recall\": 0.3333333333333333}, {\"count\": 6, \"cutoff\": 8, \"User-ID\": 49960, \"precision\": 0.25, \"recall\": 0.3333333333333333}, {\"count\": 6, \"cutoff\": 9, \"User-ID\": 49960, \"precision\": 0.2222222222222222, \"recall\": 0.3333333333333333}, {\"count\": 6, \"cutoff\": 10, \"User-ID\": 49960, \"precision\": 0.2, \"recall\": 0.3333333333333333}, {\"count\": 6, \"cutoff\": 11, \"User-ID\": 49960, \"precision\": 0.18181818181818182, \"recall\": 0.3333333333333333}, {\"count\": 6, \"cutoff\": 16, \"User-ID\": 49960, \"precision\": 0.1875, \"recall\": 0.5}, {\"count\": 6, \"cutoff\": 21, \"User-ID\": 49960, \"precision\": 0.14285714285714285, \"recall\": 0.5}, {\"count\": 6, \"cutoff\": 26, \"User-ID\": 49960, \"precision\": 0.15384615384615385, \"recall\": 0.6666666666666666}, {\"count\": 6, \"cutoff\": 31, \"User-ID\": 49960, \"precision\": 0.12903225806451613, \"recall\": 0.6666666666666666}, {\"count\": 6, \"cutoff\": 36, \"User-ID\": 49960, \"precision\": 0.1111111111111111, \"recall\": 0.6666666666666666}, {\"count\": 6, \"cutoff\": 41, \"User-ID\": 49960, \"precision\": 0.0975609756097561, \"recall\": 0.6666666666666666}, {\"count\": 6, \"cutoff\": 46, \"User-ID\": 49960, \"precision\": 0.08695652173913043, \"recall\": 0.6666666666666666}, {\"count\": 1, \"cutoff\": 1, \"User-ID\": 49978, \"precision\": 0.0, \"recall\": 0.0}, {\"count\": 1, \"cutoff\": 2, \"User-ID\": 49978, \"precision\": 0.0, \"recall\": 0.0}, {\"count\": 1, \"cutoff\": 3, \"User-ID\": 49978, \"precision\": 0.0, \"recall\": 0.0}, {\"count\": 1, \"cutoff\": 4, \"User-ID\": 49978, \"precision\": 0.0, \"recall\": 0.0}, {\"count\": 1, \"cutoff\": 5, \"User-ID\": 49978, \"precision\": 0.0, \"recall\": 0.0}, {\"count\": 1, \"cutoff\": 6, \"User-ID\": 49978, \"precision\": 0.0, \"recall\": 0.0}, {\"count\": 1, \"cutoff\": 7, \"User-ID\": 49978, \"precision\": 0.0, \"recall\": 0.0}, {\"count\": 1, \"cutoff\": 8, \"User-ID\": 49978, \"precision\": 0.0, \"recall\": 0.0}, {\"count\": 1, \"cutoff\": 9, \"User-ID\": 49978, \"precision\": 0.0, \"recall\": 0.0}, {\"count\": 1, \"cutoff\": 10, \"User-ID\": 49978, \"precision\": 0.0, \"recall\": 0.0}, {\"count\": 1, \"cutoff\": 11, \"User-ID\": 49978, \"precision\": 0.0, \"recall\": 0.0}, {\"count\": 1, \"cutoff\": 16, \"User-ID\": 49978, \"precision\": 0.0, \"recall\": 0.0}, {\"count\": 1, \"cutoff\": 21, \"User-ID\": 49978, \"precision\": 0.0, \"recall\": 0.0}, {\"count\": 1, \"cutoff\": 26, \"User-ID\": 49978, \"precision\": 0.0, \"recall\": 0.0}, {\"count\": 1, \"cutoff\": 31, \"User-ID\": 49978, \"precision\": 0.0, \"recall\": 0.0}, {\"count\": 1, \"cutoff\": 36, \"User-ID\": 49978, \"precision\": 0.0, \"recall\": 0.0}, {\"count\": 1, \"cutoff\": 41, \"User-ID\": 49978, \"precision\": 0.0, \"recall\": 0.0}, {\"count\": 1, \"cutoff\": 46, \"User-ID\": 49978, \"precision\": 0.0, \"recall\": 0.0}, {\"count\": 21, \"cutoff\": 1, \"User-ID\": 50226, \"precision\": 1.0, \"recall\": 0.047619047619047616}, {\"count\": 21, \"cutoff\": 2, \"User-ID\": 50226, \"precision\": 1.0, \"recall\": 0.09523809523809523}, {\"count\": 21, \"cutoff\": 3, \"User-ID\": 50226, \"precision\": 1.0, \"recall\": 0.14285714285714285}, {\"count\": 21, \"cutoff\": 4, \"User-ID\": 50226, \"precision\": 1.0, \"recall\": 0.19047619047619047}, {\"count\": 21, \"cutoff\": 5, \"User-ID\": 50226, \"precision\": 1.0, \"recall\": 0.23809523809523808}, {\"count\": 21, \"cutoff\": 6, \"User-ID\": 50226, \"precision\": 0.8333333333333334, \"recall\": 0.23809523809523808}, {\"count\": 21, \"cutoff\": 7, \"User-ID\": 50226, \"precision\": 0.8571428571428571, \"recall\": 0.2857142857142857}, {\"count\": 21, \"cutoff\": 8, \"User-ID\": 50226, \"precision\": 0.75, \"recall\": 0.2857142857142857}, {\"count\": 21, \"cutoff\": 9, \"User-ID\": 50226, \"precision\": 0.7777777777777778, \"recall\": 0.3333333333333333}, {\"count\": 21, \"cutoff\": 10, \"User-ID\": 50226, \"precision\": 0.7, \"recall\": 0.3333333333333333}, {\"count\": 21, \"cutoff\": 11, \"User-ID\": 50226, \"precision\": 0.7272727272727273, \"recall\": 0.38095238095238093}, {\"count\": 21, \"cutoff\": 16, \"User-ID\": 50226, \"precision\": 0.625, \"recall\": 0.47619047619047616}, {\"count\": 21, \"cutoff\": 21, \"User-ID\": 50226, \"precision\": 0.6666666666666666, \"recall\": 0.6666666666666666}, {\"count\": 21, \"cutoff\": 26, \"User-ID\": 50226, \"precision\": 0.6153846153846154, \"recall\": 0.7619047619047619}, {\"count\": 21, \"cutoff\": 31, \"User-ID\": 50226, \"precision\": 0.6451612903225806, \"recall\": 0.9523809523809523}, {\"count\": 21, \"cutoff\": 36, \"User-ID\": 50226, \"precision\": 0.6363636363636364, \"recall\": 1.0}, {\"count\": 21, \"cutoff\": 41, \"User-ID\": 50226, \"precision\": 0.6363636363636364, \"recall\": 1.0}, {\"count\": 21, \"cutoff\": 46, \"User-ID\": 50226, \"precision\": 0.6363636363636364, \"recall\": 1.0}, {\"count\": 12, \"cutoff\": 1, \"User-ID\": 51499, \"precision\": 1.0, \"recall\": 0.08333333333333333}, {\"count\": 12, \"cutoff\": 2, \"User-ID\": 51499, \"precision\": 1.0, \"recall\": 0.16666666666666666}, {\"count\": 12, \"cutoff\": 3, \"User-ID\": 51499, \"precision\": 0.6666666666666666, \"recall\": 0.16666666666666666}, {\"count\": 12, \"cutoff\": 4, \"User-ID\": 51499, \"precision\": 0.5, \"recall\": 0.16666666666666666}, {\"count\": 12, \"cutoff\": 5, \"User-ID\": 51499, \"precision\": 0.6, \"recall\": 0.25}, {\"count\": 12, \"cutoff\": 6, \"User-ID\": 51499, \"precision\": 0.5, \"recall\": 0.25}, {\"count\": 12, \"cutoff\": 7, \"User-ID\": 51499, \"precision\": 0.5714285714285714, \"recall\": 0.3333333333333333}, {\"count\": 12, \"cutoff\": 8, \"User-ID\": 51499, \"precision\": 0.625, \"recall\": 0.4166666666666667}, {\"count\": 12, \"cutoff\": 9, \"User-ID\": 51499, \"precision\": 0.5555555555555556, \"recall\": 0.4166666666666667}, {\"count\": 12, \"cutoff\": 10, \"User-ID\": 51499, \"precision\": 0.6, \"recall\": 0.5}, {\"count\": 12, \"cutoff\": 11, \"User-ID\": 51499, \"precision\": 0.6363636363636364, \"recall\": 0.5833333333333334}, {\"count\": 12, \"cutoff\": 16, \"User-ID\": 51499, \"precision\": 0.625, \"recall\": 0.8333333333333334}, {\"count\": 12, \"cutoff\": 21, \"User-ID\": 51499, \"precision\": 0.47619047619047616, \"recall\": 0.8333333333333334}, {\"count\": 12, \"cutoff\": 26, \"User-ID\": 51499, \"precision\": 0.38461538461538464, \"recall\": 0.8333333333333334}, {\"count\": 12, \"cutoff\": 31, \"User-ID\": 51499, \"precision\": 0.3548387096774194, \"recall\": 0.9166666666666666}, {\"count\": 12, \"cutoff\": 36, \"User-ID\": 51499, \"precision\": 0.3055555555555556, \"recall\": 0.9166666666666666}, {\"count\": 12, \"cutoff\": 41, \"User-ID\": 51499, \"precision\": 0.2682926829268293, \"recall\": 0.9166666666666666}, {\"count\": 12, \"cutoff\": 46, \"User-ID\": 51499, \"precision\": 0.2391304347826087, \"recall\": 0.9166666666666666}, {\"count\": 4, \"cutoff\": 1, \"User-ID\": 51898, \"precision\": 0.0, \"recall\": 0.0}, {\"count\": 4, \"cutoff\": 2, \"User-ID\": 51898, \"precision\": 0.0, \"recall\": 0.0}, {\"count\": 4, \"cutoff\": 3, \"User-ID\": 51898, \"precision\": 0.0, \"recall\": 0.0}, {\"count\": 4, \"cutoff\": 4, \"User-ID\": 51898, \"precision\": 0.25, \"recall\": 0.25}, {\"count\": 4, \"cutoff\": 5, \"User-ID\": 51898, \"precision\": 0.2, \"recall\": 0.25}, {\"count\": 4, \"cutoff\": 6, \"User-ID\": 51898, \"precision\": 0.16666666666666666, \"recall\": 0.25}, {\"count\": 4, \"cutoff\": 7, \"User-ID\": 51898, \"precision\": 0.14285714285714285, \"recall\": 0.25}, {\"count\": 4, \"cutoff\": 8, \"User-ID\": 51898, \"precision\": 0.125, \"recall\": 0.25}, {\"count\": 4, \"cutoff\": 9, \"User-ID\": 51898, \"precision\": 0.1111111111111111, \"recall\": 0.25}, {\"count\": 4, \"cutoff\": 10, \"User-ID\": 51898, \"precision\": 0.1, \"recall\": 0.25}, {\"count\": 4, \"cutoff\": 11, \"User-ID\": 51898, \"precision\": 0.09090909090909091, \"recall\": 0.25}, {\"count\": 4, \"cutoff\": 16, \"User-ID\": 51898, \"precision\": 0.0625, \"recall\": 0.25}, {\"count\": 4, \"cutoff\": 21, \"User-ID\": 51898, \"precision\": 0.047619047619047616, \"recall\": 0.25}, {\"count\": 4, \"cutoff\": 26, \"User-ID\": 51898, \"precision\": 0.038461538461538464, \"recall\": 0.25}, {\"count\": 4, \"cutoff\": 31, \"User-ID\": 51898, \"precision\": 0.03225806451612903, \"recall\": 0.25}, {\"count\": 4, \"cutoff\": 36, \"User-ID\": 51898, \"precision\": 0.027777777777777776, \"recall\": 0.25}, {\"count\": 4, \"cutoff\": 41, \"User-ID\": 51898, \"precision\": 0.024390243902439025, \"recall\": 0.25}, {\"count\": 4, \"cutoff\": 46, \"User-ID\": 51898, \"precision\": 0.021739130434782608, \"recall\": 0.25}, {\"count\": 5, \"cutoff\": 1, \"User-ID\": 53846, \"precision\": 1.0, \"recall\": 0.2}, {\"count\": 5, \"cutoff\": 2, \"User-ID\": 53846, \"precision\": 0.5, \"recall\": 0.2}, {\"count\": 5, \"cutoff\": 3, \"User-ID\": 53846, \"precision\": 0.3333333333333333, \"recall\": 0.2}, {\"count\": 5, \"cutoff\": 4, \"User-ID\": 53846, \"precision\": 0.5, \"recall\": 0.4}, {\"count\": 5, \"cutoff\": 5, \"User-ID\": 53846, \"precision\": 0.4, \"recall\": 0.4}, {\"count\": 5, \"cutoff\": 6, \"User-ID\": 53846, \"precision\": 0.3333333333333333, \"recall\": 0.4}, {\"count\": 5, \"cutoff\": 7, \"User-ID\": 53846, \"precision\": 0.2857142857142857, \"recall\": 0.4}, {\"count\": 5, \"cutoff\": 8, \"User-ID\": 53846, \"precision\": 0.25, \"recall\": 0.4}, {\"count\": 5, \"cutoff\": 9, \"User-ID\": 53846, \"precision\": 0.2222222222222222, \"recall\": 0.4}, {\"count\": 5, \"cutoff\": 10, \"User-ID\": 53846, \"precision\": 0.2, \"recall\": 0.4}, {\"count\": 5, \"cutoff\": 11, \"User-ID\": 53846, \"precision\": 0.18181818181818182, \"recall\": 0.4}, {\"count\": 5, \"cutoff\": 16, \"User-ID\": 53846, \"precision\": 0.125, \"recall\": 0.4}, {\"count\": 5, \"cutoff\": 21, \"User-ID\": 53846, \"precision\": 0.09523809523809523, \"recall\": 0.4}, {\"count\": 5, \"cutoff\": 26, \"User-ID\": 53846, \"precision\": 0.07692307692307693, \"recall\": 0.4}, {\"count\": 5, \"cutoff\": 31, \"User-ID\": 53846, \"precision\": 0.06451612903225806, \"recall\": 0.4}, {\"count\": 5, \"cutoff\": 36, \"User-ID\": 53846, \"precision\": 0.05555555555555555, \"recall\": 0.4}, {\"count\": 5, \"cutoff\": 41, \"User-ID\": 53846, \"precision\": 0.04878048780487805, \"recall\": 0.4}, {\"count\": 5, \"cutoff\": 46, \"User-ID\": 53846, \"precision\": 0.043478260869565216, \"recall\": 0.4}, {\"count\": 1, \"cutoff\": 1, \"User-ID\": 53916, \"precision\": 0.0, \"recall\": 0.0}, {\"count\": 1, \"cutoff\": 2, \"User-ID\": 53916, \"precision\": 0.0, \"recall\": 0.0}, {\"count\": 1, \"cutoff\": 3, \"User-ID\": 53916, \"precision\": 0.0, \"recall\": 0.0}, {\"count\": 1, \"cutoff\": 4, \"User-ID\": 53916, \"precision\": 0.0, \"recall\": 0.0}, {\"count\": 1, \"cutoff\": 5, \"User-ID\": 53916, \"precision\": 0.0, \"recall\": 0.0}, {\"count\": 1, \"cutoff\": 6, \"User-ID\": 53916, \"precision\": 0.0, \"recall\": 0.0}, {\"count\": 1, \"cutoff\": 7, \"User-ID\": 53916, \"precision\": 0.0, \"recall\": 0.0}, {\"count\": 1, \"cutoff\": 8, \"User-ID\": 53916, \"precision\": 0.0, \"recall\": 0.0}, {\"count\": 1, \"cutoff\": 9, \"User-ID\": 53916, \"precision\": 0.0, \"recall\": 0.0}, {\"count\": 1, \"cutoff\": 10, \"User-ID\": 53916, \"precision\": 0.0, \"recall\": 0.0}, {\"count\": 1, \"cutoff\": 11, \"User-ID\": 53916, \"precision\": 0.0, \"recall\": 0.0}, {\"count\": 1, \"cutoff\": 16, \"User-ID\": 53916, \"precision\": 0.0, \"recall\": 0.0}, {\"count\": 1, \"cutoff\": 21, \"User-ID\": 53916, \"precision\": 0.0, \"recall\": 0.0}, {\"count\": 1, \"cutoff\": 26, \"User-ID\": 53916, \"precision\": 0.0, \"recall\": 0.0}, {\"count\": 1, \"cutoff\": 31, \"User-ID\": 53916, \"precision\": 0.0, \"recall\": 0.0}, {\"count\": 1, \"cutoff\": 36, \"User-ID\": 53916, \"precision\": 0.0, \"recall\": 0.0}, {\"count\": 1, \"cutoff\": 41, \"User-ID\": 53916, \"precision\": 0.0, \"recall\": 0.0}, {\"count\": 1, \"cutoff\": 46, \"User-ID\": 53916, \"precision\": 0.0, \"recall\": 0.0}, {\"count\": 3, \"cutoff\": 1, \"User-ID\": 55321, \"precision\": 0.0, \"recall\": 0.0}, {\"count\": 3, \"cutoff\": 2, \"User-ID\": 55321, \"precision\": 0.0, \"recall\": 0.0}, {\"count\": 3, \"cutoff\": 3, \"User-ID\": 55321, \"precision\": 0.0, \"recall\": 0.0}, {\"count\": 3, \"cutoff\": 4, \"User-ID\": 55321, \"precision\": 0.0, \"recall\": 0.0}, {\"count\": 3, \"cutoff\": 5, \"User-ID\": 55321, \"precision\": 0.0, \"recall\": 0.0}, {\"count\": 3, \"cutoff\": 6, \"User-ID\": 55321, \"precision\": 0.0, \"recall\": 0.0}, {\"count\": 3, \"cutoff\": 7, \"User-ID\": 55321, \"precision\": 0.0, \"recall\": 0.0}, {\"count\": 3, \"cutoff\": 8, \"User-ID\": 55321, \"precision\": 0.0, \"recall\": 0.0}, {\"count\": 3, \"cutoff\": 9, \"User-ID\": 55321, \"precision\": 0.0, \"recall\": 0.0}, {\"count\": 3, \"cutoff\": 10, \"User-ID\": 55321, \"precision\": 0.0, \"recall\": 0.0}, {\"count\": 3, \"cutoff\": 11, \"User-ID\": 55321, \"precision\": 0.0, \"recall\": 0.0}, {\"count\": 3, \"cutoff\": 16, \"User-ID\": 55321, \"precision\": 0.0, \"recall\": 0.0}, {\"count\": 3, \"cutoff\": 21, \"User-ID\": 55321, \"precision\": 0.0, \"recall\": 0.0}, {\"count\": 3, \"cutoff\": 26, \"User-ID\": 55321, \"precision\": 0.0, \"recall\": 0.0}, {\"count\": 3, \"cutoff\": 31, \"User-ID\": 55321, \"precision\": 0.0, \"recall\": 0.0}, {\"count\": 3, \"cutoff\": 36, \"User-ID\": 55321, \"precision\": 0.0, \"recall\": 0.0}, {\"count\": 3, \"cutoff\": 41, \"User-ID\": 55321, \"precision\": 0.0, \"recall\": 0.0}, {\"count\": 3, \"cutoff\": 46, \"User-ID\": 55321, \"precision\": 0.0, \"recall\": 0.0}, {\"count\": 1, \"cutoff\": 1, \"User-ID\": 55558, \"precision\": 0.0, \"recall\": 0.0}, {\"count\": 1, \"cutoff\": 2, \"User-ID\": 55558, \"precision\": 0.0, \"recall\": 0.0}, {\"count\": 1, \"cutoff\": 3, \"User-ID\": 55558, \"precision\": 0.0, \"recall\": 0.0}, {\"count\": 1, \"cutoff\": 4, \"User-ID\": 55558, \"precision\": 0.0, \"recall\": 0.0}, {\"count\": 1, \"cutoff\": 5, \"User-ID\": 55558, \"precision\": 0.0, \"recall\": 0.0}, {\"count\": 1, \"cutoff\": 6, \"User-ID\": 55558, \"precision\": 0.0, \"recall\": 0.0}, {\"count\": 1, \"cutoff\": 7, \"User-ID\": 55558, \"precision\": 0.0, \"recall\": 0.0}, {\"count\": 1, \"cutoff\": 8, \"User-ID\": 55558, \"precision\": 0.0, \"recall\": 0.0}, {\"count\": 1, \"cutoff\": 9, \"User-ID\": 55558, \"precision\": 0.0, \"recall\": 0.0}, {\"count\": 1, \"cutoff\": 10, \"User-ID\": 55558, \"precision\": 0.0, \"recall\": 0.0}, {\"count\": 1, \"cutoff\": 11, \"User-ID\": 55558, \"precision\": 0.0, \"recall\": 0.0}, {\"count\": 1, \"cutoff\": 16, \"User-ID\": 55558, \"precision\": 0.0, \"recall\": 0.0}, {\"count\": 1, \"cutoff\": 21, \"User-ID\": 55558, \"precision\": 0.0, \"recall\": 0.0}, {\"count\": 1, \"cutoff\": 26, \"User-ID\": 55558, \"precision\": 0.0, \"recall\": 0.0}, {\"count\": 1, \"cutoff\": 31, \"User-ID\": 55558, \"precision\": 0.0, \"recall\": 0.0}, {\"count\": 1, \"cutoff\": 36, \"User-ID\": 55558, \"precision\": 0.0, \"recall\": 0.0}, {\"count\": 1, \"cutoff\": 41, \"User-ID\": 55558, \"precision\": 0.0, \"recall\": 0.0}, {\"count\": 1, \"cutoff\": 46, \"User-ID\": 55558, \"precision\": 0.0, \"recall\": 0.0}, {\"count\": 5, \"cutoff\": 1, \"User-ID\": 55970, \"precision\": 1.0, \"recall\": 0.2}, {\"count\": 5, \"cutoff\": 2, \"User-ID\": 55970, \"precision\": 0.5, \"recall\": 0.2}, {\"count\": 5, \"cutoff\": 3, \"User-ID\": 55970, \"precision\": 0.3333333333333333, \"recall\": 0.2}, {\"count\": 5, \"cutoff\": 4, \"User-ID\": 55970, \"precision\": 0.5, \"recall\": 0.4}, {\"count\": 5, \"cutoff\": 5, \"User-ID\": 55970, \"precision\": 0.4, \"recall\": 0.4}, {\"count\": 5, \"cutoff\": 6, \"User-ID\": 55970, \"precision\": 0.3333333333333333, \"recall\": 0.4}, {\"count\": 5, \"cutoff\": 7, \"User-ID\": 55970, \"precision\": 0.42857142857142855, \"recall\": 0.6}, {\"count\": 5, \"cutoff\": 8, \"User-ID\": 55970, \"precision\": 0.375, \"recall\": 0.6}, {\"count\": 5, \"cutoff\": 9, \"User-ID\": 55970, \"precision\": 0.3333333333333333, \"recall\": 0.6}, {\"count\": 5, \"cutoff\": 10, \"User-ID\": 55970, \"precision\": 0.3, \"recall\": 0.6}, {\"count\": 5, \"cutoff\": 11, \"User-ID\": 55970, \"precision\": 0.2727272727272727, \"recall\": 0.6}, {\"count\": 5, \"cutoff\": 16, \"User-ID\": 55970, \"precision\": 0.25, \"recall\": 0.8}, {\"count\": 5, \"cutoff\": 21, \"User-ID\": 55970, \"precision\": 0.19047619047619047, \"recall\": 0.8}, {\"count\": 5, \"cutoff\": 26, \"User-ID\": 55970, \"precision\": 0.19230769230769232, \"recall\": 1.0}, {\"count\": 5, \"cutoff\": 31, \"User-ID\": 55970, \"precision\": 0.16129032258064516, \"recall\": 1.0}, {\"count\": 5, \"cutoff\": 36, \"User-ID\": 55970, \"precision\": 0.1388888888888889, \"recall\": 1.0}, {\"count\": 5, \"cutoff\": 41, \"User-ID\": 55970, \"precision\": 0.12195121951219512, \"recall\": 1.0}, {\"count\": 5, \"cutoff\": 46, \"User-ID\": 55970, \"precision\": 0.10869565217391304, \"recall\": 1.0}, {\"count\": 8, \"cutoff\": 1, \"User-ID\": 57618, \"precision\": 1.0, \"recall\": 0.125}, {\"count\": 8, \"cutoff\": 2, \"User-ID\": 57618, \"precision\": 1.0, \"recall\": 0.25}, {\"count\": 8, \"cutoff\": 3, \"User-ID\": 57618, \"precision\": 0.6666666666666666, \"recall\": 0.25}, {\"count\": 8, \"cutoff\": 4, \"User-ID\": 57618, \"precision\": 0.5, \"recall\": 0.25}, {\"count\": 8, \"cutoff\": 5, \"User-ID\": 57618, \"precision\": 0.4, \"recall\": 0.25}, {\"count\": 8, \"cutoff\": 6, \"User-ID\": 57618, \"precision\": 0.3333333333333333, \"recall\": 0.25}, {\"count\": 8, \"cutoff\": 7, \"User-ID\": 57618, \"precision\": 0.2857142857142857, \"recall\": 0.25}, {\"count\": 8, \"cutoff\": 8, \"User-ID\": 57618, \"precision\": 0.25, \"recall\": 0.25}, {\"count\": 8, \"cutoff\": 9, \"User-ID\": 57618, \"precision\": 0.3333333333333333, \"recall\": 0.375}, {\"count\": 8, \"cutoff\": 10, \"User-ID\": 57618, \"precision\": 0.3, \"recall\": 0.375}, {\"count\": 8, \"cutoff\": 11, \"User-ID\": 57618, \"precision\": 0.2727272727272727, \"recall\": 0.375}, {\"count\": 8, \"cutoff\": 16, \"User-ID\": 57618, \"precision\": 0.1875, \"recall\": 0.375}, {\"count\": 8, \"cutoff\": 21, \"User-ID\": 57618, \"precision\": 0.19047619047619047, \"recall\": 0.5}, {\"count\": 8, \"cutoff\": 26, \"User-ID\": 57618, \"precision\": 0.15384615384615385, \"recall\": 0.5}, {\"count\": 8, \"cutoff\": 31, \"User-ID\": 57618, \"precision\": 0.12903225806451613, \"recall\": 0.5}, {\"count\": 8, \"cutoff\": 36, \"User-ID\": 57618, \"precision\": 0.16666666666666666, \"recall\": 0.75}, {\"count\": 8, \"cutoff\": 41, \"User-ID\": 57618, \"precision\": 0.17073170731707318, \"recall\": 0.875}, {\"count\": 8, \"cutoff\": 46, \"User-ID\": 57618, \"precision\": 0.15217391304347827, \"recall\": 0.875}, {\"count\": 5, \"cutoff\": 1, \"User-ID\": 57975, \"precision\": 0.0, \"recall\": 0.0}, {\"count\": 5, \"cutoff\": 2, \"User-ID\": 57975, \"precision\": 0.0, \"recall\": 0.0}, {\"count\": 5, \"cutoff\": 3, \"User-ID\": 57975, \"precision\": 0.3333333333333333, \"recall\": 0.2}, {\"count\": 5, \"cutoff\": 4, \"User-ID\": 57975, \"precision\": 0.25, \"recall\": 0.2}, {\"count\": 5, \"cutoff\": 5, \"User-ID\": 57975, \"precision\": 0.2, \"recall\": 0.2}, {\"count\": 5, \"cutoff\": 6, \"User-ID\": 57975, \"precision\": 0.16666666666666666, \"recall\": 0.2}, {\"count\": 5, \"cutoff\": 7, \"User-ID\": 57975, \"precision\": 0.14285714285714285, \"recall\": 0.2}, {\"count\": 5, \"cutoff\": 8, \"User-ID\": 57975, \"precision\": 0.125, \"recall\": 0.2}, {\"count\": 5, \"cutoff\": 9, \"User-ID\": 57975, \"precision\": 0.1111111111111111, \"recall\": 0.2}, {\"count\": 5, \"cutoff\": 10, \"User-ID\": 57975, \"precision\": 0.1, \"recall\": 0.2}, {\"count\": 5, \"cutoff\": 11, \"User-ID\": 57975, \"precision\": 0.09090909090909091, \"recall\": 0.2}, {\"count\": 5, \"cutoff\": 16, \"User-ID\": 57975, \"precision\": 0.0625, \"recall\": 0.2}, {\"count\": 5, \"cutoff\": 21, \"User-ID\": 57975, \"precision\": 0.047619047619047616, \"recall\": 0.2}, {\"count\": 5, \"cutoff\": 26, \"User-ID\": 57975, \"precision\": 0.038461538461538464, \"recall\": 0.2}, {\"count\": 5, \"cutoff\": 31, \"User-ID\": 57975, \"precision\": 0.03225806451612903, \"recall\": 0.2}, {\"count\": 5, \"cutoff\": 36, \"User-ID\": 57975, \"precision\": 0.027777777777777776, \"recall\": 0.2}, {\"count\": 5, \"cutoff\": 41, \"User-ID\": 57975, \"precision\": 0.024390243902439025, \"recall\": 0.2}, {\"count\": 5, \"cutoff\": 46, \"User-ID\": 57975, \"precision\": 0.021739130434782608, \"recall\": 0.2}, {\"count\": 1, \"cutoff\": 1, \"User-ID\": 58409, \"precision\": 0.0, \"recall\": 0.0}, {\"count\": 1, \"cutoff\": 2, \"User-ID\": 58409, \"precision\": 0.0, \"recall\": 0.0}, {\"count\": 1, \"cutoff\": 3, \"User-ID\": 58409, \"precision\": 0.0, \"recall\": 0.0}, {\"count\": 1, \"cutoff\": 4, \"User-ID\": 58409, \"precision\": 0.0, \"recall\": 0.0}, {\"count\": 1, \"cutoff\": 5, \"User-ID\": 58409, \"precision\": 0.0, \"recall\": 0.0}, {\"count\": 1, \"cutoff\": 6, \"User-ID\": 58409, \"precision\": 0.0, \"recall\": 0.0}, {\"count\": 1, \"cutoff\": 7, \"User-ID\": 58409, \"precision\": 0.0, \"recall\": 0.0}, {\"count\": 1, \"cutoff\": 8, \"User-ID\": 58409, \"precision\": 0.0, \"recall\": 0.0}, {\"count\": 1, \"cutoff\": 9, \"User-ID\": 58409, \"precision\": 0.0, \"recall\": 0.0}, {\"count\": 1, \"cutoff\": 10, \"User-ID\": 58409, \"precision\": 0.0, \"recall\": 0.0}, {\"count\": 1, \"cutoff\": 11, \"User-ID\": 58409, \"precision\": 0.0, \"recall\": 0.0}, {\"count\": 1, \"cutoff\": 16, \"User-ID\": 58409, \"precision\": 0.0, \"recall\": 0.0}, {\"count\": 1, \"cutoff\": 21, \"User-ID\": 58409, \"precision\": 0.0, \"recall\": 0.0}, {\"count\": 1, \"cutoff\": 26, \"User-ID\": 58409, \"precision\": 0.0, \"recall\": 0.0}, {\"count\": 1, \"cutoff\": 31, \"User-ID\": 58409, \"precision\": 0.0, \"recall\": 0.0}, {\"count\": 1, \"cutoff\": 36, \"User-ID\": 58409, \"precision\": 0.0, \"recall\": 0.0}, {\"count\": 1, \"cutoff\": 41, \"User-ID\": 58409, \"precision\": 0.0, \"recall\": 0.0}, {\"count\": 1, \"cutoff\": 46, \"User-ID\": 58409, \"precision\": 0.0, \"recall\": 0.0}, {\"count\": 9, \"cutoff\": 1, \"User-ID\": 59687, \"precision\": 1.0, \"recall\": 0.1111111111111111}, {\"count\": 9, \"cutoff\": 2, \"User-ID\": 59687, \"precision\": 0.5, \"recall\": 0.1111111111111111}, {\"count\": 9, \"cutoff\": 3, \"User-ID\": 59687, \"precision\": 0.6666666666666666, \"recall\": 0.2222222222222222}, {\"count\": 9, \"cutoff\": 4, \"User-ID\": 59687, \"precision\": 0.5, \"recall\": 0.2222222222222222}, {\"count\": 9, \"cutoff\": 5, \"User-ID\": 59687, \"precision\": 0.4, \"recall\": 0.2222222222222222}, {\"count\": 9, \"cutoff\": 6, \"User-ID\": 59687, \"precision\": 0.3333333333333333, \"recall\": 0.2222222222222222}, {\"count\": 9, \"cutoff\": 7, \"User-ID\": 59687, \"precision\": 0.2857142857142857, \"recall\": 0.2222222222222222}, {\"count\": 9, \"cutoff\": 8, \"User-ID\": 59687, \"precision\": 0.375, \"recall\": 0.3333333333333333}, {\"count\": 9, \"cutoff\": 9, \"User-ID\": 59687, \"precision\": 0.3333333333333333, \"recall\": 0.3333333333333333}, {\"count\": 9, \"cutoff\": 10, \"User-ID\": 59687, \"precision\": 0.3, \"recall\": 0.3333333333333333}, {\"count\": 9, \"cutoff\": 11, \"User-ID\": 59687, \"precision\": 0.2727272727272727, \"recall\": 0.3333333333333333}, {\"count\": 9, \"cutoff\": 16, \"User-ID\": 59687, \"precision\": 0.1875, \"recall\": 0.3333333333333333}, {\"count\": 9, \"cutoff\": 21, \"User-ID\": 59687, \"precision\": 0.19047619047619047, \"recall\": 0.4444444444444444}, {\"count\": 9, \"cutoff\": 26, \"User-ID\": 59687, \"precision\": 0.15384615384615385, \"recall\": 0.4444444444444444}, {\"count\": 9, \"cutoff\": 31, \"User-ID\": 59687, \"precision\": 0.16129032258064516, \"recall\": 0.5555555555555556}, {\"count\": 9, \"cutoff\": 36, \"User-ID\": 59687, \"precision\": 0.1388888888888889, \"recall\": 0.5555555555555556}, {\"count\": 9, \"cutoff\": 41, \"User-ID\": 59687, \"precision\": 0.12195121951219512, \"recall\": 0.5555555555555556}, {\"count\": 9, \"cutoff\": 46, \"User-ID\": 59687, \"precision\": 0.10869565217391304, \"recall\": 0.5555555555555556}, {\"count\": 3, \"cutoff\": 1, \"User-ID\": 61098, \"precision\": 0.0, \"recall\": 0.0}, {\"count\": 3, \"cutoff\": 2, \"User-ID\": 61098, \"precision\": 0.0, \"recall\": 0.0}, {\"count\": 3, \"cutoff\": 3, \"User-ID\": 61098, \"precision\": 0.0, \"recall\": 0.0}, {\"count\": 3, \"cutoff\": 4, \"User-ID\": 61098, \"precision\": 0.25, \"recall\": 0.3333333333333333}, {\"count\": 3, \"cutoff\": 5, \"User-ID\": 61098, \"precision\": 0.2, \"recall\": 0.3333333333333333}, {\"count\": 3, \"cutoff\": 6, \"User-ID\": 61098, \"precision\": 0.3333333333333333, \"recall\": 0.6666666666666666}, {\"count\": 3, \"cutoff\": 7, \"User-ID\": 61098, \"precision\": 0.2857142857142857, \"recall\": 0.6666666666666666}, {\"count\": 3, \"cutoff\": 8, \"User-ID\": 61098, \"precision\": 0.25, \"recall\": 0.6666666666666666}, {\"count\": 3, \"cutoff\": 9, \"User-ID\": 61098, \"precision\": 0.2222222222222222, \"recall\": 0.6666666666666666}, {\"count\": 3, \"cutoff\": 10, \"User-ID\": 61098, \"precision\": 0.2, \"recall\": 0.6666666666666666}, {\"count\": 3, \"cutoff\": 11, \"User-ID\": 61098, \"precision\": 0.18181818181818182, \"recall\": 0.6666666666666666}, {\"count\": 3, \"cutoff\": 16, \"User-ID\": 61098, \"precision\": 0.125, \"recall\": 0.6666666666666666}, {\"count\": 3, \"cutoff\": 21, \"User-ID\": 61098, \"precision\": 0.09523809523809523, \"recall\": 0.6666666666666666}, {\"count\": 3, \"cutoff\": 26, \"User-ID\": 61098, \"precision\": 0.07692307692307693, \"recall\": 0.6666666666666666}, {\"count\": 3, \"cutoff\": 31, \"User-ID\": 61098, \"precision\": 0.06451612903225806, \"recall\": 0.6666666666666666}, {\"count\": 3, \"cutoff\": 36, \"User-ID\": 61098, \"precision\": 0.05555555555555555, \"recall\": 0.6666666666666666}, {\"count\": 3, \"cutoff\": 41, \"User-ID\": 61098, \"precision\": 0.04878048780487805, \"recall\": 0.6666666666666666}, {\"count\": 3, \"cutoff\": 46, \"User-ID\": 61098, \"precision\": 0.043478260869565216, \"recall\": 0.6666666666666666}, {\"count\": 3, \"cutoff\": 1, \"User-ID\": 61709, \"precision\": 0.0, \"recall\": 0.0}, {\"count\": 3, \"cutoff\": 2, \"User-ID\": 61709, \"precision\": 0.5, \"recall\": 0.3333333333333333}, {\"count\": 3, \"cutoff\": 3, \"User-ID\": 61709, \"precision\": 0.3333333333333333, \"recall\": 0.3333333333333333}, {\"count\": 3, \"cutoff\": 4, \"User-ID\": 61709, \"precision\": 0.25, \"recall\": 0.3333333333333333}, {\"count\": 3, \"cutoff\": 5, \"User-ID\": 61709, \"precision\": 0.2, \"recall\": 0.3333333333333333}, {\"count\": 3, \"cutoff\": 6, \"User-ID\": 61709, \"precision\": 0.16666666666666666, \"recall\": 0.3333333333333333}, {\"count\": 3, \"cutoff\": 7, \"User-ID\": 61709, \"precision\": 0.14285714285714285, \"recall\": 0.3333333333333333}, {\"count\": 3, \"cutoff\": 8, \"User-ID\": 61709, \"precision\": 0.125, \"recall\": 0.3333333333333333}, {\"count\": 3, \"cutoff\": 9, \"User-ID\": 61709, \"precision\": 0.1111111111111111, \"recall\": 0.3333333333333333}, {\"count\": 3, \"cutoff\": 10, \"User-ID\": 61709, \"precision\": 0.1, \"recall\": 0.3333333333333333}, {\"count\": 3, \"cutoff\": 11, \"User-ID\": 61709, \"precision\": 0.18181818181818182, \"recall\": 0.6666666666666666}, {\"count\": 3, \"cutoff\": 16, \"User-ID\": 61709, \"precision\": 0.125, \"recall\": 0.6666666666666666}, {\"count\": 3, \"cutoff\": 21, \"User-ID\": 61709, \"precision\": 0.09523809523809523, \"recall\": 0.6666666666666666}, {\"count\": 3, \"cutoff\": 26, \"User-ID\": 61709, \"precision\": 0.07692307692307693, \"recall\": 0.6666666666666666}, {\"count\": 3, \"cutoff\": 31, \"User-ID\": 61709, \"precision\": 0.06451612903225806, \"recall\": 0.6666666666666666}, {\"count\": 3, \"cutoff\": 36, \"User-ID\": 61709, \"precision\": 0.05555555555555555, \"recall\": 0.6666666666666666}, {\"count\": 3, \"cutoff\": 41, \"User-ID\": 61709, \"precision\": 0.04878048780487805, \"recall\": 0.6666666666666666}, {\"count\": 3, \"cutoff\": 46, \"User-ID\": 61709, \"precision\": 0.043478260869565216, \"recall\": 0.6666666666666666}, {\"count\": 12, \"cutoff\": 1, \"User-ID\": 61809, \"precision\": 1.0, \"recall\": 0.08333333333333333}, {\"count\": 12, \"cutoff\": 2, \"User-ID\": 61809, \"precision\": 1.0, \"recall\": 0.16666666666666666}, {\"count\": 12, \"cutoff\": 3, \"User-ID\": 61809, \"precision\": 1.0, \"recall\": 0.25}, {\"count\": 12, \"cutoff\": 4, \"User-ID\": 61809, \"precision\": 0.75, \"recall\": 0.25}, {\"count\": 12, \"cutoff\": 5, \"User-ID\": 61809, \"precision\": 0.8, \"recall\": 0.3333333333333333}, {\"count\": 12, \"cutoff\": 6, \"User-ID\": 61809, \"precision\": 0.8333333333333334, \"recall\": 0.4166666666666667}, {\"count\": 12, \"cutoff\": 7, \"User-ID\": 61809, \"precision\": 0.7142857142857143, \"recall\": 0.4166666666666667}, {\"count\": 12, \"cutoff\": 8, \"User-ID\": 61809, \"precision\": 0.75, \"recall\": 0.5}, {\"count\": 12, \"cutoff\": 9, \"User-ID\": 61809, \"precision\": 0.7777777777777778, \"recall\": 0.5833333333333334}, {\"count\": 12, \"cutoff\": 10, \"User-ID\": 61809, \"precision\": 0.7, \"recall\": 0.5833333333333334}, {\"count\": 12, \"cutoff\": 11, \"User-ID\": 61809, \"precision\": 0.6363636363636364, \"recall\": 0.5833333333333334}, {\"count\": 12, \"cutoff\": 16, \"User-ID\": 61809, \"precision\": 0.4375, \"recall\": 0.5833333333333334}, {\"count\": 12, \"cutoff\": 21, \"User-ID\": 61809, \"precision\": 0.38095238095238093, \"recall\": 0.6666666666666666}, {\"count\": 12, \"cutoff\": 26, \"User-ID\": 61809, \"precision\": 0.34615384615384615, \"recall\": 0.75}, {\"count\": 12, \"cutoff\": 31, \"User-ID\": 61809, \"precision\": 0.2903225806451613, \"recall\": 0.75}, {\"count\": 12, \"cutoff\": 36, \"User-ID\": 61809, \"precision\": 0.3055555555555556, \"recall\": 0.9166666666666666}, {\"count\": 12, \"cutoff\": 41, \"User-ID\": 61809, \"precision\": 0.2682926829268293, \"recall\": 0.9166666666666666}, {\"count\": 12, \"cutoff\": 46, \"User-ID\": 61809, \"precision\": 0.2391304347826087, \"recall\": 0.9166666666666666}, {\"count\": 6, \"cutoff\": 1, \"User-ID\": 61869, \"precision\": 1.0, \"recall\": 0.16666666666666666}, {\"count\": 6, \"cutoff\": 2, \"User-ID\": 61869, \"precision\": 1.0, \"recall\": 0.3333333333333333}, {\"count\": 6, \"cutoff\": 3, \"User-ID\": 61869, \"precision\": 1.0, \"recall\": 0.5}, {\"count\": 6, \"cutoff\": 4, \"User-ID\": 61869, \"precision\": 1.0, \"recall\": 0.6666666666666666}, {\"count\": 6, \"cutoff\": 5, \"User-ID\": 61869, \"precision\": 0.8, \"recall\": 0.6666666666666666}, {\"count\": 6, \"cutoff\": 6, \"User-ID\": 61869, \"precision\": 0.6666666666666666, \"recall\": 0.6666666666666666}, {\"count\": 6, \"cutoff\": 7, \"User-ID\": 61869, \"precision\": 0.5714285714285714, \"recall\": 0.6666666666666666}, {\"count\": 6, \"cutoff\": 8, \"User-ID\": 61869, \"precision\": 0.5, \"recall\": 0.6666666666666666}, {\"count\": 6, \"cutoff\": 9, \"User-ID\": 61869, \"precision\": 0.5555555555555556, \"recall\": 0.8333333333333334}, {\"count\": 6, \"cutoff\": 10, \"User-ID\": 61869, \"precision\": 0.6, \"recall\": 1.0}, {\"count\": 6, \"cutoff\": 11, \"User-ID\": 61869, \"precision\": 0.5454545454545454, \"recall\": 1.0}, {\"count\": 6, \"cutoff\": 16, \"User-ID\": 61869, \"precision\": 0.375, \"recall\": 1.0}, {\"count\": 6, \"cutoff\": 21, \"User-ID\": 61869, \"precision\": 0.2857142857142857, \"recall\": 1.0}, {\"count\": 6, \"cutoff\": 26, \"User-ID\": 61869, \"precision\": 0.23076923076923078, \"recall\": 1.0}, {\"count\": 6, \"cutoff\": 31, \"User-ID\": 61869, \"precision\": 0.1935483870967742, \"recall\": 1.0}, {\"count\": 6, \"cutoff\": 36, \"User-ID\": 61869, \"precision\": 0.16666666666666666, \"recall\": 1.0}, {\"count\": 6, \"cutoff\": 41, \"User-ID\": 61869, \"precision\": 0.14634146341463414, \"recall\": 1.0}, {\"count\": 6, \"cutoff\": 46, \"User-ID\": 61869, \"precision\": 0.13043478260869565, \"recall\": 1.0}, {\"count\": 7, \"cutoff\": 1, \"User-ID\": 63278, \"precision\": 1.0, \"recall\": 0.14285714285714285}, {\"count\": 7, \"cutoff\": 2, \"User-ID\": 63278, \"precision\": 0.5, \"recall\": 0.14285714285714285}, {\"count\": 7, \"cutoff\": 3, \"User-ID\": 63278, \"precision\": 0.3333333333333333, \"recall\": 0.14285714285714285}, {\"count\": 7, \"cutoff\": 4, \"User-ID\": 63278, \"precision\": 0.5, \"recall\": 0.2857142857142857}, {\"count\": 7, \"cutoff\": 5, \"User-ID\": 63278, \"precision\": 0.6, \"recall\": 0.42857142857142855}, {\"count\": 7, \"cutoff\": 6, \"User-ID\": 63278, \"precision\": 0.5, \"recall\": 0.42857142857142855}, {\"count\": 7, \"cutoff\": 7, \"User-ID\": 63278, \"precision\": 0.42857142857142855, \"recall\": 0.42857142857142855}, {\"count\": 7, \"cutoff\": 8, \"User-ID\": 63278, \"precision\": 0.5, \"recall\": 0.5714285714285714}, {\"count\": 7, \"cutoff\": 9, \"User-ID\": 63278, \"precision\": 0.4444444444444444, \"recall\": 0.5714285714285714}, {\"count\": 7, \"cutoff\": 10, \"User-ID\": 63278, \"precision\": 0.4, \"recall\": 0.5714285714285714}, {\"count\": 7, \"cutoff\": 11, \"User-ID\": 63278, \"precision\": 0.36363636363636365, \"recall\": 0.5714285714285714}, {\"count\": 7, \"cutoff\": 16, \"User-ID\": 63278, \"precision\": 0.3125, \"recall\": 0.7142857142857143}, {\"count\": 7, \"cutoff\": 21, \"User-ID\": 63278, \"precision\": 0.23809523809523808, \"recall\": 0.7142857142857143}, {\"count\": 7, \"cutoff\": 26, \"User-ID\": 63278, \"precision\": 0.19230769230769232, \"recall\": 0.7142857142857143}, {\"count\": 7, \"cutoff\": 31, \"User-ID\": 63278, \"precision\": 0.16129032258064516, \"recall\": 0.7142857142857143}, {\"count\": 7, \"cutoff\": 36, \"User-ID\": 63278, \"precision\": 0.1388888888888889, \"recall\": 0.7142857142857143}, {\"count\": 7, \"cutoff\": 41, \"User-ID\": 63278, \"precision\": 0.12195121951219512, \"recall\": 0.7142857142857143}, {\"count\": 7, \"cutoff\": 46, \"User-ID\": 63278, \"precision\": 0.13043478260869565, \"recall\": 0.8571428571428571}, {\"count\": 1, \"cutoff\": 1, \"User-ID\": 63290, \"precision\": 1.0, \"recall\": 1.0}, {\"count\": 1, \"cutoff\": 2, \"User-ID\": 63290, \"precision\": 0.5, \"recall\": 1.0}, {\"count\": 1, \"cutoff\": 3, \"User-ID\": 63290, \"precision\": 0.3333333333333333, \"recall\": 1.0}, {\"count\": 1, \"cutoff\": 4, \"User-ID\": 63290, \"precision\": 0.25, \"recall\": 1.0}, {\"count\": 1, \"cutoff\": 5, \"User-ID\": 63290, \"precision\": 0.2, \"recall\": 1.0}, {\"count\": 1, \"cutoff\": 6, \"User-ID\": 63290, \"precision\": 0.16666666666666666, \"recall\": 1.0}, {\"count\": 1, \"cutoff\": 7, \"User-ID\": 63290, \"precision\": 0.14285714285714285, \"recall\": 1.0}, {\"count\": 1, \"cutoff\": 8, \"User-ID\": 63290, \"precision\": 0.125, \"recall\": 1.0}, {\"count\": 1, \"cutoff\": 9, \"User-ID\": 63290, \"precision\": 0.1111111111111111, \"recall\": 1.0}, {\"count\": 1, \"cutoff\": 10, \"User-ID\": 63290, \"precision\": 0.1, \"recall\": 1.0}, {\"count\": 1, \"cutoff\": 11, \"User-ID\": 63290, \"precision\": 0.09090909090909091, \"recall\": 1.0}, {\"count\": 1, \"cutoff\": 16, \"User-ID\": 63290, \"precision\": 0.0625, \"recall\": 1.0}, {\"count\": 1, \"cutoff\": 21, \"User-ID\": 63290, \"precision\": 0.047619047619047616, \"recall\": 1.0}, {\"count\": 1, \"cutoff\": 26, \"User-ID\": 63290, \"precision\": 0.038461538461538464, \"recall\": 1.0}, {\"count\": 1, \"cutoff\": 31, \"User-ID\": 63290, \"precision\": 0.03225806451612903, \"recall\": 1.0}, {\"count\": 1, \"cutoff\": 36, \"User-ID\": 63290, \"precision\": 0.027777777777777776, \"recall\": 1.0}, {\"count\": 1, \"cutoff\": 41, \"User-ID\": 63290, \"precision\": 0.024390243902439025, \"recall\": 1.0}, {\"count\": 1, \"cutoff\": 46, \"User-ID\": 63290, \"precision\": 0.021739130434782608, \"recall\": 1.0}, {\"count\": 2, \"cutoff\": 1, \"User-ID\": 63472, \"precision\": 0.0, \"recall\": 0.0}, {\"count\": 2, \"cutoff\": 2, \"User-ID\": 63472, \"precision\": 0.0, \"recall\": 0.0}, {\"count\": 2, \"cutoff\": 3, \"User-ID\": 63472, \"precision\": 0.0, \"recall\": 0.0}, {\"count\": 2, \"cutoff\": 4, \"User-ID\": 63472, \"precision\": 0.0, \"recall\": 0.0}, {\"count\": 2, \"cutoff\": 5, \"User-ID\": 63472, \"precision\": 0.0, \"recall\": 0.0}, {\"count\": 2, \"cutoff\": 6, \"User-ID\": 63472, \"precision\": 0.0, \"recall\": 0.0}, {\"count\": 2, \"cutoff\": 7, \"User-ID\": 63472, \"precision\": 0.0, \"recall\": 0.0}, {\"count\": 2, \"cutoff\": 8, \"User-ID\": 63472, \"precision\": 0.0, \"recall\": 0.0}, {\"count\": 2, \"cutoff\": 9, \"User-ID\": 63472, \"precision\": 0.0, \"recall\": 0.0}, {\"count\": 2, \"cutoff\": 10, \"User-ID\": 63472, \"precision\": 0.0, \"recall\": 0.0}, {\"count\": 2, \"cutoff\": 11, \"User-ID\": 63472, \"precision\": 0.0, \"recall\": 0.0}, {\"count\": 2, \"cutoff\": 16, \"User-ID\": 63472, \"precision\": 0.0, \"recall\": 0.0}, {\"count\": 2, \"cutoff\": 21, \"User-ID\": 63472, \"precision\": 0.0, \"recall\": 0.0}, {\"count\": 2, \"cutoff\": 26, \"User-ID\": 63472, \"precision\": 0.0, \"recall\": 0.0}, {\"count\": 2, \"cutoff\": 31, \"User-ID\": 63472, \"precision\": 0.0, \"recall\": 0.0}, {\"count\": 2, \"cutoff\": 36, \"User-ID\": 63472, \"precision\": 0.0, \"recall\": 0.0}, {\"count\": 2, \"cutoff\": 41, \"User-ID\": 63472, \"precision\": 0.0, \"recall\": 0.0}, {\"count\": 2, \"cutoff\": 46, \"User-ID\": 63472, \"precision\": 0.0, \"recall\": 0.0}]}]], \"type\": \"Model\"}, \"ipython\": true, \"view_params\": {\"model_type\": \"recommender\", \"view\": \"Comparison\"}, \"model_type\": \"recommender\", \"attributes\": {\"section_titles\": [\"Schema\", \"Statistics\", \"Training summary\", \"Model Parameters\", \"Other Settings\"], \"sections\": [[[\"User ID\", \"User-ID\"], [\"Item ID\", \"Item-ID\"], [\"Target\", \"rating\"], [\"Additional observation features\", 0], [\"User side features\", []], [\"Item side features\", []]], [[\"Number of observations\", 1760844], [\"Number of users\", 59132], [\"Number of items\", 140]], [[\"Training time\", 1.5134]], [[\"Model class\", \"ItemSimilarityRecommender\"], [\"threshold\", 0.001], [\"similarity_type\", \"pearson\"], [\"training_method\", \"auto\"]], [[\"degree_approximation_threshold\", 4096], [\"sparse_density_estimation_sample_size\", 4096], [\"max_data_passes\", 4096], [\"target_memory_usage\", 8589934592], [\"seed_item_set_size\", 50], [\"nearest_neighbors_interaction_proportion_threshold\", 0.05], [\"max_item_neighborhood_size\", 5]]]}, \"evaluations\": [[\"dataset\", {\"precision_recall_overall\": [{\"cutoff\": 1, \"precision\": 0.3448275862068966, \"recall\": 0.05714207710959334}, {\"cutoff\": 2, \"precision\": 0.2931034482758621, \"recall\": 0.08200336820526724}, {\"cutoff\": 3, \"precision\": 0.27586206896551724, \"recall\": 0.1124618607002415}, {\"cutoff\": 4, \"precision\": 0.2643678160919538, \"recall\": 0.13796687755208492}, {\"cutoff\": 5, \"precision\": 0.25287356321839083, \"recall\": 0.1601852440782975}, {\"cutoff\": 6, \"precision\": 0.2279693486590038, \"recall\": 0.16919240716342165}, {\"cutoff\": 7, \"precision\": 0.21510673234811165, \"recall\": 0.1845597367261535}, {\"cutoff\": 8, \"precision\": 0.20689655172413796, \"recall\": 0.20152864645118512}, {\"cutoff\": 9, \"precision\": 0.20817369093231156, \"recall\": 0.21982197333271802}, {\"cutoff\": 10, \"precision\": 0.20000000000000004, \"recall\": 0.2313836840598459}, {\"cutoff\": 11, \"precision\": 0.19749216300940442, \"recall\": 0.24622873507930976}, {\"cutoff\": 16, \"precision\": 0.17169540229885058, \"recall\": 0.31112479714928487}, {\"cutoff\": 21, \"precision\": 0.1559934318555009, \"recall\": 0.3575527832524334}, {\"cutoff\": 26, \"precision\": 0.14721485411140578, \"recall\": 0.40009101630041166}, {\"cutoff\": 31, \"precision\": 0.13644790507971827, \"recall\": 0.4475698298037129}, {\"cutoff\": 36, \"precision\": 0.12906238078651874, \"recall\": 0.474941876103795}, {\"cutoff\": 41, \"precision\": 0.12234294219155448, \"recall\": 0.49981118387415235}, {\"cutoff\": 46, \"precision\": 0.11748648540252744, \"recall\": 0.5090659792758744}], \"precision_recall_by_user\": [{\"count\": 11, \"cutoff\": 1, \"User-ID\": 2067, \"precision\": 0.0, \"recall\": 0.0}, {\"count\": 11, \"cutoff\": 2, \"User-ID\": 2067, \"precision\": 0.0, \"recall\": 0.0}, {\"count\": 11, \"cutoff\": 3, \"User-ID\": 2067, \"precision\": 0.3333333333333333, \"recall\": 0.09090909090909091}, {\"count\": 11, \"cutoff\": 4, \"User-ID\": 2067, \"precision\": 0.25, \"recall\": 0.09090909090909091}, {\"count\": 11, \"cutoff\": 5, \"User-ID\": 2067, \"precision\": 0.2, \"recall\": 0.09090909090909091}, {\"count\": 11, \"cutoff\": 6, \"User-ID\": 2067, \"precision\": 0.16666666666666666, \"recall\": 0.09090909090909091}, {\"count\": 11, \"cutoff\": 7, \"User-ID\": 2067, \"precision\": 0.14285714285714285, \"recall\": 0.09090909090909091}, {\"count\": 11, \"cutoff\": 8, \"User-ID\": 2067, \"precision\": 0.125, \"recall\": 0.09090909090909091}, {\"count\": 11, \"cutoff\": 9, \"User-ID\": 2067, \"precision\": 0.1111111111111111, \"recall\": 0.09090909090909091}, {\"count\": 11, \"cutoff\": 10, \"User-ID\": 2067, \"precision\": 0.1, \"recall\": 0.09090909090909091}, {\"count\": 11, \"cutoff\": 11, \"User-ID\": 2067, \"precision\": 0.09090909090909091, \"recall\": 0.09090909090909091}, {\"count\": 11, \"cutoff\": 16, \"User-ID\": 2067, \"precision\": 0.0625, \"recall\": 0.09090909090909091}, {\"count\": 11, \"cutoff\": 21, \"User-ID\": 2067, \"precision\": 0.14285714285714285, \"recall\": 0.2727272727272727}, {\"count\": 11, \"cutoff\": 26, \"User-ID\": 2067, \"precision\": 0.15384615384615385, \"recall\": 0.36363636363636365}, {\"count\": 11, \"cutoff\": 31, \"User-ID\": 2067, \"precision\": 0.12903225806451613, \"recall\": 0.36363636363636365}, {\"count\": 11, \"cutoff\": 36, \"User-ID\": 2067, \"precision\": 0.1388888888888889, \"recall\": 0.45454545454545453}, {\"count\": 11, \"cutoff\": 41, \"User-ID\": 2067, \"precision\": 0.14634146341463414, \"recall\": 0.5454545454545454}, {\"count\": 11, \"cutoff\": 46, \"User-ID\": 2067, \"precision\": 0.13043478260869565, \"recall\": 0.5454545454545454}, {\"count\": 25, \"cutoff\": 1, \"User-ID\": 3291, \"precision\": 1.0, \"recall\": 0.04}, {\"count\": 25, \"cutoff\": 2, \"User-ID\": 3291, \"precision\": 1.0, \"recall\": 0.08}, {\"count\": 25, \"cutoff\": 3, \"User-ID\": 3291, \"precision\": 1.0, \"recall\": 0.12}, {\"count\": 25, \"cutoff\": 4, \"User-ID\": 3291, \"precision\": 1.0, \"recall\": 0.16}, {\"count\": 25, \"cutoff\": 5, \"User-ID\": 3291, \"precision\": 1.0, \"recall\": 0.2}, {\"count\": 25, \"cutoff\": 6, \"User-ID\": 3291, \"precision\": 1.0, \"recall\": 0.24}, {\"count\": 25, \"cutoff\": 7, \"User-ID\": 3291, \"precision\": 0.8571428571428571, \"recall\": 0.24}, {\"count\": 25, \"cutoff\": 8, \"User-ID\": 3291, \"precision\": 0.875, \"recall\": 0.28}, {\"count\": 25, \"cutoff\": 9, \"User-ID\": 3291, \"precision\": 0.8888888888888888, \"recall\": 0.32}, {\"count\": 25, \"cutoff\": 10, \"User-ID\": 3291, \"precision\": 0.9, \"recall\": 0.36}, {\"count\": 25, \"cutoff\": 11, \"User-ID\": 3291, \"precision\": 0.9090909090909091, \"recall\": 0.4}, {\"count\": 25, \"cutoff\": 16, \"User-ID\": 3291, \"precision\": 0.8125, \"recall\": 0.52}, {\"count\": 25, \"cutoff\": 21, \"User-ID\": 3291, \"precision\": 0.7142857142857143, \"recall\": 0.6}, {\"count\": 25, \"cutoff\": 26, \"User-ID\": 3291, \"precision\": 0.7307692307692307, \"recall\": 0.76}, {\"count\": 25, \"cutoff\": 31, \"User-ID\": 3291, \"precision\": 0.6774193548387096, \"recall\": 0.84}, {\"count\": 25, \"cutoff\": 36, \"User-ID\": 3291, \"precision\": 0.6944444444444444, \"recall\": 1.0}, {\"count\": 25, \"cutoff\": 41, \"User-ID\": 3291, \"precision\": 0.6756756756756757, \"recall\": 1.0}, {\"count\": 25, \"cutoff\": 46, \"User-ID\": 3291, \"precision\": 0.6756756756756757, \"recall\": 1.0}, {\"count\": 6, \"cutoff\": 1, \"User-ID\": 3317, \"precision\": 0.0, \"recall\": 0.0}, {\"count\": 6, \"cutoff\": 2, \"User-ID\": 3317, \"precision\": 0.0, \"recall\": 0.0}, {\"count\": 6, \"cutoff\": 3, \"User-ID\": 3317, \"precision\": 0.0, \"recall\": 0.0}, {\"count\": 6, \"cutoff\": 4, \"User-ID\": 3317, \"precision\": 0.0, \"recall\": 0.0}, {\"count\": 6, \"cutoff\": 5, \"User-ID\": 3317, \"precision\": 0.0, \"recall\": 0.0}, {\"count\": 6, \"cutoff\": 6, \"User-ID\": 3317, \"precision\": 0.0, \"recall\": 0.0}, {\"count\": 6, \"cutoff\": 7, \"User-ID\": 3317, \"precision\": 0.0, \"recall\": 0.0}, {\"count\": 6, \"cutoff\": 8, \"User-ID\": 3317, \"precision\": 0.0, \"recall\": 0.0}, {\"count\": 6, \"cutoff\": 9, \"User-ID\": 3317, \"precision\": 0.0, \"recall\": 0.0}, {\"count\": 6, \"cutoff\": 10, \"User-ID\": 3317, \"precision\": 0.0, \"recall\": 0.0}, {\"count\": 6, \"cutoff\": 11, \"User-ID\": 3317, \"precision\": 0.0, \"recall\": 0.0}, {\"count\": 6, \"cutoff\": 16, \"User-ID\": 3317, \"precision\": 0.0, \"recall\": 0.0}, {\"count\": 6, \"cutoff\": 21, \"User-ID\": 3317, \"precision\": 0.0, \"recall\": 0.0}, {\"count\": 6, \"cutoff\": 26, \"User-ID\": 3317, \"precision\": 0.0, \"recall\": 0.0}, {\"count\": 6, \"cutoff\": 31, \"User-ID\": 3317, \"precision\": 0.0, \"recall\": 0.0}, {\"count\": 6, \"cutoff\": 36, \"User-ID\": 3317, \"precision\": 0.0, \"recall\": 0.0}, {\"count\": 6, \"cutoff\": 41, \"User-ID\": 3317, \"precision\": 0.0, \"recall\": 0.0}, {\"count\": 6, \"cutoff\": 46, \"User-ID\": 3317, \"precision\": 0.0, \"recall\": 0.0}, {\"count\": 1, \"cutoff\": 1, \"User-ID\": 4135, \"precision\": 0.0, \"recall\": 0.0}, {\"count\": 1, \"cutoff\": 2, \"User-ID\": 4135, \"precision\": 0.0, \"recall\": 0.0}, {\"count\": 1, \"cutoff\": 3, \"User-ID\": 4135, \"precision\": 0.0, \"recall\": 0.0}, {\"count\": 1, \"cutoff\": 4, \"User-ID\": 4135, \"precision\": 0.0, \"recall\": 0.0}, {\"count\": 1, \"cutoff\": 5, \"User-ID\": 4135, \"precision\": 0.0, \"recall\": 0.0}, {\"count\": 1, \"cutoff\": 6, \"User-ID\": 4135, \"precision\": 0.0, \"recall\": 0.0}, {\"count\": 1, \"cutoff\": 7, \"User-ID\": 4135, \"precision\": 0.0, \"recall\": 0.0}, {\"count\": 1, \"cutoff\": 8, \"User-ID\": 4135, \"precision\": 0.0, \"recall\": 0.0}, {\"count\": 1, \"cutoff\": 9, \"User-ID\": 4135, \"precision\": 0.0, \"recall\": 0.0}, {\"count\": 1, \"cutoff\": 10, \"User-ID\": 4135, \"precision\": 0.0, \"recall\": 0.0}, {\"count\": 1, \"cutoff\": 11, \"User-ID\": 4135, \"precision\": 0.0, \"recall\": 0.0}, {\"count\": 1, \"cutoff\": 16, \"User-ID\": 4135, \"precision\": 0.0625, \"recall\": 1.0}, {\"count\": 1, \"cutoff\": 21, \"User-ID\": 4135, \"precision\": 0.047619047619047616, \"recall\": 1.0}, {\"count\": 1, \"cutoff\": 26, \"User-ID\": 4135, \"precision\": 0.038461538461538464, \"recall\": 1.0}, {\"count\": 1, \"cutoff\": 31, \"User-ID\": 4135, \"precision\": 0.03225806451612903, \"recall\": 1.0}, {\"count\": 1, \"cutoff\": 36, \"User-ID\": 4135, \"precision\": 0.027777777777777776, \"recall\": 1.0}, {\"count\": 1, \"cutoff\": 41, \"User-ID\": 4135, \"precision\": 0.024390243902439025, \"recall\": 1.0}, {\"count\": 1, \"cutoff\": 46, \"User-ID\": 4135, \"precision\": 0.021739130434782608, \"recall\": 1.0}, {\"count\": 2, \"cutoff\": 1, \"User-ID\": 6004, \"precision\": 0.0, \"recall\": 0.0}, {\"count\": 2, \"cutoff\": 2, \"User-ID\": 6004, \"precision\": 0.0, \"recall\": 0.0}, {\"count\": 2, \"cutoff\": 3, \"User-ID\": 6004, \"precision\": 0.0, \"recall\": 0.0}, {\"count\": 2, \"cutoff\": 4, \"User-ID\": 6004, \"precision\": 0.0, \"recall\": 0.0}, {\"count\": 2, \"cutoff\": 5, \"User-ID\": 6004, \"precision\": 0.0, \"recall\": 0.0}, {\"count\": 2, \"cutoff\": 6, \"User-ID\": 6004, \"precision\": 0.0, \"recall\": 0.0}, {\"count\": 2, \"cutoff\": 7, \"User-ID\": 6004, \"precision\": 0.0, \"recall\": 0.0}, {\"count\": 2, \"cutoff\": 8, \"User-ID\": 6004, \"precision\": 0.0, \"recall\": 0.0}, {\"count\": 2, \"cutoff\": 9, \"User-ID\": 6004, \"precision\": 0.0, \"recall\": 0.0}, {\"count\": 2, \"cutoff\": 10, \"User-ID\": 6004, \"precision\": 0.0, \"recall\": 0.0}, {\"count\": 2, \"cutoff\": 11, \"User-ID\": 6004, \"precision\": 0.0, \"recall\": 0.0}, {\"count\": 2, \"cutoff\": 16, \"User-ID\": 6004, \"precision\": 0.0, \"recall\": 0.0}, {\"count\": 2, \"cutoff\": 21, \"User-ID\": 6004, \"precision\": 0.0, \"recall\": 0.0}, {\"count\": 2, \"cutoff\": 26, \"User-ID\": 6004, \"precision\": 0.0, \"recall\": 0.0}, {\"count\": 2, \"cutoff\": 31, \"User-ID\": 6004, \"precision\": 0.0, \"recall\": 0.0}, {\"count\": 2, \"cutoff\": 36, \"User-ID\": 6004, \"precision\": 0.0, \"recall\": 0.0}, {\"count\": 2, \"cutoff\": 41, \"User-ID\": 6004, \"precision\": 0.0, \"recall\": 0.0}, {\"count\": 2, \"cutoff\": 46, \"User-ID\": 6004, \"precision\": 0.0, \"recall\": 0.0}, {\"count\": 7, \"cutoff\": 1, \"User-ID\": 6651, \"precision\": 0.0, \"recall\": 0.0}, {\"count\": 7, \"cutoff\": 2, \"User-ID\": 6651, \"precision\": 0.0, \"recall\": 0.0}, {\"count\": 7, \"cutoff\": 3, \"User-ID\": 6651, \"precision\": 0.0, \"recall\": 0.0}, {\"count\": 7, \"cutoff\": 4, \"User-ID\": 6651, \"precision\": 0.25, \"recall\": 0.14285714285714285}, {\"count\": 7, \"cutoff\": 5, \"User-ID\": 6651, \"precision\": 0.2, \"recall\": 0.14285714285714285}, {\"count\": 7, \"cutoff\": 6, \"User-ID\": 6651, \"precision\": 0.16666666666666666, \"recall\": 0.14285714285714285}, {\"count\": 7, \"cutoff\": 7, \"User-ID\": 6651, \"precision\": 0.14285714285714285, \"recall\": 0.14285714285714285}, {\"count\": 7, \"cutoff\": 8, \"User-ID\": 6651, \"precision\": 0.125, \"recall\": 0.14285714285714285}, {\"count\": 7, \"cutoff\": 9, \"User-ID\": 6651, \"precision\": 0.1111111111111111, \"recall\": 0.14285714285714285}, {\"count\": 7, \"cutoff\": 10, \"User-ID\": 6651, \"precision\": 0.1, \"recall\": 0.14285714285714285}, {\"count\": 7, \"cutoff\": 11, \"User-ID\": 6651, \"precision\": 0.09090909090909091, \"recall\": 0.14285714285714285}, {\"count\": 7, \"cutoff\": 16, \"User-ID\": 6651, \"precision\": 0.0625, \"recall\": 0.14285714285714285}, {\"count\": 7, \"cutoff\": 21, \"User-ID\": 6651, \"precision\": 0.14285714285714285, \"recall\": 0.42857142857142855}, {\"count\": 7, \"cutoff\": 26, \"User-ID\": 6651, \"precision\": 0.15384615384615385, \"recall\": 0.5714285714285714}, {\"count\": 7, \"cutoff\": 31, \"User-ID\": 6651, \"precision\": 0.12903225806451613, \"recall\": 0.5714285714285714}, {\"count\": 7, \"cutoff\": 36, \"User-ID\": 6651, \"precision\": 0.1388888888888889, \"recall\": 0.7142857142857143}, {\"count\": 7, \"cutoff\": 41, \"User-ID\": 6651, \"precision\": 0.12195121951219512, \"recall\": 0.7142857142857143}, {\"count\": 7, \"cutoff\": 46, \"User-ID\": 6651, \"precision\": 0.10869565217391304, \"recall\": 0.7142857142857143}, {\"count\": 2, \"cutoff\": 1, \"User-ID\": 7492, \"precision\": 0.0, \"recall\": 0.0}, {\"count\": 2, \"cutoff\": 2, \"User-ID\": 7492, \"precision\": 0.0, \"recall\": 0.0}, {\"count\": 2, \"cutoff\": 3, \"User-ID\": 7492, \"precision\": 0.0, \"recall\": 0.0}, {\"count\": 2, \"cutoff\": 4, \"User-ID\": 7492, \"precision\": 0.0, \"recall\": 0.0}, {\"count\": 2, \"cutoff\": 5, \"User-ID\": 7492, \"precision\": 0.0, \"recall\": 0.0}, {\"count\": 2, \"cutoff\": 6, \"User-ID\": 7492, \"precision\": 0.0, \"recall\": 0.0}, {\"count\": 2, \"cutoff\": 7, \"User-ID\": 7492, \"precision\": 0.0, \"recall\": 0.0}, {\"count\": 2, \"cutoff\": 8, \"User-ID\": 7492, \"precision\": 0.0, \"recall\": 0.0}, {\"count\": 2, \"cutoff\": 9, \"User-ID\": 7492, \"precision\": 0.0, \"recall\": 0.0}, {\"count\": 2, \"cutoff\": 10, \"User-ID\": 7492, \"precision\": 0.0, \"recall\": 0.0}, {\"count\": 2, \"cutoff\": 11, \"User-ID\": 7492, \"precision\": 0.0, \"recall\": 0.0}, {\"count\": 2, \"cutoff\": 16, \"User-ID\": 7492, \"precision\": 0.0, \"recall\": 0.0}, {\"count\": 2, \"cutoff\": 21, \"User-ID\": 7492, \"precision\": 0.0, \"recall\": 0.0}, {\"count\": 2, \"cutoff\": 26, \"User-ID\": 7492, \"precision\": 0.0, \"recall\": 0.0}, {\"count\": 2, \"cutoff\": 31, \"User-ID\": 7492, \"precision\": 0.0, \"recall\": 0.0}, {\"count\": 2, \"cutoff\": 36, \"User-ID\": 7492, \"precision\": 0.0, \"recall\": 0.0}, {\"count\": 2, \"cutoff\": 41, \"User-ID\": 7492, \"precision\": 0.0, \"recall\": 0.0}, {\"count\": 2, \"cutoff\": 46, \"User-ID\": 7492, \"precision\": 0.0, \"recall\": 0.0}, {\"count\": 5, \"cutoff\": 1, \"User-ID\": 7747, \"precision\": 1.0, \"recall\": 0.2}, {\"count\": 5, \"cutoff\": 2, \"User-ID\": 7747, \"precision\": 1.0, \"recall\": 0.4}, {\"count\": 5, \"cutoff\": 3, \"User-ID\": 7747, \"precision\": 0.6666666666666666, \"recall\": 0.4}, {\"count\": 5, \"cutoff\": 4, \"User-ID\": 7747, \"precision\": 0.5, \"recall\": 0.4}, {\"count\": 5, \"cutoff\": 5, \"User-ID\": 7747, \"precision\": 0.4, \"recall\": 0.4}, {\"count\": 5, \"cutoff\": 6, \"User-ID\": 7747, \"precision\": 0.3333333333333333, \"recall\": 0.4}, {\"count\": 5, \"cutoff\": 7, \"User-ID\": 7747, \"precision\": 0.2857142857142857, \"recall\": 0.4}, {\"count\": 5, \"cutoff\": 8, \"User-ID\": 7747, \"precision\": 0.25, \"recall\": 0.4}, {\"count\": 5, \"cutoff\": 9, \"User-ID\": 7747, \"precision\": 0.3333333333333333, \"recall\": 0.6}, {\"count\": 5, \"cutoff\": 10, \"User-ID\": 7747, \"precision\": 0.3, \"recall\": 0.6}, {\"count\": 5, \"cutoff\": 11, \"User-ID\": 7747, \"precision\": 0.2727272727272727, \"recall\": 0.6}, {\"count\": 5, \"cutoff\": 16, \"User-ID\": 7747, \"precision\": 0.1875, \"recall\": 0.6}, {\"count\": 5, \"cutoff\": 21, \"User-ID\": 7747, \"precision\": 0.19047619047619047, \"recall\": 0.8}, {\"count\": 5, \"cutoff\": 26, \"User-ID\": 7747, \"precision\": 0.15384615384615385, \"recall\": 0.8}, {\"count\": 5, \"cutoff\": 31, \"User-ID\": 7747, \"precision\": 0.16129032258064516, \"recall\": 1.0}, {\"count\": 5, \"cutoff\": 36, \"User-ID\": 7747, \"precision\": 0.1388888888888889, \"recall\": 1.0}, {\"count\": 5, \"cutoff\": 41, \"User-ID\": 7747, \"precision\": 0.12195121951219512, \"recall\": 1.0}, {\"count\": 5, \"cutoff\": 46, \"User-ID\": 7747, \"precision\": 0.10869565217391304, \"recall\": 1.0}, {\"count\": 3, \"cutoff\": 1, \"User-ID\": 8429, \"precision\": 0.0, \"recall\": 0.0}, {\"count\": 3, \"cutoff\": 2, \"User-ID\": 8429, \"precision\": 0.0, \"recall\": 0.0}, {\"count\": 3, \"cutoff\": 3, \"User-ID\": 8429, \"precision\": 0.0, \"recall\": 0.0}, {\"count\": 3, \"cutoff\": 4, \"User-ID\": 8429, \"precision\": 0.0, \"recall\": 0.0}, {\"count\": 3, \"cutoff\": 5, \"User-ID\": 8429, \"precision\": 0.0, \"recall\": 0.0}, {\"count\": 3, \"cutoff\": 6, \"User-ID\": 8429, \"precision\": 0.0, \"recall\": 0.0}, {\"count\": 3, \"cutoff\": 7, \"User-ID\": 8429, \"precision\": 0.0, \"recall\": 0.0}, {\"count\": 3, \"cutoff\": 8, \"User-ID\": 8429, \"precision\": 0.0, \"recall\": 0.0}, {\"count\": 3, \"cutoff\": 9, \"User-ID\": 8429, \"precision\": 0.0, \"recall\": 0.0}, {\"count\": 3, \"cutoff\": 10, \"User-ID\": 8429, \"precision\": 0.0, \"recall\": 0.0}, {\"count\": 3, \"cutoff\": 11, \"User-ID\": 8429, \"precision\": 0.0, \"recall\": 0.0}, {\"count\": 3, \"cutoff\": 16, \"User-ID\": 8429, \"precision\": 0.0625, \"recall\": 0.3333333333333333}, {\"count\": 3, \"cutoff\": 21, \"User-ID\": 8429, \"precision\": 0.047619047619047616, \"recall\": 0.3333333333333333}, {\"count\": 3, \"cutoff\": 26, \"User-ID\": 8429, \"precision\": 0.038461538461538464, \"recall\": 0.3333333333333333}, {\"count\": 3, \"cutoff\": 31, \"User-ID\": 8429, \"precision\": 0.03225806451612903, \"recall\": 0.3333333333333333}, {\"count\": 3, \"cutoff\": 36, \"User-ID\": 8429, \"precision\": 0.027777777777777776, \"recall\": 0.3333333333333333}, {\"count\": 3, \"cutoff\": 41, \"User-ID\": 8429, \"precision\": 0.024390243902439025, \"recall\": 0.3333333333333333}, {\"count\": 3, \"cutoff\": 46, \"User-ID\": 8429, \"precision\": 0.021739130434782608, \"recall\": 0.3333333333333333}, {\"count\": 1, \"cutoff\": 1, \"User-ID\": 9601, \"precision\": 0.0, \"recall\": 0.0}, {\"count\": 1, \"cutoff\": 2, \"User-ID\": 9601, \"precision\": 0.0, \"recall\": 0.0}, {\"count\": 1, \"cutoff\": 3, \"User-ID\": 9601, \"precision\": 0.0, \"recall\": 0.0}, {\"count\": 1, \"cutoff\": 4, \"User-ID\": 9601, \"precision\": 0.0, \"recall\": 0.0}, {\"count\": 1, \"cutoff\": 5, \"User-ID\": 9601, \"precision\": 0.0, \"recall\": 0.0}, {\"count\": 1, \"cutoff\": 6, \"User-ID\": 9601, \"precision\": 0.0, \"recall\": 0.0}, {\"count\": 1, \"cutoff\": 7, \"User-ID\": 9601, \"precision\": 0.0, \"recall\": 0.0}, {\"count\": 1, \"cutoff\": 8, \"User-ID\": 9601, \"precision\": 0.0, \"recall\": 0.0}, {\"count\": 1, \"cutoff\": 9, \"User-ID\": 9601, \"precision\": 0.0, \"recall\": 0.0}, {\"count\": 1, \"cutoff\": 10, \"User-ID\": 9601, \"precision\": 0.0, \"recall\": 0.0}, {\"count\": 1, \"cutoff\": 11, \"User-ID\": 9601, \"precision\": 0.0, \"recall\": 0.0}, {\"count\": 1, \"cutoff\": 16, \"User-ID\": 9601, \"precision\": 0.0, \"recall\": 0.0}, {\"count\": 1, \"cutoff\": 21, \"User-ID\": 9601, \"precision\": 0.0, \"recall\": 0.0}, {\"count\": 1, \"cutoff\": 26, \"User-ID\": 9601, \"precision\": 0.0, \"recall\": 0.0}, {\"count\": 1, \"cutoff\": 31, \"User-ID\": 9601, \"precision\": 0.0, \"recall\": 0.0}, {\"count\": 1, \"cutoff\": 36, \"User-ID\": 9601, \"precision\": 0.0, \"recall\": 0.0}, {\"count\": 1, \"cutoff\": 41, \"User-ID\": 9601, \"precision\": 0.0, \"recall\": 0.0}, {\"count\": 1, \"cutoff\": 46, \"User-ID\": 9601, \"precision\": 0.0, \"recall\": 0.0}, {\"count\": 2, \"cutoff\": 1, \"User-ID\": 9629, \"precision\": 0.0, \"recall\": 0.0}, {\"count\": 2, \"cutoff\": 2, \"User-ID\": 9629, \"precision\": 0.0, \"recall\": 0.0}, {\"count\": 2, \"cutoff\": 3, \"User-ID\": 9629, \"precision\": 0.3333333333333333, \"recall\": 0.5}, {\"count\": 2, \"cutoff\": 4, \"User-ID\": 9629, \"precision\": 0.25, \"recall\": 0.5}, {\"count\": 2, \"cutoff\": 5, \"User-ID\": 9629, \"precision\": 0.2, \"recall\": 0.5}, {\"count\": 2, \"cutoff\": 6, \"User-ID\": 9629, \"precision\": 0.16666666666666666, \"recall\": 0.5}, {\"count\": 2, \"cutoff\": 7, \"User-ID\": 9629, \"precision\": 0.14285714285714285, \"recall\": 0.5}, {\"count\": 2, \"cutoff\": 8, \"User-ID\": 9629, \"precision\": 0.125, \"recall\": 0.5}, {\"count\": 2, \"cutoff\": 9, \"User-ID\": 9629, \"precision\": 0.1111111111111111, \"recall\": 0.5}, {\"count\": 2, \"cutoff\": 10, \"User-ID\": 9629, \"precision\": 0.1, \"recall\": 0.5}, {\"count\": 2, \"cutoff\": 11, \"User-ID\": 9629, \"precision\": 0.09090909090909091, \"recall\": 0.5}, {\"count\": 2, \"cutoff\": 16, \"User-ID\": 9629, \"precision\": 0.0625, \"recall\": 0.5}, {\"count\": 2, \"cutoff\": 21, \"User-ID\": 9629, \"precision\": 0.047619047619047616, \"recall\": 0.5}, {\"count\": 2, \"cutoff\": 26, \"User-ID\": 9629, \"precision\": 0.038461538461538464, \"recall\": 0.5}, {\"count\": 2, \"cutoff\": 31, \"User-ID\": 9629, \"precision\": 0.06451612903225806, \"recall\": 1.0}, {\"count\": 2, \"cutoff\": 36, \"User-ID\": 9629, \"precision\": 0.05555555555555555, \"recall\": 1.0}, {\"count\": 2, \"cutoff\": 41, \"User-ID\": 9629, \"precision\": 0.04878048780487805, \"recall\": 1.0}, {\"count\": 2, \"cutoff\": 46, \"User-ID\": 9629, \"precision\": 0.043478260869565216, \"recall\": 1.0}, {\"count\": 1, \"cutoff\": 1, \"User-ID\": 9721, \"precision\": 0.0, \"recall\": 0.0}, {\"count\": 1, \"cutoff\": 2, \"User-ID\": 9721, \"precision\": 0.0, \"recall\": 0.0}, {\"count\": 1, \"cutoff\": 3, \"User-ID\": 9721, \"precision\": 0.0, \"recall\": 0.0}, {\"count\": 1, \"cutoff\": 4, \"User-ID\": 9721, \"precision\": 0.0, \"recall\": 0.0}, {\"count\": 1, \"cutoff\": 5, \"User-ID\": 9721, \"precision\": 0.0, \"recall\": 0.0}, {\"count\": 1, \"cutoff\": 6, \"User-ID\": 9721, \"precision\": 0.0, \"recall\": 0.0}, {\"count\": 1, \"cutoff\": 7, \"User-ID\": 9721, \"precision\": 0.0, \"recall\": 0.0}, {\"count\": 1, \"cutoff\": 8, \"User-ID\": 9721, \"precision\": 0.0, \"recall\": 0.0}, {\"count\": 1, \"cutoff\": 9, \"User-ID\": 9721, \"precision\": 0.0, \"recall\": 0.0}, {\"count\": 1, \"cutoff\": 10, \"User-ID\": 9721, \"precision\": 0.0, \"recall\": 0.0}, {\"count\": 1, \"cutoff\": 11, \"User-ID\": 9721, \"precision\": 0.0, \"recall\": 0.0}, {\"count\": 1, \"cutoff\": 16, \"User-ID\": 9721, \"precision\": 0.0, \"recall\": 0.0}, {\"count\": 1, \"cutoff\": 21, \"User-ID\": 9721, \"precision\": 0.0, \"recall\": 0.0}, {\"count\": 1, \"cutoff\": 26, \"User-ID\": 9721, \"precision\": 0.0, \"recall\": 0.0}, {\"count\": 1, \"cutoff\": 31, \"User-ID\": 9721, \"precision\": 0.0, \"recall\": 0.0}, {\"count\": 1, \"cutoff\": 36, \"User-ID\": 9721, \"precision\": 0.0, \"recall\": 0.0}, {\"count\": 1, \"cutoff\": 41, \"User-ID\": 9721, \"precision\": 0.0, \"recall\": 0.0}, {\"count\": 1, \"cutoff\": 46, \"User-ID\": 9721, \"precision\": 0.0, \"recall\": 0.0}, {\"count\": 1, \"cutoff\": 1, \"User-ID\": 10467, \"precision\": 0.0, \"recall\": 0.0}, {\"count\": 1, \"cutoff\": 2, \"User-ID\": 10467, \"precision\": 0.0, \"recall\": 0.0}, {\"count\": 1, \"cutoff\": 3, \"User-ID\": 10467, \"precision\": 0.0, \"recall\": 0.0}, {\"count\": 1, \"cutoff\": 4, \"User-ID\": 10467, \"precision\": 0.0, \"recall\": 0.0}, {\"count\": 1, \"cutoff\": 5, \"User-ID\": 10467, \"precision\": 0.0, \"recall\": 0.0}, {\"count\": 1, \"cutoff\": 6, \"User-ID\": 10467, \"precision\": 0.0, \"recall\": 0.0}, {\"count\": 1, \"cutoff\": 7, \"User-ID\": 10467, \"precision\": 0.0, \"recall\": 0.0}, {\"count\": 1, \"cutoff\": 8, \"User-ID\": 10467, \"precision\": 0.0, \"recall\": 0.0}, {\"count\": 1, \"cutoff\": 9, \"User-ID\": 10467, \"precision\": 0.0, \"recall\": 0.0}, {\"count\": 1, \"cutoff\": 10, \"User-ID\": 10467, \"precision\": 0.0, \"recall\": 0.0}, {\"count\": 1, \"cutoff\": 11, \"User-ID\": 10467, \"precision\": 0.0, \"recall\": 0.0}, {\"count\": 1, \"cutoff\": 16, \"User-ID\": 10467, \"precision\": 0.0, \"recall\": 0.0}, {\"count\": 1, \"cutoff\": 21, \"User-ID\": 10467, \"precision\": 0.0, \"recall\": 0.0}, {\"count\": 1, \"cutoff\": 26, \"User-ID\": 10467, \"precision\": 0.0, \"recall\": 0.0}, {\"count\": 1, \"cutoff\": 31, \"User-ID\": 10467, \"precision\": 0.0, \"recall\": 0.0}, {\"count\": 1, \"cutoff\": 36, \"User-ID\": 10467, \"precision\": 0.0, \"recall\": 0.0}, {\"count\": 1, \"cutoff\": 41, \"User-ID\": 10467, \"precision\": 0.024390243902439025, \"recall\": 1.0}, {\"count\": 1, \"cutoff\": 46, \"User-ID\": 10467, \"precision\": 0.021739130434782608, \"recall\": 1.0}, {\"count\": 4, \"cutoff\": 1, \"User-ID\": 10802, \"precision\": 0.0, \"recall\": 0.0}, {\"count\": 4, \"cutoff\": 2, \"User-ID\": 10802, \"precision\": 0.0, \"recall\": 0.0}, {\"count\": 4, \"cutoff\": 3, \"User-ID\": 10802, \"precision\": 0.0, \"recall\": 0.0}, {\"count\": 4, \"cutoff\": 4, \"User-ID\": 10802, \"precision\": 0.0, \"recall\": 0.0}, {\"count\": 4, \"cutoff\": 5, \"User-ID\": 10802, \"precision\": 0.0, \"recall\": 0.0}, {\"count\": 4, \"cutoff\": 6, \"User-ID\": 10802, \"precision\": 0.0, \"recall\": 0.0}, {\"count\": 4, \"cutoff\": 7, \"User-ID\": 10802, \"precision\": 0.0, \"recall\": 0.0}, {\"count\": 4, \"cutoff\": 8, \"User-ID\": 10802, \"precision\": 0.0, \"recall\": 0.0}, {\"count\": 4, \"cutoff\": 9, \"User-ID\": 10802, \"precision\": 0.0, \"recall\": 0.0}, {\"count\": 4, \"cutoff\": 10, \"User-ID\": 10802, \"precision\": 0.0, \"recall\": 0.0}, {\"count\": 4, \"cutoff\": 11, \"User-ID\": 10802, \"precision\": 0.0, \"recall\": 0.0}, {\"count\": 4, \"cutoff\": 16, \"User-ID\": 10802, \"precision\": 0.0, \"recall\": 0.0}, {\"count\": 4, \"cutoff\": 21, \"User-ID\": 10802, \"precision\": 0.0, \"recall\": 0.0}, {\"count\": 4, \"cutoff\": 26, \"User-ID\": 10802, \"precision\": 0.0, \"recall\": 0.0}, {\"count\": 4, \"cutoff\": 31, \"User-ID\": 10802, \"precision\": 0.0, \"recall\": 0.0}, {\"count\": 4, \"cutoff\": 36, \"User-ID\": 10802, \"precision\": 0.0, \"recall\": 0.0}, {\"count\": 4, \"cutoff\": 41, \"User-ID\": 10802, \"precision\": 0.0, \"recall\": 0.0}, {\"count\": 4, \"cutoff\": 46, \"User-ID\": 10802, \"precision\": 0.0, \"recall\": 0.0}, {\"count\": 4, \"cutoff\": 1, \"User-ID\": 10815, \"precision\": 0.0, \"recall\": 0.0}, {\"count\": 4, \"cutoff\": 2, \"User-ID\": 10815, \"precision\": 0.0, \"recall\": 0.0}, {\"count\": 4, \"cutoff\": 3, \"User-ID\": 10815, \"precision\": 0.0, \"recall\": 0.0}, {\"count\": 4, \"cutoff\": 4, \"User-ID\": 10815, \"precision\": 0.0, \"recall\": 0.0}, {\"count\": 4, \"cutoff\": 5, \"User-ID\": 10815, \"precision\": 0.0, \"recall\": 0.0}, {\"count\": 4, \"cutoff\": 6, \"User-ID\": 10815, \"precision\": 0.0, \"recall\": 0.0}, {\"count\": 4, \"cutoff\": 7, \"User-ID\": 10815, \"precision\": 0.14285714285714285, \"recall\": 0.25}, {\"count\": 4, \"cutoff\": 8, \"User-ID\": 10815, \"precision\": 0.125, \"recall\": 0.25}, {\"count\": 4, \"cutoff\": 9, \"User-ID\": 10815, \"precision\": 0.1111111111111111, \"recall\": 0.25}, {\"count\": 4, \"cutoff\": 10, \"User-ID\": 10815, \"precision\": 0.1, \"recall\": 0.25}, {\"count\": 4, \"cutoff\": 11, \"User-ID\": 10815, \"precision\": 0.09090909090909091, \"recall\": 0.25}, {\"count\": 4, \"cutoff\": 16, \"User-ID\": 10815, \"precision\": 0.0625, \"recall\": 0.25}, {\"count\": 4, \"cutoff\": 21, \"User-ID\": 10815, \"precision\": 0.047619047619047616, \"recall\": 0.25}, {\"count\": 4, \"cutoff\": 26, \"User-ID\": 10815, \"precision\": 0.038461538461538464, \"recall\": 0.25}, {\"count\": 4, \"cutoff\": 31, \"User-ID\": 10815, \"precision\": 0.03225806451612903, \"recall\": 0.25}, {\"count\": 4, \"cutoff\": 36, \"User-ID\": 10815, \"precision\": 0.027777777777777776, \"recall\": 0.25}, {\"count\": 4, \"cutoff\": 41, \"User-ID\": 10815, \"precision\": 0.04878048780487805, \"recall\": 0.5}, {\"count\": 4, \"cutoff\": 46, \"User-ID\": 10815, \"precision\": 0.043478260869565216, \"recall\": 0.5}, {\"count\": 1, \"cutoff\": 1, \"User-ID\": 11117, \"precision\": 0.0, \"recall\": 0.0}, {\"count\": 1, \"cutoff\": 2, \"User-ID\": 11117, \"precision\": 0.0, \"recall\": 0.0}, {\"count\": 1, \"cutoff\": 3, \"User-ID\": 11117, \"precision\": 0.0, \"recall\": 0.0}, {\"count\": 1, \"cutoff\": 4, \"User-ID\": 11117, \"precision\": 0.0, \"recall\": 0.0}, {\"count\": 1, \"cutoff\": 5, \"User-ID\": 11117, \"precision\": 0.0, \"recall\": 0.0}, {\"count\": 1, \"cutoff\": 6, \"User-ID\": 11117, \"precision\": 0.0, \"recall\": 0.0}, {\"count\": 1, \"cutoff\": 7, \"User-ID\": 11117, \"precision\": 0.0, \"recall\": 0.0}, {\"count\": 1, \"cutoff\": 8, \"User-ID\": 11117, \"precision\": 0.0, \"recall\": 0.0}, {\"count\": 1, \"cutoff\": 9, \"User-ID\": 11117, \"precision\": 0.0, \"recall\": 0.0}, {\"count\": 1, \"cutoff\": 10, \"User-ID\": 11117, \"precision\": 0.0, \"recall\": 0.0}, {\"count\": 1, \"cutoff\": 11, \"User-ID\": 11117, \"precision\": 0.0, \"recall\": 0.0}, {\"count\": 1, \"cutoff\": 16, \"User-ID\": 11117, \"precision\": 0.0, \"recall\": 0.0}, {\"count\": 1, \"cutoff\": 21, \"User-ID\": 11117, \"precision\": 0.0, \"recall\": 0.0}, {\"count\": 1, \"cutoff\": 26, \"User-ID\": 11117, \"precision\": 0.0, \"recall\": 0.0}, {\"count\": 1, \"cutoff\": 31, \"User-ID\": 11117, \"precision\": 0.0, \"recall\": 0.0}, {\"count\": 1, \"cutoff\": 36, \"User-ID\": 11117, \"precision\": 0.0, \"recall\": 0.0}, {\"count\": 1, \"cutoff\": 41, \"User-ID\": 11117, \"precision\": 0.0, \"recall\": 0.0}, {\"count\": 1, \"cutoff\": 46, \"User-ID\": 11117, \"precision\": 0.0, \"recall\": 0.0}, {\"count\": 3, \"cutoff\": 1, \"User-ID\": 11654, \"precision\": 0.0, \"recall\": 0.0}, {\"count\": 3, \"cutoff\": 2, \"User-ID\": 11654, \"precision\": 0.0, \"recall\": 0.0}, {\"count\": 3, \"cutoff\": 3, \"User-ID\": 11654, \"precision\": 0.0, \"recall\": 0.0}, {\"count\": 3, \"cutoff\": 4, \"User-ID\": 11654, \"precision\": 0.0, \"recall\": 0.0}, {\"count\": 3, \"cutoff\": 5, \"User-ID\": 11654, \"precision\": 0.0, \"recall\": 0.0}, {\"count\": 3, \"cutoff\": 6, \"User-ID\": 11654, \"precision\": 0.0, \"recall\": 0.0}, {\"count\": 3, \"cutoff\": 7, \"User-ID\": 11654, \"precision\": 0.0, \"recall\": 0.0}, {\"count\": 3, \"cutoff\": 8, \"User-ID\": 11654, \"precision\": 0.0, \"recall\": 0.0}, {\"count\": 3, \"cutoff\": 9, \"User-ID\": 11654, \"precision\": 0.0, \"recall\": 0.0}, {\"count\": 3, \"cutoff\": 10, \"User-ID\": 11654, \"precision\": 0.0, \"recall\": 0.0}, {\"count\": 3, \"cutoff\": 11, \"User-ID\": 11654, \"precision\": 0.0, \"recall\": 0.0}, {\"count\": 3, \"cutoff\": 16, \"User-ID\": 11654, \"precision\": 0.0, \"recall\": 0.0}, {\"count\": 3, \"cutoff\": 21, \"User-ID\": 11654, \"precision\": 0.0, \"recall\": 0.0}, {\"count\": 3, \"cutoff\": 26, \"User-ID\": 11654, \"precision\": 0.0, \"recall\": 0.0}, {\"count\": 3, \"cutoff\": 31, \"User-ID\": 11654, \"precision\": 0.0, \"recall\": 0.0}, {\"count\": 3, \"cutoff\": 36, \"User-ID\": 11654, \"precision\": 0.027777777777777776, \"recall\": 0.3333333333333333}, {\"count\": 3, \"cutoff\": 41, \"User-ID\": 11654, \"precision\": 0.024390243902439025, \"recall\": 0.3333333333333333}, {\"count\": 3, \"cutoff\": 46, \"User-ID\": 11654, \"precision\": 0.021739130434782608, \"recall\": 0.3333333333333333}, {\"count\": 24, \"cutoff\": 1, \"User-ID\": 12227, \"precision\": 1.0, \"recall\": 0.041666666666666664}, {\"count\": 24, \"cutoff\": 2, \"User-ID\": 12227, \"precision\": 1.0, \"recall\": 0.08333333333333333}, {\"count\": 24, \"cutoff\": 3, \"User-ID\": 12227, \"precision\": 1.0, \"recall\": 0.125}, {\"count\": 24, \"cutoff\": 4, \"User-ID\": 12227, \"precision\": 1.0, \"recall\": 0.16666666666666666}, {\"count\": 24, \"cutoff\": 5, \"User-ID\": 12227, \"precision\": 0.8, \"recall\": 0.16666666666666666}, {\"count\": 24, \"cutoff\": 6, \"User-ID\": 12227, \"precision\": 0.8333333333333334, \"recall\": 0.20833333333333334}, {\"count\": 24, \"cutoff\": 7, \"User-ID\": 12227, \"precision\": 0.8571428571428571, \"recall\": 0.25}, {\"count\": 24, \"cutoff\": 8, \"User-ID\": 12227, \"precision\": 0.875, \"recall\": 0.2916666666666667}, {\"count\": 24, \"cutoff\": 9, \"User-ID\": 12227, \"precision\": 0.8888888888888888, \"recall\": 0.3333333333333333}, {\"count\": 24, \"cutoff\": 10, \"User-ID\": 12227, \"precision\": 0.8, \"recall\": 0.3333333333333333}, {\"count\": 24, \"cutoff\": 11, \"User-ID\": 12227, \"precision\": 0.8181818181818182, \"recall\": 0.375}, {\"count\": 24, \"cutoff\": 16, \"User-ID\": 12227, \"precision\": 0.625, \"recall\": 0.4166666666666667}, {\"count\": 24, \"cutoff\": 21, \"User-ID\": 12227, \"precision\": 0.7142857142857143, \"recall\": 0.625}, {\"count\": 24, \"cutoff\": 26, \"User-ID\": 12227, \"precision\": 0.7307692307692307, \"recall\": 0.7916666666666666}, {\"count\": 24, \"cutoff\": 31, \"User-ID\": 12227, \"precision\": 0.7096774193548387, \"recall\": 0.9166666666666666}, {\"count\": 24, \"cutoff\": 36, \"User-ID\": 12227, \"precision\": 0.6666666666666666, \"recall\": 1.0}, {\"count\": 24, \"cutoff\": 41, \"User-ID\": 12227, \"precision\": 0.6666666666666666, \"recall\": 1.0}, {\"count\": 24, \"cutoff\": 46, \"User-ID\": 12227, \"precision\": 0.6666666666666666, \"recall\": 1.0}, {\"count\": 2, \"cutoff\": 1, \"User-ID\": 13610, \"precision\": 0.0, \"recall\": 0.0}, {\"count\": 2, \"cutoff\": 2, \"User-ID\": 13610, \"precision\": 0.0, \"recall\": 0.0}, {\"count\": 2, \"cutoff\": 3, \"User-ID\": 13610, \"precision\": 0.0, \"recall\": 0.0}, {\"count\": 2, \"cutoff\": 4, \"User-ID\": 13610, \"precision\": 0.0, \"recall\": 0.0}, {\"count\": 2, \"cutoff\": 5, \"User-ID\": 13610, \"precision\": 0.0, \"recall\": 0.0}, {\"count\": 2, \"cutoff\": 6, \"User-ID\": 13610, \"precision\": 0.0, \"recall\": 0.0}, {\"count\": 2, \"cutoff\": 7, \"User-ID\": 13610, \"precision\": 0.0, \"recall\": 0.0}, {\"count\": 2, \"cutoff\": 8, \"User-ID\": 13610, \"precision\": 0.0, \"recall\": 0.0}, {\"count\": 2, \"cutoff\": 9, \"User-ID\": 13610, \"precision\": 0.0, \"recall\": 0.0}, {\"count\": 2, \"cutoff\": 10, \"User-ID\": 13610, \"precision\": 0.0, \"recall\": 0.0}, {\"count\": 2, \"cutoff\": 11, \"User-ID\": 13610, \"precision\": 0.0, \"recall\": 0.0}, {\"count\": 2, \"cutoff\": 16, \"User-ID\": 13610, \"precision\": 0.0, \"recall\": 0.0}, {\"count\": 2, \"cutoff\": 21, \"User-ID\": 13610, \"precision\": 0.0, \"recall\": 0.0}, {\"count\": 2, \"cutoff\": 26, \"User-ID\": 13610, \"precision\": 0.0, \"recall\": 0.0}, {\"count\": 2, \"cutoff\": 31, \"User-ID\": 13610, \"precision\": 0.0, \"recall\": 0.0}, {\"count\": 2, \"cutoff\": 36, \"User-ID\": 13610, \"precision\": 0.0, \"recall\": 0.0}, {\"count\": 2, \"cutoff\": 41, \"User-ID\": 13610, \"precision\": 0.0, \"recall\": 0.0}, {\"count\": 2, \"cutoff\": 46, \"User-ID\": 13610, \"precision\": 0.0, \"recall\": 0.0}, {\"count\": 1, \"cutoff\": 1, \"User-ID\": 13826, \"precision\": 0.0, \"recall\": 0.0}, {\"count\": 1, \"cutoff\": 2, \"User-ID\": 13826, \"precision\": 0.0, \"recall\": 0.0}, {\"count\": 1, \"cutoff\": 3, \"User-ID\": 13826, \"precision\": 0.0, \"recall\": 0.0}, {\"count\": 1, \"cutoff\": 4, \"User-ID\": 13826, \"precision\": 0.0, \"recall\": 0.0}, {\"count\": 1, \"cutoff\": 5, \"User-ID\": 13826, \"precision\": 0.0, \"recall\": 0.0}, {\"count\": 1, \"cutoff\": 6, \"User-ID\": 13826, \"precision\": 0.0, \"recall\": 0.0}, {\"count\": 1, \"cutoff\": 7, \"User-ID\": 13826, \"precision\": 0.0, \"recall\": 0.0}, {\"count\": 1, \"cutoff\": 8, \"User-ID\": 13826, \"precision\": 0.0, \"recall\": 0.0}, {\"count\": 1, \"cutoff\": 9, \"User-ID\": 13826, \"precision\": 0.0, \"recall\": 0.0}, {\"count\": 1, \"cutoff\": 10, \"User-ID\": 13826, \"precision\": 0.0, \"recall\": 0.0}, {\"count\": 1, \"cutoff\": 11, \"User-ID\": 13826, \"precision\": 0.0, \"recall\": 0.0}, {\"count\": 1, \"cutoff\": 16, \"User-ID\": 13826, \"precision\": 0.0, \"recall\": 0.0}, {\"count\": 1, \"cutoff\": 21, \"User-ID\": 13826, \"precision\": 0.0, \"recall\": 0.0}, {\"count\": 1, \"cutoff\": 26, \"User-ID\": 13826, \"precision\": 0.0, \"recall\": 0.0}, {\"count\": 1, \"cutoff\": 31, \"User-ID\": 13826, \"precision\": 0.0, \"recall\": 0.0}, {\"count\": 1, \"cutoff\": 36, \"User-ID\": 13826, \"precision\": 0.0, \"recall\": 0.0}, {\"count\": 1, \"cutoff\": 41, \"User-ID\": 13826, \"precision\": 0.0, \"recall\": 0.0}, {\"count\": 1, \"cutoff\": 46, \"User-ID\": 13826, \"precision\": 0.0, \"recall\": 0.0}, {\"count\": 1, \"cutoff\": 1, \"User-ID\": 13963, \"precision\": 0.0, \"recall\": 0.0}, {\"count\": 1, \"cutoff\": 2, \"User-ID\": 13963, \"precision\": 0.0, \"recall\": 0.0}, {\"count\": 1, \"cutoff\": 3, \"User-ID\": 13963, \"precision\": 0.0, \"recall\": 0.0}, {\"count\": 1, \"cutoff\": 4, \"User-ID\": 13963, \"precision\": 0.0, \"recall\": 0.0}, {\"count\": 1, \"cutoff\": 5, \"User-ID\": 13963, \"precision\": 0.0, \"recall\": 0.0}, {\"count\": 1, \"cutoff\": 6, \"User-ID\": 13963, \"precision\": 0.0, \"recall\": 0.0}, {\"count\": 1, \"cutoff\": 7, \"User-ID\": 13963, \"precision\": 0.0, \"recall\": 0.0}, {\"count\": 1, \"cutoff\": 8, \"User-ID\": 13963, \"precision\": 0.0, \"recall\": 0.0}, {\"count\": 1, \"cutoff\": 9, \"User-ID\": 13963, \"precision\": 0.0, \"recall\": 0.0}, {\"count\": 1, \"cutoff\": 10, \"User-ID\": 13963, \"precision\": 0.0, \"recall\": 0.0}, {\"count\": 1, \"cutoff\": 11, \"User-ID\": 13963, \"precision\": 0.0, \"recall\": 0.0}, {\"count\": 1, \"cutoff\": 16, \"User-ID\": 13963, \"precision\": 0.0, \"recall\": 0.0}, {\"count\": 1, \"cutoff\": 21, \"User-ID\": 13963, \"precision\": 0.0, \"recall\": 0.0}, {\"count\": 1, \"cutoff\": 26, \"User-ID\": 13963, \"precision\": 0.0, \"recall\": 0.0}, {\"count\": 1, \"cutoff\": 31, \"User-ID\": 13963, \"precision\": 0.03225806451612903, \"recall\": 1.0}, {\"count\": 1, \"cutoff\": 36, \"User-ID\": 13963, \"precision\": 0.027777777777777776, \"recall\": 1.0}, {\"count\": 1, \"cutoff\": 41, \"User-ID\": 13963, \"precision\": 0.024390243902439025, \"recall\": 1.0}, {\"count\": 1, \"cutoff\": 46, \"User-ID\": 13963, \"precision\": 0.021739130434782608, \"recall\": 1.0}, {\"count\": 4, \"cutoff\": 1, \"User-ID\": 14835, \"precision\": 0.0, \"recall\": 0.0}, {\"count\": 4, \"cutoff\": 2, \"User-ID\": 14835, \"precision\": 0.0, \"recall\": 0.0}, {\"count\": 4, \"cutoff\": 3, \"User-ID\": 14835, \"precision\": 0.0, \"recall\": 0.0}, {\"count\": 4, \"cutoff\": 4, \"User-ID\": 14835, \"precision\": 0.0, \"recall\": 0.0}, {\"count\": 4, \"cutoff\": 5, \"User-ID\": 14835, \"precision\": 0.0, \"recall\": 0.0}, {\"count\": 4, \"cutoff\": 6, \"User-ID\": 14835, \"precision\": 0.0, \"recall\": 0.0}, {\"count\": 4, \"cutoff\": 7, \"User-ID\": 14835, \"precision\": 0.0, \"recall\": 0.0}, {\"count\": 4, \"cutoff\": 8, \"User-ID\": 14835, \"precision\": 0.125, \"recall\": 0.25}, {\"count\": 4, \"cutoff\": 9, \"User-ID\": 14835, \"precision\": 0.1111111111111111, \"recall\": 0.25}, {\"count\": 4, \"cutoff\": 10, \"User-ID\": 14835, \"precision\": 0.1, \"recall\": 0.25}, {\"count\": 4, \"cutoff\": 11, \"User-ID\": 14835, \"precision\": 0.18181818181818182, \"recall\": 0.5}, {\"count\": 4, \"cutoff\": 16, \"User-ID\": 14835, \"precision\": 0.125, \"recall\": 0.5}, {\"count\": 4, \"cutoff\": 21, \"User-ID\": 14835, \"precision\": 0.09523809523809523, \"recall\": 0.5}, {\"count\": 4, \"cutoff\": 26, \"User-ID\": 14835, \"precision\": 0.07692307692307693, \"recall\": 0.5}, {\"count\": 4, \"cutoff\": 31, \"User-ID\": 14835, \"precision\": 0.06451612903225806, \"recall\": 0.5}, {\"count\": 4, \"cutoff\": 36, \"User-ID\": 14835, \"precision\": 0.05555555555555555, \"recall\": 0.5}, {\"count\": 4, \"cutoff\": 41, \"User-ID\": 14835, \"precision\": 0.04878048780487805, \"recall\": 0.5}, {\"count\": 4, \"cutoff\": 46, \"User-ID\": 14835, \"precision\": 0.043478260869565216, \"recall\": 0.5}, {\"count\": 12, \"cutoff\": 1, \"User-ID\": 15324, \"precision\": 0.0, \"recall\": 0.0}, {\"count\": 12, \"cutoff\": 2, \"User-ID\": 15324, \"precision\": 0.0, \"recall\": 0.0}, {\"count\": 12, \"cutoff\": 3, \"User-ID\": 15324, \"precision\": 0.3333333333333333, \"recall\": 0.08333333333333333}, {\"count\": 12, \"cutoff\": 4, \"User-ID\": 15324, \"precision\": 0.25, \"recall\": 0.08333333333333333}, {\"count\": 12, \"cutoff\": 5, \"User-ID\": 15324, \"precision\": 0.4, \"recall\": 0.16666666666666666}, {\"count\": 12, \"cutoff\": 6, \"User-ID\": 15324, \"precision\": 0.3333333333333333, \"recall\": 0.16666666666666666}, {\"count\": 12, \"cutoff\": 7, \"User-ID\": 15324, \"precision\": 0.42857142857142855, \"recall\": 0.25}, {\"count\": 12, \"cutoff\": 8, \"User-ID\": 15324, \"precision\": 0.375, \"recall\": 0.25}, {\"count\": 12, \"cutoff\": 9, \"User-ID\": 15324, \"precision\": 0.3333333333333333, \"recall\": 0.25}, {\"count\": 12, \"cutoff\": 10, \"User-ID\": 15324, \"precision\": 0.4, \"recall\": 0.3333333333333333}, {\"count\": 12, \"cutoff\": 11, \"User-ID\": 15324, \"precision\": 0.36363636363636365, \"recall\": 0.3333333333333333}, {\"count\": 12, \"cutoff\": 16, \"User-ID\": 15324, \"precision\": 0.375, \"recall\": 0.5}, {\"count\": 12, \"cutoff\": 21, \"User-ID\": 15324, \"precision\": 0.2857142857142857, \"recall\": 0.5}, {\"count\": 12, \"cutoff\": 26, \"User-ID\": 15324, \"precision\": 0.3076923076923077, \"recall\": 0.6666666666666666}, {\"count\": 12, \"cutoff\": 31, \"User-ID\": 15324, \"precision\": 0.25806451612903225, \"recall\": 0.6666666666666666}, {\"count\": 12, \"cutoff\": 36, \"User-ID\": 15324, \"precision\": 0.2222222222222222, \"recall\": 0.6666666666666666}, {\"count\": 12, \"cutoff\": 41, \"User-ID\": 15324, \"precision\": 0.1951219512195122, \"recall\": 0.6666666666666666}, {\"count\": 12, \"cutoff\": 46, \"User-ID\": 15324, \"precision\": 0.1956521739130435, \"recall\": 0.75}, {\"count\": 23, \"cutoff\": 1, \"User-ID\": 16432, \"precision\": 1.0, \"recall\": 0.043478260869565216}, {\"count\": 23, \"cutoff\": 2, \"User-ID\": 16432, \"precision\": 0.5, \"recall\": 0.043478260869565216}, {\"count\": 23, \"cutoff\": 3, \"User-ID\": 16432, \"precision\": 0.6666666666666666, \"recall\": 0.08695652173913043}, {\"count\": 23, \"cutoff\": 4, \"User-ID\": 16432, \"precision\": 0.75, \"recall\": 0.13043478260869565}, {\"count\": 23, \"cutoff\": 5, \"User-ID\": 16432, \"precision\": 0.8, \"recall\": 0.17391304347826086}, {\"count\": 23, \"cutoff\": 6, \"User-ID\": 16432, \"precision\": 0.8333333333333334, \"recall\": 0.21739130434782608}, {\"count\": 23, \"cutoff\": 7, \"User-ID\": 16432, \"precision\": 0.7142857142857143, \"recall\": 0.21739130434782608}, {\"count\": 23, \"cutoff\": 8, \"User-ID\": 16432, \"precision\": 0.75, \"recall\": 0.2608695652173913}, {\"count\": 23, \"cutoff\": 9, \"User-ID\": 16432, \"precision\": 0.7777777777777778, \"recall\": 0.30434782608695654}, {\"count\": 23, \"cutoff\": 10, \"User-ID\": 16432, \"precision\": 0.7, \"recall\": 0.30434782608695654}, {\"count\": 23, \"cutoff\": 11, \"User-ID\": 16432, \"precision\": 0.7272727272727273, \"recall\": 0.34782608695652173}, {\"count\": 23, \"cutoff\": 16, \"User-ID\": 16432, \"precision\": 0.6875, \"recall\": 0.4782608695652174}, {\"count\": 23, \"cutoff\": 21, \"User-ID\": 16432, \"precision\": 0.7142857142857143, \"recall\": 0.6521739130434783}, {\"count\": 23, \"cutoff\": 26, \"User-ID\": 16432, \"precision\": 0.6538461538461539, \"recall\": 0.7391304347826086}, {\"count\": 23, \"cutoff\": 31, \"User-ID\": 16432, \"precision\": 0.6451612903225806, \"recall\": 0.8695652173913043}, {\"count\": 23, \"cutoff\": 36, \"User-ID\": 16432, \"precision\": 0.6571428571428571, \"recall\": 1.0}, {\"count\": 23, \"cutoff\": 41, \"User-ID\": 16432, \"precision\": 0.6571428571428571, \"recall\": 1.0}, {\"count\": 23, \"cutoff\": 46, \"User-ID\": 16432, \"precision\": 0.6571428571428571, \"recall\": 1.0}, {\"count\": 1, \"cutoff\": 1, \"User-ID\": 16609, \"precision\": 0.0, \"recall\": 0.0}, {\"count\": 1, \"cutoff\": 2, \"User-ID\": 16609, \"precision\": 0.0, \"recall\": 0.0}, {\"count\": 1, \"cutoff\": 3, \"User-ID\": 16609, \"precision\": 0.0, \"recall\": 0.0}, {\"count\": 1, \"cutoff\": 4, \"User-ID\": 16609, \"precision\": 0.0, \"recall\": 0.0}, {\"count\": 1, \"cutoff\": 5, \"User-ID\": 16609, \"precision\": 0.0, \"recall\": 0.0}, {\"count\": 1, \"cutoff\": 6, \"User-ID\": 16609, \"precision\": 0.0, \"recall\": 0.0}, {\"count\": 1, \"cutoff\": 7, \"User-ID\": 16609, \"precision\": 0.0, \"recall\": 0.0}, {\"count\": 1, \"cutoff\": 8, \"User-ID\": 16609, \"precision\": 0.0, \"recall\": 0.0}, {\"count\": 1, \"cutoff\": 9, \"User-ID\": 16609, \"precision\": 0.0, \"recall\": 0.0}, {\"count\": 1, \"cutoff\": 10, \"User-ID\": 16609, \"precision\": 0.0, \"recall\": 0.0}, {\"count\": 1, \"cutoff\": 11, \"User-ID\": 16609, \"precision\": 0.0, \"recall\": 0.0}, {\"count\": 1, \"cutoff\": 16, \"User-ID\": 16609, \"precision\": 0.0, \"recall\": 0.0}, {\"count\": 1, \"cutoff\": 21, \"User-ID\": 16609, \"precision\": 0.0, \"recall\": 0.0}, {\"count\": 1, \"cutoff\": 26, \"User-ID\": 16609, \"precision\": 0.0, \"recall\": 0.0}, {\"count\": 1, \"cutoff\": 31, \"User-ID\": 16609, \"precision\": 0.0, \"recall\": 0.0}, {\"count\": 1, \"cutoff\": 36, \"User-ID\": 16609, \"precision\": 0.0, \"recall\": 0.0}, {\"count\": 1, \"cutoff\": 41, \"User-ID\": 16609, \"precision\": 0.0, \"recall\": 0.0}, {\"count\": 1, \"cutoff\": 46, \"User-ID\": 16609, \"precision\": 0.0, \"recall\": 0.0}, {\"count\": 10, \"cutoff\": 1, \"User-ID\": 17818, \"precision\": 1.0, \"recall\": 0.1}, {\"count\": 10, \"cutoff\": 2, \"User-ID\": 17818, \"precision\": 1.0, \"recall\": 0.2}, {\"count\": 10, \"cutoff\": 3, \"User-ID\": 17818, \"precision\": 0.6666666666666666, \"recall\": 0.2}, {\"count\": 10, \"cutoff\": 4, \"User-ID\": 17818, \"precision\": 0.75, \"recall\": 0.3}, {\"count\": 10, \"cutoff\": 5, \"User-ID\": 17818, \"precision\": 0.6, \"recall\": 0.3}, {\"count\": 10, \"cutoff\": 6, \"User-ID\": 17818, \"precision\": 0.5, \"recall\": 0.3}, {\"count\": 10, \"cutoff\": 7, \"User-ID\": 17818, \"precision\": 0.5714285714285714, \"recall\": 0.4}, {\"count\": 10, \"cutoff\": 8, \"User-ID\": 17818, \"precision\": 0.5, \"recall\": 0.4}, {\"count\": 10, \"cutoff\": 9, \"User-ID\": 17818, \"precision\": 0.5555555555555556, \"recall\": 0.5}, {\"count\": 10, \"cutoff\": 10, \"User-ID\": 17818, \"precision\": 0.5, \"recall\": 0.5}, {\"count\": 10, \"cutoff\": 11, \"User-ID\": 17818, \"precision\": 0.45454545454545453, \"recall\": 0.5}, {\"count\": 10, \"cutoff\": 16, \"User-ID\": 17818, \"precision\": 0.375, \"recall\": 0.6}, {\"count\": 10, \"cutoff\": 21, \"User-ID\": 17818, \"precision\": 0.3333333333333333, \"recall\": 0.7}, {\"count\": 10, \"cutoff\": 26, \"User-ID\": 17818, \"precision\": 0.3076923076923077, \"recall\": 0.8}, {\"count\": 10, \"cutoff\": 31, \"User-ID\": 17818, \"precision\": 0.2903225806451613, \"recall\": 0.9}, {\"count\": 10, \"cutoff\": 36, \"User-ID\": 17818, \"precision\": 0.25, \"recall\": 0.9}, {\"count\": 10, \"cutoff\": 41, \"User-ID\": 17818, \"precision\": 0.21951219512195122, \"recall\": 0.9}, {\"count\": 10, \"cutoff\": 46, \"User-ID\": 17818, \"precision\": 0.1956521739130435, \"recall\": 0.9}, {\"count\": 9, \"cutoff\": 1, \"User-ID\": 18091, \"precision\": 1.0, \"recall\": 0.1111111111111111}, {\"count\": 9, \"cutoff\": 2, \"User-ID\": 18091, \"precision\": 0.5, \"recall\": 0.1111111111111111}, {\"count\": 9, \"cutoff\": 3, \"User-ID\": 18091, \"precision\": 0.3333333333333333, \"recall\": 0.1111111111111111}, {\"count\": 9, \"cutoff\": 4, \"User-ID\": 18091, \"precision\": 0.25, \"recall\": 0.1111111111111111}, {\"count\": 9, \"cutoff\": 5, \"User-ID\": 18091, \"precision\": 0.2, \"recall\": 0.1111111111111111}, {\"count\": 9, \"cutoff\": 6, \"User-ID\": 18091, \"precision\": 0.16666666666666666, \"recall\": 0.1111111111111111}, {\"count\": 9, \"cutoff\": 7, \"User-ID\": 18091, \"precision\": 0.14285714285714285, \"recall\": 0.1111111111111111}, {\"count\": 9, \"cutoff\": 8, \"User-ID\": 18091, \"precision\": 0.125, \"recall\": 0.1111111111111111}, {\"count\": 9, \"cutoff\": 9, \"User-ID\": 18091, \"precision\": 0.1111111111111111, \"recall\": 0.1111111111111111}, {\"count\": 9, \"cutoff\": 10, \"User-ID\": 18091, \"precision\": 0.1, \"recall\": 0.1111111111111111}, {\"count\": 9, \"cutoff\": 11, \"User-ID\": 18091, \"precision\": 0.09090909090909091, \"recall\": 0.1111111111111111}, {\"count\": 9, \"cutoff\": 16, \"User-ID\": 18091, \"precision\": 0.125, \"recall\": 0.2222222222222222}, {\"count\": 9, \"cutoff\": 21, \"User-ID\": 18091, \"precision\": 0.14285714285714285, \"recall\": 0.3333333333333333}, {\"count\": 9, \"cutoff\": 26, \"User-ID\": 18091, \"precision\": 0.19230769230769232, \"recall\": 0.5555555555555556}, {\"count\": 9, \"cutoff\": 31, \"User-ID\": 18091, \"precision\": 0.16129032258064516, \"recall\": 0.5555555555555556}, {\"count\": 9, \"cutoff\": 36, \"User-ID\": 18091, \"precision\": 0.1388888888888889, \"recall\": 0.5555555555555556}, {\"count\": 9, \"cutoff\": 41, \"User-ID\": 18091, \"precision\": 0.12195121951219512, \"recall\": 0.5555555555555556}, {\"count\": 9, \"cutoff\": 46, \"User-ID\": 18091, \"precision\": 0.10869565217391304, \"recall\": 0.5555555555555556}, {\"count\": 5, \"cutoff\": 1, \"User-ID\": 18662, \"precision\": 0.0, \"recall\": 0.0}, {\"count\": 5, \"cutoff\": 2, \"User-ID\": 18662, \"precision\": 0.0, \"recall\": 0.0}, {\"count\": 5, \"cutoff\": 3, \"User-ID\": 18662, \"precision\": 0.0, \"recall\": 0.0}, {\"count\": 5, \"cutoff\": 4, \"User-ID\": 18662, \"precision\": 0.0, \"recall\": 0.0}, {\"count\": 5, \"cutoff\": 5, \"User-ID\": 18662, \"precision\": 0.0, \"recall\": 0.0}, {\"count\": 5, \"cutoff\": 6, \"User-ID\": 18662, \"precision\": 0.0, \"recall\": 0.0}, {\"count\": 5, \"cutoff\": 7, \"User-ID\": 18662, \"precision\": 0.14285714285714285, \"recall\": 0.2}, {\"count\": 5, \"cutoff\": 8, \"User-ID\": 18662, \"precision\": 0.125, \"recall\": 0.2}, {\"count\": 5, \"cutoff\": 9, \"User-ID\": 18662, \"precision\": 0.1111111111111111, \"recall\": 0.2}, {\"count\": 5, \"cutoff\": 10, \"User-ID\": 18662, \"precision\": 0.1, \"recall\": 0.2}, {\"count\": 5, \"cutoff\": 11, \"User-ID\": 18662, \"precision\": 0.09090909090909091, \"recall\": 0.2}, {\"count\": 5, \"cutoff\": 16, \"User-ID\": 18662, \"precision\": 0.125, \"recall\": 0.4}, {\"count\": 5, \"cutoff\": 21, \"User-ID\": 18662, \"precision\": 0.09523809523809523, \"recall\": 0.4}, {\"count\": 5, \"cutoff\": 26, \"User-ID\": 18662, \"precision\": 0.07692307692307693, \"recall\": 0.4}, {\"count\": 5, \"cutoff\": 31, \"User-ID\": 18662, \"precision\": 0.06451612903225806, \"recall\": 0.4}, {\"count\": 5, \"cutoff\": 36, \"User-ID\": 18662, \"precision\": 0.05555555555555555, \"recall\": 0.4}, {\"count\": 5, \"cutoff\": 41, \"User-ID\": 18662, \"precision\": 0.04878048780487805, \"recall\": 0.4}, {\"count\": 5, \"cutoff\": 46, \"User-ID\": 18662, \"precision\": 0.043478260869565216, \"recall\": 0.4}, {\"count\": 3, \"cutoff\": 1, \"User-ID\": 22099, \"precision\": 0.0, \"recall\": 0.0}, {\"count\": 3, \"cutoff\": 2, \"User-ID\": 22099, \"precision\": 0.0, \"recall\": 0.0}, {\"count\": 3, \"cutoff\": 3, \"User-ID\": 22099, \"precision\": 0.0, \"recall\": 0.0}, {\"count\": 3, \"cutoff\": 4, \"User-ID\": 22099, \"precision\": 0.0, \"recall\": 0.0}, {\"count\": 3, \"cutoff\": 5, \"User-ID\": 22099, \"precision\": 0.0, \"recall\": 0.0}, {\"count\": 3, \"cutoff\": 6, \"User-ID\": 22099, \"precision\": 0.0, \"recall\": 0.0}, {\"count\": 3, \"cutoff\": 7, \"User-ID\": 22099, \"precision\": 0.0, \"recall\": 0.0}, {\"count\": 3, \"cutoff\": 8, \"User-ID\": 22099, \"precision\": 0.0, \"recall\": 0.0}, {\"count\": 3, \"cutoff\": 9, \"User-ID\": 22099, \"precision\": 0.0, \"recall\": 0.0}, {\"count\": 3, \"cutoff\": 10, \"User-ID\": 22099, \"precision\": 0.0, \"recall\": 0.0}, {\"count\": 3, \"cutoff\": 11, \"User-ID\": 22099, \"precision\": 0.0, \"recall\": 0.0}, {\"count\": 3, \"cutoff\": 16, \"User-ID\": 22099, \"precision\": 0.0, \"recall\": 0.0}, {\"count\": 3, \"cutoff\": 21, \"User-ID\": 22099, \"precision\": 0.0, \"recall\": 0.0}, {\"count\": 3, \"cutoff\": 26, \"User-ID\": 22099, \"precision\": 0.0, \"recall\": 0.0}, {\"count\": 3, \"cutoff\": 31, \"User-ID\": 22099, \"precision\": 0.0, \"recall\": 0.0}, {\"count\": 3, \"cutoff\": 36, \"User-ID\": 22099, \"precision\": 0.0, \"recall\": 0.0}, {\"count\": 3, \"cutoff\": 41, \"User-ID\": 22099, \"precision\": 0.0, \"recall\": 0.0}, {\"count\": 3, \"cutoff\": 46, \"User-ID\": 22099, \"precision\": 0.0, \"recall\": 0.0}, {\"count\": 6, \"cutoff\": 1, \"User-ID\": 22169, \"precision\": 0.0, \"recall\": 0.0}, {\"count\": 6, \"cutoff\": 2, \"User-ID\": 22169, \"precision\": 0.0, \"recall\": 0.0}, {\"count\": 6, \"cutoff\": 3, \"User-ID\": 22169, \"precision\": 0.0, \"recall\": 0.0}, {\"count\": 6, \"cutoff\": 4, \"User-ID\": 22169, \"precision\": 0.0, \"recall\": 0.0}, {\"count\": 6, \"cutoff\": 5, \"User-ID\": 22169, \"precision\": 0.0, \"recall\": 0.0}, {\"count\": 6, \"cutoff\": 6, \"User-ID\": 22169, \"precision\": 0.0, \"recall\": 0.0}, {\"count\": 6, \"cutoff\": 7, \"User-ID\": 22169, \"precision\": 0.0, \"recall\": 0.0}, {\"count\": 6, \"cutoff\": 8, \"User-ID\": 22169, \"precision\": 0.0, \"recall\": 0.0}, {\"count\": 6, \"cutoff\": 9, \"User-ID\": 22169, \"precision\": 0.0, \"recall\": 0.0}, {\"count\": 6, \"cutoff\": 10, \"User-ID\": 22169, \"precision\": 0.0, \"recall\": 0.0}, {\"count\": 6, \"cutoff\": 11, \"User-ID\": 22169, \"precision\": 0.0, \"recall\": 0.0}, {\"count\": 6, \"cutoff\": 16, \"User-ID\": 22169, \"precision\": 0.0625, \"recall\": 0.16666666666666666}, {\"count\": 6, \"cutoff\": 21, \"User-ID\": 22169, \"precision\": 0.047619047619047616, \"recall\": 0.16666666666666666}, {\"count\": 6, \"cutoff\": 26, \"User-ID\": 22169, \"precision\": 0.038461538461538464, \"recall\": 0.16666666666666666}, {\"count\": 6, \"cutoff\": 31, \"User-ID\": 22169, \"precision\": 0.03225806451612903, \"recall\": 0.16666666666666666}, {\"count\": 6, \"cutoff\": 36, \"User-ID\": 22169, \"precision\": 0.027777777777777776, \"recall\": 0.16666666666666666}, {\"count\": 6, \"cutoff\": 41, \"User-ID\": 22169, \"precision\": 0.04878048780487805, \"recall\": 0.3333333333333333}, {\"count\": 6, \"cutoff\": 46, \"User-ID\": 22169, \"precision\": 0.043478260869565216, \"recall\": 0.3333333333333333}, {\"count\": 11, \"cutoff\": 1, \"User-ID\": 23116, \"precision\": 0.0, \"recall\": 0.0}, {\"count\": 11, \"cutoff\": 2, \"User-ID\": 23116, \"precision\": 0.5, \"recall\": 0.09090909090909091}, {\"count\": 11, \"cutoff\": 3, \"User-ID\": 23116, \"precision\": 0.3333333333333333, \"recall\": 0.09090909090909091}, {\"count\": 11, \"cutoff\": 4, \"User-ID\": 23116, \"precision\": 0.5, \"recall\": 0.18181818181818182}, {\"count\": 11, \"cutoff\": 5, \"User-ID\": 23116, \"precision\": 0.6, \"recall\": 0.2727272727272727}, {\"count\": 11, \"cutoff\": 6, \"User-ID\": 23116, \"precision\": 0.5, \"recall\": 0.2727272727272727}, {\"count\": 11, \"cutoff\": 7, \"User-ID\": 23116, \"precision\": 0.42857142857142855, \"recall\": 0.2727272727272727}, {\"count\": 11, \"cutoff\": 8, \"User-ID\": 23116, \"precision\": 0.375, \"recall\": 0.2727272727272727}, {\"count\": 11, \"cutoff\": 9, \"User-ID\": 23116, \"precision\": 0.3333333333333333, \"recall\": 0.2727272727272727}, {\"count\": 11, \"cutoff\": 10, \"User-ID\": 23116, \"precision\": 0.4, \"recall\": 0.36363636363636365}, {\"count\": 11, \"cutoff\": 11, \"User-ID\": 23116, \"precision\": 0.36363636363636365, \"recall\": 0.36363636363636365}, {\"count\": 11, \"cutoff\": 16, \"User-ID\": 23116, \"precision\": 0.3125, \"recall\": 0.45454545454545453}, {\"count\": 11, \"cutoff\": 21, \"User-ID\": 23116, \"precision\": 0.23809523809523808, \"recall\": 0.45454545454545453}, {\"count\": 11, \"cutoff\": 26, \"User-ID\": 23116, \"precision\": 0.19230769230769232, \"recall\": 0.45454545454545453}, {\"count\": 11, \"cutoff\": 31, \"User-ID\": 23116, \"precision\": 0.16129032258064516, \"recall\": 0.45454545454545453}, {\"count\": 11, \"cutoff\": 36, \"User-ID\": 23116, \"precision\": 0.1388888888888889, \"recall\": 0.45454545454545453}, {\"count\": 11, \"cutoff\": 41, \"User-ID\": 23116, \"precision\": 0.14634146341463414, \"recall\": 0.5454545454545454}, {\"count\": 11, \"cutoff\": 46, \"User-ID\": 23116, \"precision\": 0.15217391304347827, \"recall\": 0.6363636363636364}, {\"count\": 2, \"cutoff\": 1, \"User-ID\": 23821, \"precision\": 0.0, \"recall\": 0.0}, {\"count\": 2, \"cutoff\": 2, \"User-ID\": 23821, \"precision\": 0.0, \"recall\": 0.0}, {\"count\": 2, \"cutoff\": 3, \"User-ID\": 23821, \"precision\": 0.3333333333333333, \"recall\": 0.5}, {\"count\": 2, \"cutoff\": 4, \"User-ID\": 23821, \"precision\": 0.25, \"recall\": 0.5}, {\"count\": 2, \"cutoff\": 5, \"User-ID\": 23821, \"precision\": 0.2, \"recall\": 0.5}, {\"count\": 2, \"cutoff\": 6, \"User-ID\": 23821, \"precision\": 0.16666666666666666, \"recall\": 0.5}, {\"count\": 2, \"cutoff\": 7, \"User-ID\": 23821, \"precision\": 0.14285714285714285, \"recall\": 0.5}, {\"count\": 2, \"cutoff\": 8, \"User-ID\": 23821, \"precision\": 0.125, \"recall\": 0.5}, {\"count\": 2, \"cutoff\": 9, \"User-ID\": 23821, \"precision\": 0.1111111111111111, \"recall\": 0.5}, {\"count\": 2, \"cutoff\": 10, \"User-ID\": 23821, \"precision\": 0.1, \"recall\": 0.5}, {\"count\": 2, \"cutoff\": 11, \"User-ID\": 23821, \"precision\": 0.09090909090909091, \"recall\": 0.5}, {\"count\": 2, \"cutoff\": 16, \"User-ID\": 23821, \"precision\": 0.0625, \"recall\": 0.5}, {\"count\": 2, \"cutoff\": 21, \"User-ID\": 23821, \"precision\": 0.09523809523809523, \"recall\": 1.0}, {\"count\": 2, \"cutoff\": 26, \"User-ID\": 23821, \"precision\": 0.07692307692307693, \"recall\": 1.0}, {\"count\": 2, \"cutoff\": 31, \"User-ID\": 23821, \"precision\": 0.06451612903225806, \"recall\": 1.0}, {\"count\": 2, \"cutoff\": 36, \"User-ID\": 23821, \"precision\": 0.05555555555555555, \"recall\": 1.0}, {\"count\": 2, \"cutoff\": 41, \"User-ID\": 23821, \"precision\": 0.04878048780487805, \"recall\": 1.0}, {\"count\": 2, \"cutoff\": 46, \"User-ID\": 23821, \"precision\": 0.043478260869565216, \"recall\": 1.0}, {\"count\": 12, \"cutoff\": 1, \"User-ID\": 24857, \"precision\": 1.0, \"recall\": 0.08333333333333333}, {\"count\": 12, \"cutoff\": 2, \"User-ID\": 24857, \"precision\": 1.0, \"recall\": 0.16666666666666666}, {\"count\": 12, \"cutoff\": 3, \"User-ID\": 24857, \"precision\": 0.6666666666666666, \"recall\": 0.16666666666666666}, {\"count\": 12, \"cutoff\": 4, \"User-ID\": 24857, \"precision\": 0.5, \"recall\": 0.16666666666666666}, {\"count\": 12, \"cutoff\": 5, \"User-ID\": 24857, \"precision\": 0.4, \"recall\": 0.16666666666666666}, {\"count\": 12, \"cutoff\": 6, \"User-ID\": 24857, \"precision\": 0.3333333333333333, \"recall\": 0.16666666666666666}, {\"count\": 12, \"cutoff\": 7, \"User-ID\": 24857, \"precision\": 0.2857142857142857, \"recall\": 0.16666666666666666}, {\"count\": 12, \"cutoff\": 8, \"User-ID\": 24857, \"precision\": 0.25, \"recall\": 0.16666666666666666}, {\"count\": 12, \"cutoff\": 9, \"User-ID\": 24857, \"precision\": 0.3333333333333333, \"recall\": 0.25}, {\"count\": 12, \"cutoff\": 10, \"User-ID\": 24857, \"precision\": 0.3, \"recall\": 0.25}, {\"count\": 12, \"cutoff\": 11, \"User-ID\": 24857, \"precision\": 0.36363636363636365, \"recall\": 0.3333333333333333}, {\"count\": 12, \"cutoff\": 16, \"User-ID\": 24857, \"precision\": 0.3125, \"recall\": 0.4166666666666667}, {\"count\": 12, \"cutoff\": 21, \"User-ID\": 24857, \"precision\": 0.23809523809523808, \"recall\": 0.4166666666666667}, {\"count\": 12, \"cutoff\": 26, \"User-ID\": 24857, \"precision\": 0.23076923076923078, \"recall\": 0.5}, {\"count\": 12, \"cutoff\": 31, \"User-ID\": 24857, \"precision\": 0.1935483870967742, \"recall\": 0.5}, {\"count\": 12, \"cutoff\": 36, \"User-ID\": 24857, \"precision\": 0.16666666666666666, \"recall\": 0.5}, {\"count\": 12, \"cutoff\": 41, \"User-ID\": 24857, \"precision\": 0.17073170731707318, \"recall\": 0.5833333333333334}, {\"count\": 12, \"cutoff\": 46, \"User-ID\": 24857, \"precision\": 0.17391304347826086, \"recall\": 0.6666666666666666}, {\"count\": 2, \"cutoff\": 1, \"User-ID\": 25898, \"precision\": 0.0, \"recall\": 0.0}, {\"count\": 2, \"cutoff\": 2, \"User-ID\": 25898, \"precision\": 0.0, \"recall\": 0.0}, {\"count\": 2, \"cutoff\": 3, \"User-ID\": 25898, \"precision\": 0.0, \"recall\": 0.0}, {\"count\": 2, \"cutoff\": 4, \"User-ID\": 25898, \"precision\": 0.0, \"recall\": 0.0}, {\"count\": 2, \"cutoff\": 5, \"User-ID\": 25898, \"precision\": 0.0, \"recall\": 0.0}, {\"count\": 2, \"cutoff\": 6, \"User-ID\": 25898, \"precision\": 0.0, \"recall\": 0.0}, {\"count\": 2, \"cutoff\": 7, \"User-ID\": 25898, \"precision\": 0.0, \"recall\": 0.0}, {\"count\": 2, \"cutoff\": 8, \"User-ID\": 25898, \"precision\": 0.0, \"recall\": 0.0}, {\"count\": 2, \"cutoff\": 9, \"User-ID\": 25898, \"precision\": 0.0, \"recall\": 0.0}, {\"count\": 2, \"cutoff\": 10, \"User-ID\": 25898, \"precision\": 0.0, \"recall\": 0.0}, {\"count\": 2, \"cutoff\": 11, \"User-ID\": 25898, \"precision\": 0.0, \"recall\": 0.0}, {\"count\": 2, \"cutoff\": 16, \"User-ID\": 25898, \"precision\": 0.0, \"recall\": 0.0}, {\"count\": 2, \"cutoff\": 21, \"User-ID\": 25898, \"precision\": 0.0, \"recall\": 0.0}, {\"count\": 2, \"cutoff\": 26, \"User-ID\": 25898, \"precision\": 0.0, \"recall\": 0.0}, {\"count\": 2, \"cutoff\": 31, \"User-ID\": 25898, \"precision\": 0.0, \"recall\": 0.0}, {\"count\": 2, \"cutoff\": 36, \"User-ID\": 25898, \"precision\": 0.0, \"recall\": 0.0}, {\"count\": 2, \"cutoff\": 41, \"User-ID\": 25898, \"precision\": 0.0, \"recall\": 0.0}, {\"count\": 2, \"cutoff\": 46, \"User-ID\": 25898, \"precision\": 0.0, \"recall\": 0.0}, {\"count\": 4, \"cutoff\": 1, \"User-ID\": 26095, \"precision\": 0.0, \"recall\": 0.0}, {\"count\": 4, \"cutoff\": 2, \"User-ID\": 26095, \"precision\": 0.0, \"recall\": 0.0}, {\"count\": 4, \"cutoff\": 3, \"User-ID\": 26095, \"precision\": 0.0, \"recall\": 0.0}, {\"count\": 4, \"cutoff\": 4, \"User-ID\": 26095, \"precision\": 0.0, \"recall\": 0.0}, {\"count\": 4, \"cutoff\": 5, \"User-ID\": 26095, \"precision\": 0.0, \"recall\": 0.0}, {\"count\": 4, \"cutoff\": 6, \"User-ID\": 26095, \"precision\": 0.0, \"recall\": 0.0}, {\"count\": 4, \"cutoff\": 7, \"User-ID\": 26095, \"precision\": 0.0, \"recall\": 0.0}, {\"count\": 4, \"cutoff\": 8, \"User-ID\": 26095, \"precision\": 0.0, \"recall\": 0.0}, {\"count\": 4, \"cutoff\": 9, \"User-ID\": 26095, \"precision\": 0.0, \"recall\": 0.0}, {\"count\": 4, \"cutoff\": 10, \"User-ID\": 26095, \"precision\": 0.0, \"recall\": 0.0}, {\"count\": 4, \"cutoff\": 11, \"User-ID\": 26095, \"precision\": 0.0, \"recall\": 0.0}, {\"count\": 4, \"cutoff\": 16, \"User-ID\": 26095, \"precision\": 0.0, \"recall\": 0.0}, {\"count\": 4, \"cutoff\": 21, \"User-ID\": 26095, \"precision\": 0.0, \"recall\": 0.0}, {\"count\": 4, \"cutoff\": 26, \"User-ID\": 26095, \"precision\": 0.038461538461538464, \"recall\": 0.25}, {\"count\": 4, \"cutoff\": 31, \"User-ID\": 26095, \"precision\": 0.03225806451612903, \"recall\": 0.25}, {\"count\": 4, \"cutoff\": 36, \"User-ID\": 26095, \"precision\": 0.027777777777777776, \"recall\": 0.25}, {\"count\": 4, \"cutoff\": 41, \"User-ID\": 26095, \"precision\": 0.024390243902439025, \"recall\": 0.25}, {\"count\": 4, \"cutoff\": 46, \"User-ID\": 26095, \"precision\": 0.021739130434782608, \"recall\": 0.25}, {\"count\": 2, \"cutoff\": 1, \"User-ID\": 26798, \"precision\": 0.0, \"recall\": 0.0}, {\"count\": 2, \"cutoff\": 2, \"User-ID\": 26798, \"precision\": 0.0, \"recall\": 0.0}, {\"count\": 2, \"cutoff\": 3, \"User-ID\": 26798, \"precision\": 0.0, \"recall\": 0.0}, {\"count\": 2, \"cutoff\": 4, \"User-ID\": 26798, \"precision\": 0.0, \"recall\": 0.0}, {\"count\": 2, \"cutoff\": 5, \"User-ID\": 26798, \"precision\": 0.0, \"recall\": 0.0}, {\"count\": 2, \"cutoff\": 6, \"User-ID\": 26798, \"precision\": 0.0, \"recall\": 0.0}, {\"count\": 2, \"cutoff\": 7, \"User-ID\": 26798, \"precision\": 0.0, \"recall\": 0.0}, {\"count\": 2, \"cutoff\": 8, \"User-ID\": 26798, \"precision\": 0.0, \"recall\": 0.0}, {\"count\": 2, \"cutoff\": 9, \"User-ID\": 26798, \"precision\": 0.0, \"recall\": 0.0}, {\"count\": 2, \"cutoff\": 10, \"User-ID\": 26798, \"precision\": 0.0, \"recall\": 0.0}, {\"count\": 2, \"cutoff\": 11, \"User-ID\": 26798, \"precision\": 0.0, \"recall\": 0.0}, {\"count\": 2, \"cutoff\": 16, \"User-ID\": 26798, \"precision\": 0.0, \"recall\": 0.0}, {\"count\": 2, \"cutoff\": 21, \"User-ID\": 26798, \"precision\": 0.0, \"recall\": 0.0}, {\"count\": 2, \"cutoff\": 26, \"User-ID\": 26798, \"precision\": 0.0, \"recall\": 0.0}, {\"count\": 2, \"cutoff\": 31, \"User-ID\": 26798, \"precision\": 0.0, \"recall\": 0.0}, {\"count\": 2, \"cutoff\": 36, \"User-ID\": 26798, \"precision\": 0.0, \"recall\": 0.0}, {\"count\": 2, \"cutoff\": 41, \"User-ID\": 26798, \"precision\": 0.0, \"recall\": 0.0}, {\"count\": 2, \"cutoff\": 46, \"User-ID\": 26798, \"precision\": 0.0, \"recall\": 0.0}, {\"count\": 7, \"cutoff\": 1, \"User-ID\": 27825, \"precision\": 1.0, \"recall\": 0.14285714285714285}, {\"count\": 7, \"cutoff\": 2, \"User-ID\": 27825, \"precision\": 0.5, \"recall\": 0.14285714285714285}, {\"count\": 7, \"cutoff\": 3, \"User-ID\": 27825, \"precision\": 0.3333333333333333, \"recall\": 0.14285714285714285}, {\"count\": 7, \"cutoff\": 4, \"User-ID\": 27825, \"precision\": 0.25, \"recall\": 0.14285714285714285}, {\"count\": 7, \"cutoff\": 5, \"User-ID\": 27825, \"precision\": 0.4, \"recall\": 0.2857142857142857}, {\"count\": 7, \"cutoff\": 6, \"User-ID\": 27825, \"precision\": 0.3333333333333333, \"recall\": 0.2857142857142857}, {\"count\": 7, \"cutoff\": 7, \"User-ID\": 27825, \"precision\": 0.42857142857142855, \"recall\": 0.42857142857142855}, {\"count\": 7, \"cutoff\": 8, \"User-ID\": 27825, \"precision\": 0.375, \"recall\": 0.42857142857142855}, {\"count\": 7, \"cutoff\": 9, \"User-ID\": 27825, \"precision\": 0.3333333333333333, \"recall\": 0.42857142857142855}, {\"count\": 7, \"cutoff\": 10, \"User-ID\": 27825, \"precision\": 0.3, \"recall\": 0.42857142857142855}, {\"count\": 7, \"cutoff\": 11, \"User-ID\": 27825, \"precision\": 0.2727272727272727, \"recall\": 0.42857142857142855}, {\"count\": 7, \"cutoff\": 16, \"User-ID\": 27825, \"precision\": 0.3125, \"recall\": 0.7142857142857143}, {\"count\": 7, \"cutoff\": 21, \"User-ID\": 27825, \"precision\": 0.2857142857142857, \"recall\": 0.8571428571428571}, {\"count\": 7, \"cutoff\": 26, \"User-ID\": 27825, \"precision\": 0.23076923076923078, \"recall\": 0.8571428571428571}, {\"count\": 7, \"cutoff\": 31, \"User-ID\": 27825, \"precision\": 0.1935483870967742, \"recall\": 0.8571428571428571}, {\"count\": 7, \"cutoff\": 36, \"User-ID\": 27825, \"precision\": 0.16666666666666666, \"recall\": 0.8571428571428571}, {\"count\": 7, \"cutoff\": 41, \"User-ID\": 27825, \"precision\": 0.14634146341463414, \"recall\": 0.8571428571428571}, {\"count\": 7, \"cutoff\": 46, \"User-ID\": 27825, \"precision\": 0.13043478260869565, \"recall\": 0.8571428571428571}, {\"count\": 9, \"cutoff\": 1, \"User-ID\": 27875, \"precision\": 1.0, \"recall\": 0.1111111111111111}, {\"count\": 9, \"cutoff\": 2, \"User-ID\": 27875, \"precision\": 0.5, \"recall\": 0.1111111111111111}, {\"count\": 9, \"cutoff\": 3, \"User-ID\": 27875, \"precision\": 0.3333333333333333, \"recall\": 0.1111111111111111}, {\"count\": 9, \"cutoff\": 4, \"User-ID\": 27875, \"precision\": 0.25, \"recall\": 0.1111111111111111}, {\"count\": 9, \"cutoff\": 5, \"User-ID\": 27875, \"precision\": 0.2, \"recall\": 0.1111111111111111}, {\"count\": 9, \"cutoff\": 6, \"User-ID\": 27875, \"precision\": 0.16666666666666666, \"recall\": 0.1111111111111111}, {\"count\": 9, \"cutoff\": 7, \"User-ID\": 27875, \"precision\": 0.2857142857142857, \"recall\": 0.2222222222222222}, {\"count\": 9, \"cutoff\": 8, \"User-ID\": 27875, \"precision\": 0.25, \"recall\": 0.2222222222222222}, {\"count\": 9, \"cutoff\": 9, \"User-ID\": 27875, \"precision\": 0.2222222222222222, \"recall\": 0.2222222222222222}, {\"count\": 9, \"cutoff\": 10, \"User-ID\": 27875, \"precision\": 0.3, \"recall\": 0.3333333333333333}, {\"count\": 9, \"cutoff\": 11, \"User-ID\": 27875, \"precision\": 0.2727272727272727, \"recall\": 0.3333333333333333}, {\"count\": 9, \"cutoff\": 16, \"User-ID\": 27875, \"precision\": 0.3125, \"recall\": 0.5555555555555556}, {\"count\": 9, \"cutoff\": 21, \"User-ID\": 27875, \"precision\": 0.23809523809523808, \"recall\": 0.5555555555555556}, {\"count\": 9, \"cutoff\": 26, \"User-ID\": 27875, \"precision\": 0.23076923076923078, \"recall\": 0.6666666666666666}, {\"count\": 9, \"cutoff\": 31, \"User-ID\": 27875, \"precision\": 0.1935483870967742, \"recall\": 0.6666666666666666}, {\"count\": 9, \"cutoff\": 36, \"User-ID\": 27875, \"precision\": 0.16666666666666666, \"recall\": 0.6666666666666666}, {\"count\": 9, \"cutoff\": 41, \"User-ID\": 27875, \"precision\": 0.14634146341463414, \"recall\": 0.6666666666666666}, {\"count\": 9, \"cutoff\": 46, \"User-ID\": 27875, \"precision\": 0.15217391304347827, \"recall\": 0.7777777777777778}, {\"count\": 2, \"cutoff\": 1, \"User-ID\": 27997, \"precision\": 0.0, \"recall\": 0.0}, {\"count\": 2, \"cutoff\": 2, \"User-ID\": 27997, \"precision\": 0.0, \"recall\": 0.0}, {\"count\": 2, \"cutoff\": 3, \"User-ID\": 27997, \"precision\": 0.0, \"recall\": 0.0}, {\"count\": 2, \"cutoff\": 4, \"User-ID\": 27997, \"precision\": 0.0, \"recall\": 0.0}, {\"count\": 2, \"cutoff\": 5, \"User-ID\": 27997, \"precision\": 0.0, \"recall\": 0.0}, {\"count\": 2, \"cutoff\": 6, \"User-ID\": 27997, \"precision\": 0.0, \"recall\": 0.0}, {\"count\": 2, \"cutoff\": 7, \"User-ID\": 27997, \"precision\": 0.0, \"recall\": 0.0}, {\"count\": 2, \"cutoff\": 8, \"User-ID\": 27997, \"precision\": 0.0, \"recall\": 0.0}, {\"count\": 2, \"cutoff\": 9, \"User-ID\": 27997, \"precision\": 0.0, \"recall\": 0.0}, {\"count\": 2, \"cutoff\": 10, \"User-ID\": 27997, \"precision\": 0.0, \"recall\": 0.0}, {\"count\": 2, \"cutoff\": 11, \"User-ID\": 27997, \"precision\": 0.0, \"recall\": 0.0}, {\"count\": 2, \"cutoff\": 16, \"User-ID\": 27997, \"precision\": 0.0, \"recall\": 0.0}, {\"count\": 2, \"cutoff\": 21, \"User-ID\": 27997, \"precision\": 0.0, \"recall\": 0.0}, {\"count\": 2, \"cutoff\": 26, \"User-ID\": 27997, \"precision\": 0.0, \"recall\": 0.0}, {\"count\": 2, \"cutoff\": 31, \"User-ID\": 27997, \"precision\": 0.0, \"recall\": 0.0}, {\"count\": 2, \"cutoff\": 36, \"User-ID\": 27997, \"precision\": 0.0, \"recall\": 0.0}, {\"count\": 2, \"cutoff\": 41, \"User-ID\": 27997, \"precision\": 0.0, \"recall\": 0.0}, {\"count\": 2, \"cutoff\": 46, \"User-ID\": 27997, \"precision\": 0.0, \"recall\": 0.0}, {\"count\": 4, \"cutoff\": 1, \"User-ID\": 29170, \"precision\": 0.0, \"recall\": 0.0}, {\"count\": 4, \"cutoff\": 2, \"User-ID\": 29170, \"precision\": 0.0, \"recall\": 0.0}, {\"count\": 4, \"cutoff\": 3, \"User-ID\": 29170, \"precision\": 0.0, \"recall\": 0.0}, {\"count\": 4, \"cutoff\": 4, \"User-ID\": 29170, \"precision\": 0.0, \"recall\": 0.0}, {\"count\": 4, \"cutoff\": 5, \"User-ID\": 29170, \"precision\": 0.0, \"recall\": 0.0}, {\"count\": 4, \"cutoff\": 6, \"User-ID\": 29170, \"precision\": 0.0, \"recall\": 0.0}, {\"count\": 4, \"cutoff\": 7, \"User-ID\": 29170, \"precision\": 0.0, \"recall\": 0.0}, {\"count\": 4, \"cutoff\": 8, \"User-ID\": 29170, \"precision\": 0.0, \"recall\": 0.0}, {\"count\": 4, \"cutoff\": 9, \"User-ID\": 29170, \"precision\": 0.0, \"recall\": 0.0}, {\"count\": 4, \"cutoff\": 10, \"User-ID\": 29170, \"precision\": 0.0, \"recall\": 0.0}, {\"count\": 4, \"cutoff\": 11, \"User-ID\": 29170, \"precision\": 0.0, \"recall\": 0.0}, {\"count\": 4, \"cutoff\": 16, \"User-ID\": 29170, \"precision\": 0.0, \"recall\": 0.0}, {\"count\": 4, \"cutoff\": 21, \"User-ID\": 29170, \"precision\": 0.0, \"recall\": 0.0}, {\"count\": 4, \"cutoff\": 26, \"User-ID\": 29170, \"precision\": 0.0, \"recall\": 0.0}, {\"count\": 4, \"cutoff\": 31, \"User-ID\": 29170, \"precision\": 0.0, \"recall\": 0.0}, {\"count\": 4, \"cutoff\": 36, \"User-ID\": 29170, \"precision\": 0.0, \"recall\": 0.0}, {\"count\": 4, \"cutoff\": 41, \"User-ID\": 29170, \"precision\": 0.0, \"recall\": 0.0}, {\"count\": 4, \"cutoff\": 46, \"User-ID\": 29170, \"precision\": 0.0, \"recall\": 0.0}, {\"count\": 14, \"cutoff\": 1, \"User-ID\": 29303, \"precision\": 0.0, \"recall\": 0.0}, {\"count\": 14, \"cutoff\": 2, \"User-ID\": 29303, \"precision\": 0.0, \"recall\": 0.0}, {\"count\": 14, \"cutoff\": 3, \"User-ID\": 29303, \"precision\": 0.0, \"recall\": 0.0}, {\"count\": 14, \"cutoff\": 4, \"User-ID\": 29303, \"precision\": 0.0, \"recall\": 0.0}, {\"count\": 14, \"cutoff\": 5, \"User-ID\": 29303, \"precision\": 0.2, \"recall\": 0.07142857142857142}, {\"count\": 14, \"cutoff\": 6, \"User-ID\": 29303, \"precision\": 0.16666666666666666, \"recall\": 0.07142857142857142}, {\"count\": 14, \"cutoff\": 7, \"User-ID\": 29303, \"precision\": 0.14285714285714285, \"recall\": 0.07142857142857142}, {\"count\": 14, \"cutoff\": 8, \"User-ID\": 29303, \"precision\": 0.125, \"recall\": 0.07142857142857142}, {\"count\": 14, \"cutoff\": 9, \"User-ID\": 29303, \"precision\": 0.2222222222222222, \"recall\": 0.14285714285714285}, {\"count\": 14, \"cutoff\": 10, \"User-ID\": 29303, \"precision\": 0.2, \"recall\": 0.14285714285714285}, {\"count\": 14, \"cutoff\": 11, \"User-ID\": 29303, \"precision\": 0.2727272727272727, \"recall\": 0.21428571428571427}, {\"count\": 14, \"cutoff\": 16, \"User-ID\": 29303, \"precision\": 0.3125, \"recall\": 0.35714285714285715}, {\"count\": 14, \"cutoff\": 21, \"User-ID\": 29303, \"precision\": 0.2857142857142857, \"recall\": 0.42857142857142855}, {\"count\": 14, \"cutoff\": 26, \"User-ID\": 29303, \"precision\": 0.34615384615384615, \"recall\": 0.6428571428571429}, {\"count\": 14, \"cutoff\": 31, \"User-ID\": 29303, \"precision\": 0.3225806451612903, \"recall\": 0.7142857142857143}, {\"count\": 14, \"cutoff\": 36, \"User-ID\": 29303, \"precision\": 0.3333333333333333, \"recall\": 0.8571428571428571}, {\"count\": 14, \"cutoff\": 41, \"User-ID\": 29303, \"precision\": 0.2926829268292683, \"recall\": 0.8571428571428571}, {\"count\": 14, \"cutoff\": 46, \"User-ID\": 29303, \"precision\": 0.2608695652173913, \"recall\": 0.8571428571428571}, {\"count\": 4, \"cutoff\": 1, \"User-ID\": 29489, \"precision\": 0.0, \"recall\": 0.0}, {\"count\": 4, \"cutoff\": 2, \"User-ID\": 29489, \"precision\": 0.0, \"recall\": 0.0}, {\"count\": 4, \"cutoff\": 3, \"User-ID\": 29489, \"precision\": 0.0, \"recall\": 0.0}, {\"count\": 4, \"cutoff\": 4, \"User-ID\": 29489, \"precision\": 0.0, \"recall\": 0.0}, {\"count\": 4, \"cutoff\": 5, \"User-ID\": 29489, \"precision\": 0.0, \"recall\": 0.0}, {\"count\": 4, \"cutoff\": 6, \"User-ID\": 29489, \"precision\": 0.0, \"recall\": 0.0}, {\"count\": 4, \"cutoff\": 7, \"User-ID\": 29489, \"precision\": 0.0, \"recall\": 0.0}, {\"count\": 4, \"cutoff\": 8, \"User-ID\": 29489, \"precision\": 0.0, \"recall\": 0.0}, {\"count\": 4, \"cutoff\": 9, \"User-ID\": 29489, \"precision\": 0.0, \"recall\": 0.0}, {\"count\": 4, \"cutoff\": 10, \"User-ID\": 29489, \"precision\": 0.1, \"recall\": 0.25}, {\"count\": 4, \"cutoff\": 11, \"User-ID\": 29489, \"precision\": 0.09090909090909091, \"recall\": 0.25}, {\"count\": 4, \"cutoff\": 16, \"User-ID\": 29489, \"precision\": 0.125, \"recall\": 0.5}, {\"count\": 4, \"cutoff\": 21, \"User-ID\": 29489, \"precision\": 0.14285714285714285, \"recall\": 0.75}, {\"count\": 4, \"cutoff\": 26, \"User-ID\": 29489, \"precision\": 0.11538461538461539, \"recall\": 0.75}, {\"count\": 4, \"cutoff\": 31, \"User-ID\": 29489, \"precision\": 0.0967741935483871, \"recall\": 0.75}, {\"count\": 4, \"cutoff\": 36, \"User-ID\": 29489, \"precision\": 0.1111111111111111, \"recall\": 1.0}, {\"count\": 4, \"cutoff\": 41, \"User-ID\": 29489, \"precision\": 0.0975609756097561, \"recall\": 1.0}, {\"count\": 4, \"cutoff\": 46, \"User-ID\": 29489, \"precision\": 0.08695652173913043, \"recall\": 1.0}, {\"count\": 2, \"cutoff\": 1, \"User-ID\": 29556, \"precision\": 0.0, \"recall\": 0.0}, {\"count\": 2, \"cutoff\": 2, \"User-ID\": 29556, \"precision\": 0.0, \"recall\": 0.0}, {\"count\": 2, \"cutoff\": 3, \"User-ID\": 29556, \"precision\": 0.0, \"recall\": 0.0}, {\"count\": 2, \"cutoff\": 4, \"User-ID\": 29556, \"precision\": 0.0, \"recall\": 0.0}, {\"count\": 2, \"cutoff\": 5, \"User-ID\": 29556, \"precision\": 0.2, \"recall\": 0.5}, {\"count\": 2, \"cutoff\": 6, \"User-ID\": 29556, \"precision\": 0.16666666666666666, \"recall\": 0.5}, {\"count\": 2, \"cutoff\": 7, \"User-ID\": 29556, \"precision\": 0.14285714285714285, \"recall\": 0.5}, {\"count\": 2, \"cutoff\": 8, \"User-ID\": 29556, \"precision\": 0.25, \"recall\": 1.0}, {\"count\": 2, \"cutoff\": 9, \"User-ID\": 29556, \"precision\": 0.2222222222222222, \"recall\": 1.0}, {\"count\": 2, \"cutoff\": 10, \"User-ID\": 29556, \"precision\": 0.2, \"recall\": 1.0}, {\"count\": 2, \"cutoff\": 11, \"User-ID\": 29556, \"precision\": 0.18181818181818182, \"recall\": 1.0}, {\"count\": 2, \"cutoff\": 16, \"User-ID\": 29556, \"precision\": 0.125, \"recall\": 1.0}, {\"count\": 2, \"cutoff\": 21, \"User-ID\": 29556, \"precision\": 0.09523809523809523, \"recall\": 1.0}, {\"count\": 2, \"cutoff\": 26, \"User-ID\": 29556, \"precision\": 0.07692307692307693, \"recall\": 1.0}, {\"count\": 2, \"cutoff\": 31, \"User-ID\": 29556, \"precision\": 0.06451612903225806, \"recall\": 1.0}, {\"count\": 2, \"cutoff\": 36, \"User-ID\": 29556, \"precision\": 0.05555555555555555, \"recall\": 1.0}, {\"count\": 2, \"cutoff\": 41, \"User-ID\": 29556, \"precision\": 0.04878048780487805, \"recall\": 1.0}, {\"count\": 2, \"cutoff\": 46, \"User-ID\": 29556, \"precision\": 0.043478260869565216, \"recall\": 1.0}, {\"count\": 8, \"cutoff\": 1, \"User-ID\": 30320, \"precision\": 1.0, \"recall\": 0.125}, {\"count\": 8, \"cutoff\": 2, \"User-ID\": 30320, \"precision\": 1.0, \"recall\": 0.25}, {\"count\": 8, \"cutoff\": 3, \"User-ID\": 30320, \"precision\": 0.6666666666666666, \"recall\": 0.25}, {\"count\": 8, \"cutoff\": 4, \"User-ID\": 30320, \"precision\": 0.5, \"recall\": 0.25}, {\"count\": 8, \"cutoff\": 5, \"User-ID\": 30320, \"precision\": 0.6, \"recall\": 0.375}, {\"count\": 8, \"cutoff\": 6, \"User-ID\": 30320, \"precision\": 0.6666666666666666, \"recall\": 0.5}, {\"count\": 8, \"cutoff\": 7, \"User-ID\": 30320, \"precision\": 0.5714285714285714, \"recall\": 0.5}, {\"count\": 8, \"cutoff\": 8, \"User-ID\": 30320, \"precision\": 0.5, \"recall\": 0.5}, {\"count\": 8, \"cutoff\": 9, \"User-ID\": 30320, \"precision\": 0.4444444444444444, \"recall\": 0.5}, {\"count\": 8, \"cutoff\": 10, \"User-ID\": 30320, \"precision\": 0.4, \"recall\": 0.5}, {\"count\": 8, \"cutoff\": 11, \"User-ID\": 30320, \"precision\": 0.36363636363636365, \"recall\": 0.5}, {\"count\": 8, \"cutoff\": 16, \"User-ID\": 30320, \"precision\": 0.3125, \"recall\": 0.625}, {\"count\": 8, \"cutoff\": 21, \"User-ID\": 30320, \"precision\": 0.23809523809523808, \"recall\": 0.625}, {\"count\": 8, \"cutoff\": 26, \"User-ID\": 30320, \"precision\": 0.19230769230769232, \"recall\": 0.625}, {\"count\": 8, \"cutoff\": 31, \"User-ID\": 30320, \"precision\": 0.16129032258064516, \"recall\": 0.625}, {\"count\": 8, \"cutoff\": 36, \"User-ID\": 30320, \"precision\": 0.1388888888888889, \"recall\": 0.625}, {\"count\": 8, \"cutoff\": 41, \"User-ID\": 30320, \"precision\": 0.12195121951219512, \"recall\": 0.625}, {\"count\": 8, \"cutoff\": 46, \"User-ID\": 30320, \"precision\": 0.10869565217391304, \"recall\": 0.625}, {\"count\": 23, \"cutoff\": 1, \"User-ID\": 32298, \"precision\": 1.0, \"recall\": 0.043478260869565216}, {\"count\": 23, \"cutoff\": 2, \"User-ID\": 32298, \"precision\": 1.0, \"recall\": 0.08695652173913043}, {\"count\": 23, \"cutoff\": 3, \"User-ID\": 32298, \"precision\": 1.0, \"recall\": 0.13043478260869565}, {\"count\": 23, \"cutoff\": 4, \"User-ID\": 32298, \"precision\": 1.0, \"recall\": 0.17391304347826086}, {\"count\": 23, \"cutoff\": 5, \"User-ID\": 32298, \"precision\": 1.0, \"recall\": 0.21739130434782608}, {\"count\": 23, \"cutoff\": 6, \"User-ID\": 32298, \"precision\": 1.0, \"recall\": 0.2608695652173913}, {\"count\": 23, \"cutoff\": 7, \"User-ID\": 32298, \"precision\": 0.8571428571428571, \"recall\": 0.2608695652173913}, {\"count\": 23, \"cutoff\": 8, \"User-ID\": 32298, \"precision\": 0.875, \"recall\": 0.30434782608695654}, {\"count\": 23, \"cutoff\": 9, \"User-ID\": 32298, \"precision\": 0.8888888888888888, \"recall\": 0.34782608695652173}, {\"count\": 23, \"cutoff\": 10, \"User-ID\": 32298, \"precision\": 0.9, \"recall\": 0.391304347826087}, {\"count\": 23, \"cutoff\": 11, \"User-ID\": 32298, \"precision\": 0.9090909090909091, \"recall\": 0.43478260869565216}, {\"count\": 23, \"cutoff\": 16, \"User-ID\": 32298, \"precision\": 0.8125, \"recall\": 0.5652173913043478}, {\"count\": 23, \"cutoff\": 21, \"User-ID\": 32298, \"precision\": 0.7142857142857143, \"recall\": 0.6521739130434783}, {\"count\": 23, \"cutoff\": 26, \"User-ID\": 32298, \"precision\": 0.6923076923076923, \"recall\": 0.782608695652174}, {\"count\": 23, \"cutoff\": 31, \"User-ID\": 32298, \"precision\": 0.6451612903225806, \"recall\": 0.8695652173913043}, {\"count\": 23, \"cutoff\": 36, \"User-ID\": 32298, \"precision\": 0.6571428571428571, \"recall\": 1.0}, {\"count\": 23, \"cutoff\": 41, \"User-ID\": 32298, \"precision\": 0.6571428571428571, \"recall\": 1.0}, {\"count\": 23, \"cutoff\": 46, \"User-ID\": 32298, \"precision\": 0.6571428571428571, \"recall\": 1.0}, {\"count\": 8, \"cutoff\": 1, \"User-ID\": 33217, \"precision\": 0.0, \"recall\": 0.0}, {\"count\": 8, \"cutoff\": 2, \"User-ID\": 33217, \"precision\": 0.0, \"recall\": 0.0}, {\"count\": 8, \"cutoff\": 3, \"User-ID\": 33217, \"precision\": 0.0, \"recall\": 0.0}, {\"count\": 8, \"cutoff\": 4, \"User-ID\": 33217, \"precision\": 0.0, \"recall\": 0.0}, {\"count\": 8, \"cutoff\": 5, \"User-ID\": 33217, \"precision\": 0.2, \"recall\": 0.125}, {\"count\": 8, \"cutoff\": 6, \"User-ID\": 33217, \"precision\": 0.16666666666666666, \"recall\": 0.125}, {\"count\": 8, \"cutoff\": 7, \"User-ID\": 33217, \"precision\": 0.14285714285714285, \"recall\": 0.125}, {\"count\": 8, \"cutoff\": 8, \"User-ID\": 33217, \"precision\": 0.125, \"recall\": 0.125}, {\"count\": 8, \"cutoff\": 9, \"User-ID\": 33217, \"precision\": 0.2222222222222222, \"recall\": 0.25}, {\"count\": 8, \"cutoff\": 10, \"User-ID\": 33217, \"precision\": 0.2, \"recall\": 0.25}, {\"count\": 8, \"cutoff\": 11, \"User-ID\": 33217, \"precision\": 0.18181818181818182, \"recall\": 0.25}, {\"count\": 8, \"cutoff\": 16, \"User-ID\": 33217, \"precision\": 0.1875, \"recall\": 0.375}, {\"count\": 8, \"cutoff\": 21, \"User-ID\": 33217, \"precision\": 0.23809523809523808, \"recall\": 0.625}, {\"count\": 8, \"cutoff\": 26, \"User-ID\": 33217, \"precision\": 0.19230769230769232, \"recall\": 0.625}, {\"count\": 8, \"cutoff\": 31, \"User-ID\": 33217, \"precision\": 0.16129032258064516, \"recall\": 0.625}, {\"count\": 8, \"cutoff\": 36, \"User-ID\": 33217, \"precision\": 0.16666666666666666, \"recall\": 0.75}, {\"count\": 8, \"cutoff\": 41, \"User-ID\": 33217, \"precision\": 0.14634146341463414, \"recall\": 0.75}, {\"count\": 8, \"cutoff\": 46, \"User-ID\": 33217, \"precision\": 0.13043478260869565, \"recall\": 0.75}, {\"count\": 4, \"cutoff\": 1, \"User-ID\": 33436, \"precision\": 0.0, \"recall\": 0.0}, {\"count\": 4, \"cutoff\": 2, \"User-ID\": 33436, \"precision\": 0.0, \"recall\": 0.0}, {\"count\": 4, \"cutoff\": 3, \"User-ID\": 33436, \"precision\": 0.0, \"recall\": 0.0}, {\"count\": 4, \"cutoff\": 4, \"User-ID\": 33436, \"precision\": 0.0, \"recall\": 0.0}, {\"count\": 4, \"cutoff\": 5, \"User-ID\": 33436, \"precision\": 0.0, \"recall\": 0.0}, {\"count\": 4, \"cutoff\": 6, \"User-ID\": 33436, \"precision\": 0.0, \"recall\": 0.0}, {\"count\": 4, \"cutoff\": 7, \"User-ID\": 33436, \"precision\": 0.0, \"recall\": 0.0}, {\"count\": 4, \"cutoff\": 8, \"User-ID\": 33436, \"precision\": 0.0, \"recall\": 0.0}, {\"count\": 4, \"cutoff\": 9, \"User-ID\": 33436, \"precision\": 0.0, \"recall\": 0.0}, {\"count\": 4, \"cutoff\": 10, \"User-ID\": 33436, \"precision\": 0.0, \"recall\": 0.0}, {\"count\": 4, \"cutoff\": 11, \"User-ID\": 33436, \"precision\": 0.0, \"recall\": 0.0}, {\"count\": 4, \"cutoff\": 16, \"User-ID\": 33436, \"precision\": 0.0625, \"recall\": 0.25}, {\"count\": 4, \"cutoff\": 21, \"User-ID\": 33436, \"precision\": 0.047619047619047616, \"recall\": 0.25}, {\"count\": 4, \"cutoff\": 26, \"User-ID\": 33436, \"precision\": 0.038461538461538464, \"recall\": 0.25}, {\"count\": 4, \"cutoff\": 31, \"User-ID\": 33436, \"precision\": 0.03225806451612903, \"recall\": 0.25}, {\"count\": 4, \"cutoff\": 36, \"User-ID\": 33436, \"precision\": 0.027777777777777776, \"recall\": 0.25}, {\"count\": 4, \"cutoff\": 41, \"User-ID\": 33436, \"precision\": 0.024390243902439025, \"recall\": 0.25}, {\"count\": 4, \"cutoff\": 46, \"User-ID\": 33436, \"precision\": 0.021739130434782608, \"recall\": 0.25}, {\"count\": 23, \"cutoff\": 1, \"User-ID\": 33551, \"precision\": 1.0, \"recall\": 0.043478260869565216}, {\"count\": 23, \"cutoff\": 2, \"User-ID\": 33551, \"precision\": 0.5, \"recall\": 0.043478260869565216}, {\"count\": 23, \"cutoff\": 3, \"User-ID\": 33551, \"precision\": 0.6666666666666666, \"recall\": 0.08695652173913043}, {\"count\": 23, \"cutoff\": 4, \"User-ID\": 33551, \"precision\": 0.75, \"recall\": 0.13043478260869565}, {\"count\": 23, \"cutoff\": 5, \"User-ID\": 33551, \"precision\": 0.6, \"recall\": 0.13043478260869565}, {\"count\": 23, \"cutoff\": 6, \"User-ID\": 33551, \"precision\": 0.5, \"recall\": 0.13043478260869565}, {\"count\": 23, \"cutoff\": 7, \"User-ID\": 33551, \"precision\": 0.42857142857142855, \"recall\": 0.13043478260869565}, {\"count\": 23, \"cutoff\": 8, \"User-ID\": 33551, \"precision\": 0.375, \"recall\": 0.13043478260869565}, {\"count\": 23, \"cutoff\": 9, \"User-ID\": 33551, \"precision\": 0.4444444444444444, \"recall\": 0.17391304347826086}, {\"count\": 23, \"cutoff\": 10, \"User-ID\": 33551, \"precision\": 0.4, \"recall\": 0.17391304347826086}, {\"count\": 23, \"cutoff\": 11, \"User-ID\": 33551, \"precision\": 0.45454545454545453, \"recall\": 0.21739130434782608}, {\"count\": 23, \"cutoff\": 16, \"User-ID\": 33551, \"precision\": 0.4375, \"recall\": 0.30434782608695654}, {\"count\": 23, \"cutoff\": 21, \"User-ID\": 33551, \"precision\": 0.38095238095238093, \"recall\": 0.34782608695652173}, {\"count\": 23, \"cutoff\": 26, \"User-ID\": 33551, \"precision\": 0.34615384615384615, \"recall\": 0.391304347826087}, {\"count\": 23, \"cutoff\": 31, \"User-ID\": 33551, \"precision\": 0.3870967741935484, \"recall\": 0.5217391304347826}, {\"count\": 23, \"cutoff\": 36, \"User-ID\": 33551, \"precision\": 0.3611111111111111, \"recall\": 0.5652173913043478}, {\"count\": 23, \"cutoff\": 41, \"User-ID\": 33551, \"precision\": 0.34146341463414637, \"recall\": 0.6086956521739131}, {\"count\": 23, \"cutoff\": 46, \"User-ID\": 33551, \"precision\": 0.34782608695652173, \"recall\": 0.6956521739130435}, {\"count\": 25, \"cutoff\": 1, \"User-ID\": 34966, \"precision\": 0.0, \"recall\": 0.0}, {\"count\": 25, \"cutoff\": 2, \"User-ID\": 34966, \"precision\": 0.5, \"recall\": 0.04}, {\"count\": 25, \"cutoff\": 3, \"User-ID\": 34966, \"precision\": 0.6666666666666666, \"recall\": 0.08}, {\"count\": 25, \"cutoff\": 4, \"User-ID\": 34966, \"precision\": 0.75, \"recall\": 0.12}, {\"count\": 25, \"cutoff\": 5, \"User-ID\": 34966, \"precision\": 0.8, \"recall\": 0.16}, {\"count\": 25, \"cutoff\": 6, \"User-ID\": 34966, \"precision\": 0.8333333333333334, \"recall\": 0.2}, {\"count\": 25, \"cutoff\": 7, \"User-ID\": 34966, \"precision\": 0.8571428571428571, \"recall\": 0.24}, {\"count\": 25, \"cutoff\": 8, \"User-ID\": 34966, \"precision\": 0.75, \"recall\": 0.24}, {\"count\": 25, \"cutoff\": 9, \"User-ID\": 34966, \"precision\": 0.7777777777777778, \"recall\": 0.28}, {\"count\": 25, \"cutoff\": 10, \"User-ID\": 34966, \"precision\": 0.7, \"recall\": 0.28}, {\"count\": 25, \"cutoff\": 11, \"User-ID\": 34966, \"precision\": 0.7272727272727273, \"recall\": 0.32}, {\"count\": 25, \"cutoff\": 16, \"User-ID\": 34966, \"precision\": 0.5625, \"recall\": 0.36}, {\"count\": 25, \"cutoff\": 21, \"User-ID\": 34966, \"precision\": 0.47619047619047616, \"recall\": 0.4}, {\"count\": 25, \"cutoff\": 26, \"User-ID\": 34966, \"precision\": 0.5, \"recall\": 0.52}, {\"count\": 25, \"cutoff\": 31, \"User-ID\": 34966, \"precision\": 0.45161290322580644, \"recall\": 0.56}, {\"count\": 25, \"cutoff\": 36, \"User-ID\": 34966, \"precision\": 0.4166666666666667, \"recall\": 0.6}, {\"count\": 25, \"cutoff\": 41, \"User-ID\": 34966, \"precision\": 0.4146341463414634, \"recall\": 0.68}, {\"count\": 25, \"cutoff\": 46, \"User-ID\": 34966, \"precision\": 0.391304347826087, \"recall\": 0.72}, {\"count\": 9, \"cutoff\": 1, \"User-ID\": 35321, \"precision\": 1.0, \"recall\": 0.1111111111111111}, {\"count\": 9, \"cutoff\": 2, \"User-ID\": 35321, \"precision\": 1.0, \"recall\": 0.2222222222222222}, {\"count\": 9, \"cutoff\": 3, \"User-ID\": 35321, \"precision\": 0.6666666666666666, \"recall\": 0.2222222222222222}, {\"count\": 9, \"cutoff\": 4, \"User-ID\": 35321, \"precision\": 0.75, \"recall\": 0.3333333333333333}, {\"count\": 9, \"cutoff\": 5, \"User-ID\": 35321, \"precision\": 0.6, \"recall\": 0.3333333333333333}, {\"count\": 9, \"cutoff\": 6, \"User-ID\": 35321, \"precision\": 0.5, \"recall\": 0.3333333333333333}, {\"count\": 9, \"cutoff\": 7, \"User-ID\": 35321, \"precision\": 0.42857142857142855, \"recall\": 0.3333333333333333}, {\"count\": 9, \"cutoff\": 8, \"User-ID\": 35321, \"precision\": 0.375, \"recall\": 0.3333333333333333}, {\"count\": 9, \"cutoff\": 9, \"User-ID\": 35321, \"precision\": 0.3333333333333333, \"recall\": 0.3333333333333333}, {\"count\": 9, \"cutoff\": 10, \"User-ID\": 35321, \"precision\": 0.3, \"recall\": 0.3333333333333333}, {\"count\": 9, \"cutoff\": 11, \"User-ID\": 35321, \"precision\": 0.2727272727272727, \"recall\": 0.3333333333333333}, {\"count\": 9, \"cutoff\": 16, \"User-ID\": 35321, \"precision\": 0.1875, \"recall\": 0.3333333333333333}, {\"count\": 9, \"cutoff\": 21, \"User-ID\": 35321, \"precision\": 0.19047619047619047, \"recall\": 0.4444444444444444}, {\"count\": 9, \"cutoff\": 26, \"User-ID\": 35321, \"precision\": 0.23076923076923078, \"recall\": 0.6666666666666666}, {\"count\": 9, \"cutoff\": 31, \"User-ID\": 35321, \"precision\": 0.1935483870967742, \"recall\": 0.6666666666666666}, {\"count\": 9, \"cutoff\": 36, \"User-ID\": 35321, \"precision\": 0.16666666666666666, \"recall\": 0.6666666666666666}, {\"count\": 9, \"cutoff\": 41, \"User-ID\": 35321, \"precision\": 0.14634146341463414, \"recall\": 0.6666666666666666}, {\"count\": 9, \"cutoff\": 46, \"User-ID\": 35321, \"precision\": 0.13043478260869565, \"recall\": 0.6666666666666666}, {\"count\": 15, \"cutoff\": 1, \"User-ID\": 35342, \"precision\": 0.0, \"recall\": 0.0}, {\"count\": 15, \"cutoff\": 2, \"User-ID\": 35342, \"precision\": 0.0, \"recall\": 0.0}, {\"count\": 15, \"cutoff\": 3, \"User-ID\": 35342, \"precision\": 0.3333333333333333, \"recall\": 0.06666666666666667}, {\"count\": 15, \"cutoff\": 4, \"User-ID\": 35342, \"precision\": 0.25, \"recall\": 0.06666666666666667}, {\"count\": 15, \"cutoff\": 5, \"User-ID\": 35342, \"precision\": 0.2, \"recall\": 0.06666666666666667}, {\"count\": 15, \"cutoff\": 6, \"User-ID\": 35342, \"precision\": 0.16666666666666666, \"recall\": 0.06666666666666667}, {\"count\": 15, \"cutoff\": 7, \"User-ID\": 35342, \"precision\": 0.14285714285714285, \"recall\": 0.06666666666666667}, {\"count\": 15, \"cutoff\": 8, \"User-ID\": 35342, \"precision\": 0.25, \"recall\": 0.13333333333333333}, {\"count\": 15, \"cutoff\": 9, \"User-ID\": 35342, \"precision\": 0.3333333333333333, \"recall\": 0.2}, {\"count\": 15, \"cutoff\": 10, \"User-ID\": 35342, \"precision\": 0.4, \"recall\": 0.26666666666666666}, {\"count\": 15, \"cutoff\": 11, \"User-ID\": 35342, \"precision\": 0.36363636363636365, \"recall\": 0.26666666666666666}, {\"count\": 15, \"cutoff\": 16, \"User-ID\": 35342, \"precision\": 0.3125, \"recall\": 0.3333333333333333}, {\"count\": 15, \"cutoff\": 21, \"User-ID\": 35342, \"precision\": 0.23809523809523808, \"recall\": 0.3333333333333333}, {\"count\": 15, \"cutoff\": 26, \"User-ID\": 35342, \"precision\": 0.19230769230769232, \"recall\": 0.3333333333333333}, {\"count\": 15, \"cutoff\": 31, \"User-ID\": 35342, \"precision\": 0.16129032258064516, \"recall\": 0.3333333333333333}, {\"count\": 15, \"cutoff\": 36, \"User-ID\": 35342, \"precision\": 0.1388888888888889, \"recall\": 0.3333333333333333}, {\"count\": 15, \"cutoff\": 41, \"User-ID\": 35342, \"precision\": 0.17073170731707318, \"recall\": 0.4666666666666667}, {\"count\": 15, \"cutoff\": 46, \"User-ID\": 35342, \"precision\": 0.1956521739130435, \"recall\": 0.6}, {\"count\": 9, \"cutoff\": 1, \"User-ID\": 35608, \"precision\": 1.0, \"recall\": 0.1111111111111111}, {\"count\": 9, \"cutoff\": 2, \"User-ID\": 35608, \"precision\": 1.0, \"recall\": 0.2222222222222222}, {\"count\": 9, \"cutoff\": 3, \"User-ID\": 35608, \"precision\": 1.0, \"recall\": 0.3333333333333333}, {\"count\": 9, \"cutoff\": 4, \"User-ID\": 35608, \"precision\": 1.0, \"recall\": 0.4444444444444444}, {\"count\": 9, \"cutoff\": 5, \"User-ID\": 35608, \"precision\": 0.8, \"recall\": 0.4444444444444444}, {\"count\": 9, \"cutoff\": 6, \"User-ID\": 35608, \"precision\": 0.6666666666666666, \"recall\": 0.4444444444444444}, {\"count\": 9, \"cutoff\": 7, \"User-ID\": 35608, \"precision\": 0.5714285714285714, \"recall\": 0.4444444444444444}, {\"count\": 9, \"cutoff\": 8, \"User-ID\": 35608, \"precision\": 0.5, \"recall\": 0.4444444444444444}, {\"count\": 9, \"cutoff\": 9, \"User-ID\": 35608, \"precision\": 0.4444444444444444, \"recall\": 0.4444444444444444}, {\"count\": 9, \"cutoff\": 10, \"User-ID\": 35608, \"precision\": 0.4, \"recall\": 0.4444444444444444}, {\"count\": 9, \"cutoff\": 11, \"User-ID\": 35608, \"precision\": 0.36363636363636365, \"recall\": 0.4444444444444444}, {\"count\": 9, \"cutoff\": 16, \"User-ID\": 35608, \"precision\": 0.3125, \"recall\": 0.5555555555555556}, {\"count\": 9, \"cutoff\": 21, \"User-ID\": 35608, \"precision\": 0.2857142857142857, \"recall\": 0.6666666666666666}, {\"count\": 9, \"cutoff\": 26, \"User-ID\": 35608, \"precision\": 0.23076923076923078, \"recall\": 0.6666666666666666}, {\"count\": 9, \"cutoff\": 31, \"User-ID\": 35608, \"precision\": 0.1935483870967742, \"recall\": 0.6666666666666666}, {\"count\": 9, \"cutoff\": 36, \"User-ID\": 35608, \"precision\": 0.16666666666666666, \"recall\": 0.6666666666666666}, {\"count\": 9, \"cutoff\": 41, \"User-ID\": 35608, \"precision\": 0.14634146341463414, \"recall\": 0.6666666666666666}, {\"count\": 9, \"cutoff\": 46, \"User-ID\": 35608, \"precision\": 0.13043478260869565, \"recall\": 0.6666666666666666}, {\"count\": 10, \"cutoff\": 1, \"User-ID\": 36832, \"precision\": 1.0, \"recall\": 0.1}, {\"count\": 10, \"cutoff\": 2, \"User-ID\": 36832, \"precision\": 1.0, \"recall\": 0.2}, {\"count\": 10, \"cutoff\": 3, \"User-ID\": 36832, \"precision\": 0.6666666666666666, \"recall\": 0.2}, {\"count\": 10, \"cutoff\": 4, \"User-ID\": 36832, \"precision\": 0.5, \"recall\": 0.2}, {\"count\": 10, \"cutoff\": 5, \"User-ID\": 36832, \"precision\": 0.4, \"recall\": 0.2}, {\"count\": 10, \"cutoff\": 6, \"User-ID\": 36832, \"precision\": 0.3333333333333333, \"recall\": 0.2}, {\"count\": 10, \"cutoff\": 7, \"User-ID\": 36832, \"precision\": 0.2857142857142857, \"recall\": 0.2}, {\"count\": 10, \"cutoff\": 8, \"User-ID\": 36832, \"precision\": 0.25, \"recall\": 0.2}, {\"count\": 10, \"cutoff\": 9, \"User-ID\": 36832, \"precision\": 0.2222222222222222, \"recall\": 0.2}, {\"count\": 10, \"cutoff\": 10, \"User-ID\": 36832, \"precision\": 0.2, \"recall\": 0.2}, {\"count\": 10, \"cutoff\": 11, \"User-ID\": 36832, \"precision\": 0.2727272727272727, \"recall\": 0.3}, {\"count\": 10, \"cutoff\": 16, \"User-ID\": 36832, \"precision\": 0.1875, \"recall\": 0.3}, {\"count\": 10, \"cutoff\": 21, \"User-ID\": 36832, \"precision\": 0.23809523809523808, \"recall\": 0.5}, {\"count\": 10, \"cutoff\": 26, \"User-ID\": 36832, \"precision\": 0.2692307692307692, \"recall\": 0.7}, {\"count\": 10, \"cutoff\": 31, \"User-ID\": 36832, \"precision\": 0.22580645161290322, \"recall\": 0.7}, {\"count\": 10, \"cutoff\": 36, \"User-ID\": 36832, \"precision\": 0.19444444444444445, \"recall\": 0.7}, {\"count\": 10, \"cutoff\": 41, \"User-ID\": 36832, \"precision\": 0.17073170731707318, \"recall\": 0.7}, {\"count\": 10, \"cutoff\": 46, \"User-ID\": 36832, \"precision\": 0.15217391304347827, \"recall\": 0.7}, {\"count\": 1, \"cutoff\": 1, \"User-ID\": 36849, \"precision\": 1.0, \"recall\": 1.0}, {\"count\": 1, \"cutoff\": 2, \"User-ID\": 36849, \"precision\": 0.5, \"recall\": 1.0}, {\"count\": 1, \"cutoff\": 3, \"User-ID\": 36849, \"precision\": 0.3333333333333333, \"recall\": 1.0}, {\"count\": 1, \"cutoff\": 4, \"User-ID\": 36849, \"precision\": 0.25, \"recall\": 1.0}, {\"count\": 1, \"cutoff\": 5, \"User-ID\": 36849, \"precision\": 0.2, \"recall\": 1.0}, {\"count\": 1, \"cutoff\": 6, \"User-ID\": 36849, \"precision\": 0.16666666666666666, \"recall\": 1.0}, {\"count\": 1, \"cutoff\": 7, \"User-ID\": 36849, \"precision\": 0.14285714285714285, \"recall\": 1.0}, {\"count\": 1, \"cutoff\": 8, \"User-ID\": 36849, \"precision\": 0.125, \"recall\": 1.0}, {\"count\": 1, \"cutoff\": 9, \"User-ID\": 36849, \"precision\": 0.1111111111111111, \"recall\": 1.0}, {\"count\": 1, \"cutoff\": 10, \"User-ID\": 36849, \"precision\": 0.1, \"recall\": 1.0}, {\"count\": 1, \"cutoff\": 11, \"User-ID\": 36849, \"precision\": 0.09090909090909091, \"recall\": 1.0}, {\"count\": 1, \"cutoff\": 16, \"User-ID\": 36849, \"precision\": 0.0625, \"recall\": 1.0}, {\"count\": 1, \"cutoff\": 21, \"User-ID\": 36849, \"precision\": 0.047619047619047616, \"recall\": 1.0}, {\"count\": 1, \"cutoff\": 26, \"User-ID\": 36849, \"precision\": 0.038461538461538464, \"recall\": 1.0}, {\"count\": 1, \"cutoff\": 31, \"User-ID\": 36849, \"precision\": 0.03225806451612903, \"recall\": 1.0}, {\"count\": 1, \"cutoff\": 36, \"User-ID\": 36849, \"precision\": 0.027777777777777776, \"recall\": 1.0}, {\"count\": 1, \"cutoff\": 41, \"User-ID\": 36849, \"precision\": 0.024390243902439025, \"recall\": 1.0}, {\"count\": 1, \"cutoff\": 46, \"User-ID\": 36849, \"precision\": 0.021739130434782608, \"recall\": 1.0}, {\"count\": 2, \"cutoff\": 1, \"User-ID\": 37639, \"precision\": 0.0, \"recall\": 0.0}, {\"count\": 2, \"cutoff\": 2, \"User-ID\": 37639, \"precision\": 0.0, \"recall\": 0.0}, {\"count\": 2, \"cutoff\": 3, \"User-ID\": 37639, \"precision\": 0.0, \"recall\": 0.0}, {\"count\": 2, \"cutoff\": 4, \"User-ID\": 37639, \"precision\": 0.0, \"recall\": 0.0}, {\"count\": 2, \"cutoff\": 5, \"User-ID\": 37639, \"precision\": 0.0, \"recall\": 0.0}, {\"count\": 2, \"cutoff\": 6, \"User-ID\": 37639, \"precision\": 0.0, \"recall\": 0.0}, {\"count\": 2, \"cutoff\": 7, \"User-ID\": 37639, \"precision\": 0.0, \"recall\": 0.0}, {\"count\": 2, \"cutoff\": 8, \"User-ID\": 37639, \"precision\": 0.0, \"recall\": 0.0}, {\"count\": 2, \"cutoff\": 9, \"User-ID\": 37639, \"precision\": 0.0, \"recall\": 0.0}, {\"count\": 2, \"cutoff\": 10, \"User-ID\": 37639, \"precision\": 0.0, \"recall\": 0.0}, {\"count\": 2, \"cutoff\": 11, \"User-ID\": 37639, \"precision\": 0.0, \"recall\": 0.0}, {\"count\": 2, \"cutoff\": 16, \"User-ID\": 37639, \"precision\": 0.0, \"recall\": 0.0}, {\"count\": 2, \"cutoff\": 21, \"User-ID\": 37639, \"precision\": 0.0, \"recall\": 0.0}, {\"count\": 2, \"cutoff\": 26, \"User-ID\": 37639, \"precision\": 0.0, \"recall\": 0.0}, {\"count\": 2, \"cutoff\": 31, \"User-ID\": 37639, \"precision\": 0.0, \"recall\": 0.0}, {\"count\": 2, \"cutoff\": 36, \"User-ID\": 37639, \"precision\": 0.0, \"recall\": 0.0}, {\"count\": 2, \"cutoff\": 41, \"User-ID\": 37639, \"precision\": 0.0, \"recall\": 0.0}, {\"count\": 2, \"cutoff\": 46, \"User-ID\": 37639, \"precision\": 0.0, \"recall\": 0.0}, {\"count\": 5, \"cutoff\": 1, \"User-ID\": 37853, \"precision\": 0.0, \"recall\": 0.0}, {\"count\": 5, \"cutoff\": 2, \"User-ID\": 37853, \"precision\": 0.0, \"recall\": 0.0}, {\"count\": 5, \"cutoff\": 3, \"User-ID\": 37853, \"precision\": 0.3333333333333333, \"recall\": 0.2}, {\"count\": 5, \"cutoff\": 4, \"User-ID\": 37853, \"precision\": 0.25, \"recall\": 0.2}, {\"count\": 5, \"cutoff\": 5, \"User-ID\": 37853, \"precision\": 0.4, \"recall\": 0.4}, {\"count\": 5, \"cutoff\": 6, \"User-ID\": 37853, \"precision\": 0.3333333333333333, \"recall\": 0.4}, {\"count\": 5, \"cutoff\": 7, \"User-ID\": 37853, \"precision\": 0.2857142857142857, \"recall\": 0.4}, {\"count\": 5, \"cutoff\": 8, \"User-ID\": 37853, \"precision\": 0.25, \"recall\": 0.4}, {\"count\": 5, \"cutoff\": 9, \"User-ID\": 37853, \"precision\": 0.2222222222222222, \"recall\": 0.4}, {\"count\": 5, \"cutoff\": 10, \"User-ID\": 37853, \"precision\": 0.2, \"recall\": 0.4}, {\"count\": 5, \"cutoff\": 11, \"User-ID\": 37853, \"precision\": 0.18181818181818182, \"recall\": 0.4}, {\"count\": 5, \"cutoff\": 16, \"User-ID\": 37853, \"precision\": 0.125, \"recall\": 0.4}, {\"count\": 5, \"cutoff\": 21, \"User-ID\": 37853, \"precision\": 0.09523809523809523, \"recall\": 0.4}, {\"count\": 5, \"cutoff\": 26, \"User-ID\": 37853, \"precision\": 0.11538461538461539, \"recall\": 0.6}, {\"count\": 5, \"cutoff\": 31, \"User-ID\": 37853, \"precision\": 0.0967741935483871, \"recall\": 0.6}, {\"count\": 5, \"cutoff\": 36, \"User-ID\": 37853, \"precision\": 0.08333333333333333, \"recall\": 0.6}, {\"count\": 5, \"cutoff\": 41, \"User-ID\": 37853, \"precision\": 0.07317073170731707, \"recall\": 0.6}, {\"count\": 5, \"cutoff\": 46, \"User-ID\": 37853, \"precision\": 0.06521739130434782, \"recall\": 0.6}, {\"count\": 6, \"cutoff\": 1, \"User-ID\": 41293, \"precision\": 1.0, \"recall\": 0.16666666666666666}, {\"count\": 6, \"cutoff\": 2, \"User-ID\": 41293, \"precision\": 0.5, \"recall\": 0.16666666666666666}, {\"count\": 6, \"cutoff\": 3, \"User-ID\": 41293, \"precision\": 0.6666666666666666, \"recall\": 0.3333333333333333}, {\"count\": 6, \"cutoff\": 4, \"User-ID\": 41293, \"precision\": 0.5, \"recall\": 0.3333333333333333}, {\"count\": 6, \"cutoff\": 5, \"User-ID\": 41293, \"precision\": 0.4, \"recall\": 0.3333333333333333}, {\"count\": 6, \"cutoff\": 6, \"User-ID\": 41293, \"precision\": 0.3333333333333333, \"recall\": 0.3333333333333333}, {\"count\": 6, \"cutoff\": 7, \"User-ID\": 41293, \"precision\": 0.2857142857142857, \"recall\": 0.3333333333333333}, {\"count\": 6, \"cutoff\": 8, \"User-ID\": 41293, \"precision\": 0.25, \"recall\": 0.3333333333333333}, {\"count\": 6, \"cutoff\": 9, \"User-ID\": 41293, \"precision\": 0.2222222222222222, \"recall\": 0.3333333333333333}, {\"count\": 6, \"cutoff\": 10, \"User-ID\": 41293, \"precision\": 0.2, \"recall\": 0.3333333333333333}, {\"count\": 6, \"cutoff\": 11, \"User-ID\": 41293, \"precision\": 0.18181818181818182, \"recall\": 0.3333333333333333}, {\"count\": 6, \"cutoff\": 16, \"User-ID\": 41293, \"precision\": 0.125, \"recall\": 0.3333333333333333}, {\"count\": 6, \"cutoff\": 21, \"User-ID\": 41293, \"precision\": 0.14285714285714285, \"recall\": 0.5}, {\"count\": 6, \"cutoff\": 26, \"User-ID\": 41293, \"precision\": 0.11538461538461539, \"recall\": 0.5}, {\"count\": 6, \"cutoff\": 31, \"User-ID\": 41293, \"precision\": 0.0967741935483871, \"recall\": 0.5}, {\"count\": 6, \"cutoff\": 36, \"User-ID\": 41293, \"precision\": 0.08333333333333333, \"recall\": 0.5}, {\"count\": 6, \"cutoff\": 41, \"User-ID\": 41293, \"precision\": 0.07317073170731707, \"recall\": 0.5}, {\"count\": 6, \"cutoff\": 46, \"User-ID\": 41293, \"precision\": 0.06521739130434782, \"recall\": 0.5}, {\"count\": 5, \"cutoff\": 1, \"User-ID\": 42011, \"precision\": 0.0, \"recall\": 0.0}, {\"count\": 5, \"cutoff\": 2, \"User-ID\": 42011, \"precision\": 0.0, \"recall\": 0.0}, {\"count\": 5, \"cutoff\": 3, \"User-ID\": 42011, \"precision\": 0.0, \"recall\": 0.0}, {\"count\": 5, \"cutoff\": 4, \"User-ID\": 42011, \"precision\": 0.0, \"recall\": 0.0}, {\"count\": 5, \"cutoff\": 5, \"User-ID\": 42011, \"precision\": 0.0, \"recall\": 0.0}, {\"count\": 5, \"cutoff\": 6, \"User-ID\": 42011, \"precision\": 0.0, \"recall\": 0.0}, {\"count\": 5, \"cutoff\": 7, \"User-ID\": 42011, \"precision\": 0.0, \"recall\": 0.0}, {\"count\": 5, \"cutoff\": 8, \"User-ID\": 42011, \"precision\": 0.0, \"recall\": 0.0}, {\"count\": 5, \"cutoff\": 9, \"User-ID\": 42011, \"precision\": 0.1111111111111111, \"recall\": 0.2}, {\"count\": 5, \"cutoff\": 10, \"User-ID\": 42011, \"precision\": 0.1, \"recall\": 0.2}, {\"count\": 5, \"cutoff\": 11, \"User-ID\": 42011, \"precision\": 0.09090909090909091, \"recall\": 0.2}, {\"count\": 5, \"cutoff\": 16, \"User-ID\": 42011, \"precision\": 0.125, \"recall\": 0.4}, {\"count\": 5, \"cutoff\": 21, \"User-ID\": 42011, \"precision\": 0.09523809523809523, \"recall\": 0.4}, {\"count\": 5, \"cutoff\": 26, \"User-ID\": 42011, \"precision\": 0.11538461538461539, \"recall\": 0.6}, {\"count\": 5, \"cutoff\": 31, \"User-ID\": 42011, \"precision\": 0.12903225806451613, \"recall\": 0.8}, {\"count\": 5, \"cutoff\": 36, \"User-ID\": 42011, \"precision\": 0.1111111111111111, \"recall\": 0.8}, {\"count\": 5, \"cutoff\": 41, \"User-ID\": 42011, \"precision\": 0.0975609756097561, \"recall\": 0.8}, {\"count\": 5, \"cutoff\": 46, \"User-ID\": 42011, \"precision\": 0.08695652173913043, \"recall\": 0.8}, {\"count\": 27, \"cutoff\": 1, \"User-ID\": 42305, \"precision\": 1.0, \"recall\": 0.037037037037037035}, {\"count\": 27, \"cutoff\": 2, \"User-ID\": 42305, \"precision\": 1.0, \"recall\": 0.07407407407407407}, {\"count\": 27, \"cutoff\": 3, \"User-ID\": 42305, \"precision\": 1.0, \"recall\": 0.1111111111111111}, {\"count\": 27, \"cutoff\": 4, \"User-ID\": 42305, \"precision\": 1.0, \"recall\": 0.14814814814814814}, {\"count\": 27, \"cutoff\": 5, \"User-ID\": 42305, \"precision\": 1.0, \"recall\": 0.18518518518518517}, {\"count\": 27, \"cutoff\": 6, \"User-ID\": 42305, \"precision\": 0.8333333333333334, \"recall\": 0.18518518518518517}, {\"count\": 27, \"cutoff\": 7, \"User-ID\": 42305, \"precision\": 0.8571428571428571, \"recall\": 0.2222222222222222}, {\"count\": 27, \"cutoff\": 8, \"User-ID\": 42305, \"precision\": 0.875, \"recall\": 0.25925925925925924}, {\"count\": 27, \"cutoff\": 9, \"User-ID\": 42305, \"precision\": 0.8888888888888888, \"recall\": 0.2962962962962963}, {\"count\": 27, \"cutoff\": 10, \"User-ID\": 42305, \"precision\": 0.9, \"recall\": 0.3333333333333333}, {\"count\": 27, \"cutoff\": 11, \"User-ID\": 42305, \"precision\": 0.9090909090909091, \"recall\": 0.37037037037037035}, {\"count\": 27, \"cutoff\": 16, \"User-ID\": 42305, \"precision\": 0.8125, \"recall\": 0.48148148148148145}, {\"count\": 27, \"cutoff\": 21, \"User-ID\": 42305, \"precision\": 0.8095238095238095, \"recall\": 0.6296296296296297}, {\"count\": 27, \"cutoff\": 26, \"User-ID\": 42305, \"precision\": 0.7692307692307693, \"recall\": 0.7407407407407407}, {\"count\": 27, \"cutoff\": 31, \"User-ID\": 42305, \"precision\": 0.7741935483870968, \"recall\": 0.8888888888888888}, {\"count\": 27, \"cutoff\": 36, \"User-ID\": 42305, \"precision\": 0.75, \"recall\": 1.0}, {\"count\": 27, \"cutoff\": 41, \"User-ID\": 42305, \"precision\": 0.6923076923076923, \"recall\": 1.0}, {\"count\": 27, \"cutoff\": 46, \"User-ID\": 42305, \"precision\": 0.6923076923076923, \"recall\": 1.0}, {\"count\": 1, \"cutoff\": 1, \"User-ID\": 42980, \"precision\": 0.0, \"recall\": 0.0}, {\"count\": 1, \"cutoff\": 2, \"User-ID\": 42980, \"precision\": 0.0, \"recall\": 0.0}, {\"count\": 1, \"cutoff\": 3, \"User-ID\": 42980, \"precision\": 0.0, \"recall\": 0.0}, {\"count\": 1, \"cutoff\": 4, \"User-ID\": 42980, \"precision\": 0.0, \"recall\": 0.0}, {\"count\": 1, \"cutoff\": 5, \"User-ID\": 42980, \"precision\": 0.0, \"recall\": 0.0}, {\"count\": 1, \"cutoff\": 6, \"User-ID\": 42980, \"precision\": 0.0, \"recall\": 0.0}, {\"count\": 1, \"cutoff\": 7, \"User-ID\": 42980, \"precision\": 0.0, \"recall\": 0.0}, {\"count\": 1, \"cutoff\": 8, \"User-ID\": 42980, \"precision\": 0.0, \"recall\": 0.0}, {\"count\": 1, \"cutoff\": 9, \"User-ID\": 42980, \"precision\": 0.0, \"recall\": 0.0}, {\"count\": 1, \"cutoff\": 10, \"User-ID\": 42980, \"precision\": 0.0, \"recall\": 0.0}, {\"count\": 1, \"cutoff\": 11, \"User-ID\": 42980, \"precision\": 0.0, \"recall\": 0.0}, {\"count\": 1, \"cutoff\": 16, \"User-ID\": 42980, \"precision\": 0.0, \"recall\": 0.0}, {\"count\": 1, \"cutoff\": 21, \"User-ID\": 42980, \"precision\": 0.0, \"recall\": 0.0}, {\"count\": 1, \"cutoff\": 26, \"User-ID\": 42980, \"precision\": 0.0, \"recall\": 0.0}, {\"count\": 1, \"cutoff\": 31, \"User-ID\": 42980, \"precision\": 0.0, \"recall\": 0.0}, {\"count\": 1, \"cutoff\": 36, \"User-ID\": 42980, \"precision\": 0.0, \"recall\": 0.0}, {\"count\": 1, \"cutoff\": 41, \"User-ID\": 42980, \"precision\": 0.0, \"recall\": 0.0}, {\"count\": 1, \"cutoff\": 46, \"User-ID\": 42980, \"precision\": 0.0, \"recall\": 0.0}, {\"count\": 1, \"cutoff\": 1, \"User-ID\": 43416, \"precision\": 0.0, \"recall\": 0.0}, {\"count\": 1, \"cutoff\": 2, \"User-ID\": 43416, \"precision\": 0.0, \"recall\": 0.0}, {\"count\": 1, \"cutoff\": 3, \"User-ID\": 43416, \"precision\": 0.0, \"recall\": 0.0}, {\"count\": 1, \"cutoff\": 4, \"User-ID\": 43416, \"precision\": 0.0, \"recall\": 0.0}, {\"count\": 1, \"cutoff\": 5, \"User-ID\": 43416, \"precision\": 0.0, \"recall\": 0.0}, {\"count\": 1, \"cutoff\": 6, \"User-ID\": 43416, \"precision\": 0.0, \"recall\": 0.0}, {\"count\": 1, \"cutoff\": 7, \"User-ID\": 43416, \"precision\": 0.0, \"recall\": 0.0}, {\"count\": 1, \"cutoff\": 8, \"User-ID\": 43416, \"precision\": 0.0, \"recall\": 0.0}, {\"count\": 1, \"cutoff\": 9, \"User-ID\": 43416, \"precision\": 0.0, \"recall\": 0.0}, {\"count\": 1, \"cutoff\": 10, \"User-ID\": 43416, \"precision\": 0.0, \"recall\": 0.0}, {\"count\": 1, \"cutoff\": 11, \"User-ID\": 43416, \"precision\": 0.0, \"recall\": 0.0}, {\"count\": 1, \"cutoff\": 16, \"User-ID\": 43416, \"precision\": 0.0, \"recall\": 0.0}, {\"count\": 1, \"cutoff\": 21, \"User-ID\": 43416, \"precision\": 0.0, \"recall\": 0.0}, {\"count\": 1, \"cutoff\": 26, \"User-ID\": 43416, \"precision\": 0.0, \"recall\": 0.0}, {\"count\": 1, \"cutoff\": 31, \"User-ID\": 43416, \"precision\": 0.0, \"recall\": 0.0}, {\"count\": 1, \"cutoff\": 36, \"User-ID\": 43416, \"precision\": 0.0, \"recall\": 0.0}, {\"count\": 1, \"cutoff\": 41, \"User-ID\": 43416, \"precision\": 0.0, \"recall\": 0.0}, {\"count\": 1, \"cutoff\": 46, \"User-ID\": 43416, \"precision\": 0.0, \"recall\": 0.0}, {\"count\": 3, \"cutoff\": 1, \"User-ID\": 45205, \"precision\": 0.0, \"recall\": 0.0}, {\"count\": 3, \"cutoff\": 2, \"User-ID\": 45205, \"precision\": 0.0, \"recall\": 0.0}, {\"count\": 3, \"cutoff\": 3, \"User-ID\": 45205, \"precision\": 0.0, \"recall\": 0.0}, {\"count\": 3, \"cutoff\": 4, \"User-ID\": 45205, \"precision\": 0.0, \"recall\": 0.0}, {\"count\": 3, \"cutoff\": 5, \"User-ID\": 45205, \"precision\": 0.0, \"recall\": 0.0}, {\"count\": 3, \"cutoff\": 6, \"User-ID\": 45205, \"precision\": 0.0, \"recall\": 0.0}, {\"count\": 3, \"cutoff\": 7, \"User-ID\": 45205, \"precision\": 0.0, \"recall\": 0.0}, {\"count\": 3, \"cutoff\": 8, \"User-ID\": 45205, \"precision\": 0.0, \"recall\": 0.0}, {\"count\": 3, \"cutoff\": 9, \"User-ID\": 45205, \"precision\": 0.0, \"recall\": 0.0}, {\"count\": 3, \"cutoff\": 10, \"User-ID\": 45205, \"precision\": 0.0, \"recall\": 0.0}, {\"count\": 3, \"cutoff\": 11, \"User-ID\": 45205, \"precision\": 0.0, \"recall\": 0.0}, {\"count\": 3, \"cutoff\": 16, \"User-ID\": 45205, \"precision\": 0.0, \"recall\": 0.0}, {\"count\": 3, \"cutoff\": 21, \"User-ID\": 45205, \"precision\": 0.0, \"recall\": 0.0}, {\"count\": 3, \"cutoff\": 26, \"User-ID\": 45205, \"precision\": 0.0, \"recall\": 0.0}, {\"count\": 3, \"cutoff\": 31, \"User-ID\": 45205, \"precision\": 0.0, \"recall\": 0.0}, {\"count\": 3, \"cutoff\": 36, \"User-ID\": 45205, \"precision\": 0.0, \"recall\": 0.0}, {\"count\": 3, \"cutoff\": 41, \"User-ID\": 45205, \"precision\": 0.0, \"recall\": 0.0}, {\"count\": 3, \"cutoff\": 46, \"User-ID\": 45205, \"precision\": 0.0, \"recall\": 0.0}, {\"count\": 4, \"cutoff\": 1, \"User-ID\": 45797, \"precision\": 0.0, \"recall\": 0.0}, {\"count\": 4, \"cutoff\": 2, \"User-ID\": 45797, \"precision\": 0.0, \"recall\": 0.0}, {\"count\": 4, \"cutoff\": 3, \"User-ID\": 45797, \"precision\": 0.0, \"recall\": 0.0}, {\"count\": 4, \"cutoff\": 4, \"User-ID\": 45797, \"precision\": 0.0, \"recall\": 0.0}, {\"count\": 4, \"cutoff\": 5, \"User-ID\": 45797, \"precision\": 0.0, \"recall\": 0.0}, {\"count\": 4, \"cutoff\": 6, \"User-ID\": 45797, \"precision\": 0.0, \"recall\": 0.0}, {\"count\": 4, \"cutoff\": 7, \"User-ID\": 45797, \"precision\": 0.0, \"recall\": 0.0}, {\"count\": 4, \"cutoff\": 8, \"User-ID\": 45797, \"precision\": 0.0, \"recall\": 0.0}, {\"count\": 4, \"cutoff\": 9, \"User-ID\": 45797, \"precision\": 0.0, \"recall\": 0.0}, {\"count\": 4, \"cutoff\": 10, \"User-ID\": 45797, \"precision\": 0.0, \"recall\": 0.0}, {\"count\": 4, \"cutoff\": 11, \"User-ID\": 45797, \"precision\": 0.0, \"recall\": 0.0}, {\"count\": 4, \"cutoff\": 16, \"User-ID\": 45797, \"precision\": 0.0, \"recall\": 0.0}, {\"count\": 4, \"cutoff\": 21, \"User-ID\": 45797, \"precision\": 0.0, \"recall\": 0.0}, {\"count\": 4, \"cutoff\": 26, \"User-ID\": 45797, \"precision\": 0.0, \"recall\": 0.0}, {\"count\": 4, \"cutoff\": 31, \"User-ID\": 45797, \"precision\": 0.0, \"recall\": 0.0}, {\"count\": 4, \"cutoff\": 36, \"User-ID\": 45797, \"precision\": 0.0, \"recall\": 0.0}, {\"count\": 4, \"cutoff\": 41, \"User-ID\": 45797, \"precision\": 0.0, \"recall\": 0.0}, {\"count\": 4, \"cutoff\": 46, \"User-ID\": 45797, \"precision\": 0.0, \"recall\": 0.0}, {\"count\": 2, \"cutoff\": 1, \"User-ID\": 47668, \"precision\": 0.0, \"recall\": 0.0}, {\"count\": 2, \"cutoff\": 2, \"User-ID\": 47668, \"precision\": 0.0, \"recall\": 0.0}, {\"count\": 2, \"cutoff\": 3, \"User-ID\": 47668, \"precision\": 0.0, \"recall\": 0.0}, {\"count\": 2, \"cutoff\": 4, \"User-ID\": 47668, \"precision\": 0.0, \"recall\": 0.0}, {\"count\": 2, \"cutoff\": 5, \"User-ID\": 47668, \"precision\": 0.0, \"recall\": 0.0}, {\"count\": 2, \"cutoff\": 6, \"User-ID\": 47668, \"precision\": 0.0, \"recall\": 0.0}, {\"count\": 2, \"cutoff\": 7, \"User-ID\": 47668, \"precision\": 0.0, \"recall\": 0.0}, {\"count\": 2, \"cutoff\": 8, \"User-ID\": 47668, \"precision\": 0.0, \"recall\": 0.0}, {\"count\": 2, \"cutoff\": 9, \"User-ID\": 47668, \"precision\": 0.0, \"recall\": 0.0}, {\"count\": 2, \"cutoff\": 10, \"User-ID\": 47668, \"precision\": 0.0, \"recall\": 0.0}, {\"count\": 2, \"cutoff\": 11, \"User-ID\": 47668, \"precision\": 0.0, \"recall\": 0.0}, {\"count\": 2, \"cutoff\": 16, \"User-ID\": 47668, \"precision\": 0.0, \"recall\": 0.0}, {\"count\": 2, \"cutoff\": 21, \"User-ID\": 47668, \"precision\": 0.0, \"recall\": 0.0}, {\"count\": 2, \"cutoff\": 26, \"User-ID\": 47668, \"precision\": 0.0, \"recall\": 0.0}, {\"count\": 2, \"cutoff\": 31, \"User-ID\": 47668, \"precision\": 0.03225806451612903, \"recall\": 0.5}, {\"count\": 2, \"cutoff\": 36, \"User-ID\": 47668, \"precision\": 0.027777777777777776, \"recall\": 0.5}, {\"count\": 2, \"cutoff\": 41, \"User-ID\": 47668, \"precision\": 0.024390243902439025, \"recall\": 0.5}, {\"count\": 2, \"cutoff\": 46, \"User-ID\": 47668, \"precision\": 0.021739130434782608, \"recall\": 0.5}, {\"count\": 30, \"cutoff\": 1, \"User-ID\": 49076, \"precision\": 1.0, \"recall\": 0.03333333333333333}, {\"count\": 30, \"cutoff\": 2, \"User-ID\": 49076, \"precision\": 1.0, \"recall\": 0.06666666666666667}, {\"count\": 30, \"cutoff\": 3, \"User-ID\": 49076, \"precision\": 1.0, \"recall\": 0.1}, {\"count\": 30, \"cutoff\": 4, \"User-ID\": 49076, \"precision\": 1.0, \"recall\": 0.13333333333333333}, {\"count\": 30, \"cutoff\": 5, \"User-ID\": 49076, \"precision\": 1.0, \"recall\": 0.16666666666666666}, {\"count\": 30, \"cutoff\": 6, \"User-ID\": 49076, \"precision\": 1.0, \"recall\": 0.2}, {\"count\": 30, \"cutoff\": 7, \"User-ID\": 49076, \"precision\": 0.8571428571428571, \"recall\": 0.2}, {\"count\": 30, \"cutoff\": 8, \"User-ID\": 49076, \"precision\": 0.875, \"recall\": 0.23333333333333334}, {\"count\": 30, \"cutoff\": 9, \"User-ID\": 49076, \"precision\": 0.8888888888888888, \"recall\": 0.26666666666666666}, {\"count\": 30, \"cutoff\": 10, \"User-ID\": 49076, \"precision\": 0.9, \"recall\": 0.3}, {\"count\": 30, \"cutoff\": 11, \"User-ID\": 49076, \"precision\": 0.9090909090909091, \"recall\": 0.3333333333333333}, {\"count\": 30, \"cutoff\": 16, \"User-ID\": 49076, \"precision\": 0.8125, \"recall\": 0.43333333333333335}, {\"count\": 30, \"cutoff\": 21, \"User-ID\": 49076, \"precision\": 0.7142857142857143, \"recall\": 0.5}, {\"count\": 30, \"cutoff\": 26, \"User-ID\": 49076, \"precision\": 0.7307692307692307, \"recall\": 0.6333333333333333}, {\"count\": 30, \"cutoff\": 31, \"User-ID\": 49076, \"precision\": 0.7096774193548387, \"recall\": 0.7333333333333333}, {\"count\": 30, \"cutoff\": 36, \"User-ID\": 49076, \"precision\": 0.7222222222222222, \"recall\": 0.8666666666666667}, {\"count\": 30, \"cutoff\": 41, \"User-ID\": 49076, \"precision\": 0.7073170731707317, \"recall\": 0.9666666666666667}, {\"count\": 30, \"cutoff\": 46, \"User-ID\": 49076, \"precision\": 0.7142857142857143, \"recall\": 1.0}, {\"count\": 3, \"cutoff\": 1, \"User-ID\": 49737, \"precision\": 0.0, \"recall\": 0.0}, {\"count\": 3, \"cutoff\": 2, \"User-ID\": 49737, \"precision\": 0.0, \"recall\": 0.0}, {\"count\": 3, \"cutoff\": 3, \"User-ID\": 49737, \"precision\": 0.0, \"recall\": 0.0}, {\"count\": 3, \"cutoff\": 4, \"User-ID\": 49737, \"precision\": 0.0, \"recall\": 0.0}, {\"count\": 3, \"cutoff\": 5, \"User-ID\": 49737, \"precision\": 0.0, \"recall\": 0.0}, {\"count\": 3, \"cutoff\": 6, \"User-ID\": 49737, \"precision\": 0.0, \"recall\": 0.0}, {\"count\": 3, \"cutoff\": 7, \"User-ID\": 49737, \"precision\": 0.0, \"recall\": 0.0}, {\"count\": 3, \"cutoff\": 8, \"User-ID\": 49737, \"precision\": 0.0, \"recall\": 0.0}, {\"count\": 3, \"cutoff\": 9, \"User-ID\": 49737, \"precision\": 0.0, \"recall\": 0.0}, {\"count\": 3, \"cutoff\": 10, \"User-ID\": 49737, \"precision\": 0.0, \"recall\": 0.0}, {\"count\": 3, \"cutoff\": 11, \"User-ID\": 49737, \"precision\": 0.0, \"recall\": 0.0}, {\"count\": 3, \"cutoff\": 16, \"User-ID\": 49737, \"precision\": 0.0, \"recall\": 0.0}, {\"count\": 3, \"cutoff\": 21, \"User-ID\": 49737, \"precision\": 0.0, \"recall\": 0.0}, {\"count\": 3, \"cutoff\": 26, \"User-ID\": 49737, \"precision\": 0.0, \"recall\": 0.0}, {\"count\": 3, \"cutoff\": 31, \"User-ID\": 49737, \"precision\": 0.03225806451612903, \"recall\": 0.3333333333333333}, {\"count\": 3, \"cutoff\": 36, \"User-ID\": 49737, \"precision\": 0.027777777777777776, \"recall\": 0.3333333333333333}, {\"count\": 3, \"cutoff\": 41, \"User-ID\": 49737, \"precision\": 0.024390243902439025, \"recall\": 0.3333333333333333}, {\"count\": 3, \"cutoff\": 46, \"User-ID\": 49737, \"precision\": 0.021739130434782608, \"recall\": 0.3333333333333333}, {\"count\": 6, \"cutoff\": 1, \"User-ID\": 49960, \"precision\": 1.0, \"recall\": 0.16666666666666666}, {\"count\": 6, \"cutoff\": 2, \"User-ID\": 49960, \"precision\": 1.0, \"recall\": 0.3333333333333333}, {\"count\": 6, \"cutoff\": 3, \"User-ID\": 49960, \"precision\": 0.6666666666666666, \"recall\": 0.3333333333333333}, {\"count\": 6, \"cutoff\": 4, \"User-ID\": 49960, \"precision\": 0.5, \"recall\": 0.3333333333333333}, {\"count\": 6, \"cutoff\": 5, \"User-ID\": 49960, \"precision\": 0.4, \"recall\": 0.3333333333333333}, {\"count\": 6, \"cutoff\": 6, \"User-ID\": 49960, \"precision\": 0.3333333333333333, \"recall\": 0.3333333333333333}, {\"count\": 6, \"cutoff\": 7, \"User-ID\": 49960, \"precision\": 0.2857142857142857, \"recall\": 0.3333333333333333}, {\"count\": 6, \"cutoff\": 8, \"User-ID\": 49960, \"precision\": 0.25, \"recall\": 0.3333333333333333}, {\"count\": 6, \"cutoff\": 9, \"User-ID\": 49960, \"precision\": 0.2222222222222222, \"recall\": 0.3333333333333333}, {\"count\": 6, \"cutoff\": 10, \"User-ID\": 49960, \"precision\": 0.2, \"recall\": 0.3333333333333333}, {\"count\": 6, \"cutoff\": 11, \"User-ID\": 49960, \"precision\": 0.18181818181818182, \"recall\": 0.3333333333333333}, {\"count\": 6, \"cutoff\": 16, \"User-ID\": 49960, \"precision\": 0.1875, \"recall\": 0.5}, {\"count\": 6, \"cutoff\": 21, \"User-ID\": 49960, \"precision\": 0.14285714285714285, \"recall\": 0.5}, {\"count\": 6, \"cutoff\": 26, \"User-ID\": 49960, \"precision\": 0.15384615384615385, \"recall\": 0.6666666666666666}, {\"count\": 6, \"cutoff\": 31, \"User-ID\": 49960, \"precision\": 0.12903225806451613, \"recall\": 0.6666666666666666}, {\"count\": 6, \"cutoff\": 36, \"User-ID\": 49960, \"precision\": 0.1111111111111111, \"recall\": 0.6666666666666666}, {\"count\": 6, \"cutoff\": 41, \"User-ID\": 49960, \"precision\": 0.0975609756097561, \"recall\": 0.6666666666666666}, {\"count\": 6, \"cutoff\": 46, \"User-ID\": 49960, \"precision\": 0.08695652173913043, \"recall\": 0.6666666666666666}, {\"count\": 1, \"cutoff\": 1, \"User-ID\": 49978, \"precision\": 0.0, \"recall\": 0.0}, {\"count\": 1, \"cutoff\": 2, \"User-ID\": 49978, \"precision\": 0.0, \"recall\": 0.0}, {\"count\": 1, \"cutoff\": 3, \"User-ID\": 49978, \"precision\": 0.0, \"recall\": 0.0}, {\"count\": 1, \"cutoff\": 4, \"User-ID\": 49978, \"precision\": 0.0, \"recall\": 0.0}, {\"count\": 1, \"cutoff\": 5, \"User-ID\": 49978, \"precision\": 0.0, \"recall\": 0.0}, {\"count\": 1, \"cutoff\": 6, \"User-ID\": 49978, \"precision\": 0.0, \"recall\": 0.0}, {\"count\": 1, \"cutoff\": 7, \"User-ID\": 49978, \"precision\": 0.0, \"recall\": 0.0}, {\"count\": 1, \"cutoff\": 8, \"User-ID\": 49978, \"precision\": 0.0, \"recall\": 0.0}, {\"count\": 1, \"cutoff\": 9, \"User-ID\": 49978, \"precision\": 0.0, \"recall\": 0.0}, {\"count\": 1, \"cutoff\": 10, \"User-ID\": 49978, \"precision\": 0.0, \"recall\": 0.0}, {\"count\": 1, \"cutoff\": 11, \"User-ID\": 49978, \"precision\": 0.0, \"recall\": 0.0}, {\"count\": 1, \"cutoff\": 16, \"User-ID\": 49978, \"precision\": 0.0, \"recall\": 0.0}, {\"count\": 1, \"cutoff\": 21, \"User-ID\": 49978, \"precision\": 0.0, \"recall\": 0.0}, {\"count\": 1, \"cutoff\": 26, \"User-ID\": 49978, \"precision\": 0.0, \"recall\": 0.0}, {\"count\": 1, \"cutoff\": 31, \"User-ID\": 49978, \"precision\": 0.0, \"recall\": 0.0}, {\"count\": 1, \"cutoff\": 36, \"User-ID\": 49978, \"precision\": 0.0, \"recall\": 0.0}, {\"count\": 1, \"cutoff\": 41, \"User-ID\": 49978, \"precision\": 0.0, \"recall\": 0.0}, {\"count\": 1, \"cutoff\": 46, \"User-ID\": 49978, \"precision\": 0.0, \"recall\": 0.0}, {\"count\": 21, \"cutoff\": 1, \"User-ID\": 50226, \"precision\": 1.0, \"recall\": 0.047619047619047616}, {\"count\": 21, \"cutoff\": 2, \"User-ID\": 50226, \"precision\": 1.0, \"recall\": 0.09523809523809523}, {\"count\": 21, \"cutoff\": 3, \"User-ID\": 50226, \"precision\": 1.0, \"recall\": 0.14285714285714285}, {\"count\": 21, \"cutoff\": 4, \"User-ID\": 50226, \"precision\": 1.0, \"recall\": 0.19047619047619047}, {\"count\": 21, \"cutoff\": 5, \"User-ID\": 50226, \"precision\": 1.0, \"recall\": 0.23809523809523808}, {\"count\": 21, \"cutoff\": 6, \"User-ID\": 50226, \"precision\": 0.8333333333333334, \"recall\": 0.23809523809523808}, {\"count\": 21, \"cutoff\": 7, \"User-ID\": 50226, \"precision\": 0.8571428571428571, \"recall\": 0.2857142857142857}, {\"count\": 21, \"cutoff\": 8, \"User-ID\": 50226, \"precision\": 0.75, \"recall\": 0.2857142857142857}, {\"count\": 21, \"cutoff\": 9, \"User-ID\": 50226, \"precision\": 0.7777777777777778, \"recall\": 0.3333333333333333}, {\"count\": 21, \"cutoff\": 10, \"User-ID\": 50226, \"precision\": 0.7, \"recall\": 0.3333333333333333}, {\"count\": 21, \"cutoff\": 11, \"User-ID\": 50226, \"precision\": 0.7272727272727273, \"recall\": 0.38095238095238093}, {\"count\": 21, \"cutoff\": 16, \"User-ID\": 50226, \"precision\": 0.625, \"recall\": 0.47619047619047616}, {\"count\": 21, \"cutoff\": 21, \"User-ID\": 50226, \"precision\": 0.6666666666666666, \"recall\": 0.6666666666666666}, {\"count\": 21, \"cutoff\": 26, \"User-ID\": 50226, \"precision\": 0.6153846153846154, \"recall\": 0.7619047619047619}, {\"count\": 21, \"cutoff\": 31, \"User-ID\": 50226, \"precision\": 0.6451612903225806, \"recall\": 0.9523809523809523}, {\"count\": 21, \"cutoff\": 36, \"User-ID\": 50226, \"precision\": 0.6363636363636364, \"recall\": 1.0}, {\"count\": 21, \"cutoff\": 41, \"User-ID\": 50226, \"precision\": 0.6363636363636364, \"recall\": 1.0}, {\"count\": 21, \"cutoff\": 46, \"User-ID\": 50226, \"precision\": 0.6363636363636364, \"recall\": 1.0}, {\"count\": 12, \"cutoff\": 1, \"User-ID\": 51499, \"precision\": 1.0, \"recall\": 0.08333333333333333}, {\"count\": 12, \"cutoff\": 2, \"User-ID\": 51499, \"precision\": 1.0, \"recall\": 0.16666666666666666}, {\"count\": 12, \"cutoff\": 3, \"User-ID\": 51499, \"precision\": 0.6666666666666666, \"recall\": 0.16666666666666666}, {\"count\": 12, \"cutoff\": 4, \"User-ID\": 51499, \"precision\": 0.5, \"recall\": 0.16666666666666666}, {\"count\": 12, \"cutoff\": 5, \"User-ID\": 51499, \"precision\": 0.6, \"recall\": 0.25}, {\"count\": 12, \"cutoff\": 6, \"User-ID\": 51499, \"precision\": 0.5, \"recall\": 0.25}, {\"count\": 12, \"cutoff\": 7, \"User-ID\": 51499, \"precision\": 0.5714285714285714, \"recall\": 0.3333333333333333}, {\"count\": 12, \"cutoff\": 8, \"User-ID\": 51499, \"precision\": 0.625, \"recall\": 0.4166666666666667}, {\"count\": 12, \"cutoff\": 9, \"User-ID\": 51499, \"precision\": 0.5555555555555556, \"recall\": 0.4166666666666667}, {\"count\": 12, \"cutoff\": 10, \"User-ID\": 51499, \"precision\": 0.6, \"recall\": 0.5}, {\"count\": 12, \"cutoff\": 11, \"User-ID\": 51499, \"precision\": 0.6363636363636364, \"recall\": 0.5833333333333334}, {\"count\": 12, \"cutoff\": 16, \"User-ID\": 51499, \"precision\": 0.625, \"recall\": 0.8333333333333334}, {\"count\": 12, \"cutoff\": 21, \"User-ID\": 51499, \"precision\": 0.47619047619047616, \"recall\": 0.8333333333333334}, {\"count\": 12, \"cutoff\": 26, \"User-ID\": 51499, \"precision\": 0.38461538461538464, \"recall\": 0.8333333333333334}, {\"count\": 12, \"cutoff\": 31, \"User-ID\": 51499, \"precision\": 0.3548387096774194, \"recall\": 0.9166666666666666}, {\"count\": 12, \"cutoff\": 36, \"User-ID\": 51499, \"precision\": 0.3055555555555556, \"recall\": 0.9166666666666666}, {\"count\": 12, \"cutoff\": 41, \"User-ID\": 51499, \"precision\": 0.2682926829268293, \"recall\": 0.9166666666666666}, {\"count\": 12, \"cutoff\": 46, \"User-ID\": 51499, \"precision\": 0.2391304347826087, \"recall\": 0.9166666666666666}, {\"count\": 4, \"cutoff\": 1, \"User-ID\": 51898, \"precision\": 0.0, \"recall\": 0.0}, {\"count\": 4, \"cutoff\": 2, \"User-ID\": 51898, \"precision\": 0.0, \"recall\": 0.0}, {\"count\": 4, \"cutoff\": 3, \"User-ID\": 51898, \"precision\": 0.0, \"recall\": 0.0}, {\"count\": 4, \"cutoff\": 4, \"User-ID\": 51898, \"precision\": 0.25, \"recall\": 0.25}, {\"count\": 4, \"cutoff\": 5, \"User-ID\": 51898, \"precision\": 0.2, \"recall\": 0.25}, {\"count\": 4, \"cutoff\": 6, \"User-ID\": 51898, \"precision\": 0.16666666666666666, \"recall\": 0.25}, {\"count\": 4, \"cutoff\": 7, \"User-ID\": 51898, \"precision\": 0.14285714285714285, \"recall\": 0.25}, {\"count\": 4, \"cutoff\": 8, \"User-ID\": 51898, \"precision\": 0.125, \"recall\": 0.25}, {\"count\": 4, \"cutoff\": 9, \"User-ID\": 51898, \"precision\": 0.1111111111111111, \"recall\": 0.25}, {\"count\": 4, \"cutoff\": 10, \"User-ID\": 51898, \"precision\": 0.1, \"recall\": 0.25}, {\"count\": 4, \"cutoff\": 11, \"User-ID\": 51898, \"precision\": 0.09090909090909091, \"recall\": 0.25}, {\"count\": 4, \"cutoff\": 16, \"User-ID\": 51898, \"precision\": 0.0625, \"recall\": 0.25}, {\"count\": 4, \"cutoff\": 21, \"User-ID\": 51898, \"precision\": 0.047619047619047616, \"recall\": 0.25}, {\"count\": 4, \"cutoff\": 26, \"User-ID\": 51898, \"precision\": 0.038461538461538464, \"recall\": 0.25}, {\"count\": 4, \"cutoff\": 31, \"User-ID\": 51898, \"precision\": 0.03225806451612903, \"recall\": 0.25}, {\"count\": 4, \"cutoff\": 36, \"User-ID\": 51898, \"precision\": 0.027777777777777776, \"recall\": 0.25}, {\"count\": 4, \"cutoff\": 41, \"User-ID\": 51898, \"precision\": 0.024390243902439025, \"recall\": 0.25}, {\"count\": 4, \"cutoff\": 46, \"User-ID\": 51898, \"precision\": 0.021739130434782608, \"recall\": 0.25}, {\"count\": 5, \"cutoff\": 1, \"User-ID\": 53846, \"precision\": 1.0, \"recall\": 0.2}, {\"count\": 5, \"cutoff\": 2, \"User-ID\": 53846, \"precision\": 0.5, \"recall\": 0.2}, {\"count\": 5, \"cutoff\": 3, \"User-ID\": 53846, \"precision\": 0.3333333333333333, \"recall\": 0.2}, {\"count\": 5, \"cutoff\": 4, \"User-ID\": 53846, \"precision\": 0.5, \"recall\": 0.4}, {\"count\": 5, \"cutoff\": 5, \"User-ID\": 53846, \"precision\": 0.4, \"recall\": 0.4}, {\"count\": 5, \"cutoff\": 6, \"User-ID\": 53846, \"precision\": 0.3333333333333333, \"recall\": 0.4}, {\"count\": 5, \"cutoff\": 7, \"User-ID\": 53846, \"precision\": 0.2857142857142857, \"recall\": 0.4}, {\"count\": 5, \"cutoff\": 8, \"User-ID\": 53846, \"precision\": 0.25, \"recall\": 0.4}, {\"count\": 5, \"cutoff\": 9, \"User-ID\": 53846, \"precision\": 0.2222222222222222, \"recall\": 0.4}, {\"count\": 5, \"cutoff\": 10, \"User-ID\": 53846, \"precision\": 0.2, \"recall\": 0.4}, {\"count\": 5, \"cutoff\": 11, \"User-ID\": 53846, \"precision\": 0.18181818181818182, \"recall\": 0.4}, {\"count\": 5, \"cutoff\": 16, \"User-ID\": 53846, \"precision\": 0.125, \"recall\": 0.4}, {\"count\": 5, \"cutoff\": 21, \"User-ID\": 53846, \"precision\": 0.09523809523809523, \"recall\": 0.4}, {\"count\": 5, \"cutoff\": 26, \"User-ID\": 53846, \"precision\": 0.07692307692307693, \"recall\": 0.4}, {\"count\": 5, \"cutoff\": 31, \"User-ID\": 53846, \"precision\": 0.06451612903225806, \"recall\": 0.4}, {\"count\": 5, \"cutoff\": 36, \"User-ID\": 53846, \"precision\": 0.05555555555555555, \"recall\": 0.4}, {\"count\": 5, \"cutoff\": 41, \"User-ID\": 53846, \"precision\": 0.04878048780487805, \"recall\": 0.4}, {\"count\": 5, \"cutoff\": 46, \"User-ID\": 53846, \"precision\": 0.043478260869565216, \"recall\": 0.4}, {\"count\": 1, \"cutoff\": 1, \"User-ID\": 53916, \"precision\": 0.0, \"recall\": 0.0}, {\"count\": 1, \"cutoff\": 2, \"User-ID\": 53916, \"precision\": 0.0, \"recall\": 0.0}, {\"count\": 1, \"cutoff\": 3, \"User-ID\": 53916, \"precision\": 0.0, \"recall\": 0.0}, {\"count\": 1, \"cutoff\": 4, \"User-ID\": 53916, \"precision\": 0.0, \"recall\": 0.0}, {\"count\": 1, \"cutoff\": 5, \"User-ID\": 53916, \"precision\": 0.0, \"recall\": 0.0}, {\"count\": 1, \"cutoff\": 6, \"User-ID\": 53916, \"precision\": 0.0, \"recall\": 0.0}, {\"count\": 1, \"cutoff\": 7, \"User-ID\": 53916, \"precision\": 0.0, \"recall\": 0.0}, {\"count\": 1, \"cutoff\": 8, \"User-ID\": 53916, \"precision\": 0.0, \"recall\": 0.0}, {\"count\": 1, \"cutoff\": 9, \"User-ID\": 53916, \"precision\": 0.0, \"recall\": 0.0}, {\"count\": 1, \"cutoff\": 10, \"User-ID\": 53916, \"precision\": 0.0, \"recall\": 0.0}, {\"count\": 1, \"cutoff\": 11, \"User-ID\": 53916, \"precision\": 0.0, \"recall\": 0.0}, {\"count\": 1, \"cutoff\": 16, \"User-ID\": 53916, \"precision\": 0.0, \"recall\": 0.0}, {\"count\": 1, \"cutoff\": 21, \"User-ID\": 53916, \"precision\": 0.0, \"recall\": 0.0}, {\"count\": 1, \"cutoff\": 26, \"User-ID\": 53916, \"precision\": 0.0, \"recall\": 0.0}, {\"count\": 1, \"cutoff\": 31, \"User-ID\": 53916, \"precision\": 0.0, \"recall\": 0.0}, {\"count\": 1, \"cutoff\": 36, \"User-ID\": 53916, \"precision\": 0.0, \"recall\": 0.0}, {\"count\": 1, \"cutoff\": 41, \"User-ID\": 53916, \"precision\": 0.0, \"recall\": 0.0}, {\"count\": 1, \"cutoff\": 46, \"User-ID\": 53916, \"precision\": 0.0, \"recall\": 0.0}, {\"count\": 3, \"cutoff\": 1, \"User-ID\": 55321, \"precision\": 0.0, \"recall\": 0.0}, {\"count\": 3, \"cutoff\": 2, \"User-ID\": 55321, \"precision\": 0.0, \"recall\": 0.0}, {\"count\": 3, \"cutoff\": 3, \"User-ID\": 55321, \"precision\": 0.0, \"recall\": 0.0}, {\"count\": 3, \"cutoff\": 4, \"User-ID\": 55321, \"precision\": 0.0, \"recall\": 0.0}, {\"count\": 3, \"cutoff\": 5, \"User-ID\": 55321, \"precision\": 0.0, \"recall\": 0.0}, {\"count\": 3, \"cutoff\": 6, \"User-ID\": 55321, \"precision\": 0.0, \"recall\": 0.0}, {\"count\": 3, \"cutoff\": 7, \"User-ID\": 55321, \"precision\": 0.0, \"recall\": 0.0}, {\"count\": 3, \"cutoff\": 8, \"User-ID\": 55321, \"precision\": 0.0, \"recall\": 0.0}, {\"count\": 3, \"cutoff\": 9, \"User-ID\": 55321, \"precision\": 0.0, \"recall\": 0.0}, {\"count\": 3, \"cutoff\": 10, \"User-ID\": 55321, \"precision\": 0.0, \"recall\": 0.0}, {\"count\": 3, \"cutoff\": 11, \"User-ID\": 55321, \"precision\": 0.0, \"recall\": 0.0}, {\"count\": 3, \"cutoff\": 16, \"User-ID\": 55321, \"precision\": 0.0, \"recall\": 0.0}, {\"count\": 3, \"cutoff\": 21, \"User-ID\": 55321, \"precision\": 0.0, \"recall\": 0.0}, {\"count\": 3, \"cutoff\": 26, \"User-ID\": 55321, \"precision\": 0.0, \"recall\": 0.0}, {\"count\": 3, \"cutoff\": 31, \"User-ID\": 55321, \"precision\": 0.0, \"recall\": 0.0}, {\"count\": 3, \"cutoff\": 36, \"User-ID\": 55321, \"precision\": 0.0, \"recall\": 0.0}, {\"count\": 3, \"cutoff\": 41, \"User-ID\": 55321, \"precision\": 0.0, \"recall\": 0.0}, {\"count\": 3, \"cutoff\": 46, \"User-ID\": 55321, \"precision\": 0.0, \"recall\": 0.0}, {\"count\": 1, \"cutoff\": 1, \"User-ID\": 55558, \"precision\": 0.0, \"recall\": 0.0}, {\"count\": 1, \"cutoff\": 2, \"User-ID\": 55558, \"precision\": 0.0, \"recall\": 0.0}, {\"count\": 1, \"cutoff\": 3, \"User-ID\": 55558, \"precision\": 0.0, \"recall\": 0.0}, {\"count\": 1, \"cutoff\": 4, \"User-ID\": 55558, \"precision\": 0.0, \"recall\": 0.0}, {\"count\": 1, \"cutoff\": 5, \"User-ID\": 55558, \"precision\": 0.0, \"recall\": 0.0}, {\"count\": 1, \"cutoff\": 6, \"User-ID\": 55558, \"precision\": 0.0, \"recall\": 0.0}, {\"count\": 1, \"cutoff\": 7, \"User-ID\": 55558, \"precision\": 0.0, \"recall\": 0.0}, {\"count\": 1, \"cutoff\": 8, \"User-ID\": 55558, \"precision\": 0.0, \"recall\": 0.0}, {\"count\": 1, \"cutoff\": 9, \"User-ID\": 55558, \"precision\": 0.0, \"recall\": 0.0}, {\"count\": 1, \"cutoff\": 10, \"User-ID\": 55558, \"precision\": 0.0, \"recall\": 0.0}, {\"count\": 1, \"cutoff\": 11, \"User-ID\": 55558, \"precision\": 0.0, \"recall\": 0.0}, {\"count\": 1, \"cutoff\": 16, \"User-ID\": 55558, \"precision\": 0.0, \"recall\": 0.0}, {\"count\": 1, \"cutoff\": 21, \"User-ID\": 55558, \"precision\": 0.0, \"recall\": 0.0}, {\"count\": 1, \"cutoff\": 26, \"User-ID\": 55558, \"precision\": 0.0, \"recall\": 0.0}, {\"count\": 1, \"cutoff\": 31, \"User-ID\": 55558, \"precision\": 0.0, \"recall\": 0.0}, {\"count\": 1, \"cutoff\": 36, \"User-ID\": 55558, \"precision\": 0.0, \"recall\": 0.0}, {\"count\": 1, \"cutoff\": 41, \"User-ID\": 55558, \"precision\": 0.0, \"recall\": 0.0}, {\"count\": 1, \"cutoff\": 46, \"User-ID\": 55558, \"precision\": 0.0, \"recall\": 0.0}, {\"count\": 5, \"cutoff\": 1, \"User-ID\": 55970, \"precision\": 1.0, \"recall\": 0.2}, {\"count\": 5, \"cutoff\": 2, \"User-ID\": 55970, \"precision\": 0.5, \"recall\": 0.2}, {\"count\": 5, \"cutoff\": 3, \"User-ID\": 55970, \"precision\": 0.3333333333333333, \"recall\": 0.2}, {\"count\": 5, \"cutoff\": 4, \"User-ID\": 55970, \"precision\": 0.5, \"recall\": 0.4}, {\"count\": 5, \"cutoff\": 5, \"User-ID\": 55970, \"precision\": 0.4, \"recall\": 0.4}, {\"count\": 5, \"cutoff\": 6, \"User-ID\": 55970, \"precision\": 0.3333333333333333, \"recall\": 0.4}, {\"count\": 5, \"cutoff\": 7, \"User-ID\": 55970, \"precision\": 0.42857142857142855, \"recall\": 0.6}, {\"count\": 5, \"cutoff\": 8, \"User-ID\": 55970, \"precision\": 0.375, \"recall\": 0.6}, {\"count\": 5, \"cutoff\": 9, \"User-ID\": 55970, \"precision\": 0.3333333333333333, \"recall\": 0.6}, {\"count\": 5, \"cutoff\": 10, \"User-ID\": 55970, \"precision\": 0.3, \"recall\": 0.6}, {\"count\": 5, \"cutoff\": 11, \"User-ID\": 55970, \"precision\": 0.2727272727272727, \"recall\": 0.6}, {\"count\": 5, \"cutoff\": 16, \"User-ID\": 55970, \"precision\": 0.25, \"recall\": 0.8}, {\"count\": 5, \"cutoff\": 21, \"User-ID\": 55970, \"precision\": 0.19047619047619047, \"recall\": 0.8}, {\"count\": 5, \"cutoff\": 26, \"User-ID\": 55970, \"precision\": 0.19230769230769232, \"recall\": 1.0}, {\"count\": 5, \"cutoff\": 31, \"User-ID\": 55970, \"precision\": 0.16129032258064516, \"recall\": 1.0}, {\"count\": 5, \"cutoff\": 36, \"User-ID\": 55970, \"precision\": 0.1388888888888889, \"recall\": 1.0}, {\"count\": 5, \"cutoff\": 41, \"User-ID\": 55970, \"precision\": 0.12195121951219512, \"recall\": 1.0}, {\"count\": 5, \"cutoff\": 46, \"User-ID\": 55970, \"precision\": 0.10869565217391304, \"recall\": 1.0}, {\"count\": 8, \"cutoff\": 1, \"User-ID\": 57618, \"precision\": 1.0, \"recall\": 0.125}, {\"count\": 8, \"cutoff\": 2, \"User-ID\": 57618, \"precision\": 1.0, \"recall\": 0.25}, {\"count\": 8, \"cutoff\": 3, \"User-ID\": 57618, \"precision\": 0.6666666666666666, \"recall\": 0.25}, {\"count\": 8, \"cutoff\": 4, \"User-ID\": 57618, \"precision\": 0.5, \"recall\": 0.25}, {\"count\": 8, \"cutoff\": 5, \"User-ID\": 57618, \"precision\": 0.4, \"recall\": 0.25}, {\"count\": 8, \"cutoff\": 6, \"User-ID\": 57618, \"precision\": 0.3333333333333333, \"recall\": 0.25}, {\"count\": 8, \"cutoff\": 7, \"User-ID\": 57618, \"precision\": 0.2857142857142857, \"recall\": 0.25}, {\"count\": 8, \"cutoff\": 8, \"User-ID\": 57618, \"precision\": 0.25, \"recall\": 0.25}, {\"count\": 8, \"cutoff\": 9, \"User-ID\": 57618, \"precision\": 0.3333333333333333, \"recall\": 0.375}, {\"count\": 8, \"cutoff\": 10, \"User-ID\": 57618, \"precision\": 0.3, \"recall\": 0.375}, {\"count\": 8, \"cutoff\": 11, \"User-ID\": 57618, \"precision\": 0.2727272727272727, \"recall\": 0.375}, {\"count\": 8, \"cutoff\": 16, \"User-ID\": 57618, \"precision\": 0.1875, \"recall\": 0.375}, {\"count\": 8, \"cutoff\": 21, \"User-ID\": 57618, \"precision\": 0.19047619047619047, \"recall\": 0.5}, {\"count\": 8, \"cutoff\": 26, \"User-ID\": 57618, \"precision\": 0.15384615384615385, \"recall\": 0.5}, {\"count\": 8, \"cutoff\": 31, \"User-ID\": 57618, \"precision\": 0.12903225806451613, \"recall\": 0.5}, {\"count\": 8, \"cutoff\": 36, \"User-ID\": 57618, \"precision\": 0.16666666666666666, \"recall\": 0.75}, {\"count\": 8, \"cutoff\": 41, \"User-ID\": 57618, \"precision\": 0.17073170731707318, \"recall\": 0.875}, {\"count\": 8, \"cutoff\": 46, \"User-ID\": 57618, \"precision\": 0.15217391304347827, \"recall\": 0.875}, {\"count\": 5, \"cutoff\": 1, \"User-ID\": 57975, \"precision\": 0.0, \"recall\": 0.0}, {\"count\": 5, \"cutoff\": 2, \"User-ID\": 57975, \"precision\": 0.0, \"recall\": 0.0}, {\"count\": 5, \"cutoff\": 3, \"User-ID\": 57975, \"precision\": 0.3333333333333333, \"recall\": 0.2}, {\"count\": 5, \"cutoff\": 4, \"User-ID\": 57975, \"precision\": 0.25, \"recall\": 0.2}, {\"count\": 5, \"cutoff\": 5, \"User-ID\": 57975, \"precision\": 0.2, \"recall\": 0.2}, {\"count\": 5, \"cutoff\": 6, \"User-ID\": 57975, \"precision\": 0.16666666666666666, \"recall\": 0.2}, {\"count\": 5, \"cutoff\": 7, \"User-ID\": 57975, \"precision\": 0.14285714285714285, \"recall\": 0.2}, {\"count\": 5, \"cutoff\": 8, \"User-ID\": 57975, \"precision\": 0.125, \"recall\": 0.2}, {\"count\": 5, \"cutoff\": 9, \"User-ID\": 57975, \"precision\": 0.1111111111111111, \"recall\": 0.2}, {\"count\": 5, \"cutoff\": 10, \"User-ID\": 57975, \"precision\": 0.1, \"recall\": 0.2}, {\"count\": 5, \"cutoff\": 11, \"User-ID\": 57975, \"precision\": 0.09090909090909091, \"recall\": 0.2}, {\"count\": 5, \"cutoff\": 16, \"User-ID\": 57975, \"precision\": 0.0625, \"recall\": 0.2}, {\"count\": 5, \"cutoff\": 21, \"User-ID\": 57975, \"precision\": 0.047619047619047616, \"recall\": 0.2}, {\"count\": 5, \"cutoff\": 26, \"User-ID\": 57975, \"precision\": 0.038461538461538464, \"recall\": 0.2}, {\"count\": 5, \"cutoff\": 31, \"User-ID\": 57975, \"precision\": 0.03225806451612903, \"recall\": 0.2}, {\"count\": 5, \"cutoff\": 36, \"User-ID\": 57975, \"precision\": 0.027777777777777776, \"recall\": 0.2}, {\"count\": 5, \"cutoff\": 41, \"User-ID\": 57975, \"precision\": 0.024390243902439025, \"recall\": 0.2}, {\"count\": 5, \"cutoff\": 46, \"User-ID\": 57975, \"precision\": 0.021739130434782608, \"recall\": 0.2}, {\"count\": 1, \"cutoff\": 1, \"User-ID\": 58409, \"precision\": 0.0, \"recall\": 0.0}, {\"count\": 1, \"cutoff\": 2, \"User-ID\": 58409, \"precision\": 0.0, \"recall\": 0.0}, {\"count\": 1, \"cutoff\": 3, \"User-ID\": 58409, \"precision\": 0.0, \"recall\": 0.0}, {\"count\": 1, \"cutoff\": 4, \"User-ID\": 58409, \"precision\": 0.0, \"recall\": 0.0}, {\"count\": 1, \"cutoff\": 5, \"User-ID\": 58409, \"precision\": 0.0, \"recall\": 0.0}, {\"count\": 1, \"cutoff\": 6, \"User-ID\": 58409, \"precision\": 0.0, \"recall\": 0.0}, {\"count\": 1, \"cutoff\": 7, \"User-ID\": 58409, \"precision\": 0.0, \"recall\": 0.0}, {\"count\": 1, \"cutoff\": 8, \"User-ID\": 58409, \"precision\": 0.0, \"recall\": 0.0}, {\"count\": 1, \"cutoff\": 9, \"User-ID\": 58409, \"precision\": 0.0, \"recall\": 0.0}, {\"count\": 1, \"cutoff\": 10, \"User-ID\": 58409, \"precision\": 0.0, \"recall\": 0.0}, {\"count\": 1, \"cutoff\": 11, \"User-ID\": 58409, \"precision\": 0.0, \"recall\": 0.0}, {\"count\": 1, \"cutoff\": 16, \"User-ID\": 58409, \"precision\": 0.0, \"recall\": 0.0}, {\"count\": 1, \"cutoff\": 21, \"User-ID\": 58409, \"precision\": 0.0, \"recall\": 0.0}, {\"count\": 1, \"cutoff\": 26, \"User-ID\": 58409, \"precision\": 0.0, \"recall\": 0.0}, {\"count\": 1, \"cutoff\": 31, \"User-ID\": 58409, \"precision\": 0.0, \"recall\": 0.0}, {\"count\": 1, \"cutoff\": 36, \"User-ID\": 58409, \"precision\": 0.0, \"recall\": 0.0}, {\"count\": 1, \"cutoff\": 41, \"User-ID\": 58409, \"precision\": 0.0, \"recall\": 0.0}, {\"count\": 1, \"cutoff\": 46, \"User-ID\": 58409, \"precision\": 0.0, \"recall\": 0.0}, {\"count\": 9, \"cutoff\": 1, \"User-ID\": 59687, \"precision\": 1.0, \"recall\": 0.1111111111111111}, {\"count\": 9, \"cutoff\": 2, \"User-ID\": 59687, \"precision\": 0.5, \"recall\": 0.1111111111111111}, {\"count\": 9, \"cutoff\": 3, \"User-ID\": 59687, \"precision\": 0.6666666666666666, \"recall\": 0.2222222222222222}, {\"count\": 9, \"cutoff\": 4, \"User-ID\": 59687, \"precision\": 0.5, \"recall\": 0.2222222222222222}, {\"count\": 9, \"cutoff\": 5, \"User-ID\": 59687, \"precision\": 0.4, \"recall\": 0.2222222222222222}, {\"count\": 9, \"cutoff\": 6, \"User-ID\": 59687, \"precision\": 0.3333333333333333, \"recall\": 0.2222222222222222}, {\"count\": 9, \"cutoff\": 7, \"User-ID\": 59687, \"precision\": 0.2857142857142857, \"recall\": 0.2222222222222222}, {\"count\": 9, \"cutoff\": 8, \"User-ID\": 59687, \"precision\": 0.375, \"recall\": 0.3333333333333333}, {\"count\": 9, \"cutoff\": 9, \"User-ID\": 59687, \"precision\": 0.3333333333333333, \"recall\": 0.3333333333333333}, {\"count\": 9, \"cutoff\": 10, \"User-ID\": 59687, \"precision\": 0.3, \"recall\": 0.3333333333333333}, {\"count\": 9, \"cutoff\": 11, \"User-ID\": 59687, \"precision\": 0.2727272727272727, \"recall\": 0.3333333333333333}, {\"count\": 9, \"cutoff\": 16, \"User-ID\": 59687, \"precision\": 0.1875, \"recall\": 0.3333333333333333}, {\"count\": 9, \"cutoff\": 21, \"User-ID\": 59687, \"precision\": 0.19047619047619047, \"recall\": 0.4444444444444444}, {\"count\": 9, \"cutoff\": 26, \"User-ID\": 59687, \"precision\": 0.15384615384615385, \"recall\": 0.4444444444444444}, {\"count\": 9, \"cutoff\": 31, \"User-ID\": 59687, \"precision\": 0.16129032258064516, \"recall\": 0.5555555555555556}, {\"count\": 9, \"cutoff\": 36, \"User-ID\": 59687, \"precision\": 0.1388888888888889, \"recall\": 0.5555555555555556}, {\"count\": 9, \"cutoff\": 41, \"User-ID\": 59687, \"precision\": 0.12195121951219512, \"recall\": 0.5555555555555556}, {\"count\": 9, \"cutoff\": 46, \"User-ID\": 59687, \"precision\": 0.10869565217391304, \"recall\": 0.5555555555555556}, {\"count\": 3, \"cutoff\": 1, \"User-ID\": 61098, \"precision\": 0.0, \"recall\": 0.0}, {\"count\": 3, \"cutoff\": 2, \"User-ID\": 61098, \"precision\": 0.0, \"recall\": 0.0}, {\"count\": 3, \"cutoff\": 3, \"User-ID\": 61098, \"precision\": 0.0, \"recall\": 0.0}, {\"count\": 3, \"cutoff\": 4, \"User-ID\": 61098, \"precision\": 0.25, \"recall\": 0.3333333333333333}, {\"count\": 3, \"cutoff\": 5, \"User-ID\": 61098, \"precision\": 0.2, \"recall\": 0.3333333333333333}, {\"count\": 3, \"cutoff\": 6, \"User-ID\": 61098, \"precision\": 0.3333333333333333, \"recall\": 0.6666666666666666}, {\"count\": 3, \"cutoff\": 7, \"User-ID\": 61098, \"precision\": 0.2857142857142857, \"recall\": 0.6666666666666666}, {\"count\": 3, \"cutoff\": 8, \"User-ID\": 61098, \"precision\": 0.25, \"recall\": 0.6666666666666666}, {\"count\": 3, \"cutoff\": 9, \"User-ID\": 61098, \"precision\": 0.2222222222222222, \"recall\": 0.6666666666666666}, {\"count\": 3, \"cutoff\": 10, \"User-ID\": 61098, \"precision\": 0.2, \"recall\": 0.6666666666666666}, {\"count\": 3, \"cutoff\": 11, \"User-ID\": 61098, \"precision\": 0.18181818181818182, \"recall\": 0.6666666666666666}, {\"count\": 3, \"cutoff\": 16, \"User-ID\": 61098, \"precision\": 0.125, \"recall\": 0.6666666666666666}, {\"count\": 3, \"cutoff\": 21, \"User-ID\": 61098, \"precision\": 0.09523809523809523, \"recall\": 0.6666666666666666}, {\"count\": 3, \"cutoff\": 26, \"User-ID\": 61098, \"precision\": 0.07692307692307693, \"recall\": 0.6666666666666666}, {\"count\": 3, \"cutoff\": 31, \"User-ID\": 61098, \"precision\": 0.06451612903225806, \"recall\": 0.6666666666666666}, {\"count\": 3, \"cutoff\": 36, \"User-ID\": 61098, \"precision\": 0.05555555555555555, \"recall\": 0.6666666666666666}, {\"count\": 3, \"cutoff\": 41, \"User-ID\": 61098, \"precision\": 0.04878048780487805, \"recall\": 0.6666666666666666}, {\"count\": 3, \"cutoff\": 46, \"User-ID\": 61098, \"precision\": 0.043478260869565216, \"recall\": 0.6666666666666666}, {\"count\": 3, \"cutoff\": 1, \"User-ID\": 61709, \"precision\": 0.0, \"recall\": 0.0}, {\"count\": 3, \"cutoff\": 2, \"User-ID\": 61709, \"precision\": 0.5, \"recall\": 0.3333333333333333}, {\"count\": 3, \"cutoff\": 3, \"User-ID\": 61709, \"precision\": 0.3333333333333333, \"recall\": 0.3333333333333333}, {\"count\": 3, \"cutoff\": 4, \"User-ID\": 61709, \"precision\": 0.25, \"recall\": 0.3333333333333333}, {\"count\": 3, \"cutoff\": 5, \"User-ID\": 61709, \"precision\": 0.2, \"recall\": 0.3333333333333333}, {\"count\": 3, \"cutoff\": 6, \"User-ID\": 61709, \"precision\": 0.16666666666666666, \"recall\": 0.3333333333333333}, {\"count\": 3, \"cutoff\": 7, \"User-ID\": 61709, \"precision\": 0.14285714285714285, \"recall\": 0.3333333333333333}, {\"count\": 3, \"cutoff\": 8, \"User-ID\": 61709, \"precision\": 0.125, \"recall\": 0.3333333333333333}, {\"count\": 3, \"cutoff\": 9, \"User-ID\": 61709, \"precision\": 0.1111111111111111, \"recall\": 0.3333333333333333}, {\"count\": 3, \"cutoff\": 10, \"User-ID\": 61709, \"precision\": 0.1, \"recall\": 0.3333333333333333}, {\"count\": 3, \"cutoff\": 11, \"User-ID\": 61709, \"precision\": 0.18181818181818182, \"recall\": 0.6666666666666666}, {\"count\": 3, \"cutoff\": 16, \"User-ID\": 61709, \"precision\": 0.125, \"recall\": 0.6666666666666666}, {\"count\": 3, \"cutoff\": 21, \"User-ID\": 61709, \"precision\": 0.09523809523809523, \"recall\": 0.6666666666666666}, {\"count\": 3, \"cutoff\": 26, \"User-ID\": 61709, \"precision\": 0.07692307692307693, \"recall\": 0.6666666666666666}, {\"count\": 3, \"cutoff\": 31, \"User-ID\": 61709, \"precision\": 0.06451612903225806, \"recall\": 0.6666666666666666}, {\"count\": 3, \"cutoff\": 36, \"User-ID\": 61709, \"precision\": 0.05555555555555555, \"recall\": 0.6666666666666666}, {\"count\": 3, \"cutoff\": 41, \"User-ID\": 61709, \"precision\": 0.04878048780487805, \"recall\": 0.6666666666666666}, {\"count\": 3, \"cutoff\": 46, \"User-ID\": 61709, \"precision\": 0.043478260869565216, \"recall\": 0.6666666666666666}, {\"count\": 12, \"cutoff\": 1, \"User-ID\": 61809, \"precision\": 1.0, \"recall\": 0.08333333333333333}, {\"count\": 12, \"cutoff\": 2, \"User-ID\": 61809, \"precision\": 1.0, \"recall\": 0.16666666666666666}, {\"count\": 12, \"cutoff\": 3, \"User-ID\": 61809, \"precision\": 1.0, \"recall\": 0.25}, {\"count\": 12, \"cutoff\": 4, \"User-ID\": 61809, \"precision\": 0.75, \"recall\": 0.25}, {\"count\": 12, \"cutoff\": 5, \"User-ID\": 61809, \"precision\": 0.8, \"recall\": 0.3333333333333333}, {\"count\": 12, \"cutoff\": 6, \"User-ID\": 61809, \"precision\": 0.8333333333333334, \"recall\": 0.4166666666666667}, {\"count\": 12, \"cutoff\": 7, \"User-ID\": 61809, \"precision\": 0.7142857142857143, \"recall\": 0.4166666666666667}, {\"count\": 12, \"cutoff\": 8, \"User-ID\": 61809, \"precision\": 0.75, \"recall\": 0.5}, {\"count\": 12, \"cutoff\": 9, \"User-ID\": 61809, \"precision\": 0.7777777777777778, \"recall\": 0.5833333333333334}, {\"count\": 12, \"cutoff\": 10, \"User-ID\": 61809, \"precision\": 0.7, \"recall\": 0.5833333333333334}, {\"count\": 12, \"cutoff\": 11, \"User-ID\": 61809, \"precision\": 0.6363636363636364, \"recall\": 0.5833333333333334}, {\"count\": 12, \"cutoff\": 16, \"User-ID\": 61809, \"precision\": 0.4375, \"recall\": 0.5833333333333334}, {\"count\": 12, \"cutoff\": 21, \"User-ID\": 61809, \"precision\": 0.38095238095238093, \"recall\": 0.6666666666666666}, {\"count\": 12, \"cutoff\": 26, \"User-ID\": 61809, \"precision\": 0.34615384615384615, \"recall\": 0.75}, {\"count\": 12, \"cutoff\": 31, \"User-ID\": 61809, \"precision\": 0.2903225806451613, \"recall\": 0.75}, {\"count\": 12, \"cutoff\": 36, \"User-ID\": 61809, \"precision\": 0.3055555555555556, \"recall\": 0.9166666666666666}, {\"count\": 12, \"cutoff\": 41, \"User-ID\": 61809, \"precision\": 0.2682926829268293, \"recall\": 0.9166666666666666}, {\"count\": 12, \"cutoff\": 46, \"User-ID\": 61809, \"precision\": 0.2391304347826087, \"recall\": 0.9166666666666666}, {\"count\": 6, \"cutoff\": 1, \"User-ID\": 61869, \"precision\": 1.0, \"recall\": 0.16666666666666666}, {\"count\": 6, \"cutoff\": 2, \"User-ID\": 61869, \"precision\": 1.0, \"recall\": 0.3333333333333333}, {\"count\": 6, \"cutoff\": 3, \"User-ID\": 61869, \"precision\": 1.0, \"recall\": 0.5}, {\"count\": 6, \"cutoff\": 4, \"User-ID\": 61869, \"precision\": 1.0, \"recall\": 0.6666666666666666}, {\"count\": 6, \"cutoff\": 5, \"User-ID\": 61869, \"precision\": 0.8, \"recall\": 0.6666666666666666}, {\"count\": 6, \"cutoff\": 6, \"User-ID\": 61869, \"precision\": 0.6666666666666666, \"recall\": 0.6666666666666666}, {\"count\": 6, \"cutoff\": 7, \"User-ID\": 61869, \"precision\": 0.5714285714285714, \"recall\": 0.6666666666666666}, {\"count\": 6, \"cutoff\": 8, \"User-ID\": 61869, \"precision\": 0.5, \"recall\": 0.6666666666666666}, {\"count\": 6, \"cutoff\": 9, \"User-ID\": 61869, \"precision\": 0.5555555555555556, \"recall\": 0.8333333333333334}, {\"count\": 6, \"cutoff\": 10, \"User-ID\": 61869, \"precision\": 0.6, \"recall\": 1.0}, {\"count\": 6, \"cutoff\": 11, \"User-ID\": 61869, \"precision\": 0.5454545454545454, \"recall\": 1.0}, {\"count\": 6, \"cutoff\": 16, \"User-ID\": 61869, \"precision\": 0.375, \"recall\": 1.0}, {\"count\": 6, \"cutoff\": 21, \"User-ID\": 61869, \"precision\": 0.2857142857142857, \"recall\": 1.0}, {\"count\": 6, \"cutoff\": 26, \"User-ID\": 61869, \"precision\": 0.23076923076923078, \"recall\": 1.0}, {\"count\": 6, \"cutoff\": 31, \"User-ID\": 61869, \"precision\": 0.1935483870967742, \"recall\": 1.0}, {\"count\": 6, \"cutoff\": 36, \"User-ID\": 61869, \"precision\": 0.16666666666666666, \"recall\": 1.0}, {\"count\": 6, \"cutoff\": 41, \"User-ID\": 61869, \"precision\": 0.14634146341463414, \"recall\": 1.0}, {\"count\": 6, \"cutoff\": 46, \"User-ID\": 61869, \"precision\": 0.13043478260869565, \"recall\": 1.0}, {\"count\": 7, \"cutoff\": 1, \"User-ID\": 63278, \"precision\": 1.0, \"recall\": 0.14285714285714285}, {\"count\": 7, \"cutoff\": 2, \"User-ID\": 63278, \"precision\": 0.5, \"recall\": 0.14285714285714285}, {\"count\": 7, \"cutoff\": 3, \"User-ID\": 63278, \"precision\": 0.3333333333333333, \"recall\": 0.14285714285714285}, {\"count\": 7, \"cutoff\": 4, \"User-ID\": 63278, \"precision\": 0.5, \"recall\": 0.2857142857142857}, {\"count\": 7, \"cutoff\": 5, \"User-ID\": 63278, \"precision\": 0.6, \"recall\": 0.42857142857142855}, {\"count\": 7, \"cutoff\": 6, \"User-ID\": 63278, \"precision\": 0.5, \"recall\": 0.42857142857142855}, {\"count\": 7, \"cutoff\": 7, \"User-ID\": 63278, \"precision\": 0.42857142857142855, \"recall\": 0.42857142857142855}, {\"count\": 7, \"cutoff\": 8, \"User-ID\": 63278, \"precision\": 0.5, \"recall\": 0.5714285714285714}, {\"count\": 7, \"cutoff\": 9, \"User-ID\": 63278, \"precision\": 0.4444444444444444, \"recall\": 0.5714285714285714}, {\"count\": 7, \"cutoff\": 10, \"User-ID\": 63278, \"precision\": 0.4, \"recall\": 0.5714285714285714}, {\"count\": 7, \"cutoff\": 11, \"User-ID\": 63278, \"precision\": 0.36363636363636365, \"recall\": 0.5714285714285714}, {\"count\": 7, \"cutoff\": 16, \"User-ID\": 63278, \"precision\": 0.3125, \"recall\": 0.7142857142857143}, {\"count\": 7, \"cutoff\": 21, \"User-ID\": 63278, \"precision\": 0.23809523809523808, \"recall\": 0.7142857142857143}, {\"count\": 7, \"cutoff\": 26, \"User-ID\": 63278, \"precision\": 0.19230769230769232, \"recall\": 0.7142857142857143}, {\"count\": 7, \"cutoff\": 31, \"User-ID\": 63278, \"precision\": 0.16129032258064516, \"recall\": 0.7142857142857143}, {\"count\": 7, \"cutoff\": 36, \"User-ID\": 63278, \"precision\": 0.1388888888888889, \"recall\": 0.7142857142857143}, {\"count\": 7, \"cutoff\": 41, \"User-ID\": 63278, \"precision\": 0.12195121951219512, \"recall\": 0.7142857142857143}, {\"count\": 7, \"cutoff\": 46, \"User-ID\": 63278, \"precision\": 0.13043478260869565, \"recall\": 0.8571428571428571}, {\"count\": 1, \"cutoff\": 1, \"User-ID\": 63290, \"precision\": 1.0, \"recall\": 1.0}, {\"count\": 1, \"cutoff\": 2, \"User-ID\": 63290, \"precision\": 0.5, \"recall\": 1.0}, {\"count\": 1, \"cutoff\": 3, \"User-ID\": 63290, \"precision\": 0.3333333333333333, \"recall\": 1.0}, {\"count\": 1, \"cutoff\": 4, \"User-ID\": 63290, \"precision\": 0.25, \"recall\": 1.0}, {\"count\": 1, \"cutoff\": 5, \"User-ID\": 63290, \"precision\": 0.2, \"recall\": 1.0}, {\"count\": 1, \"cutoff\": 6, \"User-ID\": 63290, \"precision\": 0.16666666666666666, \"recall\": 1.0}, {\"count\": 1, \"cutoff\": 7, \"User-ID\": 63290, \"precision\": 0.14285714285714285, \"recall\": 1.0}, {\"count\": 1, \"cutoff\": 8, \"User-ID\": 63290, \"precision\": 0.125, \"recall\": 1.0}, {\"count\": 1, \"cutoff\": 9, \"User-ID\": 63290, \"precision\": 0.1111111111111111, \"recall\": 1.0}, {\"count\": 1, \"cutoff\": 10, \"User-ID\": 63290, \"precision\": 0.1, \"recall\": 1.0}, {\"count\": 1, \"cutoff\": 11, \"User-ID\": 63290, \"precision\": 0.09090909090909091, \"recall\": 1.0}, {\"count\": 1, \"cutoff\": 16, \"User-ID\": 63290, \"precision\": 0.0625, \"recall\": 1.0}, {\"count\": 1, \"cutoff\": 21, \"User-ID\": 63290, \"precision\": 0.047619047619047616, \"recall\": 1.0}, {\"count\": 1, \"cutoff\": 26, \"User-ID\": 63290, \"precision\": 0.038461538461538464, \"recall\": 1.0}, {\"count\": 1, \"cutoff\": 31, \"User-ID\": 63290, \"precision\": 0.03225806451612903, \"recall\": 1.0}, {\"count\": 1, \"cutoff\": 36, \"User-ID\": 63290, \"precision\": 0.027777777777777776, \"recall\": 1.0}, {\"count\": 1, \"cutoff\": 41, \"User-ID\": 63290, \"precision\": 0.024390243902439025, \"recall\": 1.0}, {\"count\": 1, \"cutoff\": 46, \"User-ID\": 63290, \"precision\": 0.021739130434782608, \"recall\": 1.0}, {\"count\": 2, \"cutoff\": 1, \"User-ID\": 63472, \"precision\": 0.0, \"recall\": 0.0}, {\"count\": 2, \"cutoff\": 2, \"User-ID\": 63472, \"precision\": 0.0, \"recall\": 0.0}, {\"count\": 2, \"cutoff\": 3, \"User-ID\": 63472, \"precision\": 0.0, \"recall\": 0.0}, {\"count\": 2, \"cutoff\": 4, \"User-ID\": 63472, \"precision\": 0.0, \"recall\": 0.0}, {\"count\": 2, \"cutoff\": 5, \"User-ID\": 63472, \"precision\": 0.0, \"recall\": 0.0}, {\"count\": 2, \"cutoff\": 6, \"User-ID\": 63472, \"precision\": 0.0, \"recall\": 0.0}, {\"count\": 2, \"cutoff\": 7, \"User-ID\": 63472, \"precision\": 0.0, \"recall\": 0.0}, {\"count\": 2, \"cutoff\": 8, \"User-ID\": 63472, \"precision\": 0.0, \"recall\": 0.0}, {\"count\": 2, \"cutoff\": 9, \"User-ID\": 63472, \"precision\": 0.0, \"recall\": 0.0}, {\"count\": 2, \"cutoff\": 10, \"User-ID\": 63472, \"precision\": 0.0, \"recall\": 0.0}, {\"count\": 2, \"cutoff\": 11, \"User-ID\": 63472, \"precision\": 0.0, \"recall\": 0.0}, {\"count\": 2, \"cutoff\": 16, \"User-ID\": 63472, \"precision\": 0.0, \"recall\": 0.0}, {\"count\": 2, \"cutoff\": 21, \"User-ID\": 63472, \"precision\": 0.0, \"recall\": 0.0}, {\"count\": 2, \"cutoff\": 26, \"User-ID\": 63472, \"precision\": 0.0, \"recall\": 0.0}, {\"count\": 2, \"cutoff\": 31, \"User-ID\": 63472, \"precision\": 0.0, \"recall\": 0.0}, {\"count\": 2, \"cutoff\": 36, \"User-ID\": 63472, \"precision\": 0.0, \"recall\": 0.0}, {\"count\": 2, \"cutoff\": 41, \"User-ID\": 63472, \"precision\": 0.0, \"recall\": 0.0}, {\"count\": 2, \"cutoff\": 46, \"User-ID\": 63472, \"precision\": 0.0, \"recall\": 0.0}]}]]}, e);\n",
       "                });\n",
       "            })();\n",
       "        "
      ]
     },
     "metadata": {},
     "output_type": "display_data"
    }
   ],
   "source": [
    "gl.show_comparison(comparisonstruct,[item_item, rec1])"
   ]
  },
  {
   "cell_type": "markdown",
   "metadata": {},
   "source": [
    "Our ranking factorization recommender with tweaked parameters does appear to outperform the item-item model with cutoff higher than 1."
   ]
  },
  {
   "cell_type": "markdown",
   "metadata": {},
   "source": [
    "## Parameters, Parameters\n",
    "Because there are so many parameters to search through here we will use GraphLab's built in gris search functionality. We will vary the number of factor to find the best set of parameters."
   ]
  },
  {
   "cell_type": "code",
   "execution_count": 123,
   "metadata": {
    "collapsed": false
   },
   "outputs": [
    {
     "name": "stderr",
     "output_type": "stream",
     "text": [
      "[INFO] graphlab.deploy.job: Validating job.\n",
      "[INFO] graphlab.deploy.map_job: Validation complete. Job: 'Model-Parameter-Search-Apr-30-2017-17-29-4800000' ready for execution\n",
      "[INFO] graphlab.deploy.map_job: Job: 'Model-Parameter-Search-Apr-30-2017-17-29-4800000' scheduled.\n",
      "[INFO] graphlab.deploy.job: Validating job.\n",
      "[INFO] graphlab.deploy.map_job: A job with name 'Model-Parameter-Search-Apr-30-2017-17-29-4800000' already exists. Renaming the job to 'Model-Parameter-Search-Apr-30-2017-17-29-4800000-97148'.\n",
      "[INFO] graphlab.deploy.map_job: Validation complete. Job: 'Model-Parameter-Search-Apr-30-2017-17-29-4800000-97148' ready for execution\n",
      "[INFO] graphlab.deploy.map_job: Job: 'Model-Parameter-Search-Apr-30-2017-17-29-4800000-97148' scheduled.\n"
     ]
    }
   ],
   "source": [
    "params = {'user_id': 'User-ID', \n",
    "          'item_id': 'Item-ID', \n",
    "          'target': 'rating',\n",
    "          'num_factors': [8, 12, 16, 24, 32], \n",
    "          'regularization':[0.001] ,\n",
    "          'linear_regularization': [0.001]}\n",
    "\n",
    "job = gl.model_parameter_search.create( (train,test),\n",
    "        gl.recommender.ranking_factorization_recommender.create,\n",
    "        params,\n",
    "        max_models=5,\n",
    "        environment=None)\n",
    "\n",
    "# also note thatthis evaluator also supports sklearn\n",
    "# https://dato.com/products/create/docs/generated/graphlab.toolkits.model_parameter_search.create.html?highlight=model_parameter_search"
   ]
  },
  {
   "cell_type": "code",
   "execution_count": 131,
   "metadata": {
    "collapsed": false
   },
   "outputs": [
    {
     "data": {
      "text/plain": [
       "{'Canceled': 0, 'Completed': 5, 'Failed': 0, 'Pending': 0, 'Running': 0}"
      ]
     },
     "execution_count": 131,
     "metadata": {},
     "output_type": "execute_result"
    }
   ],
   "source": [
    "job.get_status()"
   ]
  },
  {
   "cell_type": "code",
   "execution_count": 132,
   "metadata": {
    "collapsed": false
   },
   "outputs": [
    {
     "data": {
      "text/html": [
       "<div style=\"max-height:1000px;max-width:1500px;overflow:auto;\"><table frame=\"box\" rules=\"cols\">\n",
       "    <tr>\n",
       "        <th style=\"padding-left: 1em; padding-right: 1em; text-align: center\">model_id</th>\n",
       "        <th style=\"padding-left: 1em; padding-right: 1em; text-align: center\">item_id</th>\n",
       "        <th style=\"padding-left: 1em; padding-right: 1em; text-align: center\">linear_regularization</th>\n",
       "        <th style=\"padding-left: 1em; padding-right: 1em; text-align: center\">max_iterations</th>\n",
       "        <th style=\"padding-left: 1em; padding-right: 1em; text-align: center\">num_factors</th>\n",
       "        <th style=\"padding-left: 1em; padding-right: 1em; text-align: center\">num_sampled_negative_exam<br>ples ...</th>\n",
       "        <th style=\"padding-left: 1em; padding-right: 1em; text-align: center\">ranking_regularization</th>\n",
       "    </tr>\n",
       "    <tr>\n",
       "        <td style=\"padding-left: 1em; padding-right: 1em; text-align: center; vertical-align: top\">1</td>\n",
       "        <td style=\"padding-left: 1em; padding-right: 1em; text-align: center; vertical-align: top\">Item-ID</td>\n",
       "        <td style=\"padding-left: 1em; padding-right: 1em; text-align: center; vertical-align: top\">0.001</td>\n",
       "        <td style=\"padding-left: 1em; padding-right: 1em; text-align: center; vertical-align: top\">25</td>\n",
       "        <td style=\"padding-left: 1em; padding-right: 1em; text-align: center; vertical-align: top\">24</td>\n",
       "        <td style=\"padding-left: 1em; padding-right: 1em; text-align: center; vertical-align: top\">4</td>\n",
       "        <td style=\"padding-left: 1em; padding-right: 1em; text-align: center; vertical-align: top\">0.5</td>\n",
       "    </tr>\n",
       "    <tr>\n",
       "        <td style=\"padding-left: 1em; padding-right: 1em; text-align: center; vertical-align: top\">0</td>\n",
       "        <td style=\"padding-left: 1em; padding-right: 1em; text-align: center; vertical-align: top\">Item-ID</td>\n",
       "        <td style=\"padding-left: 1em; padding-right: 1em; text-align: center; vertical-align: top\">0.001</td>\n",
       "        <td style=\"padding-left: 1em; padding-right: 1em; text-align: center; vertical-align: top\">25</td>\n",
       "        <td style=\"padding-left: 1em; padding-right: 1em; text-align: center; vertical-align: top\">8</td>\n",
       "        <td style=\"padding-left: 1em; padding-right: 1em; text-align: center; vertical-align: top\">4</td>\n",
       "        <td style=\"padding-left: 1em; padding-right: 1em; text-align: center; vertical-align: top\">0.1</td>\n",
       "    </tr>\n",
       "    <tr>\n",
       "        <td style=\"padding-left: 1em; padding-right: 1em; text-align: center; vertical-align: top\">3</td>\n",
       "        <td style=\"padding-left: 1em; padding-right: 1em; text-align: center; vertical-align: top\">Item-ID</td>\n",
       "        <td style=\"padding-left: 1em; padding-right: 1em; text-align: center; vertical-align: top\">0.001</td>\n",
       "        <td style=\"padding-left: 1em; padding-right: 1em; text-align: center; vertical-align: top\">50</td>\n",
       "        <td style=\"padding-left: 1em; padding-right: 1em; text-align: center; vertical-align: top\">24</td>\n",
       "        <td style=\"padding-left: 1em; padding-right: 1em; text-align: center; vertical-align: top\">4</td>\n",
       "        <td style=\"padding-left: 1em; padding-right: 1em; text-align: center; vertical-align: top\">0.5</td>\n",
       "    </tr>\n",
       "    <tr>\n",
       "        <td style=\"padding-left: 1em; padding-right: 1em; text-align: center; vertical-align: top\">2</td>\n",
       "        <td style=\"padding-left: 1em; padding-right: 1em; text-align: center; vertical-align: top\">Item-ID</td>\n",
       "        <td style=\"padding-left: 1em; padding-right: 1em; text-align: center; vertical-align: top\">0.001</td>\n",
       "        <td style=\"padding-left: 1em; padding-right: 1em; text-align: center; vertical-align: top\">25</td>\n",
       "        <td style=\"padding-left: 1em; padding-right: 1em; text-align: center; vertical-align: top\">24</td>\n",
       "        <td style=\"padding-left: 1em; padding-right: 1em; text-align: center; vertical-align: top\">4</td>\n",
       "        <td style=\"padding-left: 1em; padding-right: 1em; text-align: center; vertical-align: top\">0.25</td>\n",
       "    </tr>\n",
       "    <tr>\n",
       "        <td style=\"padding-left: 1em; padding-right: 1em; text-align: center; vertical-align: top\">4</td>\n",
       "        <td style=\"padding-left: 1em; padding-right: 1em; text-align: center; vertical-align: top\">Item-ID</td>\n",
       "        <td style=\"padding-left: 1em; padding-right: 1em; text-align: center; vertical-align: top\">0.001</td>\n",
       "        <td style=\"padding-left: 1em; padding-right: 1em; text-align: center; vertical-align: top\">25</td>\n",
       "        <td style=\"padding-left: 1em; padding-right: 1em; text-align: center; vertical-align: top\">8</td>\n",
       "        <td style=\"padding-left: 1em; padding-right: 1em; text-align: center; vertical-align: top\">8</td>\n",
       "        <td style=\"padding-left: 1em; padding-right: 1em; text-align: center; vertical-align: top\">0.25</td>\n",
       "    </tr>\n",
       "</table>\n",
       "<table frame=\"box\" rules=\"cols\">\n",
       "    <tr>\n",
       "        <th style=\"padding-left: 1em; padding-right: 1em; text-align: center\">regularization</th>\n",
       "        <th style=\"padding-left: 1em; padding-right: 1em; text-align: center\">target</th>\n",
       "        <th style=\"padding-left: 1em; padding-right: 1em; text-align: center\">user_id</th>\n",
       "        <th style=\"padding-left: 1em; padding-right: 1em; text-align: center\">training_precision@5</th>\n",
       "        <th style=\"padding-left: 1em; padding-right: 1em; text-align: center\">training_recall@5</th>\n",
       "        <th style=\"padding-left: 1em; padding-right: 1em; text-align: center\">training_rmse</th>\n",
       "        <th style=\"padding-left: 1em; padding-right: 1em; text-align: center\">validation_precision@5</th>\n",
       "    </tr>\n",
       "    <tr>\n",
       "        <td style=\"padding-left: 1em; padding-right: 1em; text-align: center; vertical-align: top\">0.001</td>\n",
       "        <td style=\"padding-left: 1em; padding-right: 1em; text-align: center; vertical-align: top\">rating</td>\n",
       "        <td style=\"padding-left: 1em; padding-right: 1em; text-align: center; vertical-align: top\">User-ID</td>\n",
       "        <td style=\"padding-left: 1em; padding-right: 1em; text-align: center; vertical-align: top\">0.437583711019</td>\n",
       "        <td style=\"padding-left: 1em; padding-right: 1em; text-align: center; vertical-align: top\">0.165228887016</td>\n",
       "        <td style=\"padding-left: 1em; padding-right: 1em; text-align: center; vertical-align: top\">4.16672094669</td>\n",
       "        <td style=\"padding-left: 1em; padding-right: 1em; text-align: center; vertical-align: top\">0.124137931034</td>\n",
       "    </tr>\n",
       "    <tr>\n",
       "        <td style=\"padding-left: 1em; padding-right: 1em; text-align: center; vertical-align: top\">0.001</td>\n",
       "        <td style=\"padding-left: 1em; padding-right: 1em; text-align: center; vertical-align: top\">rating</td>\n",
       "        <td style=\"padding-left: 1em; padding-right: 1em; text-align: center; vertical-align: top\">User-ID</td>\n",
       "        <td style=\"padding-left: 1em; padding-right: 1em; text-align: center; vertical-align: top\">0.414039775418</td>\n",
       "        <td style=\"padding-left: 1em; padding-right: 1em; text-align: center; vertical-align: top\">0.071922649557</td>\n",
       "        <td style=\"padding-left: 1em; padding-right: 1em; text-align: center; vertical-align: top\">4.56316349042</td>\n",
       "        <td style=\"padding-left: 1em; padding-right: 1em; text-align: center; vertical-align: top\">0.234482758621</td>\n",
       "    </tr>\n",
       "    <tr>\n",
       "        <td style=\"padding-left: 1em; padding-right: 1em; text-align: center; vertical-align: top\">0.001</td>\n",
       "        <td style=\"padding-left: 1em; padding-right: 1em; text-align: center; vertical-align: top\">rating</td>\n",
       "        <td style=\"padding-left: 1em; padding-right: 1em; text-align: center; vertical-align: top\">User-ID</td>\n",
       "        <td style=\"padding-left: 1em; padding-right: 1em; text-align: center; vertical-align: top\">0.493282824866</td>\n",
       "        <td style=\"padding-left: 1em; padding-right: 1em; text-align: center; vertical-align: top\">0.185913556483</td>\n",
       "        <td style=\"padding-left: 1em; padding-right: 1em; text-align: center; vertical-align: top\">4.01043607839</td>\n",
       "        <td style=\"padding-left: 1em; padding-right: 1em; text-align: center; vertical-align: top\">0.144827586207</td>\n",
       "    </tr>\n",
       "    <tr>\n",
       "        <td style=\"padding-left: 1em; padding-right: 1em; text-align: center; vertical-align: top\">0.001</td>\n",
       "        <td style=\"padding-left: 1em; padding-right: 1em; text-align: center; vertical-align: top\">rating</td>\n",
       "        <td style=\"padding-left: 1em; padding-right: 1em; text-align: center; vertical-align: top\">User-ID</td>\n",
       "        <td style=\"padding-left: 1em; padding-right: 1em; text-align: center; vertical-align: top\">0.464770344314</td>\n",
       "        <td style=\"padding-left: 1em; padding-right: 1em; text-align: center; vertical-align: top\">0.13396264463</td>\n",
       "        <td style=\"padding-left: 1em; padding-right: 1em; text-align: center; vertical-align: top\">4.22484441302</td>\n",
       "        <td style=\"padding-left: 1em; padding-right: 1em; text-align: center; vertical-align: top\">0.188505747126</td>\n",
       "    </tr>\n",
       "    <tr>\n",
       "        <td style=\"padding-left: 1em; padding-right: 1em; text-align: center; vertical-align: top\">0.001</td>\n",
       "        <td style=\"padding-left: 1em; padding-right: 1em; text-align: center; vertical-align: top\">rating</td>\n",
       "        <td style=\"padding-left: 1em; padding-right: 1em; text-align: center; vertical-align: top\">User-ID</td>\n",
       "        <td style=\"padding-left: 1em; padding-right: 1em; text-align: center; vertical-align: top\">0.499729418927</td>\n",
       "        <td style=\"padding-left: 1em; padding-right: 1em; text-align: center; vertical-align: top\">0.158419723227</td>\n",
       "        <td style=\"padding-left: 1em; padding-right: 1em; text-align: center; vertical-align: top\">4.32039108411</td>\n",
       "        <td style=\"padding-left: 1em; padding-right: 1em; text-align: center; vertical-align: top\">0.218390804598</td>\n",
       "    </tr>\n",
       "</table>\n",
       "<table frame=\"box\" rules=\"cols\">\n",
       "    <tr>\n",
       "        <th style=\"padding-left: 1em; padding-right: 1em; text-align: center\">validation_recall@5</th>\n",
       "        <th style=\"padding-left: 1em; padding-right: 1em; text-align: center\">validation_rmse</th>\n",
       "    </tr>\n",
       "    <tr>\n",
       "        <td style=\"padding-left: 1em; padding-right: 1em; text-align: center; vertical-align: top\">0.200988346616</td>\n",
       "        <td style=\"padding-left: 1em; padding-right: 1em; text-align: center; vertical-align: top\">4.46763857005</td>\n",
       "    </tr>\n",
       "    <tr>\n",
       "        <td style=\"padding-left: 1em; padding-right: 1em; text-align: center; vertical-align: top\">0.125619968996</td>\n",
       "        <td style=\"padding-left: 1em; padding-right: 1em; text-align: center; vertical-align: top\">4.69911892986</td>\n",
       "    </tr>\n",
       "    <tr>\n",
       "        <td style=\"padding-left: 1em; padding-right: 1em; text-align: center; vertical-align: top\">0.196062700973</td>\n",
       "        <td style=\"padding-left: 1em; padding-right: 1em; text-align: center; vertical-align: top\">4.34058813598</td>\n",
       "    </tr>\n",
       "    <tr>\n",
       "        <td style=\"padding-left: 1em; padding-right: 1em; text-align: center; vertical-align: top\">0.182685664142</td>\n",
       "        <td style=\"padding-left: 1em; padding-right: 1em; text-align: center; vertical-align: top\">4.49236977528</td>\n",
       "    </tr>\n",
       "    <tr>\n",
       "        <td style=\"padding-left: 1em; padding-right: 1em; text-align: center; vertical-align: top\">0.205921250534</td>\n",
       "        <td style=\"padding-left: 1em; padding-right: 1em; text-align: center; vertical-align: top\">4.57079068712</td>\n",
       "    </tr>\n",
       "</table>\n",
       "[5 rows x 16 columns]<br/>\n",
       "</div>"
      ],
      "text/plain": [
       "Columns:\n",
       "\tmodel_id\tint\n",
       "\titem_id\tstr\n",
       "\tlinear_regularization\tfloat\n",
       "\tmax_iterations\tint\n",
       "\tnum_factors\tint\n",
       "\tnum_sampled_negative_examples\tint\n",
       "\tranking_regularization\tfloat\n",
       "\tregularization\tfloat\n",
       "\ttarget\tstr\n",
       "\tuser_id\tstr\n",
       "\ttraining_precision@5\tfloat\n",
       "\ttraining_recall@5\tfloat\n",
       "\ttraining_rmse\tfloat\n",
       "\tvalidation_precision@5\tfloat\n",
       "\tvalidation_recall@5\tfloat\n",
       "\tvalidation_rmse\tfloat\n",
       "\n",
       "Rows: 5\n",
       "\n",
       "Data:\n",
       "+----------+---------+-----------------------+----------------+-------------+-------------------------------+\n",
       "| model_id | item_id | linear_regularization | max_iterations | num_factors | num_sampled_negative_examples |\n",
       "+----------+---------+-----------------------+----------------+-------------+-------------------------------+\n",
       "|    1     | Item-ID |         0.001         |       25       |      24     |               4               |\n",
       "|    0     | Item-ID |         0.001         |       25       |      8      |               4               |\n",
       "|    3     | Item-ID |         0.001         |       50       |      24     |               4               |\n",
       "|    2     | Item-ID |         0.001         |       25       |      24     |               4               |\n",
       "|    4     | Item-ID |         0.001         |       25       |      8      |               8               |\n",
       "+----------+---------+-----------------------+----------------+-------------+-------------------------------+\n",
       "+------------------------+----------------+--------+---------+----------------------+\n",
       "| ranking_regularization | regularization | target | user_id | training_precision@5 |\n",
       "+------------------------+----------------+--------+---------+----------------------+\n",
       "|          0.5           |     0.001      | rating | User-ID |    0.437583711019    |\n",
       "|          0.1           |     0.001      | rating | User-ID |    0.414039775418    |\n",
       "|          0.5           |     0.001      | rating | User-ID |    0.493282824866    |\n",
       "|          0.25          |     0.001      | rating | User-ID |    0.464770344314    |\n",
       "|          0.25          |     0.001      | rating | User-ID |    0.499729418927    |\n",
       "+------------------------+----------------+--------+---------+----------------------+\n",
       "+-------------------+---------------+------------------------+---------------------+\n",
       "| training_recall@5 | training_rmse | validation_precision@5 | validation_recall@5 |\n",
       "+-------------------+---------------+------------------------+---------------------+\n",
       "|   0.165228887016  | 4.16672094669 |     0.124137931034     |    0.200988346616   |\n",
       "|   0.071922649557  | 4.56316349042 |     0.234482758621     |    0.125619968996   |\n",
       "|   0.185913556483  | 4.01043607839 |     0.144827586207     |    0.196062700973   |\n",
       "|   0.13396264463   | 4.22484441302 |     0.188505747126     |    0.182685664142   |\n",
       "|   0.158419723227  | 4.32039108411 |     0.218390804598     |    0.205921250534   |\n",
       "+-------------------+---------------+------------------------+---------------------+\n",
       "+-----------------+\n",
       "| validation_rmse |\n",
       "+-----------------+\n",
       "|  4.46763857005  |\n",
       "|  4.69911892986  |\n",
       "|  4.34058813598  |\n",
       "|  4.49236977528  |\n",
       "|  4.57079068712  |\n",
       "+-----------------+\n",
       "[5 rows x 16 columns]"
      ]
     },
     "execution_count": 132,
     "metadata": {},
     "output_type": "execute_result"
    }
   ],
   "source": [
    "job_result = job.get_results()\n",
    "\n",
    "job_result.head()"
   ]
  },
  {
   "cell_type": "code",
   "execution_count": 133,
   "metadata": {
    "collapsed": false
   },
   "outputs": [
    {
     "data": {
      "text/plain": [
       "{'item_id': 'Item-ID',\n",
       " 'linear_regularization': 0.001,\n",
       " 'max_iterations': 50,\n",
       " 'num_factors': 24,\n",
       " 'num_sampled_negative_examples': 4,\n",
       " 'ranking_regularization': 0.5,\n",
       " 'regularization': 0.001,\n",
       " 'target': 'rating',\n",
       " 'user_id': 'User-ID'}"
      ]
     },
     "execution_count": 133,
     "metadata": {},
     "output_type": "execute_result"
    }
   ],
   "source": [
    "bst_prms = job.get_best_params()\n",
    "bst_prms"
   ]
  },
  {
   "cell_type": "code",
   "execution_count": 134,
   "metadata": {
    "collapsed": false,
    "scrolled": true
   },
   "outputs": [
    {
     "data": {
      "text/plain": [
       "[Class                            : RankingFactorizationRecommender\n",
       " \n",
       " Schema\n",
       " ------\n",
       " User ID                          : User-ID\n",
       " Item ID                          : Item-ID\n",
       " Target                           : rating\n",
       " Additional observation features  : 1\n",
       " User side features               : []\n",
       " Item side features               : []\n",
       " \n",
       " Statistics\n",
       " ----------\n",
       " Number of observations           : 1760844\n",
       " Number of users                  : 59132\n",
       " Number of items                  : 140\n",
       " \n",
       " Training summary\n",
       " ----------------\n",
       " Training time                    : 32.5761\n",
       " \n",
       " Model Parameters\n",
       " ----------------\n",
       " Model class                      : RankingFactorizationRecommender\n",
       " num_factors                      : 8\n",
       " binary_target                    : 0\n",
       " side_data_factorization          : 1\n",
       " solver                           : auto\n",
       " nmf                              : 0\n",
       " max_iterations                   : 25\n",
       " \n",
       " Regularization Settings\n",
       " -----------------------\n",
       " regularization                   : 0.001\n",
       " regularization_type              : normal\n",
       " linear_regularization            : 0.001\n",
       " ranking_regularization           : 0.1\n",
       " unobserved_rating_value          : -1.79769313486e+308\n",
       " num_sampled_negative_examples    : 4\n",
       " ials_confidence_scaling_type     : auto\n",
       " ials_confidence_scaling_factor   : 1\n",
       " \n",
       " Optimization Settings\n",
       " ---------------------\n",
       " init_random_sigma                : 0.01\n",
       " sgd_convergence_interval         : 4\n",
       " sgd_convergence_threshold        : 0.0\n",
       " sgd_max_trial_iterations         : 5\n",
       " sgd_sampling_block_size          : 131072\n",
       " sgd_step_adjustment_interval     : 4\n",
       " sgd_step_size                    : 0.0\n",
       " sgd_trial_sample_minimum_size    : 10000\n",
       " sgd_trial_sample_proportion      : 0.125\n",
       " step_size_decrease_rate          : 0.75\n",
       " additional_iterations_if_unhealthy : 5\n",
       " adagrad_momentum_weighting       : 0.9\n",
       " num_tempering_iterations         : 4\n",
       " tempering_regularization_start_value : 0.0\n",
       " track_exact_loss                 : 0,\n",
       " Class                            : RankingFactorizationRecommender\n",
       " \n",
       " Schema\n",
       " ------\n",
       " User ID                          : User-ID\n",
       " Item ID                          : Item-ID\n",
       " Target                           : rating\n",
       " Additional observation features  : 1\n",
       " User side features               : []\n",
       " Item side features               : []\n",
       " \n",
       " Statistics\n",
       " ----------\n",
       " Number of observations           : 1760844\n",
       " Number of users                  : 59132\n",
       " Number of items                  : 140\n",
       " \n",
       " Training summary\n",
       " ----------------\n",
       " Training time                    : 48.7715\n",
       " \n",
       " Model Parameters\n",
       " ----------------\n",
       " Model class                      : RankingFactorizationRecommender\n",
       " num_factors                      : 24\n",
       " binary_target                    : 0\n",
       " side_data_factorization          : 1\n",
       " solver                           : auto\n",
       " nmf                              : 0\n",
       " max_iterations                   : 25\n",
       " \n",
       " Regularization Settings\n",
       " -----------------------\n",
       " regularization                   : 0.001\n",
       " regularization_type              : normal\n",
       " linear_regularization            : 0.001\n",
       " ranking_regularization           : 0.5\n",
       " unobserved_rating_value          : -1.79769313486e+308\n",
       " num_sampled_negative_examples    : 4\n",
       " ials_confidence_scaling_type     : auto\n",
       " ials_confidence_scaling_factor   : 1\n",
       " \n",
       " Optimization Settings\n",
       " ---------------------\n",
       " init_random_sigma                : 0.01\n",
       " sgd_convergence_interval         : 4\n",
       " sgd_convergence_threshold        : 0.0\n",
       " sgd_max_trial_iterations         : 5\n",
       " sgd_sampling_block_size          : 131072\n",
       " sgd_step_adjustment_interval     : 4\n",
       " sgd_step_size                    : 0.0\n",
       " sgd_trial_sample_minimum_size    : 10000\n",
       " sgd_trial_sample_proportion      : 0.125\n",
       " step_size_decrease_rate          : 0.75\n",
       " additional_iterations_if_unhealthy : 5\n",
       " adagrad_momentum_weighting       : 0.9\n",
       " num_tempering_iterations         : 4\n",
       " tempering_regularization_start_value : 0.0\n",
       " track_exact_loss                 : 0,\n",
       " Class                            : RankingFactorizationRecommender\n",
       " \n",
       " Schema\n",
       " ------\n",
       " User ID                          : User-ID\n",
       " Item ID                          : Item-ID\n",
       " Target                           : rating\n",
       " Additional observation features  : 1\n",
       " User side features               : []\n",
       " Item side features               : []\n",
       " \n",
       " Statistics\n",
       " ----------\n",
       " Number of observations           : 1760844\n",
       " Number of users                  : 59132\n",
       " Number of items                  : 140\n",
       " \n",
       " Training summary\n",
       " ----------------\n",
       " Training time                    : 47.4177\n",
       " \n",
       " Model Parameters\n",
       " ----------------\n",
       " Model class                      : RankingFactorizationRecommender\n",
       " num_factors                      : 24\n",
       " binary_target                    : 0\n",
       " side_data_factorization          : 1\n",
       " solver                           : auto\n",
       " nmf                              : 0\n",
       " max_iterations                   : 25\n",
       " \n",
       " Regularization Settings\n",
       " -----------------------\n",
       " regularization                   : 0.001\n",
       " regularization_type              : normal\n",
       " linear_regularization            : 0.001\n",
       " ranking_regularization           : 0.25\n",
       " unobserved_rating_value          : -1.79769313486e+308\n",
       " num_sampled_negative_examples    : 4\n",
       " ials_confidence_scaling_type     : auto\n",
       " ials_confidence_scaling_factor   : 1\n",
       " \n",
       " Optimization Settings\n",
       " ---------------------\n",
       " init_random_sigma                : 0.01\n",
       " sgd_convergence_interval         : 4\n",
       " sgd_convergence_threshold        : 0.0\n",
       " sgd_max_trial_iterations         : 5\n",
       " sgd_sampling_block_size          : 131072\n",
       " sgd_step_adjustment_interval     : 4\n",
       " sgd_step_size                    : 0.0\n",
       " sgd_trial_sample_minimum_size    : 10000\n",
       " sgd_trial_sample_proportion      : 0.125\n",
       " step_size_decrease_rate          : 0.75\n",
       " additional_iterations_if_unhealthy : 5\n",
       " adagrad_momentum_weighting       : 0.9\n",
       " num_tempering_iterations         : 4\n",
       " tempering_regularization_start_value : 0.0\n",
       " track_exact_loss                 : 0,\n",
       " Class                            : RankingFactorizationRecommender\n",
       " \n",
       " Schema\n",
       " ------\n",
       " User ID                          : User-ID\n",
       " Item ID                          : Item-ID\n",
       " Target                           : rating\n",
       " Additional observation features  : 1\n",
       " User side features               : []\n",
       " Item side features               : []\n",
       " \n",
       " Statistics\n",
       " ----------\n",
       " Number of observations           : 1760844\n",
       " Number of users                  : 59132\n",
       " Number of items                  : 140\n",
       " \n",
       " Training summary\n",
       " ----------------\n",
       " Training time                    : 82.5328\n",
       " \n",
       " Model Parameters\n",
       " ----------------\n",
       " Model class                      : RankingFactorizationRecommender\n",
       " num_factors                      : 24\n",
       " binary_target                    : 0\n",
       " side_data_factorization          : 1\n",
       " solver                           : auto\n",
       " nmf                              : 0\n",
       " max_iterations                   : 50\n",
       " \n",
       " Regularization Settings\n",
       " -----------------------\n",
       " regularization                   : 0.001\n",
       " regularization_type              : normal\n",
       " linear_regularization            : 0.001\n",
       " ranking_regularization           : 0.5\n",
       " unobserved_rating_value          : -1.79769313486e+308\n",
       " num_sampled_negative_examples    : 4\n",
       " ials_confidence_scaling_type     : auto\n",
       " ials_confidence_scaling_factor   : 1\n",
       " \n",
       " Optimization Settings\n",
       " ---------------------\n",
       " init_random_sigma                : 0.01\n",
       " sgd_convergence_interval         : 4\n",
       " sgd_convergence_threshold        : 0.0\n",
       " sgd_max_trial_iterations         : 5\n",
       " sgd_sampling_block_size          : 131072\n",
       " sgd_step_adjustment_interval     : 4\n",
       " sgd_step_size                    : 0.0\n",
       " sgd_trial_sample_minimum_size    : 10000\n",
       " sgd_trial_sample_proportion      : 0.125\n",
       " step_size_decrease_rate          : 0.75\n",
       " additional_iterations_if_unhealthy : 5\n",
       " adagrad_momentum_weighting       : 0.9\n",
       " num_tempering_iterations         : 4\n",
       " tempering_regularization_start_value : 0.0\n",
       " track_exact_loss                 : 0,\n",
       " Class                            : RankingFactorizationRecommender\n",
       " \n",
       " Schema\n",
       " ------\n",
       " User ID                          : User-ID\n",
       " Item ID                          : Item-ID\n",
       " Target                           : rating\n",
       " Additional observation features  : 1\n",
       " User side features               : []\n",
       " Item side features               : []\n",
       " \n",
       " Statistics\n",
       " ----------\n",
       " Number of observations           : 1760844\n",
       " Number of users                  : 59132\n",
       " Number of items                  : 140\n",
       " \n",
       " Training summary\n",
       " ----------------\n",
       " Training time                    : 35.7841\n",
       " \n",
       " Model Parameters\n",
       " ----------------\n",
       " Model class                      : RankingFactorizationRecommender\n",
       " num_factors                      : 8\n",
       " binary_target                    : 0\n",
       " side_data_factorization          : 1\n",
       " solver                           : auto\n",
       " nmf                              : 0\n",
       " max_iterations                   : 25\n",
       " \n",
       " Regularization Settings\n",
       " -----------------------\n",
       " regularization                   : 0.001\n",
       " regularization_type              : normal\n",
       " linear_regularization            : 0.001\n",
       " ranking_regularization           : 0.25\n",
       " unobserved_rating_value          : -1.79769313486e+308\n",
       " num_sampled_negative_examples    : 8\n",
       " ials_confidence_scaling_type     : auto\n",
       " ials_confidence_scaling_factor   : 1\n",
       " \n",
       " Optimization Settings\n",
       " ---------------------\n",
       " init_random_sigma                : 0.01\n",
       " sgd_convergence_interval         : 4\n",
       " sgd_convergence_threshold        : 0.0\n",
       " sgd_max_trial_iterations         : 5\n",
       " sgd_sampling_block_size          : 131072\n",
       " sgd_step_adjustment_interval     : 4\n",
       " sgd_step_size                    : 0.0\n",
       " sgd_trial_sample_minimum_size    : 10000\n",
       " sgd_trial_sample_proportion      : 0.125\n",
       " step_size_decrease_rate          : 0.75\n",
       " additional_iterations_if_unhealthy : 5\n",
       " adagrad_momentum_weighting       : 0.9\n",
       " num_tempering_iterations         : 4\n",
       " tempering_regularization_start_value : 0.0\n",
       " track_exact_loss                 : 0]"
      ]
     },
     "execution_count": 134,
     "metadata": {},
     "output_type": "execute_result"
    }
   ],
   "source": [
    "models = job.get_models()\n",
    "models"
   ]
  },
  {
   "cell_type": "code",
   "execution_count": 135,
   "metadata": {
    "collapsed": false,
    "scrolled": false
   },
   "outputs": [
    {
     "name": "stdout",
     "output_type": "stream",
     "text": [
      "PROGRESS: Evaluate model M0\n",
      "\n",
      "Precision and recall summary statistics by cutoff\n",
      "+--------+----------------+-----------------+\n",
      "| cutoff | mean_precision |   mean_recall   |\n",
      "+--------+----------------+-----------------+\n",
      "|   1    | 0.287356321839 | 0.0390081859022 |\n",
      "|   2    | 0.247126436782 | 0.0619016117242 |\n",
      "|   3    | 0.226053639847 | 0.0768995805128 |\n",
      "|   4    | 0.238505747126 |  0.108708689186 |\n",
      "|   5    | 0.234482758621 |  0.125619968996 |\n",
      "|   6    | 0.231800766284 |  0.145024068053 |\n",
      "|   7    | 0.220032840722 |  0.160272488816 |\n",
      "|   8    | 0.224137931034 |  0.184744093802 |\n",
      "|   9    | 0.220945083014 |  0.203746806251 |\n",
      "|   10   | 0.225287356322 |  0.233773310555 |\n",
      "+--------+----------------+-----------------+\n",
      "[10 rows x 3 columns]\n",
      "\n",
      "PROGRESS: Evaluate model M1\n",
      "\n",
      "Precision and recall summary statistics by cutoff\n",
      "+--------+-----------------+-----------------+\n",
      "| cutoff |  mean_precision |   mean_recall   |\n",
      "+--------+-----------------+-----------------+\n",
      "|   1    |  0.172413793103 | 0.0718253968254 |\n",
      "|   2    |  0.172413793103 |  0.137463807779 |\n",
      "|   3    |  0.153256704981 |  0.179445198036 |\n",
      "|   4    |  0.135057471264 |  0.19041444886  |\n",
      "|   5    |  0.124137931034 |  0.200988346616 |\n",
      "|   6    |  0.11877394636  |  0.216101720664 |\n",
      "|   7    |  0.110016420361 |  0.221405946858 |\n",
      "|   8    |  0.100574712644 |  0.224711912923 |\n",
      "|   9    | 0.0945083014049 |   0.2290183047  |\n",
      "|   10   | 0.0931034482759 |  0.237712388395 |\n",
      "+--------+-----------------+-----------------+\n",
      "[10 rows x 3 columns]\n",
      "\n",
      "PROGRESS: Evaluate model M2\n",
      "\n",
      "Precision and recall summary statistics by cutoff\n",
      "+--------+----------------+-----------------+\n",
      "| cutoff | mean_precision |   mean_recall   |\n",
      "+--------+----------------+-----------------+\n",
      "|   1    | 0.310344827586 | 0.0835642628421 |\n",
      "|   2    | 0.264367816092 |  0.122929791718 |\n",
      "|   3    | 0.241379310345 |  0.157647860774 |\n",
      "|   4    | 0.209770114943 |  0.171429969239 |\n",
      "|   5    | 0.188505747126 |  0.182685664142 |\n",
      "|   6    | 0.176245210728 |  0.195166341793 |\n",
      "|   7    | 0.164203612479 |  0.212212792113 |\n",
      "|   8    | 0.158045977011 |  0.22347015285  |\n",
      "|   9    | 0.153256704981 |  0.241506800712 |\n",
      "|   10   | 0.145977011494 |  0.246632227417 |\n",
      "+--------+----------------+-----------------+\n",
      "[10 rows x 3 columns]\n",
      "\n",
      "PROGRESS: Evaluate model M3\n",
      "\n",
      "Precision and recall summary statistics by cutoff\n",
      "+--------+----------------+-----------------+\n",
      "| cutoff | mean_precision |   mean_recall   |\n",
      "+--------+----------------+-----------------+\n",
      "|   1    | 0.206896551724 | 0.0750253841333 |\n",
      "|   2    | 0.201149425287 |  0.124731483465 |\n",
      "|   3    | 0.183908045977 |  0.169397858791 |\n",
      "|   4    | 0.155172413793 |  0.180855621973 |\n",
      "|   5    | 0.144827586207 |  0.196062700973 |\n",
      "|   6    | 0.13601532567  |  0.209597335772 |\n",
      "|   7    | 0.126436781609 |   0.2164043291  |\n",
      "|   8    | 0.122126436782 |  0.22581121296  |\n",
      "|   9    | 0.112388250319 |  0.227679326522 |\n",
      "|   10   | 0.110344827586 |  0.240156817935 |\n",
      "+--------+----------------+-----------------+\n",
      "[10 rows x 3 columns]\n",
      "\n",
      "PROGRESS: Evaluate model M4\n",
      "\n",
      "Precision and recall summary statistics by cutoff\n",
      "+--------+----------------+----------------+\n",
      "| cutoff | mean_precision |  mean_recall   |\n",
      "+--------+----------------+----------------+\n",
      "|   1    | 0.310344827586 | 0.098636488634 |\n",
      "|   2    | 0.275862068966 | 0.138960466857 |\n",
      "|   3    | 0.256704980843 | 0.171771534867 |\n",
      "|   4    | 0.227011494253 | 0.189843760179 |\n",
      "|   5    | 0.218390804598 | 0.205921250534 |\n",
      "|   6    |  0.2030651341  | 0.227833601237 |\n",
      "|   7    | 0.197044334975 | 0.251819320018 |\n",
      "|   8    | 0.185344827586 | 0.257712039843 |\n",
      "|   9    | 0.176245210728 | 0.267360205179 |\n",
      "|   10   | 0.168965517241 | 0.274490581789 |\n",
      "+--------+----------------+----------------+\n",
      "[10 rows x 3 columns]\n",
      "\n",
      "Model compare metric: precision_recall\n"
     ]
    },
    {
     "data": {
      "application/javascript": [
       "$(\"head\").append($(\"<link/>\").attr({\n",
       "  rel:  \"stylesheet\",\n",
       "  type: \"text/css\",\n",
       "  href: \"//cdnjs.cloudflare.com/ajax/libs/font-awesome/4.1.0/css/font-awesome.min.css\"\n",
       "}));\n",
       "$(\"head\").append($(\"<link/>\").attr({\n",
       "  rel:  \"stylesheet\",\n",
       "  type: \"text/css\",\n",
       "  href: \"https://static.turi.com/products/graphlab-create/2.1/canvas/css/canvas.css\"\n",
       "}));\n",
       "\n",
       "            (function(){\n",
       "\n",
       "                var e = null;\n",
       "                if (typeof element == 'undefined') {\n",
       "                    var scripts = document.getElementsByTagName('script');\n",
       "                    var thisScriptTag = scripts[scripts.length-1];\n",
       "                    var parentDiv = thisScriptTag.parentNode;\n",
       "                    e = document.createElement('div');\n",
       "                    parentDiv.appendChild(e);\n",
       "                } else {\n",
       "                    e = element[0];\n",
       "                }\n",
       "\n",
       "                if (typeof requirejs !== 'undefined') {\n",
       "                    // disable load timeout; ipython_app.js is large and can take a while to load.\n",
       "                    requirejs.config({waitSeconds: 0});\n",
       "                }\n",
       "\n",
       "                require(['https://static.turi.com/products/graphlab-create/2.1/canvas/js/ipython_app.js'], function(IPythonApp){\n",
       "                    var app = new IPythonApp();\n",
       "                    app.attachView('model','Comparison', {\"comparison\": {\"dataset_label\": \"test\", \"evaluations\": {\"Model_1\": {\"precision_recall\": [{\"cutoff\": 1, \"precision\": 0.17241379310344832, \"recall\": 0.0718253968253968}, {\"cutoff\": 2, \"precision\": 0.17241379310344826, \"recall\": 0.13746380777865036}, {\"cutoff\": 3, \"precision\": 0.15325670498084296, \"recall\": 0.17944519803590273}, {\"cutoff\": 4, \"precision\": 0.13505747126436776, \"recall\": 0.19041444886022596}, {\"cutoff\": 5, \"precision\": 0.12413793103448272, \"recall\": 0.20098834661553303}, {\"cutoff\": 6, \"precision\": 0.11877394636015325, \"recall\": 0.21610172066443925}, {\"cutoff\": 7, \"precision\": 0.11001642036124795, \"recall\": 0.2214059468582207}, {\"cutoff\": 8, \"precision\": 0.10057471264367818, \"recall\": 0.2247119129228075}, {\"cutoff\": 9, \"precision\": 0.0945083014048531, \"recall\": 0.22901830470046358}, {\"cutoff\": 10, \"precision\": 0.09310344827586213, \"recall\": 0.23771238839454728}, {\"cutoff\": 11, \"precision\": 0.0898641588296761, \"recall\": 0.2411480034393578}, {\"cutoff\": 16, \"precision\": 0.08908045977011493, \"recall\": 0.2904100703376065}, {\"cutoff\": 21, \"precision\": 0.0979748221127531, \"recall\": 0.33389272535449444}, {\"cutoff\": 26, \"precision\": 0.1030061892130858, \"recall\": 0.37609825438411143}, {\"cutoff\": 31, \"precision\": 0.10641453466814983, \"recall\": 0.41701522134555613}, {\"cutoff\": 36, \"precision\": 0.10926672305982651, \"recall\": 0.46083341446160025}, {\"cutoff\": 41, \"precision\": 0.10860590826949115, \"recall\": 0.4885465203905984}, {\"cutoff\": 46, \"precision\": 0.10624210759143288, \"recall\": 0.5042949737252587}]}, \"Model_0\": {\"precision_recall\": [{\"cutoff\": 1, \"precision\": 0.2873563218390807, \"recall\": 0.03900818590223887}, {\"cutoff\": 2, \"precision\": 0.2471264367816092, \"recall\": 0.061901611724200396}, {\"cutoff\": 3, \"precision\": 0.22605363984674332, \"recall\": 0.0768995805127739}, {\"cutoff\": 4, \"precision\": 0.2385057471264368, \"recall\": 0.10870868918595057}, {\"cutoff\": 5, \"precision\": 0.23448275862068974, \"recall\": 0.12561996899578107}, {\"cutoff\": 6, \"precision\": 0.23180076628352492, \"recall\": 0.14502406805255386}, {\"cutoff\": 7, \"precision\": 0.2200328407224959, \"recall\": 0.16027248881571718}, {\"cutoff\": 8, \"precision\": 0.22413793103448276, \"recall\": 0.1847440938020648}, {\"cutoff\": 9, \"precision\": 0.22094508301404844, \"recall\": 0.2037468062505544}, {\"cutoff\": 10, \"precision\": 0.22528735632183902, \"recall\": 0.23377331055491973}, {\"cutoff\": 11, \"precision\": 0.21943573667711594, \"recall\": 0.2478084490703182}, {\"cutoff\": 16, \"precision\": 0.20905172413793102, \"recall\": 0.35067362663064805}, {\"cutoff\": 21, \"precision\": 0.1981390257252326, \"recall\": 0.44828708661542244}, {\"cutoff\": 26, \"precision\": 0.18390804597701146, \"recall\": 0.5289116564853696}, {\"cutoff\": 31, \"precision\": 0.16573971078976643, \"recall\": 0.5784629654869535}, {\"cutoff\": 36, \"precision\": 0.1533280257418188, \"recall\": 0.6535012183662858}, {\"cutoff\": 41, \"precision\": 0.1453314479386808, \"recall\": 0.7106447678036881}, {\"cutoff\": 46, \"precision\": 0.14022511608718505, \"recall\": 0.7653704388786846}]}, \"Model_3\": {\"precision_recall\": [{\"cutoff\": 1, \"precision\": 0.20689655172413796, \"recall\": 0.07502538413333018}, {\"cutoff\": 2, \"precision\": 0.20114942528735633, \"recall\": 0.12473148346461686}, {\"cutoff\": 3, \"precision\": 0.1839080459770115, \"recall\": 0.16939785879066244}, {\"cutoff\": 4, \"precision\": 0.15517241379310343, \"recall\": 0.18085562197256352}, {\"cutoff\": 5, \"precision\": 0.1448275862068965, \"recall\": 0.19606270097274595}, {\"cutoff\": 6, \"precision\": 0.13601532567049804, \"recall\": 0.2095973357717486}, {\"cutoff\": 7, \"precision\": 0.1264367816091954, \"recall\": 0.21640432910048096}, {\"cutoff\": 8, \"precision\": 0.1221264367816092, \"recall\": 0.2258112129601385}, {\"cutoff\": 9, \"precision\": 0.11238825031928479, \"recall\": 0.22767932652240488}, {\"cutoff\": 10, \"precision\": 0.11034482758620695, \"recall\": 0.24015681793542867}, {\"cutoff\": 11, \"precision\": 0.10553814002089869, \"recall\": 0.2478131088375966}, {\"cutoff\": 16, \"precision\": 0.10344827586206895, \"recall\": 0.29392047001992033}, {\"cutoff\": 21, \"precision\": 0.11220580186097427, \"recall\": 0.3445841509259798}, {\"cutoff\": 26, \"precision\": 0.11273209549071621, \"recall\": 0.39357361122228707}, {\"cutoff\": 31, \"precision\": 0.11160548757879127, \"recall\": 0.4376001345166763}, {\"cutoff\": 36, \"precision\": 0.11309814068434756, \"recall\": 0.478267940344402}, {\"cutoff\": 41, \"precision\": 0.11253077510436636, \"recall\": 0.5094216095415497}, {\"cutoff\": 46, \"precision\": 0.10949048340352688, \"recall\": 0.5238931039530742}]}, \"Model_2\": {\"precision_recall\": [{\"cutoff\": 1, \"precision\": 0.310344827586207, \"recall\": 0.08356426284212393}, {\"cutoff\": 2, \"precision\": 0.264367816091954, \"recall\": 0.12292979171789764}, {\"cutoff\": 3, \"precision\": 0.2413793103448276, \"recall\": 0.1576478607737978}, {\"cutoff\": 4, \"precision\": 0.20977011494252878, \"recall\": 0.17142996923856504}, {\"cutoff\": 5, \"precision\": 0.18850574712643675, \"recall\": 0.18268566414243576}, {\"cutoff\": 6, \"precision\": 0.17624521072796942, \"recall\": 0.19516634179302841}, {\"cutoff\": 7, \"precision\": 0.16420361247947454, \"recall\": 0.2122127921128421}, {\"cutoff\": 8, \"precision\": 0.15804597701149428, \"recall\": 0.22347015285046262}, {\"cutoff\": 9, \"precision\": 0.1532567049808429, \"recall\": 0.24150680071219807}, {\"cutoff\": 10, \"precision\": 0.1459770114942529, \"recall\": 0.2466322274168351}, {\"cutoff\": 11, \"precision\": 0.14106583072100312, \"recall\": 0.2528102230750906}, {\"cutoff\": 16, \"precision\": 0.12787356321839077, \"recall\": 0.30369845260150113}, {\"cutoff\": 21, \"precision\": 0.12917350848385337, \"recall\": 0.35311585188646666}, {\"cutoff\": 26, \"precision\": 0.1237842617152962, \"recall\": 0.39399504192107876}, {\"cutoff\": 31, \"precision\": 0.12124582869855398, \"recall\": 0.44508385417680757}, {\"cutoff\": 36, \"precision\": 0.11597170390273842, \"recall\": 0.4802149141879275}, {\"cutoff\": 41, \"precision\": 0.11281112273542888, \"recall\": 0.5026963105748712}, {\"cutoff\": 46, \"precision\": 0.11073985871587072, \"recall\": 0.5315968999627174}]}, \"Model_4\": {\"precision_recall\": [{\"cutoff\": 1, \"precision\": 0.310344827586207, \"recall\": 0.09863648863398987}, {\"cutoff\": 2, \"precision\": 0.2758620689655171, \"recall\": 0.1389604668565188}, {\"cutoff\": 3, \"precision\": 0.2567049808429118, \"recall\": 0.17177153486748686}, {\"cutoff\": 4, \"precision\": 0.22701149425287365, \"recall\": 0.18984376017859272}, {\"cutoff\": 5, \"precision\": 0.21839080459770116, \"recall\": 0.2059212505339442}, {\"cutoff\": 6, \"precision\": 0.2030651340996168, \"recall\": 0.22783360123689952}, {\"cutoff\": 7, \"precision\": 0.19704433497536958, \"recall\": 0.25181932001772084}, {\"cutoff\": 8, \"precision\": 0.18534482758620696, \"recall\": 0.257712039843474}, {\"cutoff\": 9, \"precision\": 0.17624521072796934, \"recall\": 0.26736020517879594}, {\"cutoff\": 10, \"precision\": 0.16896551724137934, \"recall\": 0.2744905817894324}, {\"cutoff\": 11, \"precision\": 0.16405433646812947, \"recall\": 0.28581179948746177}, {\"cutoff\": 16, \"precision\": 0.1422413793103448, \"recall\": 0.3288873300242615}, {\"cutoff\": 21, \"precision\": 0.12972085385878487, \"recall\": 0.35020679414982264}, {\"cutoff\": 26, \"precision\": 0.12245800176834658, \"recall\": 0.3854990734550953}, {\"cutoff\": 31, \"precision\": 0.11383018168335188, \"recall\": 0.40582655641876025}, {\"cutoff\": 36, \"precision\": 0.10990529266391338, \"recall\": 0.43401597181207374}, {\"cutoff\": 41, \"precision\": 0.10804521300736607, \"recall\": 0.4552256195134755}, {\"cutoff\": 46, \"precision\": 0.10599223252896416, \"recall\": 0.4752748193003065}]}}}, \"selected_variable\": {\"comparison\": {\"dataset_label\": \"test\", \"evaluations\": {\"Model_1\": {\"precision_recall\": [{\"cutoff\": 1, \"precision\": 0.17241379310344832, \"recall\": 0.0718253968253968}, {\"cutoff\": 2, \"precision\": 0.17241379310344826, \"recall\": 0.13746380777865036}, {\"cutoff\": 3, \"precision\": 0.15325670498084296, \"recall\": 0.17944519803590273}, {\"cutoff\": 4, \"precision\": 0.13505747126436776, \"recall\": 0.19041444886022596}, {\"cutoff\": 5, \"precision\": 0.12413793103448272, \"recall\": 0.20098834661553303}, {\"cutoff\": 6, \"precision\": 0.11877394636015325, \"recall\": 0.21610172066443925}, {\"cutoff\": 7, \"precision\": 0.11001642036124795, \"recall\": 0.2214059468582207}, {\"cutoff\": 8, \"precision\": 0.10057471264367818, \"recall\": 0.2247119129228075}, {\"cutoff\": 9, \"precision\": 0.0945083014048531, \"recall\": 0.22901830470046358}, {\"cutoff\": 10, \"precision\": 0.09310344827586213, \"recall\": 0.23771238839454728}, {\"cutoff\": 11, \"precision\": 0.0898641588296761, \"recall\": 0.2411480034393578}, {\"cutoff\": 16, \"precision\": 0.08908045977011493, \"recall\": 0.2904100703376065}, {\"cutoff\": 21, \"precision\": 0.0979748221127531, \"recall\": 0.33389272535449444}, {\"cutoff\": 26, \"precision\": 0.1030061892130858, \"recall\": 0.37609825438411143}, {\"cutoff\": 31, \"precision\": 0.10641453466814983, \"recall\": 0.41701522134555613}, {\"cutoff\": 36, \"precision\": 0.10926672305982651, \"recall\": 0.46083341446160025}, {\"cutoff\": 41, \"precision\": 0.10860590826949115, \"recall\": 0.4885465203905984}, {\"cutoff\": 46, \"precision\": 0.10624210759143288, \"recall\": 0.5042949737252587}]}, \"Model_0\": {\"precision_recall\": [{\"cutoff\": 1, \"precision\": 0.2873563218390807, \"recall\": 0.03900818590223887}, {\"cutoff\": 2, \"precision\": 0.2471264367816092, \"recall\": 0.061901611724200396}, {\"cutoff\": 3, \"precision\": 0.22605363984674332, \"recall\": 0.0768995805127739}, {\"cutoff\": 4, \"precision\": 0.2385057471264368, \"recall\": 0.10870868918595057}, {\"cutoff\": 5, \"precision\": 0.23448275862068974, \"recall\": 0.12561996899578107}, {\"cutoff\": 6, \"precision\": 0.23180076628352492, \"recall\": 0.14502406805255386}, {\"cutoff\": 7, \"precision\": 0.2200328407224959, \"recall\": 0.16027248881571718}, {\"cutoff\": 8, \"precision\": 0.22413793103448276, \"recall\": 0.1847440938020648}, {\"cutoff\": 9, \"precision\": 0.22094508301404844, \"recall\": 0.2037468062505544}, {\"cutoff\": 10, \"precision\": 0.22528735632183902, \"recall\": 0.23377331055491973}, {\"cutoff\": 11, \"precision\": 0.21943573667711594, \"recall\": 0.2478084490703182}, {\"cutoff\": 16, \"precision\": 0.20905172413793102, \"recall\": 0.35067362663064805}, {\"cutoff\": 21, \"precision\": 0.1981390257252326, \"recall\": 0.44828708661542244}, {\"cutoff\": 26, \"precision\": 0.18390804597701146, \"recall\": 0.5289116564853696}, {\"cutoff\": 31, \"precision\": 0.16573971078976643, \"recall\": 0.5784629654869535}, {\"cutoff\": 36, \"precision\": 0.1533280257418188, \"recall\": 0.6535012183662858}, {\"cutoff\": 41, \"precision\": 0.1453314479386808, \"recall\": 0.7106447678036881}, {\"cutoff\": 46, \"precision\": 0.14022511608718505, \"recall\": 0.7653704388786846}]}, \"Model_3\": {\"precision_recall\": [{\"cutoff\": 1, \"precision\": 0.20689655172413796, \"recall\": 0.07502538413333018}, {\"cutoff\": 2, \"precision\": 0.20114942528735633, \"recall\": 0.12473148346461686}, {\"cutoff\": 3, \"precision\": 0.1839080459770115, \"recall\": 0.16939785879066244}, {\"cutoff\": 4, \"precision\": 0.15517241379310343, \"recall\": 0.18085562197256352}, {\"cutoff\": 5, \"precision\": 0.1448275862068965, \"recall\": 0.19606270097274595}, {\"cutoff\": 6, \"precision\": 0.13601532567049804, \"recall\": 0.2095973357717486}, {\"cutoff\": 7, \"precision\": 0.1264367816091954, \"recall\": 0.21640432910048096}, {\"cutoff\": 8, \"precision\": 0.1221264367816092, \"recall\": 0.2258112129601385}, {\"cutoff\": 9, \"precision\": 0.11238825031928479, \"recall\": 0.22767932652240488}, {\"cutoff\": 10, \"precision\": 0.11034482758620695, \"recall\": 0.24015681793542867}, {\"cutoff\": 11, \"precision\": 0.10553814002089869, \"recall\": 0.2478131088375966}, {\"cutoff\": 16, \"precision\": 0.10344827586206895, \"recall\": 0.29392047001992033}, {\"cutoff\": 21, \"precision\": 0.11220580186097427, \"recall\": 0.3445841509259798}, {\"cutoff\": 26, \"precision\": 0.11273209549071621, \"recall\": 0.39357361122228707}, {\"cutoff\": 31, \"precision\": 0.11160548757879127, \"recall\": 0.4376001345166763}, {\"cutoff\": 36, \"precision\": 0.11309814068434756, \"recall\": 0.478267940344402}, {\"cutoff\": 41, \"precision\": 0.11253077510436636, \"recall\": 0.5094216095415497}, {\"cutoff\": 46, \"precision\": 0.10949048340352688, \"recall\": 0.5238931039530742}]}, \"Model_2\": {\"precision_recall\": [{\"cutoff\": 1, \"precision\": 0.310344827586207, \"recall\": 0.08356426284212393}, {\"cutoff\": 2, \"precision\": 0.264367816091954, \"recall\": 0.12292979171789764}, {\"cutoff\": 3, \"precision\": 0.2413793103448276, \"recall\": 0.1576478607737978}, {\"cutoff\": 4, \"precision\": 0.20977011494252878, \"recall\": 0.17142996923856504}, {\"cutoff\": 5, \"precision\": 0.18850574712643675, \"recall\": 0.18268566414243576}, {\"cutoff\": 6, \"precision\": 0.17624521072796942, \"recall\": 0.19516634179302841}, {\"cutoff\": 7, \"precision\": 0.16420361247947454, \"recall\": 0.2122127921128421}, {\"cutoff\": 8, \"precision\": 0.15804597701149428, \"recall\": 0.22347015285046262}, {\"cutoff\": 9, \"precision\": 0.1532567049808429, \"recall\": 0.24150680071219807}, {\"cutoff\": 10, \"precision\": 0.1459770114942529, \"recall\": 0.2466322274168351}, {\"cutoff\": 11, \"precision\": 0.14106583072100312, \"recall\": 0.2528102230750906}, {\"cutoff\": 16, \"precision\": 0.12787356321839077, \"recall\": 0.30369845260150113}, {\"cutoff\": 21, \"precision\": 0.12917350848385337, \"recall\": 0.35311585188646666}, {\"cutoff\": 26, \"precision\": 0.1237842617152962, \"recall\": 0.39399504192107876}, {\"cutoff\": 31, \"precision\": 0.12124582869855398, \"recall\": 0.44508385417680757}, {\"cutoff\": 36, \"precision\": 0.11597170390273842, \"recall\": 0.4802149141879275}, {\"cutoff\": 41, \"precision\": 0.11281112273542888, \"recall\": 0.5026963105748712}, {\"cutoff\": 46, \"precision\": 0.11073985871587072, \"recall\": 0.5315968999627174}]}, \"Model_4\": {\"precision_recall\": [{\"cutoff\": 1, \"precision\": 0.310344827586207, \"recall\": 0.09863648863398987}, {\"cutoff\": 2, \"precision\": 0.2758620689655171, \"recall\": 0.1389604668565188}, {\"cutoff\": 3, \"precision\": 0.2567049808429118, \"recall\": 0.17177153486748686}, {\"cutoff\": 4, \"precision\": 0.22701149425287365, \"recall\": 0.18984376017859272}, {\"cutoff\": 5, \"precision\": 0.21839080459770116, \"recall\": 0.2059212505339442}, {\"cutoff\": 6, \"precision\": 0.2030651340996168, \"recall\": 0.22783360123689952}, {\"cutoff\": 7, \"precision\": 0.19704433497536958, \"recall\": 0.25181932001772084}, {\"cutoff\": 8, \"precision\": 0.18534482758620696, \"recall\": 0.257712039843474}, {\"cutoff\": 9, \"precision\": 0.17624521072796934, \"recall\": 0.26736020517879594}, {\"cutoff\": 10, \"precision\": 0.16896551724137934, \"recall\": 0.2744905817894324}, {\"cutoff\": 11, \"precision\": 0.16405433646812947, \"recall\": 0.28581179948746177}, {\"cutoff\": 16, \"precision\": 0.1422413793103448, \"recall\": 0.3288873300242615}, {\"cutoff\": 21, \"precision\": 0.12972085385878487, \"recall\": 0.35020679414982264}, {\"cutoff\": 26, \"precision\": 0.12245800176834658, \"recall\": 0.3854990734550953}, {\"cutoff\": 31, \"precision\": 0.11383018168335188, \"recall\": 0.40582655641876025}, {\"cutoff\": 36, \"precision\": 0.10990529266391338, \"recall\": 0.43401597181207374}, {\"cutoff\": 41, \"precision\": 0.10804521300736607, \"recall\": 0.4552256195134755}, {\"cutoff\": 46, \"precision\": 0.10599223252896416, \"recall\": 0.4752748193003065}]}}}, \"name\": [\"<RankingFactorizationRecommender>\"], \"view_file\": \"model\", \"view_component\": \"Comparison\", \"view_params\": {\"model_type\": \"recommender\", \"view\": \"Comparison\"}, \"view_components\": [\"Summary\", \"Evaluation\", \"Comparison\"], \"model_type\": \"recommender\", \"attributes\": {\"section_titles\": [\"Schema\", \"Statistics\", \"Training summary\", \"Model Parameters\", \"Regularization Settings\", \"Optimization Settings\"], \"sections\": [[[\"User ID\", \"User-ID\"], [\"Item ID\", \"Item-ID\"], [\"Target\", \"rating\"], [\"Additional observation features\", 1], [\"User side features\", []], [\"Item side features\", []]], [[\"Number of observations\", 1760844], [\"Number of users\", 59132], [\"Number of items\", 140]], [[\"Training time\", 32.5761]], [[\"Model class\", \"RankingFactorizationRecommender\"], [\"num_factors\", 8], [\"binary_target\", 0], [\"side_data_factorization\", 1], [\"solver\", \"auto\"], [\"nmf\", 0], [\"max_iterations\", 25]], [[\"regularization\", 0.001], [\"regularization_type\", \"normal\"], [\"linear_regularization\", 0.001], [\"ranking_regularization\", 0.1], [\"unobserved_rating_value\", -1.7976931348623157e+308], [\"num_sampled_negative_examples\", 4], [\"ials_confidence_scaling_type\", \"auto\"], [\"ials_confidence_scaling_factor\", 1]], [[\"init_random_sigma\", 0.01], [\"sgd_convergence_interval\", 4], [\"sgd_convergence_threshold\", 0.0], [\"sgd_max_trial_iterations\", 5], [\"sgd_sampling_block_size\", 131072], [\"sgd_step_adjustment_interval\", 4], [\"sgd_step_size\", 0.0], [\"sgd_trial_sample_minimum_size\", 10000], [\"sgd_trial_sample_proportion\", 0.125], [\"step_size_decrease_rate\", 0.75], [\"additional_iterations_if_unhealthy\", 5], [\"adagrad_momentum_weighting\", 0.9], [\"num_tempering_iterations\", 4], [\"tempering_regularization_start_value\", 0.0], [\"track_exact_loss\", 0]]]}, \"evaluations\": [[\"dataset\", {\"precision_recall_overall\": [{\"cutoff\": 1, \"precision\": 0.2873563218390807, \"recall\": 0.03900818590223887}, {\"cutoff\": 2, \"precision\": 0.2471264367816092, \"recall\": 0.061901611724200396}, {\"cutoff\": 3, \"precision\": 0.22605363984674332, \"recall\": 0.0768995805127739}, {\"cutoff\": 4, \"precision\": 0.2385057471264368, \"recall\": 0.10870868918595057}, {\"cutoff\": 5, \"precision\": 0.23448275862068974, \"recall\": 0.12561996899578107}, {\"cutoff\": 6, \"precision\": 0.23180076628352492, \"recall\": 0.14502406805255386}, {\"cutoff\": 7, \"precision\": 0.2200328407224959, \"recall\": 0.16027248881571718}, {\"cutoff\": 8, \"precision\": 0.22413793103448276, \"recall\": 0.1847440938020648}, {\"cutoff\": 9, \"precision\": 0.22094508301404844, \"recall\": 0.2037468062505544}, {\"cutoff\": 10, \"precision\": 0.22528735632183902, \"recall\": 0.23377331055491973}, {\"cutoff\": 11, \"precision\": 0.21943573667711594, \"recall\": 0.2478084490703182}, {\"cutoff\": 16, \"precision\": 0.20905172413793102, \"recall\": 0.35067362663064805}, {\"cutoff\": 21, \"precision\": 0.1981390257252326, \"recall\": 0.44828708661542244}, {\"cutoff\": 26, \"precision\": 0.18390804597701146, \"recall\": 0.5289116564853696}, {\"cutoff\": 31, \"precision\": 0.16573971078976643, \"recall\": 0.5784629654869535}, {\"cutoff\": 36, \"precision\": 0.1533280257418188, \"recall\": 0.6535012183662858}, {\"cutoff\": 41, \"precision\": 0.1453314479386808, \"recall\": 0.7106447678036881}, {\"cutoff\": 46, \"precision\": 0.14022511608718505, \"recall\": 0.7653704388786846}], \"precision_recall_by_user\": [{\"count\": 11, \"cutoff\": 1, \"User-ID\": 2067, \"precision\": 1.0, \"recall\": 0.09090909090909091}, {\"count\": 11, \"cutoff\": 2, \"User-ID\": 2067, \"precision\": 0.5, \"recall\": 0.09090909090909091}, {\"count\": 11, \"cutoff\": 3, \"User-ID\": 2067, \"precision\": 0.6666666666666666, \"recall\": 0.18181818181818182}, {\"count\": 11, \"cutoff\": 4, \"User-ID\": 2067, \"precision\": 0.5, \"recall\": 0.18181818181818182}, {\"count\": 11, \"cutoff\": 5, \"User-ID\": 2067, \"precision\": 0.4, \"recall\": 0.18181818181818182}, {\"count\": 11, \"cutoff\": 6, \"User-ID\": 2067, \"precision\": 0.3333333333333333, \"recall\": 0.18181818181818182}, {\"count\": 11, \"cutoff\": 7, \"User-ID\": 2067, \"precision\": 0.2857142857142857, \"recall\": 0.18181818181818182}, {\"count\": 11, \"cutoff\": 8, \"User-ID\": 2067, \"precision\": 0.25, \"recall\": 0.18181818181818182}, {\"count\": 11, \"cutoff\": 9, \"User-ID\": 2067, \"precision\": 0.2222222222222222, \"recall\": 0.18181818181818182}, {\"count\": 11, \"cutoff\": 10, \"User-ID\": 2067, \"precision\": 0.3, \"recall\": 0.2727272727272727}, {\"count\": 11, \"cutoff\": 11, \"User-ID\": 2067, \"precision\": 0.2727272727272727, \"recall\": 0.2727272727272727}, {\"count\": 11, \"cutoff\": 16, \"User-ID\": 2067, \"precision\": 0.1875, \"recall\": 0.2727272727272727}, {\"count\": 11, \"cutoff\": 21, \"User-ID\": 2067, \"precision\": 0.14285714285714285, \"recall\": 0.2727272727272727}, {\"count\": 11, \"cutoff\": 26, \"User-ID\": 2067, \"precision\": 0.23076923076923078, \"recall\": 0.5454545454545454}, {\"count\": 11, \"cutoff\": 31, \"User-ID\": 2067, \"precision\": 0.1935483870967742, \"recall\": 0.5454545454545454}, {\"count\": 11, \"cutoff\": 36, \"User-ID\": 2067, \"precision\": 0.19444444444444445, \"recall\": 0.6363636363636364}, {\"count\": 11, \"cutoff\": 41, \"User-ID\": 2067, \"precision\": 0.17073170731707318, \"recall\": 0.6363636363636364}, {\"count\": 11, \"cutoff\": 46, \"User-ID\": 2067, \"precision\": 0.15217391304347827, \"recall\": 0.6363636363636364}, {\"count\": 25, \"cutoff\": 1, \"User-ID\": 3291, \"precision\": 1.0, \"recall\": 0.04}, {\"count\": 25, \"cutoff\": 2, \"User-ID\": 3291, \"precision\": 1.0, \"recall\": 0.08}, {\"count\": 25, \"cutoff\": 3, \"User-ID\": 3291, \"precision\": 1.0, \"recall\": 0.12}, {\"count\": 25, \"cutoff\": 4, \"User-ID\": 3291, \"precision\": 1.0, \"recall\": 0.16}, {\"count\": 25, \"cutoff\": 5, \"User-ID\": 3291, \"precision\": 1.0, \"recall\": 0.2}, {\"count\": 25, \"cutoff\": 6, \"User-ID\": 3291, \"precision\": 1.0, \"recall\": 0.24}, {\"count\": 25, \"cutoff\": 7, \"User-ID\": 3291, \"precision\": 1.0, \"recall\": 0.28}, {\"count\": 25, \"cutoff\": 8, \"User-ID\": 3291, \"precision\": 1.0, \"recall\": 0.32}, {\"count\": 25, \"cutoff\": 9, \"User-ID\": 3291, \"precision\": 1.0, \"recall\": 0.36}, {\"count\": 25, \"cutoff\": 10, \"User-ID\": 3291, \"precision\": 1.0, \"recall\": 0.4}, {\"count\": 25, \"cutoff\": 11, \"User-ID\": 3291, \"precision\": 1.0, \"recall\": 0.44}, {\"count\": 25, \"cutoff\": 16, \"User-ID\": 3291, \"precision\": 1.0, \"recall\": 0.64}, {\"count\": 25, \"cutoff\": 21, \"User-ID\": 3291, \"precision\": 1.0, \"recall\": 0.84}, {\"count\": 25, \"cutoff\": 26, \"User-ID\": 3291, \"precision\": 0.9615384615384616, \"recall\": 1.0}, {\"count\": 25, \"cutoff\": 31, \"User-ID\": 3291, \"precision\": 0.8064516129032258, \"recall\": 1.0}, {\"count\": 25, \"cutoff\": 36, \"User-ID\": 3291, \"precision\": 0.6944444444444444, \"recall\": 1.0}, {\"count\": 25, \"cutoff\": 41, \"User-ID\": 3291, \"precision\": 0.6756756756756757, \"recall\": 1.0}, {\"count\": 25, \"cutoff\": 46, \"User-ID\": 3291, \"precision\": 0.6756756756756757, \"recall\": 1.0}, {\"count\": 6, \"cutoff\": 1, \"User-ID\": 3317, \"precision\": 0.0, \"recall\": 0.0}, {\"count\": 6, \"cutoff\": 2, \"User-ID\": 3317, \"precision\": 0.0, \"recall\": 0.0}, {\"count\": 6, \"cutoff\": 3, \"User-ID\": 3317, \"precision\": 0.0, \"recall\": 0.0}, {\"count\": 6, \"cutoff\": 4, \"User-ID\": 3317, \"precision\": 0.0, \"recall\": 0.0}, {\"count\": 6, \"cutoff\": 5, \"User-ID\": 3317, \"precision\": 0.0, \"recall\": 0.0}, {\"count\": 6, \"cutoff\": 6, \"User-ID\": 3317, \"precision\": 0.0, \"recall\": 0.0}, {\"count\": 6, \"cutoff\": 7, \"User-ID\": 3317, \"precision\": 0.0, \"recall\": 0.0}, {\"count\": 6, \"cutoff\": 8, \"User-ID\": 3317, \"precision\": 0.0, \"recall\": 0.0}, {\"count\": 6, \"cutoff\": 9, \"User-ID\": 3317, \"precision\": 0.0, \"recall\": 0.0}, {\"count\": 6, \"cutoff\": 10, \"User-ID\": 3317, \"precision\": 0.0, \"recall\": 0.0}, {\"count\": 6, \"cutoff\": 11, \"User-ID\": 3317, \"precision\": 0.0, \"recall\": 0.0}, {\"count\": 6, \"cutoff\": 16, \"User-ID\": 3317, \"precision\": 0.0, \"recall\": 0.0}, {\"count\": 6, \"cutoff\": 21, \"User-ID\": 3317, \"precision\": 0.0, \"recall\": 0.0}, {\"count\": 6, \"cutoff\": 26, \"User-ID\": 3317, \"precision\": 0.0, \"recall\": 0.0}, {\"count\": 6, \"cutoff\": 31, \"User-ID\": 3317, \"precision\": 0.0, \"recall\": 0.0}, {\"count\": 6, \"cutoff\": 36, \"User-ID\": 3317, \"precision\": 0.0, \"recall\": 0.0}, {\"count\": 6, \"cutoff\": 41, \"User-ID\": 3317, \"precision\": 0.024390243902439025, \"recall\": 0.16666666666666666}, {\"count\": 6, \"cutoff\": 46, \"User-ID\": 3317, \"precision\": 0.043478260869565216, \"recall\": 0.3333333333333333}, {\"count\": 1, \"cutoff\": 1, \"User-ID\": 4135, \"precision\": 0.0, \"recall\": 0.0}, {\"count\": 1, \"cutoff\": 2, \"User-ID\": 4135, \"precision\": 0.0, \"recall\": 0.0}, {\"count\": 1, \"cutoff\": 3, \"User-ID\": 4135, \"precision\": 0.0, \"recall\": 0.0}, {\"count\": 1, \"cutoff\": 4, \"User-ID\": 4135, \"precision\": 0.0, \"recall\": 0.0}, {\"count\": 1, \"cutoff\": 5, \"User-ID\": 4135, \"precision\": 0.0, \"recall\": 0.0}, {\"count\": 1, \"cutoff\": 6, \"User-ID\": 4135, \"precision\": 0.0, \"recall\": 0.0}, {\"count\": 1, \"cutoff\": 7, \"User-ID\": 4135, \"precision\": 0.0, \"recall\": 0.0}, {\"count\": 1, \"cutoff\": 8, \"User-ID\": 4135, \"precision\": 0.0, \"recall\": 0.0}, {\"count\": 1, \"cutoff\": 9, \"User-ID\": 4135, \"precision\": 0.0, \"recall\": 0.0}, {\"count\": 1, \"cutoff\": 10, \"User-ID\": 4135, \"precision\": 0.0, \"recall\": 0.0}, {\"count\": 1, \"cutoff\": 11, \"User-ID\": 4135, \"precision\": 0.0, \"recall\": 0.0}, {\"count\": 1, \"cutoff\": 16, \"User-ID\": 4135, \"precision\": 0.0625, \"recall\": 1.0}, {\"count\": 1, \"cutoff\": 21, \"User-ID\": 4135, \"precision\": 0.047619047619047616, \"recall\": 1.0}, {\"count\": 1, \"cutoff\": 26, \"User-ID\": 4135, \"precision\": 0.038461538461538464, \"recall\": 1.0}, {\"count\": 1, \"cutoff\": 31, \"User-ID\": 4135, \"precision\": 0.03225806451612903, \"recall\": 1.0}, {\"count\": 1, \"cutoff\": 36, \"User-ID\": 4135, \"precision\": 0.027777777777777776, \"recall\": 1.0}, {\"count\": 1, \"cutoff\": 41, \"User-ID\": 4135, \"precision\": 0.024390243902439025, \"recall\": 1.0}, {\"count\": 1, \"cutoff\": 46, \"User-ID\": 4135, \"precision\": 0.021739130434782608, \"recall\": 1.0}, {\"count\": 2, \"cutoff\": 1, \"User-ID\": 6004, \"precision\": 0.0, \"recall\": 0.0}, {\"count\": 2, \"cutoff\": 2, \"User-ID\": 6004, \"precision\": 0.0, \"recall\": 0.0}, {\"count\": 2, \"cutoff\": 3, \"User-ID\": 6004, \"precision\": 0.0, \"recall\": 0.0}, {\"count\": 2, \"cutoff\": 4, \"User-ID\": 6004, \"precision\": 0.0, \"recall\": 0.0}, {\"count\": 2, \"cutoff\": 5, \"User-ID\": 6004, \"precision\": 0.0, \"recall\": 0.0}, {\"count\": 2, \"cutoff\": 6, \"User-ID\": 6004, \"precision\": 0.0, \"recall\": 0.0}, {\"count\": 2, \"cutoff\": 7, \"User-ID\": 6004, \"precision\": 0.0, \"recall\": 0.0}, {\"count\": 2, \"cutoff\": 8, \"User-ID\": 6004, \"precision\": 0.0, \"recall\": 0.0}, {\"count\": 2, \"cutoff\": 9, \"User-ID\": 6004, \"precision\": 0.0, \"recall\": 0.0}, {\"count\": 2, \"cutoff\": 10, \"User-ID\": 6004, \"precision\": 0.0, \"recall\": 0.0}, {\"count\": 2, \"cutoff\": 11, \"User-ID\": 6004, \"precision\": 0.0, \"recall\": 0.0}, {\"count\": 2, \"cutoff\": 16, \"User-ID\": 6004, \"precision\": 0.0, \"recall\": 0.0}, {\"count\": 2, \"cutoff\": 21, \"User-ID\": 6004, \"precision\": 0.0, \"recall\": 0.0}, {\"count\": 2, \"cutoff\": 26, \"User-ID\": 6004, \"precision\": 0.0, \"recall\": 0.0}, {\"count\": 2, \"cutoff\": 31, \"User-ID\": 6004, \"precision\": 0.0, \"recall\": 0.0}, {\"count\": 2, \"cutoff\": 36, \"User-ID\": 6004, \"precision\": 0.0, \"recall\": 0.0}, {\"count\": 2, \"cutoff\": 41, \"User-ID\": 6004, \"precision\": 0.024390243902439025, \"recall\": 0.5}, {\"count\": 2, \"cutoff\": 46, \"User-ID\": 6004, \"precision\": 0.021739130434782608, \"recall\": 0.5}, {\"count\": 7, \"cutoff\": 1, \"User-ID\": 6651, \"precision\": 0.0, \"recall\": 0.0}, {\"count\": 7, \"cutoff\": 2, \"User-ID\": 6651, \"precision\": 0.0, \"recall\": 0.0}, {\"count\": 7, \"cutoff\": 3, \"User-ID\": 6651, \"precision\": 0.0, \"recall\": 0.0}, {\"count\": 7, \"cutoff\": 4, \"User-ID\": 6651, \"precision\": 0.0, \"recall\": 0.0}, {\"count\": 7, \"cutoff\": 5, \"User-ID\": 6651, \"precision\": 0.0, \"recall\": 0.0}, {\"count\": 7, \"cutoff\": 6, \"User-ID\": 6651, \"precision\": 0.0, \"recall\": 0.0}, {\"count\": 7, \"cutoff\": 7, \"User-ID\": 6651, \"precision\": 0.0, \"recall\": 0.0}, {\"count\": 7, \"cutoff\": 8, \"User-ID\": 6651, \"precision\": 0.0, \"recall\": 0.0}, {\"count\": 7, \"cutoff\": 9, \"User-ID\": 6651, \"precision\": 0.1111111111111111, \"recall\": 0.14285714285714285}, {\"count\": 7, \"cutoff\": 10, \"User-ID\": 6651, \"precision\": 0.1, \"recall\": 0.14285714285714285}, {\"count\": 7, \"cutoff\": 11, \"User-ID\": 6651, \"precision\": 0.09090909090909091, \"recall\": 0.14285714285714285}, {\"count\": 7, \"cutoff\": 16, \"User-ID\": 6651, \"precision\": 0.125, \"recall\": 0.2857142857142857}, {\"count\": 7, \"cutoff\": 21, \"User-ID\": 6651, \"precision\": 0.14285714285714285, \"recall\": 0.42857142857142855}, {\"count\": 7, \"cutoff\": 26, \"User-ID\": 6651, \"precision\": 0.19230769230769232, \"recall\": 0.7142857142857143}, {\"count\": 7, \"cutoff\": 31, \"User-ID\": 6651, \"precision\": 0.1935483870967742, \"recall\": 0.8571428571428571}, {\"count\": 7, \"cutoff\": 36, \"User-ID\": 6651, \"precision\": 0.16666666666666666, \"recall\": 0.8571428571428571}, {\"count\": 7, \"cutoff\": 41, \"User-ID\": 6651, \"precision\": 0.14634146341463414, \"recall\": 0.8571428571428571}, {\"count\": 7, \"cutoff\": 46, \"User-ID\": 6651, \"precision\": 0.13043478260869565, \"recall\": 0.8571428571428571}, {\"count\": 2, \"cutoff\": 1, \"User-ID\": 7492, \"precision\": 0.0, \"recall\": 0.0}, {\"count\": 2, \"cutoff\": 2, \"User-ID\": 7492, \"precision\": 0.0, \"recall\": 0.0}, {\"count\": 2, \"cutoff\": 3, \"User-ID\": 7492, \"precision\": 0.0, \"recall\": 0.0}, {\"count\": 2, \"cutoff\": 4, \"User-ID\": 7492, \"precision\": 0.0, \"recall\": 0.0}, {\"count\": 2, \"cutoff\": 5, \"User-ID\": 7492, \"precision\": 0.0, \"recall\": 0.0}, {\"count\": 2, \"cutoff\": 6, \"User-ID\": 7492, \"precision\": 0.0, \"recall\": 0.0}, {\"count\": 2, \"cutoff\": 7, \"User-ID\": 7492, \"precision\": 0.0, \"recall\": 0.0}, {\"count\": 2, \"cutoff\": 8, \"User-ID\": 7492, \"precision\": 0.0, \"recall\": 0.0}, {\"count\": 2, \"cutoff\": 9, \"User-ID\": 7492, \"precision\": 0.0, \"recall\": 0.0}, {\"count\": 2, \"cutoff\": 10, \"User-ID\": 7492, \"precision\": 0.0, \"recall\": 0.0}, {\"count\": 2, \"cutoff\": 11, \"User-ID\": 7492, \"precision\": 0.0, \"recall\": 0.0}, {\"count\": 2, \"cutoff\": 16, \"User-ID\": 7492, \"precision\": 0.0, \"recall\": 0.0}, {\"count\": 2, \"cutoff\": 21, \"User-ID\": 7492, \"precision\": 0.047619047619047616, \"recall\": 0.5}, {\"count\": 2, \"cutoff\": 26, \"User-ID\": 7492, \"precision\": 0.038461538461538464, \"recall\": 0.5}, {\"count\": 2, \"cutoff\": 31, \"User-ID\": 7492, \"precision\": 0.03225806451612903, \"recall\": 0.5}, {\"count\": 2, \"cutoff\": 36, \"User-ID\": 7492, \"precision\": 0.05555555555555555, \"recall\": 1.0}, {\"count\": 2, \"cutoff\": 41, \"User-ID\": 7492, \"precision\": 0.04878048780487805, \"recall\": 1.0}, {\"count\": 2, \"cutoff\": 46, \"User-ID\": 7492, \"precision\": 0.043478260869565216, \"recall\": 1.0}, {\"count\": 5, \"cutoff\": 1, \"User-ID\": 7747, \"precision\": 0.0, \"recall\": 0.0}, {\"count\": 5, \"cutoff\": 2, \"User-ID\": 7747, \"precision\": 0.0, \"recall\": 0.0}, {\"count\": 5, \"cutoff\": 3, \"User-ID\": 7747, \"precision\": 0.0, \"recall\": 0.0}, {\"count\": 5, \"cutoff\": 4, \"User-ID\": 7747, \"precision\": 0.0, \"recall\": 0.0}, {\"count\": 5, \"cutoff\": 5, \"User-ID\": 7747, \"precision\": 0.0, \"recall\": 0.0}, {\"count\": 5, \"cutoff\": 6, \"User-ID\": 7747, \"precision\": 0.0, \"recall\": 0.0}, {\"count\": 5, \"cutoff\": 7, \"User-ID\": 7747, \"precision\": 0.0, \"recall\": 0.0}, {\"count\": 5, \"cutoff\": 8, \"User-ID\": 7747, \"precision\": 0.0, \"recall\": 0.0}, {\"count\": 5, \"cutoff\": 9, \"User-ID\": 7747, \"precision\": 0.0, \"recall\": 0.0}, {\"count\": 5, \"cutoff\": 10, \"User-ID\": 7747, \"precision\": 0.1, \"recall\": 0.2}, {\"count\": 5, \"cutoff\": 11, \"User-ID\": 7747, \"precision\": 0.09090909090909091, \"recall\": 0.2}, {\"count\": 5, \"cutoff\": 16, \"User-ID\": 7747, \"precision\": 0.125, \"recall\": 0.4}, {\"count\": 5, \"cutoff\": 21, \"User-ID\": 7747, \"precision\": 0.14285714285714285, \"recall\": 0.6}, {\"count\": 5, \"cutoff\": 26, \"User-ID\": 7747, \"precision\": 0.15384615384615385, \"recall\": 0.8}, {\"count\": 5, \"cutoff\": 31, \"User-ID\": 7747, \"precision\": 0.16129032258064516, \"recall\": 1.0}, {\"count\": 5, \"cutoff\": 36, \"User-ID\": 7747, \"precision\": 0.1388888888888889, \"recall\": 1.0}, {\"count\": 5, \"cutoff\": 41, \"User-ID\": 7747, \"precision\": 0.12195121951219512, \"recall\": 1.0}, {\"count\": 5, \"cutoff\": 46, \"User-ID\": 7747, \"precision\": 0.10869565217391304, \"recall\": 1.0}, {\"count\": 3, \"cutoff\": 1, \"User-ID\": 8429, \"precision\": 0.0, \"recall\": 0.0}, {\"count\": 3, \"cutoff\": 2, \"User-ID\": 8429, \"precision\": 0.0, \"recall\": 0.0}, {\"count\": 3, \"cutoff\": 3, \"User-ID\": 8429, \"precision\": 0.0, \"recall\": 0.0}, {\"count\": 3, \"cutoff\": 4, \"User-ID\": 8429, \"precision\": 0.0, \"recall\": 0.0}, {\"count\": 3, \"cutoff\": 5, \"User-ID\": 8429, \"precision\": 0.0, \"recall\": 0.0}, {\"count\": 3, \"cutoff\": 6, \"User-ID\": 8429, \"precision\": 0.0, \"recall\": 0.0}, {\"count\": 3, \"cutoff\": 7, \"User-ID\": 8429, \"precision\": 0.0, \"recall\": 0.0}, {\"count\": 3, \"cutoff\": 8, \"User-ID\": 8429, \"precision\": 0.0, \"recall\": 0.0}, {\"count\": 3, \"cutoff\": 9, \"User-ID\": 8429, \"precision\": 0.1111111111111111, \"recall\": 0.3333333333333333}, {\"count\": 3, \"cutoff\": 10, \"User-ID\": 8429, \"precision\": 0.1, \"recall\": 0.3333333333333333}, {\"count\": 3, \"cutoff\": 11, \"User-ID\": 8429, \"precision\": 0.09090909090909091, \"recall\": 0.3333333333333333}, {\"count\": 3, \"cutoff\": 16, \"User-ID\": 8429, \"precision\": 0.0625, \"recall\": 0.3333333333333333}, {\"count\": 3, \"cutoff\": 21, \"User-ID\": 8429, \"precision\": 0.047619047619047616, \"recall\": 0.3333333333333333}, {\"count\": 3, \"cutoff\": 26, \"User-ID\": 8429, \"precision\": 0.07692307692307693, \"recall\": 0.6666666666666666}, {\"count\": 3, \"cutoff\": 31, \"User-ID\": 8429, \"precision\": 0.06451612903225806, \"recall\": 0.6666666666666666}, {\"count\": 3, \"cutoff\": 36, \"User-ID\": 8429, \"precision\": 0.05555555555555555, \"recall\": 0.6666666666666666}, {\"count\": 3, \"cutoff\": 41, \"User-ID\": 8429, \"precision\": 0.04878048780487805, \"recall\": 0.6666666666666666}, {\"count\": 3, \"cutoff\": 46, \"User-ID\": 8429, \"precision\": 0.043478260869565216, \"recall\": 0.6666666666666666}, {\"count\": 1, \"cutoff\": 1, \"User-ID\": 9601, \"precision\": 0.0, \"recall\": 0.0}, {\"count\": 1, \"cutoff\": 2, \"User-ID\": 9601, \"precision\": 0.0, \"recall\": 0.0}, {\"count\": 1, \"cutoff\": 3, \"User-ID\": 9601, \"precision\": 0.0, \"recall\": 0.0}, {\"count\": 1, \"cutoff\": 4, \"User-ID\": 9601, \"precision\": 0.0, \"recall\": 0.0}, {\"count\": 1, \"cutoff\": 5, \"User-ID\": 9601, \"precision\": 0.0, \"recall\": 0.0}, {\"count\": 1, \"cutoff\": 6, \"User-ID\": 9601, \"precision\": 0.0, \"recall\": 0.0}, {\"count\": 1, \"cutoff\": 7, \"User-ID\": 9601, \"precision\": 0.0, \"recall\": 0.0}, {\"count\": 1, \"cutoff\": 8, \"User-ID\": 9601, \"precision\": 0.0, \"recall\": 0.0}, {\"count\": 1, \"cutoff\": 9, \"User-ID\": 9601, \"precision\": 0.0, \"recall\": 0.0}, {\"count\": 1, \"cutoff\": 10, \"User-ID\": 9601, \"precision\": 0.0, \"recall\": 0.0}, {\"count\": 1, \"cutoff\": 11, \"User-ID\": 9601, \"precision\": 0.0, \"recall\": 0.0}, {\"count\": 1, \"cutoff\": 16, \"User-ID\": 9601, \"precision\": 0.0, \"recall\": 0.0}, {\"count\": 1, \"cutoff\": 21, \"User-ID\": 9601, \"precision\": 0.0, \"recall\": 0.0}, {\"count\": 1, \"cutoff\": 26, \"User-ID\": 9601, \"precision\": 0.0, \"recall\": 0.0}, {\"count\": 1, \"cutoff\": 31, \"User-ID\": 9601, \"precision\": 0.0, \"recall\": 0.0}, {\"count\": 1, \"cutoff\": 36, \"User-ID\": 9601, \"precision\": 0.0, \"recall\": 0.0}, {\"count\": 1, \"cutoff\": 41, \"User-ID\": 9601, \"precision\": 0.0, \"recall\": 0.0}, {\"count\": 1, \"cutoff\": 46, \"User-ID\": 9601, \"precision\": 0.021739130434782608, \"recall\": 1.0}, {\"count\": 2, \"cutoff\": 1, \"User-ID\": 9629, \"precision\": 0.0, \"recall\": 0.0}, {\"count\": 2, \"cutoff\": 2, \"User-ID\": 9629, \"precision\": 0.0, \"recall\": 0.0}, {\"count\": 2, \"cutoff\": 3, \"User-ID\": 9629, \"precision\": 0.0, \"recall\": 0.0}, {\"count\": 2, \"cutoff\": 4, \"User-ID\": 9629, \"precision\": 0.0, \"recall\": 0.0}, {\"count\": 2, \"cutoff\": 5, \"User-ID\": 9629, \"precision\": 0.0, \"recall\": 0.0}, {\"count\": 2, \"cutoff\": 6, \"User-ID\": 9629, \"precision\": 0.0, \"recall\": 0.0}, {\"count\": 2, \"cutoff\": 7, \"User-ID\": 9629, \"precision\": 0.0, \"recall\": 0.0}, {\"count\": 2, \"cutoff\": 8, \"User-ID\": 9629, \"precision\": 0.0, \"recall\": 0.0}, {\"count\": 2, \"cutoff\": 9, \"User-ID\": 9629, \"precision\": 0.0, \"recall\": 0.0}, {\"count\": 2, \"cutoff\": 10, \"User-ID\": 9629, \"precision\": 0.0, \"recall\": 0.0}, {\"count\": 2, \"cutoff\": 11, \"User-ID\": 9629, \"precision\": 0.0, \"recall\": 0.0}, {\"count\": 2, \"cutoff\": 16, \"User-ID\": 9629, \"precision\": 0.0, \"recall\": 0.0}, {\"count\": 2, \"cutoff\": 21, \"User-ID\": 9629, \"precision\": 0.0, \"recall\": 0.0}, {\"count\": 2, \"cutoff\": 26, \"User-ID\": 9629, \"precision\": 0.07692307692307693, \"recall\": 1.0}, {\"count\": 2, \"cutoff\": 31, \"User-ID\": 9629, \"precision\": 0.06451612903225806, \"recall\": 1.0}, {\"count\": 2, \"cutoff\": 36, \"User-ID\": 9629, \"precision\": 0.05555555555555555, \"recall\": 1.0}, {\"count\": 2, \"cutoff\": 41, \"User-ID\": 9629, \"precision\": 0.04878048780487805, \"recall\": 1.0}, {\"count\": 2, \"cutoff\": 46, \"User-ID\": 9629, \"precision\": 0.043478260869565216, \"recall\": 1.0}, {\"count\": 1, \"cutoff\": 1, \"User-ID\": 9721, \"precision\": 0.0, \"recall\": 0.0}, {\"count\": 1, \"cutoff\": 2, \"User-ID\": 9721, \"precision\": 0.0, \"recall\": 0.0}, {\"count\": 1, \"cutoff\": 3, \"User-ID\": 9721, \"precision\": 0.0, \"recall\": 0.0}, {\"count\": 1, \"cutoff\": 4, \"User-ID\": 9721, \"precision\": 0.0, \"recall\": 0.0}, {\"count\": 1, \"cutoff\": 5, \"User-ID\": 9721, \"precision\": 0.0, \"recall\": 0.0}, {\"count\": 1, \"cutoff\": 6, \"User-ID\": 9721, \"precision\": 0.0, \"recall\": 0.0}, {\"count\": 1, \"cutoff\": 7, \"User-ID\": 9721, \"precision\": 0.0, \"recall\": 0.0}, {\"count\": 1, \"cutoff\": 8, \"User-ID\": 9721, \"precision\": 0.0, \"recall\": 0.0}, {\"count\": 1, \"cutoff\": 9, \"User-ID\": 9721, \"precision\": 0.0, \"recall\": 0.0}, {\"count\": 1, \"cutoff\": 10, \"User-ID\": 9721, \"precision\": 0.0, \"recall\": 0.0}, {\"count\": 1, \"cutoff\": 11, \"User-ID\": 9721, \"precision\": 0.0, \"recall\": 0.0}, {\"count\": 1, \"cutoff\": 16, \"User-ID\": 9721, \"precision\": 0.0, \"recall\": 0.0}, {\"count\": 1, \"cutoff\": 21, \"User-ID\": 9721, \"precision\": 0.0, \"recall\": 0.0}, {\"count\": 1, \"cutoff\": 26, \"User-ID\": 9721, \"precision\": 0.0, \"recall\": 0.0}, {\"count\": 1, \"cutoff\": 31, \"User-ID\": 9721, \"precision\": 0.0, \"recall\": 0.0}, {\"count\": 1, \"cutoff\": 36, \"User-ID\": 9721, \"precision\": 0.0, \"recall\": 0.0}, {\"count\": 1, \"cutoff\": 41, \"User-ID\": 9721, \"precision\": 0.0, \"recall\": 0.0}, {\"count\": 1, \"cutoff\": 46, \"User-ID\": 9721, \"precision\": 0.021739130434782608, \"recall\": 1.0}, {\"count\": 1, \"cutoff\": 1, \"User-ID\": 10467, \"precision\": 0.0, \"recall\": 0.0}, {\"count\": 1, \"cutoff\": 2, \"User-ID\": 10467, \"precision\": 0.0, \"recall\": 0.0}, {\"count\": 1, \"cutoff\": 3, \"User-ID\": 10467, \"precision\": 0.0, \"recall\": 0.0}, {\"count\": 1, \"cutoff\": 4, \"User-ID\": 10467, \"precision\": 0.0, \"recall\": 0.0}, {\"count\": 1, \"cutoff\": 5, \"User-ID\": 10467, \"precision\": 0.0, \"recall\": 0.0}, {\"count\": 1, \"cutoff\": 6, \"User-ID\": 10467, \"precision\": 0.0, \"recall\": 0.0}, {\"count\": 1, \"cutoff\": 7, \"User-ID\": 10467, \"precision\": 0.0, \"recall\": 0.0}, {\"count\": 1, \"cutoff\": 8, \"User-ID\": 10467, \"precision\": 0.0, \"recall\": 0.0}, {\"count\": 1, \"cutoff\": 9, \"User-ID\": 10467, \"precision\": 0.0, \"recall\": 0.0}, {\"count\": 1, \"cutoff\": 10, \"User-ID\": 10467, \"precision\": 0.0, \"recall\": 0.0}, {\"count\": 1, \"cutoff\": 11, \"User-ID\": 10467, \"precision\": 0.0, \"recall\": 0.0}, {\"count\": 1, \"cutoff\": 16, \"User-ID\": 10467, \"precision\": 0.0, \"recall\": 0.0}, {\"count\": 1, \"cutoff\": 21, \"User-ID\": 10467, \"precision\": 0.0, \"recall\": 0.0}, {\"count\": 1, \"cutoff\": 26, \"User-ID\": 10467, \"precision\": 0.0, \"recall\": 0.0}, {\"count\": 1, \"cutoff\": 31, \"User-ID\": 10467, \"precision\": 0.0, \"recall\": 0.0}, {\"count\": 1, \"cutoff\": 36, \"User-ID\": 10467, \"precision\": 0.027777777777777776, \"recall\": 1.0}, {\"count\": 1, \"cutoff\": 41, \"User-ID\": 10467, \"precision\": 0.024390243902439025, \"recall\": 1.0}, {\"count\": 1, \"cutoff\": 46, \"User-ID\": 10467, \"precision\": 0.021739130434782608, \"recall\": 1.0}, {\"count\": 4, \"cutoff\": 1, \"User-ID\": 10802, \"precision\": 0.0, \"recall\": 0.0}, {\"count\": 4, \"cutoff\": 2, \"User-ID\": 10802, \"precision\": 0.0, \"recall\": 0.0}, {\"count\": 4, \"cutoff\": 3, \"User-ID\": 10802, \"precision\": 0.0, \"recall\": 0.0}, {\"count\": 4, \"cutoff\": 4, \"User-ID\": 10802, \"precision\": 0.0, \"recall\": 0.0}, {\"count\": 4, \"cutoff\": 5, \"User-ID\": 10802, \"precision\": 0.0, \"recall\": 0.0}, {\"count\": 4, \"cutoff\": 6, \"User-ID\": 10802, \"precision\": 0.0, \"recall\": 0.0}, {\"count\": 4, \"cutoff\": 7, \"User-ID\": 10802, \"precision\": 0.0, \"recall\": 0.0}, {\"count\": 4, \"cutoff\": 8, \"User-ID\": 10802, \"precision\": 0.0, \"recall\": 0.0}, {\"count\": 4, \"cutoff\": 9, \"User-ID\": 10802, \"precision\": 0.0, \"recall\": 0.0}, {\"count\": 4, \"cutoff\": 10, \"User-ID\": 10802, \"precision\": 0.0, \"recall\": 0.0}, {\"count\": 4, \"cutoff\": 11, \"User-ID\": 10802, \"precision\": 0.0, \"recall\": 0.0}, {\"count\": 4, \"cutoff\": 16, \"User-ID\": 10802, \"precision\": 0.0, \"recall\": 0.0}, {\"count\": 4, \"cutoff\": 21, \"User-ID\": 10802, \"precision\": 0.0, \"recall\": 0.0}, {\"count\": 4, \"cutoff\": 26, \"User-ID\": 10802, \"precision\": 0.0, \"recall\": 0.0}, {\"count\": 4, \"cutoff\": 31, \"User-ID\": 10802, \"precision\": 0.0, \"recall\": 0.0}, {\"count\": 4, \"cutoff\": 36, \"User-ID\": 10802, \"precision\": 0.0, \"recall\": 0.0}, {\"count\": 4, \"cutoff\": 41, \"User-ID\": 10802, \"precision\": 0.024390243902439025, \"recall\": 0.25}, {\"count\": 4, \"cutoff\": 46, \"User-ID\": 10802, \"precision\": 0.043478260869565216, \"recall\": 0.5}, {\"count\": 4, \"cutoff\": 1, \"User-ID\": 10815, \"precision\": 0.0, \"recall\": 0.0}, {\"count\": 4, \"cutoff\": 2, \"User-ID\": 10815, \"precision\": 0.0, \"recall\": 0.0}, {\"count\": 4, \"cutoff\": 3, \"User-ID\": 10815, \"precision\": 0.0, \"recall\": 0.0}, {\"count\": 4, \"cutoff\": 4, \"User-ID\": 10815, \"precision\": 0.25, \"recall\": 0.25}, {\"count\": 4, \"cutoff\": 5, \"User-ID\": 10815, \"precision\": 0.2, \"recall\": 0.25}, {\"count\": 4, \"cutoff\": 6, \"User-ID\": 10815, \"precision\": 0.16666666666666666, \"recall\": 0.25}, {\"count\": 4, \"cutoff\": 7, \"User-ID\": 10815, \"precision\": 0.14285714285714285, \"recall\": 0.25}, {\"count\": 4, \"cutoff\": 8, \"User-ID\": 10815, \"precision\": 0.125, \"recall\": 0.25}, {\"count\": 4, \"cutoff\": 9, \"User-ID\": 10815, \"precision\": 0.1111111111111111, \"recall\": 0.25}, {\"count\": 4, \"cutoff\": 10, \"User-ID\": 10815, \"precision\": 0.1, \"recall\": 0.25}, {\"count\": 4, \"cutoff\": 11, \"User-ID\": 10815, \"precision\": 0.09090909090909091, \"recall\": 0.25}, {\"count\": 4, \"cutoff\": 16, \"User-ID\": 10815, \"precision\": 0.0625, \"recall\": 0.25}, {\"count\": 4, \"cutoff\": 21, \"User-ID\": 10815, \"precision\": 0.09523809523809523, \"recall\": 0.5}, {\"count\": 4, \"cutoff\": 26, \"User-ID\": 10815, \"precision\": 0.07692307692307693, \"recall\": 0.5}, {\"count\": 4, \"cutoff\": 31, \"User-ID\": 10815, \"precision\": 0.06451612903225806, \"recall\": 0.5}, {\"count\": 4, \"cutoff\": 36, \"User-ID\": 10815, \"precision\": 0.05555555555555555, \"recall\": 0.5}, {\"count\": 4, \"cutoff\": 41, \"User-ID\": 10815, \"precision\": 0.04878048780487805, \"recall\": 0.5}, {\"count\": 4, \"cutoff\": 46, \"User-ID\": 10815, \"precision\": 0.043478260869565216, \"recall\": 0.5}, {\"count\": 1, \"cutoff\": 1, \"User-ID\": 11117, \"precision\": 0.0, \"recall\": 0.0}, {\"count\": 1, \"cutoff\": 2, \"User-ID\": 11117, \"precision\": 0.0, \"recall\": 0.0}, {\"count\": 1, \"cutoff\": 3, \"User-ID\": 11117, \"precision\": 0.0, \"recall\": 0.0}, {\"count\": 1, \"cutoff\": 4, \"User-ID\": 11117, \"precision\": 0.0, \"recall\": 0.0}, {\"count\": 1, \"cutoff\": 5, \"User-ID\": 11117, \"precision\": 0.0, \"recall\": 0.0}, {\"count\": 1, \"cutoff\": 6, \"User-ID\": 11117, \"precision\": 0.0, \"recall\": 0.0}, {\"count\": 1, \"cutoff\": 7, \"User-ID\": 11117, \"precision\": 0.0, \"recall\": 0.0}, {\"count\": 1, \"cutoff\": 8, \"User-ID\": 11117, \"precision\": 0.0, \"recall\": 0.0}, {\"count\": 1, \"cutoff\": 9, \"User-ID\": 11117, \"precision\": 0.0, \"recall\": 0.0}, {\"count\": 1, \"cutoff\": 10, \"User-ID\": 11117, \"precision\": 0.0, \"recall\": 0.0}, {\"count\": 1, \"cutoff\": 11, \"User-ID\": 11117, \"precision\": 0.0, \"recall\": 0.0}, {\"count\": 1, \"cutoff\": 16, \"User-ID\": 11117, \"precision\": 0.0, \"recall\": 0.0}, {\"count\": 1, \"cutoff\": 21, \"User-ID\": 11117, \"precision\": 0.0, \"recall\": 0.0}, {\"count\": 1, \"cutoff\": 26, \"User-ID\": 11117, \"precision\": 0.0, \"recall\": 0.0}, {\"count\": 1, \"cutoff\": 31, \"User-ID\": 11117, \"precision\": 0.0, \"recall\": 0.0}, {\"count\": 1, \"cutoff\": 36, \"User-ID\": 11117, \"precision\": 0.0, \"recall\": 0.0}, {\"count\": 1, \"cutoff\": 41, \"User-ID\": 11117, \"precision\": 0.0, \"recall\": 0.0}, {\"count\": 1, \"cutoff\": 46, \"User-ID\": 11117, \"precision\": 0.0, \"recall\": 0.0}, {\"count\": 3, \"cutoff\": 1, \"User-ID\": 11654, \"precision\": 0.0, \"recall\": 0.0}, {\"count\": 3, \"cutoff\": 2, \"User-ID\": 11654, \"precision\": 0.0, \"recall\": 0.0}, {\"count\": 3, \"cutoff\": 3, \"User-ID\": 11654, \"precision\": 0.0, \"recall\": 0.0}, {\"count\": 3, \"cutoff\": 4, \"User-ID\": 11654, \"precision\": 0.0, \"recall\": 0.0}, {\"count\": 3, \"cutoff\": 5, \"User-ID\": 11654, \"precision\": 0.0, \"recall\": 0.0}, {\"count\": 3, \"cutoff\": 6, \"User-ID\": 11654, \"precision\": 0.0, \"recall\": 0.0}, {\"count\": 3, \"cutoff\": 7, \"User-ID\": 11654, \"precision\": 0.0, \"recall\": 0.0}, {\"count\": 3, \"cutoff\": 8, \"User-ID\": 11654, \"precision\": 0.125, \"recall\": 0.3333333333333333}, {\"count\": 3, \"cutoff\": 9, \"User-ID\": 11654, \"precision\": 0.1111111111111111, \"recall\": 0.3333333333333333}, {\"count\": 3, \"cutoff\": 10, \"User-ID\": 11654, \"precision\": 0.1, \"recall\": 0.3333333333333333}, {\"count\": 3, \"cutoff\": 11, \"User-ID\": 11654, \"precision\": 0.09090909090909091, \"recall\": 0.3333333333333333}, {\"count\": 3, \"cutoff\": 16, \"User-ID\": 11654, \"precision\": 0.0625, \"recall\": 0.3333333333333333}, {\"count\": 3, \"cutoff\": 21, \"User-ID\": 11654, \"precision\": 0.047619047619047616, \"recall\": 0.3333333333333333}, {\"count\": 3, \"cutoff\": 26, \"User-ID\": 11654, \"precision\": 0.038461538461538464, \"recall\": 0.3333333333333333}, {\"count\": 3, \"cutoff\": 31, \"User-ID\": 11654, \"precision\": 0.03225806451612903, \"recall\": 0.3333333333333333}, {\"count\": 3, \"cutoff\": 36, \"User-ID\": 11654, \"precision\": 0.027777777777777776, \"recall\": 0.3333333333333333}, {\"count\": 3, \"cutoff\": 41, \"User-ID\": 11654, \"precision\": 0.024390243902439025, \"recall\": 0.3333333333333333}, {\"count\": 3, \"cutoff\": 46, \"User-ID\": 11654, \"precision\": 0.021739130434782608, \"recall\": 0.3333333333333333}, {\"count\": 24, \"cutoff\": 1, \"User-ID\": 12227, \"precision\": 1.0, \"recall\": 0.041666666666666664}, {\"count\": 24, \"cutoff\": 2, \"User-ID\": 12227, \"precision\": 1.0, \"recall\": 0.08333333333333333}, {\"count\": 24, \"cutoff\": 3, \"User-ID\": 12227, \"precision\": 1.0, \"recall\": 0.125}, {\"count\": 24, \"cutoff\": 4, \"User-ID\": 12227, \"precision\": 1.0, \"recall\": 0.16666666666666666}, {\"count\": 24, \"cutoff\": 5, \"User-ID\": 12227, \"precision\": 1.0, \"recall\": 0.20833333333333334}, {\"count\": 24, \"cutoff\": 6, \"User-ID\": 12227, \"precision\": 1.0, \"recall\": 0.25}, {\"count\": 24, \"cutoff\": 7, \"User-ID\": 12227, \"precision\": 1.0, \"recall\": 0.2916666666666667}, {\"count\": 24, \"cutoff\": 8, \"User-ID\": 12227, \"precision\": 1.0, \"recall\": 0.3333333333333333}, {\"count\": 24, \"cutoff\": 9, \"User-ID\": 12227, \"precision\": 1.0, \"recall\": 0.375}, {\"count\": 24, \"cutoff\": 10, \"User-ID\": 12227, \"precision\": 1.0, \"recall\": 0.4166666666666667}, {\"count\": 24, \"cutoff\": 11, \"User-ID\": 12227, \"precision\": 1.0, \"recall\": 0.4583333333333333}, {\"count\": 24, \"cutoff\": 16, \"User-ID\": 12227, \"precision\": 1.0, \"recall\": 0.6666666666666666}, {\"count\": 24, \"cutoff\": 21, \"User-ID\": 12227, \"precision\": 1.0, \"recall\": 0.875}, {\"count\": 24, \"cutoff\": 26, \"User-ID\": 12227, \"precision\": 0.9230769230769231, \"recall\": 1.0}, {\"count\": 24, \"cutoff\": 31, \"User-ID\": 12227, \"precision\": 0.7741935483870968, \"recall\": 1.0}, {\"count\": 24, \"cutoff\": 36, \"User-ID\": 12227, \"precision\": 0.6666666666666666, \"recall\": 1.0}, {\"count\": 24, \"cutoff\": 41, \"User-ID\": 12227, \"precision\": 0.6666666666666666, \"recall\": 1.0}, {\"count\": 24, \"cutoff\": 46, \"User-ID\": 12227, \"precision\": 0.6666666666666666, \"recall\": 1.0}, {\"count\": 2, \"cutoff\": 1, \"User-ID\": 13610, \"precision\": 0.0, \"recall\": 0.0}, {\"count\": 2, \"cutoff\": 2, \"User-ID\": 13610, \"precision\": 0.0, \"recall\": 0.0}, {\"count\": 2, \"cutoff\": 3, \"User-ID\": 13610, \"precision\": 0.0, \"recall\": 0.0}, {\"count\": 2, \"cutoff\": 4, \"User-ID\": 13610, \"precision\": 0.0, \"recall\": 0.0}, {\"count\": 2, \"cutoff\": 5, \"User-ID\": 13610, \"precision\": 0.0, \"recall\": 0.0}, {\"count\": 2, \"cutoff\": 6, \"User-ID\": 13610, \"precision\": 0.0, \"recall\": 0.0}, {\"count\": 2, \"cutoff\": 7, \"User-ID\": 13610, \"precision\": 0.0, \"recall\": 0.0}, {\"count\": 2, \"cutoff\": 8, \"User-ID\": 13610, \"precision\": 0.0, \"recall\": 0.0}, {\"count\": 2, \"cutoff\": 9, \"User-ID\": 13610, \"precision\": 0.0, \"recall\": 0.0}, {\"count\": 2, \"cutoff\": 10, \"User-ID\": 13610, \"precision\": 0.0, \"recall\": 0.0}, {\"count\": 2, \"cutoff\": 11, \"User-ID\": 13610, \"precision\": 0.0, \"recall\": 0.0}, {\"count\": 2, \"cutoff\": 16, \"User-ID\": 13610, \"precision\": 0.0, \"recall\": 0.0}, {\"count\": 2, \"cutoff\": 21, \"User-ID\": 13610, \"precision\": 0.0, \"recall\": 0.0}, {\"count\": 2, \"cutoff\": 26, \"User-ID\": 13610, \"precision\": 0.0, \"recall\": 0.0}, {\"count\": 2, \"cutoff\": 31, \"User-ID\": 13610, \"precision\": 0.0, \"recall\": 0.0}, {\"count\": 2, \"cutoff\": 36, \"User-ID\": 13610, \"precision\": 0.0, \"recall\": 0.0}, {\"count\": 2, \"cutoff\": 41, \"User-ID\": 13610, \"precision\": 0.0, \"recall\": 0.0}, {\"count\": 2, \"cutoff\": 46, \"User-ID\": 13610, \"precision\": 0.0, \"recall\": 0.0}, {\"count\": 1, \"cutoff\": 1, \"User-ID\": 13826, \"precision\": 0.0, \"recall\": 0.0}, {\"count\": 1, \"cutoff\": 2, \"User-ID\": 13826, \"precision\": 0.0, \"recall\": 0.0}, {\"count\": 1, \"cutoff\": 3, \"User-ID\": 13826, \"precision\": 0.0, \"recall\": 0.0}, {\"count\": 1, \"cutoff\": 4, \"User-ID\": 13826, \"precision\": 0.0, \"recall\": 0.0}, {\"count\": 1, \"cutoff\": 5, \"User-ID\": 13826, \"precision\": 0.0, \"recall\": 0.0}, {\"count\": 1, \"cutoff\": 6, \"User-ID\": 13826, \"precision\": 0.0, \"recall\": 0.0}, {\"count\": 1, \"cutoff\": 7, \"User-ID\": 13826, \"precision\": 0.0, \"recall\": 0.0}, {\"count\": 1, \"cutoff\": 8, \"User-ID\": 13826, \"precision\": 0.0, \"recall\": 0.0}, {\"count\": 1, \"cutoff\": 9, \"User-ID\": 13826, \"precision\": 0.0, \"recall\": 0.0}, {\"count\": 1, \"cutoff\": 10, \"User-ID\": 13826, \"precision\": 0.0, \"recall\": 0.0}, {\"count\": 1, \"cutoff\": 11, \"User-ID\": 13826, \"precision\": 0.0, \"recall\": 0.0}, {\"count\": 1, \"cutoff\": 16, \"User-ID\": 13826, \"precision\": 0.0, \"recall\": 0.0}, {\"count\": 1, \"cutoff\": 21, \"User-ID\": 13826, \"precision\": 0.0, \"recall\": 0.0}, {\"count\": 1, \"cutoff\": 26, \"User-ID\": 13826, \"precision\": 0.0, \"recall\": 0.0}, {\"count\": 1, \"cutoff\": 31, \"User-ID\": 13826, \"precision\": 0.0, \"recall\": 0.0}, {\"count\": 1, \"cutoff\": 36, \"User-ID\": 13826, \"precision\": 0.027777777777777776, \"recall\": 1.0}, {\"count\": 1, \"cutoff\": 41, \"User-ID\": 13826, \"precision\": 0.024390243902439025, \"recall\": 1.0}, {\"count\": 1, \"cutoff\": 46, \"User-ID\": 13826, \"precision\": 0.021739130434782608, \"recall\": 1.0}, {\"count\": 1, \"cutoff\": 1, \"User-ID\": 13963, \"precision\": 0.0, \"recall\": 0.0}, {\"count\": 1, \"cutoff\": 2, \"User-ID\": 13963, \"precision\": 0.0, \"recall\": 0.0}, {\"count\": 1, \"cutoff\": 3, \"User-ID\": 13963, \"precision\": 0.0, \"recall\": 0.0}, {\"count\": 1, \"cutoff\": 4, \"User-ID\": 13963, \"precision\": 0.0, \"recall\": 0.0}, {\"count\": 1, \"cutoff\": 5, \"User-ID\": 13963, \"precision\": 0.0, \"recall\": 0.0}, {\"count\": 1, \"cutoff\": 6, \"User-ID\": 13963, \"precision\": 0.0, \"recall\": 0.0}, {\"count\": 1, \"cutoff\": 7, \"User-ID\": 13963, \"precision\": 0.0, \"recall\": 0.0}, {\"count\": 1, \"cutoff\": 8, \"User-ID\": 13963, \"precision\": 0.0, \"recall\": 0.0}, {\"count\": 1, \"cutoff\": 9, \"User-ID\": 13963, \"precision\": 0.0, \"recall\": 0.0}, {\"count\": 1, \"cutoff\": 10, \"User-ID\": 13963, \"precision\": 0.0, \"recall\": 0.0}, {\"count\": 1, \"cutoff\": 11, \"User-ID\": 13963, \"precision\": 0.0, \"recall\": 0.0}, {\"count\": 1, \"cutoff\": 16, \"User-ID\": 13963, \"precision\": 0.0, \"recall\": 0.0}, {\"count\": 1, \"cutoff\": 21, \"User-ID\": 13963, \"precision\": 0.0, \"recall\": 0.0}, {\"count\": 1, \"cutoff\": 26, \"User-ID\": 13963, \"precision\": 0.038461538461538464, \"recall\": 1.0}, {\"count\": 1, \"cutoff\": 31, \"User-ID\": 13963, \"precision\": 0.03225806451612903, \"recall\": 1.0}, {\"count\": 1, \"cutoff\": 36, \"User-ID\": 13963, \"precision\": 0.027777777777777776, \"recall\": 1.0}, {\"count\": 1, \"cutoff\": 41, \"User-ID\": 13963, \"precision\": 0.024390243902439025, \"recall\": 1.0}, {\"count\": 1, \"cutoff\": 46, \"User-ID\": 13963, \"precision\": 0.021739130434782608, \"recall\": 1.0}, {\"count\": 4, \"cutoff\": 1, \"User-ID\": 14835, \"precision\": 0.0, \"recall\": 0.0}, {\"count\": 4, \"cutoff\": 2, \"User-ID\": 14835, \"precision\": 0.0, \"recall\": 0.0}, {\"count\": 4, \"cutoff\": 3, \"User-ID\": 14835, \"precision\": 0.0, \"recall\": 0.0}, {\"count\": 4, \"cutoff\": 4, \"User-ID\": 14835, \"precision\": 0.0, \"recall\": 0.0}, {\"count\": 4, \"cutoff\": 5, \"User-ID\": 14835, \"precision\": 0.0, \"recall\": 0.0}, {\"count\": 4, \"cutoff\": 6, \"User-ID\": 14835, \"precision\": 0.0, \"recall\": 0.0}, {\"count\": 4, \"cutoff\": 7, \"User-ID\": 14835, \"precision\": 0.0, \"recall\": 0.0}, {\"count\": 4, \"cutoff\": 8, \"User-ID\": 14835, \"precision\": 0.0, \"recall\": 0.0}, {\"count\": 4, \"cutoff\": 9, \"User-ID\": 14835, \"precision\": 0.0, \"recall\": 0.0}, {\"count\": 4, \"cutoff\": 10, \"User-ID\": 14835, \"precision\": 0.1, \"recall\": 0.25}, {\"count\": 4, \"cutoff\": 11, \"User-ID\": 14835, \"precision\": 0.09090909090909091, \"recall\": 0.25}, {\"count\": 4, \"cutoff\": 16, \"User-ID\": 14835, \"precision\": 0.0625, \"recall\": 0.25}, {\"count\": 4, \"cutoff\": 21, \"User-ID\": 14835, \"precision\": 0.09523809523809523, \"recall\": 0.5}, {\"count\": 4, \"cutoff\": 26, \"User-ID\": 14835, \"precision\": 0.11538461538461539, \"recall\": 0.75}, {\"count\": 4, \"cutoff\": 31, \"User-ID\": 14835, \"precision\": 0.0967741935483871, \"recall\": 0.75}, {\"count\": 4, \"cutoff\": 36, \"User-ID\": 14835, \"precision\": 0.08333333333333333, \"recall\": 0.75}, {\"count\": 4, \"cutoff\": 41, \"User-ID\": 14835, \"precision\": 0.07317073170731707, \"recall\": 0.75}, {\"count\": 4, \"cutoff\": 46, \"User-ID\": 14835, \"precision\": 0.06521739130434782, \"recall\": 0.75}, {\"count\": 12, \"cutoff\": 1, \"User-ID\": 15324, \"precision\": 1.0, \"recall\": 0.08333333333333333}, {\"count\": 12, \"cutoff\": 2, \"User-ID\": 15324, \"precision\": 0.5, \"recall\": 0.08333333333333333}, {\"count\": 12, \"cutoff\": 3, \"User-ID\": 15324, \"precision\": 0.3333333333333333, \"recall\": 0.08333333333333333}, {\"count\": 12, \"cutoff\": 4, \"User-ID\": 15324, \"precision\": 0.5, \"recall\": 0.16666666666666666}, {\"count\": 12, \"cutoff\": 5, \"User-ID\": 15324, \"precision\": 0.6, \"recall\": 0.25}, {\"count\": 12, \"cutoff\": 6, \"User-ID\": 15324, \"precision\": 0.5, \"recall\": 0.25}, {\"count\": 12, \"cutoff\": 7, \"User-ID\": 15324, \"precision\": 0.42857142857142855, \"recall\": 0.25}, {\"count\": 12, \"cutoff\": 8, \"User-ID\": 15324, \"precision\": 0.375, \"recall\": 0.25}, {\"count\": 12, \"cutoff\": 9, \"User-ID\": 15324, \"precision\": 0.3333333333333333, \"recall\": 0.25}, {\"count\": 12, \"cutoff\": 10, \"User-ID\": 15324, \"precision\": 0.3, \"recall\": 0.25}, {\"count\": 12, \"cutoff\": 11, \"User-ID\": 15324, \"precision\": 0.36363636363636365, \"recall\": 0.3333333333333333}, {\"count\": 12, \"cutoff\": 16, \"User-ID\": 15324, \"precision\": 0.3125, \"recall\": 0.4166666666666667}, {\"count\": 12, \"cutoff\": 21, \"User-ID\": 15324, \"precision\": 0.2857142857142857, \"recall\": 0.5}, {\"count\": 12, \"cutoff\": 26, \"User-ID\": 15324, \"precision\": 0.23076923076923078, \"recall\": 0.5}, {\"count\": 12, \"cutoff\": 31, \"User-ID\": 15324, \"precision\": 0.22580645161290322, \"recall\": 0.5833333333333334}, {\"count\": 12, \"cutoff\": 36, \"User-ID\": 15324, \"precision\": 0.25, \"recall\": 0.75}, {\"count\": 12, \"cutoff\": 41, \"User-ID\": 15324, \"precision\": 0.21951219512195122, \"recall\": 0.75}, {\"count\": 12, \"cutoff\": 46, \"User-ID\": 15324, \"precision\": 0.2391304347826087, \"recall\": 0.9166666666666666}, {\"count\": 23, \"cutoff\": 1, \"User-ID\": 16432, \"precision\": 1.0, \"recall\": 0.043478260869565216}, {\"count\": 23, \"cutoff\": 2, \"User-ID\": 16432, \"precision\": 1.0, \"recall\": 0.08695652173913043}, {\"count\": 23, \"cutoff\": 3, \"User-ID\": 16432, \"precision\": 1.0, \"recall\": 0.13043478260869565}, {\"count\": 23, \"cutoff\": 4, \"User-ID\": 16432, \"precision\": 1.0, \"recall\": 0.17391304347826086}, {\"count\": 23, \"cutoff\": 5, \"User-ID\": 16432, \"precision\": 1.0, \"recall\": 0.21739130434782608}, {\"count\": 23, \"cutoff\": 6, \"User-ID\": 16432, \"precision\": 1.0, \"recall\": 0.2608695652173913}, {\"count\": 23, \"cutoff\": 7, \"User-ID\": 16432, \"precision\": 1.0, \"recall\": 0.30434782608695654}, {\"count\": 23, \"cutoff\": 8, \"User-ID\": 16432, \"precision\": 1.0, \"recall\": 0.34782608695652173}, {\"count\": 23, \"cutoff\": 9, \"User-ID\": 16432, \"precision\": 1.0, \"recall\": 0.391304347826087}, {\"count\": 23, \"cutoff\": 10, \"User-ID\": 16432, \"precision\": 1.0, \"recall\": 0.43478260869565216}, {\"count\": 23, \"cutoff\": 11, \"User-ID\": 16432, \"precision\": 1.0, \"recall\": 0.4782608695652174}, {\"count\": 23, \"cutoff\": 16, \"User-ID\": 16432, \"precision\": 1.0, \"recall\": 0.6956521739130435}, {\"count\": 23, \"cutoff\": 21, \"User-ID\": 16432, \"precision\": 1.0, \"recall\": 0.9130434782608695}, {\"count\": 23, \"cutoff\": 26, \"User-ID\": 16432, \"precision\": 0.8846153846153846, \"recall\": 1.0}, {\"count\": 23, \"cutoff\": 31, \"User-ID\": 16432, \"precision\": 0.7419354838709677, \"recall\": 1.0}, {\"count\": 23, \"cutoff\": 36, \"User-ID\": 16432, \"precision\": 0.6571428571428571, \"recall\": 1.0}, {\"count\": 23, \"cutoff\": 41, \"User-ID\": 16432, \"precision\": 0.6571428571428571, \"recall\": 1.0}, {\"count\": 23, \"cutoff\": 46, \"User-ID\": 16432, \"precision\": 0.6571428571428571, \"recall\": 1.0}, {\"count\": 1, \"cutoff\": 1, \"User-ID\": 16609, \"precision\": 0.0, \"recall\": 0.0}, {\"count\": 1, \"cutoff\": 2, \"User-ID\": 16609, \"precision\": 0.0, \"recall\": 0.0}, {\"count\": 1, \"cutoff\": 3, \"User-ID\": 16609, \"precision\": 0.0, \"recall\": 0.0}, {\"count\": 1, \"cutoff\": 4, \"User-ID\": 16609, \"precision\": 0.0, \"recall\": 0.0}, {\"count\": 1, \"cutoff\": 5, \"User-ID\": 16609, \"precision\": 0.0, \"recall\": 0.0}, {\"count\": 1, \"cutoff\": 6, \"User-ID\": 16609, \"precision\": 0.0, \"recall\": 0.0}, {\"count\": 1, \"cutoff\": 7, \"User-ID\": 16609, \"precision\": 0.0, \"recall\": 0.0}, {\"count\": 1, \"cutoff\": 8, \"User-ID\": 16609, \"precision\": 0.0, \"recall\": 0.0}, {\"count\": 1, \"cutoff\": 9, \"User-ID\": 16609, \"precision\": 0.0, \"recall\": 0.0}, {\"count\": 1, \"cutoff\": 10, \"User-ID\": 16609, \"precision\": 0.0, \"recall\": 0.0}, {\"count\": 1, \"cutoff\": 11, \"User-ID\": 16609, \"precision\": 0.0, \"recall\": 0.0}, {\"count\": 1, \"cutoff\": 16, \"User-ID\": 16609, \"precision\": 0.0, \"recall\": 0.0}, {\"count\": 1, \"cutoff\": 21, \"User-ID\": 16609, \"precision\": 0.0, \"recall\": 0.0}, {\"count\": 1, \"cutoff\": 26, \"User-ID\": 16609, \"precision\": 0.0, \"recall\": 0.0}, {\"count\": 1, \"cutoff\": 31, \"User-ID\": 16609, \"precision\": 0.0, \"recall\": 0.0}, {\"count\": 1, \"cutoff\": 36, \"User-ID\": 16609, \"precision\": 0.0, \"recall\": 0.0}, {\"count\": 1, \"cutoff\": 41, \"User-ID\": 16609, \"precision\": 0.0, \"recall\": 0.0}, {\"count\": 1, \"cutoff\": 46, \"User-ID\": 16609, \"precision\": 0.0, \"recall\": 0.0}, {\"count\": 10, \"cutoff\": 1, \"User-ID\": 17818, \"precision\": 1.0, \"recall\": 0.1}, {\"count\": 10, \"cutoff\": 2, \"User-ID\": 17818, \"precision\": 0.5, \"recall\": 0.1}, {\"count\": 10, \"cutoff\": 3, \"User-ID\": 17818, \"precision\": 0.6666666666666666, \"recall\": 0.2}, {\"count\": 10, \"cutoff\": 4, \"User-ID\": 17818, \"precision\": 0.5, \"recall\": 0.2}, {\"count\": 10, \"cutoff\": 5, \"User-ID\": 17818, \"precision\": 0.4, \"recall\": 0.2}, {\"count\": 10, \"cutoff\": 6, \"User-ID\": 17818, \"precision\": 0.3333333333333333, \"recall\": 0.2}, {\"count\": 10, \"cutoff\": 7, \"User-ID\": 17818, \"precision\": 0.2857142857142857, \"recall\": 0.2}, {\"count\": 10, \"cutoff\": 8, \"User-ID\": 17818, \"precision\": 0.375, \"recall\": 0.3}, {\"count\": 10, \"cutoff\": 9, \"User-ID\": 17818, \"precision\": 0.4444444444444444, \"recall\": 0.4}, {\"count\": 10, \"cutoff\": 10, \"User-ID\": 17818, \"precision\": 0.4, \"recall\": 0.4}, {\"count\": 10, \"cutoff\": 11, \"User-ID\": 17818, \"precision\": 0.36363636363636365, \"recall\": 0.4}, {\"count\": 10, \"cutoff\": 16, \"User-ID\": 17818, \"precision\": 0.3125, \"recall\": 0.5}, {\"count\": 10, \"cutoff\": 21, \"User-ID\": 17818, \"precision\": 0.38095238095238093, \"recall\": 0.8}, {\"count\": 10, \"cutoff\": 26, \"User-ID\": 17818, \"precision\": 0.34615384615384615, \"recall\": 0.9}, {\"count\": 10, \"cutoff\": 31, \"User-ID\": 17818, \"precision\": 0.2903225806451613, \"recall\": 0.9}, {\"count\": 10, \"cutoff\": 36, \"User-ID\": 17818, \"precision\": 0.25, \"recall\": 0.9}, {\"count\": 10, \"cutoff\": 41, \"User-ID\": 17818, \"precision\": 0.21951219512195122, \"recall\": 0.9}, {\"count\": 10, \"cutoff\": 46, \"User-ID\": 17818, \"precision\": 0.21739130434782608, \"recall\": 1.0}, {\"count\": 9, \"cutoff\": 1, \"User-ID\": 18091, \"precision\": 0.0, \"recall\": 0.0}, {\"count\": 9, \"cutoff\": 2, \"User-ID\": 18091, \"precision\": 0.0, \"recall\": 0.0}, {\"count\": 9, \"cutoff\": 3, \"User-ID\": 18091, \"precision\": 0.0, \"recall\": 0.0}, {\"count\": 9, \"cutoff\": 4, \"User-ID\": 18091, \"precision\": 0.25, \"recall\": 0.1111111111111111}, {\"count\": 9, \"cutoff\": 5, \"User-ID\": 18091, \"precision\": 0.4, \"recall\": 0.2222222222222222}, {\"count\": 9, \"cutoff\": 6, \"User-ID\": 18091, \"precision\": 0.5, \"recall\": 0.3333333333333333}, {\"count\": 9, \"cutoff\": 7, \"User-ID\": 18091, \"precision\": 0.42857142857142855, \"recall\": 0.3333333333333333}, {\"count\": 9, \"cutoff\": 8, \"User-ID\": 18091, \"precision\": 0.5, \"recall\": 0.4444444444444444}, {\"count\": 9, \"cutoff\": 9, \"User-ID\": 18091, \"precision\": 0.4444444444444444, \"recall\": 0.4444444444444444}, {\"count\": 9, \"cutoff\": 10, \"User-ID\": 18091, \"precision\": 0.5, \"recall\": 0.5555555555555556}, {\"count\": 9, \"cutoff\": 11, \"User-ID\": 18091, \"precision\": 0.5454545454545454, \"recall\": 0.6666666666666666}, {\"count\": 9, \"cutoff\": 16, \"User-ID\": 18091, \"precision\": 0.4375, \"recall\": 0.7777777777777778}, {\"count\": 9, \"cutoff\": 21, \"User-ID\": 18091, \"precision\": 0.3333333333333333, \"recall\": 0.7777777777777778}, {\"count\": 9, \"cutoff\": 26, \"User-ID\": 18091, \"precision\": 0.3076923076923077, \"recall\": 0.8888888888888888}, {\"count\": 9, \"cutoff\": 31, \"User-ID\": 18091, \"precision\": 0.25806451612903225, \"recall\": 0.8888888888888888}, {\"count\": 9, \"cutoff\": 36, \"User-ID\": 18091, \"precision\": 0.2222222222222222, \"recall\": 0.8888888888888888}, {\"count\": 9, \"cutoff\": 41, \"User-ID\": 18091, \"precision\": 0.1951219512195122, \"recall\": 0.8888888888888888}, {\"count\": 9, \"cutoff\": 46, \"User-ID\": 18091, \"precision\": 0.17391304347826086, \"recall\": 0.8888888888888888}, {\"count\": 5, \"cutoff\": 1, \"User-ID\": 18662, \"precision\": 0.0, \"recall\": 0.0}, {\"count\": 5, \"cutoff\": 2, \"User-ID\": 18662, \"precision\": 0.0, \"recall\": 0.0}, {\"count\": 5, \"cutoff\": 3, \"User-ID\": 18662, \"precision\": 0.0, \"recall\": 0.0}, {\"count\": 5, \"cutoff\": 4, \"User-ID\": 18662, \"precision\": 0.0, \"recall\": 0.0}, {\"count\": 5, \"cutoff\": 5, \"User-ID\": 18662, \"precision\": 0.0, \"recall\": 0.0}, {\"count\": 5, \"cutoff\": 6, \"User-ID\": 18662, \"precision\": 0.0, \"recall\": 0.0}, {\"count\": 5, \"cutoff\": 7, \"User-ID\": 18662, \"precision\": 0.0, \"recall\": 0.0}, {\"count\": 5, \"cutoff\": 8, \"User-ID\": 18662, \"precision\": 0.0, \"recall\": 0.0}, {\"count\": 5, \"cutoff\": 9, \"User-ID\": 18662, \"precision\": 0.0, \"recall\": 0.0}, {\"count\": 5, \"cutoff\": 10, \"User-ID\": 18662, \"precision\": 0.0, \"recall\": 0.0}, {\"count\": 5, \"cutoff\": 11, \"User-ID\": 18662, \"precision\": 0.0, \"recall\": 0.0}, {\"count\": 5, \"cutoff\": 16, \"User-ID\": 18662, \"precision\": 0.0625, \"recall\": 0.2}, {\"count\": 5, \"cutoff\": 21, \"User-ID\": 18662, \"precision\": 0.09523809523809523, \"recall\": 0.4}, {\"count\": 5, \"cutoff\": 26, \"User-ID\": 18662, \"precision\": 0.07692307692307693, \"recall\": 0.4}, {\"count\": 5, \"cutoff\": 31, \"User-ID\": 18662, \"precision\": 0.0967741935483871, \"recall\": 0.6}, {\"count\": 5, \"cutoff\": 36, \"User-ID\": 18662, \"precision\": 0.1111111111111111, \"recall\": 0.8}, {\"count\": 5, \"cutoff\": 41, \"User-ID\": 18662, \"precision\": 0.0975609756097561, \"recall\": 0.8}, {\"count\": 5, \"cutoff\": 46, \"User-ID\": 18662, \"precision\": 0.08695652173913043, \"recall\": 0.8}, {\"count\": 3, \"cutoff\": 1, \"User-ID\": 22099, \"precision\": 0.0, \"recall\": 0.0}, {\"count\": 3, \"cutoff\": 2, \"User-ID\": 22099, \"precision\": 0.0, \"recall\": 0.0}, {\"count\": 3, \"cutoff\": 3, \"User-ID\": 22099, \"precision\": 0.0, \"recall\": 0.0}, {\"count\": 3, \"cutoff\": 4, \"User-ID\": 22099, \"precision\": 0.25, \"recall\": 0.3333333333333333}, {\"count\": 3, \"cutoff\": 5, \"User-ID\": 22099, \"precision\": 0.2, \"recall\": 0.3333333333333333}, {\"count\": 3, \"cutoff\": 6, \"User-ID\": 22099, \"precision\": 0.16666666666666666, \"recall\": 0.3333333333333333}, {\"count\": 3, \"cutoff\": 7, \"User-ID\": 22099, \"precision\": 0.14285714285714285, \"recall\": 0.3333333333333333}, {\"count\": 3, \"cutoff\": 8, \"User-ID\": 22099, \"precision\": 0.125, \"recall\": 0.3333333333333333}, {\"count\": 3, \"cutoff\": 9, \"User-ID\": 22099, \"precision\": 0.1111111111111111, \"recall\": 0.3333333333333333}, {\"count\": 3, \"cutoff\": 10, \"User-ID\": 22099, \"precision\": 0.1, \"recall\": 0.3333333333333333}, {\"count\": 3, \"cutoff\": 11, \"User-ID\": 22099, \"precision\": 0.09090909090909091, \"recall\": 0.3333333333333333}, {\"count\": 3, \"cutoff\": 16, \"User-ID\": 22099, \"precision\": 0.0625, \"recall\": 0.3333333333333333}, {\"count\": 3, \"cutoff\": 21, \"User-ID\": 22099, \"precision\": 0.047619047619047616, \"recall\": 0.3333333333333333}, {\"count\": 3, \"cutoff\": 26, \"User-ID\": 22099, \"precision\": 0.038461538461538464, \"recall\": 0.3333333333333333}, {\"count\": 3, \"cutoff\": 31, \"User-ID\": 22099, \"precision\": 0.03225806451612903, \"recall\": 0.3333333333333333}, {\"count\": 3, \"cutoff\": 36, \"User-ID\": 22099, \"precision\": 0.05555555555555555, \"recall\": 0.6666666666666666}, {\"count\": 3, \"cutoff\": 41, \"User-ID\": 22099, \"precision\": 0.04878048780487805, \"recall\": 0.6666666666666666}, {\"count\": 3, \"cutoff\": 46, \"User-ID\": 22099, \"precision\": 0.06521739130434782, \"recall\": 1.0}, {\"count\": 6, \"cutoff\": 1, \"User-ID\": 22169, \"precision\": 0.0, \"recall\": 0.0}, {\"count\": 6, \"cutoff\": 2, \"User-ID\": 22169, \"precision\": 0.0, \"recall\": 0.0}, {\"count\": 6, \"cutoff\": 3, \"User-ID\": 22169, \"precision\": 0.0, \"recall\": 0.0}, {\"count\": 6, \"cutoff\": 4, \"User-ID\": 22169, \"precision\": 0.0, \"recall\": 0.0}, {\"count\": 6, \"cutoff\": 5, \"User-ID\": 22169, \"precision\": 0.0, \"recall\": 0.0}, {\"count\": 6, \"cutoff\": 6, \"User-ID\": 22169, \"precision\": 0.0, \"recall\": 0.0}, {\"count\": 6, \"cutoff\": 7, \"User-ID\": 22169, \"precision\": 0.0, \"recall\": 0.0}, {\"count\": 6, \"cutoff\": 8, \"User-ID\": 22169, \"precision\": 0.0, \"recall\": 0.0}, {\"count\": 6, \"cutoff\": 9, \"User-ID\": 22169, \"precision\": 0.0, \"recall\": 0.0}, {\"count\": 6, \"cutoff\": 10, \"User-ID\": 22169, \"precision\": 0.0, \"recall\": 0.0}, {\"count\": 6, \"cutoff\": 11, \"User-ID\": 22169, \"precision\": 0.0, \"recall\": 0.0}, {\"count\": 6, \"cutoff\": 16, \"User-ID\": 22169, \"precision\": 0.0, \"recall\": 0.0}, {\"count\": 6, \"cutoff\": 21, \"User-ID\": 22169, \"precision\": 0.0, \"recall\": 0.0}, {\"count\": 6, \"cutoff\": 26, \"User-ID\": 22169, \"precision\": 0.038461538461538464, \"recall\": 0.16666666666666666}, {\"count\": 6, \"cutoff\": 31, \"User-ID\": 22169, \"precision\": 0.03225806451612903, \"recall\": 0.16666666666666666}, {\"count\": 6, \"cutoff\": 36, \"User-ID\": 22169, \"precision\": 0.05555555555555555, \"recall\": 0.3333333333333333}, {\"count\": 6, \"cutoff\": 41, \"User-ID\": 22169, \"precision\": 0.0975609756097561, \"recall\": 0.6666666666666666}, {\"count\": 6, \"cutoff\": 46, \"User-ID\": 22169, \"precision\": 0.08695652173913043, \"recall\": 0.6666666666666666}, {\"count\": 11, \"cutoff\": 1, \"User-ID\": 23116, \"precision\": 0.0, \"recall\": 0.0}, {\"count\": 11, \"cutoff\": 2, \"User-ID\": 23116, \"precision\": 0.5, \"recall\": 0.09090909090909091}, {\"count\": 11, \"cutoff\": 3, \"User-ID\": 23116, \"precision\": 0.3333333333333333, \"recall\": 0.09090909090909091}, {\"count\": 11, \"cutoff\": 4, \"User-ID\": 23116, \"precision\": 0.25, \"recall\": 0.09090909090909091}, {\"count\": 11, \"cutoff\": 5, \"User-ID\": 23116, \"precision\": 0.2, \"recall\": 0.09090909090909091}, {\"count\": 11, \"cutoff\": 6, \"User-ID\": 23116, \"precision\": 0.3333333333333333, \"recall\": 0.18181818181818182}, {\"count\": 11, \"cutoff\": 7, \"User-ID\": 23116, \"precision\": 0.2857142857142857, \"recall\": 0.18181818181818182}, {\"count\": 11, \"cutoff\": 8, \"User-ID\": 23116, \"precision\": 0.375, \"recall\": 0.2727272727272727}, {\"count\": 11, \"cutoff\": 9, \"User-ID\": 23116, \"precision\": 0.4444444444444444, \"recall\": 0.36363636363636365}, {\"count\": 11, \"cutoff\": 10, \"User-ID\": 23116, \"precision\": 0.5, \"recall\": 0.45454545454545453}, {\"count\": 11, \"cutoff\": 11, \"User-ID\": 23116, \"precision\": 0.45454545454545453, \"recall\": 0.45454545454545453}, {\"count\": 11, \"cutoff\": 16, \"User-ID\": 23116, \"precision\": 0.4375, \"recall\": 0.6363636363636364}, {\"count\": 11, \"cutoff\": 21, \"User-ID\": 23116, \"precision\": 0.38095238095238093, \"recall\": 0.7272727272727273}, {\"count\": 11, \"cutoff\": 26, \"User-ID\": 23116, \"precision\": 0.3076923076923077, \"recall\": 0.7272727272727273}, {\"count\": 11, \"cutoff\": 31, \"User-ID\": 23116, \"precision\": 0.25806451612903225, \"recall\": 0.7272727272727273}, {\"count\": 11, \"cutoff\": 36, \"User-ID\": 23116, \"precision\": 0.2222222222222222, \"recall\": 0.7272727272727273}, {\"count\": 11, \"cutoff\": 41, \"User-ID\": 23116, \"precision\": 0.21951219512195122, \"recall\": 0.8181818181818182}, {\"count\": 11, \"cutoff\": 46, \"User-ID\": 23116, \"precision\": 0.21739130434782608, \"recall\": 0.9090909090909091}, {\"count\": 2, \"cutoff\": 1, \"User-ID\": 23821, \"precision\": 0.0, \"recall\": 0.0}, {\"count\": 2, \"cutoff\": 2, \"User-ID\": 23821, \"precision\": 0.5, \"recall\": 0.5}, {\"count\": 2, \"cutoff\": 3, \"User-ID\": 23821, \"precision\": 0.3333333333333333, \"recall\": 0.5}, {\"count\": 2, \"cutoff\": 4, \"User-ID\": 23821, \"precision\": 0.25, \"recall\": 0.5}, {\"count\": 2, \"cutoff\": 5, \"User-ID\": 23821, \"precision\": 0.2, \"recall\": 0.5}, {\"count\": 2, \"cutoff\": 6, \"User-ID\": 23821, \"precision\": 0.16666666666666666, \"recall\": 0.5}, {\"count\": 2, \"cutoff\": 7, \"User-ID\": 23821, \"precision\": 0.14285714285714285, \"recall\": 0.5}, {\"count\": 2, \"cutoff\": 8, \"User-ID\": 23821, \"precision\": 0.125, \"recall\": 0.5}, {\"count\": 2, \"cutoff\": 9, \"User-ID\": 23821, \"precision\": 0.1111111111111111, \"recall\": 0.5}, {\"count\": 2, \"cutoff\": 10, \"User-ID\": 23821, \"precision\": 0.1, \"recall\": 0.5}, {\"count\": 2, \"cutoff\": 11, \"User-ID\": 23821, \"precision\": 0.09090909090909091, \"recall\": 0.5}, {\"count\": 2, \"cutoff\": 16, \"User-ID\": 23821, \"precision\": 0.125, \"recall\": 1.0}, {\"count\": 2, \"cutoff\": 21, \"User-ID\": 23821, \"precision\": 0.09523809523809523, \"recall\": 1.0}, {\"count\": 2, \"cutoff\": 26, \"User-ID\": 23821, \"precision\": 0.07692307692307693, \"recall\": 1.0}, {\"count\": 2, \"cutoff\": 31, \"User-ID\": 23821, \"precision\": 0.06451612903225806, \"recall\": 1.0}, {\"count\": 2, \"cutoff\": 36, \"User-ID\": 23821, \"precision\": 0.05555555555555555, \"recall\": 1.0}, {\"count\": 2, \"cutoff\": 41, \"User-ID\": 23821, \"precision\": 0.04878048780487805, \"recall\": 1.0}, {\"count\": 2, \"cutoff\": 46, \"User-ID\": 23821, \"precision\": 0.043478260869565216, \"recall\": 1.0}, {\"count\": 12, \"cutoff\": 1, \"User-ID\": 24857, \"precision\": 1.0, \"recall\": 0.08333333333333333}, {\"count\": 12, \"cutoff\": 2, \"User-ID\": 24857, \"precision\": 0.5, \"recall\": 0.08333333333333333}, {\"count\": 12, \"cutoff\": 3, \"User-ID\": 24857, \"precision\": 0.3333333333333333, \"recall\": 0.08333333333333333}, {\"count\": 12, \"cutoff\": 4, \"User-ID\": 24857, \"precision\": 0.5, \"recall\": 0.16666666666666666}, {\"count\": 12, \"cutoff\": 5, \"User-ID\": 24857, \"precision\": 0.4, \"recall\": 0.16666666666666666}, {\"count\": 12, \"cutoff\": 6, \"User-ID\": 24857, \"precision\": 0.5, \"recall\": 0.25}, {\"count\": 12, \"cutoff\": 7, \"User-ID\": 24857, \"precision\": 0.42857142857142855, \"recall\": 0.25}, {\"count\": 12, \"cutoff\": 8, \"User-ID\": 24857, \"precision\": 0.5, \"recall\": 0.3333333333333333}, {\"count\": 12, \"cutoff\": 9, \"User-ID\": 24857, \"precision\": 0.4444444444444444, \"recall\": 0.3333333333333333}, {\"count\": 12, \"cutoff\": 10, \"User-ID\": 24857, \"precision\": 0.4, \"recall\": 0.3333333333333333}, {\"count\": 12, \"cutoff\": 11, \"User-ID\": 24857, \"precision\": 0.36363636363636365, \"recall\": 0.3333333333333333}, {\"count\": 12, \"cutoff\": 16, \"User-ID\": 24857, \"precision\": 0.375, \"recall\": 0.5}, {\"count\": 12, \"cutoff\": 21, \"User-ID\": 24857, \"precision\": 0.3333333333333333, \"recall\": 0.5833333333333334}, {\"count\": 12, \"cutoff\": 26, \"User-ID\": 24857, \"precision\": 0.2692307692307692, \"recall\": 0.5833333333333334}, {\"count\": 12, \"cutoff\": 31, \"User-ID\": 24857, \"precision\": 0.2903225806451613, \"recall\": 0.75}, {\"count\": 12, \"cutoff\": 36, \"User-ID\": 24857, \"precision\": 0.3055555555555556, \"recall\": 0.9166666666666666}, {\"count\": 12, \"cutoff\": 41, \"User-ID\": 24857, \"precision\": 0.2682926829268293, \"recall\": 0.9166666666666666}, {\"count\": 12, \"cutoff\": 46, \"User-ID\": 24857, \"precision\": 0.2391304347826087, \"recall\": 0.9166666666666666}, {\"count\": 2, \"cutoff\": 1, \"User-ID\": 25898, \"precision\": 0.0, \"recall\": 0.0}, {\"count\": 2, \"cutoff\": 2, \"User-ID\": 25898, \"precision\": 0.0, \"recall\": 0.0}, {\"count\": 2, \"cutoff\": 3, \"User-ID\": 25898, \"precision\": 0.0, \"recall\": 0.0}, {\"count\": 2, \"cutoff\": 4, \"User-ID\": 25898, \"precision\": 0.0, \"recall\": 0.0}, {\"count\": 2, \"cutoff\": 5, \"User-ID\": 25898, \"precision\": 0.0, \"recall\": 0.0}, {\"count\": 2, \"cutoff\": 6, \"User-ID\": 25898, \"precision\": 0.0, \"recall\": 0.0}, {\"count\": 2, \"cutoff\": 7, \"User-ID\": 25898, \"precision\": 0.0, \"recall\": 0.0}, {\"count\": 2, \"cutoff\": 8, \"User-ID\": 25898, \"precision\": 0.0, \"recall\": 0.0}, {\"count\": 2, \"cutoff\": 9, \"User-ID\": 25898, \"precision\": 0.0, \"recall\": 0.0}, {\"count\": 2, \"cutoff\": 10, \"User-ID\": 25898, \"precision\": 0.0, \"recall\": 0.0}, {\"count\": 2, \"cutoff\": 11, \"User-ID\": 25898, \"precision\": 0.0, \"recall\": 0.0}, {\"count\": 2, \"cutoff\": 16, \"User-ID\": 25898, \"precision\": 0.0, \"recall\": 0.0}, {\"count\": 2, \"cutoff\": 21, \"User-ID\": 25898, \"precision\": 0.0, \"recall\": 0.0}, {\"count\": 2, \"cutoff\": 26, \"User-ID\": 25898, \"precision\": 0.0, \"recall\": 0.0}, {\"count\": 2, \"cutoff\": 31, \"User-ID\": 25898, \"precision\": 0.0, \"recall\": 0.0}, {\"count\": 2, \"cutoff\": 36, \"User-ID\": 25898, \"precision\": 0.0, \"recall\": 0.0}, {\"count\": 2, \"cutoff\": 41, \"User-ID\": 25898, \"precision\": 0.024390243902439025, \"recall\": 0.5}, {\"count\": 2, \"cutoff\": 46, \"User-ID\": 25898, \"precision\": 0.021739130434782608, \"recall\": 0.5}, {\"count\": 4, \"cutoff\": 1, \"User-ID\": 26095, \"precision\": 0.0, \"recall\": 0.0}, {\"count\": 4, \"cutoff\": 2, \"User-ID\": 26095, \"precision\": 0.5, \"recall\": 0.25}, {\"count\": 4, \"cutoff\": 3, \"User-ID\": 26095, \"precision\": 0.3333333333333333, \"recall\": 0.25}, {\"count\": 4, \"cutoff\": 4, \"User-ID\": 26095, \"precision\": 0.25, \"recall\": 0.25}, {\"count\": 4, \"cutoff\": 5, \"User-ID\": 26095, \"precision\": 0.2, \"recall\": 0.25}, {\"count\": 4, \"cutoff\": 6, \"User-ID\": 26095, \"precision\": 0.16666666666666666, \"recall\": 0.25}, {\"count\": 4, \"cutoff\": 7, \"User-ID\": 26095, \"precision\": 0.14285714285714285, \"recall\": 0.25}, {\"count\": 4, \"cutoff\": 8, \"User-ID\": 26095, \"precision\": 0.125, \"recall\": 0.25}, {\"count\": 4, \"cutoff\": 9, \"User-ID\": 26095, \"precision\": 0.1111111111111111, \"recall\": 0.25}, {\"count\": 4, \"cutoff\": 10, \"User-ID\": 26095, \"precision\": 0.1, \"recall\": 0.25}, {\"count\": 4, \"cutoff\": 11, \"User-ID\": 26095, \"precision\": 0.09090909090909091, \"recall\": 0.25}, {\"count\": 4, \"cutoff\": 16, \"User-ID\": 26095, \"precision\": 0.0625, \"recall\": 0.25}, {\"count\": 4, \"cutoff\": 21, \"User-ID\": 26095, \"precision\": 0.09523809523809523, \"recall\": 0.5}, {\"count\": 4, \"cutoff\": 26, \"User-ID\": 26095, \"precision\": 0.07692307692307693, \"recall\": 0.5}, {\"count\": 4, \"cutoff\": 31, \"User-ID\": 26095, \"precision\": 0.12903225806451613, \"recall\": 1.0}, {\"count\": 4, \"cutoff\": 36, \"User-ID\": 26095, \"precision\": 0.1111111111111111, \"recall\": 1.0}, {\"count\": 4, \"cutoff\": 41, \"User-ID\": 26095, \"precision\": 0.0975609756097561, \"recall\": 1.0}, {\"count\": 4, \"cutoff\": 46, \"User-ID\": 26095, \"precision\": 0.08695652173913043, \"recall\": 1.0}, {\"count\": 2, \"cutoff\": 1, \"User-ID\": 26798, \"precision\": 0.0, \"recall\": 0.0}, {\"count\": 2, \"cutoff\": 2, \"User-ID\": 26798, \"precision\": 0.0, \"recall\": 0.0}, {\"count\": 2, \"cutoff\": 3, \"User-ID\": 26798, \"precision\": 0.0, \"recall\": 0.0}, {\"count\": 2, \"cutoff\": 4, \"User-ID\": 26798, \"precision\": 0.0, \"recall\": 0.0}, {\"count\": 2, \"cutoff\": 5, \"User-ID\": 26798, \"precision\": 0.0, \"recall\": 0.0}, {\"count\": 2, \"cutoff\": 6, \"User-ID\": 26798, \"precision\": 0.0, \"recall\": 0.0}, {\"count\": 2, \"cutoff\": 7, \"User-ID\": 26798, \"precision\": 0.0, \"recall\": 0.0}, {\"count\": 2, \"cutoff\": 8, \"User-ID\": 26798, \"precision\": 0.0, \"recall\": 0.0}, {\"count\": 2, \"cutoff\": 9, \"User-ID\": 26798, \"precision\": 0.0, \"recall\": 0.0}, {\"count\": 2, \"cutoff\": 10, \"User-ID\": 26798, \"precision\": 0.0, \"recall\": 0.0}, {\"count\": 2, \"cutoff\": 11, \"User-ID\": 26798, \"precision\": 0.0, \"recall\": 0.0}, {\"count\": 2, \"cutoff\": 16, \"User-ID\": 26798, \"precision\": 0.0, \"recall\": 0.0}, {\"count\": 2, \"cutoff\": 21, \"User-ID\": 26798, \"precision\": 0.0, \"recall\": 0.0}, {\"count\": 2, \"cutoff\": 26, \"User-ID\": 26798, \"precision\": 0.0, \"recall\": 0.0}, {\"count\": 2, \"cutoff\": 31, \"User-ID\": 26798, \"precision\": 0.0, \"recall\": 0.0}, {\"count\": 2, \"cutoff\": 36, \"User-ID\": 26798, \"precision\": 0.0, \"recall\": 0.0}, {\"count\": 2, \"cutoff\": 41, \"User-ID\": 26798, \"precision\": 0.0, \"recall\": 0.0}, {\"count\": 2, \"cutoff\": 46, \"User-ID\": 26798, \"precision\": 0.021739130434782608, \"recall\": 0.5}, {\"count\": 7, \"cutoff\": 1, \"User-ID\": 27825, \"precision\": 1.0, \"recall\": 0.14285714285714285}, {\"count\": 7, \"cutoff\": 2, \"User-ID\": 27825, \"precision\": 0.5, \"recall\": 0.14285714285714285}, {\"count\": 7, \"cutoff\": 3, \"User-ID\": 27825, \"precision\": 0.3333333333333333, \"recall\": 0.14285714285714285}, {\"count\": 7, \"cutoff\": 4, \"User-ID\": 27825, \"precision\": 0.25, \"recall\": 0.14285714285714285}, {\"count\": 7, \"cutoff\": 5, \"User-ID\": 27825, \"precision\": 0.4, \"recall\": 0.2857142857142857}, {\"count\": 7, \"cutoff\": 6, \"User-ID\": 27825, \"precision\": 0.3333333333333333, \"recall\": 0.2857142857142857}, {\"count\": 7, \"cutoff\": 7, \"User-ID\": 27825, \"precision\": 0.2857142857142857, \"recall\": 0.2857142857142857}, {\"count\": 7, \"cutoff\": 8, \"User-ID\": 27825, \"precision\": 0.25, \"recall\": 0.2857142857142857}, {\"count\": 7, \"cutoff\": 9, \"User-ID\": 27825, \"precision\": 0.2222222222222222, \"recall\": 0.2857142857142857}, {\"count\": 7, \"cutoff\": 10, \"User-ID\": 27825, \"precision\": 0.3, \"recall\": 0.42857142857142855}, {\"count\": 7, \"cutoff\": 11, \"User-ID\": 27825, \"precision\": 0.2727272727272727, \"recall\": 0.42857142857142855}, {\"count\": 7, \"cutoff\": 16, \"User-ID\": 27825, \"precision\": 0.375, \"recall\": 0.8571428571428571}, {\"count\": 7, \"cutoff\": 21, \"User-ID\": 27825, \"precision\": 0.2857142857142857, \"recall\": 0.8571428571428571}, {\"count\": 7, \"cutoff\": 26, \"User-ID\": 27825, \"precision\": 0.23076923076923078, \"recall\": 0.8571428571428571}, {\"count\": 7, \"cutoff\": 31, \"User-ID\": 27825, \"precision\": 0.1935483870967742, \"recall\": 0.8571428571428571}, {\"count\": 7, \"cutoff\": 36, \"User-ID\": 27825, \"precision\": 0.16666666666666666, \"recall\": 0.8571428571428571}, {\"count\": 7, \"cutoff\": 41, \"User-ID\": 27825, \"precision\": 0.14634146341463414, \"recall\": 0.8571428571428571}, {\"count\": 7, \"cutoff\": 46, \"User-ID\": 27825, \"precision\": 0.13043478260869565, \"recall\": 0.8571428571428571}, {\"count\": 9, \"cutoff\": 1, \"User-ID\": 27875, \"precision\": 1.0, \"recall\": 0.1111111111111111}, {\"count\": 9, \"cutoff\": 2, \"User-ID\": 27875, \"precision\": 0.5, \"recall\": 0.1111111111111111}, {\"count\": 9, \"cutoff\": 3, \"User-ID\": 27875, \"precision\": 0.3333333333333333, \"recall\": 0.1111111111111111}, {\"count\": 9, \"cutoff\": 4, \"User-ID\": 27875, \"precision\": 0.25, \"recall\": 0.1111111111111111}, {\"count\": 9, \"cutoff\": 5, \"User-ID\": 27875, \"precision\": 0.4, \"recall\": 0.2222222222222222}, {\"count\": 9, \"cutoff\": 6, \"User-ID\": 27875, \"precision\": 0.3333333333333333, \"recall\": 0.2222222222222222}, {\"count\": 9, \"cutoff\": 7, \"User-ID\": 27875, \"precision\": 0.2857142857142857, \"recall\": 0.2222222222222222}, {\"count\": 9, \"cutoff\": 8, \"User-ID\": 27875, \"precision\": 0.25, \"recall\": 0.2222222222222222}, {\"count\": 9, \"cutoff\": 9, \"User-ID\": 27875, \"precision\": 0.2222222222222222, \"recall\": 0.2222222222222222}, {\"count\": 9, \"cutoff\": 10, \"User-ID\": 27875, \"precision\": 0.2, \"recall\": 0.2222222222222222}, {\"count\": 9, \"cutoff\": 11, \"User-ID\": 27875, \"precision\": 0.18181818181818182, \"recall\": 0.2222222222222222}, {\"count\": 9, \"cutoff\": 16, \"User-ID\": 27875, \"precision\": 0.125, \"recall\": 0.2222222222222222}, {\"count\": 9, \"cutoff\": 21, \"User-ID\": 27875, \"precision\": 0.23809523809523808, \"recall\": 0.5555555555555556}, {\"count\": 9, \"cutoff\": 26, \"User-ID\": 27875, \"precision\": 0.23076923076923078, \"recall\": 0.6666666666666666}, {\"count\": 9, \"cutoff\": 31, \"User-ID\": 27875, \"precision\": 0.1935483870967742, \"recall\": 0.6666666666666666}, {\"count\": 9, \"cutoff\": 36, \"User-ID\": 27875, \"precision\": 0.19444444444444445, \"recall\": 0.7777777777777778}, {\"count\": 9, \"cutoff\": 41, \"User-ID\": 27875, \"precision\": 0.17073170731707318, \"recall\": 0.7777777777777778}, {\"count\": 9, \"cutoff\": 46, \"User-ID\": 27875, \"precision\": 0.15217391304347827, \"recall\": 0.7777777777777778}, {\"count\": 2, \"cutoff\": 1, \"User-ID\": 27997, \"precision\": 0.0, \"recall\": 0.0}, {\"count\": 2, \"cutoff\": 2, \"User-ID\": 27997, \"precision\": 0.0, \"recall\": 0.0}, {\"count\": 2, \"cutoff\": 3, \"User-ID\": 27997, \"precision\": 0.0, \"recall\": 0.0}, {\"count\": 2, \"cutoff\": 4, \"User-ID\": 27997, \"precision\": 0.0, \"recall\": 0.0}, {\"count\": 2, \"cutoff\": 5, \"User-ID\": 27997, \"precision\": 0.0, \"recall\": 0.0}, {\"count\": 2, \"cutoff\": 6, \"User-ID\": 27997, \"precision\": 0.0, \"recall\": 0.0}, {\"count\": 2, \"cutoff\": 7, \"User-ID\": 27997, \"precision\": 0.0, \"recall\": 0.0}, {\"count\": 2, \"cutoff\": 8, \"User-ID\": 27997, \"precision\": 0.0, \"recall\": 0.0}, {\"count\": 2, \"cutoff\": 9, \"User-ID\": 27997, \"precision\": 0.0, \"recall\": 0.0}, {\"count\": 2, \"cutoff\": 10, \"User-ID\": 27997, \"precision\": 0.0, \"recall\": 0.0}, {\"count\": 2, \"cutoff\": 11, \"User-ID\": 27997, \"precision\": 0.0, \"recall\": 0.0}, {\"count\": 2, \"cutoff\": 16, \"User-ID\": 27997, \"precision\": 0.0, \"recall\": 0.0}, {\"count\": 2, \"cutoff\": 21, \"User-ID\": 27997, \"precision\": 0.0, \"recall\": 0.0}, {\"count\": 2, \"cutoff\": 26, \"User-ID\": 27997, \"precision\": 0.0, \"recall\": 0.0}, {\"count\": 2, \"cutoff\": 31, \"User-ID\": 27997, \"precision\": 0.0, \"recall\": 0.0}, {\"count\": 2, \"cutoff\": 36, \"User-ID\": 27997, \"precision\": 0.027777777777777776, \"recall\": 0.5}, {\"count\": 2, \"cutoff\": 41, \"User-ID\": 27997, \"precision\": 0.04878048780487805, \"recall\": 1.0}, {\"count\": 2, \"cutoff\": 46, \"User-ID\": 27997, \"precision\": 0.043478260869565216, \"recall\": 1.0}, {\"count\": 4, \"cutoff\": 1, \"User-ID\": 29170, \"precision\": 0.0, \"recall\": 0.0}, {\"count\": 4, \"cutoff\": 2, \"User-ID\": 29170, \"precision\": 0.0, \"recall\": 0.0}, {\"count\": 4, \"cutoff\": 3, \"User-ID\": 29170, \"precision\": 0.0, \"recall\": 0.0}, {\"count\": 4, \"cutoff\": 4, \"User-ID\": 29170, \"precision\": 0.0, \"recall\": 0.0}, {\"count\": 4, \"cutoff\": 5, \"User-ID\": 29170, \"precision\": 0.0, \"recall\": 0.0}, {\"count\": 4, \"cutoff\": 6, \"User-ID\": 29170, \"precision\": 0.0, \"recall\": 0.0}, {\"count\": 4, \"cutoff\": 7, \"User-ID\": 29170, \"precision\": 0.0, \"recall\": 0.0}, {\"count\": 4, \"cutoff\": 8, \"User-ID\": 29170, \"precision\": 0.0, \"recall\": 0.0}, {\"count\": 4, \"cutoff\": 9, \"User-ID\": 29170, \"precision\": 0.0, \"recall\": 0.0}, {\"count\": 4, \"cutoff\": 10, \"User-ID\": 29170, \"precision\": 0.0, \"recall\": 0.0}, {\"count\": 4, \"cutoff\": 11, \"User-ID\": 29170, \"precision\": 0.0, \"recall\": 0.0}, {\"count\": 4, \"cutoff\": 16, \"User-ID\": 29170, \"precision\": 0.0, \"recall\": 0.0}, {\"count\": 4, \"cutoff\": 21, \"User-ID\": 29170, \"precision\": 0.0, \"recall\": 0.0}, {\"count\": 4, \"cutoff\": 26, \"User-ID\": 29170, \"precision\": 0.0, \"recall\": 0.0}, {\"count\": 4, \"cutoff\": 31, \"User-ID\": 29170, \"precision\": 0.0, \"recall\": 0.0}, {\"count\": 4, \"cutoff\": 36, \"User-ID\": 29170, \"precision\": 0.05555555555555555, \"recall\": 0.5}, {\"count\": 4, \"cutoff\": 41, \"User-ID\": 29170, \"precision\": 0.04878048780487805, \"recall\": 0.5}, {\"count\": 4, \"cutoff\": 46, \"User-ID\": 29170, \"precision\": 0.043478260869565216, \"recall\": 0.5}, {\"count\": 14, \"cutoff\": 1, \"User-ID\": 29303, \"precision\": 0.0, \"recall\": 0.0}, {\"count\": 14, \"cutoff\": 2, \"User-ID\": 29303, \"precision\": 0.5, \"recall\": 0.07142857142857142}, {\"count\": 14, \"cutoff\": 3, \"User-ID\": 29303, \"precision\": 0.3333333333333333, \"recall\": 0.07142857142857142}, {\"count\": 14, \"cutoff\": 4, \"User-ID\": 29303, \"precision\": 0.25, \"recall\": 0.07142857142857142}, {\"count\": 14, \"cutoff\": 5, \"User-ID\": 29303, \"precision\": 0.2, \"recall\": 0.07142857142857142}, {\"count\": 14, \"cutoff\": 6, \"User-ID\": 29303, \"precision\": 0.16666666666666666, \"recall\": 0.07142857142857142}, {\"count\": 14, \"cutoff\": 7, \"User-ID\": 29303, \"precision\": 0.14285714285714285, \"recall\": 0.07142857142857142}, {\"count\": 14, \"cutoff\": 8, \"User-ID\": 29303, \"precision\": 0.25, \"recall\": 0.14285714285714285}, {\"count\": 14, \"cutoff\": 9, \"User-ID\": 29303, \"precision\": 0.2222222222222222, \"recall\": 0.14285714285714285}, {\"count\": 14, \"cutoff\": 10, \"User-ID\": 29303, \"precision\": 0.3, \"recall\": 0.21428571428571427}, {\"count\": 14, \"cutoff\": 11, \"User-ID\": 29303, \"precision\": 0.2727272727272727, \"recall\": 0.21428571428571427}, {\"count\": 14, \"cutoff\": 16, \"User-ID\": 29303, \"precision\": 0.3125, \"recall\": 0.35714285714285715}, {\"count\": 14, \"cutoff\": 21, \"User-ID\": 29303, \"precision\": 0.38095238095238093, \"recall\": 0.5714285714285714}, {\"count\": 14, \"cutoff\": 26, \"User-ID\": 29303, \"precision\": 0.4230769230769231, \"recall\": 0.7857142857142857}, {\"count\": 14, \"cutoff\": 31, \"User-ID\": 29303, \"precision\": 0.41935483870967744, \"recall\": 0.9285714285714286}, {\"count\": 14, \"cutoff\": 36, \"User-ID\": 29303, \"precision\": 0.3888888888888889, \"recall\": 1.0}, {\"count\": 14, \"cutoff\": 41, \"User-ID\": 29303, \"precision\": 0.34146341463414637, \"recall\": 1.0}, {\"count\": 14, \"cutoff\": 46, \"User-ID\": 29303, \"precision\": 0.30434782608695654, \"recall\": 1.0}, {\"count\": 4, \"cutoff\": 1, \"User-ID\": 29489, \"precision\": 0.0, \"recall\": 0.0}, {\"count\": 4, \"cutoff\": 2, \"User-ID\": 29489, \"precision\": 0.0, \"recall\": 0.0}, {\"count\": 4, \"cutoff\": 3, \"User-ID\": 29489, \"precision\": 0.0, \"recall\": 0.0}, {\"count\": 4, \"cutoff\": 4, \"User-ID\": 29489, \"precision\": 0.25, \"recall\": 0.25}, {\"count\": 4, \"cutoff\": 5, \"User-ID\": 29489, \"precision\": 0.2, \"recall\": 0.25}, {\"count\": 4, \"cutoff\": 6, \"User-ID\": 29489, \"precision\": 0.16666666666666666, \"recall\": 0.25}, {\"count\": 4, \"cutoff\": 7, \"User-ID\": 29489, \"precision\": 0.14285714285714285, \"recall\": 0.25}, {\"count\": 4, \"cutoff\": 8, \"User-ID\": 29489, \"precision\": 0.125, \"recall\": 0.25}, {\"count\": 4, \"cutoff\": 9, \"User-ID\": 29489, \"precision\": 0.1111111111111111, \"recall\": 0.25}, {\"count\": 4, \"cutoff\": 10, \"User-ID\": 29489, \"precision\": 0.1, \"recall\": 0.25}, {\"count\": 4, \"cutoff\": 11, \"User-ID\": 29489, \"precision\": 0.09090909090909091, \"recall\": 0.25}, {\"count\": 4, \"cutoff\": 16, \"User-ID\": 29489, \"precision\": 0.0625, \"recall\": 0.25}, {\"count\": 4, \"cutoff\": 21, \"User-ID\": 29489, \"precision\": 0.14285714285714285, \"recall\": 0.75}, {\"count\": 4, \"cutoff\": 26, \"User-ID\": 29489, \"precision\": 0.11538461538461539, \"recall\": 0.75}, {\"count\": 4, \"cutoff\": 31, \"User-ID\": 29489, \"precision\": 0.0967741935483871, \"recall\": 0.75}, {\"count\": 4, \"cutoff\": 36, \"User-ID\": 29489, \"precision\": 0.08333333333333333, \"recall\": 0.75}, {\"count\": 4, \"cutoff\": 41, \"User-ID\": 29489, \"precision\": 0.07317073170731707, \"recall\": 0.75}, {\"count\": 4, \"cutoff\": 46, \"User-ID\": 29489, \"precision\": 0.06521739130434782, \"recall\": 0.75}, {\"count\": 2, \"cutoff\": 1, \"User-ID\": 29556, \"precision\": 0.0, \"recall\": 0.0}, {\"count\": 2, \"cutoff\": 2, \"User-ID\": 29556, \"precision\": 0.0, \"recall\": 0.0}, {\"count\": 2, \"cutoff\": 3, \"User-ID\": 29556, \"precision\": 0.0, \"recall\": 0.0}, {\"count\": 2, \"cutoff\": 4, \"User-ID\": 29556, \"precision\": 0.0, \"recall\": 0.0}, {\"count\": 2, \"cutoff\": 5, \"User-ID\": 29556, \"precision\": 0.0, \"recall\": 0.0}, {\"count\": 2, \"cutoff\": 6, \"User-ID\": 29556, \"precision\": 0.0, \"recall\": 0.0}, {\"count\": 2, \"cutoff\": 7, \"User-ID\": 29556, \"precision\": 0.0, \"recall\": 0.0}, {\"count\": 2, \"cutoff\": 8, \"User-ID\": 29556, \"precision\": 0.0, \"recall\": 0.0}, {\"count\": 2, \"cutoff\": 9, \"User-ID\": 29556, \"precision\": 0.0, \"recall\": 0.0}, {\"count\": 2, \"cutoff\": 10, \"User-ID\": 29556, \"precision\": 0.0, \"recall\": 0.0}, {\"count\": 2, \"cutoff\": 11, \"User-ID\": 29556, \"precision\": 0.0, \"recall\": 0.0}, {\"count\": 2, \"cutoff\": 16, \"User-ID\": 29556, \"precision\": 0.0, \"recall\": 0.0}, {\"count\": 2, \"cutoff\": 21, \"User-ID\": 29556, \"precision\": 0.047619047619047616, \"recall\": 0.5}, {\"count\": 2, \"cutoff\": 26, \"User-ID\": 29556, \"precision\": 0.07692307692307693, \"recall\": 1.0}, {\"count\": 2, \"cutoff\": 31, \"User-ID\": 29556, \"precision\": 0.06451612903225806, \"recall\": 1.0}, {\"count\": 2, \"cutoff\": 36, \"User-ID\": 29556, \"precision\": 0.05555555555555555, \"recall\": 1.0}, {\"count\": 2, \"cutoff\": 41, \"User-ID\": 29556, \"precision\": 0.04878048780487805, \"recall\": 1.0}, {\"count\": 2, \"cutoff\": 46, \"User-ID\": 29556, \"precision\": 0.043478260869565216, \"recall\": 1.0}, {\"count\": 8, \"cutoff\": 1, \"User-ID\": 30320, \"precision\": 0.0, \"recall\": 0.0}, {\"count\": 8, \"cutoff\": 2, \"User-ID\": 30320, \"precision\": 0.5, \"recall\": 0.125}, {\"count\": 8, \"cutoff\": 3, \"User-ID\": 30320, \"precision\": 0.6666666666666666, \"recall\": 0.25}, {\"count\": 8, \"cutoff\": 4, \"User-ID\": 30320, \"precision\": 0.75, \"recall\": 0.375}, {\"count\": 8, \"cutoff\": 5, \"User-ID\": 30320, \"precision\": 0.8, \"recall\": 0.5}, {\"count\": 8, \"cutoff\": 6, \"User-ID\": 30320, \"precision\": 0.6666666666666666, \"recall\": 0.5}, {\"count\": 8, \"cutoff\": 7, \"User-ID\": 30320, \"precision\": 0.5714285714285714, \"recall\": 0.5}, {\"count\": 8, \"cutoff\": 8, \"User-ID\": 30320, \"precision\": 0.625, \"recall\": 0.625}, {\"count\": 8, \"cutoff\": 9, \"User-ID\": 30320, \"precision\": 0.5555555555555556, \"recall\": 0.625}, {\"count\": 8, \"cutoff\": 10, \"User-ID\": 30320, \"precision\": 0.5, \"recall\": 0.625}, {\"count\": 8, \"cutoff\": 11, \"User-ID\": 30320, \"precision\": 0.45454545454545453, \"recall\": 0.625}, {\"count\": 8, \"cutoff\": 16, \"User-ID\": 30320, \"precision\": 0.3125, \"recall\": 0.625}, {\"count\": 8, \"cutoff\": 21, \"User-ID\": 30320, \"precision\": 0.23809523809523808, \"recall\": 0.625}, {\"count\": 8, \"cutoff\": 26, \"User-ID\": 30320, \"precision\": 0.19230769230769232, \"recall\": 0.625}, {\"count\": 8, \"cutoff\": 31, \"User-ID\": 30320, \"precision\": 0.16129032258064516, \"recall\": 0.625}, {\"count\": 8, \"cutoff\": 36, \"User-ID\": 30320, \"precision\": 0.1388888888888889, \"recall\": 0.625}, {\"count\": 8, \"cutoff\": 41, \"User-ID\": 30320, \"precision\": 0.12195121951219512, \"recall\": 0.625}, {\"count\": 8, \"cutoff\": 46, \"User-ID\": 30320, \"precision\": 0.10869565217391304, \"recall\": 0.625}, {\"count\": 23, \"cutoff\": 1, \"User-ID\": 32298, \"precision\": 1.0, \"recall\": 0.043478260869565216}, {\"count\": 23, \"cutoff\": 2, \"User-ID\": 32298, \"precision\": 1.0, \"recall\": 0.08695652173913043}, {\"count\": 23, \"cutoff\": 3, \"User-ID\": 32298, \"precision\": 1.0, \"recall\": 0.13043478260869565}, {\"count\": 23, \"cutoff\": 4, \"User-ID\": 32298, \"precision\": 1.0, \"recall\": 0.17391304347826086}, {\"count\": 23, \"cutoff\": 5, \"User-ID\": 32298, \"precision\": 1.0, \"recall\": 0.21739130434782608}, {\"count\": 23, \"cutoff\": 6, \"User-ID\": 32298, \"precision\": 1.0, \"recall\": 0.2608695652173913}, {\"count\": 23, \"cutoff\": 7, \"User-ID\": 32298, \"precision\": 1.0, \"recall\": 0.30434782608695654}, {\"count\": 23, \"cutoff\": 8, \"User-ID\": 32298, \"precision\": 1.0, \"recall\": 0.34782608695652173}, {\"count\": 23, \"cutoff\": 9, \"User-ID\": 32298, \"precision\": 1.0, \"recall\": 0.391304347826087}, {\"count\": 23, \"cutoff\": 10, \"User-ID\": 32298, \"precision\": 1.0, \"recall\": 0.43478260869565216}, {\"count\": 23, \"cutoff\": 11, \"User-ID\": 32298, \"precision\": 1.0, \"recall\": 0.4782608695652174}, {\"count\": 23, \"cutoff\": 16, \"User-ID\": 32298, \"precision\": 1.0, \"recall\": 0.6956521739130435}, {\"count\": 23, \"cutoff\": 21, \"User-ID\": 32298, \"precision\": 1.0, \"recall\": 0.9130434782608695}, {\"count\": 23, \"cutoff\": 26, \"User-ID\": 32298, \"precision\": 0.8846153846153846, \"recall\": 1.0}, {\"count\": 23, \"cutoff\": 31, \"User-ID\": 32298, \"precision\": 0.7419354838709677, \"recall\": 1.0}, {\"count\": 23, \"cutoff\": 36, \"User-ID\": 32298, \"precision\": 0.6571428571428571, \"recall\": 1.0}, {\"count\": 23, \"cutoff\": 41, \"User-ID\": 32298, \"precision\": 0.6571428571428571, \"recall\": 1.0}, {\"count\": 23, \"cutoff\": 46, \"User-ID\": 32298, \"precision\": 0.6571428571428571, \"recall\": 1.0}, {\"count\": 8, \"cutoff\": 1, \"User-ID\": 33217, \"precision\": 0.0, \"recall\": 0.0}, {\"count\": 8, \"cutoff\": 2, \"User-ID\": 33217, \"precision\": 0.0, \"recall\": 0.0}, {\"count\": 8, \"cutoff\": 3, \"User-ID\": 33217, \"precision\": 0.0, \"recall\": 0.0}, {\"count\": 8, \"cutoff\": 4, \"User-ID\": 33217, \"precision\": 0.25, \"recall\": 0.125}, {\"count\": 8, \"cutoff\": 5, \"User-ID\": 33217, \"precision\": 0.4, \"recall\": 0.25}, {\"count\": 8, \"cutoff\": 6, \"User-ID\": 33217, \"precision\": 0.3333333333333333, \"recall\": 0.25}, {\"count\": 8, \"cutoff\": 7, \"User-ID\": 33217, \"precision\": 0.42857142857142855, \"recall\": 0.375}, {\"count\": 8, \"cutoff\": 8, \"User-ID\": 33217, \"precision\": 0.375, \"recall\": 0.375}, {\"count\": 8, \"cutoff\": 9, \"User-ID\": 33217, \"precision\": 0.3333333333333333, \"recall\": 0.375}, {\"count\": 8, \"cutoff\": 10, \"User-ID\": 33217, \"precision\": 0.4, \"recall\": 0.5}, {\"count\": 8, \"cutoff\": 11, \"User-ID\": 33217, \"precision\": 0.36363636363636365, \"recall\": 0.5}, {\"count\": 8, \"cutoff\": 16, \"User-ID\": 33217, \"precision\": 0.3125, \"recall\": 0.625}, {\"count\": 8, \"cutoff\": 21, \"User-ID\": 33217, \"precision\": 0.2857142857142857, \"recall\": 0.75}, {\"count\": 8, \"cutoff\": 26, \"User-ID\": 33217, \"precision\": 0.2692307692307692, \"recall\": 0.875}, {\"count\": 8, \"cutoff\": 31, \"User-ID\": 33217, \"precision\": 0.25806451612903225, \"recall\": 1.0}, {\"count\": 8, \"cutoff\": 36, \"User-ID\": 33217, \"precision\": 0.2222222222222222, \"recall\": 1.0}, {\"count\": 8, \"cutoff\": 41, \"User-ID\": 33217, \"precision\": 0.1951219512195122, \"recall\": 1.0}, {\"count\": 8, \"cutoff\": 46, \"User-ID\": 33217, \"precision\": 0.17391304347826086, \"recall\": 1.0}, {\"count\": 4, \"cutoff\": 1, \"User-ID\": 33436, \"precision\": 0.0, \"recall\": 0.0}, {\"count\": 4, \"cutoff\": 2, \"User-ID\": 33436, \"precision\": 0.0, \"recall\": 0.0}, {\"count\": 4, \"cutoff\": 3, \"User-ID\": 33436, \"precision\": 0.0, \"recall\": 0.0}, {\"count\": 4, \"cutoff\": 4, \"User-ID\": 33436, \"precision\": 0.0, \"recall\": 0.0}, {\"count\": 4, \"cutoff\": 5, \"User-ID\": 33436, \"precision\": 0.0, \"recall\": 0.0}, {\"count\": 4, \"cutoff\": 6, \"User-ID\": 33436, \"precision\": 0.0, \"recall\": 0.0}, {\"count\": 4, \"cutoff\": 7, \"User-ID\": 33436, \"precision\": 0.0, \"recall\": 0.0}, {\"count\": 4, \"cutoff\": 8, \"User-ID\": 33436, \"precision\": 0.0, \"recall\": 0.0}, {\"count\": 4, \"cutoff\": 9, \"User-ID\": 33436, \"precision\": 0.0, \"recall\": 0.0}, {\"count\": 4, \"cutoff\": 10, \"User-ID\": 33436, \"precision\": 0.0, \"recall\": 0.0}, {\"count\": 4, \"cutoff\": 11, \"User-ID\": 33436, \"precision\": 0.0, \"recall\": 0.0}, {\"count\": 4, \"cutoff\": 16, \"User-ID\": 33436, \"precision\": 0.0, \"recall\": 0.0}, {\"count\": 4, \"cutoff\": 21, \"User-ID\": 33436, \"precision\": 0.047619047619047616, \"recall\": 0.25}, {\"count\": 4, \"cutoff\": 26, \"User-ID\": 33436, \"precision\": 0.038461538461538464, \"recall\": 0.25}, {\"count\": 4, \"cutoff\": 31, \"User-ID\": 33436, \"precision\": 0.03225806451612903, \"recall\": 0.25}, {\"count\": 4, \"cutoff\": 36, \"User-ID\": 33436, \"precision\": 0.027777777777777776, \"recall\": 0.25}, {\"count\": 4, \"cutoff\": 41, \"User-ID\": 33436, \"precision\": 0.04878048780487805, \"recall\": 0.5}, {\"count\": 4, \"cutoff\": 46, \"User-ID\": 33436, \"precision\": 0.06521739130434782, \"recall\": 0.75}, {\"count\": 23, \"cutoff\": 1, \"User-ID\": 33551, \"precision\": 0.0, \"recall\": 0.0}, {\"count\": 23, \"cutoff\": 2, \"User-ID\": 33551, \"precision\": 0.0, \"recall\": 0.0}, {\"count\": 23, \"cutoff\": 3, \"User-ID\": 33551, \"precision\": 0.0, \"recall\": 0.0}, {\"count\": 23, \"cutoff\": 4, \"User-ID\": 33551, \"precision\": 0.25, \"recall\": 0.043478260869565216}, {\"count\": 23, \"cutoff\": 5, \"User-ID\": 33551, \"precision\": 0.4, \"recall\": 0.08695652173913043}, {\"count\": 23, \"cutoff\": 6, \"User-ID\": 33551, \"precision\": 0.3333333333333333, \"recall\": 0.08695652173913043}, {\"count\": 23, \"cutoff\": 7, \"User-ID\": 33551, \"precision\": 0.2857142857142857, \"recall\": 0.08695652173913043}, {\"count\": 23, \"cutoff\": 8, \"User-ID\": 33551, \"precision\": 0.25, \"recall\": 0.08695652173913043}, {\"count\": 23, \"cutoff\": 9, \"User-ID\": 33551, \"precision\": 0.2222222222222222, \"recall\": 0.08695652173913043}, {\"count\": 23, \"cutoff\": 10, \"User-ID\": 33551, \"precision\": 0.3, \"recall\": 0.13043478260869565}, {\"count\": 23, \"cutoff\": 11, \"User-ID\": 33551, \"precision\": 0.2727272727272727, \"recall\": 0.13043478260869565}, {\"count\": 23, \"cutoff\": 16, \"User-ID\": 33551, \"precision\": 0.4375, \"recall\": 0.30434782608695654}, {\"count\": 23, \"cutoff\": 21, \"User-ID\": 33551, \"precision\": 0.38095238095238093, \"recall\": 0.34782608695652173}, {\"count\": 23, \"cutoff\": 26, \"User-ID\": 33551, \"precision\": 0.38461538461538464, \"recall\": 0.43478260869565216}, {\"count\": 23, \"cutoff\": 31, \"User-ID\": 33551, \"precision\": 0.41935483870967744, \"recall\": 0.5652173913043478}, {\"count\": 23, \"cutoff\": 36, \"User-ID\": 33551, \"precision\": 0.4444444444444444, \"recall\": 0.6956521739130435}, {\"count\": 23, \"cutoff\": 41, \"User-ID\": 33551, \"precision\": 0.4878048780487805, \"recall\": 0.8695652173913043}, {\"count\": 23, \"cutoff\": 46, \"User-ID\": 33551, \"precision\": 0.45652173913043476, \"recall\": 0.9130434782608695}, {\"count\": 25, \"cutoff\": 1, \"User-ID\": 34966, \"precision\": 1.0, \"recall\": 0.04}, {\"count\": 25, \"cutoff\": 2, \"User-ID\": 34966, \"precision\": 1.0, \"recall\": 0.08}, {\"count\": 25, \"cutoff\": 3, \"User-ID\": 34966, \"precision\": 1.0, \"recall\": 0.12}, {\"count\": 25, \"cutoff\": 4, \"User-ID\": 34966, \"precision\": 0.75, \"recall\": 0.12}, {\"count\": 25, \"cutoff\": 5, \"User-ID\": 34966, \"precision\": 0.8, \"recall\": 0.16}, {\"count\": 25, \"cutoff\": 6, \"User-ID\": 34966, \"precision\": 0.8333333333333334, \"recall\": 0.2}, {\"count\": 25, \"cutoff\": 7, \"User-ID\": 34966, \"precision\": 0.8571428571428571, \"recall\": 0.24}, {\"count\": 25, \"cutoff\": 8, \"User-ID\": 34966, \"precision\": 0.875, \"recall\": 0.28}, {\"count\": 25, \"cutoff\": 9, \"User-ID\": 34966, \"precision\": 0.8888888888888888, \"recall\": 0.32}, {\"count\": 25, \"cutoff\": 10, \"User-ID\": 34966, \"precision\": 0.8, \"recall\": 0.32}, {\"count\": 25, \"cutoff\": 11, \"User-ID\": 34966, \"precision\": 0.8181818181818182, \"recall\": 0.36}, {\"count\": 25, \"cutoff\": 16, \"User-ID\": 34966, \"precision\": 0.75, \"recall\": 0.48}, {\"count\": 25, \"cutoff\": 21, \"User-ID\": 34966, \"precision\": 0.6190476190476191, \"recall\": 0.52}, {\"count\": 25, \"cutoff\": 26, \"User-ID\": 34966, \"precision\": 0.5769230769230769, \"recall\": 0.6}, {\"count\": 25, \"cutoff\": 31, \"User-ID\": 34966, \"precision\": 0.5483870967741935, \"recall\": 0.68}, {\"count\": 25, \"cutoff\": 36, \"User-ID\": 34966, \"precision\": 0.5277777777777778, \"recall\": 0.76}, {\"count\": 25, \"cutoff\": 41, \"User-ID\": 34966, \"precision\": 0.4878048780487805, \"recall\": 0.8}, {\"count\": 25, \"cutoff\": 46, \"User-ID\": 34966, \"precision\": 0.5, \"recall\": 0.92}, {\"count\": 9, \"cutoff\": 1, \"User-ID\": 35321, \"precision\": 1.0, \"recall\": 0.1111111111111111}, {\"count\": 9, \"cutoff\": 2, \"User-ID\": 35321, \"precision\": 0.5, \"recall\": 0.1111111111111111}, {\"count\": 9, \"cutoff\": 3, \"User-ID\": 35321, \"precision\": 0.3333333333333333, \"recall\": 0.1111111111111111}, {\"count\": 9, \"cutoff\": 4, \"User-ID\": 35321, \"precision\": 0.5, \"recall\": 0.2222222222222222}, {\"count\": 9, \"cutoff\": 5, \"User-ID\": 35321, \"precision\": 0.4, \"recall\": 0.2222222222222222}, {\"count\": 9, \"cutoff\": 6, \"User-ID\": 35321, \"precision\": 0.5, \"recall\": 0.3333333333333333}, {\"count\": 9, \"cutoff\": 7, \"User-ID\": 35321, \"precision\": 0.42857142857142855, \"recall\": 0.3333333333333333}, {\"count\": 9, \"cutoff\": 8, \"User-ID\": 35321, \"precision\": 0.5, \"recall\": 0.4444444444444444}, {\"count\": 9, \"cutoff\": 9, \"User-ID\": 35321, \"precision\": 0.4444444444444444, \"recall\": 0.4444444444444444}, {\"count\": 9, \"cutoff\": 10, \"User-ID\": 35321, \"precision\": 0.4, \"recall\": 0.4444444444444444}, {\"count\": 9, \"cutoff\": 11, \"User-ID\": 35321, \"precision\": 0.36363636363636365, \"recall\": 0.4444444444444444}, {\"count\": 9, \"cutoff\": 16, \"User-ID\": 35321, \"precision\": 0.25, \"recall\": 0.4444444444444444}, {\"count\": 9, \"cutoff\": 21, \"User-ID\": 35321, \"precision\": 0.19047619047619047, \"recall\": 0.4444444444444444}, {\"count\": 9, \"cutoff\": 26, \"User-ID\": 35321, \"precision\": 0.19230769230769232, \"recall\": 0.5555555555555556}, {\"count\": 9, \"cutoff\": 31, \"User-ID\": 35321, \"precision\": 0.16129032258064516, \"recall\": 0.5555555555555556}, {\"count\": 9, \"cutoff\": 36, \"User-ID\": 35321, \"precision\": 0.16666666666666666, \"recall\": 0.6666666666666666}, {\"count\": 9, \"cutoff\": 41, \"User-ID\": 35321, \"precision\": 0.14634146341463414, \"recall\": 0.6666666666666666}, {\"count\": 9, \"cutoff\": 46, \"User-ID\": 35321, \"precision\": 0.13043478260869565, \"recall\": 0.6666666666666666}, {\"count\": 15, \"cutoff\": 1, \"User-ID\": 35342, \"precision\": 1.0, \"recall\": 0.06666666666666667}, {\"count\": 15, \"cutoff\": 2, \"User-ID\": 35342, \"precision\": 1.0, \"recall\": 0.13333333333333333}, {\"count\": 15, \"cutoff\": 3, \"User-ID\": 35342, \"precision\": 0.6666666666666666, \"recall\": 0.13333333333333333}, {\"count\": 15, \"cutoff\": 4, \"User-ID\": 35342, \"precision\": 0.75, \"recall\": 0.2}, {\"count\": 15, \"cutoff\": 5, \"User-ID\": 35342, \"precision\": 0.6, \"recall\": 0.2}, {\"count\": 15, \"cutoff\": 6, \"User-ID\": 35342, \"precision\": 0.6666666666666666, \"recall\": 0.26666666666666666}, {\"count\": 15, \"cutoff\": 7, \"User-ID\": 35342, \"precision\": 0.5714285714285714, \"recall\": 0.26666666666666666}, {\"count\": 15, \"cutoff\": 8, \"User-ID\": 35342, \"precision\": 0.5, \"recall\": 0.26666666666666666}, {\"count\": 15, \"cutoff\": 9, \"User-ID\": 35342, \"precision\": 0.5555555555555556, \"recall\": 0.3333333333333333}, {\"count\": 15, \"cutoff\": 10, \"User-ID\": 35342, \"precision\": 0.5, \"recall\": 0.3333333333333333}, {\"count\": 15, \"cutoff\": 11, \"User-ID\": 35342, \"precision\": 0.5454545454545454, \"recall\": 0.4}, {\"count\": 15, \"cutoff\": 16, \"User-ID\": 35342, \"precision\": 0.4375, \"recall\": 0.4666666666666667}, {\"count\": 15, \"cutoff\": 21, \"User-ID\": 35342, \"precision\": 0.3333333333333333, \"recall\": 0.4666666666666667}, {\"count\": 15, \"cutoff\": 26, \"User-ID\": 35342, \"precision\": 0.34615384615384615, \"recall\": 0.6}, {\"count\": 15, \"cutoff\": 31, \"User-ID\": 35342, \"precision\": 0.3548387096774194, \"recall\": 0.7333333333333333}, {\"count\": 15, \"cutoff\": 36, \"User-ID\": 35342, \"precision\": 0.3333333333333333, \"recall\": 0.8}, {\"count\": 15, \"cutoff\": 41, \"User-ID\": 35342, \"precision\": 0.3170731707317073, \"recall\": 0.8666666666666667}, {\"count\": 15, \"cutoff\": 46, \"User-ID\": 35342, \"precision\": 0.2826086956521739, \"recall\": 0.8666666666666667}, {\"count\": 9, \"cutoff\": 1, \"User-ID\": 35608, \"precision\": 0.0, \"recall\": 0.0}, {\"count\": 9, \"cutoff\": 2, \"User-ID\": 35608, \"precision\": 0.0, \"recall\": 0.0}, {\"count\": 9, \"cutoff\": 3, \"User-ID\": 35608, \"precision\": 0.3333333333333333, \"recall\": 0.1111111111111111}, {\"count\": 9, \"cutoff\": 4, \"User-ID\": 35608, \"precision\": 0.5, \"recall\": 0.2222222222222222}, {\"count\": 9, \"cutoff\": 5, \"User-ID\": 35608, \"precision\": 0.6, \"recall\": 0.3333333333333333}, {\"count\": 9, \"cutoff\": 6, \"User-ID\": 35608, \"precision\": 0.6666666666666666, \"recall\": 0.4444444444444444}, {\"count\": 9, \"cutoff\": 7, \"User-ID\": 35608, \"precision\": 0.5714285714285714, \"recall\": 0.4444444444444444}, {\"count\": 9, \"cutoff\": 8, \"User-ID\": 35608, \"precision\": 0.5, \"recall\": 0.4444444444444444}, {\"count\": 9, \"cutoff\": 9, \"User-ID\": 35608, \"precision\": 0.4444444444444444, \"recall\": 0.4444444444444444}, {\"count\": 9, \"cutoff\": 10, \"User-ID\": 35608, \"precision\": 0.4, \"recall\": 0.4444444444444444}, {\"count\": 9, \"cutoff\": 11, \"User-ID\": 35608, \"precision\": 0.36363636363636365, \"recall\": 0.4444444444444444}, {\"count\": 9, \"cutoff\": 16, \"User-ID\": 35608, \"precision\": 0.3125, \"recall\": 0.5555555555555556}, {\"count\": 9, \"cutoff\": 21, \"User-ID\": 35608, \"precision\": 0.23809523809523808, \"recall\": 0.5555555555555556}, {\"count\": 9, \"cutoff\": 26, \"User-ID\": 35608, \"precision\": 0.23076923076923078, \"recall\": 0.6666666666666666}, {\"count\": 9, \"cutoff\": 31, \"User-ID\": 35608, \"precision\": 0.1935483870967742, \"recall\": 0.6666666666666666}, {\"count\": 9, \"cutoff\": 36, \"User-ID\": 35608, \"precision\": 0.16666666666666666, \"recall\": 0.6666666666666666}, {\"count\": 9, \"cutoff\": 41, \"User-ID\": 35608, \"precision\": 0.14634146341463414, \"recall\": 0.6666666666666666}, {\"count\": 9, \"cutoff\": 46, \"User-ID\": 35608, \"precision\": 0.15217391304347827, \"recall\": 0.7777777777777778}, {\"count\": 10, \"cutoff\": 1, \"User-ID\": 36832, \"precision\": 1.0, \"recall\": 0.1}, {\"count\": 10, \"cutoff\": 2, \"User-ID\": 36832, \"precision\": 0.5, \"recall\": 0.1}, {\"count\": 10, \"cutoff\": 3, \"User-ID\": 36832, \"precision\": 0.3333333333333333, \"recall\": 0.1}, {\"count\": 10, \"cutoff\": 4, \"User-ID\": 36832, \"precision\": 0.25, \"recall\": 0.1}, {\"count\": 10, \"cutoff\": 5, \"User-ID\": 36832, \"precision\": 0.2, \"recall\": 0.1}, {\"count\": 10, \"cutoff\": 6, \"User-ID\": 36832, \"precision\": 0.16666666666666666, \"recall\": 0.1}, {\"count\": 10, \"cutoff\": 7, \"User-ID\": 36832, \"precision\": 0.14285714285714285, \"recall\": 0.1}, {\"count\": 10, \"cutoff\": 8, \"User-ID\": 36832, \"precision\": 0.25, \"recall\": 0.2}, {\"count\": 10, \"cutoff\": 9, \"User-ID\": 36832, \"precision\": 0.2222222222222222, \"recall\": 0.2}, {\"count\": 10, \"cutoff\": 10, \"User-ID\": 36832, \"precision\": 0.2, \"recall\": 0.2}, {\"count\": 10, \"cutoff\": 11, \"User-ID\": 36832, \"precision\": 0.2727272727272727, \"recall\": 0.3}, {\"count\": 10, \"cutoff\": 16, \"User-ID\": 36832, \"precision\": 0.375, \"recall\": 0.6}, {\"count\": 10, \"cutoff\": 21, \"User-ID\": 36832, \"precision\": 0.2857142857142857, \"recall\": 0.6}, {\"count\": 10, \"cutoff\": 26, \"User-ID\": 36832, \"precision\": 0.23076923076923078, \"recall\": 0.6}, {\"count\": 10, \"cutoff\": 31, \"User-ID\": 36832, \"precision\": 0.22580645161290322, \"recall\": 0.7}, {\"count\": 10, \"cutoff\": 36, \"User-ID\": 36832, \"precision\": 0.19444444444444445, \"recall\": 0.7}, {\"count\": 10, \"cutoff\": 41, \"User-ID\": 36832, \"precision\": 0.1951219512195122, \"recall\": 0.8}, {\"count\": 10, \"cutoff\": 46, \"User-ID\": 36832, \"precision\": 0.17391304347826086, \"recall\": 0.8}, {\"count\": 1, \"cutoff\": 1, \"User-ID\": 36849, \"precision\": 1.0, \"recall\": 1.0}, {\"count\": 1, \"cutoff\": 2, \"User-ID\": 36849, \"precision\": 0.5, \"recall\": 1.0}, {\"count\": 1, \"cutoff\": 3, \"User-ID\": 36849, \"precision\": 0.3333333333333333, \"recall\": 1.0}, {\"count\": 1, \"cutoff\": 4, \"User-ID\": 36849, \"precision\": 0.25, \"recall\": 1.0}, {\"count\": 1, \"cutoff\": 5, \"User-ID\": 36849, \"precision\": 0.2, \"recall\": 1.0}, {\"count\": 1, \"cutoff\": 6, \"User-ID\": 36849, \"precision\": 0.16666666666666666, \"recall\": 1.0}, {\"count\": 1, \"cutoff\": 7, \"User-ID\": 36849, \"precision\": 0.14285714285714285, \"recall\": 1.0}, {\"count\": 1, \"cutoff\": 8, \"User-ID\": 36849, \"precision\": 0.125, \"recall\": 1.0}, {\"count\": 1, \"cutoff\": 9, \"User-ID\": 36849, \"precision\": 0.1111111111111111, \"recall\": 1.0}, {\"count\": 1, \"cutoff\": 10, \"User-ID\": 36849, \"precision\": 0.1, \"recall\": 1.0}, {\"count\": 1, \"cutoff\": 11, \"User-ID\": 36849, \"precision\": 0.09090909090909091, \"recall\": 1.0}, {\"count\": 1, \"cutoff\": 16, \"User-ID\": 36849, \"precision\": 0.0625, \"recall\": 1.0}, {\"count\": 1, \"cutoff\": 21, \"User-ID\": 36849, \"precision\": 0.047619047619047616, \"recall\": 1.0}, {\"count\": 1, \"cutoff\": 26, \"User-ID\": 36849, \"precision\": 0.038461538461538464, \"recall\": 1.0}, {\"count\": 1, \"cutoff\": 31, \"User-ID\": 36849, \"precision\": 0.03225806451612903, \"recall\": 1.0}, {\"count\": 1, \"cutoff\": 36, \"User-ID\": 36849, \"precision\": 0.027777777777777776, \"recall\": 1.0}, {\"count\": 1, \"cutoff\": 41, \"User-ID\": 36849, \"precision\": 0.024390243902439025, \"recall\": 1.0}, {\"count\": 1, \"cutoff\": 46, \"User-ID\": 36849, \"precision\": 0.021739130434782608, \"recall\": 1.0}, {\"count\": 2, \"cutoff\": 1, \"User-ID\": 37639, \"precision\": 0.0, \"recall\": 0.0}, {\"count\": 2, \"cutoff\": 2, \"User-ID\": 37639, \"precision\": 0.0, \"recall\": 0.0}, {\"count\": 2, \"cutoff\": 3, \"User-ID\": 37639, \"precision\": 0.0, \"recall\": 0.0}, {\"count\": 2, \"cutoff\": 4, \"User-ID\": 37639, \"precision\": 0.0, \"recall\": 0.0}, {\"count\": 2, \"cutoff\": 5, \"User-ID\": 37639, \"precision\": 0.0, \"recall\": 0.0}, {\"count\": 2, \"cutoff\": 6, \"User-ID\": 37639, \"precision\": 0.0, \"recall\": 0.0}, {\"count\": 2, \"cutoff\": 7, \"User-ID\": 37639, \"precision\": 0.0, \"recall\": 0.0}, {\"count\": 2, \"cutoff\": 8, \"User-ID\": 37639, \"precision\": 0.0, \"recall\": 0.0}, {\"count\": 2, \"cutoff\": 9, \"User-ID\": 37639, \"precision\": 0.0, \"recall\": 0.0}, {\"count\": 2, \"cutoff\": 10, \"User-ID\": 37639, \"precision\": 0.0, \"recall\": 0.0}, {\"count\": 2, \"cutoff\": 11, \"User-ID\": 37639, \"precision\": 0.0, \"recall\": 0.0}, {\"count\": 2, \"cutoff\": 16, \"User-ID\": 37639, \"precision\": 0.0, \"recall\": 0.0}, {\"count\": 2, \"cutoff\": 21, \"User-ID\": 37639, \"precision\": 0.0, \"recall\": 0.0}, {\"count\": 2, \"cutoff\": 26, \"User-ID\": 37639, \"precision\": 0.0, \"recall\": 0.0}, {\"count\": 2, \"cutoff\": 31, \"User-ID\": 37639, \"precision\": 0.0, \"recall\": 0.0}, {\"count\": 2, \"cutoff\": 36, \"User-ID\": 37639, \"precision\": 0.0, \"recall\": 0.0}, {\"count\": 2, \"cutoff\": 41, \"User-ID\": 37639, \"precision\": 0.0, \"recall\": 0.0}, {\"count\": 2, \"cutoff\": 46, \"User-ID\": 37639, \"precision\": 0.0, \"recall\": 0.0}, {\"count\": 5, \"cutoff\": 1, \"User-ID\": 37853, \"precision\": 1.0, \"recall\": 0.2}, {\"count\": 5, \"cutoff\": 2, \"User-ID\": 37853, \"precision\": 1.0, \"recall\": 0.4}, {\"count\": 5, \"cutoff\": 3, \"User-ID\": 37853, \"precision\": 0.6666666666666666, \"recall\": 0.4}, {\"count\": 5, \"cutoff\": 4, \"User-ID\": 37853, \"precision\": 0.5, \"recall\": 0.4}, {\"count\": 5, \"cutoff\": 5, \"User-ID\": 37853, \"precision\": 0.4, \"recall\": 0.4}, {\"count\": 5, \"cutoff\": 6, \"User-ID\": 37853, \"precision\": 0.3333333333333333, \"recall\": 0.4}, {\"count\": 5, \"cutoff\": 7, \"User-ID\": 37853, \"precision\": 0.2857142857142857, \"recall\": 0.4}, {\"count\": 5, \"cutoff\": 8, \"User-ID\": 37853, \"precision\": 0.25, \"recall\": 0.4}, {\"count\": 5, \"cutoff\": 9, \"User-ID\": 37853, \"precision\": 0.2222222222222222, \"recall\": 0.4}, {\"count\": 5, \"cutoff\": 10, \"User-ID\": 37853, \"precision\": 0.2, \"recall\": 0.4}, {\"count\": 5, \"cutoff\": 11, \"User-ID\": 37853, \"precision\": 0.18181818181818182, \"recall\": 0.4}, {\"count\": 5, \"cutoff\": 16, \"User-ID\": 37853, \"precision\": 0.125, \"recall\": 0.4}, {\"count\": 5, \"cutoff\": 21, \"User-ID\": 37853, \"precision\": 0.14285714285714285, \"recall\": 0.6}, {\"count\": 5, \"cutoff\": 26, \"User-ID\": 37853, \"precision\": 0.19230769230769232, \"recall\": 1.0}, {\"count\": 5, \"cutoff\": 31, \"User-ID\": 37853, \"precision\": 0.16129032258064516, \"recall\": 1.0}, {\"count\": 5, \"cutoff\": 36, \"User-ID\": 37853, \"precision\": 0.1388888888888889, \"recall\": 1.0}, {\"count\": 5, \"cutoff\": 41, \"User-ID\": 37853, \"precision\": 0.12195121951219512, \"recall\": 1.0}, {\"count\": 5, \"cutoff\": 46, \"User-ID\": 37853, \"precision\": 0.10869565217391304, \"recall\": 1.0}, {\"count\": 6, \"cutoff\": 1, \"User-ID\": 41293, \"precision\": 0.0, \"recall\": 0.0}, {\"count\": 6, \"cutoff\": 2, \"User-ID\": 41293, \"precision\": 0.0, \"recall\": 0.0}, {\"count\": 6, \"cutoff\": 3, \"User-ID\": 41293, \"precision\": 0.0, \"recall\": 0.0}, {\"count\": 6, \"cutoff\": 4, \"User-ID\": 41293, \"precision\": 0.0, \"recall\": 0.0}, {\"count\": 6, \"cutoff\": 5, \"User-ID\": 41293, \"precision\": 0.0, \"recall\": 0.0}, {\"count\": 6, \"cutoff\": 6, \"User-ID\": 41293, \"precision\": 0.0, \"recall\": 0.0}, {\"count\": 6, \"cutoff\": 7, \"User-ID\": 41293, \"precision\": 0.0, \"recall\": 0.0}, {\"count\": 6, \"cutoff\": 8, \"User-ID\": 41293, \"precision\": 0.0, \"recall\": 0.0}, {\"count\": 6, \"cutoff\": 9, \"User-ID\": 41293, \"precision\": 0.0, \"recall\": 0.0}, {\"count\": 6, \"cutoff\": 10, \"User-ID\": 41293, \"precision\": 0.1, \"recall\": 0.16666666666666666}, {\"count\": 6, \"cutoff\": 11, \"User-ID\": 41293, \"precision\": 0.09090909090909091, \"recall\": 0.16666666666666666}, {\"count\": 6, \"cutoff\": 16, \"User-ID\": 41293, \"precision\": 0.1875, \"recall\": 0.5}, {\"count\": 6, \"cutoff\": 21, \"User-ID\": 41293, \"precision\": 0.14285714285714285, \"recall\": 0.5}, {\"count\": 6, \"cutoff\": 26, \"User-ID\": 41293, \"precision\": 0.11538461538461539, \"recall\": 0.5}, {\"count\": 6, \"cutoff\": 31, \"User-ID\": 41293, \"precision\": 0.0967741935483871, \"recall\": 0.5}, {\"count\": 6, \"cutoff\": 36, \"User-ID\": 41293, \"precision\": 0.08333333333333333, \"recall\": 0.5}, {\"count\": 6, \"cutoff\": 41, \"User-ID\": 41293, \"precision\": 0.07317073170731707, \"recall\": 0.5}, {\"count\": 6, \"cutoff\": 46, \"User-ID\": 41293, \"precision\": 0.06521739130434782, \"recall\": 0.5}, {\"count\": 5, \"cutoff\": 1, \"User-ID\": 42011, \"precision\": 0.0, \"recall\": 0.0}, {\"count\": 5, \"cutoff\": 2, \"User-ID\": 42011, \"precision\": 0.0, \"recall\": 0.0}, {\"count\": 5, \"cutoff\": 3, \"User-ID\": 42011, \"precision\": 0.0, \"recall\": 0.0}, {\"count\": 5, \"cutoff\": 4, \"User-ID\": 42011, \"precision\": 0.0, \"recall\": 0.0}, {\"count\": 5, \"cutoff\": 5, \"User-ID\": 42011, \"precision\": 0.0, \"recall\": 0.0}, {\"count\": 5, \"cutoff\": 6, \"User-ID\": 42011, \"precision\": 0.16666666666666666, \"recall\": 0.2}, {\"count\": 5, \"cutoff\": 7, \"User-ID\": 42011, \"precision\": 0.14285714285714285, \"recall\": 0.2}, {\"count\": 5, \"cutoff\": 8, \"User-ID\": 42011, \"precision\": 0.125, \"recall\": 0.2}, {\"count\": 5, \"cutoff\": 9, \"User-ID\": 42011, \"precision\": 0.1111111111111111, \"recall\": 0.2}, {\"count\": 5, \"cutoff\": 10, \"User-ID\": 42011, \"precision\": 0.1, \"recall\": 0.2}, {\"count\": 5, \"cutoff\": 11, \"User-ID\": 42011, \"precision\": 0.09090909090909091, \"recall\": 0.2}, {\"count\": 5, \"cutoff\": 16, \"User-ID\": 42011, \"precision\": 0.0625, \"recall\": 0.2}, {\"count\": 5, \"cutoff\": 21, \"User-ID\": 42011, \"precision\": 0.19047619047619047, \"recall\": 0.8}, {\"count\": 5, \"cutoff\": 26, \"User-ID\": 42011, \"precision\": 0.15384615384615385, \"recall\": 0.8}, {\"count\": 5, \"cutoff\": 31, \"User-ID\": 42011, \"precision\": 0.16129032258064516, \"recall\": 1.0}, {\"count\": 5, \"cutoff\": 36, \"User-ID\": 42011, \"precision\": 0.1388888888888889, \"recall\": 1.0}, {\"count\": 5, \"cutoff\": 41, \"User-ID\": 42011, \"precision\": 0.12195121951219512, \"recall\": 1.0}, {\"count\": 5, \"cutoff\": 46, \"User-ID\": 42011, \"precision\": 0.10869565217391304, \"recall\": 1.0}, {\"count\": 27, \"cutoff\": 1, \"User-ID\": 42305, \"precision\": 1.0, \"recall\": 0.037037037037037035}, {\"count\": 27, \"cutoff\": 2, \"User-ID\": 42305, \"precision\": 1.0, \"recall\": 0.07407407407407407}, {\"count\": 27, \"cutoff\": 3, \"User-ID\": 42305, \"precision\": 1.0, \"recall\": 0.1111111111111111}, {\"count\": 27, \"cutoff\": 4, \"User-ID\": 42305, \"precision\": 1.0, \"recall\": 0.14814814814814814}, {\"count\": 27, \"cutoff\": 5, \"User-ID\": 42305, \"precision\": 1.0, \"recall\": 0.18518518518518517}, {\"count\": 27, \"cutoff\": 6, \"User-ID\": 42305, \"precision\": 1.0, \"recall\": 0.2222222222222222}, {\"count\": 27, \"cutoff\": 7, \"User-ID\": 42305, \"precision\": 1.0, \"recall\": 0.25925925925925924}, {\"count\": 27, \"cutoff\": 8, \"User-ID\": 42305, \"precision\": 1.0, \"recall\": 0.2962962962962963}, {\"count\": 27, \"cutoff\": 9, \"User-ID\": 42305, \"precision\": 1.0, \"recall\": 0.3333333333333333}, {\"count\": 27, \"cutoff\": 10, \"User-ID\": 42305, \"precision\": 1.0, \"recall\": 0.37037037037037035}, {\"count\": 27, \"cutoff\": 11, \"User-ID\": 42305, \"precision\": 1.0, \"recall\": 0.4074074074074074}, {\"count\": 27, \"cutoff\": 16, \"User-ID\": 42305, \"precision\": 1.0, \"recall\": 0.5925925925925926}, {\"count\": 27, \"cutoff\": 21, \"User-ID\": 42305, \"precision\": 1.0, \"recall\": 0.7777777777777778}, {\"count\": 27, \"cutoff\": 26, \"User-ID\": 42305, \"precision\": 1.0, \"recall\": 0.9629629629629629}, {\"count\": 27, \"cutoff\": 31, \"User-ID\": 42305, \"precision\": 0.8709677419354839, \"recall\": 1.0}, {\"count\": 27, \"cutoff\": 36, \"User-ID\": 42305, \"precision\": 0.75, \"recall\": 1.0}, {\"count\": 27, \"cutoff\": 41, \"User-ID\": 42305, \"precision\": 0.6923076923076923, \"recall\": 1.0}, {\"count\": 27, \"cutoff\": 46, \"User-ID\": 42305, \"precision\": 0.6923076923076923, \"recall\": 1.0}, {\"count\": 1, \"cutoff\": 1, \"User-ID\": 42980, \"precision\": 0.0, \"recall\": 0.0}, {\"count\": 1, \"cutoff\": 2, \"User-ID\": 42980, \"precision\": 0.0, \"recall\": 0.0}, {\"count\": 1, \"cutoff\": 3, \"User-ID\": 42980, \"precision\": 0.0, \"recall\": 0.0}, {\"count\": 1, \"cutoff\": 4, \"User-ID\": 42980, \"precision\": 0.0, \"recall\": 0.0}, {\"count\": 1, \"cutoff\": 5, \"User-ID\": 42980, \"precision\": 0.0, \"recall\": 0.0}, {\"count\": 1, \"cutoff\": 6, \"User-ID\": 42980, \"precision\": 0.0, \"recall\": 0.0}, {\"count\": 1, \"cutoff\": 7, \"User-ID\": 42980, \"precision\": 0.0, \"recall\": 0.0}, {\"count\": 1, \"cutoff\": 8, \"User-ID\": 42980, \"precision\": 0.0, \"recall\": 0.0}, {\"count\": 1, \"cutoff\": 9, \"User-ID\": 42980, \"precision\": 0.0, \"recall\": 0.0}, {\"count\": 1, \"cutoff\": 10, \"User-ID\": 42980, \"precision\": 0.0, \"recall\": 0.0}, {\"count\": 1, \"cutoff\": 11, \"User-ID\": 42980, \"precision\": 0.0, \"recall\": 0.0}, {\"count\": 1, \"cutoff\": 16, \"User-ID\": 42980, \"precision\": 0.0, \"recall\": 0.0}, {\"count\": 1, \"cutoff\": 21, \"User-ID\": 42980, \"precision\": 0.0, \"recall\": 0.0}, {\"count\": 1, \"cutoff\": 26, \"User-ID\": 42980, \"precision\": 0.0, \"recall\": 0.0}, {\"count\": 1, \"cutoff\": 31, \"User-ID\": 42980, \"precision\": 0.0, \"recall\": 0.0}, {\"count\": 1, \"cutoff\": 36, \"User-ID\": 42980, \"precision\": 0.0, \"recall\": 0.0}, {\"count\": 1, \"cutoff\": 41, \"User-ID\": 42980, \"precision\": 0.0, \"recall\": 0.0}, {\"count\": 1, \"cutoff\": 46, \"User-ID\": 42980, \"precision\": 0.0, \"recall\": 0.0}, {\"count\": 1, \"cutoff\": 1, \"User-ID\": 43416, \"precision\": 0.0, \"recall\": 0.0}, {\"count\": 1, \"cutoff\": 2, \"User-ID\": 43416, \"precision\": 0.0, \"recall\": 0.0}, {\"count\": 1, \"cutoff\": 3, \"User-ID\": 43416, \"precision\": 0.0, \"recall\": 0.0}, {\"count\": 1, \"cutoff\": 4, \"User-ID\": 43416, \"precision\": 0.0, \"recall\": 0.0}, {\"count\": 1, \"cutoff\": 5, \"User-ID\": 43416, \"precision\": 0.0, \"recall\": 0.0}, {\"count\": 1, \"cutoff\": 6, \"User-ID\": 43416, \"precision\": 0.0, \"recall\": 0.0}, {\"count\": 1, \"cutoff\": 7, \"User-ID\": 43416, \"precision\": 0.0, \"recall\": 0.0}, {\"count\": 1, \"cutoff\": 8, \"User-ID\": 43416, \"precision\": 0.0, \"recall\": 0.0}, {\"count\": 1, \"cutoff\": 9, \"User-ID\": 43416, \"precision\": 0.0, \"recall\": 0.0}, {\"count\": 1, \"cutoff\": 10, \"User-ID\": 43416, \"precision\": 0.0, \"recall\": 0.0}, {\"count\": 1, \"cutoff\": 11, \"User-ID\": 43416, \"precision\": 0.0, \"recall\": 0.0}, {\"count\": 1, \"cutoff\": 16, \"User-ID\": 43416, \"precision\": 0.0, \"recall\": 0.0}, {\"count\": 1, \"cutoff\": 21, \"User-ID\": 43416, \"precision\": 0.0, \"recall\": 0.0}, {\"count\": 1, \"cutoff\": 26, \"User-ID\": 43416, \"precision\": 0.0, \"recall\": 0.0}, {\"count\": 1, \"cutoff\": 31, \"User-ID\": 43416, \"precision\": 0.0, \"recall\": 0.0}, {\"count\": 1, \"cutoff\": 36, \"User-ID\": 43416, \"precision\": 0.0, \"recall\": 0.0}, {\"count\": 1, \"cutoff\": 41, \"User-ID\": 43416, \"precision\": 0.0, \"recall\": 0.0}, {\"count\": 1, \"cutoff\": 46, \"User-ID\": 43416, \"precision\": 0.0, \"recall\": 0.0}, {\"count\": 3, \"cutoff\": 1, \"User-ID\": 45205, \"precision\": 0.0, \"recall\": 0.0}, {\"count\": 3, \"cutoff\": 2, \"User-ID\": 45205, \"precision\": 0.0, \"recall\": 0.0}, {\"count\": 3, \"cutoff\": 3, \"User-ID\": 45205, \"precision\": 0.0, \"recall\": 0.0}, {\"count\": 3, \"cutoff\": 4, \"User-ID\": 45205, \"precision\": 0.0, \"recall\": 0.0}, {\"count\": 3, \"cutoff\": 5, \"User-ID\": 45205, \"precision\": 0.0, \"recall\": 0.0}, {\"count\": 3, \"cutoff\": 6, \"User-ID\": 45205, \"precision\": 0.0, \"recall\": 0.0}, {\"count\": 3, \"cutoff\": 7, \"User-ID\": 45205, \"precision\": 0.0, \"recall\": 0.0}, {\"count\": 3, \"cutoff\": 8, \"User-ID\": 45205, \"precision\": 0.0, \"recall\": 0.0}, {\"count\": 3, \"cutoff\": 9, \"User-ID\": 45205, \"precision\": 0.0, \"recall\": 0.0}, {\"count\": 3, \"cutoff\": 10, \"User-ID\": 45205, \"precision\": 0.0, \"recall\": 0.0}, {\"count\": 3, \"cutoff\": 11, \"User-ID\": 45205, \"precision\": 0.0, \"recall\": 0.0}, {\"count\": 3, \"cutoff\": 16, \"User-ID\": 45205, \"precision\": 0.0, \"recall\": 0.0}, {\"count\": 3, \"cutoff\": 21, \"User-ID\": 45205, \"precision\": 0.0, \"recall\": 0.0}, {\"count\": 3, \"cutoff\": 26, \"User-ID\": 45205, \"precision\": 0.0, \"recall\": 0.0}, {\"count\": 3, \"cutoff\": 31, \"User-ID\": 45205, \"precision\": 0.0, \"recall\": 0.0}, {\"count\": 3, \"cutoff\": 36, \"User-ID\": 45205, \"precision\": 0.0, \"recall\": 0.0}, {\"count\": 3, \"cutoff\": 41, \"User-ID\": 45205, \"precision\": 0.0, \"recall\": 0.0}, {\"count\": 3, \"cutoff\": 46, \"User-ID\": 45205, \"precision\": 0.0, \"recall\": 0.0}, {\"count\": 4, \"cutoff\": 1, \"User-ID\": 45797, \"precision\": 0.0, \"recall\": 0.0}, {\"count\": 4, \"cutoff\": 2, \"User-ID\": 45797, \"precision\": 0.0, \"recall\": 0.0}, {\"count\": 4, \"cutoff\": 3, \"User-ID\": 45797, \"precision\": 0.0, \"recall\": 0.0}, {\"count\": 4, \"cutoff\": 4, \"User-ID\": 45797, \"precision\": 0.0, \"recall\": 0.0}, {\"count\": 4, \"cutoff\": 5, \"User-ID\": 45797, \"precision\": 0.0, \"recall\": 0.0}, {\"count\": 4, \"cutoff\": 6, \"User-ID\": 45797, \"precision\": 0.0, \"recall\": 0.0}, {\"count\": 4, \"cutoff\": 7, \"User-ID\": 45797, \"precision\": 0.0, \"recall\": 0.0}, {\"count\": 4, \"cutoff\": 8, \"User-ID\": 45797, \"precision\": 0.0, \"recall\": 0.0}, {\"count\": 4, \"cutoff\": 9, \"User-ID\": 45797, \"precision\": 0.0, \"recall\": 0.0}, {\"count\": 4, \"cutoff\": 10, \"User-ID\": 45797, \"precision\": 0.0, \"recall\": 0.0}, {\"count\": 4, \"cutoff\": 11, \"User-ID\": 45797, \"precision\": 0.0, \"recall\": 0.0}, {\"count\": 4, \"cutoff\": 16, \"User-ID\": 45797, \"precision\": 0.0, \"recall\": 0.0}, {\"count\": 4, \"cutoff\": 21, \"User-ID\": 45797, \"precision\": 0.0, \"recall\": 0.0}, {\"count\": 4, \"cutoff\": 26, \"User-ID\": 45797, \"precision\": 0.0, \"recall\": 0.0}, {\"count\": 4, \"cutoff\": 31, \"User-ID\": 45797, \"precision\": 0.03225806451612903, \"recall\": 0.25}, {\"count\": 4, \"cutoff\": 36, \"User-ID\": 45797, \"precision\": 0.05555555555555555, \"recall\": 0.5}, {\"count\": 4, \"cutoff\": 41, \"User-ID\": 45797, \"precision\": 0.04878048780487805, \"recall\": 0.5}, {\"count\": 4, \"cutoff\": 46, \"User-ID\": 45797, \"precision\": 0.06521739130434782, \"recall\": 0.75}, {\"count\": 2, \"cutoff\": 1, \"User-ID\": 47668, \"precision\": 0.0, \"recall\": 0.0}, {\"count\": 2, \"cutoff\": 2, \"User-ID\": 47668, \"precision\": 0.0, \"recall\": 0.0}, {\"count\": 2, \"cutoff\": 3, \"User-ID\": 47668, \"precision\": 0.0, \"recall\": 0.0}, {\"count\": 2, \"cutoff\": 4, \"User-ID\": 47668, \"precision\": 0.0, \"recall\": 0.0}, {\"count\": 2, \"cutoff\": 5, \"User-ID\": 47668, \"precision\": 0.0, \"recall\": 0.0}, {\"count\": 2, \"cutoff\": 6, \"User-ID\": 47668, \"precision\": 0.0, \"recall\": 0.0}, {\"count\": 2, \"cutoff\": 7, \"User-ID\": 47668, \"precision\": 0.14285714285714285, \"recall\": 0.5}, {\"count\": 2, \"cutoff\": 8, \"User-ID\": 47668, \"precision\": 0.125, \"recall\": 0.5}, {\"count\": 2, \"cutoff\": 9, \"User-ID\": 47668, \"precision\": 0.1111111111111111, \"recall\": 0.5}, {\"count\": 2, \"cutoff\": 10, \"User-ID\": 47668, \"precision\": 0.1, \"recall\": 0.5}, {\"count\": 2, \"cutoff\": 11, \"User-ID\": 47668, \"precision\": 0.09090909090909091, \"recall\": 0.5}, {\"count\": 2, \"cutoff\": 16, \"User-ID\": 47668, \"precision\": 0.0625, \"recall\": 0.5}, {\"count\": 2, \"cutoff\": 21, \"User-ID\": 47668, \"precision\": 0.09523809523809523, \"recall\": 1.0}, {\"count\": 2, \"cutoff\": 26, \"User-ID\": 47668, \"precision\": 0.07692307692307693, \"recall\": 1.0}, {\"count\": 2, \"cutoff\": 31, \"User-ID\": 47668, \"precision\": 0.06451612903225806, \"recall\": 1.0}, {\"count\": 2, \"cutoff\": 36, \"User-ID\": 47668, \"precision\": 0.05555555555555555, \"recall\": 1.0}, {\"count\": 2, \"cutoff\": 41, \"User-ID\": 47668, \"precision\": 0.04878048780487805, \"recall\": 1.0}, {\"count\": 2, \"cutoff\": 46, \"User-ID\": 47668, \"precision\": 0.043478260869565216, \"recall\": 1.0}, {\"count\": 30, \"cutoff\": 1, \"User-ID\": 49076, \"precision\": 1.0, \"recall\": 0.03333333333333333}, {\"count\": 30, \"cutoff\": 2, \"User-ID\": 49076, \"precision\": 1.0, \"recall\": 0.06666666666666667}, {\"count\": 30, \"cutoff\": 3, \"User-ID\": 49076, \"precision\": 1.0, \"recall\": 0.1}, {\"count\": 30, \"cutoff\": 4, \"User-ID\": 49076, \"precision\": 1.0, \"recall\": 0.13333333333333333}, {\"count\": 30, \"cutoff\": 5, \"User-ID\": 49076, \"precision\": 1.0, \"recall\": 0.16666666666666666}, {\"count\": 30, \"cutoff\": 6, \"User-ID\": 49076, \"precision\": 1.0, \"recall\": 0.2}, {\"count\": 30, \"cutoff\": 7, \"User-ID\": 49076, \"precision\": 1.0, \"recall\": 0.23333333333333334}, {\"count\": 30, \"cutoff\": 8, \"User-ID\": 49076, \"precision\": 1.0, \"recall\": 0.26666666666666666}, {\"count\": 30, \"cutoff\": 9, \"User-ID\": 49076, \"precision\": 1.0, \"recall\": 0.3}, {\"count\": 30, \"cutoff\": 10, \"User-ID\": 49076, \"precision\": 1.0, \"recall\": 0.3333333333333333}, {\"count\": 30, \"cutoff\": 11, \"User-ID\": 49076, \"precision\": 1.0, \"recall\": 0.36666666666666664}, {\"count\": 30, \"cutoff\": 16, \"User-ID\": 49076, \"precision\": 1.0, \"recall\": 0.5333333333333333}, {\"count\": 30, \"cutoff\": 21, \"User-ID\": 49076, \"precision\": 1.0, \"recall\": 0.7}, {\"count\": 30, \"cutoff\": 26, \"User-ID\": 49076, \"precision\": 1.0, \"recall\": 0.8666666666666667}, {\"count\": 30, \"cutoff\": 31, \"User-ID\": 49076, \"precision\": 0.967741935483871, \"recall\": 1.0}, {\"count\": 30, \"cutoff\": 36, \"User-ID\": 49076, \"precision\": 0.8333333333333334, \"recall\": 1.0}, {\"count\": 30, \"cutoff\": 41, \"User-ID\": 49076, \"precision\": 0.7317073170731707, \"recall\": 1.0}, {\"count\": 30, \"cutoff\": 46, \"User-ID\": 49076, \"precision\": 0.7142857142857143, \"recall\": 1.0}, {\"count\": 3, \"cutoff\": 1, \"User-ID\": 49737, \"precision\": 0.0, \"recall\": 0.0}, {\"count\": 3, \"cutoff\": 2, \"User-ID\": 49737, \"precision\": 0.0, \"recall\": 0.0}, {\"count\": 3, \"cutoff\": 3, \"User-ID\": 49737, \"precision\": 0.0, \"recall\": 0.0}, {\"count\": 3, \"cutoff\": 4, \"User-ID\": 49737, \"precision\": 0.0, \"recall\": 0.0}, {\"count\": 3, \"cutoff\": 5, \"User-ID\": 49737, \"precision\": 0.0, \"recall\": 0.0}, {\"count\": 3, \"cutoff\": 6, \"User-ID\": 49737, \"precision\": 0.0, \"recall\": 0.0}, {\"count\": 3, \"cutoff\": 7, \"User-ID\": 49737, \"precision\": 0.0, \"recall\": 0.0}, {\"count\": 3, \"cutoff\": 8, \"User-ID\": 49737, \"precision\": 0.0, \"recall\": 0.0}, {\"count\": 3, \"cutoff\": 9, \"User-ID\": 49737, \"precision\": 0.0, \"recall\": 0.0}, {\"count\": 3, \"cutoff\": 10, \"User-ID\": 49737, \"precision\": 0.1, \"recall\": 0.3333333333333333}, {\"count\": 3, \"cutoff\": 11, \"User-ID\": 49737, \"precision\": 0.09090909090909091, \"recall\": 0.3333333333333333}, {\"count\": 3, \"cutoff\": 16, \"User-ID\": 49737, \"precision\": 0.0625, \"recall\": 0.3333333333333333}, {\"count\": 3, \"cutoff\": 21, \"User-ID\": 49737, \"precision\": 0.047619047619047616, \"recall\": 0.3333333333333333}, {\"count\": 3, \"cutoff\": 26, \"User-ID\": 49737, \"precision\": 0.038461538461538464, \"recall\": 0.3333333333333333}, {\"count\": 3, \"cutoff\": 31, \"User-ID\": 49737, \"precision\": 0.03225806451612903, \"recall\": 0.3333333333333333}, {\"count\": 3, \"cutoff\": 36, \"User-ID\": 49737, \"precision\": 0.027777777777777776, \"recall\": 0.3333333333333333}, {\"count\": 3, \"cutoff\": 41, \"User-ID\": 49737, \"precision\": 0.04878048780487805, \"recall\": 0.6666666666666666}, {\"count\": 3, \"cutoff\": 46, \"User-ID\": 49737, \"precision\": 0.043478260869565216, \"recall\": 0.6666666666666666}, {\"count\": 6, \"cutoff\": 1, \"User-ID\": 49960, \"precision\": 0.0, \"recall\": 0.0}, {\"count\": 6, \"cutoff\": 2, \"User-ID\": 49960, \"precision\": 0.0, \"recall\": 0.0}, {\"count\": 6, \"cutoff\": 3, \"User-ID\": 49960, \"precision\": 0.0, \"recall\": 0.0}, {\"count\": 6, \"cutoff\": 4, \"User-ID\": 49960, \"precision\": 0.0, \"recall\": 0.0}, {\"count\": 6, \"cutoff\": 5, \"User-ID\": 49960, \"precision\": 0.0, \"recall\": 0.0}, {\"count\": 6, \"cutoff\": 6, \"User-ID\": 49960, \"precision\": 0.0, \"recall\": 0.0}, {\"count\": 6, \"cutoff\": 7, \"User-ID\": 49960, \"precision\": 0.14285714285714285, \"recall\": 0.16666666666666666}, {\"count\": 6, \"cutoff\": 8, \"User-ID\": 49960, \"precision\": 0.125, \"recall\": 0.16666666666666666}, {\"count\": 6, \"cutoff\": 9, \"User-ID\": 49960, \"precision\": 0.2222222222222222, \"recall\": 0.3333333333333333}, {\"count\": 6, \"cutoff\": 10, \"User-ID\": 49960, \"precision\": 0.3, \"recall\": 0.5}, {\"count\": 6, \"cutoff\": 11, \"User-ID\": 49960, \"precision\": 0.2727272727272727, \"recall\": 0.5}, {\"count\": 6, \"cutoff\": 16, \"User-ID\": 49960, \"precision\": 0.1875, \"recall\": 0.5}, {\"count\": 6, \"cutoff\": 21, \"User-ID\": 49960, \"precision\": 0.14285714285714285, \"recall\": 0.5}, {\"count\": 6, \"cutoff\": 26, \"User-ID\": 49960, \"precision\": 0.15384615384615385, \"recall\": 0.6666666666666666}, {\"count\": 6, \"cutoff\": 31, \"User-ID\": 49960, \"precision\": 0.12903225806451613, \"recall\": 0.6666666666666666}, {\"count\": 6, \"cutoff\": 36, \"User-ID\": 49960, \"precision\": 0.1111111111111111, \"recall\": 0.6666666666666666}, {\"count\": 6, \"cutoff\": 41, \"User-ID\": 49960, \"precision\": 0.0975609756097561, \"recall\": 0.6666666666666666}, {\"count\": 6, \"cutoff\": 46, \"User-ID\": 49960, \"precision\": 0.08695652173913043, \"recall\": 0.6666666666666666}, {\"count\": 1, \"cutoff\": 1, \"User-ID\": 49978, \"precision\": 0.0, \"recall\": 0.0}, {\"count\": 1, \"cutoff\": 2, \"User-ID\": 49978, \"precision\": 0.0, \"recall\": 0.0}, {\"count\": 1, \"cutoff\": 3, \"User-ID\": 49978, \"precision\": 0.0, \"recall\": 0.0}, {\"count\": 1, \"cutoff\": 4, \"User-ID\": 49978, \"precision\": 0.0, \"recall\": 0.0}, {\"count\": 1, \"cutoff\": 5, \"User-ID\": 49978, \"precision\": 0.0, \"recall\": 0.0}, {\"count\": 1, \"cutoff\": 6, \"User-ID\": 49978, \"precision\": 0.0, \"recall\": 0.0}, {\"count\": 1, \"cutoff\": 7, \"User-ID\": 49978, \"precision\": 0.0, \"recall\": 0.0}, {\"count\": 1, \"cutoff\": 8, \"User-ID\": 49978, \"precision\": 0.0, \"recall\": 0.0}, {\"count\": 1, \"cutoff\": 9, \"User-ID\": 49978, \"precision\": 0.0, \"recall\": 0.0}, {\"count\": 1, \"cutoff\": 10, \"User-ID\": 49978, \"precision\": 0.0, \"recall\": 0.0}, {\"count\": 1, \"cutoff\": 11, \"User-ID\": 49978, \"precision\": 0.0, \"recall\": 0.0}, {\"count\": 1, \"cutoff\": 16, \"User-ID\": 49978, \"precision\": 0.0, \"recall\": 0.0}, {\"count\": 1, \"cutoff\": 21, \"User-ID\": 49978, \"precision\": 0.0, \"recall\": 0.0}, {\"count\": 1, \"cutoff\": 26, \"User-ID\": 49978, \"precision\": 0.0, \"recall\": 0.0}, {\"count\": 1, \"cutoff\": 31, \"User-ID\": 49978, \"precision\": 0.0, \"recall\": 0.0}, {\"count\": 1, \"cutoff\": 36, \"User-ID\": 49978, \"precision\": 0.0, \"recall\": 0.0}, {\"count\": 1, \"cutoff\": 41, \"User-ID\": 49978, \"precision\": 0.0, \"recall\": 0.0}, {\"count\": 1, \"cutoff\": 46, \"User-ID\": 49978, \"precision\": 0.0, \"recall\": 0.0}, {\"count\": 21, \"cutoff\": 1, \"User-ID\": 50226, \"precision\": 1.0, \"recall\": 0.047619047619047616}, {\"count\": 21, \"cutoff\": 2, \"User-ID\": 50226, \"precision\": 1.0, \"recall\": 0.09523809523809523}, {\"count\": 21, \"cutoff\": 3, \"User-ID\": 50226, \"precision\": 1.0, \"recall\": 0.14285714285714285}, {\"count\": 21, \"cutoff\": 4, \"User-ID\": 50226, \"precision\": 1.0, \"recall\": 0.19047619047619047}, {\"count\": 21, \"cutoff\": 5, \"User-ID\": 50226, \"precision\": 1.0, \"recall\": 0.23809523809523808}, {\"count\": 21, \"cutoff\": 6, \"User-ID\": 50226, \"precision\": 1.0, \"recall\": 0.2857142857142857}, {\"count\": 21, \"cutoff\": 7, \"User-ID\": 50226, \"precision\": 1.0, \"recall\": 0.3333333333333333}, {\"count\": 21, \"cutoff\": 8, \"User-ID\": 50226, \"precision\": 1.0, \"recall\": 0.38095238095238093}, {\"count\": 21, \"cutoff\": 9, \"User-ID\": 50226, \"precision\": 1.0, \"recall\": 0.42857142857142855}, {\"count\": 21, \"cutoff\": 10, \"User-ID\": 50226, \"precision\": 1.0, \"recall\": 0.47619047619047616}, {\"count\": 21, \"cutoff\": 11, \"User-ID\": 50226, \"precision\": 1.0, \"recall\": 0.5238095238095238}, {\"count\": 21, \"cutoff\": 16, \"User-ID\": 50226, \"precision\": 1.0, \"recall\": 0.7619047619047619}, {\"count\": 21, \"cutoff\": 21, \"User-ID\": 50226, \"precision\": 1.0, \"recall\": 1.0}, {\"count\": 21, \"cutoff\": 26, \"User-ID\": 50226, \"precision\": 0.8076923076923077, \"recall\": 1.0}, {\"count\": 21, \"cutoff\": 31, \"User-ID\": 50226, \"precision\": 0.6774193548387096, \"recall\": 1.0}, {\"count\": 21, \"cutoff\": 36, \"User-ID\": 50226, \"precision\": 0.6363636363636364, \"recall\": 1.0}, {\"count\": 21, \"cutoff\": 41, \"User-ID\": 50226, \"precision\": 0.6363636363636364, \"recall\": 1.0}, {\"count\": 21, \"cutoff\": 46, \"User-ID\": 50226, \"precision\": 0.6363636363636364, \"recall\": 1.0}, {\"count\": 12, \"cutoff\": 1, \"User-ID\": 51499, \"precision\": 1.0, \"recall\": 0.08333333333333333}, {\"count\": 12, \"cutoff\": 2, \"User-ID\": 51499, \"precision\": 0.5, \"recall\": 0.08333333333333333}, {\"count\": 12, \"cutoff\": 3, \"User-ID\": 51499, \"precision\": 0.3333333333333333, \"recall\": 0.08333333333333333}, {\"count\": 12, \"cutoff\": 4, \"User-ID\": 51499, \"precision\": 0.25, \"recall\": 0.08333333333333333}, {\"count\": 12, \"cutoff\": 5, \"User-ID\": 51499, \"precision\": 0.4, \"recall\": 0.16666666666666666}, {\"count\": 12, \"cutoff\": 6, \"User-ID\": 51499, \"precision\": 0.5, \"recall\": 0.25}, {\"count\": 12, \"cutoff\": 7, \"User-ID\": 51499, \"precision\": 0.42857142857142855, \"recall\": 0.25}, {\"count\": 12, \"cutoff\": 8, \"User-ID\": 51499, \"precision\": 0.5, \"recall\": 0.3333333333333333}, {\"count\": 12, \"cutoff\": 9, \"User-ID\": 51499, \"precision\": 0.5555555555555556, \"recall\": 0.4166666666666667}, {\"count\": 12, \"cutoff\": 10, \"User-ID\": 51499, \"precision\": 0.6, \"recall\": 0.5}, {\"count\": 12, \"cutoff\": 11, \"User-ID\": 51499, \"precision\": 0.5454545454545454, \"recall\": 0.5}, {\"count\": 12, \"cutoff\": 16, \"User-ID\": 51499, \"precision\": 0.5625, \"recall\": 0.75}, {\"count\": 12, \"cutoff\": 21, \"User-ID\": 51499, \"precision\": 0.42857142857142855, \"recall\": 0.75}, {\"count\": 12, \"cutoff\": 26, \"User-ID\": 51499, \"precision\": 0.34615384615384615, \"recall\": 0.75}, {\"count\": 12, \"cutoff\": 31, \"User-ID\": 51499, \"precision\": 0.2903225806451613, \"recall\": 0.75}, {\"count\": 12, \"cutoff\": 36, \"User-ID\": 51499, \"precision\": 0.2777777777777778, \"recall\": 0.8333333333333334}, {\"count\": 12, \"cutoff\": 41, \"User-ID\": 51499, \"precision\": 0.2682926829268293, \"recall\": 0.9166666666666666}, {\"count\": 12, \"cutoff\": 46, \"User-ID\": 51499, \"precision\": 0.2391304347826087, \"recall\": 0.9166666666666666}, {\"count\": 4, \"cutoff\": 1, \"User-ID\": 51898, \"precision\": 0.0, \"recall\": 0.0}, {\"count\": 4, \"cutoff\": 2, \"User-ID\": 51898, \"precision\": 0.0, \"recall\": 0.0}, {\"count\": 4, \"cutoff\": 3, \"User-ID\": 51898, \"precision\": 0.0, \"recall\": 0.0}, {\"count\": 4, \"cutoff\": 4, \"User-ID\": 51898, \"precision\": 0.25, \"recall\": 0.25}, {\"count\": 4, \"cutoff\": 5, \"User-ID\": 51898, \"precision\": 0.2, \"recall\": 0.25}, {\"count\": 4, \"cutoff\": 6, \"User-ID\": 51898, \"precision\": 0.3333333333333333, \"recall\": 0.5}, {\"count\": 4, \"cutoff\": 7, \"User-ID\": 51898, \"precision\": 0.2857142857142857, \"recall\": 0.5}, {\"count\": 4, \"cutoff\": 8, \"User-ID\": 51898, \"precision\": 0.25, \"recall\": 0.5}, {\"count\": 4, \"cutoff\": 9, \"User-ID\": 51898, \"precision\": 0.2222222222222222, \"recall\": 0.5}, {\"count\": 4, \"cutoff\": 10, \"User-ID\": 51898, \"precision\": 0.2, \"recall\": 0.5}, {\"count\": 4, \"cutoff\": 11, \"User-ID\": 51898, \"precision\": 0.18181818181818182, \"recall\": 0.5}, {\"count\": 4, \"cutoff\": 16, \"User-ID\": 51898, \"precision\": 0.1875, \"recall\": 0.75}, {\"count\": 4, \"cutoff\": 21, \"User-ID\": 51898, \"precision\": 0.14285714285714285, \"recall\": 0.75}, {\"count\": 4, \"cutoff\": 26, \"User-ID\": 51898, \"precision\": 0.11538461538461539, \"recall\": 0.75}, {\"count\": 4, \"cutoff\": 31, \"User-ID\": 51898, \"precision\": 0.12903225806451613, \"recall\": 1.0}, {\"count\": 4, \"cutoff\": 36, \"User-ID\": 51898, \"precision\": 0.1111111111111111, \"recall\": 1.0}, {\"count\": 4, \"cutoff\": 41, \"User-ID\": 51898, \"precision\": 0.0975609756097561, \"recall\": 1.0}, {\"count\": 4, \"cutoff\": 46, \"User-ID\": 51898, \"precision\": 0.08695652173913043, \"recall\": 1.0}, {\"count\": 5, \"cutoff\": 1, \"User-ID\": 53846, \"precision\": 1.0, \"recall\": 0.2}, {\"count\": 5, \"cutoff\": 2, \"User-ID\": 53846, \"precision\": 0.5, \"recall\": 0.2}, {\"count\": 5, \"cutoff\": 3, \"User-ID\": 53846, \"precision\": 0.3333333333333333, \"recall\": 0.2}, {\"count\": 5, \"cutoff\": 4, \"User-ID\": 53846, \"precision\": 0.25, \"recall\": 0.2}, {\"count\": 5, \"cutoff\": 5, \"User-ID\": 53846, \"precision\": 0.2, \"recall\": 0.2}, {\"count\": 5, \"cutoff\": 6, \"User-ID\": 53846, \"precision\": 0.16666666666666666, \"recall\": 0.2}, {\"count\": 5, \"cutoff\": 7, \"User-ID\": 53846, \"precision\": 0.14285714285714285, \"recall\": 0.2}, {\"count\": 5, \"cutoff\": 8, \"User-ID\": 53846, \"precision\": 0.25, \"recall\": 0.4}, {\"count\": 5, \"cutoff\": 9, \"User-ID\": 53846, \"precision\": 0.3333333333333333, \"recall\": 0.6}, {\"count\": 5, \"cutoff\": 10, \"User-ID\": 53846, \"precision\": 0.3, \"recall\": 0.6}, {\"count\": 5, \"cutoff\": 11, \"User-ID\": 53846, \"precision\": 0.2727272727272727, \"recall\": 0.6}, {\"count\": 5, \"cutoff\": 16, \"User-ID\": 53846, \"precision\": 0.25, \"recall\": 0.8}, {\"count\": 5, \"cutoff\": 21, \"User-ID\": 53846, \"precision\": 0.19047619047619047, \"recall\": 0.8}, {\"count\": 5, \"cutoff\": 26, \"User-ID\": 53846, \"precision\": 0.15384615384615385, \"recall\": 0.8}, {\"count\": 5, \"cutoff\": 31, \"User-ID\": 53846, \"precision\": 0.12903225806451613, \"recall\": 0.8}, {\"count\": 5, \"cutoff\": 36, \"User-ID\": 53846, \"precision\": 0.1388888888888889, \"recall\": 1.0}, {\"count\": 5, \"cutoff\": 41, \"User-ID\": 53846, \"precision\": 0.12195121951219512, \"recall\": 1.0}, {\"count\": 5, \"cutoff\": 46, \"User-ID\": 53846, \"precision\": 0.10869565217391304, \"recall\": 1.0}, {\"count\": 1, \"cutoff\": 1, \"User-ID\": 53916, \"precision\": 0.0, \"recall\": 0.0}, {\"count\": 1, \"cutoff\": 2, \"User-ID\": 53916, \"precision\": 0.0, \"recall\": 0.0}, {\"count\": 1, \"cutoff\": 3, \"User-ID\": 53916, \"precision\": 0.0, \"recall\": 0.0}, {\"count\": 1, \"cutoff\": 4, \"User-ID\": 53916, \"precision\": 0.0, \"recall\": 0.0}, {\"count\": 1, \"cutoff\": 5, \"User-ID\": 53916, \"precision\": 0.0, \"recall\": 0.0}, {\"count\": 1, \"cutoff\": 6, \"User-ID\": 53916, \"precision\": 0.0, \"recall\": 0.0}, {\"count\": 1, \"cutoff\": 7, \"User-ID\": 53916, \"precision\": 0.0, \"recall\": 0.0}, {\"count\": 1, \"cutoff\": 8, \"User-ID\": 53916, \"precision\": 0.0, \"recall\": 0.0}, {\"count\": 1, \"cutoff\": 9, \"User-ID\": 53916, \"precision\": 0.0, \"recall\": 0.0}, {\"count\": 1, \"cutoff\": 10, \"User-ID\": 53916, \"precision\": 0.0, \"recall\": 0.0}, {\"count\": 1, \"cutoff\": 11, \"User-ID\": 53916, \"precision\": 0.0, \"recall\": 0.0}, {\"count\": 1, \"cutoff\": 16, \"User-ID\": 53916, \"precision\": 0.0, \"recall\": 0.0}, {\"count\": 1, \"cutoff\": 21, \"User-ID\": 53916, \"precision\": 0.0, \"recall\": 0.0}, {\"count\": 1, \"cutoff\": 26, \"User-ID\": 53916, \"precision\": 0.0, \"recall\": 0.0}, {\"count\": 1, \"cutoff\": 31, \"User-ID\": 53916, \"precision\": 0.0, \"recall\": 0.0}, {\"count\": 1, \"cutoff\": 36, \"User-ID\": 53916, \"precision\": 0.0, \"recall\": 0.0}, {\"count\": 1, \"cutoff\": 41, \"User-ID\": 53916, \"precision\": 0.024390243902439025, \"recall\": 1.0}, {\"count\": 1, \"cutoff\": 46, \"User-ID\": 53916, \"precision\": 0.021739130434782608, \"recall\": 1.0}, {\"count\": 3, \"cutoff\": 1, \"User-ID\": 55321, \"precision\": 0.0, \"recall\": 0.0}, {\"count\": 3, \"cutoff\": 2, \"User-ID\": 55321, \"precision\": 0.0, \"recall\": 0.0}, {\"count\": 3, \"cutoff\": 3, \"User-ID\": 55321, \"precision\": 0.0, \"recall\": 0.0}, {\"count\": 3, \"cutoff\": 4, \"User-ID\": 55321, \"precision\": 0.0, \"recall\": 0.0}, {\"count\": 3, \"cutoff\": 5, \"User-ID\": 55321, \"precision\": 0.0, \"recall\": 0.0}, {\"count\": 3, \"cutoff\": 6, \"User-ID\": 55321, \"precision\": 0.0, \"recall\": 0.0}, {\"count\": 3, \"cutoff\": 7, \"User-ID\": 55321, \"precision\": 0.0, \"recall\": 0.0}, {\"count\": 3, \"cutoff\": 8, \"User-ID\": 55321, \"precision\": 0.0, \"recall\": 0.0}, {\"count\": 3, \"cutoff\": 9, \"User-ID\": 55321, \"precision\": 0.0, \"recall\": 0.0}, {\"count\": 3, \"cutoff\": 10, \"User-ID\": 55321, \"precision\": 0.0, \"recall\": 0.0}, {\"count\": 3, \"cutoff\": 11, \"User-ID\": 55321, \"precision\": 0.0, \"recall\": 0.0}, {\"count\": 3, \"cutoff\": 16, \"User-ID\": 55321, \"precision\": 0.0, \"recall\": 0.0}, {\"count\": 3, \"cutoff\": 21, \"User-ID\": 55321, \"precision\": 0.0, \"recall\": 0.0}, {\"count\": 3, \"cutoff\": 26, \"User-ID\": 55321, \"precision\": 0.0, \"recall\": 0.0}, {\"count\": 3, \"cutoff\": 31, \"User-ID\": 55321, \"precision\": 0.0, \"recall\": 0.0}, {\"count\": 3, \"cutoff\": 36, \"User-ID\": 55321, \"precision\": 0.0, \"recall\": 0.0}, {\"count\": 3, \"cutoff\": 41, \"User-ID\": 55321, \"precision\": 0.0, \"recall\": 0.0}, {\"count\": 3, \"cutoff\": 46, \"User-ID\": 55321, \"precision\": 0.0, \"recall\": 0.0}, {\"count\": 1, \"cutoff\": 1, \"User-ID\": 55558, \"precision\": 0.0, \"recall\": 0.0}, {\"count\": 1, \"cutoff\": 2, \"User-ID\": 55558, \"precision\": 0.0, \"recall\": 0.0}, {\"count\": 1, \"cutoff\": 3, \"User-ID\": 55558, \"precision\": 0.0, \"recall\": 0.0}, {\"count\": 1, \"cutoff\": 4, \"User-ID\": 55558, \"precision\": 0.0, \"recall\": 0.0}, {\"count\": 1, \"cutoff\": 5, \"User-ID\": 55558, \"precision\": 0.0, \"recall\": 0.0}, {\"count\": 1, \"cutoff\": 6, \"User-ID\": 55558, \"precision\": 0.0, \"recall\": 0.0}, {\"count\": 1, \"cutoff\": 7, \"User-ID\": 55558, \"precision\": 0.0, \"recall\": 0.0}, {\"count\": 1, \"cutoff\": 8, \"User-ID\": 55558, \"precision\": 0.0, \"recall\": 0.0}, {\"count\": 1, \"cutoff\": 9, \"User-ID\": 55558, \"precision\": 0.0, \"recall\": 0.0}, {\"count\": 1, \"cutoff\": 10, \"User-ID\": 55558, \"precision\": 0.0, \"recall\": 0.0}, {\"count\": 1, \"cutoff\": 11, \"User-ID\": 55558, \"precision\": 0.0, \"recall\": 0.0}, {\"count\": 1, \"cutoff\": 16, \"User-ID\": 55558, \"precision\": 0.0, \"recall\": 0.0}, {\"count\": 1, \"cutoff\": 21, \"User-ID\": 55558, \"precision\": 0.0, \"recall\": 0.0}, {\"count\": 1, \"cutoff\": 26, \"User-ID\": 55558, \"precision\": 0.0, \"recall\": 0.0}, {\"count\": 1, \"cutoff\": 31, \"User-ID\": 55558, \"precision\": 0.03225806451612903, \"recall\": 1.0}, {\"count\": 1, \"cutoff\": 36, \"User-ID\": 55558, \"precision\": 0.027777777777777776, \"recall\": 1.0}, {\"count\": 1, \"cutoff\": 41, \"User-ID\": 55558, \"precision\": 0.024390243902439025, \"recall\": 1.0}, {\"count\": 1, \"cutoff\": 46, \"User-ID\": 55558, \"precision\": 0.021739130434782608, \"recall\": 1.0}, {\"count\": 5, \"cutoff\": 1, \"User-ID\": 55970, \"precision\": 0.0, \"recall\": 0.0}, {\"count\": 5, \"cutoff\": 2, \"User-ID\": 55970, \"precision\": 0.0, \"recall\": 0.0}, {\"count\": 5, \"cutoff\": 3, \"User-ID\": 55970, \"precision\": 0.0, \"recall\": 0.0}, {\"count\": 5, \"cutoff\": 4, \"User-ID\": 55970, \"precision\": 0.25, \"recall\": 0.2}, {\"count\": 5, \"cutoff\": 5, \"User-ID\": 55970, \"precision\": 0.2, \"recall\": 0.2}, {\"count\": 5, \"cutoff\": 6, \"User-ID\": 55970, \"precision\": 0.16666666666666666, \"recall\": 0.2}, {\"count\": 5, \"cutoff\": 7, \"User-ID\": 55970, \"precision\": 0.14285714285714285, \"recall\": 0.2}, {\"count\": 5, \"cutoff\": 8, \"User-ID\": 55970, \"precision\": 0.125, \"recall\": 0.2}, {\"count\": 5, \"cutoff\": 9, \"User-ID\": 55970, \"precision\": 0.1111111111111111, \"recall\": 0.2}, {\"count\": 5, \"cutoff\": 10, \"User-ID\": 55970, \"precision\": 0.2, \"recall\": 0.4}, {\"count\": 5, \"cutoff\": 11, \"User-ID\": 55970, \"precision\": 0.2727272727272727, \"recall\": 0.6}, {\"count\": 5, \"cutoff\": 16, \"User-ID\": 55970, \"precision\": 0.1875, \"recall\": 0.6}, {\"count\": 5, \"cutoff\": 21, \"User-ID\": 55970, \"precision\": 0.14285714285714285, \"recall\": 0.6}, {\"count\": 5, \"cutoff\": 26, \"User-ID\": 55970, \"precision\": 0.11538461538461539, \"recall\": 0.6}, {\"count\": 5, \"cutoff\": 31, \"User-ID\": 55970, \"precision\": 0.12903225806451613, \"recall\": 0.8}, {\"count\": 5, \"cutoff\": 36, \"User-ID\": 55970, \"precision\": 0.1388888888888889, \"recall\": 1.0}, {\"count\": 5, \"cutoff\": 41, \"User-ID\": 55970, \"precision\": 0.12195121951219512, \"recall\": 1.0}, {\"count\": 5, \"cutoff\": 46, \"User-ID\": 55970, \"precision\": 0.10869565217391304, \"recall\": 1.0}, {\"count\": 8, \"cutoff\": 1, \"User-ID\": 57618, \"precision\": 0.0, \"recall\": 0.0}, {\"count\": 8, \"cutoff\": 2, \"User-ID\": 57618, \"precision\": 0.0, \"recall\": 0.0}, {\"count\": 8, \"cutoff\": 3, \"User-ID\": 57618, \"precision\": 0.3333333333333333, \"recall\": 0.125}, {\"count\": 8, \"cutoff\": 4, \"User-ID\": 57618, \"precision\": 0.25, \"recall\": 0.125}, {\"count\": 8, \"cutoff\": 5, \"User-ID\": 57618, \"precision\": 0.4, \"recall\": 0.25}, {\"count\": 8, \"cutoff\": 6, \"User-ID\": 57618, \"precision\": 0.3333333333333333, \"recall\": 0.25}, {\"count\": 8, \"cutoff\": 7, \"User-ID\": 57618, \"precision\": 0.42857142857142855, \"recall\": 0.375}, {\"count\": 8, \"cutoff\": 8, \"User-ID\": 57618, \"precision\": 0.375, \"recall\": 0.375}, {\"count\": 8, \"cutoff\": 9, \"User-ID\": 57618, \"precision\": 0.3333333333333333, \"recall\": 0.375}, {\"count\": 8, \"cutoff\": 10, \"User-ID\": 57618, \"precision\": 0.3, \"recall\": 0.375}, {\"count\": 8, \"cutoff\": 11, \"User-ID\": 57618, \"precision\": 0.2727272727272727, \"recall\": 0.375}, {\"count\": 8, \"cutoff\": 16, \"User-ID\": 57618, \"precision\": 0.25, \"recall\": 0.5}, {\"count\": 8, \"cutoff\": 21, \"User-ID\": 57618, \"precision\": 0.23809523809523808, \"recall\": 0.625}, {\"count\": 8, \"cutoff\": 26, \"User-ID\": 57618, \"precision\": 0.19230769230769232, \"recall\": 0.625}, {\"count\": 8, \"cutoff\": 31, \"User-ID\": 57618, \"precision\": 0.1935483870967742, \"recall\": 0.75}, {\"count\": 8, \"cutoff\": 36, \"User-ID\": 57618, \"precision\": 0.16666666666666666, \"recall\": 0.75}, {\"count\": 8, \"cutoff\": 41, \"User-ID\": 57618, \"precision\": 0.14634146341463414, \"recall\": 0.75}, {\"count\": 8, \"cutoff\": 46, \"User-ID\": 57618, \"precision\": 0.15217391304347827, \"recall\": 0.875}, {\"count\": 5, \"cutoff\": 1, \"User-ID\": 57975, \"precision\": 0.0, \"recall\": 0.0}, {\"count\": 5, \"cutoff\": 2, \"User-ID\": 57975, \"precision\": 0.0, \"recall\": 0.0}, {\"count\": 5, \"cutoff\": 3, \"User-ID\": 57975, \"precision\": 0.3333333333333333, \"recall\": 0.2}, {\"count\": 5, \"cutoff\": 4, \"User-ID\": 57975, \"precision\": 0.25, \"recall\": 0.2}, {\"count\": 5, \"cutoff\": 5, \"User-ID\": 57975, \"precision\": 0.2, \"recall\": 0.2}, {\"count\": 5, \"cutoff\": 6, \"User-ID\": 57975, \"precision\": 0.16666666666666666, \"recall\": 0.2}, {\"count\": 5, \"cutoff\": 7, \"User-ID\": 57975, \"precision\": 0.14285714285714285, \"recall\": 0.2}, {\"count\": 5, \"cutoff\": 8, \"User-ID\": 57975, \"precision\": 0.125, \"recall\": 0.2}, {\"count\": 5, \"cutoff\": 9, \"User-ID\": 57975, \"precision\": 0.1111111111111111, \"recall\": 0.2}, {\"count\": 5, \"cutoff\": 10, \"User-ID\": 57975, \"precision\": 0.1, \"recall\": 0.2}, {\"count\": 5, \"cutoff\": 11, \"User-ID\": 57975, \"precision\": 0.09090909090909091, \"recall\": 0.2}, {\"count\": 5, \"cutoff\": 16, \"User-ID\": 57975, \"precision\": 0.125, \"recall\": 0.4}, {\"count\": 5, \"cutoff\": 21, \"User-ID\": 57975, \"precision\": 0.09523809523809523, \"recall\": 0.4}, {\"count\": 5, \"cutoff\": 26, \"User-ID\": 57975, \"precision\": 0.07692307692307693, \"recall\": 0.4}, {\"count\": 5, \"cutoff\": 31, \"User-ID\": 57975, \"precision\": 0.06451612903225806, \"recall\": 0.4}, {\"count\": 5, \"cutoff\": 36, \"User-ID\": 57975, \"precision\": 0.1388888888888889, \"recall\": 1.0}, {\"count\": 5, \"cutoff\": 41, \"User-ID\": 57975, \"precision\": 0.12195121951219512, \"recall\": 1.0}, {\"count\": 5, \"cutoff\": 46, \"User-ID\": 57975, \"precision\": 0.10869565217391304, \"recall\": 1.0}, {\"count\": 1, \"cutoff\": 1, \"User-ID\": 58409, \"precision\": 0.0, \"recall\": 0.0}, {\"count\": 1, \"cutoff\": 2, \"User-ID\": 58409, \"precision\": 0.0, \"recall\": 0.0}, {\"count\": 1, \"cutoff\": 3, \"User-ID\": 58409, \"precision\": 0.0, \"recall\": 0.0}, {\"count\": 1, \"cutoff\": 4, \"User-ID\": 58409, \"precision\": 0.0, \"recall\": 0.0}, {\"count\": 1, \"cutoff\": 5, \"User-ID\": 58409, \"precision\": 0.0, \"recall\": 0.0}, {\"count\": 1, \"cutoff\": 6, \"User-ID\": 58409, \"precision\": 0.0, \"recall\": 0.0}, {\"count\": 1, \"cutoff\": 7, \"User-ID\": 58409, \"precision\": 0.0, \"recall\": 0.0}, {\"count\": 1, \"cutoff\": 8, \"User-ID\": 58409, \"precision\": 0.0, \"recall\": 0.0}, {\"count\": 1, \"cutoff\": 9, \"User-ID\": 58409, \"precision\": 0.0, \"recall\": 0.0}, {\"count\": 1, \"cutoff\": 10, \"User-ID\": 58409, \"precision\": 0.0, \"recall\": 0.0}, {\"count\": 1, \"cutoff\": 11, \"User-ID\": 58409, \"precision\": 0.0, \"recall\": 0.0}, {\"count\": 1, \"cutoff\": 16, \"User-ID\": 58409, \"precision\": 0.0625, \"recall\": 1.0}, {\"count\": 1, \"cutoff\": 21, \"User-ID\": 58409, \"precision\": 0.047619047619047616, \"recall\": 1.0}, {\"count\": 1, \"cutoff\": 26, \"User-ID\": 58409, \"precision\": 0.038461538461538464, \"recall\": 1.0}, {\"count\": 1, \"cutoff\": 31, \"User-ID\": 58409, \"precision\": 0.03225806451612903, \"recall\": 1.0}, {\"count\": 1, \"cutoff\": 36, \"User-ID\": 58409, \"precision\": 0.027777777777777776, \"recall\": 1.0}, {\"count\": 1, \"cutoff\": 41, \"User-ID\": 58409, \"precision\": 0.024390243902439025, \"recall\": 1.0}, {\"count\": 1, \"cutoff\": 46, \"User-ID\": 58409, \"precision\": 0.021739130434782608, \"recall\": 1.0}, {\"count\": 9, \"cutoff\": 1, \"User-ID\": 59687, \"precision\": 1.0, \"recall\": 0.1111111111111111}, {\"count\": 9, \"cutoff\": 2, \"User-ID\": 59687, \"precision\": 1.0, \"recall\": 0.2222222222222222}, {\"count\": 9, \"cutoff\": 3, \"User-ID\": 59687, \"precision\": 0.6666666666666666, \"recall\": 0.2222222222222222}, {\"count\": 9, \"cutoff\": 4, \"User-ID\": 59687, \"precision\": 0.75, \"recall\": 0.3333333333333333}, {\"count\": 9, \"cutoff\": 5, \"User-ID\": 59687, \"precision\": 0.6, \"recall\": 0.3333333333333333}, {\"count\": 9, \"cutoff\": 6, \"User-ID\": 59687, \"precision\": 0.6666666666666666, \"recall\": 0.4444444444444444}, {\"count\": 9, \"cutoff\": 7, \"User-ID\": 59687, \"precision\": 0.5714285714285714, \"recall\": 0.4444444444444444}, {\"count\": 9, \"cutoff\": 8, \"User-ID\": 59687, \"precision\": 0.5, \"recall\": 0.4444444444444444}, {\"count\": 9, \"cutoff\": 9, \"User-ID\": 59687, \"precision\": 0.4444444444444444, \"recall\": 0.4444444444444444}, {\"count\": 9, \"cutoff\": 10, \"User-ID\": 59687, \"precision\": 0.4, \"recall\": 0.4444444444444444}, {\"count\": 9, \"cutoff\": 11, \"User-ID\": 59687, \"precision\": 0.36363636363636365, \"recall\": 0.4444444444444444}, {\"count\": 9, \"cutoff\": 16, \"User-ID\": 59687, \"precision\": 0.3125, \"recall\": 0.5555555555555556}, {\"count\": 9, \"cutoff\": 21, \"User-ID\": 59687, \"precision\": 0.2857142857142857, \"recall\": 0.6666666666666666}, {\"count\": 9, \"cutoff\": 26, \"User-ID\": 59687, \"precision\": 0.2692307692307692, \"recall\": 0.7777777777777778}, {\"count\": 9, \"cutoff\": 31, \"User-ID\": 59687, \"precision\": 0.25806451612903225, \"recall\": 0.8888888888888888}, {\"count\": 9, \"cutoff\": 36, \"User-ID\": 59687, \"precision\": 0.2222222222222222, \"recall\": 0.8888888888888888}, {\"count\": 9, \"cutoff\": 41, \"User-ID\": 59687, \"precision\": 0.1951219512195122, \"recall\": 0.8888888888888888}, {\"count\": 9, \"cutoff\": 46, \"User-ID\": 59687, \"precision\": 0.1956521739130435, \"recall\": 1.0}, {\"count\": 3, \"cutoff\": 1, \"User-ID\": 61098, \"precision\": 0.0, \"recall\": 0.0}, {\"count\": 3, \"cutoff\": 2, \"User-ID\": 61098, \"precision\": 0.0, \"recall\": 0.0}, {\"count\": 3, \"cutoff\": 3, \"User-ID\": 61098, \"precision\": 0.0, \"recall\": 0.0}, {\"count\": 3, \"cutoff\": 4, \"User-ID\": 61098, \"precision\": 0.0, \"recall\": 0.0}, {\"count\": 3, \"cutoff\": 5, \"User-ID\": 61098, \"precision\": 0.0, \"recall\": 0.0}, {\"count\": 3, \"cutoff\": 6, \"User-ID\": 61098, \"precision\": 0.0, \"recall\": 0.0}, {\"count\": 3, \"cutoff\": 7, \"User-ID\": 61098, \"precision\": 0.0, \"recall\": 0.0}, {\"count\": 3, \"cutoff\": 8, \"User-ID\": 61098, \"precision\": 0.0, \"recall\": 0.0}, {\"count\": 3, \"cutoff\": 9, \"User-ID\": 61098, \"precision\": 0.0, \"recall\": 0.0}, {\"count\": 3, \"cutoff\": 10, \"User-ID\": 61098, \"precision\": 0.0, \"recall\": 0.0}, {\"count\": 3, \"cutoff\": 11, \"User-ID\": 61098, \"precision\": 0.09090909090909091, \"recall\": 0.3333333333333333}, {\"count\": 3, \"cutoff\": 16, \"User-ID\": 61098, \"precision\": 0.125, \"recall\": 0.6666666666666666}, {\"count\": 3, \"cutoff\": 21, \"User-ID\": 61098, \"precision\": 0.09523809523809523, \"recall\": 0.6666666666666666}, {\"count\": 3, \"cutoff\": 26, \"User-ID\": 61098, \"precision\": 0.07692307692307693, \"recall\": 0.6666666666666666}, {\"count\": 3, \"cutoff\": 31, \"User-ID\": 61098, \"precision\": 0.06451612903225806, \"recall\": 0.6666666666666666}, {\"count\": 3, \"cutoff\": 36, \"User-ID\": 61098, \"precision\": 0.05555555555555555, \"recall\": 0.6666666666666666}, {\"count\": 3, \"cutoff\": 41, \"User-ID\": 61098, \"precision\": 0.04878048780487805, \"recall\": 0.6666666666666666}, {\"count\": 3, \"cutoff\": 46, \"User-ID\": 61098, \"precision\": 0.043478260869565216, \"recall\": 0.6666666666666666}, {\"count\": 3, \"cutoff\": 1, \"User-ID\": 61709, \"precision\": 1.0, \"recall\": 0.3333333333333333}, {\"count\": 3, \"cutoff\": 2, \"User-ID\": 61709, \"precision\": 0.5, \"recall\": 0.3333333333333333}, {\"count\": 3, \"cutoff\": 3, \"User-ID\": 61709, \"precision\": 0.3333333333333333, \"recall\": 0.3333333333333333}, {\"count\": 3, \"cutoff\": 4, \"User-ID\": 61709, \"precision\": 0.25, \"recall\": 0.3333333333333333}, {\"count\": 3, \"cutoff\": 5, \"User-ID\": 61709, \"precision\": 0.2, \"recall\": 0.3333333333333333}, {\"count\": 3, \"cutoff\": 6, \"User-ID\": 61709, \"precision\": 0.16666666666666666, \"recall\": 0.3333333333333333}, {\"count\": 3, \"cutoff\": 7, \"User-ID\": 61709, \"precision\": 0.14285714285714285, \"recall\": 0.3333333333333333}, {\"count\": 3, \"cutoff\": 8, \"User-ID\": 61709, \"precision\": 0.125, \"recall\": 0.3333333333333333}, {\"count\": 3, \"cutoff\": 9, \"User-ID\": 61709, \"precision\": 0.1111111111111111, \"recall\": 0.3333333333333333}, {\"count\": 3, \"cutoff\": 10, \"User-ID\": 61709, \"precision\": 0.1, \"recall\": 0.3333333333333333}, {\"count\": 3, \"cutoff\": 11, \"User-ID\": 61709, \"precision\": 0.09090909090909091, \"recall\": 0.3333333333333333}, {\"count\": 3, \"cutoff\": 16, \"User-ID\": 61709, \"precision\": 0.0625, \"recall\": 0.3333333333333333}, {\"count\": 3, \"cutoff\": 21, \"User-ID\": 61709, \"precision\": 0.047619047619047616, \"recall\": 0.3333333333333333}, {\"count\": 3, \"cutoff\": 26, \"User-ID\": 61709, \"precision\": 0.07692307692307693, \"recall\": 0.6666666666666666}, {\"count\": 3, \"cutoff\": 31, \"User-ID\": 61709, \"precision\": 0.06451612903225806, \"recall\": 0.6666666666666666}, {\"count\": 3, \"cutoff\": 36, \"User-ID\": 61709, \"precision\": 0.05555555555555555, \"recall\": 0.6666666666666666}, {\"count\": 3, \"cutoff\": 41, \"User-ID\": 61709, \"precision\": 0.04878048780487805, \"recall\": 0.6666666666666666}, {\"count\": 3, \"cutoff\": 46, \"User-ID\": 61709, \"precision\": 0.043478260869565216, \"recall\": 0.6666666666666666}, {\"count\": 12, \"cutoff\": 1, \"User-ID\": 61809, \"precision\": 1.0, \"recall\": 0.08333333333333333}, {\"count\": 12, \"cutoff\": 2, \"User-ID\": 61809, \"precision\": 1.0, \"recall\": 0.16666666666666666}, {\"count\": 12, \"cutoff\": 3, \"User-ID\": 61809, \"precision\": 1.0, \"recall\": 0.25}, {\"count\": 12, \"cutoff\": 4, \"User-ID\": 61809, \"precision\": 1.0, \"recall\": 0.3333333333333333}, {\"count\": 12, \"cutoff\": 5, \"User-ID\": 61809, \"precision\": 1.0, \"recall\": 0.4166666666666667}, {\"count\": 12, \"cutoff\": 6, \"User-ID\": 61809, \"precision\": 0.8333333333333334, \"recall\": 0.4166666666666667}, {\"count\": 12, \"cutoff\": 7, \"User-ID\": 61809, \"precision\": 0.8571428571428571, \"recall\": 0.5}, {\"count\": 12, \"cutoff\": 8, \"User-ID\": 61809, \"precision\": 0.875, \"recall\": 0.5833333333333334}, {\"count\": 12, \"cutoff\": 9, \"User-ID\": 61809, \"precision\": 0.7777777777777778, \"recall\": 0.5833333333333334}, {\"count\": 12, \"cutoff\": 10, \"User-ID\": 61809, \"precision\": 0.8, \"recall\": 0.6666666666666666}, {\"count\": 12, \"cutoff\": 11, \"User-ID\": 61809, \"precision\": 0.7272727272727273, \"recall\": 0.6666666666666666}, {\"count\": 12, \"cutoff\": 16, \"User-ID\": 61809, \"precision\": 0.5625, \"recall\": 0.75}, {\"count\": 12, \"cutoff\": 21, \"User-ID\": 61809, \"precision\": 0.5238095238095238, \"recall\": 0.9166666666666666}, {\"count\": 12, \"cutoff\": 26, \"User-ID\": 61809, \"precision\": 0.4230769230769231, \"recall\": 0.9166666666666666}, {\"count\": 12, \"cutoff\": 31, \"User-ID\": 61809, \"precision\": 0.3548387096774194, \"recall\": 0.9166666666666666}, {\"count\": 12, \"cutoff\": 36, \"User-ID\": 61809, \"precision\": 0.3055555555555556, \"recall\": 0.9166666666666666}, {\"count\": 12, \"cutoff\": 41, \"User-ID\": 61809, \"precision\": 0.2926829268292683, \"recall\": 1.0}, {\"count\": 12, \"cutoff\": 46, \"User-ID\": 61809, \"precision\": 0.2608695652173913, \"recall\": 1.0}, {\"count\": 6, \"cutoff\": 1, \"User-ID\": 61869, \"precision\": 1.0, \"recall\": 0.16666666666666666}, {\"count\": 6, \"cutoff\": 2, \"User-ID\": 61869, \"precision\": 1.0, \"recall\": 0.3333333333333333}, {\"count\": 6, \"cutoff\": 3, \"User-ID\": 61869, \"precision\": 0.6666666666666666, \"recall\": 0.3333333333333333}, {\"count\": 6, \"cutoff\": 4, \"User-ID\": 61869, \"precision\": 0.5, \"recall\": 0.3333333333333333}, {\"count\": 6, \"cutoff\": 5, \"User-ID\": 61869, \"precision\": 0.4, \"recall\": 0.3333333333333333}, {\"count\": 6, \"cutoff\": 6, \"User-ID\": 61869, \"precision\": 0.3333333333333333, \"recall\": 0.3333333333333333}, {\"count\": 6, \"cutoff\": 7, \"User-ID\": 61869, \"precision\": 0.2857142857142857, \"recall\": 0.3333333333333333}, {\"count\": 6, \"cutoff\": 8, \"User-ID\": 61869, \"precision\": 0.375, \"recall\": 0.5}, {\"count\": 6, \"cutoff\": 9, \"User-ID\": 61869, \"precision\": 0.3333333333333333, \"recall\": 0.5}, {\"count\": 6, \"cutoff\": 10, \"User-ID\": 61869, \"precision\": 0.4, \"recall\": 0.6666666666666666}, {\"count\": 6, \"cutoff\": 11, \"User-ID\": 61869, \"precision\": 0.36363636363636365, \"recall\": 0.6666666666666666}, {\"count\": 6, \"cutoff\": 16, \"User-ID\": 61869, \"precision\": 0.375, \"recall\": 1.0}, {\"count\": 6, \"cutoff\": 21, \"User-ID\": 61869, \"precision\": 0.2857142857142857, \"recall\": 1.0}, {\"count\": 6, \"cutoff\": 26, \"User-ID\": 61869, \"precision\": 0.23076923076923078, \"recall\": 1.0}, {\"count\": 6, \"cutoff\": 31, \"User-ID\": 61869, \"precision\": 0.1935483870967742, \"recall\": 1.0}, {\"count\": 6, \"cutoff\": 36, \"User-ID\": 61869, \"precision\": 0.16666666666666666, \"recall\": 1.0}, {\"count\": 6, \"cutoff\": 41, \"User-ID\": 61869, \"precision\": 0.14634146341463414, \"recall\": 1.0}, {\"count\": 6, \"cutoff\": 46, \"User-ID\": 61869, \"precision\": 0.13043478260869565, \"recall\": 1.0}, {\"count\": 7, \"cutoff\": 1, \"User-ID\": 63278, \"precision\": 0.0, \"recall\": 0.0}, {\"count\": 7, \"cutoff\": 2, \"User-ID\": 63278, \"precision\": 0.0, \"recall\": 0.0}, {\"count\": 7, \"cutoff\": 3, \"User-ID\": 63278, \"precision\": 0.3333333333333333, \"recall\": 0.14285714285714285}, {\"count\": 7, \"cutoff\": 4, \"User-ID\": 63278, \"precision\": 0.5, \"recall\": 0.2857142857142857}, {\"count\": 7, \"cutoff\": 5, \"User-ID\": 63278, \"precision\": 0.4, \"recall\": 0.2857142857142857}, {\"count\": 7, \"cutoff\": 6, \"User-ID\": 63278, \"precision\": 0.5, \"recall\": 0.42857142857142855}, {\"count\": 7, \"cutoff\": 7, \"User-ID\": 63278, \"precision\": 0.42857142857142855, \"recall\": 0.42857142857142855}, {\"count\": 7, \"cutoff\": 8, \"User-ID\": 63278, \"precision\": 0.5, \"recall\": 0.5714285714285714}, {\"count\": 7, \"cutoff\": 9, \"User-ID\": 63278, \"precision\": 0.5555555555555556, \"recall\": 0.7142857142857143}, {\"count\": 7, \"cutoff\": 10, \"User-ID\": 63278, \"precision\": 0.5, \"recall\": 0.7142857142857143}, {\"count\": 7, \"cutoff\": 11, \"User-ID\": 63278, \"precision\": 0.45454545454545453, \"recall\": 0.7142857142857143}, {\"count\": 7, \"cutoff\": 16, \"User-ID\": 63278, \"precision\": 0.375, \"recall\": 0.8571428571428571}, {\"count\": 7, \"cutoff\": 21, \"User-ID\": 63278, \"precision\": 0.2857142857142857, \"recall\": 0.8571428571428571}, {\"count\": 7, \"cutoff\": 26, \"User-ID\": 63278, \"precision\": 0.23076923076923078, \"recall\": 0.8571428571428571}, {\"count\": 7, \"cutoff\": 31, \"User-ID\": 63278, \"precision\": 0.1935483870967742, \"recall\": 0.8571428571428571}, {\"count\": 7, \"cutoff\": 36, \"User-ID\": 63278, \"precision\": 0.16666666666666666, \"recall\": 0.8571428571428571}, {\"count\": 7, \"cutoff\": 41, \"User-ID\": 63278, \"precision\": 0.14634146341463414, \"recall\": 0.8571428571428571}, {\"count\": 7, \"cutoff\": 46, \"User-ID\": 63278, \"precision\": 0.15217391304347827, \"recall\": 1.0}, {\"count\": 1, \"cutoff\": 1, \"User-ID\": 63290, \"precision\": 0.0, \"recall\": 0.0}, {\"count\": 1, \"cutoff\": 2, \"User-ID\": 63290, \"precision\": 0.0, \"recall\": 0.0}, {\"count\": 1, \"cutoff\": 3, \"User-ID\": 63290, \"precision\": 0.0, \"recall\": 0.0}, {\"count\": 1, \"cutoff\": 4, \"User-ID\": 63290, \"precision\": 0.0, \"recall\": 0.0}, {\"count\": 1, \"cutoff\": 5, \"User-ID\": 63290, \"precision\": 0.0, \"recall\": 0.0}, {\"count\": 1, \"cutoff\": 6, \"User-ID\": 63290, \"precision\": 0.0, \"recall\": 0.0}, {\"count\": 1, \"cutoff\": 7, \"User-ID\": 63290, \"precision\": 0.0, \"recall\": 0.0}, {\"count\": 1, \"cutoff\": 8, \"User-ID\": 63290, \"precision\": 0.0, \"recall\": 0.0}, {\"count\": 1, \"cutoff\": 9, \"User-ID\": 63290, \"precision\": 0.0, \"recall\": 0.0}, {\"count\": 1, \"cutoff\": 10, \"User-ID\": 63290, \"precision\": 0.0, \"recall\": 0.0}, {\"count\": 1, \"cutoff\": 11, \"User-ID\": 63290, \"precision\": 0.0, \"recall\": 0.0}, {\"count\": 1, \"cutoff\": 16, \"User-ID\": 63290, \"precision\": 0.0, \"recall\": 0.0}, {\"count\": 1, \"cutoff\": 21, \"User-ID\": 63290, \"precision\": 0.047619047619047616, \"recall\": 1.0}, {\"count\": 1, \"cutoff\": 26, \"User-ID\": 63290, \"precision\": 0.038461538461538464, \"recall\": 1.0}, {\"count\": 1, \"cutoff\": 31, \"User-ID\": 63290, \"precision\": 0.03225806451612903, \"recall\": 1.0}, {\"count\": 1, \"cutoff\": 36, \"User-ID\": 63290, \"precision\": 0.027777777777777776, \"recall\": 1.0}, {\"count\": 1, \"cutoff\": 41, \"User-ID\": 63290, \"precision\": 0.024390243902439025, \"recall\": 1.0}, {\"count\": 1, \"cutoff\": 46, \"User-ID\": 63290, \"precision\": 0.021739130434782608, \"recall\": 1.0}, {\"count\": 2, \"cutoff\": 1, \"User-ID\": 63472, \"precision\": 0.0, \"recall\": 0.0}, {\"count\": 2, \"cutoff\": 2, \"User-ID\": 63472, \"precision\": 0.0, \"recall\": 0.0}, {\"count\": 2, \"cutoff\": 3, \"User-ID\": 63472, \"precision\": 0.0, \"recall\": 0.0}, {\"count\": 2, \"cutoff\": 4, \"User-ID\": 63472, \"precision\": 0.0, \"recall\": 0.0}, {\"count\": 2, \"cutoff\": 5, \"User-ID\": 63472, \"precision\": 0.0, \"recall\": 0.0}, {\"count\": 2, \"cutoff\": 6, \"User-ID\": 63472, \"precision\": 0.0, \"recall\": 0.0}, {\"count\": 2, \"cutoff\": 7, \"User-ID\": 63472, \"precision\": 0.0, \"recall\": 0.0}, {\"count\": 2, \"cutoff\": 8, \"User-ID\": 63472, \"precision\": 0.0, \"recall\": 0.0}, {\"count\": 2, \"cutoff\": 9, \"User-ID\": 63472, \"precision\": 0.0, \"recall\": 0.0}, {\"count\": 2, \"cutoff\": 10, \"User-ID\": 63472, \"precision\": 0.0, \"recall\": 0.0}, {\"count\": 2, \"cutoff\": 11, \"User-ID\": 63472, \"precision\": 0.0, \"recall\": 0.0}, {\"count\": 2, \"cutoff\": 16, \"User-ID\": 63472, \"precision\": 0.0, \"recall\": 0.0}, {\"count\": 2, \"cutoff\": 21, \"User-ID\": 63472, \"precision\": 0.0, \"recall\": 0.0}, {\"count\": 2, \"cutoff\": 26, \"User-ID\": 63472, \"precision\": 0.0, \"recall\": 0.0}, {\"count\": 2, \"cutoff\": 31, \"User-ID\": 63472, \"precision\": 0.0, \"recall\": 0.0}, {\"count\": 2, \"cutoff\": 36, \"User-ID\": 63472, \"precision\": 0.0, \"recall\": 0.0}, {\"count\": 2, \"cutoff\": 41, \"User-ID\": 63472, \"precision\": 0.024390243902439025, \"recall\": 0.5}, {\"count\": 2, \"cutoff\": 46, \"User-ID\": 63472, \"precision\": 0.021739130434782608, \"recall\": 0.5}]}]], \"type\": \"Model\"}, \"ipython\": true, \"view_params\": {\"model_type\": \"recommender\", \"view\": \"Comparison\"}, \"model_type\": \"recommender\", \"attributes\": {\"section_titles\": [\"Schema\", \"Statistics\", \"Training summary\", \"Model Parameters\", \"Regularization Settings\", \"Optimization Settings\"], \"sections\": [[[\"User ID\", \"User-ID\"], [\"Item ID\", \"Item-ID\"], [\"Target\", \"rating\"], [\"Additional observation features\", 1], [\"User side features\", []], [\"Item side features\", []]], [[\"Number of observations\", 1760844], [\"Number of users\", 59132], [\"Number of items\", 140]], [[\"Training time\", 32.5761]], [[\"Model class\", \"RankingFactorizationRecommender\"], [\"num_factors\", 8], [\"binary_target\", 0], [\"side_data_factorization\", 1], [\"solver\", \"auto\"], [\"nmf\", 0], [\"max_iterations\", 25]], [[\"regularization\", 0.001], [\"regularization_type\", \"normal\"], [\"linear_regularization\", 0.001], [\"ranking_regularization\", 0.1], [\"unobserved_rating_value\", -1.7976931348623157e+308], [\"num_sampled_negative_examples\", 4], [\"ials_confidence_scaling_type\", \"auto\"], [\"ials_confidence_scaling_factor\", 1]], [[\"init_random_sigma\", 0.01], [\"sgd_convergence_interval\", 4], [\"sgd_convergence_threshold\", 0.0], [\"sgd_max_trial_iterations\", 5], [\"sgd_sampling_block_size\", 131072], [\"sgd_step_adjustment_interval\", 4], [\"sgd_step_size\", 0.0], [\"sgd_trial_sample_minimum_size\", 10000], [\"sgd_trial_sample_proportion\", 0.125], [\"step_size_decrease_rate\", 0.75], [\"additional_iterations_if_unhealthy\", 5], [\"adagrad_momentum_weighting\", 0.9], [\"num_tempering_iterations\", 4], [\"tempering_regularization_start_value\", 0.0], [\"track_exact_loss\", 0]]]}, \"evaluations\": [[\"dataset\", {\"precision_recall_overall\": [{\"cutoff\": 1, \"precision\": 0.2873563218390807, \"recall\": 0.03900818590223887}, {\"cutoff\": 2, \"precision\": 0.2471264367816092, \"recall\": 0.061901611724200396}, {\"cutoff\": 3, \"precision\": 0.22605363984674332, \"recall\": 0.0768995805127739}, {\"cutoff\": 4, \"precision\": 0.2385057471264368, \"recall\": 0.10870868918595057}, {\"cutoff\": 5, \"precision\": 0.23448275862068974, \"recall\": 0.12561996899578107}, {\"cutoff\": 6, \"precision\": 0.23180076628352492, \"recall\": 0.14502406805255386}, {\"cutoff\": 7, \"precision\": 0.2200328407224959, \"recall\": 0.16027248881571718}, {\"cutoff\": 8, \"precision\": 0.22413793103448276, \"recall\": 0.1847440938020648}, {\"cutoff\": 9, \"precision\": 0.22094508301404844, \"recall\": 0.2037468062505544}, {\"cutoff\": 10, \"precision\": 0.22528735632183902, \"recall\": 0.23377331055491973}, {\"cutoff\": 11, \"precision\": 0.21943573667711594, \"recall\": 0.2478084490703182}, {\"cutoff\": 16, \"precision\": 0.20905172413793102, \"recall\": 0.35067362663064805}, {\"cutoff\": 21, \"precision\": 0.1981390257252326, \"recall\": 0.44828708661542244}, {\"cutoff\": 26, \"precision\": 0.18390804597701146, \"recall\": 0.5289116564853696}, {\"cutoff\": 31, \"precision\": 0.16573971078976643, \"recall\": 0.5784629654869535}, {\"cutoff\": 36, \"precision\": 0.1533280257418188, \"recall\": 0.6535012183662858}, {\"cutoff\": 41, \"precision\": 0.1453314479386808, \"recall\": 0.7106447678036881}, {\"cutoff\": 46, \"precision\": 0.14022511608718505, \"recall\": 0.7653704388786846}], \"precision_recall_by_user\": [{\"count\": 11, \"cutoff\": 1, \"User-ID\": 2067, \"precision\": 1.0, \"recall\": 0.09090909090909091}, {\"count\": 11, \"cutoff\": 2, \"User-ID\": 2067, \"precision\": 0.5, \"recall\": 0.09090909090909091}, {\"count\": 11, \"cutoff\": 3, \"User-ID\": 2067, \"precision\": 0.6666666666666666, \"recall\": 0.18181818181818182}, {\"count\": 11, \"cutoff\": 4, \"User-ID\": 2067, \"precision\": 0.5, \"recall\": 0.18181818181818182}, {\"count\": 11, \"cutoff\": 5, \"User-ID\": 2067, \"precision\": 0.4, \"recall\": 0.18181818181818182}, {\"count\": 11, \"cutoff\": 6, \"User-ID\": 2067, \"precision\": 0.3333333333333333, \"recall\": 0.18181818181818182}, {\"count\": 11, \"cutoff\": 7, \"User-ID\": 2067, \"precision\": 0.2857142857142857, \"recall\": 0.18181818181818182}, {\"count\": 11, \"cutoff\": 8, \"User-ID\": 2067, \"precision\": 0.25, \"recall\": 0.18181818181818182}, {\"count\": 11, \"cutoff\": 9, \"User-ID\": 2067, \"precision\": 0.2222222222222222, \"recall\": 0.18181818181818182}, {\"count\": 11, \"cutoff\": 10, \"User-ID\": 2067, \"precision\": 0.3, \"recall\": 0.2727272727272727}, {\"count\": 11, \"cutoff\": 11, \"User-ID\": 2067, \"precision\": 0.2727272727272727, \"recall\": 0.2727272727272727}, {\"count\": 11, \"cutoff\": 16, \"User-ID\": 2067, \"precision\": 0.1875, \"recall\": 0.2727272727272727}, {\"count\": 11, \"cutoff\": 21, \"User-ID\": 2067, \"precision\": 0.14285714285714285, \"recall\": 0.2727272727272727}, {\"count\": 11, \"cutoff\": 26, \"User-ID\": 2067, \"precision\": 0.23076923076923078, \"recall\": 0.5454545454545454}, {\"count\": 11, \"cutoff\": 31, \"User-ID\": 2067, \"precision\": 0.1935483870967742, \"recall\": 0.5454545454545454}, {\"count\": 11, \"cutoff\": 36, \"User-ID\": 2067, \"precision\": 0.19444444444444445, \"recall\": 0.6363636363636364}, {\"count\": 11, \"cutoff\": 41, \"User-ID\": 2067, \"precision\": 0.17073170731707318, \"recall\": 0.6363636363636364}, {\"count\": 11, \"cutoff\": 46, \"User-ID\": 2067, \"precision\": 0.15217391304347827, \"recall\": 0.6363636363636364}, {\"count\": 25, \"cutoff\": 1, \"User-ID\": 3291, \"precision\": 1.0, \"recall\": 0.04}, {\"count\": 25, \"cutoff\": 2, \"User-ID\": 3291, \"precision\": 1.0, \"recall\": 0.08}, {\"count\": 25, \"cutoff\": 3, \"User-ID\": 3291, \"precision\": 1.0, \"recall\": 0.12}, {\"count\": 25, \"cutoff\": 4, \"User-ID\": 3291, \"precision\": 1.0, \"recall\": 0.16}, {\"count\": 25, \"cutoff\": 5, \"User-ID\": 3291, \"precision\": 1.0, \"recall\": 0.2}, {\"count\": 25, \"cutoff\": 6, \"User-ID\": 3291, \"precision\": 1.0, \"recall\": 0.24}, {\"count\": 25, \"cutoff\": 7, \"User-ID\": 3291, \"precision\": 1.0, \"recall\": 0.28}, {\"count\": 25, \"cutoff\": 8, \"User-ID\": 3291, \"precision\": 1.0, \"recall\": 0.32}, {\"count\": 25, \"cutoff\": 9, \"User-ID\": 3291, \"precision\": 1.0, \"recall\": 0.36}, {\"count\": 25, \"cutoff\": 10, \"User-ID\": 3291, \"precision\": 1.0, \"recall\": 0.4}, {\"count\": 25, \"cutoff\": 11, \"User-ID\": 3291, \"precision\": 1.0, \"recall\": 0.44}, {\"count\": 25, \"cutoff\": 16, \"User-ID\": 3291, \"precision\": 1.0, \"recall\": 0.64}, {\"count\": 25, \"cutoff\": 21, \"User-ID\": 3291, \"precision\": 1.0, \"recall\": 0.84}, {\"count\": 25, \"cutoff\": 26, \"User-ID\": 3291, \"precision\": 0.9615384615384616, \"recall\": 1.0}, {\"count\": 25, \"cutoff\": 31, \"User-ID\": 3291, \"precision\": 0.8064516129032258, \"recall\": 1.0}, {\"count\": 25, \"cutoff\": 36, \"User-ID\": 3291, \"precision\": 0.6944444444444444, \"recall\": 1.0}, {\"count\": 25, \"cutoff\": 41, \"User-ID\": 3291, \"precision\": 0.6756756756756757, \"recall\": 1.0}, {\"count\": 25, \"cutoff\": 46, \"User-ID\": 3291, \"precision\": 0.6756756756756757, \"recall\": 1.0}, {\"count\": 6, \"cutoff\": 1, \"User-ID\": 3317, \"precision\": 0.0, \"recall\": 0.0}, {\"count\": 6, \"cutoff\": 2, \"User-ID\": 3317, \"precision\": 0.0, \"recall\": 0.0}, {\"count\": 6, \"cutoff\": 3, \"User-ID\": 3317, \"precision\": 0.0, \"recall\": 0.0}, {\"count\": 6, \"cutoff\": 4, \"User-ID\": 3317, \"precision\": 0.0, \"recall\": 0.0}, {\"count\": 6, \"cutoff\": 5, \"User-ID\": 3317, \"precision\": 0.0, \"recall\": 0.0}, {\"count\": 6, \"cutoff\": 6, \"User-ID\": 3317, \"precision\": 0.0, \"recall\": 0.0}, {\"count\": 6, \"cutoff\": 7, \"User-ID\": 3317, \"precision\": 0.0, \"recall\": 0.0}, {\"count\": 6, \"cutoff\": 8, \"User-ID\": 3317, \"precision\": 0.0, \"recall\": 0.0}, {\"count\": 6, \"cutoff\": 9, \"User-ID\": 3317, \"precision\": 0.0, \"recall\": 0.0}, {\"count\": 6, \"cutoff\": 10, \"User-ID\": 3317, \"precision\": 0.0, \"recall\": 0.0}, {\"count\": 6, \"cutoff\": 11, \"User-ID\": 3317, \"precision\": 0.0, \"recall\": 0.0}, {\"count\": 6, \"cutoff\": 16, \"User-ID\": 3317, \"precision\": 0.0, \"recall\": 0.0}, {\"count\": 6, \"cutoff\": 21, \"User-ID\": 3317, \"precision\": 0.0, \"recall\": 0.0}, {\"count\": 6, \"cutoff\": 26, \"User-ID\": 3317, \"precision\": 0.0, \"recall\": 0.0}, {\"count\": 6, \"cutoff\": 31, \"User-ID\": 3317, \"precision\": 0.0, \"recall\": 0.0}, {\"count\": 6, \"cutoff\": 36, \"User-ID\": 3317, \"precision\": 0.0, \"recall\": 0.0}, {\"count\": 6, \"cutoff\": 41, \"User-ID\": 3317, \"precision\": 0.024390243902439025, \"recall\": 0.16666666666666666}, {\"count\": 6, \"cutoff\": 46, \"User-ID\": 3317, \"precision\": 0.043478260869565216, \"recall\": 0.3333333333333333}, {\"count\": 1, \"cutoff\": 1, \"User-ID\": 4135, \"precision\": 0.0, \"recall\": 0.0}, {\"count\": 1, \"cutoff\": 2, \"User-ID\": 4135, \"precision\": 0.0, \"recall\": 0.0}, {\"count\": 1, \"cutoff\": 3, \"User-ID\": 4135, \"precision\": 0.0, \"recall\": 0.0}, {\"count\": 1, \"cutoff\": 4, \"User-ID\": 4135, \"precision\": 0.0, \"recall\": 0.0}, {\"count\": 1, \"cutoff\": 5, \"User-ID\": 4135, \"precision\": 0.0, \"recall\": 0.0}, {\"count\": 1, \"cutoff\": 6, \"User-ID\": 4135, \"precision\": 0.0, \"recall\": 0.0}, {\"count\": 1, \"cutoff\": 7, \"User-ID\": 4135, \"precision\": 0.0, \"recall\": 0.0}, {\"count\": 1, \"cutoff\": 8, \"User-ID\": 4135, \"precision\": 0.0, \"recall\": 0.0}, {\"count\": 1, \"cutoff\": 9, \"User-ID\": 4135, \"precision\": 0.0, \"recall\": 0.0}, {\"count\": 1, \"cutoff\": 10, \"User-ID\": 4135, \"precision\": 0.0, \"recall\": 0.0}, {\"count\": 1, \"cutoff\": 11, \"User-ID\": 4135, \"precision\": 0.0, \"recall\": 0.0}, {\"count\": 1, \"cutoff\": 16, \"User-ID\": 4135, \"precision\": 0.0625, \"recall\": 1.0}, {\"count\": 1, \"cutoff\": 21, \"User-ID\": 4135, \"precision\": 0.047619047619047616, \"recall\": 1.0}, {\"count\": 1, \"cutoff\": 26, \"User-ID\": 4135, \"precision\": 0.038461538461538464, \"recall\": 1.0}, {\"count\": 1, \"cutoff\": 31, \"User-ID\": 4135, \"precision\": 0.03225806451612903, \"recall\": 1.0}, {\"count\": 1, \"cutoff\": 36, \"User-ID\": 4135, \"precision\": 0.027777777777777776, \"recall\": 1.0}, {\"count\": 1, \"cutoff\": 41, \"User-ID\": 4135, \"precision\": 0.024390243902439025, \"recall\": 1.0}, {\"count\": 1, \"cutoff\": 46, \"User-ID\": 4135, \"precision\": 0.021739130434782608, \"recall\": 1.0}, {\"count\": 2, \"cutoff\": 1, \"User-ID\": 6004, \"precision\": 0.0, \"recall\": 0.0}, {\"count\": 2, \"cutoff\": 2, \"User-ID\": 6004, \"precision\": 0.0, \"recall\": 0.0}, {\"count\": 2, \"cutoff\": 3, \"User-ID\": 6004, \"precision\": 0.0, \"recall\": 0.0}, {\"count\": 2, \"cutoff\": 4, \"User-ID\": 6004, \"precision\": 0.0, \"recall\": 0.0}, {\"count\": 2, \"cutoff\": 5, \"User-ID\": 6004, \"precision\": 0.0, \"recall\": 0.0}, {\"count\": 2, \"cutoff\": 6, \"User-ID\": 6004, \"precision\": 0.0, \"recall\": 0.0}, {\"count\": 2, \"cutoff\": 7, \"User-ID\": 6004, \"precision\": 0.0, \"recall\": 0.0}, {\"count\": 2, \"cutoff\": 8, \"User-ID\": 6004, \"precision\": 0.0, \"recall\": 0.0}, {\"count\": 2, \"cutoff\": 9, \"User-ID\": 6004, \"precision\": 0.0, \"recall\": 0.0}, {\"count\": 2, \"cutoff\": 10, \"User-ID\": 6004, \"precision\": 0.0, \"recall\": 0.0}, {\"count\": 2, \"cutoff\": 11, \"User-ID\": 6004, \"precision\": 0.0, \"recall\": 0.0}, {\"count\": 2, \"cutoff\": 16, \"User-ID\": 6004, \"precision\": 0.0, \"recall\": 0.0}, {\"count\": 2, \"cutoff\": 21, \"User-ID\": 6004, \"precision\": 0.0, \"recall\": 0.0}, {\"count\": 2, \"cutoff\": 26, \"User-ID\": 6004, \"precision\": 0.0, \"recall\": 0.0}, {\"count\": 2, \"cutoff\": 31, \"User-ID\": 6004, \"precision\": 0.0, \"recall\": 0.0}, {\"count\": 2, \"cutoff\": 36, \"User-ID\": 6004, \"precision\": 0.0, \"recall\": 0.0}, {\"count\": 2, \"cutoff\": 41, \"User-ID\": 6004, \"precision\": 0.024390243902439025, \"recall\": 0.5}, {\"count\": 2, \"cutoff\": 46, \"User-ID\": 6004, \"precision\": 0.021739130434782608, \"recall\": 0.5}, {\"count\": 7, \"cutoff\": 1, \"User-ID\": 6651, \"precision\": 0.0, \"recall\": 0.0}, {\"count\": 7, \"cutoff\": 2, \"User-ID\": 6651, \"precision\": 0.0, \"recall\": 0.0}, {\"count\": 7, \"cutoff\": 3, \"User-ID\": 6651, \"precision\": 0.0, \"recall\": 0.0}, {\"count\": 7, \"cutoff\": 4, \"User-ID\": 6651, \"precision\": 0.0, \"recall\": 0.0}, {\"count\": 7, \"cutoff\": 5, \"User-ID\": 6651, \"precision\": 0.0, \"recall\": 0.0}, {\"count\": 7, \"cutoff\": 6, \"User-ID\": 6651, \"precision\": 0.0, \"recall\": 0.0}, {\"count\": 7, \"cutoff\": 7, \"User-ID\": 6651, \"precision\": 0.0, \"recall\": 0.0}, {\"count\": 7, \"cutoff\": 8, \"User-ID\": 6651, \"precision\": 0.0, \"recall\": 0.0}, {\"count\": 7, \"cutoff\": 9, \"User-ID\": 6651, \"precision\": 0.1111111111111111, \"recall\": 0.14285714285714285}, {\"count\": 7, \"cutoff\": 10, \"User-ID\": 6651, \"precision\": 0.1, \"recall\": 0.14285714285714285}, {\"count\": 7, \"cutoff\": 11, \"User-ID\": 6651, \"precision\": 0.09090909090909091, \"recall\": 0.14285714285714285}, {\"count\": 7, \"cutoff\": 16, \"User-ID\": 6651, \"precision\": 0.125, \"recall\": 0.2857142857142857}, {\"count\": 7, \"cutoff\": 21, \"User-ID\": 6651, \"precision\": 0.14285714285714285, \"recall\": 0.42857142857142855}, {\"count\": 7, \"cutoff\": 26, \"User-ID\": 6651, \"precision\": 0.19230769230769232, \"recall\": 0.7142857142857143}, {\"count\": 7, \"cutoff\": 31, \"User-ID\": 6651, \"precision\": 0.1935483870967742, \"recall\": 0.8571428571428571}, {\"count\": 7, \"cutoff\": 36, \"User-ID\": 6651, \"precision\": 0.16666666666666666, \"recall\": 0.8571428571428571}, {\"count\": 7, \"cutoff\": 41, \"User-ID\": 6651, \"precision\": 0.14634146341463414, \"recall\": 0.8571428571428571}, {\"count\": 7, \"cutoff\": 46, \"User-ID\": 6651, \"precision\": 0.13043478260869565, \"recall\": 0.8571428571428571}, {\"count\": 2, \"cutoff\": 1, \"User-ID\": 7492, \"precision\": 0.0, \"recall\": 0.0}, {\"count\": 2, \"cutoff\": 2, \"User-ID\": 7492, \"precision\": 0.0, \"recall\": 0.0}, {\"count\": 2, \"cutoff\": 3, \"User-ID\": 7492, \"precision\": 0.0, \"recall\": 0.0}, {\"count\": 2, \"cutoff\": 4, \"User-ID\": 7492, \"precision\": 0.0, \"recall\": 0.0}, {\"count\": 2, \"cutoff\": 5, \"User-ID\": 7492, \"precision\": 0.0, \"recall\": 0.0}, {\"count\": 2, \"cutoff\": 6, \"User-ID\": 7492, \"precision\": 0.0, \"recall\": 0.0}, {\"count\": 2, \"cutoff\": 7, \"User-ID\": 7492, \"precision\": 0.0, \"recall\": 0.0}, {\"count\": 2, \"cutoff\": 8, \"User-ID\": 7492, \"precision\": 0.0, \"recall\": 0.0}, {\"count\": 2, \"cutoff\": 9, \"User-ID\": 7492, \"precision\": 0.0, \"recall\": 0.0}, {\"count\": 2, \"cutoff\": 10, \"User-ID\": 7492, \"precision\": 0.0, \"recall\": 0.0}, {\"count\": 2, \"cutoff\": 11, \"User-ID\": 7492, \"precision\": 0.0, \"recall\": 0.0}, {\"count\": 2, \"cutoff\": 16, \"User-ID\": 7492, \"precision\": 0.0, \"recall\": 0.0}, {\"count\": 2, \"cutoff\": 21, \"User-ID\": 7492, \"precision\": 0.047619047619047616, \"recall\": 0.5}, {\"count\": 2, \"cutoff\": 26, \"User-ID\": 7492, \"precision\": 0.038461538461538464, \"recall\": 0.5}, {\"count\": 2, \"cutoff\": 31, \"User-ID\": 7492, \"precision\": 0.03225806451612903, \"recall\": 0.5}, {\"count\": 2, \"cutoff\": 36, \"User-ID\": 7492, \"precision\": 0.05555555555555555, \"recall\": 1.0}, {\"count\": 2, \"cutoff\": 41, \"User-ID\": 7492, \"precision\": 0.04878048780487805, \"recall\": 1.0}, {\"count\": 2, \"cutoff\": 46, \"User-ID\": 7492, \"precision\": 0.043478260869565216, \"recall\": 1.0}, {\"count\": 5, \"cutoff\": 1, \"User-ID\": 7747, \"precision\": 0.0, \"recall\": 0.0}, {\"count\": 5, \"cutoff\": 2, \"User-ID\": 7747, \"precision\": 0.0, \"recall\": 0.0}, {\"count\": 5, \"cutoff\": 3, \"User-ID\": 7747, \"precision\": 0.0, \"recall\": 0.0}, {\"count\": 5, \"cutoff\": 4, \"User-ID\": 7747, \"precision\": 0.0, \"recall\": 0.0}, {\"count\": 5, \"cutoff\": 5, \"User-ID\": 7747, \"precision\": 0.0, \"recall\": 0.0}, {\"count\": 5, \"cutoff\": 6, \"User-ID\": 7747, \"precision\": 0.0, \"recall\": 0.0}, {\"count\": 5, \"cutoff\": 7, \"User-ID\": 7747, \"precision\": 0.0, \"recall\": 0.0}, {\"count\": 5, \"cutoff\": 8, \"User-ID\": 7747, \"precision\": 0.0, \"recall\": 0.0}, {\"count\": 5, \"cutoff\": 9, \"User-ID\": 7747, \"precision\": 0.0, \"recall\": 0.0}, {\"count\": 5, \"cutoff\": 10, \"User-ID\": 7747, \"precision\": 0.1, \"recall\": 0.2}, {\"count\": 5, \"cutoff\": 11, \"User-ID\": 7747, \"precision\": 0.09090909090909091, \"recall\": 0.2}, {\"count\": 5, \"cutoff\": 16, \"User-ID\": 7747, \"precision\": 0.125, \"recall\": 0.4}, {\"count\": 5, \"cutoff\": 21, \"User-ID\": 7747, \"precision\": 0.14285714285714285, \"recall\": 0.6}, {\"count\": 5, \"cutoff\": 26, \"User-ID\": 7747, \"precision\": 0.15384615384615385, \"recall\": 0.8}, {\"count\": 5, \"cutoff\": 31, \"User-ID\": 7747, \"precision\": 0.16129032258064516, \"recall\": 1.0}, {\"count\": 5, \"cutoff\": 36, \"User-ID\": 7747, \"precision\": 0.1388888888888889, \"recall\": 1.0}, {\"count\": 5, \"cutoff\": 41, \"User-ID\": 7747, \"precision\": 0.12195121951219512, \"recall\": 1.0}, {\"count\": 5, \"cutoff\": 46, \"User-ID\": 7747, \"precision\": 0.10869565217391304, \"recall\": 1.0}, {\"count\": 3, \"cutoff\": 1, \"User-ID\": 8429, \"precision\": 0.0, \"recall\": 0.0}, {\"count\": 3, \"cutoff\": 2, \"User-ID\": 8429, \"precision\": 0.0, \"recall\": 0.0}, {\"count\": 3, \"cutoff\": 3, \"User-ID\": 8429, \"precision\": 0.0, \"recall\": 0.0}, {\"count\": 3, \"cutoff\": 4, \"User-ID\": 8429, \"precision\": 0.0, \"recall\": 0.0}, {\"count\": 3, \"cutoff\": 5, \"User-ID\": 8429, \"precision\": 0.0, \"recall\": 0.0}, {\"count\": 3, \"cutoff\": 6, \"User-ID\": 8429, \"precision\": 0.0, \"recall\": 0.0}, {\"count\": 3, \"cutoff\": 7, \"User-ID\": 8429, \"precision\": 0.0, \"recall\": 0.0}, {\"count\": 3, \"cutoff\": 8, \"User-ID\": 8429, \"precision\": 0.0, \"recall\": 0.0}, {\"count\": 3, \"cutoff\": 9, \"User-ID\": 8429, \"precision\": 0.1111111111111111, \"recall\": 0.3333333333333333}, {\"count\": 3, \"cutoff\": 10, \"User-ID\": 8429, \"precision\": 0.1, \"recall\": 0.3333333333333333}, {\"count\": 3, \"cutoff\": 11, \"User-ID\": 8429, \"precision\": 0.09090909090909091, \"recall\": 0.3333333333333333}, {\"count\": 3, \"cutoff\": 16, \"User-ID\": 8429, \"precision\": 0.0625, \"recall\": 0.3333333333333333}, {\"count\": 3, \"cutoff\": 21, \"User-ID\": 8429, \"precision\": 0.047619047619047616, \"recall\": 0.3333333333333333}, {\"count\": 3, \"cutoff\": 26, \"User-ID\": 8429, \"precision\": 0.07692307692307693, \"recall\": 0.6666666666666666}, {\"count\": 3, \"cutoff\": 31, \"User-ID\": 8429, \"precision\": 0.06451612903225806, \"recall\": 0.6666666666666666}, {\"count\": 3, \"cutoff\": 36, \"User-ID\": 8429, \"precision\": 0.05555555555555555, \"recall\": 0.6666666666666666}, {\"count\": 3, \"cutoff\": 41, \"User-ID\": 8429, \"precision\": 0.04878048780487805, \"recall\": 0.6666666666666666}, {\"count\": 3, \"cutoff\": 46, \"User-ID\": 8429, \"precision\": 0.043478260869565216, \"recall\": 0.6666666666666666}, {\"count\": 1, \"cutoff\": 1, \"User-ID\": 9601, \"precision\": 0.0, \"recall\": 0.0}, {\"count\": 1, \"cutoff\": 2, \"User-ID\": 9601, \"precision\": 0.0, \"recall\": 0.0}, {\"count\": 1, \"cutoff\": 3, \"User-ID\": 9601, \"precision\": 0.0, \"recall\": 0.0}, {\"count\": 1, \"cutoff\": 4, \"User-ID\": 9601, \"precision\": 0.0, \"recall\": 0.0}, {\"count\": 1, \"cutoff\": 5, \"User-ID\": 9601, \"precision\": 0.0, \"recall\": 0.0}, {\"count\": 1, \"cutoff\": 6, \"User-ID\": 9601, \"precision\": 0.0, \"recall\": 0.0}, {\"count\": 1, \"cutoff\": 7, \"User-ID\": 9601, \"precision\": 0.0, \"recall\": 0.0}, {\"count\": 1, \"cutoff\": 8, \"User-ID\": 9601, \"precision\": 0.0, \"recall\": 0.0}, {\"count\": 1, \"cutoff\": 9, \"User-ID\": 9601, \"precision\": 0.0, \"recall\": 0.0}, {\"count\": 1, \"cutoff\": 10, \"User-ID\": 9601, \"precision\": 0.0, \"recall\": 0.0}, {\"count\": 1, \"cutoff\": 11, \"User-ID\": 9601, \"precision\": 0.0, \"recall\": 0.0}, {\"count\": 1, \"cutoff\": 16, \"User-ID\": 9601, \"precision\": 0.0, \"recall\": 0.0}, {\"count\": 1, \"cutoff\": 21, \"User-ID\": 9601, \"precision\": 0.0, \"recall\": 0.0}, {\"count\": 1, \"cutoff\": 26, \"User-ID\": 9601, \"precision\": 0.0, \"recall\": 0.0}, {\"count\": 1, \"cutoff\": 31, \"User-ID\": 9601, \"precision\": 0.0, \"recall\": 0.0}, {\"count\": 1, \"cutoff\": 36, \"User-ID\": 9601, \"precision\": 0.0, \"recall\": 0.0}, {\"count\": 1, \"cutoff\": 41, \"User-ID\": 9601, \"precision\": 0.0, \"recall\": 0.0}, {\"count\": 1, \"cutoff\": 46, \"User-ID\": 9601, \"precision\": 0.021739130434782608, \"recall\": 1.0}, {\"count\": 2, \"cutoff\": 1, \"User-ID\": 9629, \"precision\": 0.0, \"recall\": 0.0}, {\"count\": 2, \"cutoff\": 2, \"User-ID\": 9629, \"precision\": 0.0, \"recall\": 0.0}, {\"count\": 2, \"cutoff\": 3, \"User-ID\": 9629, \"precision\": 0.0, \"recall\": 0.0}, {\"count\": 2, \"cutoff\": 4, \"User-ID\": 9629, \"precision\": 0.0, \"recall\": 0.0}, {\"count\": 2, \"cutoff\": 5, \"User-ID\": 9629, \"precision\": 0.0, \"recall\": 0.0}, {\"count\": 2, \"cutoff\": 6, \"User-ID\": 9629, \"precision\": 0.0, \"recall\": 0.0}, {\"count\": 2, \"cutoff\": 7, \"User-ID\": 9629, \"precision\": 0.0, \"recall\": 0.0}, {\"count\": 2, \"cutoff\": 8, \"User-ID\": 9629, \"precision\": 0.0, \"recall\": 0.0}, {\"count\": 2, \"cutoff\": 9, \"User-ID\": 9629, \"precision\": 0.0, \"recall\": 0.0}, {\"count\": 2, \"cutoff\": 10, \"User-ID\": 9629, \"precision\": 0.0, \"recall\": 0.0}, {\"count\": 2, \"cutoff\": 11, \"User-ID\": 9629, \"precision\": 0.0, \"recall\": 0.0}, {\"count\": 2, \"cutoff\": 16, \"User-ID\": 9629, \"precision\": 0.0, \"recall\": 0.0}, {\"count\": 2, \"cutoff\": 21, \"User-ID\": 9629, \"precision\": 0.0, \"recall\": 0.0}, {\"count\": 2, \"cutoff\": 26, \"User-ID\": 9629, \"precision\": 0.07692307692307693, \"recall\": 1.0}, {\"count\": 2, \"cutoff\": 31, \"User-ID\": 9629, \"precision\": 0.06451612903225806, \"recall\": 1.0}, {\"count\": 2, \"cutoff\": 36, \"User-ID\": 9629, \"precision\": 0.05555555555555555, \"recall\": 1.0}, {\"count\": 2, \"cutoff\": 41, \"User-ID\": 9629, \"precision\": 0.04878048780487805, \"recall\": 1.0}, {\"count\": 2, \"cutoff\": 46, \"User-ID\": 9629, \"precision\": 0.043478260869565216, \"recall\": 1.0}, {\"count\": 1, \"cutoff\": 1, \"User-ID\": 9721, \"precision\": 0.0, \"recall\": 0.0}, {\"count\": 1, \"cutoff\": 2, \"User-ID\": 9721, \"precision\": 0.0, \"recall\": 0.0}, {\"count\": 1, \"cutoff\": 3, \"User-ID\": 9721, \"precision\": 0.0, \"recall\": 0.0}, {\"count\": 1, \"cutoff\": 4, \"User-ID\": 9721, \"precision\": 0.0, \"recall\": 0.0}, {\"count\": 1, \"cutoff\": 5, \"User-ID\": 9721, \"precision\": 0.0, \"recall\": 0.0}, {\"count\": 1, \"cutoff\": 6, \"User-ID\": 9721, \"precision\": 0.0, \"recall\": 0.0}, {\"count\": 1, \"cutoff\": 7, \"User-ID\": 9721, \"precision\": 0.0, \"recall\": 0.0}, {\"count\": 1, \"cutoff\": 8, \"User-ID\": 9721, \"precision\": 0.0, \"recall\": 0.0}, {\"count\": 1, \"cutoff\": 9, \"User-ID\": 9721, \"precision\": 0.0, \"recall\": 0.0}, {\"count\": 1, \"cutoff\": 10, \"User-ID\": 9721, \"precision\": 0.0, \"recall\": 0.0}, {\"count\": 1, \"cutoff\": 11, \"User-ID\": 9721, \"precision\": 0.0, \"recall\": 0.0}, {\"count\": 1, \"cutoff\": 16, \"User-ID\": 9721, \"precision\": 0.0, \"recall\": 0.0}, {\"count\": 1, \"cutoff\": 21, \"User-ID\": 9721, \"precision\": 0.0, \"recall\": 0.0}, {\"count\": 1, \"cutoff\": 26, \"User-ID\": 9721, \"precision\": 0.0, \"recall\": 0.0}, {\"count\": 1, \"cutoff\": 31, \"User-ID\": 9721, \"precision\": 0.0, \"recall\": 0.0}, {\"count\": 1, \"cutoff\": 36, \"User-ID\": 9721, \"precision\": 0.0, \"recall\": 0.0}, {\"count\": 1, \"cutoff\": 41, \"User-ID\": 9721, \"precision\": 0.0, \"recall\": 0.0}, {\"count\": 1, \"cutoff\": 46, \"User-ID\": 9721, \"precision\": 0.021739130434782608, \"recall\": 1.0}, {\"count\": 1, \"cutoff\": 1, \"User-ID\": 10467, \"precision\": 0.0, \"recall\": 0.0}, {\"count\": 1, \"cutoff\": 2, \"User-ID\": 10467, \"precision\": 0.0, \"recall\": 0.0}, {\"count\": 1, \"cutoff\": 3, \"User-ID\": 10467, \"precision\": 0.0, \"recall\": 0.0}, {\"count\": 1, \"cutoff\": 4, \"User-ID\": 10467, \"precision\": 0.0, \"recall\": 0.0}, {\"count\": 1, \"cutoff\": 5, \"User-ID\": 10467, \"precision\": 0.0, \"recall\": 0.0}, {\"count\": 1, \"cutoff\": 6, \"User-ID\": 10467, \"precision\": 0.0, \"recall\": 0.0}, {\"count\": 1, \"cutoff\": 7, \"User-ID\": 10467, \"precision\": 0.0, \"recall\": 0.0}, {\"count\": 1, \"cutoff\": 8, \"User-ID\": 10467, \"precision\": 0.0, \"recall\": 0.0}, {\"count\": 1, \"cutoff\": 9, \"User-ID\": 10467, \"precision\": 0.0, \"recall\": 0.0}, {\"count\": 1, \"cutoff\": 10, \"User-ID\": 10467, \"precision\": 0.0, \"recall\": 0.0}, {\"count\": 1, \"cutoff\": 11, \"User-ID\": 10467, \"precision\": 0.0, \"recall\": 0.0}, {\"count\": 1, \"cutoff\": 16, \"User-ID\": 10467, \"precision\": 0.0, \"recall\": 0.0}, {\"count\": 1, \"cutoff\": 21, \"User-ID\": 10467, \"precision\": 0.0, \"recall\": 0.0}, {\"count\": 1, \"cutoff\": 26, \"User-ID\": 10467, \"precision\": 0.0, \"recall\": 0.0}, {\"count\": 1, \"cutoff\": 31, \"User-ID\": 10467, \"precision\": 0.0, \"recall\": 0.0}, {\"count\": 1, \"cutoff\": 36, \"User-ID\": 10467, \"precision\": 0.027777777777777776, \"recall\": 1.0}, {\"count\": 1, \"cutoff\": 41, \"User-ID\": 10467, \"precision\": 0.024390243902439025, \"recall\": 1.0}, {\"count\": 1, \"cutoff\": 46, \"User-ID\": 10467, \"precision\": 0.021739130434782608, \"recall\": 1.0}, {\"count\": 4, \"cutoff\": 1, \"User-ID\": 10802, \"precision\": 0.0, \"recall\": 0.0}, {\"count\": 4, \"cutoff\": 2, \"User-ID\": 10802, \"precision\": 0.0, \"recall\": 0.0}, {\"count\": 4, \"cutoff\": 3, \"User-ID\": 10802, \"precision\": 0.0, \"recall\": 0.0}, {\"count\": 4, \"cutoff\": 4, \"User-ID\": 10802, \"precision\": 0.0, \"recall\": 0.0}, {\"count\": 4, \"cutoff\": 5, \"User-ID\": 10802, \"precision\": 0.0, \"recall\": 0.0}, {\"count\": 4, \"cutoff\": 6, \"User-ID\": 10802, \"precision\": 0.0, \"recall\": 0.0}, {\"count\": 4, \"cutoff\": 7, \"User-ID\": 10802, \"precision\": 0.0, \"recall\": 0.0}, {\"count\": 4, \"cutoff\": 8, \"User-ID\": 10802, \"precision\": 0.0, \"recall\": 0.0}, {\"count\": 4, \"cutoff\": 9, \"User-ID\": 10802, \"precision\": 0.0, \"recall\": 0.0}, {\"count\": 4, \"cutoff\": 10, \"User-ID\": 10802, \"precision\": 0.0, \"recall\": 0.0}, {\"count\": 4, \"cutoff\": 11, \"User-ID\": 10802, \"precision\": 0.0, \"recall\": 0.0}, {\"count\": 4, \"cutoff\": 16, \"User-ID\": 10802, \"precision\": 0.0, \"recall\": 0.0}, {\"count\": 4, \"cutoff\": 21, \"User-ID\": 10802, \"precision\": 0.0, \"recall\": 0.0}, {\"count\": 4, \"cutoff\": 26, \"User-ID\": 10802, \"precision\": 0.0, \"recall\": 0.0}, {\"count\": 4, \"cutoff\": 31, \"User-ID\": 10802, \"precision\": 0.0, \"recall\": 0.0}, {\"count\": 4, \"cutoff\": 36, \"User-ID\": 10802, \"precision\": 0.0, \"recall\": 0.0}, {\"count\": 4, \"cutoff\": 41, \"User-ID\": 10802, \"precision\": 0.024390243902439025, \"recall\": 0.25}, {\"count\": 4, \"cutoff\": 46, \"User-ID\": 10802, \"precision\": 0.043478260869565216, \"recall\": 0.5}, {\"count\": 4, \"cutoff\": 1, \"User-ID\": 10815, \"precision\": 0.0, \"recall\": 0.0}, {\"count\": 4, \"cutoff\": 2, \"User-ID\": 10815, \"precision\": 0.0, \"recall\": 0.0}, {\"count\": 4, \"cutoff\": 3, \"User-ID\": 10815, \"precision\": 0.0, \"recall\": 0.0}, {\"count\": 4, \"cutoff\": 4, \"User-ID\": 10815, \"precision\": 0.25, \"recall\": 0.25}, {\"count\": 4, \"cutoff\": 5, \"User-ID\": 10815, \"precision\": 0.2, \"recall\": 0.25}, {\"count\": 4, \"cutoff\": 6, \"User-ID\": 10815, \"precision\": 0.16666666666666666, \"recall\": 0.25}, {\"count\": 4, \"cutoff\": 7, \"User-ID\": 10815, \"precision\": 0.14285714285714285, \"recall\": 0.25}, {\"count\": 4, \"cutoff\": 8, \"User-ID\": 10815, \"precision\": 0.125, \"recall\": 0.25}, {\"count\": 4, \"cutoff\": 9, \"User-ID\": 10815, \"precision\": 0.1111111111111111, \"recall\": 0.25}, {\"count\": 4, \"cutoff\": 10, \"User-ID\": 10815, \"precision\": 0.1, \"recall\": 0.25}, {\"count\": 4, \"cutoff\": 11, \"User-ID\": 10815, \"precision\": 0.09090909090909091, \"recall\": 0.25}, {\"count\": 4, \"cutoff\": 16, \"User-ID\": 10815, \"precision\": 0.0625, \"recall\": 0.25}, {\"count\": 4, \"cutoff\": 21, \"User-ID\": 10815, \"precision\": 0.09523809523809523, \"recall\": 0.5}, {\"count\": 4, \"cutoff\": 26, \"User-ID\": 10815, \"precision\": 0.07692307692307693, \"recall\": 0.5}, {\"count\": 4, \"cutoff\": 31, \"User-ID\": 10815, \"precision\": 0.06451612903225806, \"recall\": 0.5}, {\"count\": 4, \"cutoff\": 36, \"User-ID\": 10815, \"precision\": 0.05555555555555555, \"recall\": 0.5}, {\"count\": 4, \"cutoff\": 41, \"User-ID\": 10815, \"precision\": 0.04878048780487805, \"recall\": 0.5}, {\"count\": 4, \"cutoff\": 46, \"User-ID\": 10815, \"precision\": 0.043478260869565216, \"recall\": 0.5}, {\"count\": 1, \"cutoff\": 1, \"User-ID\": 11117, \"precision\": 0.0, \"recall\": 0.0}, {\"count\": 1, \"cutoff\": 2, \"User-ID\": 11117, \"precision\": 0.0, \"recall\": 0.0}, {\"count\": 1, \"cutoff\": 3, \"User-ID\": 11117, \"precision\": 0.0, \"recall\": 0.0}, {\"count\": 1, \"cutoff\": 4, \"User-ID\": 11117, \"precision\": 0.0, \"recall\": 0.0}, {\"count\": 1, \"cutoff\": 5, \"User-ID\": 11117, \"precision\": 0.0, \"recall\": 0.0}, {\"count\": 1, \"cutoff\": 6, \"User-ID\": 11117, \"precision\": 0.0, \"recall\": 0.0}, {\"count\": 1, \"cutoff\": 7, \"User-ID\": 11117, \"precision\": 0.0, \"recall\": 0.0}, {\"count\": 1, \"cutoff\": 8, \"User-ID\": 11117, \"precision\": 0.0, \"recall\": 0.0}, {\"count\": 1, \"cutoff\": 9, \"User-ID\": 11117, \"precision\": 0.0, \"recall\": 0.0}, {\"count\": 1, \"cutoff\": 10, \"User-ID\": 11117, \"precision\": 0.0, \"recall\": 0.0}, {\"count\": 1, \"cutoff\": 11, \"User-ID\": 11117, \"precision\": 0.0, \"recall\": 0.0}, {\"count\": 1, \"cutoff\": 16, \"User-ID\": 11117, \"precision\": 0.0, \"recall\": 0.0}, {\"count\": 1, \"cutoff\": 21, \"User-ID\": 11117, \"precision\": 0.0, \"recall\": 0.0}, {\"count\": 1, \"cutoff\": 26, \"User-ID\": 11117, \"precision\": 0.0, \"recall\": 0.0}, {\"count\": 1, \"cutoff\": 31, \"User-ID\": 11117, \"precision\": 0.0, \"recall\": 0.0}, {\"count\": 1, \"cutoff\": 36, \"User-ID\": 11117, \"precision\": 0.0, \"recall\": 0.0}, {\"count\": 1, \"cutoff\": 41, \"User-ID\": 11117, \"precision\": 0.0, \"recall\": 0.0}, {\"count\": 1, \"cutoff\": 46, \"User-ID\": 11117, \"precision\": 0.0, \"recall\": 0.0}, {\"count\": 3, \"cutoff\": 1, \"User-ID\": 11654, \"precision\": 0.0, \"recall\": 0.0}, {\"count\": 3, \"cutoff\": 2, \"User-ID\": 11654, \"precision\": 0.0, \"recall\": 0.0}, {\"count\": 3, \"cutoff\": 3, \"User-ID\": 11654, \"precision\": 0.0, \"recall\": 0.0}, {\"count\": 3, \"cutoff\": 4, \"User-ID\": 11654, \"precision\": 0.0, \"recall\": 0.0}, {\"count\": 3, \"cutoff\": 5, \"User-ID\": 11654, \"precision\": 0.0, \"recall\": 0.0}, {\"count\": 3, \"cutoff\": 6, \"User-ID\": 11654, \"precision\": 0.0, \"recall\": 0.0}, {\"count\": 3, \"cutoff\": 7, \"User-ID\": 11654, \"precision\": 0.0, \"recall\": 0.0}, {\"count\": 3, \"cutoff\": 8, \"User-ID\": 11654, \"precision\": 0.125, \"recall\": 0.3333333333333333}, {\"count\": 3, \"cutoff\": 9, \"User-ID\": 11654, \"precision\": 0.1111111111111111, \"recall\": 0.3333333333333333}, {\"count\": 3, \"cutoff\": 10, \"User-ID\": 11654, \"precision\": 0.1, \"recall\": 0.3333333333333333}, {\"count\": 3, \"cutoff\": 11, \"User-ID\": 11654, \"precision\": 0.09090909090909091, \"recall\": 0.3333333333333333}, {\"count\": 3, \"cutoff\": 16, \"User-ID\": 11654, \"precision\": 0.0625, \"recall\": 0.3333333333333333}, {\"count\": 3, \"cutoff\": 21, \"User-ID\": 11654, \"precision\": 0.047619047619047616, \"recall\": 0.3333333333333333}, {\"count\": 3, \"cutoff\": 26, \"User-ID\": 11654, \"precision\": 0.038461538461538464, \"recall\": 0.3333333333333333}, {\"count\": 3, \"cutoff\": 31, \"User-ID\": 11654, \"precision\": 0.03225806451612903, \"recall\": 0.3333333333333333}, {\"count\": 3, \"cutoff\": 36, \"User-ID\": 11654, \"precision\": 0.027777777777777776, \"recall\": 0.3333333333333333}, {\"count\": 3, \"cutoff\": 41, \"User-ID\": 11654, \"precision\": 0.024390243902439025, \"recall\": 0.3333333333333333}, {\"count\": 3, \"cutoff\": 46, \"User-ID\": 11654, \"precision\": 0.021739130434782608, \"recall\": 0.3333333333333333}, {\"count\": 24, \"cutoff\": 1, \"User-ID\": 12227, \"precision\": 1.0, \"recall\": 0.041666666666666664}, {\"count\": 24, \"cutoff\": 2, \"User-ID\": 12227, \"precision\": 1.0, \"recall\": 0.08333333333333333}, {\"count\": 24, \"cutoff\": 3, \"User-ID\": 12227, \"precision\": 1.0, \"recall\": 0.125}, {\"count\": 24, \"cutoff\": 4, \"User-ID\": 12227, \"precision\": 1.0, \"recall\": 0.16666666666666666}, {\"count\": 24, \"cutoff\": 5, \"User-ID\": 12227, \"precision\": 1.0, \"recall\": 0.20833333333333334}, {\"count\": 24, \"cutoff\": 6, \"User-ID\": 12227, \"precision\": 1.0, \"recall\": 0.25}, {\"count\": 24, \"cutoff\": 7, \"User-ID\": 12227, \"precision\": 1.0, \"recall\": 0.2916666666666667}, {\"count\": 24, \"cutoff\": 8, \"User-ID\": 12227, \"precision\": 1.0, \"recall\": 0.3333333333333333}, {\"count\": 24, \"cutoff\": 9, \"User-ID\": 12227, \"precision\": 1.0, \"recall\": 0.375}, {\"count\": 24, \"cutoff\": 10, \"User-ID\": 12227, \"precision\": 1.0, \"recall\": 0.4166666666666667}, {\"count\": 24, \"cutoff\": 11, \"User-ID\": 12227, \"precision\": 1.0, \"recall\": 0.4583333333333333}, {\"count\": 24, \"cutoff\": 16, \"User-ID\": 12227, \"precision\": 1.0, \"recall\": 0.6666666666666666}, {\"count\": 24, \"cutoff\": 21, \"User-ID\": 12227, \"precision\": 1.0, \"recall\": 0.875}, {\"count\": 24, \"cutoff\": 26, \"User-ID\": 12227, \"precision\": 0.9230769230769231, \"recall\": 1.0}, {\"count\": 24, \"cutoff\": 31, \"User-ID\": 12227, \"precision\": 0.7741935483870968, \"recall\": 1.0}, {\"count\": 24, \"cutoff\": 36, \"User-ID\": 12227, \"precision\": 0.6666666666666666, \"recall\": 1.0}, {\"count\": 24, \"cutoff\": 41, \"User-ID\": 12227, \"precision\": 0.6666666666666666, \"recall\": 1.0}, {\"count\": 24, \"cutoff\": 46, \"User-ID\": 12227, \"precision\": 0.6666666666666666, \"recall\": 1.0}, {\"count\": 2, \"cutoff\": 1, \"User-ID\": 13610, \"precision\": 0.0, \"recall\": 0.0}, {\"count\": 2, \"cutoff\": 2, \"User-ID\": 13610, \"precision\": 0.0, \"recall\": 0.0}, {\"count\": 2, \"cutoff\": 3, \"User-ID\": 13610, \"precision\": 0.0, \"recall\": 0.0}, {\"count\": 2, \"cutoff\": 4, \"User-ID\": 13610, \"precision\": 0.0, \"recall\": 0.0}, {\"count\": 2, \"cutoff\": 5, \"User-ID\": 13610, \"precision\": 0.0, \"recall\": 0.0}, {\"count\": 2, \"cutoff\": 6, \"User-ID\": 13610, \"precision\": 0.0, \"recall\": 0.0}, {\"count\": 2, \"cutoff\": 7, \"User-ID\": 13610, \"precision\": 0.0, \"recall\": 0.0}, {\"count\": 2, \"cutoff\": 8, \"User-ID\": 13610, \"precision\": 0.0, \"recall\": 0.0}, {\"count\": 2, \"cutoff\": 9, \"User-ID\": 13610, \"precision\": 0.0, \"recall\": 0.0}, {\"count\": 2, \"cutoff\": 10, \"User-ID\": 13610, \"precision\": 0.0, \"recall\": 0.0}, {\"count\": 2, \"cutoff\": 11, \"User-ID\": 13610, \"precision\": 0.0, \"recall\": 0.0}, {\"count\": 2, \"cutoff\": 16, \"User-ID\": 13610, \"precision\": 0.0, \"recall\": 0.0}, {\"count\": 2, \"cutoff\": 21, \"User-ID\": 13610, \"precision\": 0.0, \"recall\": 0.0}, {\"count\": 2, \"cutoff\": 26, \"User-ID\": 13610, \"precision\": 0.0, \"recall\": 0.0}, {\"count\": 2, \"cutoff\": 31, \"User-ID\": 13610, \"precision\": 0.0, \"recall\": 0.0}, {\"count\": 2, \"cutoff\": 36, \"User-ID\": 13610, \"precision\": 0.0, \"recall\": 0.0}, {\"count\": 2, \"cutoff\": 41, \"User-ID\": 13610, \"precision\": 0.0, \"recall\": 0.0}, {\"count\": 2, \"cutoff\": 46, \"User-ID\": 13610, \"precision\": 0.0, \"recall\": 0.0}, {\"count\": 1, \"cutoff\": 1, \"User-ID\": 13826, \"precision\": 0.0, \"recall\": 0.0}, {\"count\": 1, \"cutoff\": 2, \"User-ID\": 13826, \"precision\": 0.0, \"recall\": 0.0}, {\"count\": 1, \"cutoff\": 3, \"User-ID\": 13826, \"precision\": 0.0, \"recall\": 0.0}, {\"count\": 1, \"cutoff\": 4, \"User-ID\": 13826, \"precision\": 0.0, \"recall\": 0.0}, {\"count\": 1, \"cutoff\": 5, \"User-ID\": 13826, \"precision\": 0.0, \"recall\": 0.0}, {\"count\": 1, \"cutoff\": 6, \"User-ID\": 13826, \"precision\": 0.0, \"recall\": 0.0}, {\"count\": 1, \"cutoff\": 7, \"User-ID\": 13826, \"precision\": 0.0, \"recall\": 0.0}, {\"count\": 1, \"cutoff\": 8, \"User-ID\": 13826, \"precision\": 0.0, \"recall\": 0.0}, {\"count\": 1, \"cutoff\": 9, \"User-ID\": 13826, \"precision\": 0.0, \"recall\": 0.0}, {\"count\": 1, \"cutoff\": 10, \"User-ID\": 13826, \"precision\": 0.0, \"recall\": 0.0}, {\"count\": 1, \"cutoff\": 11, \"User-ID\": 13826, \"precision\": 0.0, \"recall\": 0.0}, {\"count\": 1, \"cutoff\": 16, \"User-ID\": 13826, \"precision\": 0.0, \"recall\": 0.0}, {\"count\": 1, \"cutoff\": 21, \"User-ID\": 13826, \"precision\": 0.0, \"recall\": 0.0}, {\"count\": 1, \"cutoff\": 26, \"User-ID\": 13826, \"precision\": 0.0, \"recall\": 0.0}, {\"count\": 1, \"cutoff\": 31, \"User-ID\": 13826, \"precision\": 0.0, \"recall\": 0.0}, {\"count\": 1, \"cutoff\": 36, \"User-ID\": 13826, \"precision\": 0.027777777777777776, \"recall\": 1.0}, {\"count\": 1, \"cutoff\": 41, \"User-ID\": 13826, \"precision\": 0.024390243902439025, \"recall\": 1.0}, {\"count\": 1, \"cutoff\": 46, \"User-ID\": 13826, \"precision\": 0.021739130434782608, \"recall\": 1.0}, {\"count\": 1, \"cutoff\": 1, \"User-ID\": 13963, \"precision\": 0.0, \"recall\": 0.0}, {\"count\": 1, \"cutoff\": 2, \"User-ID\": 13963, \"precision\": 0.0, \"recall\": 0.0}, {\"count\": 1, \"cutoff\": 3, \"User-ID\": 13963, \"precision\": 0.0, \"recall\": 0.0}, {\"count\": 1, \"cutoff\": 4, \"User-ID\": 13963, \"precision\": 0.0, \"recall\": 0.0}, {\"count\": 1, \"cutoff\": 5, \"User-ID\": 13963, \"precision\": 0.0, \"recall\": 0.0}, {\"count\": 1, \"cutoff\": 6, \"User-ID\": 13963, \"precision\": 0.0, \"recall\": 0.0}, {\"count\": 1, \"cutoff\": 7, \"User-ID\": 13963, \"precision\": 0.0, \"recall\": 0.0}, {\"count\": 1, \"cutoff\": 8, \"User-ID\": 13963, \"precision\": 0.0, \"recall\": 0.0}, {\"count\": 1, \"cutoff\": 9, \"User-ID\": 13963, \"precision\": 0.0, \"recall\": 0.0}, {\"count\": 1, \"cutoff\": 10, \"User-ID\": 13963, \"precision\": 0.0, \"recall\": 0.0}, {\"count\": 1, \"cutoff\": 11, \"User-ID\": 13963, \"precision\": 0.0, \"recall\": 0.0}, {\"count\": 1, \"cutoff\": 16, \"User-ID\": 13963, \"precision\": 0.0, \"recall\": 0.0}, {\"count\": 1, \"cutoff\": 21, \"User-ID\": 13963, \"precision\": 0.0, \"recall\": 0.0}, {\"count\": 1, \"cutoff\": 26, \"User-ID\": 13963, \"precision\": 0.038461538461538464, \"recall\": 1.0}, {\"count\": 1, \"cutoff\": 31, \"User-ID\": 13963, \"precision\": 0.03225806451612903, \"recall\": 1.0}, {\"count\": 1, \"cutoff\": 36, \"User-ID\": 13963, \"precision\": 0.027777777777777776, \"recall\": 1.0}, {\"count\": 1, \"cutoff\": 41, \"User-ID\": 13963, \"precision\": 0.024390243902439025, \"recall\": 1.0}, {\"count\": 1, \"cutoff\": 46, \"User-ID\": 13963, \"precision\": 0.021739130434782608, \"recall\": 1.0}, {\"count\": 4, \"cutoff\": 1, \"User-ID\": 14835, \"precision\": 0.0, \"recall\": 0.0}, {\"count\": 4, \"cutoff\": 2, \"User-ID\": 14835, \"precision\": 0.0, \"recall\": 0.0}, {\"count\": 4, \"cutoff\": 3, \"User-ID\": 14835, \"precision\": 0.0, \"recall\": 0.0}, {\"count\": 4, \"cutoff\": 4, \"User-ID\": 14835, \"precision\": 0.0, \"recall\": 0.0}, {\"count\": 4, \"cutoff\": 5, \"User-ID\": 14835, \"precision\": 0.0, \"recall\": 0.0}, {\"count\": 4, \"cutoff\": 6, \"User-ID\": 14835, \"precision\": 0.0, \"recall\": 0.0}, {\"count\": 4, \"cutoff\": 7, \"User-ID\": 14835, \"precision\": 0.0, \"recall\": 0.0}, {\"count\": 4, \"cutoff\": 8, \"User-ID\": 14835, \"precision\": 0.0, \"recall\": 0.0}, {\"count\": 4, \"cutoff\": 9, \"User-ID\": 14835, \"precision\": 0.0, \"recall\": 0.0}, {\"count\": 4, \"cutoff\": 10, \"User-ID\": 14835, \"precision\": 0.1, \"recall\": 0.25}, {\"count\": 4, \"cutoff\": 11, \"User-ID\": 14835, \"precision\": 0.09090909090909091, \"recall\": 0.25}, {\"count\": 4, \"cutoff\": 16, \"User-ID\": 14835, \"precision\": 0.0625, \"recall\": 0.25}, {\"count\": 4, \"cutoff\": 21, \"User-ID\": 14835, \"precision\": 0.09523809523809523, \"recall\": 0.5}, {\"count\": 4, \"cutoff\": 26, \"User-ID\": 14835, \"precision\": 0.11538461538461539, \"recall\": 0.75}, {\"count\": 4, \"cutoff\": 31, \"User-ID\": 14835, \"precision\": 0.0967741935483871, \"recall\": 0.75}, {\"count\": 4, \"cutoff\": 36, \"User-ID\": 14835, \"precision\": 0.08333333333333333, \"recall\": 0.75}, {\"count\": 4, \"cutoff\": 41, \"User-ID\": 14835, \"precision\": 0.07317073170731707, \"recall\": 0.75}, {\"count\": 4, \"cutoff\": 46, \"User-ID\": 14835, \"precision\": 0.06521739130434782, \"recall\": 0.75}, {\"count\": 12, \"cutoff\": 1, \"User-ID\": 15324, \"precision\": 1.0, \"recall\": 0.08333333333333333}, {\"count\": 12, \"cutoff\": 2, \"User-ID\": 15324, \"precision\": 0.5, \"recall\": 0.08333333333333333}, {\"count\": 12, \"cutoff\": 3, \"User-ID\": 15324, \"precision\": 0.3333333333333333, \"recall\": 0.08333333333333333}, {\"count\": 12, \"cutoff\": 4, \"User-ID\": 15324, \"precision\": 0.5, \"recall\": 0.16666666666666666}, {\"count\": 12, \"cutoff\": 5, \"User-ID\": 15324, \"precision\": 0.6, \"recall\": 0.25}, {\"count\": 12, \"cutoff\": 6, \"User-ID\": 15324, \"precision\": 0.5, \"recall\": 0.25}, {\"count\": 12, \"cutoff\": 7, \"User-ID\": 15324, \"precision\": 0.42857142857142855, \"recall\": 0.25}, {\"count\": 12, \"cutoff\": 8, \"User-ID\": 15324, \"precision\": 0.375, \"recall\": 0.25}, {\"count\": 12, \"cutoff\": 9, \"User-ID\": 15324, \"precision\": 0.3333333333333333, \"recall\": 0.25}, {\"count\": 12, \"cutoff\": 10, \"User-ID\": 15324, \"precision\": 0.3, \"recall\": 0.25}, {\"count\": 12, \"cutoff\": 11, \"User-ID\": 15324, \"precision\": 0.36363636363636365, \"recall\": 0.3333333333333333}, {\"count\": 12, \"cutoff\": 16, \"User-ID\": 15324, \"precision\": 0.3125, \"recall\": 0.4166666666666667}, {\"count\": 12, \"cutoff\": 21, \"User-ID\": 15324, \"precision\": 0.2857142857142857, \"recall\": 0.5}, {\"count\": 12, \"cutoff\": 26, \"User-ID\": 15324, \"precision\": 0.23076923076923078, \"recall\": 0.5}, {\"count\": 12, \"cutoff\": 31, \"User-ID\": 15324, \"precision\": 0.22580645161290322, \"recall\": 0.5833333333333334}, {\"count\": 12, \"cutoff\": 36, \"User-ID\": 15324, \"precision\": 0.25, \"recall\": 0.75}, {\"count\": 12, \"cutoff\": 41, \"User-ID\": 15324, \"precision\": 0.21951219512195122, \"recall\": 0.75}, {\"count\": 12, \"cutoff\": 46, \"User-ID\": 15324, \"precision\": 0.2391304347826087, \"recall\": 0.9166666666666666}, {\"count\": 23, \"cutoff\": 1, \"User-ID\": 16432, \"precision\": 1.0, \"recall\": 0.043478260869565216}, {\"count\": 23, \"cutoff\": 2, \"User-ID\": 16432, \"precision\": 1.0, \"recall\": 0.08695652173913043}, {\"count\": 23, \"cutoff\": 3, \"User-ID\": 16432, \"precision\": 1.0, \"recall\": 0.13043478260869565}, {\"count\": 23, \"cutoff\": 4, \"User-ID\": 16432, \"precision\": 1.0, \"recall\": 0.17391304347826086}, {\"count\": 23, \"cutoff\": 5, \"User-ID\": 16432, \"precision\": 1.0, \"recall\": 0.21739130434782608}, {\"count\": 23, \"cutoff\": 6, \"User-ID\": 16432, \"precision\": 1.0, \"recall\": 0.2608695652173913}, {\"count\": 23, \"cutoff\": 7, \"User-ID\": 16432, \"precision\": 1.0, \"recall\": 0.30434782608695654}, {\"count\": 23, \"cutoff\": 8, \"User-ID\": 16432, \"precision\": 1.0, \"recall\": 0.34782608695652173}, {\"count\": 23, \"cutoff\": 9, \"User-ID\": 16432, \"precision\": 1.0, \"recall\": 0.391304347826087}, {\"count\": 23, \"cutoff\": 10, \"User-ID\": 16432, \"precision\": 1.0, \"recall\": 0.43478260869565216}, {\"count\": 23, \"cutoff\": 11, \"User-ID\": 16432, \"precision\": 1.0, \"recall\": 0.4782608695652174}, {\"count\": 23, \"cutoff\": 16, \"User-ID\": 16432, \"precision\": 1.0, \"recall\": 0.6956521739130435}, {\"count\": 23, \"cutoff\": 21, \"User-ID\": 16432, \"precision\": 1.0, \"recall\": 0.9130434782608695}, {\"count\": 23, \"cutoff\": 26, \"User-ID\": 16432, \"precision\": 0.8846153846153846, \"recall\": 1.0}, {\"count\": 23, \"cutoff\": 31, \"User-ID\": 16432, \"precision\": 0.7419354838709677, \"recall\": 1.0}, {\"count\": 23, \"cutoff\": 36, \"User-ID\": 16432, \"precision\": 0.6571428571428571, \"recall\": 1.0}, {\"count\": 23, \"cutoff\": 41, \"User-ID\": 16432, \"precision\": 0.6571428571428571, \"recall\": 1.0}, {\"count\": 23, \"cutoff\": 46, \"User-ID\": 16432, \"precision\": 0.6571428571428571, \"recall\": 1.0}, {\"count\": 1, \"cutoff\": 1, \"User-ID\": 16609, \"precision\": 0.0, \"recall\": 0.0}, {\"count\": 1, \"cutoff\": 2, \"User-ID\": 16609, \"precision\": 0.0, \"recall\": 0.0}, {\"count\": 1, \"cutoff\": 3, \"User-ID\": 16609, \"precision\": 0.0, \"recall\": 0.0}, {\"count\": 1, \"cutoff\": 4, \"User-ID\": 16609, \"precision\": 0.0, \"recall\": 0.0}, {\"count\": 1, \"cutoff\": 5, \"User-ID\": 16609, \"precision\": 0.0, \"recall\": 0.0}, {\"count\": 1, \"cutoff\": 6, \"User-ID\": 16609, \"precision\": 0.0, \"recall\": 0.0}, {\"count\": 1, \"cutoff\": 7, \"User-ID\": 16609, \"precision\": 0.0, \"recall\": 0.0}, {\"count\": 1, \"cutoff\": 8, \"User-ID\": 16609, \"precision\": 0.0, \"recall\": 0.0}, {\"count\": 1, \"cutoff\": 9, \"User-ID\": 16609, \"precision\": 0.0, \"recall\": 0.0}, {\"count\": 1, \"cutoff\": 10, \"User-ID\": 16609, \"precision\": 0.0, \"recall\": 0.0}, {\"count\": 1, \"cutoff\": 11, \"User-ID\": 16609, \"precision\": 0.0, \"recall\": 0.0}, {\"count\": 1, \"cutoff\": 16, \"User-ID\": 16609, \"precision\": 0.0, \"recall\": 0.0}, {\"count\": 1, \"cutoff\": 21, \"User-ID\": 16609, \"precision\": 0.0, \"recall\": 0.0}, {\"count\": 1, \"cutoff\": 26, \"User-ID\": 16609, \"precision\": 0.0, \"recall\": 0.0}, {\"count\": 1, \"cutoff\": 31, \"User-ID\": 16609, \"precision\": 0.0, \"recall\": 0.0}, {\"count\": 1, \"cutoff\": 36, \"User-ID\": 16609, \"precision\": 0.0, \"recall\": 0.0}, {\"count\": 1, \"cutoff\": 41, \"User-ID\": 16609, \"precision\": 0.0, \"recall\": 0.0}, {\"count\": 1, \"cutoff\": 46, \"User-ID\": 16609, \"precision\": 0.0, \"recall\": 0.0}, {\"count\": 10, \"cutoff\": 1, \"User-ID\": 17818, \"precision\": 1.0, \"recall\": 0.1}, {\"count\": 10, \"cutoff\": 2, \"User-ID\": 17818, \"precision\": 0.5, \"recall\": 0.1}, {\"count\": 10, \"cutoff\": 3, \"User-ID\": 17818, \"precision\": 0.6666666666666666, \"recall\": 0.2}, {\"count\": 10, \"cutoff\": 4, \"User-ID\": 17818, \"precision\": 0.5, \"recall\": 0.2}, {\"count\": 10, \"cutoff\": 5, \"User-ID\": 17818, \"precision\": 0.4, \"recall\": 0.2}, {\"count\": 10, \"cutoff\": 6, \"User-ID\": 17818, \"precision\": 0.3333333333333333, \"recall\": 0.2}, {\"count\": 10, \"cutoff\": 7, \"User-ID\": 17818, \"precision\": 0.2857142857142857, \"recall\": 0.2}, {\"count\": 10, \"cutoff\": 8, \"User-ID\": 17818, \"precision\": 0.375, \"recall\": 0.3}, {\"count\": 10, \"cutoff\": 9, \"User-ID\": 17818, \"precision\": 0.4444444444444444, \"recall\": 0.4}, {\"count\": 10, \"cutoff\": 10, \"User-ID\": 17818, \"precision\": 0.4, \"recall\": 0.4}, {\"count\": 10, \"cutoff\": 11, \"User-ID\": 17818, \"precision\": 0.36363636363636365, \"recall\": 0.4}, {\"count\": 10, \"cutoff\": 16, \"User-ID\": 17818, \"precision\": 0.3125, \"recall\": 0.5}, {\"count\": 10, \"cutoff\": 21, \"User-ID\": 17818, \"precision\": 0.38095238095238093, \"recall\": 0.8}, {\"count\": 10, \"cutoff\": 26, \"User-ID\": 17818, \"precision\": 0.34615384615384615, \"recall\": 0.9}, {\"count\": 10, \"cutoff\": 31, \"User-ID\": 17818, \"precision\": 0.2903225806451613, \"recall\": 0.9}, {\"count\": 10, \"cutoff\": 36, \"User-ID\": 17818, \"precision\": 0.25, \"recall\": 0.9}, {\"count\": 10, \"cutoff\": 41, \"User-ID\": 17818, \"precision\": 0.21951219512195122, \"recall\": 0.9}, {\"count\": 10, \"cutoff\": 46, \"User-ID\": 17818, \"precision\": 0.21739130434782608, \"recall\": 1.0}, {\"count\": 9, \"cutoff\": 1, \"User-ID\": 18091, \"precision\": 0.0, \"recall\": 0.0}, {\"count\": 9, \"cutoff\": 2, \"User-ID\": 18091, \"precision\": 0.0, \"recall\": 0.0}, {\"count\": 9, \"cutoff\": 3, \"User-ID\": 18091, \"precision\": 0.0, \"recall\": 0.0}, {\"count\": 9, \"cutoff\": 4, \"User-ID\": 18091, \"precision\": 0.25, \"recall\": 0.1111111111111111}, {\"count\": 9, \"cutoff\": 5, \"User-ID\": 18091, \"precision\": 0.4, \"recall\": 0.2222222222222222}, {\"count\": 9, \"cutoff\": 6, \"User-ID\": 18091, \"precision\": 0.5, \"recall\": 0.3333333333333333}, {\"count\": 9, \"cutoff\": 7, \"User-ID\": 18091, \"precision\": 0.42857142857142855, \"recall\": 0.3333333333333333}, {\"count\": 9, \"cutoff\": 8, \"User-ID\": 18091, \"precision\": 0.5, \"recall\": 0.4444444444444444}, {\"count\": 9, \"cutoff\": 9, \"User-ID\": 18091, \"precision\": 0.4444444444444444, \"recall\": 0.4444444444444444}, {\"count\": 9, \"cutoff\": 10, \"User-ID\": 18091, \"precision\": 0.5, \"recall\": 0.5555555555555556}, {\"count\": 9, \"cutoff\": 11, \"User-ID\": 18091, \"precision\": 0.5454545454545454, \"recall\": 0.6666666666666666}, {\"count\": 9, \"cutoff\": 16, \"User-ID\": 18091, \"precision\": 0.4375, \"recall\": 0.7777777777777778}, {\"count\": 9, \"cutoff\": 21, \"User-ID\": 18091, \"precision\": 0.3333333333333333, \"recall\": 0.7777777777777778}, {\"count\": 9, \"cutoff\": 26, \"User-ID\": 18091, \"precision\": 0.3076923076923077, \"recall\": 0.8888888888888888}, {\"count\": 9, \"cutoff\": 31, \"User-ID\": 18091, \"precision\": 0.25806451612903225, \"recall\": 0.8888888888888888}, {\"count\": 9, \"cutoff\": 36, \"User-ID\": 18091, \"precision\": 0.2222222222222222, \"recall\": 0.8888888888888888}, {\"count\": 9, \"cutoff\": 41, \"User-ID\": 18091, \"precision\": 0.1951219512195122, \"recall\": 0.8888888888888888}, {\"count\": 9, \"cutoff\": 46, \"User-ID\": 18091, \"precision\": 0.17391304347826086, \"recall\": 0.8888888888888888}, {\"count\": 5, \"cutoff\": 1, \"User-ID\": 18662, \"precision\": 0.0, \"recall\": 0.0}, {\"count\": 5, \"cutoff\": 2, \"User-ID\": 18662, \"precision\": 0.0, \"recall\": 0.0}, {\"count\": 5, \"cutoff\": 3, \"User-ID\": 18662, \"precision\": 0.0, \"recall\": 0.0}, {\"count\": 5, \"cutoff\": 4, \"User-ID\": 18662, \"precision\": 0.0, \"recall\": 0.0}, {\"count\": 5, \"cutoff\": 5, \"User-ID\": 18662, \"precision\": 0.0, \"recall\": 0.0}, {\"count\": 5, \"cutoff\": 6, \"User-ID\": 18662, \"precision\": 0.0, \"recall\": 0.0}, {\"count\": 5, \"cutoff\": 7, \"User-ID\": 18662, \"precision\": 0.0, \"recall\": 0.0}, {\"count\": 5, \"cutoff\": 8, \"User-ID\": 18662, \"precision\": 0.0, \"recall\": 0.0}, {\"count\": 5, \"cutoff\": 9, \"User-ID\": 18662, \"precision\": 0.0, \"recall\": 0.0}, {\"count\": 5, \"cutoff\": 10, \"User-ID\": 18662, \"precision\": 0.0, \"recall\": 0.0}, {\"count\": 5, \"cutoff\": 11, \"User-ID\": 18662, \"precision\": 0.0, \"recall\": 0.0}, {\"count\": 5, \"cutoff\": 16, \"User-ID\": 18662, \"precision\": 0.0625, \"recall\": 0.2}, {\"count\": 5, \"cutoff\": 21, \"User-ID\": 18662, \"precision\": 0.09523809523809523, \"recall\": 0.4}, {\"count\": 5, \"cutoff\": 26, \"User-ID\": 18662, \"precision\": 0.07692307692307693, \"recall\": 0.4}, {\"count\": 5, \"cutoff\": 31, \"User-ID\": 18662, \"precision\": 0.0967741935483871, \"recall\": 0.6}, {\"count\": 5, \"cutoff\": 36, \"User-ID\": 18662, \"precision\": 0.1111111111111111, \"recall\": 0.8}, {\"count\": 5, \"cutoff\": 41, \"User-ID\": 18662, \"precision\": 0.0975609756097561, \"recall\": 0.8}, {\"count\": 5, \"cutoff\": 46, \"User-ID\": 18662, \"precision\": 0.08695652173913043, \"recall\": 0.8}, {\"count\": 3, \"cutoff\": 1, \"User-ID\": 22099, \"precision\": 0.0, \"recall\": 0.0}, {\"count\": 3, \"cutoff\": 2, \"User-ID\": 22099, \"precision\": 0.0, \"recall\": 0.0}, {\"count\": 3, \"cutoff\": 3, \"User-ID\": 22099, \"precision\": 0.0, \"recall\": 0.0}, {\"count\": 3, \"cutoff\": 4, \"User-ID\": 22099, \"precision\": 0.25, \"recall\": 0.3333333333333333}, {\"count\": 3, \"cutoff\": 5, \"User-ID\": 22099, \"precision\": 0.2, \"recall\": 0.3333333333333333}, {\"count\": 3, \"cutoff\": 6, \"User-ID\": 22099, \"precision\": 0.16666666666666666, \"recall\": 0.3333333333333333}, {\"count\": 3, \"cutoff\": 7, \"User-ID\": 22099, \"precision\": 0.14285714285714285, \"recall\": 0.3333333333333333}, {\"count\": 3, \"cutoff\": 8, \"User-ID\": 22099, \"precision\": 0.125, \"recall\": 0.3333333333333333}, {\"count\": 3, \"cutoff\": 9, \"User-ID\": 22099, \"precision\": 0.1111111111111111, \"recall\": 0.3333333333333333}, {\"count\": 3, \"cutoff\": 10, \"User-ID\": 22099, \"precision\": 0.1, \"recall\": 0.3333333333333333}, {\"count\": 3, \"cutoff\": 11, \"User-ID\": 22099, \"precision\": 0.09090909090909091, \"recall\": 0.3333333333333333}, {\"count\": 3, \"cutoff\": 16, \"User-ID\": 22099, \"precision\": 0.0625, \"recall\": 0.3333333333333333}, {\"count\": 3, \"cutoff\": 21, \"User-ID\": 22099, \"precision\": 0.047619047619047616, \"recall\": 0.3333333333333333}, {\"count\": 3, \"cutoff\": 26, \"User-ID\": 22099, \"precision\": 0.038461538461538464, \"recall\": 0.3333333333333333}, {\"count\": 3, \"cutoff\": 31, \"User-ID\": 22099, \"precision\": 0.03225806451612903, \"recall\": 0.3333333333333333}, {\"count\": 3, \"cutoff\": 36, \"User-ID\": 22099, \"precision\": 0.05555555555555555, \"recall\": 0.6666666666666666}, {\"count\": 3, \"cutoff\": 41, \"User-ID\": 22099, \"precision\": 0.04878048780487805, \"recall\": 0.6666666666666666}, {\"count\": 3, \"cutoff\": 46, \"User-ID\": 22099, \"precision\": 0.06521739130434782, \"recall\": 1.0}, {\"count\": 6, \"cutoff\": 1, \"User-ID\": 22169, \"precision\": 0.0, \"recall\": 0.0}, {\"count\": 6, \"cutoff\": 2, \"User-ID\": 22169, \"precision\": 0.0, \"recall\": 0.0}, {\"count\": 6, \"cutoff\": 3, \"User-ID\": 22169, \"precision\": 0.0, \"recall\": 0.0}, {\"count\": 6, \"cutoff\": 4, \"User-ID\": 22169, \"precision\": 0.0, \"recall\": 0.0}, {\"count\": 6, \"cutoff\": 5, \"User-ID\": 22169, \"precision\": 0.0, \"recall\": 0.0}, {\"count\": 6, \"cutoff\": 6, \"User-ID\": 22169, \"precision\": 0.0, \"recall\": 0.0}, {\"count\": 6, \"cutoff\": 7, \"User-ID\": 22169, \"precision\": 0.0, \"recall\": 0.0}, {\"count\": 6, \"cutoff\": 8, \"User-ID\": 22169, \"precision\": 0.0, \"recall\": 0.0}, {\"count\": 6, \"cutoff\": 9, \"User-ID\": 22169, \"precision\": 0.0, \"recall\": 0.0}, {\"count\": 6, \"cutoff\": 10, \"User-ID\": 22169, \"precision\": 0.0, \"recall\": 0.0}, {\"count\": 6, \"cutoff\": 11, \"User-ID\": 22169, \"precision\": 0.0, \"recall\": 0.0}, {\"count\": 6, \"cutoff\": 16, \"User-ID\": 22169, \"precision\": 0.0, \"recall\": 0.0}, {\"count\": 6, \"cutoff\": 21, \"User-ID\": 22169, \"precision\": 0.0, \"recall\": 0.0}, {\"count\": 6, \"cutoff\": 26, \"User-ID\": 22169, \"precision\": 0.038461538461538464, \"recall\": 0.16666666666666666}, {\"count\": 6, \"cutoff\": 31, \"User-ID\": 22169, \"precision\": 0.03225806451612903, \"recall\": 0.16666666666666666}, {\"count\": 6, \"cutoff\": 36, \"User-ID\": 22169, \"precision\": 0.05555555555555555, \"recall\": 0.3333333333333333}, {\"count\": 6, \"cutoff\": 41, \"User-ID\": 22169, \"precision\": 0.0975609756097561, \"recall\": 0.6666666666666666}, {\"count\": 6, \"cutoff\": 46, \"User-ID\": 22169, \"precision\": 0.08695652173913043, \"recall\": 0.6666666666666666}, {\"count\": 11, \"cutoff\": 1, \"User-ID\": 23116, \"precision\": 0.0, \"recall\": 0.0}, {\"count\": 11, \"cutoff\": 2, \"User-ID\": 23116, \"precision\": 0.5, \"recall\": 0.09090909090909091}, {\"count\": 11, \"cutoff\": 3, \"User-ID\": 23116, \"precision\": 0.3333333333333333, \"recall\": 0.09090909090909091}, {\"count\": 11, \"cutoff\": 4, \"User-ID\": 23116, \"precision\": 0.25, \"recall\": 0.09090909090909091}, {\"count\": 11, \"cutoff\": 5, \"User-ID\": 23116, \"precision\": 0.2, \"recall\": 0.09090909090909091}, {\"count\": 11, \"cutoff\": 6, \"User-ID\": 23116, \"precision\": 0.3333333333333333, \"recall\": 0.18181818181818182}, {\"count\": 11, \"cutoff\": 7, \"User-ID\": 23116, \"precision\": 0.2857142857142857, \"recall\": 0.18181818181818182}, {\"count\": 11, \"cutoff\": 8, \"User-ID\": 23116, \"precision\": 0.375, \"recall\": 0.2727272727272727}, {\"count\": 11, \"cutoff\": 9, \"User-ID\": 23116, \"precision\": 0.4444444444444444, \"recall\": 0.36363636363636365}, {\"count\": 11, \"cutoff\": 10, \"User-ID\": 23116, \"precision\": 0.5, \"recall\": 0.45454545454545453}, {\"count\": 11, \"cutoff\": 11, \"User-ID\": 23116, \"precision\": 0.45454545454545453, \"recall\": 0.45454545454545453}, {\"count\": 11, \"cutoff\": 16, \"User-ID\": 23116, \"precision\": 0.4375, \"recall\": 0.6363636363636364}, {\"count\": 11, \"cutoff\": 21, \"User-ID\": 23116, \"precision\": 0.38095238095238093, \"recall\": 0.7272727272727273}, {\"count\": 11, \"cutoff\": 26, \"User-ID\": 23116, \"precision\": 0.3076923076923077, \"recall\": 0.7272727272727273}, {\"count\": 11, \"cutoff\": 31, \"User-ID\": 23116, \"precision\": 0.25806451612903225, \"recall\": 0.7272727272727273}, {\"count\": 11, \"cutoff\": 36, \"User-ID\": 23116, \"precision\": 0.2222222222222222, \"recall\": 0.7272727272727273}, {\"count\": 11, \"cutoff\": 41, \"User-ID\": 23116, \"precision\": 0.21951219512195122, \"recall\": 0.8181818181818182}, {\"count\": 11, \"cutoff\": 46, \"User-ID\": 23116, \"precision\": 0.21739130434782608, \"recall\": 0.9090909090909091}, {\"count\": 2, \"cutoff\": 1, \"User-ID\": 23821, \"precision\": 0.0, \"recall\": 0.0}, {\"count\": 2, \"cutoff\": 2, \"User-ID\": 23821, \"precision\": 0.5, \"recall\": 0.5}, {\"count\": 2, \"cutoff\": 3, \"User-ID\": 23821, \"precision\": 0.3333333333333333, \"recall\": 0.5}, {\"count\": 2, \"cutoff\": 4, \"User-ID\": 23821, \"precision\": 0.25, \"recall\": 0.5}, {\"count\": 2, \"cutoff\": 5, \"User-ID\": 23821, \"precision\": 0.2, \"recall\": 0.5}, {\"count\": 2, \"cutoff\": 6, \"User-ID\": 23821, \"precision\": 0.16666666666666666, \"recall\": 0.5}, {\"count\": 2, \"cutoff\": 7, \"User-ID\": 23821, \"precision\": 0.14285714285714285, \"recall\": 0.5}, {\"count\": 2, \"cutoff\": 8, \"User-ID\": 23821, \"precision\": 0.125, \"recall\": 0.5}, {\"count\": 2, \"cutoff\": 9, \"User-ID\": 23821, \"precision\": 0.1111111111111111, \"recall\": 0.5}, {\"count\": 2, \"cutoff\": 10, \"User-ID\": 23821, \"precision\": 0.1, \"recall\": 0.5}, {\"count\": 2, \"cutoff\": 11, \"User-ID\": 23821, \"precision\": 0.09090909090909091, \"recall\": 0.5}, {\"count\": 2, \"cutoff\": 16, \"User-ID\": 23821, \"precision\": 0.125, \"recall\": 1.0}, {\"count\": 2, \"cutoff\": 21, \"User-ID\": 23821, \"precision\": 0.09523809523809523, \"recall\": 1.0}, {\"count\": 2, \"cutoff\": 26, \"User-ID\": 23821, \"precision\": 0.07692307692307693, \"recall\": 1.0}, {\"count\": 2, \"cutoff\": 31, \"User-ID\": 23821, \"precision\": 0.06451612903225806, \"recall\": 1.0}, {\"count\": 2, \"cutoff\": 36, \"User-ID\": 23821, \"precision\": 0.05555555555555555, \"recall\": 1.0}, {\"count\": 2, \"cutoff\": 41, \"User-ID\": 23821, \"precision\": 0.04878048780487805, \"recall\": 1.0}, {\"count\": 2, \"cutoff\": 46, \"User-ID\": 23821, \"precision\": 0.043478260869565216, \"recall\": 1.0}, {\"count\": 12, \"cutoff\": 1, \"User-ID\": 24857, \"precision\": 1.0, \"recall\": 0.08333333333333333}, {\"count\": 12, \"cutoff\": 2, \"User-ID\": 24857, \"precision\": 0.5, \"recall\": 0.08333333333333333}, {\"count\": 12, \"cutoff\": 3, \"User-ID\": 24857, \"precision\": 0.3333333333333333, \"recall\": 0.08333333333333333}, {\"count\": 12, \"cutoff\": 4, \"User-ID\": 24857, \"precision\": 0.5, \"recall\": 0.16666666666666666}, {\"count\": 12, \"cutoff\": 5, \"User-ID\": 24857, \"precision\": 0.4, \"recall\": 0.16666666666666666}, {\"count\": 12, \"cutoff\": 6, \"User-ID\": 24857, \"precision\": 0.5, \"recall\": 0.25}, {\"count\": 12, \"cutoff\": 7, \"User-ID\": 24857, \"precision\": 0.42857142857142855, \"recall\": 0.25}, {\"count\": 12, \"cutoff\": 8, \"User-ID\": 24857, \"precision\": 0.5, \"recall\": 0.3333333333333333}, {\"count\": 12, \"cutoff\": 9, \"User-ID\": 24857, \"precision\": 0.4444444444444444, \"recall\": 0.3333333333333333}, {\"count\": 12, \"cutoff\": 10, \"User-ID\": 24857, \"precision\": 0.4, \"recall\": 0.3333333333333333}, {\"count\": 12, \"cutoff\": 11, \"User-ID\": 24857, \"precision\": 0.36363636363636365, \"recall\": 0.3333333333333333}, {\"count\": 12, \"cutoff\": 16, \"User-ID\": 24857, \"precision\": 0.375, \"recall\": 0.5}, {\"count\": 12, \"cutoff\": 21, \"User-ID\": 24857, \"precision\": 0.3333333333333333, \"recall\": 0.5833333333333334}, {\"count\": 12, \"cutoff\": 26, \"User-ID\": 24857, \"precision\": 0.2692307692307692, \"recall\": 0.5833333333333334}, {\"count\": 12, \"cutoff\": 31, \"User-ID\": 24857, \"precision\": 0.2903225806451613, \"recall\": 0.75}, {\"count\": 12, \"cutoff\": 36, \"User-ID\": 24857, \"precision\": 0.3055555555555556, \"recall\": 0.9166666666666666}, {\"count\": 12, \"cutoff\": 41, \"User-ID\": 24857, \"precision\": 0.2682926829268293, \"recall\": 0.9166666666666666}, {\"count\": 12, \"cutoff\": 46, \"User-ID\": 24857, \"precision\": 0.2391304347826087, \"recall\": 0.9166666666666666}, {\"count\": 2, \"cutoff\": 1, \"User-ID\": 25898, \"precision\": 0.0, \"recall\": 0.0}, {\"count\": 2, \"cutoff\": 2, \"User-ID\": 25898, \"precision\": 0.0, \"recall\": 0.0}, {\"count\": 2, \"cutoff\": 3, \"User-ID\": 25898, \"precision\": 0.0, \"recall\": 0.0}, {\"count\": 2, \"cutoff\": 4, \"User-ID\": 25898, \"precision\": 0.0, \"recall\": 0.0}, {\"count\": 2, \"cutoff\": 5, \"User-ID\": 25898, \"precision\": 0.0, \"recall\": 0.0}, {\"count\": 2, \"cutoff\": 6, \"User-ID\": 25898, \"precision\": 0.0, \"recall\": 0.0}, {\"count\": 2, \"cutoff\": 7, \"User-ID\": 25898, \"precision\": 0.0, \"recall\": 0.0}, {\"count\": 2, \"cutoff\": 8, \"User-ID\": 25898, \"precision\": 0.0, \"recall\": 0.0}, {\"count\": 2, \"cutoff\": 9, \"User-ID\": 25898, \"precision\": 0.0, \"recall\": 0.0}, {\"count\": 2, \"cutoff\": 10, \"User-ID\": 25898, \"precision\": 0.0, \"recall\": 0.0}, {\"count\": 2, \"cutoff\": 11, \"User-ID\": 25898, \"precision\": 0.0, \"recall\": 0.0}, {\"count\": 2, \"cutoff\": 16, \"User-ID\": 25898, \"precision\": 0.0, \"recall\": 0.0}, {\"count\": 2, \"cutoff\": 21, \"User-ID\": 25898, \"precision\": 0.0, \"recall\": 0.0}, {\"count\": 2, \"cutoff\": 26, \"User-ID\": 25898, \"precision\": 0.0, \"recall\": 0.0}, {\"count\": 2, \"cutoff\": 31, \"User-ID\": 25898, \"precision\": 0.0, \"recall\": 0.0}, {\"count\": 2, \"cutoff\": 36, \"User-ID\": 25898, \"precision\": 0.0, \"recall\": 0.0}, {\"count\": 2, \"cutoff\": 41, \"User-ID\": 25898, \"precision\": 0.024390243902439025, \"recall\": 0.5}, {\"count\": 2, \"cutoff\": 46, \"User-ID\": 25898, \"precision\": 0.021739130434782608, \"recall\": 0.5}, {\"count\": 4, \"cutoff\": 1, \"User-ID\": 26095, \"precision\": 0.0, \"recall\": 0.0}, {\"count\": 4, \"cutoff\": 2, \"User-ID\": 26095, \"precision\": 0.5, \"recall\": 0.25}, {\"count\": 4, \"cutoff\": 3, \"User-ID\": 26095, \"precision\": 0.3333333333333333, \"recall\": 0.25}, {\"count\": 4, \"cutoff\": 4, \"User-ID\": 26095, \"precision\": 0.25, \"recall\": 0.25}, {\"count\": 4, \"cutoff\": 5, \"User-ID\": 26095, \"precision\": 0.2, \"recall\": 0.25}, {\"count\": 4, \"cutoff\": 6, \"User-ID\": 26095, \"precision\": 0.16666666666666666, \"recall\": 0.25}, {\"count\": 4, \"cutoff\": 7, \"User-ID\": 26095, \"precision\": 0.14285714285714285, \"recall\": 0.25}, {\"count\": 4, \"cutoff\": 8, \"User-ID\": 26095, \"precision\": 0.125, \"recall\": 0.25}, {\"count\": 4, \"cutoff\": 9, \"User-ID\": 26095, \"precision\": 0.1111111111111111, \"recall\": 0.25}, {\"count\": 4, \"cutoff\": 10, \"User-ID\": 26095, \"precision\": 0.1, \"recall\": 0.25}, {\"count\": 4, \"cutoff\": 11, \"User-ID\": 26095, \"precision\": 0.09090909090909091, \"recall\": 0.25}, {\"count\": 4, \"cutoff\": 16, \"User-ID\": 26095, \"precision\": 0.0625, \"recall\": 0.25}, {\"count\": 4, \"cutoff\": 21, \"User-ID\": 26095, \"precision\": 0.09523809523809523, \"recall\": 0.5}, {\"count\": 4, \"cutoff\": 26, \"User-ID\": 26095, \"precision\": 0.07692307692307693, \"recall\": 0.5}, {\"count\": 4, \"cutoff\": 31, \"User-ID\": 26095, \"precision\": 0.12903225806451613, \"recall\": 1.0}, {\"count\": 4, \"cutoff\": 36, \"User-ID\": 26095, \"precision\": 0.1111111111111111, \"recall\": 1.0}, {\"count\": 4, \"cutoff\": 41, \"User-ID\": 26095, \"precision\": 0.0975609756097561, \"recall\": 1.0}, {\"count\": 4, \"cutoff\": 46, \"User-ID\": 26095, \"precision\": 0.08695652173913043, \"recall\": 1.0}, {\"count\": 2, \"cutoff\": 1, \"User-ID\": 26798, \"precision\": 0.0, \"recall\": 0.0}, {\"count\": 2, \"cutoff\": 2, \"User-ID\": 26798, \"precision\": 0.0, \"recall\": 0.0}, {\"count\": 2, \"cutoff\": 3, \"User-ID\": 26798, \"precision\": 0.0, \"recall\": 0.0}, {\"count\": 2, \"cutoff\": 4, \"User-ID\": 26798, \"precision\": 0.0, \"recall\": 0.0}, {\"count\": 2, \"cutoff\": 5, \"User-ID\": 26798, \"precision\": 0.0, \"recall\": 0.0}, {\"count\": 2, \"cutoff\": 6, \"User-ID\": 26798, \"precision\": 0.0, \"recall\": 0.0}, {\"count\": 2, \"cutoff\": 7, \"User-ID\": 26798, \"precision\": 0.0, \"recall\": 0.0}, {\"count\": 2, \"cutoff\": 8, \"User-ID\": 26798, \"precision\": 0.0, \"recall\": 0.0}, {\"count\": 2, \"cutoff\": 9, \"User-ID\": 26798, \"precision\": 0.0, \"recall\": 0.0}, {\"count\": 2, \"cutoff\": 10, \"User-ID\": 26798, \"precision\": 0.0, \"recall\": 0.0}, {\"count\": 2, \"cutoff\": 11, \"User-ID\": 26798, \"precision\": 0.0, \"recall\": 0.0}, {\"count\": 2, \"cutoff\": 16, \"User-ID\": 26798, \"precision\": 0.0, \"recall\": 0.0}, {\"count\": 2, \"cutoff\": 21, \"User-ID\": 26798, \"precision\": 0.0, \"recall\": 0.0}, {\"count\": 2, \"cutoff\": 26, \"User-ID\": 26798, \"precision\": 0.0, \"recall\": 0.0}, {\"count\": 2, \"cutoff\": 31, \"User-ID\": 26798, \"precision\": 0.0, \"recall\": 0.0}, {\"count\": 2, \"cutoff\": 36, \"User-ID\": 26798, \"precision\": 0.0, \"recall\": 0.0}, {\"count\": 2, \"cutoff\": 41, \"User-ID\": 26798, \"precision\": 0.0, \"recall\": 0.0}, {\"count\": 2, \"cutoff\": 46, \"User-ID\": 26798, \"precision\": 0.021739130434782608, \"recall\": 0.5}, {\"count\": 7, \"cutoff\": 1, \"User-ID\": 27825, \"precision\": 1.0, \"recall\": 0.14285714285714285}, {\"count\": 7, \"cutoff\": 2, \"User-ID\": 27825, \"precision\": 0.5, \"recall\": 0.14285714285714285}, {\"count\": 7, \"cutoff\": 3, \"User-ID\": 27825, \"precision\": 0.3333333333333333, \"recall\": 0.14285714285714285}, {\"count\": 7, \"cutoff\": 4, \"User-ID\": 27825, \"precision\": 0.25, \"recall\": 0.14285714285714285}, {\"count\": 7, \"cutoff\": 5, \"User-ID\": 27825, \"precision\": 0.4, \"recall\": 0.2857142857142857}, {\"count\": 7, \"cutoff\": 6, \"User-ID\": 27825, \"precision\": 0.3333333333333333, \"recall\": 0.2857142857142857}, {\"count\": 7, \"cutoff\": 7, \"User-ID\": 27825, \"precision\": 0.2857142857142857, \"recall\": 0.2857142857142857}, {\"count\": 7, \"cutoff\": 8, \"User-ID\": 27825, \"precision\": 0.25, \"recall\": 0.2857142857142857}, {\"count\": 7, \"cutoff\": 9, \"User-ID\": 27825, \"precision\": 0.2222222222222222, \"recall\": 0.2857142857142857}, {\"count\": 7, \"cutoff\": 10, \"User-ID\": 27825, \"precision\": 0.3, \"recall\": 0.42857142857142855}, {\"count\": 7, \"cutoff\": 11, \"User-ID\": 27825, \"precision\": 0.2727272727272727, \"recall\": 0.42857142857142855}, {\"count\": 7, \"cutoff\": 16, \"User-ID\": 27825, \"precision\": 0.375, \"recall\": 0.8571428571428571}, {\"count\": 7, \"cutoff\": 21, \"User-ID\": 27825, \"precision\": 0.2857142857142857, \"recall\": 0.8571428571428571}, {\"count\": 7, \"cutoff\": 26, \"User-ID\": 27825, \"precision\": 0.23076923076923078, \"recall\": 0.8571428571428571}, {\"count\": 7, \"cutoff\": 31, \"User-ID\": 27825, \"precision\": 0.1935483870967742, \"recall\": 0.8571428571428571}, {\"count\": 7, \"cutoff\": 36, \"User-ID\": 27825, \"precision\": 0.16666666666666666, \"recall\": 0.8571428571428571}, {\"count\": 7, \"cutoff\": 41, \"User-ID\": 27825, \"precision\": 0.14634146341463414, \"recall\": 0.8571428571428571}, {\"count\": 7, \"cutoff\": 46, \"User-ID\": 27825, \"precision\": 0.13043478260869565, \"recall\": 0.8571428571428571}, {\"count\": 9, \"cutoff\": 1, \"User-ID\": 27875, \"precision\": 1.0, \"recall\": 0.1111111111111111}, {\"count\": 9, \"cutoff\": 2, \"User-ID\": 27875, \"precision\": 0.5, \"recall\": 0.1111111111111111}, {\"count\": 9, \"cutoff\": 3, \"User-ID\": 27875, \"precision\": 0.3333333333333333, \"recall\": 0.1111111111111111}, {\"count\": 9, \"cutoff\": 4, \"User-ID\": 27875, \"precision\": 0.25, \"recall\": 0.1111111111111111}, {\"count\": 9, \"cutoff\": 5, \"User-ID\": 27875, \"precision\": 0.4, \"recall\": 0.2222222222222222}, {\"count\": 9, \"cutoff\": 6, \"User-ID\": 27875, \"precision\": 0.3333333333333333, \"recall\": 0.2222222222222222}, {\"count\": 9, \"cutoff\": 7, \"User-ID\": 27875, \"precision\": 0.2857142857142857, \"recall\": 0.2222222222222222}, {\"count\": 9, \"cutoff\": 8, \"User-ID\": 27875, \"precision\": 0.25, \"recall\": 0.2222222222222222}, {\"count\": 9, \"cutoff\": 9, \"User-ID\": 27875, \"precision\": 0.2222222222222222, \"recall\": 0.2222222222222222}, {\"count\": 9, \"cutoff\": 10, \"User-ID\": 27875, \"precision\": 0.2, \"recall\": 0.2222222222222222}, {\"count\": 9, \"cutoff\": 11, \"User-ID\": 27875, \"precision\": 0.18181818181818182, \"recall\": 0.2222222222222222}, {\"count\": 9, \"cutoff\": 16, \"User-ID\": 27875, \"precision\": 0.125, \"recall\": 0.2222222222222222}, {\"count\": 9, \"cutoff\": 21, \"User-ID\": 27875, \"precision\": 0.23809523809523808, \"recall\": 0.5555555555555556}, {\"count\": 9, \"cutoff\": 26, \"User-ID\": 27875, \"precision\": 0.23076923076923078, \"recall\": 0.6666666666666666}, {\"count\": 9, \"cutoff\": 31, \"User-ID\": 27875, \"precision\": 0.1935483870967742, \"recall\": 0.6666666666666666}, {\"count\": 9, \"cutoff\": 36, \"User-ID\": 27875, \"precision\": 0.19444444444444445, \"recall\": 0.7777777777777778}, {\"count\": 9, \"cutoff\": 41, \"User-ID\": 27875, \"precision\": 0.17073170731707318, \"recall\": 0.7777777777777778}, {\"count\": 9, \"cutoff\": 46, \"User-ID\": 27875, \"precision\": 0.15217391304347827, \"recall\": 0.7777777777777778}, {\"count\": 2, \"cutoff\": 1, \"User-ID\": 27997, \"precision\": 0.0, \"recall\": 0.0}, {\"count\": 2, \"cutoff\": 2, \"User-ID\": 27997, \"precision\": 0.0, \"recall\": 0.0}, {\"count\": 2, \"cutoff\": 3, \"User-ID\": 27997, \"precision\": 0.0, \"recall\": 0.0}, {\"count\": 2, \"cutoff\": 4, \"User-ID\": 27997, \"precision\": 0.0, \"recall\": 0.0}, {\"count\": 2, \"cutoff\": 5, \"User-ID\": 27997, \"precision\": 0.0, \"recall\": 0.0}, {\"count\": 2, \"cutoff\": 6, \"User-ID\": 27997, \"precision\": 0.0, \"recall\": 0.0}, {\"count\": 2, \"cutoff\": 7, \"User-ID\": 27997, \"precision\": 0.0, \"recall\": 0.0}, {\"count\": 2, \"cutoff\": 8, \"User-ID\": 27997, \"precision\": 0.0, \"recall\": 0.0}, {\"count\": 2, \"cutoff\": 9, \"User-ID\": 27997, \"precision\": 0.0, \"recall\": 0.0}, {\"count\": 2, \"cutoff\": 10, \"User-ID\": 27997, \"precision\": 0.0, \"recall\": 0.0}, {\"count\": 2, \"cutoff\": 11, \"User-ID\": 27997, \"precision\": 0.0, \"recall\": 0.0}, {\"count\": 2, \"cutoff\": 16, \"User-ID\": 27997, \"precision\": 0.0, \"recall\": 0.0}, {\"count\": 2, \"cutoff\": 21, \"User-ID\": 27997, \"precision\": 0.0, \"recall\": 0.0}, {\"count\": 2, \"cutoff\": 26, \"User-ID\": 27997, \"precision\": 0.0, \"recall\": 0.0}, {\"count\": 2, \"cutoff\": 31, \"User-ID\": 27997, \"precision\": 0.0, \"recall\": 0.0}, {\"count\": 2, \"cutoff\": 36, \"User-ID\": 27997, \"precision\": 0.027777777777777776, \"recall\": 0.5}, {\"count\": 2, \"cutoff\": 41, \"User-ID\": 27997, \"precision\": 0.04878048780487805, \"recall\": 1.0}, {\"count\": 2, \"cutoff\": 46, \"User-ID\": 27997, \"precision\": 0.043478260869565216, \"recall\": 1.0}, {\"count\": 4, \"cutoff\": 1, \"User-ID\": 29170, \"precision\": 0.0, \"recall\": 0.0}, {\"count\": 4, \"cutoff\": 2, \"User-ID\": 29170, \"precision\": 0.0, \"recall\": 0.0}, {\"count\": 4, \"cutoff\": 3, \"User-ID\": 29170, \"precision\": 0.0, \"recall\": 0.0}, {\"count\": 4, \"cutoff\": 4, \"User-ID\": 29170, \"precision\": 0.0, \"recall\": 0.0}, {\"count\": 4, \"cutoff\": 5, \"User-ID\": 29170, \"precision\": 0.0, \"recall\": 0.0}, {\"count\": 4, \"cutoff\": 6, \"User-ID\": 29170, \"precision\": 0.0, \"recall\": 0.0}, {\"count\": 4, \"cutoff\": 7, \"User-ID\": 29170, \"precision\": 0.0, \"recall\": 0.0}, {\"count\": 4, \"cutoff\": 8, \"User-ID\": 29170, \"precision\": 0.0, \"recall\": 0.0}, {\"count\": 4, \"cutoff\": 9, \"User-ID\": 29170, \"precision\": 0.0, \"recall\": 0.0}, {\"count\": 4, \"cutoff\": 10, \"User-ID\": 29170, \"precision\": 0.0, \"recall\": 0.0}, {\"count\": 4, \"cutoff\": 11, \"User-ID\": 29170, \"precision\": 0.0, \"recall\": 0.0}, {\"count\": 4, \"cutoff\": 16, \"User-ID\": 29170, \"precision\": 0.0, \"recall\": 0.0}, {\"count\": 4, \"cutoff\": 21, \"User-ID\": 29170, \"precision\": 0.0, \"recall\": 0.0}, {\"count\": 4, \"cutoff\": 26, \"User-ID\": 29170, \"precision\": 0.0, \"recall\": 0.0}, {\"count\": 4, \"cutoff\": 31, \"User-ID\": 29170, \"precision\": 0.0, \"recall\": 0.0}, {\"count\": 4, \"cutoff\": 36, \"User-ID\": 29170, \"precision\": 0.05555555555555555, \"recall\": 0.5}, {\"count\": 4, \"cutoff\": 41, \"User-ID\": 29170, \"precision\": 0.04878048780487805, \"recall\": 0.5}, {\"count\": 4, \"cutoff\": 46, \"User-ID\": 29170, \"precision\": 0.043478260869565216, \"recall\": 0.5}, {\"count\": 14, \"cutoff\": 1, \"User-ID\": 29303, \"precision\": 0.0, \"recall\": 0.0}, {\"count\": 14, \"cutoff\": 2, \"User-ID\": 29303, \"precision\": 0.5, \"recall\": 0.07142857142857142}, {\"count\": 14, \"cutoff\": 3, \"User-ID\": 29303, \"precision\": 0.3333333333333333, \"recall\": 0.07142857142857142}, {\"count\": 14, \"cutoff\": 4, \"User-ID\": 29303, \"precision\": 0.25, \"recall\": 0.07142857142857142}, {\"count\": 14, \"cutoff\": 5, \"User-ID\": 29303, \"precision\": 0.2, \"recall\": 0.07142857142857142}, {\"count\": 14, \"cutoff\": 6, \"User-ID\": 29303, \"precision\": 0.16666666666666666, \"recall\": 0.07142857142857142}, {\"count\": 14, \"cutoff\": 7, \"User-ID\": 29303, \"precision\": 0.14285714285714285, \"recall\": 0.07142857142857142}, {\"count\": 14, \"cutoff\": 8, \"User-ID\": 29303, \"precision\": 0.25, \"recall\": 0.14285714285714285}, {\"count\": 14, \"cutoff\": 9, \"User-ID\": 29303, \"precision\": 0.2222222222222222, \"recall\": 0.14285714285714285}, {\"count\": 14, \"cutoff\": 10, \"User-ID\": 29303, \"precision\": 0.3, \"recall\": 0.21428571428571427}, {\"count\": 14, \"cutoff\": 11, \"User-ID\": 29303, \"precision\": 0.2727272727272727, \"recall\": 0.21428571428571427}, {\"count\": 14, \"cutoff\": 16, \"User-ID\": 29303, \"precision\": 0.3125, \"recall\": 0.35714285714285715}, {\"count\": 14, \"cutoff\": 21, \"User-ID\": 29303, \"precision\": 0.38095238095238093, \"recall\": 0.5714285714285714}, {\"count\": 14, \"cutoff\": 26, \"User-ID\": 29303, \"precision\": 0.4230769230769231, \"recall\": 0.7857142857142857}, {\"count\": 14, \"cutoff\": 31, \"User-ID\": 29303, \"precision\": 0.41935483870967744, \"recall\": 0.9285714285714286}, {\"count\": 14, \"cutoff\": 36, \"User-ID\": 29303, \"precision\": 0.3888888888888889, \"recall\": 1.0}, {\"count\": 14, \"cutoff\": 41, \"User-ID\": 29303, \"precision\": 0.34146341463414637, \"recall\": 1.0}, {\"count\": 14, \"cutoff\": 46, \"User-ID\": 29303, \"precision\": 0.30434782608695654, \"recall\": 1.0}, {\"count\": 4, \"cutoff\": 1, \"User-ID\": 29489, \"precision\": 0.0, \"recall\": 0.0}, {\"count\": 4, \"cutoff\": 2, \"User-ID\": 29489, \"precision\": 0.0, \"recall\": 0.0}, {\"count\": 4, \"cutoff\": 3, \"User-ID\": 29489, \"precision\": 0.0, \"recall\": 0.0}, {\"count\": 4, \"cutoff\": 4, \"User-ID\": 29489, \"precision\": 0.25, \"recall\": 0.25}, {\"count\": 4, \"cutoff\": 5, \"User-ID\": 29489, \"precision\": 0.2, \"recall\": 0.25}, {\"count\": 4, \"cutoff\": 6, \"User-ID\": 29489, \"precision\": 0.16666666666666666, \"recall\": 0.25}, {\"count\": 4, \"cutoff\": 7, \"User-ID\": 29489, \"precision\": 0.14285714285714285, \"recall\": 0.25}, {\"count\": 4, \"cutoff\": 8, \"User-ID\": 29489, \"precision\": 0.125, \"recall\": 0.25}, {\"count\": 4, \"cutoff\": 9, \"User-ID\": 29489, \"precision\": 0.1111111111111111, \"recall\": 0.25}, {\"count\": 4, \"cutoff\": 10, \"User-ID\": 29489, \"precision\": 0.1, \"recall\": 0.25}, {\"count\": 4, \"cutoff\": 11, \"User-ID\": 29489, \"precision\": 0.09090909090909091, \"recall\": 0.25}, {\"count\": 4, \"cutoff\": 16, \"User-ID\": 29489, \"precision\": 0.0625, \"recall\": 0.25}, {\"count\": 4, \"cutoff\": 21, \"User-ID\": 29489, \"precision\": 0.14285714285714285, \"recall\": 0.75}, {\"count\": 4, \"cutoff\": 26, \"User-ID\": 29489, \"precision\": 0.11538461538461539, \"recall\": 0.75}, {\"count\": 4, \"cutoff\": 31, \"User-ID\": 29489, \"precision\": 0.0967741935483871, \"recall\": 0.75}, {\"count\": 4, \"cutoff\": 36, \"User-ID\": 29489, \"precision\": 0.08333333333333333, \"recall\": 0.75}, {\"count\": 4, \"cutoff\": 41, \"User-ID\": 29489, \"precision\": 0.07317073170731707, \"recall\": 0.75}, {\"count\": 4, \"cutoff\": 46, \"User-ID\": 29489, \"precision\": 0.06521739130434782, \"recall\": 0.75}, {\"count\": 2, \"cutoff\": 1, \"User-ID\": 29556, \"precision\": 0.0, \"recall\": 0.0}, {\"count\": 2, \"cutoff\": 2, \"User-ID\": 29556, \"precision\": 0.0, \"recall\": 0.0}, {\"count\": 2, \"cutoff\": 3, \"User-ID\": 29556, \"precision\": 0.0, \"recall\": 0.0}, {\"count\": 2, \"cutoff\": 4, \"User-ID\": 29556, \"precision\": 0.0, \"recall\": 0.0}, {\"count\": 2, \"cutoff\": 5, \"User-ID\": 29556, \"precision\": 0.0, \"recall\": 0.0}, {\"count\": 2, \"cutoff\": 6, \"User-ID\": 29556, \"precision\": 0.0, \"recall\": 0.0}, {\"count\": 2, \"cutoff\": 7, \"User-ID\": 29556, \"precision\": 0.0, \"recall\": 0.0}, {\"count\": 2, \"cutoff\": 8, \"User-ID\": 29556, \"precision\": 0.0, \"recall\": 0.0}, {\"count\": 2, \"cutoff\": 9, \"User-ID\": 29556, \"precision\": 0.0, \"recall\": 0.0}, {\"count\": 2, \"cutoff\": 10, \"User-ID\": 29556, \"precision\": 0.0, \"recall\": 0.0}, {\"count\": 2, \"cutoff\": 11, \"User-ID\": 29556, \"precision\": 0.0, \"recall\": 0.0}, {\"count\": 2, \"cutoff\": 16, \"User-ID\": 29556, \"precision\": 0.0, \"recall\": 0.0}, {\"count\": 2, \"cutoff\": 21, \"User-ID\": 29556, \"precision\": 0.047619047619047616, \"recall\": 0.5}, {\"count\": 2, \"cutoff\": 26, \"User-ID\": 29556, \"precision\": 0.07692307692307693, \"recall\": 1.0}, {\"count\": 2, \"cutoff\": 31, \"User-ID\": 29556, \"precision\": 0.06451612903225806, \"recall\": 1.0}, {\"count\": 2, \"cutoff\": 36, \"User-ID\": 29556, \"precision\": 0.05555555555555555, \"recall\": 1.0}, {\"count\": 2, \"cutoff\": 41, \"User-ID\": 29556, \"precision\": 0.04878048780487805, \"recall\": 1.0}, {\"count\": 2, \"cutoff\": 46, \"User-ID\": 29556, \"precision\": 0.043478260869565216, \"recall\": 1.0}, {\"count\": 8, \"cutoff\": 1, \"User-ID\": 30320, \"precision\": 0.0, \"recall\": 0.0}, {\"count\": 8, \"cutoff\": 2, \"User-ID\": 30320, \"precision\": 0.5, \"recall\": 0.125}, {\"count\": 8, \"cutoff\": 3, \"User-ID\": 30320, \"precision\": 0.6666666666666666, \"recall\": 0.25}, {\"count\": 8, \"cutoff\": 4, \"User-ID\": 30320, \"precision\": 0.75, \"recall\": 0.375}, {\"count\": 8, \"cutoff\": 5, \"User-ID\": 30320, \"precision\": 0.8, \"recall\": 0.5}, {\"count\": 8, \"cutoff\": 6, \"User-ID\": 30320, \"precision\": 0.6666666666666666, \"recall\": 0.5}, {\"count\": 8, \"cutoff\": 7, \"User-ID\": 30320, \"precision\": 0.5714285714285714, \"recall\": 0.5}, {\"count\": 8, \"cutoff\": 8, \"User-ID\": 30320, \"precision\": 0.625, \"recall\": 0.625}, {\"count\": 8, \"cutoff\": 9, \"User-ID\": 30320, \"precision\": 0.5555555555555556, \"recall\": 0.625}, {\"count\": 8, \"cutoff\": 10, \"User-ID\": 30320, \"precision\": 0.5, \"recall\": 0.625}, {\"count\": 8, \"cutoff\": 11, \"User-ID\": 30320, \"precision\": 0.45454545454545453, \"recall\": 0.625}, {\"count\": 8, \"cutoff\": 16, \"User-ID\": 30320, \"precision\": 0.3125, \"recall\": 0.625}, {\"count\": 8, \"cutoff\": 21, \"User-ID\": 30320, \"precision\": 0.23809523809523808, \"recall\": 0.625}, {\"count\": 8, \"cutoff\": 26, \"User-ID\": 30320, \"precision\": 0.19230769230769232, \"recall\": 0.625}, {\"count\": 8, \"cutoff\": 31, \"User-ID\": 30320, \"precision\": 0.16129032258064516, \"recall\": 0.625}, {\"count\": 8, \"cutoff\": 36, \"User-ID\": 30320, \"precision\": 0.1388888888888889, \"recall\": 0.625}, {\"count\": 8, \"cutoff\": 41, \"User-ID\": 30320, \"precision\": 0.12195121951219512, \"recall\": 0.625}, {\"count\": 8, \"cutoff\": 46, \"User-ID\": 30320, \"precision\": 0.10869565217391304, \"recall\": 0.625}, {\"count\": 23, \"cutoff\": 1, \"User-ID\": 32298, \"precision\": 1.0, \"recall\": 0.043478260869565216}, {\"count\": 23, \"cutoff\": 2, \"User-ID\": 32298, \"precision\": 1.0, \"recall\": 0.08695652173913043}, {\"count\": 23, \"cutoff\": 3, \"User-ID\": 32298, \"precision\": 1.0, \"recall\": 0.13043478260869565}, {\"count\": 23, \"cutoff\": 4, \"User-ID\": 32298, \"precision\": 1.0, \"recall\": 0.17391304347826086}, {\"count\": 23, \"cutoff\": 5, \"User-ID\": 32298, \"precision\": 1.0, \"recall\": 0.21739130434782608}, {\"count\": 23, \"cutoff\": 6, \"User-ID\": 32298, \"precision\": 1.0, \"recall\": 0.2608695652173913}, {\"count\": 23, \"cutoff\": 7, \"User-ID\": 32298, \"precision\": 1.0, \"recall\": 0.30434782608695654}, {\"count\": 23, \"cutoff\": 8, \"User-ID\": 32298, \"precision\": 1.0, \"recall\": 0.34782608695652173}, {\"count\": 23, \"cutoff\": 9, \"User-ID\": 32298, \"precision\": 1.0, \"recall\": 0.391304347826087}, {\"count\": 23, \"cutoff\": 10, \"User-ID\": 32298, \"precision\": 1.0, \"recall\": 0.43478260869565216}, {\"count\": 23, \"cutoff\": 11, \"User-ID\": 32298, \"precision\": 1.0, \"recall\": 0.4782608695652174}, {\"count\": 23, \"cutoff\": 16, \"User-ID\": 32298, \"precision\": 1.0, \"recall\": 0.6956521739130435}, {\"count\": 23, \"cutoff\": 21, \"User-ID\": 32298, \"precision\": 1.0, \"recall\": 0.9130434782608695}, {\"count\": 23, \"cutoff\": 26, \"User-ID\": 32298, \"precision\": 0.8846153846153846, \"recall\": 1.0}, {\"count\": 23, \"cutoff\": 31, \"User-ID\": 32298, \"precision\": 0.7419354838709677, \"recall\": 1.0}, {\"count\": 23, \"cutoff\": 36, \"User-ID\": 32298, \"precision\": 0.6571428571428571, \"recall\": 1.0}, {\"count\": 23, \"cutoff\": 41, \"User-ID\": 32298, \"precision\": 0.6571428571428571, \"recall\": 1.0}, {\"count\": 23, \"cutoff\": 46, \"User-ID\": 32298, \"precision\": 0.6571428571428571, \"recall\": 1.0}, {\"count\": 8, \"cutoff\": 1, \"User-ID\": 33217, \"precision\": 0.0, \"recall\": 0.0}, {\"count\": 8, \"cutoff\": 2, \"User-ID\": 33217, \"precision\": 0.0, \"recall\": 0.0}, {\"count\": 8, \"cutoff\": 3, \"User-ID\": 33217, \"precision\": 0.0, \"recall\": 0.0}, {\"count\": 8, \"cutoff\": 4, \"User-ID\": 33217, \"precision\": 0.25, \"recall\": 0.125}, {\"count\": 8, \"cutoff\": 5, \"User-ID\": 33217, \"precision\": 0.4, \"recall\": 0.25}, {\"count\": 8, \"cutoff\": 6, \"User-ID\": 33217, \"precision\": 0.3333333333333333, \"recall\": 0.25}, {\"count\": 8, \"cutoff\": 7, \"User-ID\": 33217, \"precision\": 0.42857142857142855, \"recall\": 0.375}, {\"count\": 8, \"cutoff\": 8, \"User-ID\": 33217, \"precision\": 0.375, \"recall\": 0.375}, {\"count\": 8, \"cutoff\": 9, \"User-ID\": 33217, \"precision\": 0.3333333333333333, \"recall\": 0.375}, {\"count\": 8, \"cutoff\": 10, \"User-ID\": 33217, \"precision\": 0.4, \"recall\": 0.5}, {\"count\": 8, \"cutoff\": 11, \"User-ID\": 33217, \"precision\": 0.36363636363636365, \"recall\": 0.5}, {\"count\": 8, \"cutoff\": 16, \"User-ID\": 33217, \"precision\": 0.3125, \"recall\": 0.625}, {\"count\": 8, \"cutoff\": 21, \"User-ID\": 33217, \"precision\": 0.2857142857142857, \"recall\": 0.75}, {\"count\": 8, \"cutoff\": 26, \"User-ID\": 33217, \"precision\": 0.2692307692307692, \"recall\": 0.875}, {\"count\": 8, \"cutoff\": 31, \"User-ID\": 33217, \"precision\": 0.25806451612903225, \"recall\": 1.0}, {\"count\": 8, \"cutoff\": 36, \"User-ID\": 33217, \"precision\": 0.2222222222222222, \"recall\": 1.0}, {\"count\": 8, \"cutoff\": 41, \"User-ID\": 33217, \"precision\": 0.1951219512195122, \"recall\": 1.0}, {\"count\": 8, \"cutoff\": 46, \"User-ID\": 33217, \"precision\": 0.17391304347826086, \"recall\": 1.0}, {\"count\": 4, \"cutoff\": 1, \"User-ID\": 33436, \"precision\": 0.0, \"recall\": 0.0}, {\"count\": 4, \"cutoff\": 2, \"User-ID\": 33436, \"precision\": 0.0, \"recall\": 0.0}, {\"count\": 4, \"cutoff\": 3, \"User-ID\": 33436, \"precision\": 0.0, \"recall\": 0.0}, {\"count\": 4, \"cutoff\": 4, \"User-ID\": 33436, \"precision\": 0.0, \"recall\": 0.0}, {\"count\": 4, \"cutoff\": 5, \"User-ID\": 33436, \"precision\": 0.0, \"recall\": 0.0}, {\"count\": 4, \"cutoff\": 6, \"User-ID\": 33436, \"precision\": 0.0, \"recall\": 0.0}, {\"count\": 4, \"cutoff\": 7, \"User-ID\": 33436, \"precision\": 0.0, \"recall\": 0.0}, {\"count\": 4, \"cutoff\": 8, \"User-ID\": 33436, \"precision\": 0.0, \"recall\": 0.0}, {\"count\": 4, \"cutoff\": 9, \"User-ID\": 33436, \"precision\": 0.0, \"recall\": 0.0}, {\"count\": 4, \"cutoff\": 10, \"User-ID\": 33436, \"precision\": 0.0, \"recall\": 0.0}, {\"count\": 4, \"cutoff\": 11, \"User-ID\": 33436, \"precision\": 0.0, \"recall\": 0.0}, {\"count\": 4, \"cutoff\": 16, \"User-ID\": 33436, \"precision\": 0.0, \"recall\": 0.0}, {\"count\": 4, \"cutoff\": 21, \"User-ID\": 33436, \"precision\": 0.047619047619047616, \"recall\": 0.25}, {\"count\": 4, \"cutoff\": 26, \"User-ID\": 33436, \"precision\": 0.038461538461538464, \"recall\": 0.25}, {\"count\": 4, \"cutoff\": 31, \"User-ID\": 33436, \"precision\": 0.03225806451612903, \"recall\": 0.25}, {\"count\": 4, \"cutoff\": 36, \"User-ID\": 33436, \"precision\": 0.027777777777777776, \"recall\": 0.25}, {\"count\": 4, \"cutoff\": 41, \"User-ID\": 33436, \"precision\": 0.04878048780487805, \"recall\": 0.5}, {\"count\": 4, \"cutoff\": 46, \"User-ID\": 33436, \"precision\": 0.06521739130434782, \"recall\": 0.75}, {\"count\": 23, \"cutoff\": 1, \"User-ID\": 33551, \"precision\": 0.0, \"recall\": 0.0}, {\"count\": 23, \"cutoff\": 2, \"User-ID\": 33551, \"precision\": 0.0, \"recall\": 0.0}, {\"count\": 23, \"cutoff\": 3, \"User-ID\": 33551, \"precision\": 0.0, \"recall\": 0.0}, {\"count\": 23, \"cutoff\": 4, \"User-ID\": 33551, \"precision\": 0.25, \"recall\": 0.043478260869565216}, {\"count\": 23, \"cutoff\": 5, \"User-ID\": 33551, \"precision\": 0.4, \"recall\": 0.08695652173913043}, {\"count\": 23, \"cutoff\": 6, \"User-ID\": 33551, \"precision\": 0.3333333333333333, \"recall\": 0.08695652173913043}, {\"count\": 23, \"cutoff\": 7, \"User-ID\": 33551, \"precision\": 0.2857142857142857, \"recall\": 0.08695652173913043}, {\"count\": 23, \"cutoff\": 8, \"User-ID\": 33551, \"precision\": 0.25, \"recall\": 0.08695652173913043}, {\"count\": 23, \"cutoff\": 9, \"User-ID\": 33551, \"precision\": 0.2222222222222222, \"recall\": 0.08695652173913043}, {\"count\": 23, \"cutoff\": 10, \"User-ID\": 33551, \"precision\": 0.3, \"recall\": 0.13043478260869565}, {\"count\": 23, \"cutoff\": 11, \"User-ID\": 33551, \"precision\": 0.2727272727272727, \"recall\": 0.13043478260869565}, {\"count\": 23, \"cutoff\": 16, \"User-ID\": 33551, \"precision\": 0.4375, \"recall\": 0.30434782608695654}, {\"count\": 23, \"cutoff\": 21, \"User-ID\": 33551, \"precision\": 0.38095238095238093, \"recall\": 0.34782608695652173}, {\"count\": 23, \"cutoff\": 26, \"User-ID\": 33551, \"precision\": 0.38461538461538464, \"recall\": 0.43478260869565216}, {\"count\": 23, \"cutoff\": 31, \"User-ID\": 33551, \"precision\": 0.41935483870967744, \"recall\": 0.5652173913043478}, {\"count\": 23, \"cutoff\": 36, \"User-ID\": 33551, \"precision\": 0.4444444444444444, \"recall\": 0.6956521739130435}, {\"count\": 23, \"cutoff\": 41, \"User-ID\": 33551, \"precision\": 0.4878048780487805, \"recall\": 0.8695652173913043}, {\"count\": 23, \"cutoff\": 46, \"User-ID\": 33551, \"precision\": 0.45652173913043476, \"recall\": 0.9130434782608695}, {\"count\": 25, \"cutoff\": 1, \"User-ID\": 34966, \"precision\": 1.0, \"recall\": 0.04}, {\"count\": 25, \"cutoff\": 2, \"User-ID\": 34966, \"precision\": 1.0, \"recall\": 0.08}, {\"count\": 25, \"cutoff\": 3, \"User-ID\": 34966, \"precision\": 1.0, \"recall\": 0.12}, {\"count\": 25, \"cutoff\": 4, \"User-ID\": 34966, \"precision\": 0.75, \"recall\": 0.12}, {\"count\": 25, \"cutoff\": 5, \"User-ID\": 34966, \"precision\": 0.8, \"recall\": 0.16}, {\"count\": 25, \"cutoff\": 6, \"User-ID\": 34966, \"precision\": 0.8333333333333334, \"recall\": 0.2}, {\"count\": 25, \"cutoff\": 7, \"User-ID\": 34966, \"precision\": 0.8571428571428571, \"recall\": 0.24}, {\"count\": 25, \"cutoff\": 8, \"User-ID\": 34966, \"precision\": 0.875, \"recall\": 0.28}, {\"count\": 25, \"cutoff\": 9, \"User-ID\": 34966, \"precision\": 0.8888888888888888, \"recall\": 0.32}, {\"count\": 25, \"cutoff\": 10, \"User-ID\": 34966, \"precision\": 0.8, \"recall\": 0.32}, {\"count\": 25, \"cutoff\": 11, \"User-ID\": 34966, \"precision\": 0.8181818181818182, \"recall\": 0.36}, {\"count\": 25, \"cutoff\": 16, \"User-ID\": 34966, \"precision\": 0.75, \"recall\": 0.48}, {\"count\": 25, \"cutoff\": 21, \"User-ID\": 34966, \"precision\": 0.6190476190476191, \"recall\": 0.52}, {\"count\": 25, \"cutoff\": 26, \"User-ID\": 34966, \"precision\": 0.5769230769230769, \"recall\": 0.6}, {\"count\": 25, \"cutoff\": 31, \"User-ID\": 34966, \"precision\": 0.5483870967741935, \"recall\": 0.68}, {\"count\": 25, \"cutoff\": 36, \"User-ID\": 34966, \"precision\": 0.5277777777777778, \"recall\": 0.76}, {\"count\": 25, \"cutoff\": 41, \"User-ID\": 34966, \"precision\": 0.4878048780487805, \"recall\": 0.8}, {\"count\": 25, \"cutoff\": 46, \"User-ID\": 34966, \"precision\": 0.5, \"recall\": 0.92}, {\"count\": 9, \"cutoff\": 1, \"User-ID\": 35321, \"precision\": 1.0, \"recall\": 0.1111111111111111}, {\"count\": 9, \"cutoff\": 2, \"User-ID\": 35321, \"precision\": 0.5, \"recall\": 0.1111111111111111}, {\"count\": 9, \"cutoff\": 3, \"User-ID\": 35321, \"precision\": 0.3333333333333333, \"recall\": 0.1111111111111111}, {\"count\": 9, \"cutoff\": 4, \"User-ID\": 35321, \"precision\": 0.5, \"recall\": 0.2222222222222222}, {\"count\": 9, \"cutoff\": 5, \"User-ID\": 35321, \"precision\": 0.4, \"recall\": 0.2222222222222222}, {\"count\": 9, \"cutoff\": 6, \"User-ID\": 35321, \"precision\": 0.5, \"recall\": 0.3333333333333333}, {\"count\": 9, \"cutoff\": 7, \"User-ID\": 35321, \"precision\": 0.42857142857142855, \"recall\": 0.3333333333333333}, {\"count\": 9, \"cutoff\": 8, \"User-ID\": 35321, \"precision\": 0.5, \"recall\": 0.4444444444444444}, {\"count\": 9, \"cutoff\": 9, \"User-ID\": 35321, \"precision\": 0.4444444444444444, \"recall\": 0.4444444444444444}, {\"count\": 9, \"cutoff\": 10, \"User-ID\": 35321, \"precision\": 0.4, \"recall\": 0.4444444444444444}, {\"count\": 9, \"cutoff\": 11, \"User-ID\": 35321, \"precision\": 0.36363636363636365, \"recall\": 0.4444444444444444}, {\"count\": 9, \"cutoff\": 16, \"User-ID\": 35321, \"precision\": 0.25, \"recall\": 0.4444444444444444}, {\"count\": 9, \"cutoff\": 21, \"User-ID\": 35321, \"precision\": 0.19047619047619047, \"recall\": 0.4444444444444444}, {\"count\": 9, \"cutoff\": 26, \"User-ID\": 35321, \"precision\": 0.19230769230769232, \"recall\": 0.5555555555555556}, {\"count\": 9, \"cutoff\": 31, \"User-ID\": 35321, \"precision\": 0.16129032258064516, \"recall\": 0.5555555555555556}, {\"count\": 9, \"cutoff\": 36, \"User-ID\": 35321, \"precision\": 0.16666666666666666, \"recall\": 0.6666666666666666}, {\"count\": 9, \"cutoff\": 41, \"User-ID\": 35321, \"precision\": 0.14634146341463414, \"recall\": 0.6666666666666666}, {\"count\": 9, \"cutoff\": 46, \"User-ID\": 35321, \"precision\": 0.13043478260869565, \"recall\": 0.6666666666666666}, {\"count\": 15, \"cutoff\": 1, \"User-ID\": 35342, \"precision\": 1.0, \"recall\": 0.06666666666666667}, {\"count\": 15, \"cutoff\": 2, \"User-ID\": 35342, \"precision\": 1.0, \"recall\": 0.13333333333333333}, {\"count\": 15, \"cutoff\": 3, \"User-ID\": 35342, \"precision\": 0.6666666666666666, \"recall\": 0.13333333333333333}, {\"count\": 15, \"cutoff\": 4, \"User-ID\": 35342, \"precision\": 0.75, \"recall\": 0.2}, {\"count\": 15, \"cutoff\": 5, \"User-ID\": 35342, \"precision\": 0.6, \"recall\": 0.2}, {\"count\": 15, \"cutoff\": 6, \"User-ID\": 35342, \"precision\": 0.6666666666666666, \"recall\": 0.26666666666666666}, {\"count\": 15, \"cutoff\": 7, \"User-ID\": 35342, \"precision\": 0.5714285714285714, \"recall\": 0.26666666666666666}, {\"count\": 15, \"cutoff\": 8, \"User-ID\": 35342, \"precision\": 0.5, \"recall\": 0.26666666666666666}, {\"count\": 15, \"cutoff\": 9, \"User-ID\": 35342, \"precision\": 0.5555555555555556, \"recall\": 0.3333333333333333}, {\"count\": 15, \"cutoff\": 10, \"User-ID\": 35342, \"precision\": 0.5, \"recall\": 0.3333333333333333}, {\"count\": 15, \"cutoff\": 11, \"User-ID\": 35342, \"precision\": 0.5454545454545454, \"recall\": 0.4}, {\"count\": 15, \"cutoff\": 16, \"User-ID\": 35342, \"precision\": 0.4375, \"recall\": 0.4666666666666667}, {\"count\": 15, \"cutoff\": 21, \"User-ID\": 35342, \"precision\": 0.3333333333333333, \"recall\": 0.4666666666666667}, {\"count\": 15, \"cutoff\": 26, \"User-ID\": 35342, \"precision\": 0.34615384615384615, \"recall\": 0.6}, {\"count\": 15, \"cutoff\": 31, \"User-ID\": 35342, \"precision\": 0.3548387096774194, \"recall\": 0.7333333333333333}, {\"count\": 15, \"cutoff\": 36, \"User-ID\": 35342, \"precision\": 0.3333333333333333, \"recall\": 0.8}, {\"count\": 15, \"cutoff\": 41, \"User-ID\": 35342, \"precision\": 0.3170731707317073, \"recall\": 0.8666666666666667}, {\"count\": 15, \"cutoff\": 46, \"User-ID\": 35342, \"precision\": 0.2826086956521739, \"recall\": 0.8666666666666667}, {\"count\": 9, \"cutoff\": 1, \"User-ID\": 35608, \"precision\": 0.0, \"recall\": 0.0}, {\"count\": 9, \"cutoff\": 2, \"User-ID\": 35608, \"precision\": 0.0, \"recall\": 0.0}, {\"count\": 9, \"cutoff\": 3, \"User-ID\": 35608, \"precision\": 0.3333333333333333, \"recall\": 0.1111111111111111}, {\"count\": 9, \"cutoff\": 4, \"User-ID\": 35608, \"precision\": 0.5, \"recall\": 0.2222222222222222}, {\"count\": 9, \"cutoff\": 5, \"User-ID\": 35608, \"precision\": 0.6, \"recall\": 0.3333333333333333}, {\"count\": 9, \"cutoff\": 6, \"User-ID\": 35608, \"precision\": 0.6666666666666666, \"recall\": 0.4444444444444444}, {\"count\": 9, \"cutoff\": 7, \"User-ID\": 35608, \"precision\": 0.5714285714285714, \"recall\": 0.4444444444444444}, {\"count\": 9, \"cutoff\": 8, \"User-ID\": 35608, \"precision\": 0.5, \"recall\": 0.4444444444444444}, {\"count\": 9, \"cutoff\": 9, \"User-ID\": 35608, \"precision\": 0.4444444444444444, \"recall\": 0.4444444444444444}, {\"count\": 9, \"cutoff\": 10, \"User-ID\": 35608, \"precision\": 0.4, \"recall\": 0.4444444444444444}, {\"count\": 9, \"cutoff\": 11, \"User-ID\": 35608, \"precision\": 0.36363636363636365, \"recall\": 0.4444444444444444}, {\"count\": 9, \"cutoff\": 16, \"User-ID\": 35608, \"precision\": 0.3125, \"recall\": 0.5555555555555556}, {\"count\": 9, \"cutoff\": 21, \"User-ID\": 35608, \"precision\": 0.23809523809523808, \"recall\": 0.5555555555555556}, {\"count\": 9, \"cutoff\": 26, \"User-ID\": 35608, \"precision\": 0.23076923076923078, \"recall\": 0.6666666666666666}, {\"count\": 9, \"cutoff\": 31, \"User-ID\": 35608, \"precision\": 0.1935483870967742, \"recall\": 0.6666666666666666}, {\"count\": 9, \"cutoff\": 36, \"User-ID\": 35608, \"precision\": 0.16666666666666666, \"recall\": 0.6666666666666666}, {\"count\": 9, \"cutoff\": 41, \"User-ID\": 35608, \"precision\": 0.14634146341463414, \"recall\": 0.6666666666666666}, {\"count\": 9, \"cutoff\": 46, \"User-ID\": 35608, \"precision\": 0.15217391304347827, \"recall\": 0.7777777777777778}, {\"count\": 10, \"cutoff\": 1, \"User-ID\": 36832, \"precision\": 1.0, \"recall\": 0.1}, {\"count\": 10, \"cutoff\": 2, \"User-ID\": 36832, \"precision\": 0.5, \"recall\": 0.1}, {\"count\": 10, \"cutoff\": 3, \"User-ID\": 36832, \"precision\": 0.3333333333333333, \"recall\": 0.1}, {\"count\": 10, \"cutoff\": 4, \"User-ID\": 36832, \"precision\": 0.25, \"recall\": 0.1}, {\"count\": 10, \"cutoff\": 5, \"User-ID\": 36832, \"precision\": 0.2, \"recall\": 0.1}, {\"count\": 10, \"cutoff\": 6, \"User-ID\": 36832, \"precision\": 0.16666666666666666, \"recall\": 0.1}, {\"count\": 10, \"cutoff\": 7, \"User-ID\": 36832, \"precision\": 0.14285714285714285, \"recall\": 0.1}, {\"count\": 10, \"cutoff\": 8, \"User-ID\": 36832, \"precision\": 0.25, \"recall\": 0.2}, {\"count\": 10, \"cutoff\": 9, \"User-ID\": 36832, \"precision\": 0.2222222222222222, \"recall\": 0.2}, {\"count\": 10, \"cutoff\": 10, \"User-ID\": 36832, \"precision\": 0.2, \"recall\": 0.2}, {\"count\": 10, \"cutoff\": 11, \"User-ID\": 36832, \"precision\": 0.2727272727272727, \"recall\": 0.3}, {\"count\": 10, \"cutoff\": 16, \"User-ID\": 36832, \"precision\": 0.375, \"recall\": 0.6}, {\"count\": 10, \"cutoff\": 21, \"User-ID\": 36832, \"precision\": 0.2857142857142857, \"recall\": 0.6}, {\"count\": 10, \"cutoff\": 26, \"User-ID\": 36832, \"precision\": 0.23076923076923078, \"recall\": 0.6}, {\"count\": 10, \"cutoff\": 31, \"User-ID\": 36832, \"precision\": 0.22580645161290322, \"recall\": 0.7}, {\"count\": 10, \"cutoff\": 36, \"User-ID\": 36832, \"precision\": 0.19444444444444445, \"recall\": 0.7}, {\"count\": 10, \"cutoff\": 41, \"User-ID\": 36832, \"precision\": 0.1951219512195122, \"recall\": 0.8}, {\"count\": 10, \"cutoff\": 46, \"User-ID\": 36832, \"precision\": 0.17391304347826086, \"recall\": 0.8}, {\"count\": 1, \"cutoff\": 1, \"User-ID\": 36849, \"precision\": 1.0, \"recall\": 1.0}, {\"count\": 1, \"cutoff\": 2, \"User-ID\": 36849, \"precision\": 0.5, \"recall\": 1.0}, {\"count\": 1, \"cutoff\": 3, \"User-ID\": 36849, \"precision\": 0.3333333333333333, \"recall\": 1.0}, {\"count\": 1, \"cutoff\": 4, \"User-ID\": 36849, \"precision\": 0.25, \"recall\": 1.0}, {\"count\": 1, \"cutoff\": 5, \"User-ID\": 36849, \"precision\": 0.2, \"recall\": 1.0}, {\"count\": 1, \"cutoff\": 6, \"User-ID\": 36849, \"precision\": 0.16666666666666666, \"recall\": 1.0}, {\"count\": 1, \"cutoff\": 7, \"User-ID\": 36849, \"precision\": 0.14285714285714285, \"recall\": 1.0}, {\"count\": 1, \"cutoff\": 8, \"User-ID\": 36849, \"precision\": 0.125, \"recall\": 1.0}, {\"count\": 1, \"cutoff\": 9, \"User-ID\": 36849, \"precision\": 0.1111111111111111, \"recall\": 1.0}, {\"count\": 1, \"cutoff\": 10, \"User-ID\": 36849, \"precision\": 0.1, \"recall\": 1.0}, {\"count\": 1, \"cutoff\": 11, \"User-ID\": 36849, \"precision\": 0.09090909090909091, \"recall\": 1.0}, {\"count\": 1, \"cutoff\": 16, \"User-ID\": 36849, \"precision\": 0.0625, \"recall\": 1.0}, {\"count\": 1, \"cutoff\": 21, \"User-ID\": 36849, \"precision\": 0.047619047619047616, \"recall\": 1.0}, {\"count\": 1, \"cutoff\": 26, \"User-ID\": 36849, \"precision\": 0.038461538461538464, \"recall\": 1.0}, {\"count\": 1, \"cutoff\": 31, \"User-ID\": 36849, \"precision\": 0.03225806451612903, \"recall\": 1.0}, {\"count\": 1, \"cutoff\": 36, \"User-ID\": 36849, \"precision\": 0.027777777777777776, \"recall\": 1.0}, {\"count\": 1, \"cutoff\": 41, \"User-ID\": 36849, \"precision\": 0.024390243902439025, \"recall\": 1.0}, {\"count\": 1, \"cutoff\": 46, \"User-ID\": 36849, \"precision\": 0.021739130434782608, \"recall\": 1.0}, {\"count\": 2, \"cutoff\": 1, \"User-ID\": 37639, \"precision\": 0.0, \"recall\": 0.0}, {\"count\": 2, \"cutoff\": 2, \"User-ID\": 37639, \"precision\": 0.0, \"recall\": 0.0}, {\"count\": 2, \"cutoff\": 3, \"User-ID\": 37639, \"precision\": 0.0, \"recall\": 0.0}, {\"count\": 2, \"cutoff\": 4, \"User-ID\": 37639, \"precision\": 0.0, \"recall\": 0.0}, {\"count\": 2, \"cutoff\": 5, \"User-ID\": 37639, \"precision\": 0.0, \"recall\": 0.0}, {\"count\": 2, \"cutoff\": 6, \"User-ID\": 37639, \"precision\": 0.0, \"recall\": 0.0}, {\"count\": 2, \"cutoff\": 7, \"User-ID\": 37639, \"precision\": 0.0, \"recall\": 0.0}, {\"count\": 2, \"cutoff\": 8, \"User-ID\": 37639, \"precision\": 0.0, \"recall\": 0.0}, {\"count\": 2, \"cutoff\": 9, \"User-ID\": 37639, \"precision\": 0.0, \"recall\": 0.0}, {\"count\": 2, \"cutoff\": 10, \"User-ID\": 37639, \"precision\": 0.0, \"recall\": 0.0}, {\"count\": 2, \"cutoff\": 11, \"User-ID\": 37639, \"precision\": 0.0, \"recall\": 0.0}, {\"count\": 2, \"cutoff\": 16, \"User-ID\": 37639, \"precision\": 0.0, \"recall\": 0.0}, {\"count\": 2, \"cutoff\": 21, \"User-ID\": 37639, \"precision\": 0.0, \"recall\": 0.0}, {\"count\": 2, \"cutoff\": 26, \"User-ID\": 37639, \"precision\": 0.0, \"recall\": 0.0}, {\"count\": 2, \"cutoff\": 31, \"User-ID\": 37639, \"precision\": 0.0, \"recall\": 0.0}, {\"count\": 2, \"cutoff\": 36, \"User-ID\": 37639, \"precision\": 0.0, \"recall\": 0.0}, {\"count\": 2, \"cutoff\": 41, \"User-ID\": 37639, \"precision\": 0.0, \"recall\": 0.0}, {\"count\": 2, \"cutoff\": 46, \"User-ID\": 37639, \"precision\": 0.0, \"recall\": 0.0}, {\"count\": 5, \"cutoff\": 1, \"User-ID\": 37853, \"precision\": 1.0, \"recall\": 0.2}, {\"count\": 5, \"cutoff\": 2, \"User-ID\": 37853, \"precision\": 1.0, \"recall\": 0.4}, {\"count\": 5, \"cutoff\": 3, \"User-ID\": 37853, \"precision\": 0.6666666666666666, \"recall\": 0.4}, {\"count\": 5, \"cutoff\": 4, \"User-ID\": 37853, \"precision\": 0.5, \"recall\": 0.4}, {\"count\": 5, \"cutoff\": 5, \"User-ID\": 37853, \"precision\": 0.4, \"recall\": 0.4}, {\"count\": 5, \"cutoff\": 6, \"User-ID\": 37853, \"precision\": 0.3333333333333333, \"recall\": 0.4}, {\"count\": 5, \"cutoff\": 7, \"User-ID\": 37853, \"precision\": 0.2857142857142857, \"recall\": 0.4}, {\"count\": 5, \"cutoff\": 8, \"User-ID\": 37853, \"precision\": 0.25, \"recall\": 0.4}, {\"count\": 5, \"cutoff\": 9, \"User-ID\": 37853, \"precision\": 0.2222222222222222, \"recall\": 0.4}, {\"count\": 5, \"cutoff\": 10, \"User-ID\": 37853, \"precision\": 0.2, \"recall\": 0.4}, {\"count\": 5, \"cutoff\": 11, \"User-ID\": 37853, \"precision\": 0.18181818181818182, \"recall\": 0.4}, {\"count\": 5, \"cutoff\": 16, \"User-ID\": 37853, \"precision\": 0.125, \"recall\": 0.4}, {\"count\": 5, \"cutoff\": 21, \"User-ID\": 37853, \"precision\": 0.14285714285714285, \"recall\": 0.6}, {\"count\": 5, \"cutoff\": 26, \"User-ID\": 37853, \"precision\": 0.19230769230769232, \"recall\": 1.0}, {\"count\": 5, \"cutoff\": 31, \"User-ID\": 37853, \"precision\": 0.16129032258064516, \"recall\": 1.0}, {\"count\": 5, \"cutoff\": 36, \"User-ID\": 37853, \"precision\": 0.1388888888888889, \"recall\": 1.0}, {\"count\": 5, \"cutoff\": 41, \"User-ID\": 37853, \"precision\": 0.12195121951219512, \"recall\": 1.0}, {\"count\": 5, \"cutoff\": 46, \"User-ID\": 37853, \"precision\": 0.10869565217391304, \"recall\": 1.0}, {\"count\": 6, \"cutoff\": 1, \"User-ID\": 41293, \"precision\": 0.0, \"recall\": 0.0}, {\"count\": 6, \"cutoff\": 2, \"User-ID\": 41293, \"precision\": 0.0, \"recall\": 0.0}, {\"count\": 6, \"cutoff\": 3, \"User-ID\": 41293, \"precision\": 0.0, \"recall\": 0.0}, {\"count\": 6, \"cutoff\": 4, \"User-ID\": 41293, \"precision\": 0.0, \"recall\": 0.0}, {\"count\": 6, \"cutoff\": 5, \"User-ID\": 41293, \"precision\": 0.0, \"recall\": 0.0}, {\"count\": 6, \"cutoff\": 6, \"User-ID\": 41293, \"precision\": 0.0, \"recall\": 0.0}, {\"count\": 6, \"cutoff\": 7, \"User-ID\": 41293, \"precision\": 0.0, \"recall\": 0.0}, {\"count\": 6, \"cutoff\": 8, \"User-ID\": 41293, \"precision\": 0.0, \"recall\": 0.0}, {\"count\": 6, \"cutoff\": 9, \"User-ID\": 41293, \"precision\": 0.0, \"recall\": 0.0}, {\"count\": 6, \"cutoff\": 10, \"User-ID\": 41293, \"precision\": 0.1, \"recall\": 0.16666666666666666}, {\"count\": 6, \"cutoff\": 11, \"User-ID\": 41293, \"precision\": 0.09090909090909091, \"recall\": 0.16666666666666666}, {\"count\": 6, \"cutoff\": 16, \"User-ID\": 41293, \"precision\": 0.1875, \"recall\": 0.5}, {\"count\": 6, \"cutoff\": 21, \"User-ID\": 41293, \"precision\": 0.14285714285714285, \"recall\": 0.5}, {\"count\": 6, \"cutoff\": 26, \"User-ID\": 41293, \"precision\": 0.11538461538461539, \"recall\": 0.5}, {\"count\": 6, \"cutoff\": 31, \"User-ID\": 41293, \"precision\": 0.0967741935483871, \"recall\": 0.5}, {\"count\": 6, \"cutoff\": 36, \"User-ID\": 41293, \"precision\": 0.08333333333333333, \"recall\": 0.5}, {\"count\": 6, \"cutoff\": 41, \"User-ID\": 41293, \"precision\": 0.07317073170731707, \"recall\": 0.5}, {\"count\": 6, \"cutoff\": 46, \"User-ID\": 41293, \"precision\": 0.06521739130434782, \"recall\": 0.5}, {\"count\": 5, \"cutoff\": 1, \"User-ID\": 42011, \"precision\": 0.0, \"recall\": 0.0}, {\"count\": 5, \"cutoff\": 2, \"User-ID\": 42011, \"precision\": 0.0, \"recall\": 0.0}, {\"count\": 5, \"cutoff\": 3, \"User-ID\": 42011, \"precision\": 0.0, \"recall\": 0.0}, {\"count\": 5, \"cutoff\": 4, \"User-ID\": 42011, \"precision\": 0.0, \"recall\": 0.0}, {\"count\": 5, \"cutoff\": 5, \"User-ID\": 42011, \"precision\": 0.0, \"recall\": 0.0}, {\"count\": 5, \"cutoff\": 6, \"User-ID\": 42011, \"precision\": 0.16666666666666666, \"recall\": 0.2}, {\"count\": 5, \"cutoff\": 7, \"User-ID\": 42011, \"precision\": 0.14285714285714285, \"recall\": 0.2}, {\"count\": 5, \"cutoff\": 8, \"User-ID\": 42011, \"precision\": 0.125, \"recall\": 0.2}, {\"count\": 5, \"cutoff\": 9, \"User-ID\": 42011, \"precision\": 0.1111111111111111, \"recall\": 0.2}, {\"count\": 5, \"cutoff\": 10, \"User-ID\": 42011, \"precision\": 0.1, \"recall\": 0.2}, {\"count\": 5, \"cutoff\": 11, \"User-ID\": 42011, \"precision\": 0.09090909090909091, \"recall\": 0.2}, {\"count\": 5, \"cutoff\": 16, \"User-ID\": 42011, \"precision\": 0.0625, \"recall\": 0.2}, {\"count\": 5, \"cutoff\": 21, \"User-ID\": 42011, \"precision\": 0.19047619047619047, \"recall\": 0.8}, {\"count\": 5, \"cutoff\": 26, \"User-ID\": 42011, \"precision\": 0.15384615384615385, \"recall\": 0.8}, {\"count\": 5, \"cutoff\": 31, \"User-ID\": 42011, \"precision\": 0.16129032258064516, \"recall\": 1.0}, {\"count\": 5, \"cutoff\": 36, \"User-ID\": 42011, \"precision\": 0.1388888888888889, \"recall\": 1.0}, {\"count\": 5, \"cutoff\": 41, \"User-ID\": 42011, \"precision\": 0.12195121951219512, \"recall\": 1.0}, {\"count\": 5, \"cutoff\": 46, \"User-ID\": 42011, \"precision\": 0.10869565217391304, \"recall\": 1.0}, {\"count\": 27, \"cutoff\": 1, \"User-ID\": 42305, \"precision\": 1.0, \"recall\": 0.037037037037037035}, {\"count\": 27, \"cutoff\": 2, \"User-ID\": 42305, \"precision\": 1.0, \"recall\": 0.07407407407407407}, {\"count\": 27, \"cutoff\": 3, \"User-ID\": 42305, \"precision\": 1.0, \"recall\": 0.1111111111111111}, {\"count\": 27, \"cutoff\": 4, \"User-ID\": 42305, \"precision\": 1.0, \"recall\": 0.14814814814814814}, {\"count\": 27, \"cutoff\": 5, \"User-ID\": 42305, \"precision\": 1.0, \"recall\": 0.18518518518518517}, {\"count\": 27, \"cutoff\": 6, \"User-ID\": 42305, \"precision\": 1.0, \"recall\": 0.2222222222222222}, {\"count\": 27, \"cutoff\": 7, \"User-ID\": 42305, \"precision\": 1.0, \"recall\": 0.25925925925925924}, {\"count\": 27, \"cutoff\": 8, \"User-ID\": 42305, \"precision\": 1.0, \"recall\": 0.2962962962962963}, {\"count\": 27, \"cutoff\": 9, \"User-ID\": 42305, \"precision\": 1.0, \"recall\": 0.3333333333333333}, {\"count\": 27, \"cutoff\": 10, \"User-ID\": 42305, \"precision\": 1.0, \"recall\": 0.37037037037037035}, {\"count\": 27, \"cutoff\": 11, \"User-ID\": 42305, \"precision\": 1.0, \"recall\": 0.4074074074074074}, {\"count\": 27, \"cutoff\": 16, \"User-ID\": 42305, \"precision\": 1.0, \"recall\": 0.5925925925925926}, {\"count\": 27, \"cutoff\": 21, \"User-ID\": 42305, \"precision\": 1.0, \"recall\": 0.7777777777777778}, {\"count\": 27, \"cutoff\": 26, \"User-ID\": 42305, \"precision\": 1.0, \"recall\": 0.9629629629629629}, {\"count\": 27, \"cutoff\": 31, \"User-ID\": 42305, \"precision\": 0.8709677419354839, \"recall\": 1.0}, {\"count\": 27, \"cutoff\": 36, \"User-ID\": 42305, \"precision\": 0.75, \"recall\": 1.0}, {\"count\": 27, \"cutoff\": 41, \"User-ID\": 42305, \"precision\": 0.6923076923076923, \"recall\": 1.0}, {\"count\": 27, \"cutoff\": 46, \"User-ID\": 42305, \"precision\": 0.6923076923076923, \"recall\": 1.0}, {\"count\": 1, \"cutoff\": 1, \"User-ID\": 42980, \"precision\": 0.0, \"recall\": 0.0}, {\"count\": 1, \"cutoff\": 2, \"User-ID\": 42980, \"precision\": 0.0, \"recall\": 0.0}, {\"count\": 1, \"cutoff\": 3, \"User-ID\": 42980, \"precision\": 0.0, \"recall\": 0.0}, {\"count\": 1, \"cutoff\": 4, \"User-ID\": 42980, \"precision\": 0.0, \"recall\": 0.0}, {\"count\": 1, \"cutoff\": 5, \"User-ID\": 42980, \"precision\": 0.0, \"recall\": 0.0}, {\"count\": 1, \"cutoff\": 6, \"User-ID\": 42980, \"precision\": 0.0, \"recall\": 0.0}, {\"count\": 1, \"cutoff\": 7, \"User-ID\": 42980, \"precision\": 0.0, \"recall\": 0.0}, {\"count\": 1, \"cutoff\": 8, \"User-ID\": 42980, \"precision\": 0.0, \"recall\": 0.0}, {\"count\": 1, \"cutoff\": 9, \"User-ID\": 42980, \"precision\": 0.0, \"recall\": 0.0}, {\"count\": 1, \"cutoff\": 10, \"User-ID\": 42980, \"precision\": 0.0, \"recall\": 0.0}, {\"count\": 1, \"cutoff\": 11, \"User-ID\": 42980, \"precision\": 0.0, \"recall\": 0.0}, {\"count\": 1, \"cutoff\": 16, \"User-ID\": 42980, \"precision\": 0.0, \"recall\": 0.0}, {\"count\": 1, \"cutoff\": 21, \"User-ID\": 42980, \"precision\": 0.0, \"recall\": 0.0}, {\"count\": 1, \"cutoff\": 26, \"User-ID\": 42980, \"precision\": 0.0, \"recall\": 0.0}, {\"count\": 1, \"cutoff\": 31, \"User-ID\": 42980, \"precision\": 0.0, \"recall\": 0.0}, {\"count\": 1, \"cutoff\": 36, \"User-ID\": 42980, \"precision\": 0.0, \"recall\": 0.0}, {\"count\": 1, \"cutoff\": 41, \"User-ID\": 42980, \"precision\": 0.0, \"recall\": 0.0}, {\"count\": 1, \"cutoff\": 46, \"User-ID\": 42980, \"precision\": 0.0, \"recall\": 0.0}, {\"count\": 1, \"cutoff\": 1, \"User-ID\": 43416, \"precision\": 0.0, \"recall\": 0.0}, {\"count\": 1, \"cutoff\": 2, \"User-ID\": 43416, \"precision\": 0.0, \"recall\": 0.0}, {\"count\": 1, \"cutoff\": 3, \"User-ID\": 43416, \"precision\": 0.0, \"recall\": 0.0}, {\"count\": 1, \"cutoff\": 4, \"User-ID\": 43416, \"precision\": 0.0, \"recall\": 0.0}, {\"count\": 1, \"cutoff\": 5, \"User-ID\": 43416, \"precision\": 0.0, \"recall\": 0.0}, {\"count\": 1, \"cutoff\": 6, \"User-ID\": 43416, \"precision\": 0.0, \"recall\": 0.0}, {\"count\": 1, \"cutoff\": 7, \"User-ID\": 43416, \"precision\": 0.0, \"recall\": 0.0}, {\"count\": 1, \"cutoff\": 8, \"User-ID\": 43416, \"precision\": 0.0, \"recall\": 0.0}, {\"count\": 1, \"cutoff\": 9, \"User-ID\": 43416, \"precision\": 0.0, \"recall\": 0.0}, {\"count\": 1, \"cutoff\": 10, \"User-ID\": 43416, \"precision\": 0.0, \"recall\": 0.0}, {\"count\": 1, \"cutoff\": 11, \"User-ID\": 43416, \"precision\": 0.0, \"recall\": 0.0}, {\"count\": 1, \"cutoff\": 16, \"User-ID\": 43416, \"precision\": 0.0, \"recall\": 0.0}, {\"count\": 1, \"cutoff\": 21, \"User-ID\": 43416, \"precision\": 0.0, \"recall\": 0.0}, {\"count\": 1, \"cutoff\": 26, \"User-ID\": 43416, \"precision\": 0.0, \"recall\": 0.0}, {\"count\": 1, \"cutoff\": 31, \"User-ID\": 43416, \"precision\": 0.0, \"recall\": 0.0}, {\"count\": 1, \"cutoff\": 36, \"User-ID\": 43416, \"precision\": 0.0, \"recall\": 0.0}, {\"count\": 1, \"cutoff\": 41, \"User-ID\": 43416, \"precision\": 0.0, \"recall\": 0.0}, {\"count\": 1, \"cutoff\": 46, \"User-ID\": 43416, \"precision\": 0.0, \"recall\": 0.0}, {\"count\": 3, \"cutoff\": 1, \"User-ID\": 45205, \"precision\": 0.0, \"recall\": 0.0}, {\"count\": 3, \"cutoff\": 2, \"User-ID\": 45205, \"precision\": 0.0, \"recall\": 0.0}, {\"count\": 3, \"cutoff\": 3, \"User-ID\": 45205, \"precision\": 0.0, \"recall\": 0.0}, {\"count\": 3, \"cutoff\": 4, \"User-ID\": 45205, \"precision\": 0.0, \"recall\": 0.0}, {\"count\": 3, \"cutoff\": 5, \"User-ID\": 45205, \"precision\": 0.0, \"recall\": 0.0}, {\"count\": 3, \"cutoff\": 6, \"User-ID\": 45205, \"precision\": 0.0, \"recall\": 0.0}, {\"count\": 3, \"cutoff\": 7, \"User-ID\": 45205, \"precision\": 0.0, \"recall\": 0.0}, {\"count\": 3, \"cutoff\": 8, \"User-ID\": 45205, \"precision\": 0.0, \"recall\": 0.0}, {\"count\": 3, \"cutoff\": 9, \"User-ID\": 45205, \"precision\": 0.0, \"recall\": 0.0}, {\"count\": 3, \"cutoff\": 10, \"User-ID\": 45205, \"precision\": 0.0, \"recall\": 0.0}, {\"count\": 3, \"cutoff\": 11, \"User-ID\": 45205, \"precision\": 0.0, \"recall\": 0.0}, {\"count\": 3, \"cutoff\": 16, \"User-ID\": 45205, \"precision\": 0.0, \"recall\": 0.0}, {\"count\": 3, \"cutoff\": 21, \"User-ID\": 45205, \"precision\": 0.0, \"recall\": 0.0}, {\"count\": 3, \"cutoff\": 26, \"User-ID\": 45205, \"precision\": 0.0, \"recall\": 0.0}, {\"count\": 3, \"cutoff\": 31, \"User-ID\": 45205, \"precision\": 0.0, \"recall\": 0.0}, {\"count\": 3, \"cutoff\": 36, \"User-ID\": 45205, \"precision\": 0.0, \"recall\": 0.0}, {\"count\": 3, \"cutoff\": 41, \"User-ID\": 45205, \"precision\": 0.0, \"recall\": 0.0}, {\"count\": 3, \"cutoff\": 46, \"User-ID\": 45205, \"precision\": 0.0, \"recall\": 0.0}, {\"count\": 4, \"cutoff\": 1, \"User-ID\": 45797, \"precision\": 0.0, \"recall\": 0.0}, {\"count\": 4, \"cutoff\": 2, \"User-ID\": 45797, \"precision\": 0.0, \"recall\": 0.0}, {\"count\": 4, \"cutoff\": 3, \"User-ID\": 45797, \"precision\": 0.0, \"recall\": 0.0}, {\"count\": 4, \"cutoff\": 4, \"User-ID\": 45797, \"precision\": 0.0, \"recall\": 0.0}, {\"count\": 4, \"cutoff\": 5, \"User-ID\": 45797, \"precision\": 0.0, \"recall\": 0.0}, {\"count\": 4, \"cutoff\": 6, \"User-ID\": 45797, \"precision\": 0.0, \"recall\": 0.0}, {\"count\": 4, \"cutoff\": 7, \"User-ID\": 45797, \"precision\": 0.0, \"recall\": 0.0}, {\"count\": 4, \"cutoff\": 8, \"User-ID\": 45797, \"precision\": 0.0, \"recall\": 0.0}, {\"count\": 4, \"cutoff\": 9, \"User-ID\": 45797, \"precision\": 0.0, \"recall\": 0.0}, {\"count\": 4, \"cutoff\": 10, \"User-ID\": 45797, \"precision\": 0.0, \"recall\": 0.0}, {\"count\": 4, \"cutoff\": 11, \"User-ID\": 45797, \"precision\": 0.0, \"recall\": 0.0}, {\"count\": 4, \"cutoff\": 16, \"User-ID\": 45797, \"precision\": 0.0, \"recall\": 0.0}, {\"count\": 4, \"cutoff\": 21, \"User-ID\": 45797, \"precision\": 0.0, \"recall\": 0.0}, {\"count\": 4, \"cutoff\": 26, \"User-ID\": 45797, \"precision\": 0.0, \"recall\": 0.0}, {\"count\": 4, \"cutoff\": 31, \"User-ID\": 45797, \"precision\": 0.03225806451612903, \"recall\": 0.25}, {\"count\": 4, \"cutoff\": 36, \"User-ID\": 45797, \"precision\": 0.05555555555555555, \"recall\": 0.5}, {\"count\": 4, \"cutoff\": 41, \"User-ID\": 45797, \"precision\": 0.04878048780487805, \"recall\": 0.5}, {\"count\": 4, \"cutoff\": 46, \"User-ID\": 45797, \"precision\": 0.06521739130434782, \"recall\": 0.75}, {\"count\": 2, \"cutoff\": 1, \"User-ID\": 47668, \"precision\": 0.0, \"recall\": 0.0}, {\"count\": 2, \"cutoff\": 2, \"User-ID\": 47668, \"precision\": 0.0, \"recall\": 0.0}, {\"count\": 2, \"cutoff\": 3, \"User-ID\": 47668, \"precision\": 0.0, \"recall\": 0.0}, {\"count\": 2, \"cutoff\": 4, \"User-ID\": 47668, \"precision\": 0.0, \"recall\": 0.0}, {\"count\": 2, \"cutoff\": 5, \"User-ID\": 47668, \"precision\": 0.0, \"recall\": 0.0}, {\"count\": 2, \"cutoff\": 6, \"User-ID\": 47668, \"precision\": 0.0, \"recall\": 0.0}, {\"count\": 2, \"cutoff\": 7, \"User-ID\": 47668, \"precision\": 0.14285714285714285, \"recall\": 0.5}, {\"count\": 2, \"cutoff\": 8, \"User-ID\": 47668, \"precision\": 0.125, \"recall\": 0.5}, {\"count\": 2, \"cutoff\": 9, \"User-ID\": 47668, \"precision\": 0.1111111111111111, \"recall\": 0.5}, {\"count\": 2, \"cutoff\": 10, \"User-ID\": 47668, \"precision\": 0.1, \"recall\": 0.5}, {\"count\": 2, \"cutoff\": 11, \"User-ID\": 47668, \"precision\": 0.09090909090909091, \"recall\": 0.5}, {\"count\": 2, \"cutoff\": 16, \"User-ID\": 47668, \"precision\": 0.0625, \"recall\": 0.5}, {\"count\": 2, \"cutoff\": 21, \"User-ID\": 47668, \"precision\": 0.09523809523809523, \"recall\": 1.0}, {\"count\": 2, \"cutoff\": 26, \"User-ID\": 47668, \"precision\": 0.07692307692307693, \"recall\": 1.0}, {\"count\": 2, \"cutoff\": 31, \"User-ID\": 47668, \"precision\": 0.06451612903225806, \"recall\": 1.0}, {\"count\": 2, \"cutoff\": 36, \"User-ID\": 47668, \"precision\": 0.05555555555555555, \"recall\": 1.0}, {\"count\": 2, \"cutoff\": 41, \"User-ID\": 47668, \"precision\": 0.04878048780487805, \"recall\": 1.0}, {\"count\": 2, \"cutoff\": 46, \"User-ID\": 47668, \"precision\": 0.043478260869565216, \"recall\": 1.0}, {\"count\": 30, \"cutoff\": 1, \"User-ID\": 49076, \"precision\": 1.0, \"recall\": 0.03333333333333333}, {\"count\": 30, \"cutoff\": 2, \"User-ID\": 49076, \"precision\": 1.0, \"recall\": 0.06666666666666667}, {\"count\": 30, \"cutoff\": 3, \"User-ID\": 49076, \"precision\": 1.0, \"recall\": 0.1}, {\"count\": 30, \"cutoff\": 4, \"User-ID\": 49076, \"precision\": 1.0, \"recall\": 0.13333333333333333}, {\"count\": 30, \"cutoff\": 5, \"User-ID\": 49076, \"precision\": 1.0, \"recall\": 0.16666666666666666}, {\"count\": 30, \"cutoff\": 6, \"User-ID\": 49076, \"precision\": 1.0, \"recall\": 0.2}, {\"count\": 30, \"cutoff\": 7, \"User-ID\": 49076, \"precision\": 1.0, \"recall\": 0.23333333333333334}, {\"count\": 30, \"cutoff\": 8, \"User-ID\": 49076, \"precision\": 1.0, \"recall\": 0.26666666666666666}, {\"count\": 30, \"cutoff\": 9, \"User-ID\": 49076, \"precision\": 1.0, \"recall\": 0.3}, {\"count\": 30, \"cutoff\": 10, \"User-ID\": 49076, \"precision\": 1.0, \"recall\": 0.3333333333333333}, {\"count\": 30, \"cutoff\": 11, \"User-ID\": 49076, \"precision\": 1.0, \"recall\": 0.36666666666666664}, {\"count\": 30, \"cutoff\": 16, \"User-ID\": 49076, \"precision\": 1.0, \"recall\": 0.5333333333333333}, {\"count\": 30, \"cutoff\": 21, \"User-ID\": 49076, \"precision\": 1.0, \"recall\": 0.7}, {\"count\": 30, \"cutoff\": 26, \"User-ID\": 49076, \"precision\": 1.0, \"recall\": 0.8666666666666667}, {\"count\": 30, \"cutoff\": 31, \"User-ID\": 49076, \"precision\": 0.967741935483871, \"recall\": 1.0}, {\"count\": 30, \"cutoff\": 36, \"User-ID\": 49076, \"precision\": 0.8333333333333334, \"recall\": 1.0}, {\"count\": 30, \"cutoff\": 41, \"User-ID\": 49076, \"precision\": 0.7317073170731707, \"recall\": 1.0}, {\"count\": 30, \"cutoff\": 46, \"User-ID\": 49076, \"precision\": 0.7142857142857143, \"recall\": 1.0}, {\"count\": 3, \"cutoff\": 1, \"User-ID\": 49737, \"precision\": 0.0, \"recall\": 0.0}, {\"count\": 3, \"cutoff\": 2, \"User-ID\": 49737, \"precision\": 0.0, \"recall\": 0.0}, {\"count\": 3, \"cutoff\": 3, \"User-ID\": 49737, \"precision\": 0.0, \"recall\": 0.0}, {\"count\": 3, \"cutoff\": 4, \"User-ID\": 49737, \"precision\": 0.0, \"recall\": 0.0}, {\"count\": 3, \"cutoff\": 5, \"User-ID\": 49737, \"precision\": 0.0, \"recall\": 0.0}, {\"count\": 3, \"cutoff\": 6, \"User-ID\": 49737, \"precision\": 0.0, \"recall\": 0.0}, {\"count\": 3, \"cutoff\": 7, \"User-ID\": 49737, \"precision\": 0.0, \"recall\": 0.0}, {\"count\": 3, \"cutoff\": 8, \"User-ID\": 49737, \"precision\": 0.0, \"recall\": 0.0}, {\"count\": 3, \"cutoff\": 9, \"User-ID\": 49737, \"precision\": 0.0, \"recall\": 0.0}, {\"count\": 3, \"cutoff\": 10, \"User-ID\": 49737, \"precision\": 0.1, \"recall\": 0.3333333333333333}, {\"count\": 3, \"cutoff\": 11, \"User-ID\": 49737, \"precision\": 0.09090909090909091, \"recall\": 0.3333333333333333}, {\"count\": 3, \"cutoff\": 16, \"User-ID\": 49737, \"precision\": 0.0625, \"recall\": 0.3333333333333333}, {\"count\": 3, \"cutoff\": 21, \"User-ID\": 49737, \"precision\": 0.047619047619047616, \"recall\": 0.3333333333333333}, {\"count\": 3, \"cutoff\": 26, \"User-ID\": 49737, \"precision\": 0.038461538461538464, \"recall\": 0.3333333333333333}, {\"count\": 3, \"cutoff\": 31, \"User-ID\": 49737, \"precision\": 0.03225806451612903, \"recall\": 0.3333333333333333}, {\"count\": 3, \"cutoff\": 36, \"User-ID\": 49737, \"precision\": 0.027777777777777776, \"recall\": 0.3333333333333333}, {\"count\": 3, \"cutoff\": 41, \"User-ID\": 49737, \"precision\": 0.04878048780487805, \"recall\": 0.6666666666666666}, {\"count\": 3, \"cutoff\": 46, \"User-ID\": 49737, \"precision\": 0.043478260869565216, \"recall\": 0.6666666666666666}, {\"count\": 6, \"cutoff\": 1, \"User-ID\": 49960, \"precision\": 0.0, \"recall\": 0.0}, {\"count\": 6, \"cutoff\": 2, \"User-ID\": 49960, \"precision\": 0.0, \"recall\": 0.0}, {\"count\": 6, \"cutoff\": 3, \"User-ID\": 49960, \"precision\": 0.0, \"recall\": 0.0}, {\"count\": 6, \"cutoff\": 4, \"User-ID\": 49960, \"precision\": 0.0, \"recall\": 0.0}, {\"count\": 6, \"cutoff\": 5, \"User-ID\": 49960, \"precision\": 0.0, \"recall\": 0.0}, {\"count\": 6, \"cutoff\": 6, \"User-ID\": 49960, \"precision\": 0.0, \"recall\": 0.0}, {\"count\": 6, \"cutoff\": 7, \"User-ID\": 49960, \"precision\": 0.14285714285714285, \"recall\": 0.16666666666666666}, {\"count\": 6, \"cutoff\": 8, \"User-ID\": 49960, \"precision\": 0.125, \"recall\": 0.16666666666666666}, {\"count\": 6, \"cutoff\": 9, \"User-ID\": 49960, \"precision\": 0.2222222222222222, \"recall\": 0.3333333333333333}, {\"count\": 6, \"cutoff\": 10, \"User-ID\": 49960, \"precision\": 0.3, \"recall\": 0.5}, {\"count\": 6, \"cutoff\": 11, \"User-ID\": 49960, \"precision\": 0.2727272727272727, \"recall\": 0.5}, {\"count\": 6, \"cutoff\": 16, \"User-ID\": 49960, \"precision\": 0.1875, \"recall\": 0.5}, {\"count\": 6, \"cutoff\": 21, \"User-ID\": 49960, \"precision\": 0.14285714285714285, \"recall\": 0.5}, {\"count\": 6, \"cutoff\": 26, \"User-ID\": 49960, \"precision\": 0.15384615384615385, \"recall\": 0.6666666666666666}, {\"count\": 6, \"cutoff\": 31, \"User-ID\": 49960, \"precision\": 0.12903225806451613, \"recall\": 0.6666666666666666}, {\"count\": 6, \"cutoff\": 36, \"User-ID\": 49960, \"precision\": 0.1111111111111111, \"recall\": 0.6666666666666666}, {\"count\": 6, \"cutoff\": 41, \"User-ID\": 49960, \"precision\": 0.0975609756097561, \"recall\": 0.6666666666666666}, {\"count\": 6, \"cutoff\": 46, \"User-ID\": 49960, \"precision\": 0.08695652173913043, \"recall\": 0.6666666666666666}, {\"count\": 1, \"cutoff\": 1, \"User-ID\": 49978, \"precision\": 0.0, \"recall\": 0.0}, {\"count\": 1, \"cutoff\": 2, \"User-ID\": 49978, \"precision\": 0.0, \"recall\": 0.0}, {\"count\": 1, \"cutoff\": 3, \"User-ID\": 49978, \"precision\": 0.0, \"recall\": 0.0}, {\"count\": 1, \"cutoff\": 4, \"User-ID\": 49978, \"precision\": 0.0, \"recall\": 0.0}, {\"count\": 1, \"cutoff\": 5, \"User-ID\": 49978, \"precision\": 0.0, \"recall\": 0.0}, {\"count\": 1, \"cutoff\": 6, \"User-ID\": 49978, \"precision\": 0.0, \"recall\": 0.0}, {\"count\": 1, \"cutoff\": 7, \"User-ID\": 49978, \"precision\": 0.0, \"recall\": 0.0}, {\"count\": 1, \"cutoff\": 8, \"User-ID\": 49978, \"precision\": 0.0, \"recall\": 0.0}, {\"count\": 1, \"cutoff\": 9, \"User-ID\": 49978, \"precision\": 0.0, \"recall\": 0.0}, {\"count\": 1, \"cutoff\": 10, \"User-ID\": 49978, \"precision\": 0.0, \"recall\": 0.0}, {\"count\": 1, \"cutoff\": 11, \"User-ID\": 49978, \"precision\": 0.0, \"recall\": 0.0}, {\"count\": 1, \"cutoff\": 16, \"User-ID\": 49978, \"precision\": 0.0, \"recall\": 0.0}, {\"count\": 1, \"cutoff\": 21, \"User-ID\": 49978, \"precision\": 0.0, \"recall\": 0.0}, {\"count\": 1, \"cutoff\": 26, \"User-ID\": 49978, \"precision\": 0.0, \"recall\": 0.0}, {\"count\": 1, \"cutoff\": 31, \"User-ID\": 49978, \"precision\": 0.0, \"recall\": 0.0}, {\"count\": 1, \"cutoff\": 36, \"User-ID\": 49978, \"precision\": 0.0, \"recall\": 0.0}, {\"count\": 1, \"cutoff\": 41, \"User-ID\": 49978, \"precision\": 0.0, \"recall\": 0.0}, {\"count\": 1, \"cutoff\": 46, \"User-ID\": 49978, \"precision\": 0.0, \"recall\": 0.0}, {\"count\": 21, \"cutoff\": 1, \"User-ID\": 50226, \"precision\": 1.0, \"recall\": 0.047619047619047616}, {\"count\": 21, \"cutoff\": 2, \"User-ID\": 50226, \"precision\": 1.0, \"recall\": 0.09523809523809523}, {\"count\": 21, \"cutoff\": 3, \"User-ID\": 50226, \"precision\": 1.0, \"recall\": 0.14285714285714285}, {\"count\": 21, \"cutoff\": 4, \"User-ID\": 50226, \"precision\": 1.0, \"recall\": 0.19047619047619047}, {\"count\": 21, \"cutoff\": 5, \"User-ID\": 50226, \"precision\": 1.0, \"recall\": 0.23809523809523808}, {\"count\": 21, \"cutoff\": 6, \"User-ID\": 50226, \"precision\": 1.0, \"recall\": 0.2857142857142857}, {\"count\": 21, \"cutoff\": 7, \"User-ID\": 50226, \"precision\": 1.0, \"recall\": 0.3333333333333333}, {\"count\": 21, \"cutoff\": 8, \"User-ID\": 50226, \"precision\": 1.0, \"recall\": 0.38095238095238093}, {\"count\": 21, \"cutoff\": 9, \"User-ID\": 50226, \"precision\": 1.0, \"recall\": 0.42857142857142855}, {\"count\": 21, \"cutoff\": 10, \"User-ID\": 50226, \"precision\": 1.0, \"recall\": 0.47619047619047616}, {\"count\": 21, \"cutoff\": 11, \"User-ID\": 50226, \"precision\": 1.0, \"recall\": 0.5238095238095238}, {\"count\": 21, \"cutoff\": 16, \"User-ID\": 50226, \"precision\": 1.0, \"recall\": 0.7619047619047619}, {\"count\": 21, \"cutoff\": 21, \"User-ID\": 50226, \"precision\": 1.0, \"recall\": 1.0}, {\"count\": 21, \"cutoff\": 26, \"User-ID\": 50226, \"precision\": 0.8076923076923077, \"recall\": 1.0}, {\"count\": 21, \"cutoff\": 31, \"User-ID\": 50226, \"precision\": 0.6774193548387096, \"recall\": 1.0}, {\"count\": 21, \"cutoff\": 36, \"User-ID\": 50226, \"precision\": 0.6363636363636364, \"recall\": 1.0}, {\"count\": 21, \"cutoff\": 41, \"User-ID\": 50226, \"precision\": 0.6363636363636364, \"recall\": 1.0}, {\"count\": 21, \"cutoff\": 46, \"User-ID\": 50226, \"precision\": 0.6363636363636364, \"recall\": 1.0}, {\"count\": 12, \"cutoff\": 1, \"User-ID\": 51499, \"precision\": 1.0, \"recall\": 0.08333333333333333}, {\"count\": 12, \"cutoff\": 2, \"User-ID\": 51499, \"precision\": 0.5, \"recall\": 0.08333333333333333}, {\"count\": 12, \"cutoff\": 3, \"User-ID\": 51499, \"precision\": 0.3333333333333333, \"recall\": 0.08333333333333333}, {\"count\": 12, \"cutoff\": 4, \"User-ID\": 51499, \"precision\": 0.25, \"recall\": 0.08333333333333333}, {\"count\": 12, \"cutoff\": 5, \"User-ID\": 51499, \"precision\": 0.4, \"recall\": 0.16666666666666666}, {\"count\": 12, \"cutoff\": 6, \"User-ID\": 51499, \"precision\": 0.5, \"recall\": 0.25}, {\"count\": 12, \"cutoff\": 7, \"User-ID\": 51499, \"precision\": 0.42857142857142855, \"recall\": 0.25}, {\"count\": 12, \"cutoff\": 8, \"User-ID\": 51499, \"precision\": 0.5, \"recall\": 0.3333333333333333}, {\"count\": 12, \"cutoff\": 9, \"User-ID\": 51499, \"precision\": 0.5555555555555556, \"recall\": 0.4166666666666667}, {\"count\": 12, \"cutoff\": 10, \"User-ID\": 51499, \"precision\": 0.6, \"recall\": 0.5}, {\"count\": 12, \"cutoff\": 11, \"User-ID\": 51499, \"precision\": 0.5454545454545454, \"recall\": 0.5}, {\"count\": 12, \"cutoff\": 16, \"User-ID\": 51499, \"precision\": 0.5625, \"recall\": 0.75}, {\"count\": 12, \"cutoff\": 21, \"User-ID\": 51499, \"precision\": 0.42857142857142855, \"recall\": 0.75}, {\"count\": 12, \"cutoff\": 26, \"User-ID\": 51499, \"precision\": 0.34615384615384615, \"recall\": 0.75}, {\"count\": 12, \"cutoff\": 31, \"User-ID\": 51499, \"precision\": 0.2903225806451613, \"recall\": 0.75}, {\"count\": 12, \"cutoff\": 36, \"User-ID\": 51499, \"precision\": 0.2777777777777778, \"recall\": 0.8333333333333334}, {\"count\": 12, \"cutoff\": 41, \"User-ID\": 51499, \"precision\": 0.2682926829268293, \"recall\": 0.9166666666666666}, {\"count\": 12, \"cutoff\": 46, \"User-ID\": 51499, \"precision\": 0.2391304347826087, \"recall\": 0.9166666666666666}, {\"count\": 4, \"cutoff\": 1, \"User-ID\": 51898, \"precision\": 0.0, \"recall\": 0.0}, {\"count\": 4, \"cutoff\": 2, \"User-ID\": 51898, \"precision\": 0.0, \"recall\": 0.0}, {\"count\": 4, \"cutoff\": 3, \"User-ID\": 51898, \"precision\": 0.0, \"recall\": 0.0}, {\"count\": 4, \"cutoff\": 4, \"User-ID\": 51898, \"precision\": 0.25, \"recall\": 0.25}, {\"count\": 4, \"cutoff\": 5, \"User-ID\": 51898, \"precision\": 0.2, \"recall\": 0.25}, {\"count\": 4, \"cutoff\": 6, \"User-ID\": 51898, \"precision\": 0.3333333333333333, \"recall\": 0.5}, {\"count\": 4, \"cutoff\": 7, \"User-ID\": 51898, \"precision\": 0.2857142857142857, \"recall\": 0.5}, {\"count\": 4, \"cutoff\": 8, \"User-ID\": 51898, \"precision\": 0.25, \"recall\": 0.5}, {\"count\": 4, \"cutoff\": 9, \"User-ID\": 51898, \"precision\": 0.2222222222222222, \"recall\": 0.5}, {\"count\": 4, \"cutoff\": 10, \"User-ID\": 51898, \"precision\": 0.2, \"recall\": 0.5}, {\"count\": 4, \"cutoff\": 11, \"User-ID\": 51898, \"precision\": 0.18181818181818182, \"recall\": 0.5}, {\"count\": 4, \"cutoff\": 16, \"User-ID\": 51898, \"precision\": 0.1875, \"recall\": 0.75}, {\"count\": 4, \"cutoff\": 21, \"User-ID\": 51898, \"precision\": 0.14285714285714285, \"recall\": 0.75}, {\"count\": 4, \"cutoff\": 26, \"User-ID\": 51898, \"precision\": 0.11538461538461539, \"recall\": 0.75}, {\"count\": 4, \"cutoff\": 31, \"User-ID\": 51898, \"precision\": 0.12903225806451613, \"recall\": 1.0}, {\"count\": 4, \"cutoff\": 36, \"User-ID\": 51898, \"precision\": 0.1111111111111111, \"recall\": 1.0}, {\"count\": 4, \"cutoff\": 41, \"User-ID\": 51898, \"precision\": 0.0975609756097561, \"recall\": 1.0}, {\"count\": 4, \"cutoff\": 46, \"User-ID\": 51898, \"precision\": 0.08695652173913043, \"recall\": 1.0}, {\"count\": 5, \"cutoff\": 1, \"User-ID\": 53846, \"precision\": 1.0, \"recall\": 0.2}, {\"count\": 5, \"cutoff\": 2, \"User-ID\": 53846, \"precision\": 0.5, \"recall\": 0.2}, {\"count\": 5, \"cutoff\": 3, \"User-ID\": 53846, \"precision\": 0.3333333333333333, \"recall\": 0.2}, {\"count\": 5, \"cutoff\": 4, \"User-ID\": 53846, \"precision\": 0.25, \"recall\": 0.2}, {\"count\": 5, \"cutoff\": 5, \"User-ID\": 53846, \"precision\": 0.2, \"recall\": 0.2}, {\"count\": 5, \"cutoff\": 6, \"User-ID\": 53846, \"precision\": 0.16666666666666666, \"recall\": 0.2}, {\"count\": 5, \"cutoff\": 7, \"User-ID\": 53846, \"precision\": 0.14285714285714285, \"recall\": 0.2}, {\"count\": 5, \"cutoff\": 8, \"User-ID\": 53846, \"precision\": 0.25, \"recall\": 0.4}, {\"count\": 5, \"cutoff\": 9, \"User-ID\": 53846, \"precision\": 0.3333333333333333, \"recall\": 0.6}, {\"count\": 5, \"cutoff\": 10, \"User-ID\": 53846, \"precision\": 0.3, \"recall\": 0.6}, {\"count\": 5, \"cutoff\": 11, \"User-ID\": 53846, \"precision\": 0.2727272727272727, \"recall\": 0.6}, {\"count\": 5, \"cutoff\": 16, \"User-ID\": 53846, \"precision\": 0.25, \"recall\": 0.8}, {\"count\": 5, \"cutoff\": 21, \"User-ID\": 53846, \"precision\": 0.19047619047619047, \"recall\": 0.8}, {\"count\": 5, \"cutoff\": 26, \"User-ID\": 53846, \"precision\": 0.15384615384615385, \"recall\": 0.8}, {\"count\": 5, \"cutoff\": 31, \"User-ID\": 53846, \"precision\": 0.12903225806451613, \"recall\": 0.8}, {\"count\": 5, \"cutoff\": 36, \"User-ID\": 53846, \"precision\": 0.1388888888888889, \"recall\": 1.0}, {\"count\": 5, \"cutoff\": 41, \"User-ID\": 53846, \"precision\": 0.12195121951219512, \"recall\": 1.0}, {\"count\": 5, \"cutoff\": 46, \"User-ID\": 53846, \"precision\": 0.10869565217391304, \"recall\": 1.0}, {\"count\": 1, \"cutoff\": 1, \"User-ID\": 53916, \"precision\": 0.0, \"recall\": 0.0}, {\"count\": 1, \"cutoff\": 2, \"User-ID\": 53916, \"precision\": 0.0, \"recall\": 0.0}, {\"count\": 1, \"cutoff\": 3, \"User-ID\": 53916, \"precision\": 0.0, \"recall\": 0.0}, {\"count\": 1, \"cutoff\": 4, \"User-ID\": 53916, \"precision\": 0.0, \"recall\": 0.0}, {\"count\": 1, \"cutoff\": 5, \"User-ID\": 53916, \"precision\": 0.0, \"recall\": 0.0}, {\"count\": 1, \"cutoff\": 6, \"User-ID\": 53916, \"precision\": 0.0, \"recall\": 0.0}, {\"count\": 1, \"cutoff\": 7, \"User-ID\": 53916, \"precision\": 0.0, \"recall\": 0.0}, {\"count\": 1, \"cutoff\": 8, \"User-ID\": 53916, \"precision\": 0.0, \"recall\": 0.0}, {\"count\": 1, \"cutoff\": 9, \"User-ID\": 53916, \"precision\": 0.0, \"recall\": 0.0}, {\"count\": 1, \"cutoff\": 10, \"User-ID\": 53916, \"precision\": 0.0, \"recall\": 0.0}, {\"count\": 1, \"cutoff\": 11, \"User-ID\": 53916, \"precision\": 0.0, \"recall\": 0.0}, {\"count\": 1, \"cutoff\": 16, \"User-ID\": 53916, \"precision\": 0.0, \"recall\": 0.0}, {\"count\": 1, \"cutoff\": 21, \"User-ID\": 53916, \"precision\": 0.0, \"recall\": 0.0}, {\"count\": 1, \"cutoff\": 26, \"User-ID\": 53916, \"precision\": 0.0, \"recall\": 0.0}, {\"count\": 1, \"cutoff\": 31, \"User-ID\": 53916, \"precision\": 0.0, \"recall\": 0.0}, {\"count\": 1, \"cutoff\": 36, \"User-ID\": 53916, \"precision\": 0.0, \"recall\": 0.0}, {\"count\": 1, \"cutoff\": 41, \"User-ID\": 53916, \"precision\": 0.024390243902439025, \"recall\": 1.0}, {\"count\": 1, \"cutoff\": 46, \"User-ID\": 53916, \"precision\": 0.021739130434782608, \"recall\": 1.0}, {\"count\": 3, \"cutoff\": 1, \"User-ID\": 55321, \"precision\": 0.0, \"recall\": 0.0}, {\"count\": 3, \"cutoff\": 2, \"User-ID\": 55321, \"precision\": 0.0, \"recall\": 0.0}, {\"count\": 3, \"cutoff\": 3, \"User-ID\": 55321, \"precision\": 0.0, \"recall\": 0.0}, {\"count\": 3, \"cutoff\": 4, \"User-ID\": 55321, \"precision\": 0.0, \"recall\": 0.0}, {\"count\": 3, \"cutoff\": 5, \"User-ID\": 55321, \"precision\": 0.0, \"recall\": 0.0}, {\"count\": 3, \"cutoff\": 6, \"User-ID\": 55321, \"precision\": 0.0, \"recall\": 0.0}, {\"count\": 3, \"cutoff\": 7, \"User-ID\": 55321, \"precision\": 0.0, \"recall\": 0.0}, {\"count\": 3, \"cutoff\": 8, \"User-ID\": 55321, \"precision\": 0.0, \"recall\": 0.0}, {\"count\": 3, \"cutoff\": 9, \"User-ID\": 55321, \"precision\": 0.0, \"recall\": 0.0}, {\"count\": 3, \"cutoff\": 10, \"User-ID\": 55321, \"precision\": 0.0, \"recall\": 0.0}, {\"count\": 3, \"cutoff\": 11, \"User-ID\": 55321, \"precision\": 0.0, \"recall\": 0.0}, {\"count\": 3, \"cutoff\": 16, \"User-ID\": 55321, \"precision\": 0.0, \"recall\": 0.0}, {\"count\": 3, \"cutoff\": 21, \"User-ID\": 55321, \"precision\": 0.0, \"recall\": 0.0}, {\"count\": 3, \"cutoff\": 26, \"User-ID\": 55321, \"precision\": 0.0, \"recall\": 0.0}, {\"count\": 3, \"cutoff\": 31, \"User-ID\": 55321, \"precision\": 0.0, \"recall\": 0.0}, {\"count\": 3, \"cutoff\": 36, \"User-ID\": 55321, \"precision\": 0.0, \"recall\": 0.0}, {\"count\": 3, \"cutoff\": 41, \"User-ID\": 55321, \"precision\": 0.0, \"recall\": 0.0}, {\"count\": 3, \"cutoff\": 46, \"User-ID\": 55321, \"precision\": 0.0, \"recall\": 0.0}, {\"count\": 1, \"cutoff\": 1, \"User-ID\": 55558, \"precision\": 0.0, \"recall\": 0.0}, {\"count\": 1, \"cutoff\": 2, \"User-ID\": 55558, \"precision\": 0.0, \"recall\": 0.0}, {\"count\": 1, \"cutoff\": 3, \"User-ID\": 55558, \"precision\": 0.0, \"recall\": 0.0}, {\"count\": 1, \"cutoff\": 4, \"User-ID\": 55558, \"precision\": 0.0, \"recall\": 0.0}, {\"count\": 1, \"cutoff\": 5, \"User-ID\": 55558, \"precision\": 0.0, \"recall\": 0.0}, {\"count\": 1, \"cutoff\": 6, \"User-ID\": 55558, \"precision\": 0.0, \"recall\": 0.0}, {\"count\": 1, \"cutoff\": 7, \"User-ID\": 55558, \"precision\": 0.0, \"recall\": 0.0}, {\"count\": 1, \"cutoff\": 8, \"User-ID\": 55558, \"precision\": 0.0, \"recall\": 0.0}, {\"count\": 1, \"cutoff\": 9, \"User-ID\": 55558, \"precision\": 0.0, \"recall\": 0.0}, {\"count\": 1, \"cutoff\": 10, \"User-ID\": 55558, \"precision\": 0.0, \"recall\": 0.0}, {\"count\": 1, \"cutoff\": 11, \"User-ID\": 55558, \"precision\": 0.0, \"recall\": 0.0}, {\"count\": 1, \"cutoff\": 16, \"User-ID\": 55558, \"precision\": 0.0, \"recall\": 0.0}, {\"count\": 1, \"cutoff\": 21, \"User-ID\": 55558, \"precision\": 0.0, \"recall\": 0.0}, {\"count\": 1, \"cutoff\": 26, \"User-ID\": 55558, \"precision\": 0.0, \"recall\": 0.0}, {\"count\": 1, \"cutoff\": 31, \"User-ID\": 55558, \"precision\": 0.03225806451612903, \"recall\": 1.0}, {\"count\": 1, \"cutoff\": 36, \"User-ID\": 55558, \"precision\": 0.027777777777777776, \"recall\": 1.0}, {\"count\": 1, \"cutoff\": 41, \"User-ID\": 55558, \"precision\": 0.024390243902439025, \"recall\": 1.0}, {\"count\": 1, \"cutoff\": 46, \"User-ID\": 55558, \"precision\": 0.021739130434782608, \"recall\": 1.0}, {\"count\": 5, \"cutoff\": 1, \"User-ID\": 55970, \"precision\": 0.0, \"recall\": 0.0}, {\"count\": 5, \"cutoff\": 2, \"User-ID\": 55970, \"precision\": 0.0, \"recall\": 0.0}, {\"count\": 5, \"cutoff\": 3, \"User-ID\": 55970, \"precision\": 0.0, \"recall\": 0.0}, {\"count\": 5, \"cutoff\": 4, \"User-ID\": 55970, \"precision\": 0.25, \"recall\": 0.2}, {\"count\": 5, \"cutoff\": 5, \"User-ID\": 55970, \"precision\": 0.2, \"recall\": 0.2}, {\"count\": 5, \"cutoff\": 6, \"User-ID\": 55970, \"precision\": 0.16666666666666666, \"recall\": 0.2}, {\"count\": 5, \"cutoff\": 7, \"User-ID\": 55970, \"precision\": 0.14285714285714285, \"recall\": 0.2}, {\"count\": 5, \"cutoff\": 8, \"User-ID\": 55970, \"precision\": 0.125, \"recall\": 0.2}, {\"count\": 5, \"cutoff\": 9, \"User-ID\": 55970, \"precision\": 0.1111111111111111, \"recall\": 0.2}, {\"count\": 5, \"cutoff\": 10, \"User-ID\": 55970, \"precision\": 0.2, \"recall\": 0.4}, {\"count\": 5, \"cutoff\": 11, \"User-ID\": 55970, \"precision\": 0.2727272727272727, \"recall\": 0.6}, {\"count\": 5, \"cutoff\": 16, \"User-ID\": 55970, \"precision\": 0.1875, \"recall\": 0.6}, {\"count\": 5, \"cutoff\": 21, \"User-ID\": 55970, \"precision\": 0.14285714285714285, \"recall\": 0.6}, {\"count\": 5, \"cutoff\": 26, \"User-ID\": 55970, \"precision\": 0.11538461538461539, \"recall\": 0.6}, {\"count\": 5, \"cutoff\": 31, \"User-ID\": 55970, \"precision\": 0.12903225806451613, \"recall\": 0.8}, {\"count\": 5, \"cutoff\": 36, \"User-ID\": 55970, \"precision\": 0.1388888888888889, \"recall\": 1.0}, {\"count\": 5, \"cutoff\": 41, \"User-ID\": 55970, \"precision\": 0.12195121951219512, \"recall\": 1.0}, {\"count\": 5, \"cutoff\": 46, \"User-ID\": 55970, \"precision\": 0.10869565217391304, \"recall\": 1.0}, {\"count\": 8, \"cutoff\": 1, \"User-ID\": 57618, \"precision\": 0.0, \"recall\": 0.0}, {\"count\": 8, \"cutoff\": 2, \"User-ID\": 57618, \"precision\": 0.0, \"recall\": 0.0}, {\"count\": 8, \"cutoff\": 3, \"User-ID\": 57618, \"precision\": 0.3333333333333333, \"recall\": 0.125}, {\"count\": 8, \"cutoff\": 4, \"User-ID\": 57618, \"precision\": 0.25, \"recall\": 0.125}, {\"count\": 8, \"cutoff\": 5, \"User-ID\": 57618, \"precision\": 0.4, \"recall\": 0.25}, {\"count\": 8, \"cutoff\": 6, \"User-ID\": 57618, \"precision\": 0.3333333333333333, \"recall\": 0.25}, {\"count\": 8, \"cutoff\": 7, \"User-ID\": 57618, \"precision\": 0.42857142857142855, \"recall\": 0.375}, {\"count\": 8, \"cutoff\": 8, \"User-ID\": 57618, \"precision\": 0.375, \"recall\": 0.375}, {\"count\": 8, \"cutoff\": 9, \"User-ID\": 57618, \"precision\": 0.3333333333333333, \"recall\": 0.375}, {\"count\": 8, \"cutoff\": 10, \"User-ID\": 57618, \"precision\": 0.3, \"recall\": 0.375}, {\"count\": 8, \"cutoff\": 11, \"User-ID\": 57618, \"precision\": 0.2727272727272727, \"recall\": 0.375}, {\"count\": 8, \"cutoff\": 16, \"User-ID\": 57618, \"precision\": 0.25, \"recall\": 0.5}, {\"count\": 8, \"cutoff\": 21, \"User-ID\": 57618, \"precision\": 0.23809523809523808, \"recall\": 0.625}, {\"count\": 8, \"cutoff\": 26, \"User-ID\": 57618, \"precision\": 0.19230769230769232, \"recall\": 0.625}, {\"count\": 8, \"cutoff\": 31, \"User-ID\": 57618, \"precision\": 0.1935483870967742, \"recall\": 0.75}, {\"count\": 8, \"cutoff\": 36, \"User-ID\": 57618, \"precision\": 0.16666666666666666, \"recall\": 0.75}, {\"count\": 8, \"cutoff\": 41, \"User-ID\": 57618, \"precision\": 0.14634146341463414, \"recall\": 0.75}, {\"count\": 8, \"cutoff\": 46, \"User-ID\": 57618, \"precision\": 0.15217391304347827, \"recall\": 0.875}, {\"count\": 5, \"cutoff\": 1, \"User-ID\": 57975, \"precision\": 0.0, \"recall\": 0.0}, {\"count\": 5, \"cutoff\": 2, \"User-ID\": 57975, \"precision\": 0.0, \"recall\": 0.0}, {\"count\": 5, \"cutoff\": 3, \"User-ID\": 57975, \"precision\": 0.3333333333333333, \"recall\": 0.2}, {\"count\": 5, \"cutoff\": 4, \"User-ID\": 57975, \"precision\": 0.25, \"recall\": 0.2}, {\"count\": 5, \"cutoff\": 5, \"User-ID\": 57975, \"precision\": 0.2, \"recall\": 0.2}, {\"count\": 5, \"cutoff\": 6, \"User-ID\": 57975, \"precision\": 0.16666666666666666, \"recall\": 0.2}, {\"count\": 5, \"cutoff\": 7, \"User-ID\": 57975, \"precision\": 0.14285714285714285, \"recall\": 0.2}, {\"count\": 5, \"cutoff\": 8, \"User-ID\": 57975, \"precision\": 0.125, \"recall\": 0.2}, {\"count\": 5, \"cutoff\": 9, \"User-ID\": 57975, \"precision\": 0.1111111111111111, \"recall\": 0.2}, {\"count\": 5, \"cutoff\": 10, \"User-ID\": 57975, \"precision\": 0.1, \"recall\": 0.2}, {\"count\": 5, \"cutoff\": 11, \"User-ID\": 57975, \"precision\": 0.09090909090909091, \"recall\": 0.2}, {\"count\": 5, \"cutoff\": 16, \"User-ID\": 57975, \"precision\": 0.125, \"recall\": 0.4}, {\"count\": 5, \"cutoff\": 21, \"User-ID\": 57975, \"precision\": 0.09523809523809523, \"recall\": 0.4}, {\"count\": 5, \"cutoff\": 26, \"User-ID\": 57975, \"precision\": 0.07692307692307693, \"recall\": 0.4}, {\"count\": 5, \"cutoff\": 31, \"User-ID\": 57975, \"precision\": 0.06451612903225806, \"recall\": 0.4}, {\"count\": 5, \"cutoff\": 36, \"User-ID\": 57975, \"precision\": 0.1388888888888889, \"recall\": 1.0}, {\"count\": 5, \"cutoff\": 41, \"User-ID\": 57975, \"precision\": 0.12195121951219512, \"recall\": 1.0}, {\"count\": 5, \"cutoff\": 46, \"User-ID\": 57975, \"precision\": 0.10869565217391304, \"recall\": 1.0}, {\"count\": 1, \"cutoff\": 1, \"User-ID\": 58409, \"precision\": 0.0, \"recall\": 0.0}, {\"count\": 1, \"cutoff\": 2, \"User-ID\": 58409, \"precision\": 0.0, \"recall\": 0.0}, {\"count\": 1, \"cutoff\": 3, \"User-ID\": 58409, \"precision\": 0.0, \"recall\": 0.0}, {\"count\": 1, \"cutoff\": 4, \"User-ID\": 58409, \"precision\": 0.0, \"recall\": 0.0}, {\"count\": 1, \"cutoff\": 5, \"User-ID\": 58409, \"precision\": 0.0, \"recall\": 0.0}, {\"count\": 1, \"cutoff\": 6, \"User-ID\": 58409, \"precision\": 0.0, \"recall\": 0.0}, {\"count\": 1, \"cutoff\": 7, \"User-ID\": 58409, \"precision\": 0.0, \"recall\": 0.0}, {\"count\": 1, \"cutoff\": 8, \"User-ID\": 58409, \"precision\": 0.0, \"recall\": 0.0}, {\"count\": 1, \"cutoff\": 9, \"User-ID\": 58409, \"precision\": 0.0, \"recall\": 0.0}, {\"count\": 1, \"cutoff\": 10, \"User-ID\": 58409, \"precision\": 0.0, \"recall\": 0.0}, {\"count\": 1, \"cutoff\": 11, \"User-ID\": 58409, \"precision\": 0.0, \"recall\": 0.0}, {\"count\": 1, \"cutoff\": 16, \"User-ID\": 58409, \"precision\": 0.0625, \"recall\": 1.0}, {\"count\": 1, \"cutoff\": 21, \"User-ID\": 58409, \"precision\": 0.047619047619047616, \"recall\": 1.0}, {\"count\": 1, \"cutoff\": 26, \"User-ID\": 58409, \"precision\": 0.038461538461538464, \"recall\": 1.0}, {\"count\": 1, \"cutoff\": 31, \"User-ID\": 58409, \"precision\": 0.03225806451612903, \"recall\": 1.0}, {\"count\": 1, \"cutoff\": 36, \"User-ID\": 58409, \"precision\": 0.027777777777777776, \"recall\": 1.0}, {\"count\": 1, \"cutoff\": 41, \"User-ID\": 58409, \"precision\": 0.024390243902439025, \"recall\": 1.0}, {\"count\": 1, \"cutoff\": 46, \"User-ID\": 58409, \"precision\": 0.021739130434782608, \"recall\": 1.0}, {\"count\": 9, \"cutoff\": 1, \"User-ID\": 59687, \"precision\": 1.0, \"recall\": 0.1111111111111111}, {\"count\": 9, \"cutoff\": 2, \"User-ID\": 59687, \"precision\": 1.0, \"recall\": 0.2222222222222222}, {\"count\": 9, \"cutoff\": 3, \"User-ID\": 59687, \"precision\": 0.6666666666666666, \"recall\": 0.2222222222222222}, {\"count\": 9, \"cutoff\": 4, \"User-ID\": 59687, \"precision\": 0.75, \"recall\": 0.3333333333333333}, {\"count\": 9, \"cutoff\": 5, \"User-ID\": 59687, \"precision\": 0.6, \"recall\": 0.3333333333333333}, {\"count\": 9, \"cutoff\": 6, \"User-ID\": 59687, \"precision\": 0.6666666666666666, \"recall\": 0.4444444444444444}, {\"count\": 9, \"cutoff\": 7, \"User-ID\": 59687, \"precision\": 0.5714285714285714, \"recall\": 0.4444444444444444}, {\"count\": 9, \"cutoff\": 8, \"User-ID\": 59687, \"precision\": 0.5, \"recall\": 0.4444444444444444}, {\"count\": 9, \"cutoff\": 9, \"User-ID\": 59687, \"precision\": 0.4444444444444444, \"recall\": 0.4444444444444444}, {\"count\": 9, \"cutoff\": 10, \"User-ID\": 59687, \"precision\": 0.4, \"recall\": 0.4444444444444444}, {\"count\": 9, \"cutoff\": 11, \"User-ID\": 59687, \"precision\": 0.36363636363636365, \"recall\": 0.4444444444444444}, {\"count\": 9, \"cutoff\": 16, \"User-ID\": 59687, \"precision\": 0.3125, \"recall\": 0.5555555555555556}, {\"count\": 9, \"cutoff\": 21, \"User-ID\": 59687, \"precision\": 0.2857142857142857, \"recall\": 0.6666666666666666}, {\"count\": 9, \"cutoff\": 26, \"User-ID\": 59687, \"precision\": 0.2692307692307692, \"recall\": 0.7777777777777778}, {\"count\": 9, \"cutoff\": 31, \"User-ID\": 59687, \"precision\": 0.25806451612903225, \"recall\": 0.8888888888888888}, {\"count\": 9, \"cutoff\": 36, \"User-ID\": 59687, \"precision\": 0.2222222222222222, \"recall\": 0.8888888888888888}, {\"count\": 9, \"cutoff\": 41, \"User-ID\": 59687, \"precision\": 0.1951219512195122, \"recall\": 0.8888888888888888}, {\"count\": 9, \"cutoff\": 46, \"User-ID\": 59687, \"precision\": 0.1956521739130435, \"recall\": 1.0}, {\"count\": 3, \"cutoff\": 1, \"User-ID\": 61098, \"precision\": 0.0, \"recall\": 0.0}, {\"count\": 3, \"cutoff\": 2, \"User-ID\": 61098, \"precision\": 0.0, \"recall\": 0.0}, {\"count\": 3, \"cutoff\": 3, \"User-ID\": 61098, \"precision\": 0.0, \"recall\": 0.0}, {\"count\": 3, \"cutoff\": 4, \"User-ID\": 61098, \"precision\": 0.0, \"recall\": 0.0}, {\"count\": 3, \"cutoff\": 5, \"User-ID\": 61098, \"precision\": 0.0, \"recall\": 0.0}, {\"count\": 3, \"cutoff\": 6, \"User-ID\": 61098, \"precision\": 0.0, \"recall\": 0.0}, {\"count\": 3, \"cutoff\": 7, \"User-ID\": 61098, \"precision\": 0.0, \"recall\": 0.0}, {\"count\": 3, \"cutoff\": 8, \"User-ID\": 61098, \"precision\": 0.0, \"recall\": 0.0}, {\"count\": 3, \"cutoff\": 9, \"User-ID\": 61098, \"precision\": 0.0, \"recall\": 0.0}, {\"count\": 3, \"cutoff\": 10, \"User-ID\": 61098, \"precision\": 0.0, \"recall\": 0.0}, {\"count\": 3, \"cutoff\": 11, \"User-ID\": 61098, \"precision\": 0.09090909090909091, \"recall\": 0.3333333333333333}, {\"count\": 3, \"cutoff\": 16, \"User-ID\": 61098, \"precision\": 0.125, \"recall\": 0.6666666666666666}, {\"count\": 3, \"cutoff\": 21, \"User-ID\": 61098, \"precision\": 0.09523809523809523, \"recall\": 0.6666666666666666}, {\"count\": 3, \"cutoff\": 26, \"User-ID\": 61098, \"precision\": 0.07692307692307693, \"recall\": 0.6666666666666666}, {\"count\": 3, \"cutoff\": 31, \"User-ID\": 61098, \"precision\": 0.06451612903225806, \"recall\": 0.6666666666666666}, {\"count\": 3, \"cutoff\": 36, \"User-ID\": 61098, \"precision\": 0.05555555555555555, \"recall\": 0.6666666666666666}, {\"count\": 3, \"cutoff\": 41, \"User-ID\": 61098, \"precision\": 0.04878048780487805, \"recall\": 0.6666666666666666}, {\"count\": 3, \"cutoff\": 46, \"User-ID\": 61098, \"precision\": 0.043478260869565216, \"recall\": 0.6666666666666666}, {\"count\": 3, \"cutoff\": 1, \"User-ID\": 61709, \"precision\": 1.0, \"recall\": 0.3333333333333333}, {\"count\": 3, \"cutoff\": 2, \"User-ID\": 61709, \"precision\": 0.5, \"recall\": 0.3333333333333333}, {\"count\": 3, \"cutoff\": 3, \"User-ID\": 61709, \"precision\": 0.3333333333333333, \"recall\": 0.3333333333333333}, {\"count\": 3, \"cutoff\": 4, \"User-ID\": 61709, \"precision\": 0.25, \"recall\": 0.3333333333333333}, {\"count\": 3, \"cutoff\": 5, \"User-ID\": 61709, \"precision\": 0.2, \"recall\": 0.3333333333333333}, {\"count\": 3, \"cutoff\": 6, \"User-ID\": 61709, \"precision\": 0.16666666666666666, \"recall\": 0.3333333333333333}, {\"count\": 3, \"cutoff\": 7, \"User-ID\": 61709, \"precision\": 0.14285714285714285, \"recall\": 0.3333333333333333}, {\"count\": 3, \"cutoff\": 8, \"User-ID\": 61709, \"precision\": 0.125, \"recall\": 0.3333333333333333}, {\"count\": 3, \"cutoff\": 9, \"User-ID\": 61709, \"precision\": 0.1111111111111111, \"recall\": 0.3333333333333333}, {\"count\": 3, \"cutoff\": 10, \"User-ID\": 61709, \"precision\": 0.1, \"recall\": 0.3333333333333333}, {\"count\": 3, \"cutoff\": 11, \"User-ID\": 61709, \"precision\": 0.09090909090909091, \"recall\": 0.3333333333333333}, {\"count\": 3, \"cutoff\": 16, \"User-ID\": 61709, \"precision\": 0.0625, \"recall\": 0.3333333333333333}, {\"count\": 3, \"cutoff\": 21, \"User-ID\": 61709, \"precision\": 0.047619047619047616, \"recall\": 0.3333333333333333}, {\"count\": 3, \"cutoff\": 26, \"User-ID\": 61709, \"precision\": 0.07692307692307693, \"recall\": 0.6666666666666666}, {\"count\": 3, \"cutoff\": 31, \"User-ID\": 61709, \"precision\": 0.06451612903225806, \"recall\": 0.6666666666666666}, {\"count\": 3, \"cutoff\": 36, \"User-ID\": 61709, \"precision\": 0.05555555555555555, \"recall\": 0.6666666666666666}, {\"count\": 3, \"cutoff\": 41, \"User-ID\": 61709, \"precision\": 0.04878048780487805, \"recall\": 0.6666666666666666}, {\"count\": 3, \"cutoff\": 46, \"User-ID\": 61709, \"precision\": 0.043478260869565216, \"recall\": 0.6666666666666666}, {\"count\": 12, \"cutoff\": 1, \"User-ID\": 61809, \"precision\": 1.0, \"recall\": 0.08333333333333333}, {\"count\": 12, \"cutoff\": 2, \"User-ID\": 61809, \"precision\": 1.0, \"recall\": 0.16666666666666666}, {\"count\": 12, \"cutoff\": 3, \"User-ID\": 61809, \"precision\": 1.0, \"recall\": 0.25}, {\"count\": 12, \"cutoff\": 4, \"User-ID\": 61809, \"precision\": 1.0, \"recall\": 0.3333333333333333}, {\"count\": 12, \"cutoff\": 5, \"User-ID\": 61809, \"precision\": 1.0, \"recall\": 0.4166666666666667}, {\"count\": 12, \"cutoff\": 6, \"User-ID\": 61809, \"precision\": 0.8333333333333334, \"recall\": 0.4166666666666667}, {\"count\": 12, \"cutoff\": 7, \"User-ID\": 61809, \"precision\": 0.8571428571428571, \"recall\": 0.5}, {\"count\": 12, \"cutoff\": 8, \"User-ID\": 61809, \"precision\": 0.875, \"recall\": 0.5833333333333334}, {\"count\": 12, \"cutoff\": 9, \"User-ID\": 61809, \"precision\": 0.7777777777777778, \"recall\": 0.5833333333333334}, {\"count\": 12, \"cutoff\": 10, \"User-ID\": 61809, \"precision\": 0.8, \"recall\": 0.6666666666666666}, {\"count\": 12, \"cutoff\": 11, \"User-ID\": 61809, \"precision\": 0.7272727272727273, \"recall\": 0.6666666666666666}, {\"count\": 12, \"cutoff\": 16, \"User-ID\": 61809, \"precision\": 0.5625, \"recall\": 0.75}, {\"count\": 12, \"cutoff\": 21, \"User-ID\": 61809, \"precision\": 0.5238095238095238, \"recall\": 0.9166666666666666}, {\"count\": 12, \"cutoff\": 26, \"User-ID\": 61809, \"precision\": 0.4230769230769231, \"recall\": 0.9166666666666666}, {\"count\": 12, \"cutoff\": 31, \"User-ID\": 61809, \"precision\": 0.3548387096774194, \"recall\": 0.9166666666666666}, {\"count\": 12, \"cutoff\": 36, \"User-ID\": 61809, \"precision\": 0.3055555555555556, \"recall\": 0.9166666666666666}, {\"count\": 12, \"cutoff\": 41, \"User-ID\": 61809, \"precision\": 0.2926829268292683, \"recall\": 1.0}, {\"count\": 12, \"cutoff\": 46, \"User-ID\": 61809, \"precision\": 0.2608695652173913, \"recall\": 1.0}, {\"count\": 6, \"cutoff\": 1, \"User-ID\": 61869, \"precision\": 1.0, \"recall\": 0.16666666666666666}, {\"count\": 6, \"cutoff\": 2, \"User-ID\": 61869, \"precision\": 1.0, \"recall\": 0.3333333333333333}, {\"count\": 6, \"cutoff\": 3, \"User-ID\": 61869, \"precision\": 0.6666666666666666, \"recall\": 0.3333333333333333}, {\"count\": 6, \"cutoff\": 4, \"User-ID\": 61869, \"precision\": 0.5, \"recall\": 0.3333333333333333}, {\"count\": 6, \"cutoff\": 5, \"User-ID\": 61869, \"precision\": 0.4, \"recall\": 0.3333333333333333}, {\"count\": 6, \"cutoff\": 6, \"User-ID\": 61869, \"precision\": 0.3333333333333333, \"recall\": 0.3333333333333333}, {\"count\": 6, \"cutoff\": 7, \"User-ID\": 61869, \"precision\": 0.2857142857142857, \"recall\": 0.3333333333333333}, {\"count\": 6, \"cutoff\": 8, \"User-ID\": 61869, \"precision\": 0.375, \"recall\": 0.5}, {\"count\": 6, \"cutoff\": 9, \"User-ID\": 61869, \"precision\": 0.3333333333333333, \"recall\": 0.5}, {\"count\": 6, \"cutoff\": 10, \"User-ID\": 61869, \"precision\": 0.4, \"recall\": 0.6666666666666666}, {\"count\": 6, \"cutoff\": 11, \"User-ID\": 61869, \"precision\": 0.36363636363636365, \"recall\": 0.6666666666666666}, {\"count\": 6, \"cutoff\": 16, \"User-ID\": 61869, \"precision\": 0.375, \"recall\": 1.0}, {\"count\": 6, \"cutoff\": 21, \"User-ID\": 61869, \"precision\": 0.2857142857142857, \"recall\": 1.0}, {\"count\": 6, \"cutoff\": 26, \"User-ID\": 61869, \"precision\": 0.23076923076923078, \"recall\": 1.0}, {\"count\": 6, \"cutoff\": 31, \"User-ID\": 61869, \"precision\": 0.1935483870967742, \"recall\": 1.0}, {\"count\": 6, \"cutoff\": 36, \"User-ID\": 61869, \"precision\": 0.16666666666666666, \"recall\": 1.0}, {\"count\": 6, \"cutoff\": 41, \"User-ID\": 61869, \"precision\": 0.14634146341463414, \"recall\": 1.0}, {\"count\": 6, \"cutoff\": 46, \"User-ID\": 61869, \"precision\": 0.13043478260869565, \"recall\": 1.0}, {\"count\": 7, \"cutoff\": 1, \"User-ID\": 63278, \"precision\": 0.0, \"recall\": 0.0}, {\"count\": 7, \"cutoff\": 2, \"User-ID\": 63278, \"precision\": 0.0, \"recall\": 0.0}, {\"count\": 7, \"cutoff\": 3, \"User-ID\": 63278, \"precision\": 0.3333333333333333, \"recall\": 0.14285714285714285}, {\"count\": 7, \"cutoff\": 4, \"User-ID\": 63278, \"precision\": 0.5, \"recall\": 0.2857142857142857}, {\"count\": 7, \"cutoff\": 5, \"User-ID\": 63278, \"precision\": 0.4, \"recall\": 0.2857142857142857}, {\"count\": 7, \"cutoff\": 6, \"User-ID\": 63278, \"precision\": 0.5, \"recall\": 0.42857142857142855}, {\"count\": 7, \"cutoff\": 7, \"User-ID\": 63278, \"precision\": 0.42857142857142855, \"recall\": 0.42857142857142855}, {\"count\": 7, \"cutoff\": 8, \"User-ID\": 63278, \"precision\": 0.5, \"recall\": 0.5714285714285714}, {\"count\": 7, \"cutoff\": 9, \"User-ID\": 63278, \"precision\": 0.5555555555555556, \"recall\": 0.7142857142857143}, {\"count\": 7, \"cutoff\": 10, \"User-ID\": 63278, \"precision\": 0.5, \"recall\": 0.7142857142857143}, {\"count\": 7, \"cutoff\": 11, \"User-ID\": 63278, \"precision\": 0.45454545454545453, \"recall\": 0.7142857142857143}, {\"count\": 7, \"cutoff\": 16, \"User-ID\": 63278, \"precision\": 0.375, \"recall\": 0.8571428571428571}, {\"count\": 7, \"cutoff\": 21, \"User-ID\": 63278, \"precision\": 0.2857142857142857, \"recall\": 0.8571428571428571}, {\"count\": 7, \"cutoff\": 26, \"User-ID\": 63278, \"precision\": 0.23076923076923078, \"recall\": 0.8571428571428571}, {\"count\": 7, \"cutoff\": 31, \"User-ID\": 63278, \"precision\": 0.1935483870967742, \"recall\": 0.8571428571428571}, {\"count\": 7, \"cutoff\": 36, \"User-ID\": 63278, \"precision\": 0.16666666666666666, \"recall\": 0.8571428571428571}, {\"count\": 7, \"cutoff\": 41, \"User-ID\": 63278, \"precision\": 0.14634146341463414, \"recall\": 0.8571428571428571}, {\"count\": 7, \"cutoff\": 46, \"User-ID\": 63278, \"precision\": 0.15217391304347827, \"recall\": 1.0}, {\"count\": 1, \"cutoff\": 1, \"User-ID\": 63290, \"precision\": 0.0, \"recall\": 0.0}, {\"count\": 1, \"cutoff\": 2, \"User-ID\": 63290, \"precision\": 0.0, \"recall\": 0.0}, {\"count\": 1, \"cutoff\": 3, \"User-ID\": 63290, \"precision\": 0.0, \"recall\": 0.0}, {\"count\": 1, \"cutoff\": 4, \"User-ID\": 63290, \"precision\": 0.0, \"recall\": 0.0}, {\"count\": 1, \"cutoff\": 5, \"User-ID\": 63290, \"precision\": 0.0, \"recall\": 0.0}, {\"count\": 1, \"cutoff\": 6, \"User-ID\": 63290, \"precision\": 0.0, \"recall\": 0.0}, {\"count\": 1, \"cutoff\": 7, \"User-ID\": 63290, \"precision\": 0.0, \"recall\": 0.0}, {\"count\": 1, \"cutoff\": 8, \"User-ID\": 63290, \"precision\": 0.0, \"recall\": 0.0}, {\"count\": 1, \"cutoff\": 9, \"User-ID\": 63290, \"precision\": 0.0, \"recall\": 0.0}, {\"count\": 1, \"cutoff\": 10, \"User-ID\": 63290, \"precision\": 0.0, \"recall\": 0.0}, {\"count\": 1, \"cutoff\": 11, \"User-ID\": 63290, \"precision\": 0.0, \"recall\": 0.0}, {\"count\": 1, \"cutoff\": 16, \"User-ID\": 63290, \"precision\": 0.0, \"recall\": 0.0}, {\"count\": 1, \"cutoff\": 21, \"User-ID\": 63290, \"precision\": 0.047619047619047616, \"recall\": 1.0}, {\"count\": 1, \"cutoff\": 26, \"User-ID\": 63290, \"precision\": 0.038461538461538464, \"recall\": 1.0}, {\"count\": 1, \"cutoff\": 31, \"User-ID\": 63290, \"precision\": 0.03225806451612903, \"recall\": 1.0}, {\"count\": 1, \"cutoff\": 36, \"User-ID\": 63290, \"precision\": 0.027777777777777776, \"recall\": 1.0}, {\"count\": 1, \"cutoff\": 41, \"User-ID\": 63290, \"precision\": 0.024390243902439025, \"recall\": 1.0}, {\"count\": 1, \"cutoff\": 46, \"User-ID\": 63290, \"precision\": 0.021739130434782608, \"recall\": 1.0}, {\"count\": 2, \"cutoff\": 1, \"User-ID\": 63472, \"precision\": 0.0, \"recall\": 0.0}, {\"count\": 2, \"cutoff\": 2, \"User-ID\": 63472, \"precision\": 0.0, \"recall\": 0.0}, {\"count\": 2, \"cutoff\": 3, \"User-ID\": 63472, \"precision\": 0.0, \"recall\": 0.0}, {\"count\": 2, \"cutoff\": 4, \"User-ID\": 63472, \"precision\": 0.0, \"recall\": 0.0}, {\"count\": 2, \"cutoff\": 5, \"User-ID\": 63472, \"precision\": 0.0, \"recall\": 0.0}, {\"count\": 2, \"cutoff\": 6, \"User-ID\": 63472, \"precision\": 0.0, \"recall\": 0.0}, {\"count\": 2, \"cutoff\": 7, \"User-ID\": 63472, \"precision\": 0.0, \"recall\": 0.0}, {\"count\": 2, \"cutoff\": 8, \"User-ID\": 63472, \"precision\": 0.0, \"recall\": 0.0}, {\"count\": 2, \"cutoff\": 9, \"User-ID\": 63472, \"precision\": 0.0, \"recall\": 0.0}, {\"count\": 2, \"cutoff\": 10, \"User-ID\": 63472, \"precision\": 0.0, \"recall\": 0.0}, {\"count\": 2, \"cutoff\": 11, \"User-ID\": 63472, \"precision\": 0.0, \"recall\": 0.0}, {\"count\": 2, \"cutoff\": 16, \"User-ID\": 63472, \"precision\": 0.0, \"recall\": 0.0}, {\"count\": 2, \"cutoff\": 21, \"User-ID\": 63472, \"precision\": 0.0, \"recall\": 0.0}, {\"count\": 2, \"cutoff\": 26, \"User-ID\": 63472, \"precision\": 0.0, \"recall\": 0.0}, {\"count\": 2, \"cutoff\": 31, \"User-ID\": 63472, \"precision\": 0.0, \"recall\": 0.0}, {\"count\": 2, \"cutoff\": 36, \"User-ID\": 63472, \"precision\": 0.0, \"recall\": 0.0}, {\"count\": 2, \"cutoff\": 41, \"User-ID\": 63472, \"precision\": 0.024390243902439025, \"recall\": 0.5}, {\"count\": 2, \"cutoff\": 46, \"User-ID\": 63472, \"precision\": 0.021739130434782608, \"recall\": 0.5}]}]]}, e);\n",
       "                });\n",
       "            })();\n",
       "        "
      ]
     },
     "metadata": {},
     "output_type": "display_data"
    }
   ],
   "source": [
    "comparisonstruct = gl.compare(test,models)\n",
    "gl.show_comparison(comparisonstruct,models)"
   ]
  },
  {
   "cell_type": "markdown",
   "metadata": {},
   "source": [
    "This fascinating graph shows the performance of each of the tested models. Models 1 - 4 sort of behave similarly converging together. Model 0 really stands out with higher cut offs. Looking closer at Model 0 below:"
   ]
  },
  {
   "cell_type": "code",
   "execution_count": 136,
   "metadata": {
    "collapsed": false
   },
   "outputs": [
    {
     "data": {
      "text/plain": [
       "Class                            : RankingFactorizationRecommender\n",
       "\n",
       "Schema\n",
       "------\n",
       "User ID                          : User-ID\n",
       "Item ID                          : Item-ID\n",
       "Target                           : rating\n",
       "Additional observation features  : 1\n",
       "User side features               : []\n",
       "Item side features               : []\n",
       "\n",
       "Statistics\n",
       "----------\n",
       "Number of observations           : 1760844\n",
       "Number of users                  : 59132\n",
       "Number of items                  : 140\n",
       "\n",
       "Training summary\n",
       "----------------\n",
       "Training time                    : 32.5761\n",
       "\n",
       "Model Parameters\n",
       "----------------\n",
       "Model class                      : RankingFactorizationRecommender\n",
       "num_factors                      : 8\n",
       "binary_target                    : 0\n",
       "side_data_factorization          : 1\n",
       "solver                           : auto\n",
       "nmf                              : 0\n",
       "max_iterations                   : 25\n",
       "\n",
       "Regularization Settings\n",
       "-----------------------\n",
       "regularization                   : 0.001\n",
       "regularization_type              : normal\n",
       "linear_regularization            : 0.001\n",
       "ranking_regularization           : 0.1\n",
       "unobserved_rating_value          : -1.79769313486e+308\n",
       "num_sampled_negative_examples    : 4\n",
       "ials_confidence_scaling_type     : auto\n",
       "ials_confidence_scaling_factor   : 1\n",
       "\n",
       "Optimization Settings\n",
       "---------------------\n",
       "init_random_sigma                : 0.01\n",
       "sgd_convergence_interval         : 4\n",
       "sgd_convergence_threshold        : 0.0\n",
       "sgd_max_trial_iterations         : 5\n",
       "sgd_sampling_block_size          : 131072\n",
       "sgd_step_adjustment_interval     : 4\n",
       "sgd_step_size                    : 0.0\n",
       "sgd_trial_sample_minimum_size    : 10000\n",
       "sgd_trial_sample_proportion      : 0.125\n",
       "step_size_decrease_rate          : 0.75\n",
       "additional_iterations_if_unhealthy : 5\n",
       "adagrad_momentum_weighting       : 0.9\n",
       "num_tempering_iterations         : 4\n",
       "tempering_regularization_start_value : 0.0\n",
       "track_exact_loss                 : 0"
      ]
     },
     "execution_count": 136,
     "metadata": {},
     "output_type": "execute_result"
    }
   ],
   "source": [
    "models[0]"
   ]
  },
  {
   "cell_type": "markdown",
   "metadata": {
    "collapsed": true
   },
   "source": [
    "## Deployment:  \n",
    "\n",
    "This model may be deployed to provide recommendations to users for jokes that they have not yet ranked. As users rank more jokes the model may be retrained to take into account the new information to provide a better recommender and to prevent recommendations of already rated jokes."
   ]
  },
  {
   "cell_type": "code",
   "execution_count": 147,
   "metadata": {
    "collapsed": false
   },
   "outputs": [
    {
     "data": {
      "text/html": [
       "<div>\n",
       "<table border=\"1\" class=\"dataframe\">\n",
       "  <thead>\n",
       "    <tr style=\"text-align: right;\">\n",
       "      <th></th>\n",
       "      <th>User-ID</th>\n",
       "      <th>Item-ID</th>\n",
       "      <th>score</th>\n",
       "      <th>rank</th>\n",
       "      <th>Joke</th>\n",
       "    </tr>\n",
       "  </thead>\n",
       "  <tbody>\n",
       "    <tr>\n",
       "      <th>0</th>\n",
       "      <td>1</td>\n",
       "      <td>129</td>\n",
       "      <td>2.701519</td>\n",
       "      <td>1</td>\n",
       "      <td>A group of girlfriends is on vacation when the...</td>\n",
       "    </tr>\n",
       "    <tr>\n",
       "      <th>1</th>\n",
       "      <td>1</td>\n",
       "      <td>114</td>\n",
       "      <td>2.670602</td>\n",
       "      <td>2</td>\n",
       "      <td>Sherlock Holmes and Dr. Watson go on a camping...</td>\n",
       "    </tr>\n",
       "    <tr>\n",
       "      <th>2</th>\n",
       "      <td>1</td>\n",
       "      <td>117</td>\n",
       "      <td>2.615035</td>\n",
       "      <td>3</td>\n",
       "      <td>A man joins a big corporate empire as a traine...</td>\n",
       "    </tr>\n",
       "    <tr>\n",
       "      <th>3</th>\n",
       "      <td>1</td>\n",
       "      <td>150</td>\n",
       "      <td>2.563719</td>\n",
       "      <td>4</td>\n",
       "      <td>In an interview with David Letterman, Carter p...</td>\n",
       "    </tr>\n",
       "    <tr>\n",
       "      <th>4</th>\n",
       "      <td>1</td>\n",
       "      <td>126</td>\n",
       "      <td>2.535642</td>\n",
       "      <td>5</td>\n",
       "      <td>A Briton, a Frenchman and a Russian are viewin...</td>\n",
       "    </tr>\n",
       "  </tbody>\n",
       "</table>\n",
       "</div>"
      ],
      "text/plain": [
       "   User-ID  Item-ID     score  rank  \\\n",
       "0        1      129  2.701519     1   \n",
       "1        1      114  2.670602     2   \n",
       "2        1      117  2.615035     3   \n",
       "3        1      150  2.563719     4   \n",
       "4        1      126  2.535642     5   \n",
       "\n",
       "                                                Joke  \n",
       "0  A group of girlfriends is on vacation when the...  \n",
       "1  Sherlock Holmes and Dr. Watson go on a camping...  \n",
       "2  A man joins a big corporate empire as a traine...  \n",
       "3  In an interview with David Letterman, Carter p...  \n",
       "4  A Briton, a Frenchman and a Russian are viewin...  "
      ]
     },
     "execution_count": 147,
     "metadata": {},
     "output_type": "execute_result"
    }
   ],
   "source": [
    "deploy = models[0].recommend(users=[1], k=5)\n",
    "deploydf = deploy.to_dataframe()\n",
    "deployframe = pd.merge(deploydf, df2, how = 'left', on = 'Item-ID')\n",
    "deployframe"
   ]
  },
  {
   "cell_type": "code",
   "execution_count": null,
   "metadata": {
    "collapsed": true
   },
   "outputs": [],
   "source": []
  }
 ],
 "metadata": {
  "kernelspec": {
   "display_name": "Python 2",
   "language": "python",
   "name": "python2"
  },
  "language_info": {
   "codemirror_mode": {
    "name": "ipython",
    "version": 2
   },
   "file_extension": ".py",
   "mimetype": "text/x-python",
   "name": "python",
   "nbconvert_exporter": "python",
   "pygments_lexer": "ipython2",
   "version": "2.7.13"
  }
 },
 "nbformat": 4,
 "nbformat_minor": 1
}
